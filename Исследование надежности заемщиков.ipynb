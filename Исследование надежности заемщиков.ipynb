{
 "cells": [
  {
   "cell_type": "markdown",
   "id": "11bc6f7c",
   "metadata": {
    "deletable": false,
    "editable": false,
    "id": "c81daeeb"
   },
   "source": [
    "# Исследование надежности заемщиков\n"
   ]
  },
  {
   "cell_type": "markdown",
   "id": "cfb43a1d",
   "metadata": {
    "deletable": false,
    "editable": false,
    "id": "827c20bf"
   },
  {
   "cell_type": "markdown",
   "id": "c701f641",
   "metadata": {},
   "source": [
    "Заказчик — кредитный отдел банка. \n",
    "\n",
    "Заказчик — кредитный отдел банка. Нужно разобраться, влияет ли семейное положение и количество детей клиента на факт погашения кредита в срок. \n",
    "\n",
    "Входные данные от банка — статистика о платёжеспособности клиентов.\n",
    "Результаты исследования будут учтены при построении модели кредитного скоринга — специальной системы, которая оценивает способность потенциального заёмщика вернуть кредит банку.\n",
    "\n",
    "**Цель исследования** — проверка гипотез:\n",
    "1. Существует зависисмость между вероятность задержки выплаты кредита и наличием/количеством детей у клиента.\n",
    "2. Существует зависисмость между вероятность задержки выплаты кредита и семейным положением клиента.\n",
    "3. Существует зависисмость между вероятность задержки выплаты кредита и уровнем дохода.\n",
    "3. Существует зависисмость между вероятность задержки выплаты кредита и целью взятия кредита."
   ]
  },
  {
   "cell_type": "markdown",
   "id": "fc6c271b",
   "metadata": {
    "deletable": false,
    "editable": false,
    "id": "744d7639"
   },
   "source": [
    "## Откройте таблицу и изучите общую информацию о данных"
   ]
  },
  {
   "cell_type": "markdown",
   "id": "871cb7ff",
   "metadata": {
    "deletable": false,
    "editable": false,
    "id": "e7a14c31"
   },
   "source": [
    "**Задание 1. Импортируйте библиотеку pandas. Считайте данные из csv-файла в датафрейм и сохраните в переменную `data`. Путь к файлу:**\n",
    "\n",
    "`/datasets/data.csv`"
   ]
  },
  {
   "cell_type": "code",
   "execution_count": 167,
   "id": "44197c5f",
   "metadata": {
    "deletable": false,
    "id": "7bcf75c9"
   },
   "outputs": [],
   "source": [
    "import pandas as pd\n",
    "\n",
    "try:\n",
    "    data = pd.read_csv('/datasets/data.csv')\n",
    "except:\n",
    "    data = pd.read_csv('https://code.s3.yandex.net/datasets/data.csv')"
   ]
  },
  {
   "cell_type": "markdown",
   "id": "23860f03",
   "metadata": {
    "deletable": false,
    "editable": false,
    "id": "b8038fe3"
   },
   "source": [
    "**Задание 2. Выведите первые 20 строчек датафрейма `data` на экран.**"
   ]
  },
  {
   "cell_type": "code",
   "execution_count": 168,
   "id": "3f6fb10f",
   "metadata": {
    "deletable": false,
    "id": "2a7cab99",
    "outputId": "1a8f3ef2-d323-4ec2-ddf7-89670b5944c4"
   },
   "outputs": [
    {
     "data": {
      "text/html": [
       "<div>\n",
       "<style scoped>\n",
       "    .dataframe tbody tr th:only-of-type {\n",
       "        vertical-align: middle;\n",
       "    }\n",
       "\n",
       "    .dataframe tbody tr th {\n",
       "        vertical-align: top;\n",
       "    }\n",
       "\n",
       "    .dataframe thead th {\n",
       "        text-align: right;\n",
       "    }\n",
       "</style>\n",
       "<table border=\"1\" class=\"dataframe\">\n",
       "  <thead>\n",
       "    <tr style=\"text-align: right;\">\n",
       "      <th></th>\n",
       "      <th>children</th>\n",
       "      <th>days_employed</th>\n",
       "      <th>dob_years</th>\n",
       "      <th>education</th>\n",
       "      <th>education_id</th>\n",
       "      <th>family_status</th>\n",
       "      <th>family_status_id</th>\n",
       "      <th>gender</th>\n",
       "      <th>income_type</th>\n",
       "      <th>debt</th>\n",
       "      <th>total_income</th>\n",
       "      <th>purpose</th>\n",
       "    </tr>\n",
       "  </thead>\n",
       "  <tbody>\n",
       "    <tr>\n",
       "      <th>0</th>\n",
       "      <td>1</td>\n",
       "      <td>-8437.673028</td>\n",
       "      <td>42</td>\n",
       "      <td>высшее</td>\n",
       "      <td>0</td>\n",
       "      <td>женат / замужем</td>\n",
       "      <td>0</td>\n",
       "      <td>F</td>\n",
       "      <td>сотрудник</td>\n",
       "      <td>0</td>\n",
       "      <td>253875.639453</td>\n",
       "      <td>покупка жилья</td>\n",
       "    </tr>\n",
       "    <tr>\n",
       "      <th>1</th>\n",
       "      <td>1</td>\n",
       "      <td>-4024.803754</td>\n",
       "      <td>36</td>\n",
       "      <td>среднее</td>\n",
       "      <td>1</td>\n",
       "      <td>женат / замужем</td>\n",
       "      <td>0</td>\n",
       "      <td>F</td>\n",
       "      <td>сотрудник</td>\n",
       "      <td>0</td>\n",
       "      <td>112080.014102</td>\n",
       "      <td>приобретение автомобиля</td>\n",
       "    </tr>\n",
       "    <tr>\n",
       "      <th>2</th>\n",
       "      <td>0</td>\n",
       "      <td>-5623.422610</td>\n",
       "      <td>33</td>\n",
       "      <td>Среднее</td>\n",
       "      <td>1</td>\n",
       "      <td>женат / замужем</td>\n",
       "      <td>0</td>\n",
       "      <td>M</td>\n",
       "      <td>сотрудник</td>\n",
       "      <td>0</td>\n",
       "      <td>145885.952297</td>\n",
       "      <td>покупка жилья</td>\n",
       "    </tr>\n",
       "    <tr>\n",
       "      <th>3</th>\n",
       "      <td>3</td>\n",
       "      <td>-4124.747207</td>\n",
       "      <td>32</td>\n",
       "      <td>среднее</td>\n",
       "      <td>1</td>\n",
       "      <td>женат / замужем</td>\n",
       "      <td>0</td>\n",
       "      <td>M</td>\n",
       "      <td>сотрудник</td>\n",
       "      <td>0</td>\n",
       "      <td>267628.550329</td>\n",
       "      <td>дополнительное образование</td>\n",
       "    </tr>\n",
       "    <tr>\n",
       "      <th>4</th>\n",
       "      <td>0</td>\n",
       "      <td>340266.072047</td>\n",
       "      <td>53</td>\n",
       "      <td>среднее</td>\n",
       "      <td>1</td>\n",
       "      <td>гражданский брак</td>\n",
       "      <td>1</td>\n",
       "      <td>F</td>\n",
       "      <td>пенсионер</td>\n",
       "      <td>0</td>\n",
       "      <td>158616.077870</td>\n",
       "      <td>сыграть свадьбу</td>\n",
       "    </tr>\n",
       "    <tr>\n",
       "      <th>5</th>\n",
       "      <td>0</td>\n",
       "      <td>-926.185831</td>\n",
       "      <td>27</td>\n",
       "      <td>высшее</td>\n",
       "      <td>0</td>\n",
       "      <td>гражданский брак</td>\n",
       "      <td>1</td>\n",
       "      <td>M</td>\n",
       "      <td>компаньон</td>\n",
       "      <td>0</td>\n",
       "      <td>255763.565419</td>\n",
       "      <td>покупка жилья</td>\n",
       "    </tr>\n",
       "    <tr>\n",
       "      <th>6</th>\n",
       "      <td>0</td>\n",
       "      <td>-2879.202052</td>\n",
       "      <td>43</td>\n",
       "      <td>высшее</td>\n",
       "      <td>0</td>\n",
       "      <td>женат / замужем</td>\n",
       "      <td>0</td>\n",
       "      <td>F</td>\n",
       "      <td>компаньон</td>\n",
       "      <td>0</td>\n",
       "      <td>240525.971920</td>\n",
       "      <td>операции с жильем</td>\n",
       "    </tr>\n",
       "    <tr>\n",
       "      <th>7</th>\n",
       "      <td>0</td>\n",
       "      <td>-152.779569</td>\n",
       "      <td>50</td>\n",
       "      <td>СРЕДНЕЕ</td>\n",
       "      <td>1</td>\n",
       "      <td>женат / замужем</td>\n",
       "      <td>0</td>\n",
       "      <td>M</td>\n",
       "      <td>сотрудник</td>\n",
       "      <td>0</td>\n",
       "      <td>135823.934197</td>\n",
       "      <td>образование</td>\n",
       "    </tr>\n",
       "    <tr>\n",
       "      <th>8</th>\n",
       "      <td>2</td>\n",
       "      <td>-6929.865299</td>\n",
       "      <td>35</td>\n",
       "      <td>ВЫСШЕЕ</td>\n",
       "      <td>0</td>\n",
       "      <td>гражданский брак</td>\n",
       "      <td>1</td>\n",
       "      <td>F</td>\n",
       "      <td>сотрудник</td>\n",
       "      <td>0</td>\n",
       "      <td>95856.832424</td>\n",
       "      <td>на проведение свадьбы</td>\n",
       "    </tr>\n",
       "    <tr>\n",
       "      <th>9</th>\n",
       "      <td>0</td>\n",
       "      <td>-2188.756445</td>\n",
       "      <td>41</td>\n",
       "      <td>среднее</td>\n",
       "      <td>1</td>\n",
       "      <td>женат / замужем</td>\n",
       "      <td>0</td>\n",
       "      <td>M</td>\n",
       "      <td>сотрудник</td>\n",
       "      <td>0</td>\n",
       "      <td>144425.938277</td>\n",
       "      <td>покупка жилья для семьи</td>\n",
       "    </tr>\n",
       "    <tr>\n",
       "      <th>10</th>\n",
       "      <td>2</td>\n",
       "      <td>-4171.483647</td>\n",
       "      <td>36</td>\n",
       "      <td>высшее</td>\n",
       "      <td>0</td>\n",
       "      <td>женат / замужем</td>\n",
       "      <td>0</td>\n",
       "      <td>M</td>\n",
       "      <td>компаньон</td>\n",
       "      <td>0</td>\n",
       "      <td>113943.491460</td>\n",
       "      <td>покупка недвижимости</td>\n",
       "    </tr>\n",
       "    <tr>\n",
       "      <th>11</th>\n",
       "      <td>0</td>\n",
       "      <td>-792.701887</td>\n",
       "      <td>40</td>\n",
       "      <td>среднее</td>\n",
       "      <td>1</td>\n",
       "      <td>женат / замужем</td>\n",
       "      <td>0</td>\n",
       "      <td>F</td>\n",
       "      <td>сотрудник</td>\n",
       "      <td>0</td>\n",
       "      <td>77069.234271</td>\n",
       "      <td>покупка коммерческой недвижимости</td>\n",
       "    </tr>\n",
       "    <tr>\n",
       "      <th>12</th>\n",
       "      <td>0</td>\n",
       "      <td>NaN</td>\n",
       "      <td>65</td>\n",
       "      <td>среднее</td>\n",
       "      <td>1</td>\n",
       "      <td>гражданский брак</td>\n",
       "      <td>1</td>\n",
       "      <td>M</td>\n",
       "      <td>пенсионер</td>\n",
       "      <td>0</td>\n",
       "      <td>NaN</td>\n",
       "      <td>сыграть свадьбу</td>\n",
       "    </tr>\n",
       "    <tr>\n",
       "      <th>13</th>\n",
       "      <td>0</td>\n",
       "      <td>-1846.641941</td>\n",
       "      <td>54</td>\n",
       "      <td>неоконченное высшее</td>\n",
       "      <td>2</td>\n",
       "      <td>женат / замужем</td>\n",
       "      <td>0</td>\n",
       "      <td>F</td>\n",
       "      <td>сотрудник</td>\n",
       "      <td>0</td>\n",
       "      <td>130458.228857</td>\n",
       "      <td>приобретение автомобиля</td>\n",
       "    </tr>\n",
       "    <tr>\n",
       "      <th>14</th>\n",
       "      <td>0</td>\n",
       "      <td>-1844.956182</td>\n",
       "      <td>56</td>\n",
       "      <td>высшее</td>\n",
       "      <td>0</td>\n",
       "      <td>гражданский брак</td>\n",
       "      <td>1</td>\n",
       "      <td>F</td>\n",
       "      <td>компаньон</td>\n",
       "      <td>1</td>\n",
       "      <td>165127.911772</td>\n",
       "      <td>покупка жилой недвижимости</td>\n",
       "    </tr>\n",
       "    <tr>\n",
       "      <th>15</th>\n",
       "      <td>1</td>\n",
       "      <td>-972.364419</td>\n",
       "      <td>26</td>\n",
       "      <td>среднее</td>\n",
       "      <td>1</td>\n",
       "      <td>женат / замужем</td>\n",
       "      <td>0</td>\n",
       "      <td>F</td>\n",
       "      <td>сотрудник</td>\n",
       "      <td>0</td>\n",
       "      <td>116820.904450</td>\n",
       "      <td>строительство собственной недвижимости</td>\n",
       "    </tr>\n",
       "    <tr>\n",
       "      <th>16</th>\n",
       "      <td>0</td>\n",
       "      <td>-1719.934226</td>\n",
       "      <td>35</td>\n",
       "      <td>среднее</td>\n",
       "      <td>1</td>\n",
       "      <td>женат / замужем</td>\n",
       "      <td>0</td>\n",
       "      <td>F</td>\n",
       "      <td>сотрудник</td>\n",
       "      <td>0</td>\n",
       "      <td>289202.704229</td>\n",
       "      <td>недвижимость</td>\n",
       "    </tr>\n",
       "    <tr>\n",
       "      <th>17</th>\n",
       "      <td>0</td>\n",
       "      <td>-2369.999720</td>\n",
       "      <td>33</td>\n",
       "      <td>высшее</td>\n",
       "      <td>0</td>\n",
       "      <td>гражданский брак</td>\n",
       "      <td>1</td>\n",
       "      <td>M</td>\n",
       "      <td>сотрудник</td>\n",
       "      <td>0</td>\n",
       "      <td>90410.586745</td>\n",
       "      <td>строительство недвижимости</td>\n",
       "    </tr>\n",
       "    <tr>\n",
       "      <th>18</th>\n",
       "      <td>0</td>\n",
       "      <td>400281.136913</td>\n",
       "      <td>53</td>\n",
       "      <td>среднее</td>\n",
       "      <td>1</td>\n",
       "      <td>вдовец / вдова</td>\n",
       "      <td>2</td>\n",
       "      <td>F</td>\n",
       "      <td>пенсионер</td>\n",
       "      <td>0</td>\n",
       "      <td>56823.777243</td>\n",
       "      <td>на покупку подержанного автомобиля</td>\n",
       "    </tr>\n",
       "    <tr>\n",
       "      <th>19</th>\n",
       "      <td>0</td>\n",
       "      <td>-10038.818549</td>\n",
       "      <td>48</td>\n",
       "      <td>СРЕДНЕЕ</td>\n",
       "      <td>1</td>\n",
       "      <td>в разводе</td>\n",
       "      <td>3</td>\n",
       "      <td>F</td>\n",
       "      <td>сотрудник</td>\n",
       "      <td>0</td>\n",
       "      <td>242831.107982</td>\n",
       "      <td>на покупку своего автомобиля</td>\n",
       "    </tr>\n",
       "  </tbody>\n",
       "</table>\n",
       "</div>"
      ],
      "text/plain": [
       "    children  days_employed  dob_years            education  education_id  \\\n",
       "0          1   -8437.673028         42               высшее             0   \n",
       "1          1   -4024.803754         36              среднее             1   \n",
       "2          0   -5623.422610         33              Среднее             1   \n",
       "3          3   -4124.747207         32              среднее             1   \n",
       "4          0  340266.072047         53              среднее             1   \n",
       "5          0    -926.185831         27               высшее             0   \n",
       "6          0   -2879.202052         43               высшее             0   \n",
       "7          0    -152.779569         50              СРЕДНЕЕ             1   \n",
       "8          2   -6929.865299         35               ВЫСШЕЕ             0   \n",
       "9          0   -2188.756445         41              среднее             1   \n",
       "10         2   -4171.483647         36               высшее             0   \n",
       "11         0    -792.701887         40              среднее             1   \n",
       "12         0            NaN         65              среднее             1   \n",
       "13         0   -1846.641941         54  неоконченное высшее             2   \n",
       "14         0   -1844.956182         56               высшее             0   \n",
       "15         1    -972.364419         26              среднее             1   \n",
       "16         0   -1719.934226         35              среднее             1   \n",
       "17         0   -2369.999720         33               высшее             0   \n",
       "18         0  400281.136913         53              среднее             1   \n",
       "19         0  -10038.818549         48              СРЕДНЕЕ             1   \n",
       "\n",
       "       family_status  family_status_id gender income_type  debt  \\\n",
       "0    женат / замужем                 0      F   сотрудник     0   \n",
       "1    женат / замужем                 0      F   сотрудник     0   \n",
       "2    женат / замужем                 0      M   сотрудник     0   \n",
       "3    женат / замужем                 0      M   сотрудник     0   \n",
       "4   гражданский брак                 1      F   пенсионер     0   \n",
       "5   гражданский брак                 1      M   компаньон     0   \n",
       "6    женат / замужем                 0      F   компаньон     0   \n",
       "7    женат / замужем                 0      M   сотрудник     0   \n",
       "8   гражданский брак                 1      F   сотрудник     0   \n",
       "9    женат / замужем                 0      M   сотрудник     0   \n",
       "10   женат / замужем                 0      M   компаньон     0   \n",
       "11   женат / замужем                 0      F   сотрудник     0   \n",
       "12  гражданский брак                 1      M   пенсионер     0   \n",
       "13   женат / замужем                 0      F   сотрудник     0   \n",
       "14  гражданский брак                 1      F   компаньон     1   \n",
       "15   женат / замужем                 0      F   сотрудник     0   \n",
       "16   женат / замужем                 0      F   сотрудник     0   \n",
       "17  гражданский брак                 1      M   сотрудник     0   \n",
       "18    вдовец / вдова                 2      F   пенсионер     0   \n",
       "19         в разводе                 3      F   сотрудник     0   \n",
       "\n",
       "     total_income                                 purpose  \n",
       "0   253875.639453                           покупка жилья  \n",
       "1   112080.014102                 приобретение автомобиля  \n",
       "2   145885.952297                           покупка жилья  \n",
       "3   267628.550329              дополнительное образование  \n",
       "4   158616.077870                         сыграть свадьбу  \n",
       "5   255763.565419                           покупка жилья  \n",
       "6   240525.971920                       операции с жильем  \n",
       "7   135823.934197                             образование  \n",
       "8    95856.832424                   на проведение свадьбы  \n",
       "9   144425.938277                 покупка жилья для семьи  \n",
       "10  113943.491460                    покупка недвижимости  \n",
       "11   77069.234271       покупка коммерческой недвижимости  \n",
       "12            NaN                         сыграть свадьбу  \n",
       "13  130458.228857                 приобретение автомобиля  \n",
       "14  165127.911772              покупка жилой недвижимости  \n",
       "15  116820.904450  строительство собственной недвижимости  \n",
       "16  289202.704229                            недвижимость  \n",
       "17   90410.586745              строительство недвижимости  \n",
       "18   56823.777243      на покупку подержанного автомобиля  \n",
       "19  242831.107982            на покупку своего автомобиля  "
      ]
     },
     "execution_count": 168,
     "metadata": {},
     "output_type": "execute_result"
    }
   ],
   "source": [
    "data.head(20)"
   ]
  },
  {
   "cell_type": "markdown",
   "id": "70ab1e2d",
   "metadata": {
    "deletable": false,
    "editable": false,
    "id": "1c12e233"
   },
   "source": [
    "**Задание 3. Выведите основную информацию о датафрейме с помощью метода `info()`.**"
   ]
  },
  {
   "cell_type": "code",
   "execution_count": 169,
   "id": "3f685d2f",
   "metadata": {
    "deletable": false,
    "id": "2b757bca",
    "outputId": "15376089-8dad-46c9-b520-c05248d43158"
   },
   "outputs": [
    {
     "name": "stdout",
     "output_type": "stream",
     "text": [
      "<class 'pandas.core.frame.DataFrame'>\n",
      "RangeIndex: 21525 entries, 0 to 21524\n",
      "Data columns (total 12 columns):\n",
      " #   Column            Non-Null Count  Dtype  \n",
      "---  ------            --------------  -----  \n",
      " 0   children          21525 non-null  int64  \n",
      " 1   days_employed     19351 non-null  float64\n",
      " 2   dob_years         21525 non-null  int64  \n",
      " 3   education         21525 non-null  object \n",
      " 4   education_id      21525 non-null  int64  \n",
      " 5   family_status     21525 non-null  object \n",
      " 6   family_status_id  21525 non-null  int64  \n",
      " 7   gender            21525 non-null  object \n",
      " 8   income_type       21525 non-null  object \n",
      " 9   debt              21525 non-null  int64  \n",
      " 10  total_income      19351 non-null  float64\n",
      " 11  purpose           21525 non-null  object \n",
      "dtypes: float64(2), int64(5), object(5)\n",
      "memory usage: 2.0+ MB\n"
     ]
    }
   ],
   "source": [
    "data.info()"
   ]
  },
  {
   "cell_type": "markdown",
   "id": "b98d1904",
   "metadata": {
    "deletable": false,
    "editable": false,
    "id": "333ec665"
   },
   "source": [
    "## Предобработка данных"
   ]
  },
  {
   "cell_type": "markdown",
   "id": "6662d67a",
   "metadata": {
    "deletable": false,
    "editable": false,
    "id": "02d92d53"
   },
   "source": [
    "### Удаление пропусков"
   ]
  },
  {
   "cell_type": "markdown",
   "id": "f03ce9f6",
   "metadata": {
    "deletable": false,
    "editable": false,
    "id": "cd84967c"
   },
   "source": [
    "**Задание 4. Выведите количество пропущенных значений для каждого столбца. Используйте комбинацию двух методов.**"
   ]
  },
  {
   "cell_type": "code",
   "execution_count": 170,
   "id": "c21ee38f",
   "metadata": {
    "deletable": false,
    "id": "7f9b2309",
    "outputId": "81f4d817-781c-465c-ed15-91ce4446810d"
   },
   "outputs": [
    {
     "data": {
      "text/plain": [
       "children               0\n",
       "days_employed       2174\n",
       "dob_years              0\n",
       "education              0\n",
       "education_id           0\n",
       "family_status          0\n",
       "family_status_id       0\n",
       "gender                 0\n",
       "income_type            0\n",
       "debt                   0\n",
       "total_income        2174\n",
       "purpose                0\n",
       "dtype: int64"
      ]
     },
     "execution_count": 170,
     "metadata": {},
     "output_type": "execute_result"
    }
   ],
   "source": [
    "data.isna().sum()"
   ]
  },
  {
   "cell_type": "markdown",
   "id": "af00a682",
   "metadata": {
    "deletable": false,
    "editable": false,
    "id": "db86e27b"
   },
   "source": [
    "**Задание 5. В двух столбцах есть пропущенные значения. Один из них — `days_employed`. Пропуски в этом столбце вы обработаете на следующем этапе. Другой столбец с пропущенными значениями — `total_income` — хранит данные о доходах. На сумму дохода сильнее всего влияет тип занятости, поэтому заполнить пропуски в этом столбце нужно медианным значением по каждому типу из столбца `income_type`. Например, у человека с типом занятости `сотрудник` пропуск в столбце `total_income` должен быть заполнен медианным доходом среди всех записей с тем же типом.**"
   ]
  },
  {
   "cell_type": "code",
   "execution_count": 171,
   "id": "858f676c",
   "metadata": {
    "deletable": false,
    "id": "42006a93"
   },
   "outputs": [],
   "source": [
    "for t in data['income_type'].unique():\n",
    "    data.loc[(data['income_type'] == t) & (data['total_income'].isna()), 'total_income'] = \\\n",
    "    data.loc[(data['income_type'] == t), 'total_income'].median()"
   ]
  },
  {
   "cell_type": "markdown",
   "id": "1ff681d4",
   "metadata": {
    "deletable": false,
    "editable": false,
    "id": "89da5ece"
   },
   "source": [
    "### Обработка аномальных значений"
   ]
  },
  {
   "cell_type": "markdown",
   "id": "2e99e593",
   "metadata": {
    "deletable": false,
    "editable": false,
    "id": "57964554"
   },
   "source": [
    "**Задание 6. В данных могут встречаться артефакты (аномалии) — значения, которые не отражают действительность и появились по какой-то ошибке. таким артефактом будет отрицательное количество дней трудового стажа в столбце `days_employed`. Для реальных данных это нормально. Обработайте значения в этом столбце: замените все отрицательные значения положительными с помощью метода `abs()`.**"
   ]
  },
  {
   "cell_type": "code",
   "execution_count": 172,
   "id": "8ed9734c",
   "metadata": {
    "deletable": false,
    "id": "f6f055bf"
   },
   "outputs": [],
   "source": [
    "data['days_employed'] = data['days_employed'].abs()"
   ]
  },
  {
   "cell_type": "markdown",
   "id": "0b37ce78",
   "metadata": {
    "deletable": false,
    "editable": false,
    "id": "6107dd2f"
   },
   "source": [
    "**Задание 7. Для каждого типа занятости выведите медианное значение трудового стажа `days_employed` в днях.**"
   ]
  },
  {
   "cell_type": "code",
   "execution_count": 173,
   "id": "c9f49db4",
   "metadata": {
    "deletable": false,
    "id": "85a5faf6",
    "outputId": "801ef80e-522b-4668-f34e-565af7432bcf"
   },
   "outputs": [
    {
     "data": {
      "text/plain": [
       "income_type\n",
       "безработный        366413.652744\n",
       "в декрете            3296.759962\n",
       "госслужащий          2689.368353\n",
       "компаньон            1547.382223\n",
       "пенсионер          365213.306266\n",
       "предприниматель       520.848083\n",
       "сотрудник            1574.202821\n",
       "студент               578.751554\n",
       "Name: days_employed, dtype: float64"
      ]
     },
     "execution_count": 173,
     "metadata": {},
     "output_type": "execute_result"
    }
   ],
   "source": [
    "data.groupby('income_type')['days_employed'].agg('median')"
   ]
  },
  {
   "cell_type": "markdown",
   "id": "fc434a55",
   "metadata": {
    "deletable": false,
    "editable": false,
    "id": "38d1a030"
   },
   "source": [
    "У двух типов (безработные и пенсионеры) получатся аномально большие значения. Исправить такие значения сложно, поэтому оставьте их как есть. Тем более этот столбец не понадобится вам для исследования."
   ]
  },
  {
   "cell_type": "markdown",
   "id": "f89cb37d",
   "metadata": {
    "deletable": false,
    "editable": false,
    "id": "d8a9f147"
   },
   "source": [
    "**Задание 8. Выведите перечень уникальных значений столбца `children`.**"
   ]
  },
  {
   "cell_type": "code",
   "execution_count": 174,
   "id": "452b6feb",
   "metadata": {
    "deletable": false,
    "id": "ef5056eb",
    "outputId": "6975b15c-7f95-4697-d16d-a0c79b657b03"
   },
   "outputs": [
    {
     "data": {
      "text/plain": [
       "array([ 1,  0,  3,  2, -1,  4, 20,  5])"
      ]
     },
     "execution_count": 174,
     "metadata": {},
     "output_type": "execute_result"
    }
   ],
   "source": [
    "data['children'].unique()"
   ]
  },
  {
   "cell_type": "markdown",
   "id": "58e5aff0",
   "metadata": {
    "deletable": false,
    "editable": false,
    "id": "40b9ebf2"
   },
   "source": [
    "**Задание 9. В столбце `children` есть два аномальных значения. Удалите строки, в которых встречаются такие аномальные значения из датафрейма `data`.**"
   ]
  },
  {
   "cell_type": "code",
   "execution_count": 175,
   "id": "94254032",
   "metadata": {
    "deletable": false,
    "id": "3ff9801d"
   },
   "outputs": [],
   "source": [
    "data = data[(data['children'] != -1) & (data['children'] != 20)]"
   ]
  },
  {
   "cell_type": "markdown",
   "id": "84f98270",
   "metadata": {
    "deletable": false,
    "editable": false,
    "id": "bbc4d0ce"
   },
   "source": [
    "**Задание 10. Ещё раз выведите перечень уникальных значений столбца `children`, чтобы убедиться, что артефакты удалены.**"
   ]
  },
  {
   "cell_type": "code",
   "execution_count": 176,
   "id": "63301a20",
   "metadata": {
    "deletable": false,
    "id": "ad4fa8b7",
    "outputId": "b2097101-d49d-44d9-901b-32a65c9463d1"
   },
   "outputs": [
    {
     "data": {
      "text/plain": [
       "array([1, 0, 3, 2, 4, 5])"
      ]
     },
     "execution_count": 176,
     "metadata": {},
     "output_type": "execute_result"
    }
   ],
   "source": [
    "data['children'].unique()"
   ]
  },
  {
   "cell_type": "markdown",
   "id": "dfd4e7af",
   "metadata": {
    "deletable": false,
    "editable": false,
    "id": "75440b63"
   },
   "source": [
    "### Удаление пропусков (продолжение)"
   ]
  },
  {
   "cell_type": "markdown",
   "id": "bf4aef9a",
   "metadata": {
    "deletable": false,
    "editable": false,
    "id": "f4ea573f"
   },
   "source": [
    "**Задание 11. Заполните пропуски в столбце `days_employed` медианными значениями по каждого типа занятости `income_type`.**"
   ]
  },
  {
   "cell_type": "code",
   "execution_count": 177,
   "id": "6e6706fb",
   "metadata": {
    "deletable": false,
    "id": "af6b1a7e"
   },
   "outputs": [],
   "source": [
    "for t in data['income_type'].unique():\n",
    "    data.loc[(data['income_type'] == t) & (data['days_employed'].isna()), 'days_employed'] = \\\n",
    "    data.loc[(data['income_type'] == t), 'days_employed'].median()"
   ]
  },
  {
   "cell_type": "markdown",
   "id": "6294d763",
   "metadata": {
    "deletable": false,
    "editable": false,
    "id": "2753f40d"
   },
   "source": [
    "**Задание 12. Убедитесь, что все пропуски заполнены. Проверьте себя и ещё раз выведите количество пропущенных значений для каждого столбца с помощью двух методов.**"
   ]
  },
  {
   "cell_type": "code",
   "execution_count": 178,
   "id": "fef3cc98",
   "metadata": {
    "deletable": false,
    "id": "55f78bc2",
    "outputId": "8da1e4e1-358e-4e87-98c9-f261bce0a7b2"
   },
   "outputs": [
    {
     "data": {
      "text/plain": [
       "children            0\n",
       "days_employed       0\n",
       "dob_years           0\n",
       "education           0\n",
       "education_id        0\n",
       "family_status       0\n",
       "family_status_id    0\n",
       "gender              0\n",
       "income_type         0\n",
       "debt                0\n",
       "total_income        0\n",
       "purpose             0\n",
       "dtype: int64"
      ]
     },
     "execution_count": 178,
     "metadata": {},
     "output_type": "execute_result"
    }
   ],
   "source": [
    "data.isna().sum()"
   ]
  },
  {
   "cell_type": "markdown",
   "id": "2b4327c9",
   "metadata": {
    "deletable": false,
    "editable": false,
    "id": "ddc81e43"
   },
   "source": [
    "### Изменение типов данных"
   ]
  },
  {
   "cell_type": "markdown",
   "id": "19c4b070",
   "metadata": {
    "deletable": false,
    "editable": false,
    "id": "42d19d24"
   },
   "source": [
    "**Задание 13. Замените вещественный тип данных в столбце `total_income` на целочисленный с помощью метода `astype()`.**"
   ]
  },
  {
   "cell_type": "code",
   "execution_count": 179,
   "id": "d034587e",
   "metadata": {
    "deletable": false,
    "id": "920b65ad"
   },
   "outputs": [],
   "source": [
    "data['total_income'] = data['total_income'].astype(int)"
   ]
  },
  {
   "cell_type": "markdown",
   "id": "674b78ca",
   "metadata": {
    "deletable": false,
    "editable": false,
    "id": "80c420ba"
   },
   "source": [
    "### Обработка дубликатов"
   ]
  },
  {
   "cell_type": "markdown",
   "id": "2ec194ef",
   "metadata": {
    "deletable": false,
    "editable": false
   },
   "source": [
    "**Задание 14. Обработайте неявные дубликаты в столбце `education`. В этом столбце есть одни и те же значения, но записанные по-разному: с использованием заглавных и строчных букв. Приведите их к нижнему регистру. Проверьте остальные столбцы.**"
   ]
  },
  {
   "cell_type": "code",
   "execution_count": 180,
   "id": "5f8ab097",
   "metadata": {
    "deletable": false
   },
   "outputs": [],
   "source": [
    "data['education'] = data['education'].str.lower()"
   ]
  },
  {
   "cell_type": "markdown",
   "id": "d71ae066",
   "metadata": {
    "deletable": false,
    "editable": false,
    "id": "dc587695"
   },
   "source": [
    "**Задание 15. Выведите на экран количество строк-дубликатов в данных. Если такие строки присутствуют, удалите их.**"
   ]
  },
  {
   "cell_type": "code",
   "execution_count": 181,
   "id": "77dc6d09",
   "metadata": {
    "deletable": false,
    "id": "3ee445e4",
    "outputId": "9684deba-1934-42d1-99e1-cda61740f822"
   },
   "outputs": [
    {
     "data": {
      "text/plain": [
       "71"
      ]
     },
     "execution_count": 181,
     "metadata": {},
     "output_type": "execute_result"
    }
   ],
   "source": [
    "data.duplicated().sum()"
   ]
  },
  {
   "cell_type": "code",
   "execution_count": 182,
   "id": "67a1cb96",
   "metadata": {
    "deletable": false,
    "id": "8575fe05"
   },
   "outputs": [],
   "source": [
    "data = data.drop_duplicates()"
   ]
  },
  {
   "cell_type": "markdown",
   "id": "85ec5627",
   "metadata": {
    "deletable": false,
    "editable": false,
    "id": "9904cf55"
   },
   "source": [
    "### Категоризация данных"
   ]
  },
  {
   "cell_type": "markdown",
   "id": "b8d0e454",
   "metadata": {
    "deletable": false,
    "editable": false,
    "id": "72fcc8a2"
   },
   "source": [
    "**Задание 16. На основании диапазонов, указанных ниже, создайте в датафрейме `data` столбец `total_income_category` с категориями:**\n",
    "\n",
    "- 0–30000 — `'E'`;\n",
    "- 30001–50000 — `'D'`;\n",
    "- 50001–200000 — `'C'`;\n",
    "- 200001–1000000 — `'B'`;\n",
    "- 1000001 и выше — `'A'`.\n",
    "\n",
    "\n",
    "**Например, кредитополучателю с доходом 25000 нужно назначить категорию `'E'`, а клиенту, получающему 235000, — `'B'`. Используйте собственную функцию с именем `categorize_income()` и метод `apply()`.**"
   ]
  },
  {
   "cell_type": "code",
   "execution_count": 183,
   "id": "12de25c0",
   "metadata": {
    "deletable": false,
    "id": "e1771346"
   },
   "outputs": [],
   "source": [
    "def categorize_income(income):\n",
    "    try:\n",
    "        if 0 <= income <= 30000:\n",
    "            return 'E'\n",
    "        elif 30001 <= income <= 50000:\n",
    "            return 'D'\n",
    "        elif 50001 <= income <= 200000:\n",
    "            return 'C'\n",
    "        elif 200001 <= income <= 1000000:\n",
    "            return 'B'\n",
    "        elif income >= 1000001:\n",
    "            return 'A'\n",
    "    except:\n",
    "        pass"
   ]
  },
  {
   "cell_type": "code",
   "execution_count": 184,
   "id": "8631a3b2",
   "metadata": {
    "deletable": false,
    "id": "d5f3586d"
   },
   "outputs": [],
   "source": [
    "data['total_income_category'] = data['total_income'].apply(categorize_income)"
   ]
  },
  {
   "cell_type": "markdown",
   "id": "857dd9d3",
   "metadata": {
    "deletable": false,
    "editable": false,
    "id": "dde49b5c"
   },
   "source": [
    "**Задание 17. Выведите на экран перечень уникальных целей взятия кредита из столбца `purpose`.**"
   ]
  },
  {
   "cell_type": "code",
   "execution_count": 185,
   "id": "e51bcc5b",
   "metadata": {
    "deletable": false,
    "id": "f67ce9b3",
    "outputId": "673c12d9-7d7e-4ae0-9812-c622c89dd244"
   },
   "outputs": [
    {
     "data": {
      "text/plain": [
       "array(['покупка жилья', 'приобретение автомобиля',\n",
       "       'дополнительное образование', 'сыграть свадьбу',\n",
       "       'операции с жильем', 'образование', 'на проведение свадьбы',\n",
       "       'покупка жилья для семьи', 'покупка недвижимости',\n",
       "       'покупка коммерческой недвижимости', 'покупка жилой недвижимости',\n",
       "       'строительство собственной недвижимости', 'недвижимость',\n",
       "       'строительство недвижимости', 'на покупку подержанного автомобиля',\n",
       "       'на покупку своего автомобиля',\n",
       "       'операции с коммерческой недвижимостью',\n",
       "       'строительство жилой недвижимости', 'жилье',\n",
       "       'операции со своей недвижимостью', 'автомобили',\n",
       "       'заняться образованием', 'сделка с подержанным автомобилем',\n",
       "       'получение образования', 'автомобиль', 'свадьба',\n",
       "       'получение дополнительного образования', 'покупка своего жилья',\n",
       "       'операции с недвижимостью', 'получение высшего образования',\n",
       "       'свой автомобиль', 'сделка с автомобилем',\n",
       "       'профильное образование', 'высшее образование',\n",
       "       'покупка жилья для сдачи', 'на покупку автомобиля', 'ремонт жилью',\n",
       "       'заняться высшим образованием'], dtype=object)"
      ]
     },
     "execution_count": 185,
     "metadata": {},
     "output_type": "execute_result"
    }
   ],
   "source": [
    "data['purpose'].unique()"
   ]
  },
  {
   "cell_type": "markdown",
   "id": "1b217fd9",
   "metadata": {
    "deletable": false,
    "editable": false,
    "id": "85d0aef0"
   },
   "source": [
    "**Задание 18. Создайте функцию, которая на основании данных из столбца `purpose` сформирует новый столбец `purpose_category`, в который войдут следующие категории:**\n",
    "\n",
    "- `'операции с автомобилем'`,\n",
    "- `'операции с недвижимостью'`,\n",
    "- `'проведение свадьбы'`,\n",
    "- `'получение образования'`.\n",
    "\n",
    "**Например, если в столбце `purpose` находится подстрока `'на покупку автомобиля'`, то в столбце `purpose_category` должна появиться строка `'операции с автомобилем'`.**\n",
    "\n",
    "**Используйте собственную функцию с именем `categorize_purpose()` и метод `apply()`. Изучите данные в столбце `purpose` и определите, какие подстроки помогут вам правильно определить категорию.**"
   ]
  },
  {
   "cell_type": "code",
   "execution_count": 186,
   "id": "5afe63b2",
   "metadata": {
    "deletable": false,
    "id": "e149fab4"
   },
   "outputs": [],
   "source": [
    "def categorize_purpose(row):\n",
    "    try:\n",
    "        if 'автом' in row:\n",
    "            return 'операции с автомобилем'\n",
    "        elif 'жил' in row or 'недвиж' in row:\n",
    "            return 'операции с недвижимостью'\n",
    "        elif 'свад' in row:\n",
    "            return 'проведение свадьбы'\n",
    "        elif 'образов' in row:\n",
    "            return 'получение образования'\n",
    "    except:\n",
    "        return 'нет категории'"
   ]
  },
  {
   "cell_type": "code",
   "execution_count": 187,
   "id": "95d08a41",
   "metadata": {
    "deletable": false,
    "id": "bf36e69b"
   },
   "outputs": [
    {
     "data": {
      "text/plain": [
       "array(['операции с недвижимостью', 'операции с автомобилем',\n",
       "       'получение образования', 'проведение свадьбы'], dtype=object)"
      ]
     },
     "execution_count": 187,
     "metadata": {},
     "output_type": "execute_result"
    }
   ],
   "source": [
    "data['purpose_category'] = data['purpose'].apply(categorize_purpose)\n",
    "data['purpose_category'].unique()"
   ]
  },
  {
   "cell_type": "markdown",
   "id": "9382eae7",
   "metadata": {
    "deletable": false,
    "editable": false,
    "id": "09b242bf"
   },
   "source": [
    "### Шаг 3. Исследуйте данные и ответьте на вопросы"
   ]
  },
  {
   "cell_type": "markdown",
   "id": "a33a2243",
   "metadata": {
    "deletable": false,
    "editable": false,
    "id": "c5d66278"
   },
   "source": [
    "#### Есть ли зависимость между количеством детей и возвратом кредита в срок?"
   ]
  },
  {
   "cell_type": "code",
   "execution_count": 188,
   "id": "ba0b2929",
   "metadata": {
    "deletable": false,
    "id": "2cacfc4a"
   },
   "outputs": [
    {
     "name": "stdout",
     "output_type": "stream",
     "text": [
      "Процент кредитов взятых людьми с 5-ю детьми: debt    0.04\n",
      "dtype: float64\n",
      "Процент кредитов c задолжностью, взятых людьми с детьми: debt    9.24\n",
      "dtype: float64\n"
     ]
    },
    {
     "data": {
      "text/html": [
       "<div>\n",
       "<style scoped>\n",
       "    .dataframe tbody tr th:only-of-type {\n",
       "        vertical-align: middle;\n",
       "    }\n",
       "\n",
       "    .dataframe tbody tr th {\n",
       "        vertical-align: top;\n",
       "    }\n",
       "\n",
       "    .dataframe thead th {\n",
       "        text-align: right;\n",
       "    }\n",
       "</style>\n",
       "<table border=\"1\" class=\"dataframe\">\n",
       "  <thead>\n",
       "    <tr style=\"text-align: right;\">\n",
       "      <th></th>\n",
       "      <th>Количество задолженностей</th>\n",
       "      <th>Количество кредитов</th>\n",
       "      <th>Процент кредитов с задолжностью</th>\n",
       "    </tr>\n",
       "    <tr>\n",
       "      <th>children</th>\n",
       "      <th></th>\n",
       "      <th></th>\n",
       "      <th></th>\n",
       "    </tr>\n",
       "  </thead>\n",
       "  <tbody>\n",
       "    <tr>\n",
       "      <th>0</th>\n",
       "      <td>1063</td>\n",
       "      <td>14091</td>\n",
       "      <td>7.54</td>\n",
       "    </tr>\n",
       "    <tr>\n",
       "      <th>1</th>\n",
       "      <td>444</td>\n",
       "      <td>4808</td>\n",
       "      <td>9.23</td>\n",
       "    </tr>\n",
       "    <tr>\n",
       "      <th>2</th>\n",
       "      <td>194</td>\n",
       "      <td>2052</td>\n",
       "      <td>9.45</td>\n",
       "    </tr>\n",
       "    <tr>\n",
       "      <th>3</th>\n",
       "      <td>27</td>\n",
       "      <td>330</td>\n",
       "      <td>8.18</td>\n",
       "    </tr>\n",
       "    <tr>\n",
       "      <th>4</th>\n",
       "      <td>4</td>\n",
       "      <td>41</td>\n",
       "      <td>9.76</td>\n",
       "    </tr>\n",
       "    <tr>\n",
       "      <th>5</th>\n",
       "      <td>0</td>\n",
       "      <td>9</td>\n",
       "      <td>0.00</td>\n",
       "    </tr>\n",
       "  </tbody>\n",
       "</table>\n",
       "</div>"
      ],
      "text/plain": [
       "          Количество задолженностей  Количество кредитов  \\\n",
       "children                                                   \n",
       "0                              1063                14091   \n",
       "1                               444                 4808   \n",
       "2                               194                 2052   \n",
       "3                                27                  330   \n",
       "4                                 4                   41   \n",
       "5                                 0                    9   \n",
       "\n",
       "          Процент кредитов с задолжностью  \n",
       "children                                   \n",
       "0                                    7.54  \n",
       "1                                    9.23  \n",
       "2                                    9.45  \n",
       "3                                    8.18  \n",
       "4                                    9.76  \n",
       "5                                    0.00  "
      ]
     },
     "metadata": {},
     "output_type": "display_data"
    }
   ],
   "source": [
    "data_pivot_children = data.pivot_table(index=['children'], values = 'debt', aggfunc=['sum', 'count']) \n",
    "# сводная таблица по количеству задолженностей и общему количеству кредитов для каждой категории по количеству детей\n",
    "\n",
    "\n",
    "data_pivot_children['ratio'] = data_pivot_children['sum'] / data_pivot_children['count'] * 100 \n",
    "# подсчет отношения количества кредитов с заолженностью к общему кол-ву для каждой категории по количеству детей\n",
    "\n",
    "data_pivot_children['ratio'] = data_pivot_children['ratio'].round(decimals = 2)\n",
    "# округление до 2 знаков после запятой\n",
    "\n",
    "\n",
    "five_children = data_pivot_children.loc[5,'count'] / data_pivot_children['count'].sum() * 100\n",
    "# подсчет процента кредиторов с 5-ю детьми\n",
    "five_children = five_children.round(decimals = 2)\n",
    "# округление до 2 знаков\n",
    "print('Процент кредитов взятых людьми с 5-ю детьми:', five_children)\n",
    "\n",
    "with_children_ratio = data_pivot_children.loc[1:len(data_pivot_children)]['sum'].sum() / data_pivot_children.loc[1:len(data_pivot_children)]['count'].sum() * 100\n",
    "with_children_ratio = with_children_ratio.round(decimals = 2)\n",
    "print('Процент кредитов c задолжностью, взятых людьми с детьми:', with_children_ratio)\n",
    "\n",
    "\n",
    "data_pivot_children.columns = ['Количество задолженностей', 'Количество кредитов', 'Процент кредитов с задолжностью']\n",
    "display(data_pivot_children)\n"
   ]
  },
  {
   "cell_type": "markdown",
   "id": "a1d26cf7",
   "metadata": {
    "deletable": false,
    "id": "3a6b99ec"
   },
   "source": [
    "**Вывод:** Из полученных данных можно сделать вывод, что клиенты с детьми чаще допускают нарушение сроков кредита **(9.24% против 7.54)**. \n",
    "\n",
    "В свою очередь прямой зависимости между количеством детей и вероятностью просрочки выплаты не выявлено.  \n",
    "\n",
    "Процент кредитов выданных людям с 5 детьми составлет 0.04% им можно пренебречь. \n",
    "Из клиентов с детьми меньше допускают прросрочку те клиенты у которых 3 детей (8.18%), а больше всего клиенты с 4 детьми (9.76%). Разница составляет **1.58%**.\n",
    "\n",
    "Из вышесказанного можно сделать вывод, что на вероятность допущения просрочки выплата больше (на 1,7%)  влияет наличие детей, чем их количество. "
   ]
  },
  {
   "cell_type": "markdown",
   "id": "fa1072e9",
   "metadata": {
    "deletable": false,
    "editable": false,
    "id": "97be82ca"
   },
   "source": [
    "#### Есть ли зависимость между семейным положением и возвратом кредита в срок?"
   ]
  },
  {
   "cell_type": "code",
   "execution_count": 189,
   "id": "ccf8f578",
   "metadata": {
    "deletable": false,
    "id": "dc3f7ee8"
   },
   "outputs": [
    {
     "data": {
      "text/html": [
       "<div>\n",
       "<style scoped>\n",
       "    .dataframe tbody tr th:only-of-type {\n",
       "        vertical-align: middle;\n",
       "    }\n",
       "\n",
       "    .dataframe tbody tr th {\n",
       "        vertical-align: top;\n",
       "    }\n",
       "\n",
       "    .dataframe thead th {\n",
       "        text-align: right;\n",
       "    }\n",
       "</style>\n",
       "<table border=\"1\" class=\"dataframe\">\n",
       "  <thead>\n",
       "    <tr style=\"text-align: right;\">\n",
       "      <th></th>\n",
       "      <th>Количество задолженностей</th>\n",
       "      <th>Количество кредитов</th>\n",
       "      <th>Процент кредитов с задолжностью</th>\n",
       "    </tr>\n",
       "    <tr>\n",
       "      <th>family_status</th>\n",
       "      <th></th>\n",
       "      <th></th>\n",
       "      <th></th>\n",
       "    </tr>\n",
       "  </thead>\n",
       "  <tbody>\n",
       "    <tr>\n",
       "      <th>Не женат / не замужем</th>\n",
       "      <td>273</td>\n",
       "      <td>2796</td>\n",
       "      <td>9.76</td>\n",
       "    </tr>\n",
       "    <tr>\n",
       "      <th>гражданский брак</th>\n",
       "      <td>385</td>\n",
       "      <td>4134</td>\n",
       "      <td>9.31</td>\n",
       "    </tr>\n",
       "    <tr>\n",
       "      <th>женат / замужем</th>\n",
       "      <td>927</td>\n",
       "      <td>12261</td>\n",
       "      <td>7.56</td>\n",
       "    </tr>\n",
       "    <tr>\n",
       "      <th>в разводе</th>\n",
       "      <td>84</td>\n",
       "      <td>1189</td>\n",
       "      <td>7.06</td>\n",
       "    </tr>\n",
       "    <tr>\n",
       "      <th>вдовец / вдова</th>\n",
       "      <td>63</td>\n",
       "      <td>951</td>\n",
       "      <td>6.62</td>\n",
       "    </tr>\n",
       "  </tbody>\n",
       "</table>\n",
       "</div>"
      ],
      "text/plain": [
       "                       Количество задолженностей  Количество кредитов  \\\n",
       "family_status                                                           \n",
       "Не женат / не замужем                        273                 2796   \n",
       "гражданский брак                             385                 4134   \n",
       "женат / замужем                              927                12261   \n",
       "в разводе                                     84                 1189   \n",
       "вдовец / вдова                                63                  951   \n",
       "\n",
       "                       Процент кредитов с задолжностью  \n",
       "family_status                                           \n",
       "Не женат / не замужем                             9.76  \n",
       "гражданский брак                                  9.31  \n",
       "женат / замужем                                   7.56  \n",
       "в разводе                                         7.06  \n",
       "вдовец / вдова                                    6.62  "
      ]
     },
     "execution_count": 189,
     "metadata": {},
     "output_type": "execute_result"
    }
   ],
   "source": [
    "data_pivot_family = data.pivot_table(index=['family_status'], values = 'debt', aggfunc=['sum', 'count'])\n",
    "# сводная таблица по количеству задолженностей и общему количеству кредитов для каждой категории по семейному положению\n",
    "\n",
    "data_pivot_family['ratio'] = data_pivot_family['sum'] / data_pivot_family['count'] * 100\n",
    "# подсчет отношения количества кредитов с заолженностью к общему кол-ву для каждой категории по семейному положению\n",
    "\n",
    "data_pivot_family['ratio'] = data_pivot_family['ratio'].round(decimals = 2)\n",
    "# округление до 2 знаков после запятой\n",
    "\n",
    "data_pivot_family.columns = ['Количество задолженностей', 'Количество кредитов', 'Процент кредитов с задолжностью']\n",
    "data_pivot_family.sort_values('Процент кредитов с задолжностью',ascending=False)"
   ]
  },
  {
   "cell_type": "markdown",
   "id": "2371c4a1",
   "metadata": {
    "deletable": false,
    "id": "1cef7837"
   },
   "source": [
    "**Вывод:** Так как процент кредитов с задолженностью отличается у кредиторов с разным семейным положением, то можно сделать вывод, что существует зависимость между семейным положением и возвратом кредита в срок. \n",
    "\n",
    "Меньше всех допускают просрочку кредитов клиенты с семейным положением **\"в разводе\" и \"вдовец/вдова\" 7.06% и 6.62%** соответственно. \n",
    "\n",
    "При этом больше допускают просрочку выплат клиенты с семейным положением **\"Не женат / не замужем\" и \"гражданский брак\" 9.76% и 9.31%** соответственно. \n",
    "\n",
    "Разница между минимальным и максимальным значением составляет **3.14%**"
   ]
  },
  {
   "cell_type": "markdown",
   "id": "b058f51e",
   "metadata": {
    "deletable": false,
    "editable": false,
    "id": "1e8b2fca"
   },
   "source": [
    "#### Есть ли зависимость между уровнем дохода и возвратом кредита в срок?"
   ]
  },
  {
   "cell_type": "code",
   "execution_count": 190,
   "id": "e0470c33",
   "metadata": {
    "deletable": false,
    "id": "cd7e3720"
   },
   "outputs": [
    {
     "name": "stdout",
     "output_type": "stream",
     "text": [
      "Процент кредитов взятых людьми c уровнем доходов категории А: debt    0.009376\n",
      "dtype: float64\n",
      "Процент кредитов взятых людьми c уровнем доходов категории D: debt    0.098448\n",
      "dtype: float64\n",
      "Процент кредитов взятых людьми c уровнем доходов категории E: debt    0.009376\n",
      "dtype: float64\n"
     ]
    },
    {
     "data": {
      "text/html": [
       "<div>\n",
       "<style scoped>\n",
       "    .dataframe tbody tr th:only-of-type {\n",
       "        vertical-align: middle;\n",
       "    }\n",
       "\n",
       "    .dataframe tbody tr th {\n",
       "        vertical-align: top;\n",
       "    }\n",
       "\n",
       "    .dataframe thead th {\n",
       "        text-align: right;\n",
       "    }\n",
       "</style>\n",
       "<table border=\"1\" class=\"dataframe\">\n",
       "  <thead>\n",
       "    <tr style=\"text-align: right;\">\n",
       "      <th></th>\n",
       "      <th>Количество задолженностей</th>\n",
       "      <th>Количество кредитов</th>\n",
       "      <th>Процент кредитов с задолжностью</th>\n",
       "    </tr>\n",
       "    <tr>\n",
       "      <th>total_income_category</th>\n",
       "      <th></th>\n",
       "      <th></th>\n",
       "      <th></th>\n",
       "    </tr>\n",
       "  </thead>\n",
       "  <tbody>\n",
       "    <tr>\n",
       "      <th>A</th>\n",
       "      <td>2</td>\n",
       "      <td>25</td>\n",
       "      <td>8.00</td>\n",
       "    </tr>\n",
       "    <tr>\n",
       "      <th>B</th>\n",
       "      <td>354</td>\n",
       "      <td>5014</td>\n",
       "      <td>7.06</td>\n",
       "    </tr>\n",
       "    <tr>\n",
       "      <th>C</th>\n",
       "      <td>1353</td>\n",
       "      <td>15921</td>\n",
       "      <td>8.50</td>\n",
       "    </tr>\n",
       "    <tr>\n",
       "      <th>D</th>\n",
       "      <td>21</td>\n",
       "      <td>349</td>\n",
       "      <td>6.02</td>\n",
       "    </tr>\n",
       "    <tr>\n",
       "      <th>E</th>\n",
       "      <td>2</td>\n",
       "      <td>22</td>\n",
       "      <td>9.09</td>\n",
       "    </tr>\n",
       "  </tbody>\n",
       "</table>\n",
       "</div>"
      ],
      "text/plain": [
       "                       Количество задолженностей  Количество кредитов  \\\n",
       "total_income_category                                                   \n",
       "A                                              2                   25   \n",
       "B                                            354                 5014   \n",
       "C                                           1353                15921   \n",
       "D                                             21                  349   \n",
       "E                                              2                   22   \n",
       "\n",
       "                       Процент кредитов с задолжностью  \n",
       "total_income_category                                   \n",
       "A                                                 8.00  \n",
       "B                                                 7.06  \n",
       "C                                                 8.50  \n",
       "D                                                 6.02  \n",
       "E                                                 9.09  "
      ]
     },
     "execution_count": 190,
     "metadata": {},
     "output_type": "execute_result"
    }
   ],
   "source": [
    "data_pivot_income = data.pivot_table(index=['total_income_category'], values = 'debt', aggfunc=['sum', 'count'])\n",
    "# сводная таблица по количеству задолженностей и общему количеству кредитов для каждой категории по категориям дохода\n",
    "\n",
    "data_pivot_income['ratio'] = data_pivot_income['sum'] / data_pivot_income['count'] * 100\n",
    "# подсчет отношения количества кредитов с заолженностью к общему кол-ву для каждой категории по категориям дохода\n",
    "\n",
    "data_pivot_income['ratio'] = data_pivot_income['ratio'].round(decimals = 2)\n",
    "# округление до 2 знаков после запятой\n",
    "\n",
    "print('Процент кредитов взятых людьми c уровнем доходов категории А:', data_pivot_income.loc['A']['sum'] / data_pivot_income['count'].sum() * 100)\n",
    "print('Процент кредитов взятых людьми c уровнем доходов категории D:', data_pivot_income.loc['D']['sum'] / data_pivot_income['count'].sum() * 100)\n",
    "print('Процент кредитов взятых людьми c уровнем доходов категории E:', data_pivot_income.loc['E']['sum'] / data_pivot_income['count'].sum() * 100)\n",
    "\n",
    "# округление до 2 знаков\n",
    "data_pivot_income.columns = ['Количество задолженностей', 'Количество кредитов', 'Процент кредитов с задолжностью']\n",
    "data_pivot_income\n"
   ]
  },
  {
   "cell_type": "markdown",
   "id": "7a073086",
   "metadata": {
    "deletable": false,
    "id": "e8593def"
   },
   "source": [
    "**Вывод:** Так как процент клиентов с категориями даходов A, D, E менее 1% данными категориями можно пренебречь. \n",
    "\n",
    "Минимальная вероятность просрочки кредита у людей с категорией дохода **категории B(7.06)**, а максимальная у **категории С(8.5%)**. \n",
    "\n",
    "Разница составила **1.44%**. "
   ]
  },
  {
   "cell_type": "markdown",
   "id": "e0bb9f1e",
   "metadata": {
    "deletable": false,
    "editable": false,
    "id": "99ecbd1f"
   },
   "source": [
    "#### Как разные цели кредита влияют на его возврат в срок?"
   ]
  },
  {
   "cell_type": "code",
   "execution_count": 191,
   "id": "ebf4ad44",
   "metadata": {
    "deletable": false,
    "id": "2b687290"
   },
   "outputs": [
    {
     "data": {
      "text/html": [
       "<div>\n",
       "<style scoped>\n",
       "    .dataframe tbody tr th:only-of-type {\n",
       "        vertical-align: middle;\n",
       "    }\n",
       "\n",
       "    .dataframe tbody tr th {\n",
       "        vertical-align: top;\n",
       "    }\n",
       "\n",
       "    .dataframe thead th {\n",
       "        text-align: right;\n",
       "    }\n",
       "</style>\n",
       "<table border=\"1\" class=\"dataframe\">\n",
       "  <thead>\n",
       "    <tr style=\"text-align: right;\">\n",
       "      <th></th>\n",
       "      <th>Количество задолженностей</th>\n",
       "      <th>Количество кредитов</th>\n",
       "      <th>Процент кредитов с задолжностью</th>\n",
       "    </tr>\n",
       "    <tr>\n",
       "      <th>purpose_category</th>\n",
       "      <th></th>\n",
       "      <th></th>\n",
       "      <th></th>\n",
       "    </tr>\n",
       "  </thead>\n",
       "  <tbody>\n",
       "    <tr>\n",
       "      <th>операции с автомобилем</th>\n",
       "      <td>400</td>\n",
       "      <td>4279</td>\n",
       "      <td>9.35</td>\n",
       "    </tr>\n",
       "    <tr>\n",
       "      <th>получение образования</th>\n",
       "      <td>369</td>\n",
       "      <td>3988</td>\n",
       "      <td>9.25</td>\n",
       "    </tr>\n",
       "    <tr>\n",
       "      <th>проведение свадьбы</th>\n",
       "      <td>183</td>\n",
       "      <td>2313</td>\n",
       "      <td>7.91</td>\n",
       "    </tr>\n",
       "    <tr>\n",
       "      <th>операции с недвижимостью</th>\n",
       "      <td>780</td>\n",
       "      <td>10751</td>\n",
       "      <td>7.26</td>\n",
       "    </tr>\n",
       "  </tbody>\n",
       "</table>\n",
       "</div>"
      ],
      "text/plain": [
       "                          Количество задолженностей  Количество кредитов  \\\n",
       "purpose_category                                                           \n",
       "операции с автомобилем                          400                 4279   \n",
       "получение образования                           369                 3988   \n",
       "проведение свадьбы                              183                 2313   \n",
       "операции с недвижимостью                        780                10751   \n",
       "\n",
       "                          Процент кредитов с задолжностью  \n",
       "purpose_category                                           \n",
       "операции с автомобилем                               9.35  \n",
       "получение образования                                9.25  \n",
       "проведение свадьбы                                   7.91  \n",
       "операции с недвижимостью                             7.26  "
      ]
     },
     "execution_count": 191,
     "metadata": {},
     "output_type": "execute_result"
    }
   ],
   "source": [
    "data_pivot_purpose = data.pivot_table(index=['purpose_category'], values = 'debt', aggfunc=['sum', 'count'])\n",
    "# сводная таблица по количеству задолженностей и общему количеству кредитов для каждой категории по целям кредита\n",
    "\n",
    "data_pivot_purpose['ratio'] = data_pivot_purpose['sum'] / data_pivot_purpose['count'] * 100\n",
    "# подсчет отношения количества кредитов с заолженностью к общему кол-ву для каждой категории по целям кредита\n",
    "\n",
    "data_pivot_purpose['ratio'] = data_pivot_purpose['ratio'].round(decimals = 2)\n",
    "# округление до 2 знаков после запятой\n",
    "\n",
    "data_pivot_purpose.columns = ['Количество задолженностей', 'Количество кредитов', 'Процент кредитов с задолжностью']\n",
    "data_pivot_purpose.sort_values('Процент кредитов с задолжностью',ascending=False)# Ваш код будет здесь. Вы можете создавать новые ячейки."
   ]
  },
  {
   "cell_type": "markdown",
   "id": "0c21cd14",
   "metadata": {
    "deletable": false,
    "id": "b4bb2ce6"
   },
   "source": [
    "**Вывод:** Лучший показатель у клиентов с целью **\"операции с недвижимостью\" (7.26%)**, а худший у клиентов с целью **\"операции с автомобилем\" (9.35%)**. \n",
    "\n",
    "Разница между минимальным и максимальными средними значениями равна **2.09%**."
   ]
  },
  {
   "cell_type": "markdown",
   "id": "cb181883",
   "metadata": {
    "deletable": false,
    "editable": false,
    "id": "09c3ac4c"
   },
   "source": [
    "#### Приведите возможные причины появления пропусков в исходных данных."
   ]
  },
  {
   "cell_type": "markdown",
   "id": "89870784",
   "metadata": {
    "deletable": false,
    "id": "9da2ceda"
   },
   "source": [
    "*Ответ:* Пропуски присутствуют в двух столбцах. \n",
    "В столбце days_employed - общий трудовой стаж в днях: пропуски могут быть связаны как с отсутствием трудового стажа у некоторых категорий заящиков, так и технической ошибкой при переносе данных. Так как присутствуют дробные значения в данном столбце.\n",
    "В столбце total_income — ежемесячный доход: пропуски могут быть связаны с отсутствием дохода у некоторых категорий заящиков."
   ]
  },
  {
   "cell_type": "markdown",
   "id": "0e5e7d29",
   "metadata": {
    "deletable": false,
    "editable": false,
    "id": "7b0487d6"
   },
   "source": [
    "#### Объясните, почему заполнить пропуски медианным значением — лучшее решение для количественных переменных."
   ]
  },
  {
   "cell_type": "markdown",
   "id": "6449560e",
   "metadata": {
    "deletable": false,
    "id": "7ecf2b8e"
   },
   "source": [
    "*Ответ:* Медианное значение меньше, чем среднее арифметическое значение подвержено влиянию данных резко отличающихся от основной массы. "
   ]
  },
  {
   "cell_type": "markdown",
   "id": "920c51bb",
   "metadata": {
    "deletable": false,
    "editable": false,
    "id": "6db5255a"
   },
   "source": [
    "### Шаг 4: общий вывод."
   ]
  },
  {
   "cell_type": "markdown",
   "id": "ffa42f37",
   "metadata": {
    "deletable": false,
    "id": "bad65432"
   },
   "source": [
    "В ходе обработки статистики о платёжеспособности клиентов произведено: \n",
    "* удаление дублируещихся строк \n",
    "* строк с анамальными значениями в столбце \"children\"\n",
    "* категоризация даходов по уровням\n",
    "* заполнены пропуски в столбце \"total_income\" медианными значениями для каждой категории по типу занятости\n",
    "\n",
    "Для определения истинности гипотез о зависимости вероятности выплаты кредита в срок от наличия/количества детей, семейного положения, уровня дохода и цели кредита был произведен подсчет отношения количества клиентов допустивших нарушение сроков к общему количеству клиентов каждой категории. Далее произведено определения  разницы между максимальным и минимальным показателем для определения категории которая оказывает наибольшее влияние.\n",
    "\n",
    "В итоге можно сделать вывод, что **все категории** клиентов имеют влияние на выплату кредита в срок. \n",
    "\n",
    "Разница между максимальным и минимальным показателем категорий:\n",
    " * **Семейное положение - 3.14%**\n",
    "\n",
    "По данному критерию наиболее ответственно подходят к выплате кредита клиенты уже не состоящие в браке **(\"в разводе\" и \"вдовец/вдова\")**, а наименее еще не состаящие в официальном браке **(\"Не женат / не замужем\" и \"гражданский брак\")**. \n",
    "* **Цель кредита - 2.09%**\n",
    "\n",
    "Лучший показатель у клиентов с целью **\"операции с недвижимостью\" (7.26%)**, а худший у клиентов с целью **\"операции с автомобилем\" (9.35%)**.\n",
    "* **Наличие детей - 1.7%**\n",
    "\n",
    "**Клиенты с детьми** чаще допускают нарушение сроков кредита **(9.24% против 7.54)**\n",
    "* **Количество детей - **1.58%**\n",
    "\n",
    "Из клиентов с детьми меньше допускают прросрочку те клиенты у которых **3 детей (8.18%)**, а больше всего клиенты с **4 детьми (9.76%).**\n",
    "* **Уровень дохода - 1.44%**\n",
    "\n",
    "Минимальная вероятность просрочки кредита у людей с категорией дохода **категории B(7.06)**, а максимальная у **категории С(8.5%).**\n",
    "\n",
    "В результате наибольшее влияние оказывает категория **\"Семейное положение\"**.\n",
    "\n",
    "Дополнительно для улучшения сбора данных рекомендуется недопуспать дублирование данных, аномальных значений и пропусков значений. "
   ]
  }
 ],
 "metadata": {
  "ExecuteTimeLog": [
   {
    "duration": 811,
    "start_time": "2022-09-29T12:03:24.422Z"
   },
   {
    "duration": 11,
    "start_time": "2022-09-29T12:11:12.690Z"
   },
   {
    "duration": 76,
    "start_time": "2022-09-29T12:11:29.553Z"
   },
   {
    "duration": 23,
    "start_time": "2022-09-29T12:11:29.632Z"
   },
   {
    "duration": 24,
    "start_time": "2022-09-29T12:11:29.657Z"
   },
   {
    "duration": 21,
    "start_time": "2022-09-29T12:11:29.682Z"
   },
   {
    "duration": 59,
    "start_time": "2022-09-29T12:11:29.705Z"
   },
   {
    "duration": 4,
    "start_time": "2022-09-29T12:11:29.766Z"
   },
   {
    "duration": 32,
    "start_time": "2022-09-29T12:11:29.771Z"
   },
   {
    "duration": 5,
    "start_time": "2022-09-29T12:11:29.805Z"
   },
   {
    "duration": 38,
    "start_time": "2022-09-29T12:11:29.812Z"
   },
   {
    "duration": 12,
    "start_time": "2022-09-29T12:11:29.853Z"
   },
   {
    "duration": 44,
    "start_time": "2022-09-29T12:11:29.866Z"
   },
   {
    "duration": 12,
    "start_time": "2022-09-29T12:11:29.912Z"
   },
   {
    "duration": 24,
    "start_time": "2022-09-29T12:11:29.925Z"
   },
   {
    "duration": 17,
    "start_time": "2022-09-29T12:11:29.952Z"
   },
   {
    "duration": 31,
    "start_time": "2022-09-29T12:11:29.970Z"
   },
   {
    "duration": 19,
    "start_time": "2022-09-29T12:11:30.003Z"
   },
   {
    "duration": 29,
    "start_time": "2022-09-29T12:11:30.024Z"
   },
   {
    "duration": 29,
    "start_time": "2022-09-29T12:11:30.055Z"
   },
   {
    "duration": 27,
    "start_time": "2022-09-29T12:11:30.085Z"
   },
   {
    "duration": 18,
    "start_time": "2022-09-29T12:11:30.113Z"
   },
   {
    "duration": 48,
    "start_time": "2022-09-29T12:11:30.132Z"
   },
   {
    "duration": 6,
    "start_time": "2022-09-29T12:11:38.095Z"
   },
   {
    "duration": 5,
    "start_time": "2022-09-29T12:11:52.386Z"
   },
   {
    "duration": 5,
    "start_time": "2022-09-29T12:16:26.389Z"
   },
   {
    "duration": 4,
    "start_time": "2022-09-29T12:16:40.454Z"
   },
   {
    "duration": 81,
    "start_time": "2022-09-29T12:17:51.168Z"
   },
   {
    "duration": 7,
    "start_time": "2022-09-29T12:18:00.096Z"
   },
   {
    "duration": 8,
    "start_time": "2022-09-29T12:18:14.949Z"
   },
   {
    "duration": 674,
    "start_time": "2022-10-01T11:48:36.506Z"
   },
   {
    "duration": 23,
    "start_time": "2022-10-01T11:48:37.182Z"
   },
   {
    "duration": 15,
    "start_time": "2022-10-01T11:48:37.206Z"
   },
   {
    "duration": 13,
    "start_time": "2022-10-01T11:48:37.223Z"
   },
   {
    "duration": 55,
    "start_time": "2022-10-01T11:48:37.238Z"
   },
   {
    "duration": 3,
    "start_time": "2022-10-01T11:48:37.295Z"
   },
   {
    "duration": 12,
    "start_time": "2022-10-01T11:48:37.300Z"
   },
   {
    "duration": 6,
    "start_time": "2022-10-01T11:48:37.314Z"
   },
   {
    "duration": 20,
    "start_time": "2022-10-01T11:48:37.321Z"
   },
   {
    "duration": 4,
    "start_time": "2022-10-01T11:48:37.343Z"
   },
   {
    "duration": 52,
    "start_time": "2022-10-01T11:48:37.349Z"
   },
   {
    "duration": 10,
    "start_time": "2022-10-01T11:48:37.403Z"
   },
   {
    "duration": 5,
    "start_time": "2022-10-01T11:48:37.415Z"
   },
   {
    "duration": 13,
    "start_time": "2022-10-01T11:48:37.422Z"
   },
   {
    "duration": 44,
    "start_time": "2022-10-01T11:48:37.437Z"
   },
   {
    "duration": 21,
    "start_time": "2022-10-01T11:48:37.482Z"
   },
   {
    "duration": 3,
    "start_time": "2022-10-01T11:48:37.505Z"
   },
   {
    "duration": 12,
    "start_time": "2022-10-01T11:48:37.510Z"
   },
   {
    "duration": 8,
    "start_time": "2022-10-01T11:48:37.524Z"
   },
   {
    "duration": 5,
    "start_time": "2022-10-01T11:48:37.534Z"
   },
   {
    "duration": 13,
    "start_time": "2022-10-01T11:48:37.541Z"
   },
   {
    "duration": 71,
    "start_time": "2022-10-01T11:58:44.996Z"
   },
   {
    "duration": 24,
    "start_time": "2022-10-01T11:58:45.069Z"
   },
   {
    "duration": 19,
    "start_time": "2022-10-01T11:58:45.095Z"
   },
   {
    "duration": 10,
    "start_time": "2022-10-01T11:58:45.116Z"
   },
   {
    "duration": 34,
    "start_time": "2022-10-01T11:58:45.127Z"
   },
   {
    "duration": 24,
    "start_time": "2022-10-01T11:58:45.163Z"
   },
   {
    "duration": 15,
    "start_time": "2022-10-01T11:58:45.189Z"
   },
   {
    "duration": 21,
    "start_time": "2022-10-01T11:58:45.206Z"
   },
   {
    "duration": 15,
    "start_time": "2022-10-01T11:58:45.230Z"
   },
   {
    "duration": 14,
    "start_time": "2022-10-01T11:58:45.248Z"
   },
   {
    "duration": 67,
    "start_time": "2022-10-01T11:58:45.263Z"
   },
   {
    "duration": 10,
    "start_time": "2022-10-01T11:58:45.333Z"
   },
   {
    "duration": 4,
    "start_time": "2022-10-01T11:58:45.345Z"
   },
   {
    "duration": 19,
    "start_time": "2022-10-01T11:58:45.351Z"
   },
   {
    "duration": 44,
    "start_time": "2022-10-01T11:58:45.372Z"
   },
   {
    "duration": 19,
    "start_time": "2022-10-01T11:58:45.418Z"
   },
   {
    "duration": 4,
    "start_time": "2022-10-01T11:58:45.439Z"
   },
   {
    "duration": 19,
    "start_time": "2022-10-01T11:58:45.444Z"
   },
   {
    "duration": 46,
    "start_time": "2022-10-01T11:58:45.465Z"
   },
   {
    "duration": 4,
    "start_time": "2022-10-01T11:58:45.512Z"
   },
   {
    "duration": 14,
    "start_time": "2022-10-01T11:58:45.517Z"
   },
   {
    "duration": 73,
    "start_time": "2022-10-01T12:01:53.284Z"
   },
   {
    "duration": 16,
    "start_time": "2022-10-01T12:02:58.633Z"
   },
   {
    "duration": 11,
    "start_time": "2022-10-01T12:06:07.534Z"
   },
   {
    "duration": 64,
    "start_time": "2022-10-01T12:06:31.674Z"
   },
   {
    "duration": 17,
    "start_time": "2022-10-01T12:06:51.931Z"
   },
   {
    "duration": 21,
    "start_time": "2022-10-01T12:10:17.103Z"
   },
   {
    "duration": 50,
    "start_time": "2022-10-01T12:13:31.293Z"
   },
   {
    "duration": 19,
    "start_time": "2022-10-01T12:14:07.098Z"
   },
   {
    "duration": 18,
    "start_time": "2022-10-01T12:14:56.489Z"
   },
   {
    "duration": 16,
    "start_time": "2022-10-01T12:15:04.034Z"
   },
   {
    "duration": 899,
    "start_time": "2022-10-01T12:17:57.766Z"
   },
   {
    "duration": 1165,
    "start_time": "2022-10-01T12:19:13.710Z"
   },
   {
    "duration": 25,
    "start_time": "2022-10-01T12:23:00.311Z"
   },
   {
    "duration": 19,
    "start_time": "2022-10-01T12:23:38.814Z"
   },
   {
    "duration": 28,
    "start_time": "2022-10-01T12:25:14.380Z"
   },
   {
    "duration": 39,
    "start_time": "2022-10-01T12:25:30.986Z"
   },
   {
    "duration": 21,
    "start_time": "2022-10-01T12:26:33.753Z"
   },
   {
    "duration": 24,
    "start_time": "2022-10-01T12:27:14.425Z"
   },
   {
    "duration": 26,
    "start_time": "2022-10-01T12:27:53.539Z"
   },
   {
    "duration": 42,
    "start_time": "2022-10-01T12:31:26.399Z"
   },
   {
    "duration": 28,
    "start_time": "2022-10-01T12:32:06.035Z"
   },
   {
    "duration": 24,
    "start_time": "2022-10-01T12:33:22.443Z"
   },
   {
    "duration": 46,
    "start_time": "2022-10-01T12:33:29.769Z"
   },
   {
    "duration": 32,
    "start_time": "2022-10-01T12:34:45.243Z"
   },
   {
    "duration": 47,
    "start_time": "2022-10-01T12:35:58.911Z"
   },
   {
    "duration": 88,
    "start_time": "2022-10-01T12:36:30.650Z"
   },
   {
    "duration": 82,
    "start_time": "2022-10-01T12:36:48.765Z"
   },
   {
    "duration": 20,
    "start_time": "2022-10-01T12:37:16.311Z"
   },
   {
    "duration": 26,
    "start_time": "2022-10-01T12:37:33.304Z"
   },
   {
    "duration": 31,
    "start_time": "2022-10-01T12:38:20.409Z"
   },
   {
    "duration": 28,
    "start_time": "2022-10-01T12:39:18.466Z"
   },
   {
    "duration": 36,
    "start_time": "2022-10-01T12:39:24.073Z"
   },
   {
    "duration": 21,
    "start_time": "2022-10-01T12:39:56.450Z"
   },
   {
    "duration": 27,
    "start_time": "2022-10-01T12:40:07.062Z"
   },
   {
    "duration": 24,
    "start_time": "2022-10-01T12:40:13.112Z"
   },
   {
    "duration": 91,
    "start_time": "2022-10-01T12:40:25.271Z"
   },
   {
    "duration": 33,
    "start_time": "2022-10-01T12:40:25.365Z"
   },
   {
    "duration": 37,
    "start_time": "2022-10-01T12:40:25.404Z"
   },
   {
    "duration": 22,
    "start_time": "2022-10-01T12:40:25.445Z"
   },
   {
    "duration": 54,
    "start_time": "2022-10-01T12:40:25.469Z"
   },
   {
    "duration": 6,
    "start_time": "2022-10-01T12:40:25.525Z"
   },
   {
    "duration": 20,
    "start_time": "2022-10-01T12:40:25.533Z"
   },
   {
    "duration": 10,
    "start_time": "2022-10-01T12:40:25.555Z"
   },
   {
    "duration": 42,
    "start_time": "2022-10-01T12:40:25.567Z"
   },
   {
    "duration": 9,
    "start_time": "2022-10-01T12:40:25.612Z"
   },
   {
    "duration": 48,
    "start_time": "2022-10-01T12:40:25.623Z"
   },
   {
    "duration": 20,
    "start_time": "2022-10-01T12:40:25.673Z"
   },
   {
    "duration": 34,
    "start_time": "2022-10-01T12:40:25.694Z"
   },
   {
    "duration": 14,
    "start_time": "2022-10-01T12:40:25.730Z"
   },
   {
    "duration": 30,
    "start_time": "2022-10-01T12:40:25.745Z"
   },
   {
    "duration": 52,
    "start_time": "2022-10-01T12:40:25.777Z"
   },
   {
    "duration": 4,
    "start_time": "2022-10-01T12:40:25.830Z"
   },
   {
    "duration": 19,
    "start_time": "2022-10-01T12:40:25.836Z"
   },
   {
    "duration": 10,
    "start_time": "2022-10-01T12:40:25.857Z"
   },
   {
    "duration": 21,
    "start_time": "2022-10-01T12:40:25.868Z"
   },
   {
    "duration": 0,
    "start_time": "2022-10-01T12:40:25.891Z"
   },
   {
    "duration": 0,
    "start_time": "2022-10-01T12:40:25.892Z"
   },
   {
    "duration": 0,
    "start_time": "2022-10-01T12:40:25.893Z"
   },
   {
    "duration": 0,
    "start_time": "2022-10-01T12:40:25.894Z"
   },
   {
    "duration": 0,
    "start_time": "2022-10-01T12:40:25.895Z"
   },
   {
    "duration": 75,
    "start_time": "2022-10-01T12:40:47.819Z"
   },
   {
    "duration": 20,
    "start_time": "2022-10-01T12:40:47.896Z"
   },
   {
    "duration": 19,
    "start_time": "2022-10-01T12:40:47.918Z"
   },
   {
    "duration": 9,
    "start_time": "2022-10-01T12:40:47.939Z"
   },
   {
    "duration": 61,
    "start_time": "2022-10-01T12:40:47.950Z"
   },
   {
    "duration": 4,
    "start_time": "2022-10-01T12:40:48.013Z"
   },
   {
    "duration": 21,
    "start_time": "2022-10-01T12:40:48.019Z"
   },
   {
    "duration": 7,
    "start_time": "2022-10-01T12:40:48.042Z"
   },
   {
    "duration": 9,
    "start_time": "2022-10-01T12:40:48.050Z"
   },
   {
    "duration": 24,
    "start_time": "2022-10-01T12:40:48.062Z"
   },
   {
    "duration": 73,
    "start_time": "2022-10-01T12:40:48.088Z"
   },
   {
    "duration": 8,
    "start_time": "2022-10-01T12:40:48.163Z"
   },
   {
    "duration": 34,
    "start_time": "2022-10-01T12:40:48.172Z"
   },
   {
    "duration": 14,
    "start_time": "2022-10-01T12:40:48.208Z"
   },
   {
    "duration": 19,
    "start_time": "2022-10-01T12:40:48.223Z"
   },
   {
    "duration": 17,
    "start_time": "2022-10-01T12:40:48.244Z"
   },
   {
    "duration": 3,
    "start_time": "2022-10-01T12:40:48.263Z"
   },
   {
    "duration": 16,
    "start_time": "2022-10-01T12:40:48.268Z"
   },
   {
    "duration": 28,
    "start_time": "2022-10-01T12:40:48.285Z"
   },
   {
    "duration": 5,
    "start_time": "2022-10-01T12:40:48.315Z"
   },
   {
    "duration": 0,
    "start_time": "2022-10-01T12:40:48.322Z"
   },
   {
    "duration": 10,
    "start_time": "2022-10-01T12:41:15.057Z"
   },
   {
    "duration": 5,
    "start_time": "2022-10-01T12:41:17.505Z"
   },
   {
    "duration": 9,
    "start_time": "2022-10-01T12:41:19.809Z"
   },
   {
    "duration": 27,
    "start_time": "2022-10-01T12:41:36.591Z"
   },
   {
    "duration": 12,
    "start_time": "2022-10-01T12:41:44.644Z"
   },
   {
    "duration": 28,
    "start_time": "2022-10-01T12:42:04.673Z"
   },
   {
    "duration": 21,
    "start_time": "2022-10-01T12:42:29.020Z"
   },
   {
    "duration": 21,
    "start_time": "2022-10-01T12:43:31.759Z"
   },
   {
    "duration": 25,
    "start_time": "2022-10-01T12:44:12.534Z"
   },
   {
    "duration": 21,
    "start_time": "2022-10-01T12:44:29.743Z"
   },
   {
    "duration": 22,
    "start_time": "2022-10-01T12:44:32.438Z"
   },
   {
    "duration": 21,
    "start_time": "2022-10-01T12:44:34.808Z"
   },
   {
    "duration": 17,
    "start_time": "2022-10-01T12:44:58.312Z"
   },
   {
    "duration": 33,
    "start_time": "2022-10-01T12:45:25.473Z"
   },
   {
    "duration": 31,
    "start_time": "2022-10-01T12:45:32.835Z"
   },
   {
    "duration": 457,
    "start_time": "2022-10-01T12:47:08.313Z"
   },
   {
    "duration": 23,
    "start_time": "2022-10-01T12:47:08.772Z"
   },
   {
    "duration": 27,
    "start_time": "2022-10-01T12:47:08.797Z"
   },
   {
    "duration": 10,
    "start_time": "2022-10-01T12:47:08.826Z"
   },
   {
    "duration": 54,
    "start_time": "2022-10-01T12:47:08.837Z"
   },
   {
    "duration": 4,
    "start_time": "2022-10-01T12:47:08.893Z"
   },
   {
    "duration": 16,
    "start_time": "2022-10-01T12:47:08.899Z"
   },
   {
    "duration": 17,
    "start_time": "2022-10-01T12:47:08.917Z"
   },
   {
    "duration": 17,
    "start_time": "2022-10-01T12:47:08.936Z"
   },
   {
    "duration": 7,
    "start_time": "2022-10-01T12:47:08.955Z"
   },
   {
    "duration": 40,
    "start_time": "2022-10-01T12:47:08.977Z"
   },
   {
    "duration": 10,
    "start_time": "2022-10-01T12:47:09.019Z"
   },
   {
    "duration": 16,
    "start_time": "2022-10-01T12:47:09.031Z"
   },
   {
    "duration": 29,
    "start_time": "2022-10-01T12:47:09.048Z"
   },
   {
    "duration": 23,
    "start_time": "2022-10-01T12:47:09.079Z"
   },
   {
    "duration": 17,
    "start_time": "2022-10-01T12:47:09.104Z"
   },
   {
    "duration": 4,
    "start_time": "2022-10-01T12:47:09.123Z"
   },
   {
    "duration": 28,
    "start_time": "2022-10-01T12:47:09.130Z"
   },
   {
    "duration": 22,
    "start_time": "2022-10-01T12:47:09.160Z"
   },
   {
    "duration": 8,
    "start_time": "2022-10-01T12:47:09.184Z"
   },
   {
    "duration": 0,
    "start_time": "2022-10-01T12:47:09.195Z"
   },
   {
    "duration": 68,
    "start_time": "2022-10-01T12:47:14.300Z"
   },
   {
    "duration": 70,
    "start_time": "2022-10-01T12:47:27.219Z"
   },
   {
    "duration": 16,
    "start_time": "2022-10-01T12:47:28.085Z"
   },
   {
    "duration": 15,
    "start_time": "2022-10-01T12:47:28.569Z"
   },
   {
    "duration": 9,
    "start_time": "2022-10-01T12:47:29.498Z"
   },
   {
    "duration": 34,
    "start_time": "2022-10-01T12:47:30.257Z"
   },
   {
    "duration": 5,
    "start_time": "2022-10-01T12:47:30.993Z"
   },
   {
    "duration": 8,
    "start_time": "2022-10-01T12:47:31.514Z"
   },
   {
    "duration": 5,
    "start_time": "2022-10-01T12:47:32.305Z"
   },
   {
    "duration": 5,
    "start_time": "2022-10-01T12:47:32.825Z"
   },
   {
    "duration": 5,
    "start_time": "2022-10-01T12:47:33.345Z"
   },
   {
    "duration": 33,
    "start_time": "2022-10-01T12:47:34.092Z"
   },
   {
    "duration": 16,
    "start_time": "2022-10-01T12:47:35.225Z"
   },
   {
    "duration": 4,
    "start_time": "2022-10-01T12:47:38.826Z"
   },
   {
    "duration": 10,
    "start_time": "2022-10-01T12:47:40.529Z"
   },
   {
    "duration": 26,
    "start_time": "2022-10-01T12:47:41.570Z"
   },
   {
    "duration": 32,
    "start_time": "2022-10-01T12:47:42.115Z"
   },
   {
    "duration": 3,
    "start_time": "2022-10-01T12:47:43.618Z"
   },
   {
    "duration": 20,
    "start_time": "2022-10-01T12:47:44.473Z"
   },
   {
    "duration": 9,
    "start_time": "2022-10-01T12:47:47.370Z"
   },
   {
    "duration": 4,
    "start_time": "2022-10-01T12:47:49.284Z"
   },
   {
    "duration": 8,
    "start_time": "2022-10-01T12:47:50.763Z"
   },
   {
    "duration": 22,
    "start_time": "2022-10-01T12:48:06.470Z"
   },
   {
    "duration": 23,
    "start_time": "2022-10-01T12:48:21.668Z"
   },
   {
    "duration": 24,
    "start_time": "2022-10-01T12:48:29.268Z"
   },
   {
    "duration": 26,
    "start_time": "2022-10-01T12:48:34.613Z"
   },
   {
    "duration": 26,
    "start_time": "2022-10-01T12:48:49.238Z"
   },
   {
    "duration": 30,
    "start_time": "2022-10-01T12:48:59.869Z"
   },
   {
    "duration": 31,
    "start_time": "2022-10-01T12:49:07.334Z"
   },
   {
    "duration": 30,
    "start_time": "2022-10-01T12:49:22.591Z"
   },
   {
    "duration": 28,
    "start_time": "2022-10-01T12:51:16.056Z"
   },
   {
    "duration": 34,
    "start_time": "2022-10-01T12:51:49.559Z"
   },
   {
    "duration": 46,
    "start_time": "2022-10-01T12:52:52.853Z"
   },
   {
    "duration": 7,
    "start_time": "2022-10-01T12:54:34.769Z"
   },
   {
    "duration": 6,
    "start_time": "2022-10-01T12:54:38.789Z"
   },
   {
    "duration": 5,
    "start_time": "2022-10-01T12:54:40.748Z"
   },
   {
    "duration": 9,
    "start_time": "2022-10-01T12:54:41.746Z"
   },
   {
    "duration": 68,
    "start_time": "2022-10-01T12:54:48.601Z"
   },
   {
    "duration": 16,
    "start_time": "2022-10-01T12:54:49.037Z"
   },
   {
    "duration": 15,
    "start_time": "2022-10-01T12:54:49.506Z"
   },
   {
    "duration": 10,
    "start_time": "2022-10-01T12:54:50.617Z"
   },
   {
    "duration": 36,
    "start_time": "2022-10-01T12:54:51.129Z"
   },
   {
    "duration": 5,
    "start_time": "2022-10-01T12:54:51.913Z"
   },
   {
    "duration": 10,
    "start_time": "2022-10-01T12:54:52.401Z"
   },
   {
    "duration": 5,
    "start_time": "2022-10-01T12:54:53.104Z"
   },
   {
    "duration": 8,
    "start_time": "2022-10-01T12:54:53.585Z"
   },
   {
    "duration": 6,
    "start_time": "2022-10-01T12:54:54.041Z"
   },
   {
    "duration": 41,
    "start_time": "2022-10-01T12:54:54.721Z"
   },
   {
    "duration": 12,
    "start_time": "2022-10-01T12:54:55.192Z"
   },
   {
    "duration": 5,
    "start_time": "2022-10-01T12:54:55.889Z"
   },
   {
    "duration": 11,
    "start_time": "2022-10-01T12:54:56.594Z"
   },
   {
    "duration": 25,
    "start_time": "2022-10-01T12:54:57.072Z"
   },
   {
    "duration": 20,
    "start_time": "2022-10-01T12:54:57.305Z"
   },
   {
    "duration": 4,
    "start_time": "2022-10-01T12:54:58.032Z"
   },
   {
    "duration": 11,
    "start_time": "2022-10-01T12:54:58.265Z"
   },
   {
    "duration": 8,
    "start_time": "2022-10-01T12:54:58.761Z"
   },
   {
    "duration": 3,
    "start_time": "2022-10-01T12:54:59.233Z"
   },
   {
    "duration": 8,
    "start_time": "2022-10-01T12:54:59.848Z"
   },
   {
    "duration": 70,
    "start_time": "2022-10-01T12:55:19.295Z"
   },
   {
    "duration": 23,
    "start_time": "2022-10-01T12:55:19.367Z"
   },
   {
    "duration": 15,
    "start_time": "2022-10-01T12:55:19.392Z"
   },
   {
    "duration": 9,
    "start_time": "2022-10-01T12:55:19.409Z"
   },
   {
    "duration": 33,
    "start_time": "2022-10-01T12:55:19.420Z"
   },
   {
    "duration": 33,
    "start_time": "2022-10-01T12:55:19.455Z"
   },
   {
    "duration": 10,
    "start_time": "2022-10-01T12:55:19.490Z"
   },
   {
    "duration": 4,
    "start_time": "2022-10-01T12:55:19.501Z"
   },
   {
    "duration": 6,
    "start_time": "2022-10-01T12:55:19.507Z"
   },
   {
    "duration": 3,
    "start_time": "2022-10-01T12:55:19.516Z"
   },
   {
    "duration": 50,
    "start_time": "2022-10-01T12:55:19.520Z"
   },
   {
    "duration": 20,
    "start_time": "2022-10-01T12:55:19.571Z"
   },
   {
    "duration": 13,
    "start_time": "2022-10-01T12:55:19.593Z"
   },
   {
    "duration": 27,
    "start_time": "2022-10-01T12:55:19.608Z"
   },
   {
    "duration": 27,
    "start_time": "2022-10-01T12:55:19.637Z"
   },
   {
    "duration": 23,
    "start_time": "2022-10-01T12:55:19.665Z"
   },
   {
    "duration": 3,
    "start_time": "2022-10-01T12:55:19.690Z"
   },
   {
    "duration": 15,
    "start_time": "2022-10-01T12:55:19.695Z"
   },
   {
    "duration": 14,
    "start_time": "2022-10-01T12:55:19.712Z"
   },
   {
    "duration": 10,
    "start_time": "2022-10-01T12:55:19.728Z"
   },
   {
    "duration": 0,
    "start_time": "2022-10-01T12:55:19.739Z"
   },
   {
    "duration": 0,
    "start_time": "2022-10-01T12:55:19.740Z"
   },
   {
    "duration": 0,
    "start_time": "2022-10-01T12:55:19.741Z"
   },
   {
    "duration": 0,
    "start_time": "2022-10-01T12:55:19.742Z"
   },
   {
    "duration": 0,
    "start_time": "2022-10-01T12:55:19.743Z"
   },
   {
    "duration": 7,
    "start_time": "2022-10-01T12:55:41.844Z"
   },
   {
    "duration": 28,
    "start_time": "2022-10-01T12:55:43.689Z"
   },
   {
    "duration": 30,
    "start_time": "2022-10-01T12:55:48.332Z"
   },
   {
    "duration": 29,
    "start_time": "2022-10-01T12:55:56.189Z"
   },
   {
    "duration": 16,
    "start_time": "2022-10-01T12:57:03.218Z"
   },
   {
    "duration": 464,
    "start_time": "2022-10-01T12:57:36.301Z"
   },
   {
    "duration": 23,
    "start_time": "2022-10-01T12:57:36.768Z"
   },
   {
    "duration": 21,
    "start_time": "2022-10-01T12:57:36.792Z"
   },
   {
    "duration": 20,
    "start_time": "2022-10-01T12:57:36.816Z"
   },
   {
    "duration": 74,
    "start_time": "2022-10-01T12:57:36.838Z"
   },
   {
    "duration": 5,
    "start_time": "2022-10-01T12:57:36.916Z"
   },
   {
    "duration": 16,
    "start_time": "2022-10-01T12:57:36.923Z"
   },
   {
    "duration": 7,
    "start_time": "2022-10-01T12:57:36.941Z"
   },
   {
    "duration": 26,
    "start_time": "2022-10-01T12:57:36.951Z"
   },
   {
    "duration": 6,
    "start_time": "2022-10-01T12:57:36.979Z"
   },
   {
    "duration": 47,
    "start_time": "2022-10-01T12:57:36.986Z"
   },
   {
    "duration": 14,
    "start_time": "2022-10-01T12:57:37.036Z"
   },
   {
    "duration": 26,
    "start_time": "2022-10-01T12:57:37.052Z"
   },
   {
    "duration": 26,
    "start_time": "2022-10-01T12:57:37.080Z"
   },
   {
    "duration": 28,
    "start_time": "2022-10-01T12:57:37.109Z"
   },
   {
    "duration": 16,
    "start_time": "2022-10-01T12:57:37.139Z"
   },
   {
    "duration": 21,
    "start_time": "2022-10-01T12:57:37.156Z"
   },
   {
    "duration": 15,
    "start_time": "2022-10-01T12:57:37.178Z"
   },
   {
    "duration": 8,
    "start_time": "2022-10-01T12:57:37.195Z"
   },
   {
    "duration": 6,
    "start_time": "2022-10-01T12:57:37.205Z"
   },
   {
    "duration": 0,
    "start_time": "2022-10-01T12:57:37.212Z"
   },
   {
    "duration": 66,
    "start_time": "2022-10-01T12:57:41.069Z"
   },
   {
    "duration": 5,
    "start_time": "2022-10-01T12:57:55.397Z"
   },
   {
    "duration": 7,
    "start_time": "2022-10-01T12:57:56.213Z"
   },
   {
    "duration": 30,
    "start_time": "2022-10-01T12:57:59.157Z"
   },
   {
    "duration": 41,
    "start_time": "2022-10-01T12:58:01.196Z"
   },
   {
    "duration": 2,
    "start_time": "2022-10-01T12:58:02.996Z"
   },
   {
    "duration": 16,
    "start_time": "2022-10-01T12:58:04.397Z"
   },
   {
    "duration": 66,
    "start_time": "2022-10-01T12:58:27.406Z"
   },
   {
    "duration": 26,
    "start_time": "2022-10-01T12:58:27.474Z"
   },
   {
    "duration": 12,
    "start_time": "2022-10-01T12:58:27.502Z"
   },
   {
    "duration": 20,
    "start_time": "2022-10-01T12:58:27.517Z"
   },
   {
    "duration": 35,
    "start_time": "2022-10-01T12:58:27.539Z"
   },
   {
    "duration": 7,
    "start_time": "2022-10-01T12:58:27.581Z"
   },
   {
    "duration": 14,
    "start_time": "2022-10-01T12:58:27.589Z"
   },
   {
    "duration": 5,
    "start_time": "2022-10-01T12:58:27.605Z"
   },
   {
    "duration": 7,
    "start_time": "2022-10-01T12:58:27.611Z"
   },
   {
    "duration": 4,
    "start_time": "2022-10-01T12:58:27.621Z"
   },
   {
    "duration": 60,
    "start_time": "2022-10-01T12:58:27.627Z"
   },
   {
    "duration": 11,
    "start_time": "2022-10-01T12:58:27.688Z"
   },
   {
    "duration": 5,
    "start_time": "2022-10-01T12:58:27.700Z"
   },
   {
    "duration": 12,
    "start_time": "2022-10-01T12:58:27.707Z"
   },
   {
    "duration": 19,
    "start_time": "2022-10-01T12:58:27.720Z"
   },
   {
    "duration": 46,
    "start_time": "2022-10-01T12:58:27.741Z"
   },
   {
    "duration": 4,
    "start_time": "2022-10-01T12:58:27.789Z"
   },
   {
    "duration": 13,
    "start_time": "2022-10-01T12:58:27.795Z"
   },
   {
    "duration": 14,
    "start_time": "2022-10-01T12:58:27.810Z"
   },
   {
    "duration": 3,
    "start_time": "2022-10-01T12:58:27.826Z"
   },
   {
    "duration": 0,
    "start_time": "2022-10-01T12:58:27.830Z"
   },
   {
    "duration": 0,
    "start_time": "2022-10-01T12:58:27.832Z"
   },
   {
    "duration": 0,
    "start_time": "2022-10-01T12:58:27.833Z"
   },
   {
    "duration": 0,
    "start_time": "2022-10-01T12:58:27.834Z"
   },
   {
    "duration": 0,
    "start_time": "2022-10-01T12:58:27.835Z"
   },
   {
    "duration": 8,
    "start_time": "2022-10-01T13:01:27.565Z"
   },
   {
    "duration": 57,
    "start_time": "2022-10-01T13:01:28.571Z"
   },
   {
    "duration": 451,
    "start_time": "2022-10-01T13:01:39.051Z"
   },
   {
    "duration": 32,
    "start_time": "2022-10-01T13:01:39.504Z"
   },
   {
    "duration": 25,
    "start_time": "2022-10-01T13:01:39.538Z"
   },
   {
    "duration": 26,
    "start_time": "2022-10-01T13:01:39.566Z"
   },
   {
    "duration": 42,
    "start_time": "2022-10-01T13:01:39.599Z"
   },
   {
    "duration": 4,
    "start_time": "2022-10-01T13:01:39.642Z"
   },
   {
    "duration": 15,
    "start_time": "2022-10-01T13:01:39.648Z"
   },
   {
    "duration": 15,
    "start_time": "2022-10-01T13:01:39.665Z"
   },
   {
    "duration": 20,
    "start_time": "2022-10-01T13:01:39.685Z"
   },
   {
    "duration": 5,
    "start_time": "2022-10-01T13:01:39.708Z"
   },
   {
    "duration": 48,
    "start_time": "2022-10-01T13:01:39.715Z"
   },
   {
    "duration": 10,
    "start_time": "2022-10-01T13:01:39.765Z"
   },
   {
    "duration": 17,
    "start_time": "2022-10-01T13:01:39.780Z"
   },
   {
    "duration": 15,
    "start_time": "2022-10-01T13:01:39.798Z"
   },
   {
    "duration": 20,
    "start_time": "2022-10-01T13:01:39.814Z"
   },
   {
    "duration": 16,
    "start_time": "2022-10-01T13:01:39.836Z"
   },
   {
    "duration": 3,
    "start_time": "2022-10-01T13:01:39.854Z"
   },
   {
    "duration": 26,
    "start_time": "2022-10-01T13:01:39.859Z"
   },
   {
    "duration": 16,
    "start_time": "2022-10-01T13:01:39.886Z"
   },
   {
    "duration": 4,
    "start_time": "2022-10-01T13:01:39.904Z"
   },
   {
    "duration": 0,
    "start_time": "2022-10-01T13:01:39.910Z"
   },
   {
    "duration": 27,
    "start_time": "2022-10-01T13:01:43.140Z"
   },
   {
    "duration": 3,
    "start_time": "2022-10-01T13:03:46.897Z"
   },
   {
    "duration": 14,
    "start_time": "2022-10-01T13:03:48.157Z"
   },
   {
    "duration": 6,
    "start_time": "2022-10-01T13:03:55.125Z"
   },
   {
    "duration": 4,
    "start_time": "2022-10-01T13:03:57.365Z"
   },
   {
    "duration": 9,
    "start_time": "2022-10-01T13:03:58.829Z"
   },
   {
    "duration": 91,
    "start_time": "2022-10-01T13:04:56.967Z"
   },
   {
    "duration": 20,
    "start_time": "2022-10-01T13:04:57.061Z"
   },
   {
    "duration": 32,
    "start_time": "2022-10-01T13:04:57.083Z"
   },
   {
    "duration": 9,
    "start_time": "2022-10-01T13:04:57.117Z"
   },
   {
    "duration": 34,
    "start_time": "2022-10-01T13:04:57.127Z"
   },
   {
    "duration": 4,
    "start_time": "2022-10-01T13:04:57.162Z"
   },
   {
    "duration": 15,
    "start_time": "2022-10-01T13:04:57.167Z"
   },
   {
    "duration": 10,
    "start_time": "2022-10-01T13:04:57.190Z"
   },
   {
    "duration": 12,
    "start_time": "2022-10-01T13:04:57.202Z"
   },
   {
    "duration": 5,
    "start_time": "2022-10-01T13:04:57.216Z"
   },
   {
    "duration": 35,
    "start_time": "2022-10-01T13:04:57.223Z"
   },
   {
    "duration": 8,
    "start_time": "2022-10-01T13:04:57.260Z"
   },
   {
    "duration": 8,
    "start_time": "2022-10-01T13:04:57.279Z"
   },
   {
    "duration": 16,
    "start_time": "2022-10-01T13:04:57.292Z"
   },
   {
    "duration": 20,
    "start_time": "2022-10-01T13:04:57.309Z"
   },
   {
    "duration": 17,
    "start_time": "2022-10-01T13:04:57.330Z"
   },
   {
    "duration": 4,
    "start_time": "2022-10-01T13:04:57.348Z"
   },
   {
    "duration": 38,
    "start_time": "2022-10-01T13:04:57.354Z"
   },
   {
    "duration": 6,
    "start_time": "2022-10-01T13:04:57.393Z"
   },
   {
    "duration": 3,
    "start_time": "2022-10-01T13:04:57.401Z"
   },
   {
    "duration": 0,
    "start_time": "2022-10-01T13:04:57.406Z"
   },
   {
    "duration": 0,
    "start_time": "2022-10-01T13:04:57.407Z"
   },
   {
    "duration": 0,
    "start_time": "2022-10-01T13:04:57.408Z"
   },
   {
    "duration": 0,
    "start_time": "2022-10-01T13:04:57.409Z"
   },
   {
    "duration": 0,
    "start_time": "2022-10-01T13:04:57.410Z"
   },
   {
    "duration": 3,
    "start_time": "2022-10-01T13:05:17.824Z"
   },
   {
    "duration": 10,
    "start_time": "2022-10-01T13:05:19.411Z"
   },
   {
    "duration": 76,
    "start_time": "2022-10-01T13:07:56.894Z"
   },
   {
    "duration": 28,
    "start_time": "2022-10-01T13:07:56.972Z"
   },
   {
    "duration": 18,
    "start_time": "2022-10-01T13:07:57.002Z"
   },
   {
    "duration": 19,
    "start_time": "2022-10-01T13:07:57.023Z"
   },
   {
    "duration": 70,
    "start_time": "2022-10-01T13:07:57.043Z"
   },
   {
    "duration": 4,
    "start_time": "2022-10-01T13:07:57.114Z"
   },
   {
    "duration": 10,
    "start_time": "2022-10-01T13:07:57.120Z"
   },
   {
    "duration": 5,
    "start_time": "2022-10-01T13:07:57.132Z"
   },
   {
    "duration": 12,
    "start_time": "2022-10-01T13:07:57.139Z"
   },
   {
    "duration": 24,
    "start_time": "2022-10-01T13:07:57.153Z"
   },
   {
    "duration": 36,
    "start_time": "2022-10-01T13:07:57.183Z"
   },
   {
    "duration": 9,
    "start_time": "2022-10-01T13:07:57.220Z"
   },
   {
    "duration": 4,
    "start_time": "2022-10-01T13:07:57.231Z"
   },
   {
    "duration": 45,
    "start_time": "2022-10-01T13:07:57.236Z"
   },
   {
    "duration": 26,
    "start_time": "2022-10-01T13:07:57.287Z"
   },
   {
    "duration": 18,
    "start_time": "2022-10-01T13:07:57.315Z"
   },
   {
    "duration": 4,
    "start_time": "2022-10-01T13:07:57.334Z"
   },
   {
    "duration": 12,
    "start_time": "2022-10-01T13:07:57.341Z"
   },
   {
    "duration": 24,
    "start_time": "2022-10-01T13:07:57.354Z"
   },
   {
    "duration": 4,
    "start_time": "2022-10-01T13:07:57.382Z"
   },
   {
    "duration": 0,
    "start_time": "2022-10-01T13:07:57.390Z"
   },
   {
    "duration": 0,
    "start_time": "2022-10-01T13:07:57.391Z"
   },
   {
    "duration": 0,
    "start_time": "2022-10-01T13:07:57.392Z"
   },
   {
    "duration": 0,
    "start_time": "2022-10-01T13:07:57.393Z"
   },
   {
    "duration": 0,
    "start_time": "2022-10-01T13:07:57.394Z"
   },
   {
    "duration": 4,
    "start_time": "2022-10-01T13:08:06.691Z"
   },
   {
    "duration": 7,
    "start_time": "2022-10-01T13:08:07.429Z"
   },
   {
    "duration": 529,
    "start_time": "2022-10-01T13:08:49.758Z"
   },
   {
    "duration": 25,
    "start_time": "2022-10-01T13:08:50.290Z"
   },
   {
    "duration": 18,
    "start_time": "2022-10-01T13:08:50.317Z"
   },
   {
    "duration": 9,
    "start_time": "2022-10-01T13:08:50.339Z"
   },
   {
    "duration": 90,
    "start_time": "2022-10-01T13:08:50.350Z"
   },
   {
    "duration": 5,
    "start_time": "2022-10-01T13:08:50.442Z"
   },
   {
    "duration": 38,
    "start_time": "2022-10-01T13:08:50.449Z"
   },
   {
    "duration": 7,
    "start_time": "2022-10-01T13:08:50.494Z"
   },
   {
    "duration": 14,
    "start_time": "2022-10-01T13:08:50.503Z"
   },
   {
    "duration": 7,
    "start_time": "2022-10-01T13:08:50.522Z"
   },
   {
    "duration": 70,
    "start_time": "2022-10-01T13:08:50.531Z"
   },
   {
    "duration": 21,
    "start_time": "2022-10-01T13:08:50.604Z"
   },
   {
    "duration": 5,
    "start_time": "2022-10-01T13:08:50.627Z"
   },
   {
    "duration": 34,
    "start_time": "2022-10-01T13:08:50.634Z"
   },
   {
    "duration": 37,
    "start_time": "2022-10-01T13:08:50.670Z"
   },
   {
    "duration": 30,
    "start_time": "2022-10-01T13:08:50.709Z"
   },
   {
    "duration": 5,
    "start_time": "2022-10-01T13:08:50.741Z"
   },
   {
    "duration": 42,
    "start_time": "2022-10-01T13:08:50.749Z"
   },
   {
    "duration": 24,
    "start_time": "2022-10-01T13:08:50.793Z"
   },
   {
    "duration": 10,
    "start_time": "2022-10-01T13:08:50.819Z"
   },
   {
    "duration": 0,
    "start_time": "2022-10-01T13:08:50.831Z"
   },
   {
    "duration": 1,
    "start_time": "2022-10-01T13:08:50.833Z"
   },
   {
    "duration": 0,
    "start_time": "2022-10-01T13:08:50.836Z"
   },
   {
    "duration": 0,
    "start_time": "2022-10-01T13:08:50.837Z"
   },
   {
    "duration": 0,
    "start_time": "2022-10-01T13:08:50.839Z"
   },
   {
    "duration": 30,
    "start_time": "2022-10-01T13:08:58.331Z"
   },
   {
    "duration": 29,
    "start_time": "2022-10-01T13:09:00.309Z"
   },
   {
    "duration": 4,
    "start_time": "2022-10-01T13:09:28.224Z"
   },
   {
    "duration": 40,
    "start_time": "2022-10-01T13:09:47.299Z"
   },
   {
    "duration": 34,
    "start_time": "2022-10-01T13:09:50.865Z"
   },
   {
    "duration": 100,
    "start_time": "2022-10-01T13:09:58.297Z"
   },
   {
    "duration": 31,
    "start_time": "2022-10-01T13:11:03.473Z"
   },
   {
    "duration": 947,
    "start_time": "2022-10-01T13:11:27.960Z"
   },
   {
    "duration": 41,
    "start_time": "2022-10-01T13:11:46.120Z"
   },
   {
    "duration": 488,
    "start_time": "2022-10-01T13:17:16.405Z"
   },
   {
    "duration": 38,
    "start_time": "2022-10-01T13:17:19.062Z"
   },
   {
    "duration": 21,
    "start_time": "2022-10-01T13:17:21.458Z"
   },
   {
    "duration": 10,
    "start_time": "2022-10-01T13:17:24.450Z"
   },
   {
    "duration": 35,
    "start_time": "2022-10-01T13:17:26.193Z"
   },
   {
    "duration": 5,
    "start_time": "2022-10-01T13:17:27.721Z"
   },
   {
    "duration": 12,
    "start_time": "2022-10-01T13:17:28.842Z"
   },
   {
    "duration": 7,
    "start_time": "2022-10-01T13:17:30.604Z"
   },
   {
    "duration": 42,
    "start_time": "2022-10-01T13:17:31.665Z"
   },
   {
    "duration": 5,
    "start_time": "2022-10-01T13:17:33.012Z"
   },
   {
    "duration": 56,
    "start_time": "2022-10-01T13:17:34.955Z"
   },
   {
    "duration": 14,
    "start_time": "2022-10-01T13:17:35.899Z"
   },
   {
    "duration": 5,
    "start_time": "2022-10-01T13:17:37.322Z"
   },
   {
    "duration": 12,
    "start_time": "2022-10-01T13:17:38.619Z"
   },
   {
    "duration": 21,
    "start_time": "2022-10-01T13:17:39.515Z"
   },
   {
    "duration": 18,
    "start_time": "2022-10-01T13:17:39.954Z"
   },
   {
    "duration": 4,
    "start_time": "2022-10-01T13:17:41.468Z"
   },
   {
    "duration": 21,
    "start_time": "2022-10-01T13:17:42.074Z"
   },
   {
    "duration": 6,
    "start_time": "2022-10-01T13:17:43.366Z"
   },
   {
    "duration": 6,
    "start_time": "2022-10-01T13:17:46.010Z"
   },
   {
    "duration": 106,
    "start_time": "2022-10-01T13:21:30.046Z"
   },
   {
    "duration": 7,
    "start_time": "2022-10-01T13:27:31.963Z"
   },
   {
    "duration": 0,
    "start_time": "2022-10-01T13:27:31.972Z"
   },
   {
    "duration": 61,
    "start_time": "2022-10-01T13:27:31.974Z"
   },
   {
    "duration": 26,
    "start_time": "2022-10-01T13:27:32.037Z"
   },
   {
    "duration": 18,
    "start_time": "2022-10-01T13:27:32.064Z"
   },
   {
    "duration": 71,
    "start_time": "2022-10-01T13:27:39.202Z"
   },
   {
    "duration": 28,
    "start_time": "2022-10-01T13:27:39.275Z"
   },
   {
    "duration": 21,
    "start_time": "2022-10-01T13:27:39.306Z"
   },
   {
    "duration": 8,
    "start_time": "2022-10-01T13:27:39.329Z"
   },
   {
    "duration": 69,
    "start_time": "2022-10-01T13:27:39.339Z"
   },
   {
    "duration": 3,
    "start_time": "2022-10-01T13:27:39.411Z"
   },
   {
    "duration": 15,
    "start_time": "2022-10-01T13:27:39.416Z"
   },
   {
    "duration": 5,
    "start_time": "2022-10-01T13:27:39.433Z"
   },
   {
    "duration": 10,
    "start_time": "2022-10-01T13:27:39.440Z"
   },
   {
    "duration": 29,
    "start_time": "2022-10-01T13:27:39.453Z"
   },
   {
    "duration": 57,
    "start_time": "2022-10-01T13:27:39.487Z"
   },
   {
    "duration": 10,
    "start_time": "2022-10-01T13:27:39.546Z"
   },
   {
    "duration": 8,
    "start_time": "2022-10-01T13:27:39.557Z"
   },
   {
    "duration": 27,
    "start_time": "2022-10-01T13:27:39.567Z"
   },
   {
    "duration": 40,
    "start_time": "2022-10-01T13:27:39.598Z"
   },
   {
    "duration": 17,
    "start_time": "2022-10-01T13:27:39.639Z"
   },
   {
    "duration": 3,
    "start_time": "2022-10-01T13:27:39.658Z"
   },
   {
    "duration": 20,
    "start_time": "2022-10-01T13:27:39.662Z"
   },
   {
    "duration": 23,
    "start_time": "2022-10-01T13:27:39.684Z"
   },
   {
    "duration": 4,
    "start_time": "2022-10-01T13:27:39.709Z"
   },
   {
    "duration": 0,
    "start_time": "2022-10-01T13:27:39.715Z"
   },
   {
    "duration": 0,
    "start_time": "2022-10-01T13:27:39.716Z"
   },
   {
    "duration": 0,
    "start_time": "2022-10-01T13:27:39.717Z"
   },
   {
    "duration": 0,
    "start_time": "2022-10-01T13:27:39.719Z"
   },
   {
    "duration": 0,
    "start_time": "2022-10-01T13:27:39.721Z"
   },
   {
    "duration": 466,
    "start_time": "2022-10-01T13:29:14.045Z"
   },
   {
    "duration": 24,
    "start_time": "2022-10-01T13:29:14.513Z"
   },
   {
    "duration": 22,
    "start_time": "2022-10-01T13:29:14.539Z"
   },
   {
    "duration": 30,
    "start_time": "2022-10-01T13:29:14.580Z"
   },
   {
    "duration": 55,
    "start_time": "2022-10-01T13:29:14.612Z"
   },
   {
    "duration": 3,
    "start_time": "2022-10-01T13:29:14.670Z"
   },
   {
    "duration": 38,
    "start_time": "2022-10-01T13:29:14.675Z"
   },
   {
    "duration": 7,
    "start_time": "2022-10-01T13:29:14.715Z"
   },
   {
    "duration": 18,
    "start_time": "2022-10-01T13:29:14.724Z"
   },
   {
    "duration": 12,
    "start_time": "2022-10-01T13:29:14.745Z"
   },
   {
    "duration": 76,
    "start_time": "2022-10-01T13:29:14.759Z"
   },
   {
    "duration": 10,
    "start_time": "2022-10-01T13:29:14.837Z"
   },
   {
    "duration": 9,
    "start_time": "2022-10-01T13:29:14.849Z"
   },
   {
    "duration": 29,
    "start_time": "2022-10-01T13:29:14.861Z"
   },
   {
    "duration": 30,
    "start_time": "2022-10-01T13:29:14.895Z"
   },
   {
    "duration": 18,
    "start_time": "2022-10-01T13:29:14.927Z"
   },
   {
    "duration": 3,
    "start_time": "2022-10-01T13:29:14.947Z"
   },
   {
    "duration": 23,
    "start_time": "2022-10-01T13:29:14.952Z"
   },
   {
    "duration": 31,
    "start_time": "2022-10-01T13:29:14.977Z"
   },
   {
    "duration": 18,
    "start_time": "2022-10-01T13:29:15.009Z"
   },
   {
    "duration": 0,
    "start_time": "2022-10-01T13:29:15.029Z"
   },
   {
    "duration": 1,
    "start_time": "2022-10-01T13:29:15.030Z"
   },
   {
    "duration": 0,
    "start_time": "2022-10-01T13:29:15.032Z"
   },
   {
    "duration": 0,
    "start_time": "2022-10-01T13:29:15.033Z"
   },
   {
    "duration": 0,
    "start_time": "2022-10-01T13:29:15.034Z"
   },
   {
    "duration": 4,
    "start_time": "2022-10-01T13:33:17.845Z"
   },
   {
    "duration": 13,
    "start_time": "2022-10-01T13:33:23.607Z"
   },
   {
    "duration": 32,
    "start_time": "2022-10-01T13:33:44.171Z"
   },
   {
    "duration": 36,
    "start_time": "2022-10-01T13:33:47.275Z"
   },
   {
    "duration": 54,
    "start_time": "2022-10-01T13:33:51.740Z"
   },
   {
    "duration": 950,
    "start_time": "2022-10-01T13:33:55.256Z"
   },
   {
    "duration": 29,
    "start_time": "2022-10-01T13:34:57.415Z"
   },
   {
    "duration": 27,
    "start_time": "2022-10-02T12:52:32.660Z"
   },
   {
    "duration": 24,
    "start_time": "2022-10-02T12:52:39.449Z"
   },
   {
    "duration": 106,
    "start_time": "2022-10-02T12:53:32.727Z"
   },
   {
    "duration": 1248,
    "start_time": "2022-10-02T12:53:45.560Z"
   },
   {
    "duration": 25,
    "start_time": "2022-10-02T12:54:01.564Z"
   },
   {
    "duration": 25,
    "start_time": "2022-10-02T12:54:43.634Z"
   },
   {
    "duration": 26,
    "start_time": "2022-10-02T12:54:51.625Z"
   },
   {
    "duration": 25,
    "start_time": "2022-10-02T12:55:08.690Z"
   },
   {
    "duration": 30,
    "start_time": "2022-10-02T12:55:21.836Z"
   },
   {
    "duration": 40,
    "start_time": "2022-10-02T12:56:49.904Z"
   },
   {
    "duration": 32,
    "start_time": "2022-10-02T12:57:06.894Z"
   },
   {
    "duration": 1072,
    "start_time": "2022-10-02T12:57:34.162Z"
   },
   {
    "duration": 599,
    "start_time": "2022-10-02T12:57:48.029Z"
   },
   {
    "duration": 31,
    "start_time": "2022-10-02T12:58:13.194Z"
   },
   {
    "duration": 29,
    "start_time": "2022-10-02T12:58:23.382Z"
   },
   {
    "duration": 37,
    "start_time": "2022-10-02T12:58:35.280Z"
   },
   {
    "duration": 30,
    "start_time": "2022-10-02T12:59:27.119Z"
   },
   {
    "duration": 31,
    "start_time": "2022-10-02T13:07:11.589Z"
   },
   {
    "duration": 30,
    "start_time": "2022-10-02T13:07:22.267Z"
   },
   {
    "duration": 26,
    "start_time": "2022-10-02T13:07:44.215Z"
   },
   {
    "duration": 28,
    "start_time": "2022-10-02T13:07:47.314Z"
   },
   {
    "duration": 34,
    "start_time": "2022-10-02T13:07:56.579Z"
   },
   {
    "duration": 28,
    "start_time": "2022-10-02T13:08:37.609Z"
   },
   {
    "duration": 30,
    "start_time": "2022-10-02T13:08:49.842Z"
   },
   {
    "duration": 30,
    "start_time": "2022-10-02T13:09:39.659Z"
   },
   {
    "duration": 25,
    "start_time": "2022-10-02T13:23:52.172Z"
   },
   {
    "duration": 27,
    "start_time": "2022-10-02T13:24:01.652Z"
   },
   {
    "duration": 44,
    "start_time": "2022-10-02T13:44:21.261Z"
   },
   {
    "duration": 52,
    "start_time": "2022-10-02T13:44:50.003Z"
   },
   {
    "duration": 80,
    "start_time": "2022-10-02T13:44:55.329Z"
   },
   {
    "duration": 7,
    "start_time": "2022-10-02T13:45:02.777Z"
   },
   {
    "duration": 6,
    "start_time": "2022-10-02T13:45:10.514Z"
   },
   {
    "duration": 18,
    "start_time": "2022-10-02T13:45:30.408Z"
   },
   {
    "duration": 19,
    "start_time": "2022-10-02T13:51:32.384Z"
   },
   {
    "duration": 8,
    "start_time": "2022-10-02T13:52:51.329Z"
   },
   {
    "duration": 8,
    "start_time": "2022-10-02T13:53:14.148Z"
   },
   {
    "duration": 20,
    "start_time": "2022-10-02T13:53:23.319Z"
   },
   {
    "duration": 29,
    "start_time": "2022-10-02T13:54:20.556Z"
   },
   {
    "duration": 17,
    "start_time": "2022-10-02T13:54:53.340Z"
   },
   {
    "duration": 23,
    "start_time": "2022-10-02T13:55:24.599Z"
   },
   {
    "duration": 7,
    "start_time": "2022-10-02T13:56:33.865Z"
   },
   {
    "duration": 7,
    "start_time": "2022-10-02T13:56:47.944Z"
   },
   {
    "duration": 7,
    "start_time": "2022-10-02T13:57:18.600Z"
   },
   {
    "duration": 31,
    "start_time": "2022-10-02T14:13:53.821Z"
   },
   {
    "duration": 32,
    "start_time": "2022-10-02T14:13:56.145Z"
   },
   {
    "duration": 27,
    "start_time": "2022-10-02T14:13:58.491Z"
   },
   {
    "duration": 29,
    "start_time": "2022-10-02T14:14:01.445Z"
   },
   {
    "duration": 72,
    "start_time": "2022-10-02T14:19:37.517Z"
   },
   {
    "duration": 17,
    "start_time": "2022-10-02T14:19:37.591Z"
   },
   {
    "duration": 16,
    "start_time": "2022-10-02T14:19:37.609Z"
   },
   {
    "duration": 14,
    "start_time": "2022-10-02T14:19:37.627Z"
   },
   {
    "duration": 56,
    "start_time": "2022-10-02T14:19:37.643Z"
   },
   {
    "duration": 4,
    "start_time": "2022-10-02T14:19:37.700Z"
   },
   {
    "duration": 11,
    "start_time": "2022-10-02T14:19:37.705Z"
   },
   {
    "duration": 6,
    "start_time": "2022-10-02T14:19:37.718Z"
   },
   {
    "duration": 9,
    "start_time": "2022-10-02T14:19:37.725Z"
   },
   {
    "duration": 5,
    "start_time": "2022-10-02T14:19:37.736Z"
   },
   {
    "duration": 66,
    "start_time": "2022-10-02T14:19:37.743Z"
   },
   {
    "duration": 9,
    "start_time": "2022-10-02T14:19:37.811Z"
   },
   {
    "duration": 4,
    "start_time": "2022-10-02T14:19:37.821Z"
   },
   {
    "duration": 13,
    "start_time": "2022-10-02T14:19:37.826Z"
   },
   {
    "duration": 44,
    "start_time": "2022-10-02T14:19:37.840Z"
   },
   {
    "duration": 15,
    "start_time": "2022-10-02T14:19:37.886Z"
   },
   {
    "duration": 3,
    "start_time": "2022-10-02T14:19:37.903Z"
   },
   {
    "duration": 11,
    "start_time": "2022-10-02T14:19:37.907Z"
   },
   {
    "duration": 9,
    "start_time": "2022-10-02T14:19:37.919Z"
   },
   {
    "duration": 3,
    "start_time": "2022-10-02T14:19:37.930Z"
   },
   {
    "duration": 13,
    "start_time": "2022-10-02T14:19:37.934Z"
   },
   {
    "duration": 56,
    "start_time": "2022-10-02T14:19:37.948Z"
   },
   {
    "duration": 26,
    "start_time": "2022-10-02T14:19:38.006Z"
   },
   {
    "duration": 46,
    "start_time": "2022-10-02T14:19:38.033Z"
   },
   {
    "duration": 26,
    "start_time": "2022-10-02T14:19:38.081Z"
   },
   {
    "duration": 511,
    "start_time": "2022-10-02T15:29:23.721Z"
   },
   {
    "duration": 23,
    "start_time": "2022-10-02T15:29:24.234Z"
   },
   {
    "duration": 15,
    "start_time": "2022-10-02T15:29:24.259Z"
   },
   {
    "duration": 10,
    "start_time": "2022-10-02T15:29:24.276Z"
   },
   {
    "duration": 60,
    "start_time": "2022-10-02T15:29:24.288Z"
   },
   {
    "duration": 4,
    "start_time": "2022-10-02T15:29:24.350Z"
   },
   {
    "duration": 13,
    "start_time": "2022-10-02T15:29:24.356Z"
   },
   {
    "duration": 6,
    "start_time": "2022-10-02T15:29:24.371Z"
   },
   {
    "duration": 14,
    "start_time": "2022-10-02T15:29:24.379Z"
   },
   {
    "duration": 27,
    "start_time": "2022-10-02T15:29:24.396Z"
   },
   {
    "duration": 48,
    "start_time": "2022-10-02T15:29:24.424Z"
   },
   {
    "duration": 9,
    "start_time": "2022-10-02T15:29:24.473Z"
   },
   {
    "duration": 8,
    "start_time": "2022-10-02T15:29:24.484Z"
   },
   {
    "duration": 23,
    "start_time": "2022-10-02T15:29:24.494Z"
   },
   {
    "duration": 50,
    "start_time": "2022-10-02T15:29:24.519Z"
   },
   {
    "duration": 19,
    "start_time": "2022-10-02T15:29:24.571Z"
   },
   {
    "duration": 4,
    "start_time": "2022-10-02T15:29:24.592Z"
   },
   {
    "duration": 22,
    "start_time": "2022-10-02T15:29:24.597Z"
   },
   {
    "duration": 11,
    "start_time": "2022-10-02T15:29:24.621Z"
   },
   {
    "duration": 6,
    "start_time": "2022-10-02T15:29:24.634Z"
   },
   {
    "duration": 18,
    "start_time": "2022-10-02T15:29:24.642Z"
   },
   {
    "duration": 50,
    "start_time": "2022-10-02T15:29:24.662Z"
   },
   {
    "duration": 35,
    "start_time": "2022-10-02T15:29:24.720Z"
   },
   {
    "duration": 34,
    "start_time": "2022-10-02T15:29:24.757Z"
   },
   {
    "duration": 55,
    "start_time": "2022-10-02T15:29:24.793Z"
   },
   {
    "duration": 76,
    "start_time": "2022-10-02T16:28:51.940Z"
   },
   {
    "duration": 53,
    "start_time": "2022-10-03T06:44:54.284Z"
   },
   {
    "duration": 545,
    "start_time": "2022-10-03T06:45:05.997Z"
   },
   {
    "duration": 24,
    "start_time": "2022-10-03T06:45:06.544Z"
   },
   {
    "duration": 31,
    "start_time": "2022-10-03T06:45:06.570Z"
   },
   {
    "duration": 13,
    "start_time": "2022-10-03T06:45:06.602Z"
   },
   {
    "duration": 50,
    "start_time": "2022-10-03T06:45:06.617Z"
   },
   {
    "duration": 5,
    "start_time": "2022-10-03T06:45:06.668Z"
   },
   {
    "duration": 32,
    "start_time": "2022-10-03T06:45:06.675Z"
   },
   {
    "duration": 18,
    "start_time": "2022-10-03T06:45:06.710Z"
   },
   {
    "duration": 26,
    "start_time": "2022-10-03T06:45:06.730Z"
   },
   {
    "duration": 42,
    "start_time": "2022-10-03T06:45:06.759Z"
   },
   {
    "duration": 66,
    "start_time": "2022-10-03T06:45:06.803Z"
   },
   {
    "duration": 11,
    "start_time": "2022-10-03T06:45:06.871Z"
   },
   {
    "duration": 10,
    "start_time": "2022-10-03T06:45:06.884Z"
   },
   {
    "duration": 37,
    "start_time": "2022-10-03T06:45:06.897Z"
   },
   {
    "duration": 38,
    "start_time": "2022-10-03T06:45:06.936Z"
   },
   {
    "duration": 18,
    "start_time": "2022-10-03T06:45:06.976Z"
   },
   {
    "duration": 10,
    "start_time": "2022-10-03T06:45:06.997Z"
   },
   {
    "duration": 39,
    "start_time": "2022-10-03T06:45:07.009Z"
   },
   {
    "duration": 25,
    "start_time": "2022-10-03T06:45:07.050Z"
   },
   {
    "duration": 27,
    "start_time": "2022-10-03T06:45:07.077Z"
   },
   {
    "duration": 31,
    "start_time": "2022-10-03T06:45:07.106Z"
   },
   {
    "duration": 73,
    "start_time": "2022-10-03T06:45:07.139Z"
   },
   {
    "duration": 38,
    "start_time": "2022-10-03T06:45:51.794Z"
   },
   {
    "duration": 1085,
    "start_time": "2022-10-03T06:46:52.521Z"
   },
   {
    "duration": 872,
    "start_time": "2022-10-03T06:47:15.473Z"
   },
   {
    "duration": 1129,
    "start_time": "2022-10-03T06:47:55.282Z"
   },
   {
    "duration": 33,
    "start_time": "2022-10-03T06:48:10.059Z"
   },
   {
    "duration": 1134,
    "start_time": "2022-10-03T06:48:51.018Z"
   },
   {
    "duration": 1239,
    "start_time": "2022-10-03T06:49:09.130Z"
   },
   {
    "duration": 1311,
    "start_time": "2022-10-03T06:49:21.920Z"
   },
   {
    "duration": 1373,
    "start_time": "2022-10-03T06:50:16.923Z"
   },
   {
    "duration": 90,
    "start_time": "2022-10-03T06:50:42.929Z"
   },
   {
    "duration": 77,
    "start_time": "2022-10-03T06:51:19.131Z"
   },
   {
    "duration": 1501,
    "start_time": "2022-10-03T06:51:36.722Z"
   },
   {
    "duration": 31,
    "start_time": "2022-10-03T06:51:54.276Z"
   },
   {
    "duration": 1191,
    "start_time": "2022-10-03T06:52:42.547Z"
   },
   {
    "duration": 930,
    "start_time": "2022-10-03T06:53:17.995Z"
   },
   {
    "duration": 85,
    "start_time": "2022-10-03T06:55:21.131Z"
   },
   {
    "duration": 15,
    "start_time": "2022-10-03T06:55:21.218Z"
   },
   {
    "duration": 20,
    "start_time": "2022-10-03T06:55:21.235Z"
   },
   {
    "duration": 11,
    "start_time": "2022-10-03T06:55:21.257Z"
   },
   {
    "duration": 53,
    "start_time": "2022-10-03T06:55:21.269Z"
   },
   {
    "duration": 3,
    "start_time": "2022-10-03T06:55:21.324Z"
   },
   {
    "duration": 14,
    "start_time": "2022-10-03T06:55:21.329Z"
   },
   {
    "duration": 5,
    "start_time": "2022-10-03T06:55:21.344Z"
   },
   {
    "duration": 9,
    "start_time": "2022-10-03T06:55:21.351Z"
   },
   {
    "duration": 33,
    "start_time": "2022-10-03T06:55:21.362Z"
   },
   {
    "duration": 39,
    "start_time": "2022-10-03T06:55:21.397Z"
   },
   {
    "duration": 11,
    "start_time": "2022-10-03T06:55:21.438Z"
   },
   {
    "duration": 8,
    "start_time": "2022-10-03T06:55:21.451Z"
   },
   {
    "duration": 34,
    "start_time": "2022-10-03T06:55:21.460Z"
   },
   {
    "duration": 23,
    "start_time": "2022-10-03T06:55:21.496Z"
   },
   {
    "duration": 18,
    "start_time": "2022-10-03T06:55:21.520Z"
   },
   {
    "duration": 4,
    "start_time": "2022-10-03T06:55:21.540Z"
   },
   {
    "duration": 13,
    "start_time": "2022-10-03T06:55:21.545Z"
   },
   {
    "duration": 31,
    "start_time": "2022-10-03T06:55:21.560Z"
   },
   {
    "duration": 4,
    "start_time": "2022-10-03T06:55:21.593Z"
   },
   {
    "duration": 16,
    "start_time": "2022-10-03T06:55:21.599Z"
   },
   {
    "duration": 674,
    "start_time": "2022-10-03T07:07:20.881Z"
   },
   {
    "duration": 40,
    "start_time": "2022-10-03T07:07:36.216Z"
   },
   {
    "duration": 397,
    "start_time": "2022-10-03T07:07:56.687Z"
   },
   {
    "duration": 48,
    "start_time": "2022-10-03T07:14:27.785Z"
   },
   {
    "duration": 1027,
    "start_time": "2022-10-03T07:14:46.602Z"
   },
   {
    "duration": 1844,
    "start_time": "2022-10-03T07:16:39.709Z"
   },
   {
    "duration": 1508,
    "start_time": "2022-10-03T07:17:45.179Z"
   },
   {
    "duration": 119,
    "start_time": "2022-10-03T07:23:59.819Z"
   },
   {
    "duration": 1777,
    "start_time": "2022-10-03T07:24:07.484Z"
   },
   {
    "duration": 1440,
    "start_time": "2022-10-03T07:53:11.557Z"
   },
   {
    "duration": 1420,
    "start_time": "2022-10-03T07:53:27.963Z"
   },
   {
    "duration": 29,
    "start_time": "2022-10-03T07:53:49.309Z"
   },
   {
    "duration": 100,
    "start_time": "2022-10-03T07:56:30.584Z"
   },
   {
    "duration": 36,
    "start_time": "2022-10-03T07:56:43.876Z"
   },
   {
    "duration": 21,
    "start_time": "2022-10-03T07:57:02.495Z"
   },
   {
    "duration": 20,
    "start_time": "2022-10-03T07:57:16.506Z"
   },
   {
    "duration": 20,
    "start_time": "2022-10-03T07:57:35.659Z"
   },
   {
    "duration": 27,
    "start_time": "2022-10-03T07:57:49.747Z"
   },
   {
    "duration": 36,
    "start_time": "2022-10-03T08:00:47.644Z"
   },
   {
    "duration": 2053,
    "start_time": "2022-10-03T08:01:11.278Z"
   },
   {
    "duration": 38,
    "start_time": "2022-10-03T08:37:45.213Z"
   },
   {
    "duration": 1448,
    "start_time": "2022-10-03T08:38:32.624Z"
   },
   {
    "duration": 34,
    "start_time": "2022-10-03T08:38:43.336Z"
   },
   {
    "duration": 1481,
    "start_time": "2022-10-03T08:39:15.383Z"
   },
   {
    "duration": 36,
    "start_time": "2022-10-03T08:39:28.936Z"
   },
   {
    "duration": 40,
    "start_time": "2022-10-03T08:39:58.568Z"
   },
   {
    "duration": 33,
    "start_time": "2022-10-03T08:40:21.605Z"
   },
   {
    "duration": 46,
    "start_time": "2022-10-03T08:40:55.985Z"
   },
   {
    "duration": 59,
    "start_time": "2022-10-03T08:41:08.081Z"
   },
   {
    "duration": 1410,
    "start_time": "2022-10-03T08:41:24.727Z"
   },
   {
    "duration": 34,
    "start_time": "2022-10-03T08:41:32.512Z"
   },
   {
    "duration": 39,
    "start_time": "2022-10-03T08:41:46.264Z"
   },
   {
    "duration": 103,
    "start_time": "2022-10-03T08:41:54.968Z"
   },
   {
    "duration": 33,
    "start_time": "2022-10-03T08:42:01.041Z"
   },
   {
    "duration": 34,
    "start_time": "2022-10-03T08:45:56.883Z"
   },
   {
    "duration": 953,
    "start_time": "2022-10-03T08:46:36.036Z"
   },
   {
    "duration": 45,
    "start_time": "2022-10-03T08:47:29.386Z"
   },
   {
    "duration": 7,
    "start_time": "2022-10-03T08:50:28.667Z"
   },
   {
    "duration": 42,
    "start_time": "2022-10-03T08:51:05.796Z"
   },
   {
    "duration": 39,
    "start_time": "2022-10-03T08:51:16.796Z"
   },
   {
    "duration": 38,
    "start_time": "2022-10-03T08:51:27.979Z"
   },
   {
    "duration": 35,
    "start_time": "2022-10-03T08:54:26.788Z"
   },
   {
    "duration": 37,
    "start_time": "2022-10-03T08:54:45.575Z"
   },
   {
    "duration": 38,
    "start_time": "2022-10-03T08:54:57.405Z"
   },
   {
    "duration": 35,
    "start_time": "2022-10-03T08:55:15.621Z"
   },
   {
    "duration": 31,
    "start_time": "2022-10-03T08:56:24.006Z"
   },
   {
    "duration": 32,
    "start_time": "2022-10-03T08:57:27.637Z"
   },
   {
    "duration": 38,
    "start_time": "2022-10-03T08:59:24.325Z"
   },
   {
    "duration": 41,
    "start_time": "2022-10-03T08:59:51.270Z"
   },
   {
    "duration": 41,
    "start_time": "2022-10-03T09:01:44.446Z"
   },
   {
    "duration": 35,
    "start_time": "2022-10-03T09:02:04.174Z"
   },
   {
    "duration": 1106,
    "start_time": "2022-10-03T09:02:37.768Z"
   },
   {
    "duration": 931,
    "start_time": "2022-10-03T09:04:26.536Z"
   },
   {
    "duration": 1333,
    "start_time": "2022-10-03T09:09:14.993Z"
   },
   {
    "duration": 38,
    "start_time": "2022-10-03T09:11:21.048Z"
   },
   {
    "duration": 39,
    "start_time": "2022-10-03T09:11:35.033Z"
   },
   {
    "duration": 39,
    "start_time": "2022-10-03T09:13:10.539Z"
   },
   {
    "duration": 54,
    "start_time": "2022-10-03T09:13:53.187Z"
   },
   {
    "duration": 56,
    "start_time": "2022-10-03T09:14:51.881Z"
   },
   {
    "duration": 31,
    "start_time": "2022-10-03T09:24:17.517Z"
   },
   {
    "duration": 1271,
    "start_time": "2022-10-03T09:26:47.306Z"
   },
   {
    "duration": 1702,
    "start_time": "2022-10-03T09:26:56.125Z"
   },
   {
    "duration": 35,
    "start_time": "2022-10-03T09:27:05.998Z"
   },
   {
    "duration": 1057,
    "start_time": "2022-10-03T09:27:34.888Z"
   },
   {
    "duration": 1716,
    "start_time": "2022-10-03T09:27:48.671Z"
   },
   {
    "duration": 79,
    "start_time": "2022-10-03T09:28:05.018Z"
   },
   {
    "duration": 36,
    "start_time": "2022-10-03T09:28:11.477Z"
   },
   {
    "duration": 36,
    "start_time": "2022-10-03T09:28:46.679Z"
   },
   {
    "duration": 93,
    "start_time": "2022-10-03T09:29:07.583Z"
   },
   {
    "duration": 79,
    "start_time": "2022-10-03T09:29:15.710Z"
   },
   {
    "duration": 68,
    "start_time": "2022-10-03T09:29:51.046Z"
   },
   {
    "duration": 96,
    "start_time": "2022-10-03T09:29:55.878Z"
   },
   {
    "duration": 33,
    "start_time": "2022-10-03T09:30:04.838Z"
   },
   {
    "duration": 35,
    "start_time": "2022-10-03T09:30:33.219Z"
   },
   {
    "duration": 34,
    "start_time": "2022-10-03T09:30:44.831Z"
   },
   {
    "duration": 38,
    "start_time": "2022-10-03T09:31:31.168Z"
   },
   {
    "duration": 42,
    "start_time": "2022-10-03T09:33:33.768Z"
   },
   {
    "duration": 35,
    "start_time": "2022-10-03T09:33:40.623Z"
   },
   {
    "duration": 1407,
    "start_time": "2022-10-03T09:33:54.546Z"
   },
   {
    "duration": 1361,
    "start_time": "2022-10-03T09:34:04.456Z"
   },
   {
    "duration": 38,
    "start_time": "2022-10-03T09:34:14.962Z"
   },
   {
    "duration": 2384,
    "start_time": "2022-10-03T09:38:11.154Z"
   },
   {
    "duration": 35,
    "start_time": "2022-10-03T09:38:40.514Z"
   },
   {
    "duration": 43,
    "start_time": "2022-10-03T09:40:27.874Z"
   },
   {
    "duration": 36,
    "start_time": "2022-10-03T09:40:46.401Z"
   },
   {
    "duration": 44,
    "start_time": "2022-10-03T09:41:03.075Z"
   },
   {
    "duration": 54,
    "start_time": "2022-10-03T09:43:12.051Z"
   },
   {
    "duration": 40,
    "start_time": "2022-10-03T09:43:34.843Z"
   },
   {
    "duration": 45,
    "start_time": "2022-10-03T09:44:00.667Z"
   },
   {
    "duration": 51,
    "start_time": "2022-10-03T09:44:45.651Z"
   },
   {
    "duration": 48,
    "start_time": "2022-10-03T09:45:02.664Z"
   },
   {
    "duration": 50,
    "start_time": "2022-10-03T09:45:16.084Z"
   },
   {
    "duration": 45,
    "start_time": "2022-10-03T09:45:29.371Z"
   },
   {
    "duration": 48,
    "start_time": "2022-10-03T09:47:19.052Z"
   },
   {
    "duration": 1513,
    "start_time": "2022-10-03T10:25:30.415Z"
   },
   {
    "duration": 1305,
    "start_time": "2022-10-03T10:26:03.433Z"
   },
   {
    "duration": 1185,
    "start_time": "2022-10-03T10:26:26.502Z"
   },
   {
    "duration": 1350,
    "start_time": "2022-10-03T10:26:55.375Z"
   },
   {
    "duration": 1651,
    "start_time": "2022-10-03T10:27:21.106Z"
   },
   {
    "duration": 30,
    "start_time": "2022-10-03T10:27:36.824Z"
   },
   {
    "duration": 1333,
    "start_time": "2022-10-03T10:27:54.087Z"
   },
   {
    "duration": 32,
    "start_time": "2022-10-03T10:28:47.248Z"
   },
   {
    "duration": 35,
    "start_time": "2022-10-03T10:28:54.224Z"
   },
   {
    "duration": 38,
    "start_time": "2022-10-03T10:29:22.680Z"
   },
   {
    "duration": 44,
    "start_time": "2022-10-03T10:30:16.584Z"
   },
   {
    "duration": 52,
    "start_time": "2022-10-03T10:32:20.857Z"
   },
   {
    "duration": 53,
    "start_time": "2022-10-03T10:34:00.466Z"
   },
   {
    "duration": 81,
    "start_time": "2022-10-03T11:23:59.836Z"
   },
   {
    "duration": 16,
    "start_time": "2022-10-03T11:23:59.919Z"
   },
   {
    "duration": 20,
    "start_time": "2022-10-03T11:23:59.937Z"
   },
   {
    "duration": 10,
    "start_time": "2022-10-03T11:23:59.960Z"
   },
   {
    "duration": 57,
    "start_time": "2022-10-03T11:23:59.989Z"
   },
   {
    "duration": 3,
    "start_time": "2022-10-03T11:24:00.050Z"
   },
   {
    "duration": 12,
    "start_time": "2022-10-03T11:24:00.055Z"
   },
   {
    "duration": 8,
    "start_time": "2022-10-03T11:24:00.088Z"
   },
   {
    "duration": 27,
    "start_time": "2022-10-03T11:24:00.105Z"
   },
   {
    "duration": 10,
    "start_time": "2022-10-03T11:24:00.135Z"
   },
   {
    "duration": 43,
    "start_time": "2022-10-03T11:24:00.146Z"
   },
   {
    "duration": 16,
    "start_time": "2022-10-03T11:24:00.191Z"
   },
   {
    "duration": 5,
    "start_time": "2022-10-03T11:24:00.209Z"
   },
   {
    "duration": 20,
    "start_time": "2022-10-03T11:24:00.216Z"
   },
   {
    "duration": 28,
    "start_time": "2022-10-03T11:24:00.238Z"
   },
   {
    "duration": 39,
    "start_time": "2022-10-03T11:24:00.267Z"
   },
   {
    "duration": 5,
    "start_time": "2022-10-03T11:24:00.309Z"
   },
   {
    "duration": 17,
    "start_time": "2022-10-03T11:24:00.316Z"
   },
   {
    "duration": 16,
    "start_time": "2022-10-03T11:24:00.335Z"
   },
   {
    "duration": 9,
    "start_time": "2022-10-03T11:24:00.353Z"
   },
   {
    "duration": 28,
    "start_time": "2022-10-03T11:24:00.364Z"
   },
   {
    "duration": 51,
    "start_time": "2022-10-03T11:24:00.394Z"
   },
   {
    "duration": 57,
    "start_time": "2022-10-03T11:24:00.447Z"
   },
   {
    "duration": 44,
    "start_time": "2022-10-03T11:24:00.506Z"
   },
   {
    "duration": 63,
    "start_time": "2022-10-03T11:24:00.552Z"
   }
  ],
  "colab": {
   "name": "dpp_template_part2.ipynb",
   "provenance": []
  },
  "kernelspec": {
   "display_name": "Python 3 (ipykernel)",
   "language": "python",
   "name": "python3"
  },
  "language_info": {
   "codemirror_mode": {
    "name": "ipython",
    "version": 3
   },
   "file_extension": ".py",
   "mimetype": "text/x-python",
   "name": "python",
   "nbconvert_exporter": "python",
   "pygments_lexer": "ipython3",
   "version": "3.9.5"
  },
  "toc": {
   "base_numbering": 1,
   "nav_menu": {},
   "number_sections": true,
   "sideBar": true,
   "skip_h1_title": true,
   "title_cell": "Table of Contents",
   "title_sidebar": "Contents",
   "toc_cell": false,
   "toc_position": {},
   "toc_section_display": true,
   "toc_window_display": false
  }
 },
 "nbformat": 4,
 "nbformat_minor": 5
}
