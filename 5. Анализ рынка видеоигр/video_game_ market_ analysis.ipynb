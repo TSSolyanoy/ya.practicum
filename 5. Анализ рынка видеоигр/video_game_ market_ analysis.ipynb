{
 "cells": [
  {
   "cell_type": "markdown",
   "metadata": {},
   "source": [
    "# Исследование данных о продаже компьютерных игр\n",
    "# Цель исследования\n",
    "Выявить закономерности, определяющие успешность игры. Это позволит сделать ставку на потенциально популярный продукт и спланировать рекламные кампании.\n",
    "# Входные данные \n",
    "Из открытых источников доступны исторические данные о продажах игр, оценки пользователей и экспертов, жанры и платформы (например, Xbox или PlayStation) до 2016 года\n"
   ]
  },
  {
   "cell_type": "markdown",
   "metadata": {},
   "source": [
    "## Открытие и изучение файла с данными"
   ]
  },
  {
   "cell_type": "code",
   "execution_count": 15,
   "metadata": {},
   "outputs": [],
   "source": [
    "import pandas as pd\n",
    "import numpy as np\n",
    "import seaborn as sns\n",
    "from scipy import stats as st\n",
    "\n",
    "try: \n",
    "    data = pd.read_csv('/datasets/games.csv')\n",
    "except:\n",
    "    data = pd.read_csv('https://code.s3.yandex.net/datasets/games.csv')  "
   ]
  },
  {
   "cell_type": "code",
   "execution_count": 16,
   "metadata": {},
   "outputs": [
    {
     "data": {
      "text/html": [
       "<div>\n",
       "<style scoped>\n",
       "    .dataframe tbody tr th:only-of-type {\n",
       "        vertical-align: middle;\n",
       "    }\n",
       "\n",
       "    .dataframe tbody tr th {\n",
       "        vertical-align: top;\n",
       "    }\n",
       "\n",
       "    .dataframe thead th {\n",
       "        text-align: right;\n",
       "    }\n",
       "</style>\n",
       "<table border=\"1\" class=\"dataframe\">\n",
       "  <thead>\n",
       "    <tr style=\"text-align: right;\">\n",
       "      <th></th>\n",
       "      <th>Name</th>\n",
       "      <th>Platform</th>\n",
       "      <th>Year_of_Release</th>\n",
       "      <th>Genre</th>\n",
       "      <th>NA_sales</th>\n",
       "      <th>EU_sales</th>\n",
       "      <th>JP_sales</th>\n",
       "      <th>Other_sales</th>\n",
       "      <th>Critic_Score</th>\n",
       "      <th>User_Score</th>\n",
       "      <th>Rating</th>\n",
       "    </tr>\n",
       "  </thead>\n",
       "  <tbody>\n",
       "    <tr>\n",
       "      <th>0</th>\n",
       "      <td>Wii Sports</td>\n",
       "      <td>Wii</td>\n",
       "      <td>2006.0</td>\n",
       "      <td>Sports</td>\n",
       "      <td>41.36</td>\n",
       "      <td>28.96</td>\n",
       "      <td>3.77</td>\n",
       "      <td>8.45</td>\n",
       "      <td>76.0</td>\n",
       "      <td>8</td>\n",
       "      <td>E</td>\n",
       "    </tr>\n",
       "    <tr>\n",
       "      <th>1</th>\n",
       "      <td>Super Mario Bros.</td>\n",
       "      <td>NES</td>\n",
       "      <td>1985.0</td>\n",
       "      <td>Platform</td>\n",
       "      <td>29.08</td>\n",
       "      <td>3.58</td>\n",
       "      <td>6.81</td>\n",
       "      <td>0.77</td>\n",
       "      <td>NaN</td>\n",
       "      <td>NaN</td>\n",
       "      <td>NaN</td>\n",
       "    </tr>\n",
       "    <tr>\n",
       "      <th>2</th>\n",
       "      <td>Mario Kart Wii</td>\n",
       "      <td>Wii</td>\n",
       "      <td>2008.0</td>\n",
       "      <td>Racing</td>\n",
       "      <td>15.68</td>\n",
       "      <td>12.76</td>\n",
       "      <td>3.79</td>\n",
       "      <td>3.29</td>\n",
       "      <td>82.0</td>\n",
       "      <td>8.3</td>\n",
       "      <td>E</td>\n",
       "    </tr>\n",
       "    <tr>\n",
       "      <th>3</th>\n",
       "      <td>Wii Sports Resort</td>\n",
       "      <td>Wii</td>\n",
       "      <td>2009.0</td>\n",
       "      <td>Sports</td>\n",
       "      <td>15.61</td>\n",
       "      <td>10.93</td>\n",
       "      <td>3.28</td>\n",
       "      <td>2.95</td>\n",
       "      <td>80.0</td>\n",
       "      <td>8</td>\n",
       "      <td>E</td>\n",
       "    </tr>\n",
       "    <tr>\n",
       "      <th>4</th>\n",
       "      <td>Pokemon Red/Pokemon Blue</td>\n",
       "      <td>GB</td>\n",
       "      <td>1996.0</td>\n",
       "      <td>Role-Playing</td>\n",
       "      <td>11.27</td>\n",
       "      <td>8.89</td>\n",
       "      <td>10.22</td>\n",
       "      <td>1.00</td>\n",
       "      <td>NaN</td>\n",
       "      <td>NaN</td>\n",
       "      <td>NaN</td>\n",
       "    </tr>\n",
       "    <tr>\n",
       "      <th>5</th>\n",
       "      <td>Tetris</td>\n",
       "      <td>GB</td>\n",
       "      <td>1989.0</td>\n",
       "      <td>Puzzle</td>\n",
       "      <td>23.20</td>\n",
       "      <td>2.26</td>\n",
       "      <td>4.22</td>\n",
       "      <td>0.58</td>\n",
       "      <td>NaN</td>\n",
       "      <td>NaN</td>\n",
       "      <td>NaN</td>\n",
       "    </tr>\n",
       "    <tr>\n",
       "      <th>6</th>\n",
       "      <td>New Super Mario Bros.</td>\n",
       "      <td>DS</td>\n",
       "      <td>2006.0</td>\n",
       "      <td>Platform</td>\n",
       "      <td>11.28</td>\n",
       "      <td>9.14</td>\n",
       "      <td>6.50</td>\n",
       "      <td>2.88</td>\n",
       "      <td>89.0</td>\n",
       "      <td>8.5</td>\n",
       "      <td>E</td>\n",
       "    </tr>\n",
       "    <tr>\n",
       "      <th>7</th>\n",
       "      <td>Wii Play</td>\n",
       "      <td>Wii</td>\n",
       "      <td>2006.0</td>\n",
       "      <td>Misc</td>\n",
       "      <td>13.96</td>\n",
       "      <td>9.18</td>\n",
       "      <td>2.93</td>\n",
       "      <td>2.84</td>\n",
       "      <td>58.0</td>\n",
       "      <td>6.6</td>\n",
       "      <td>E</td>\n",
       "    </tr>\n",
       "    <tr>\n",
       "      <th>8</th>\n",
       "      <td>New Super Mario Bros. Wii</td>\n",
       "      <td>Wii</td>\n",
       "      <td>2009.0</td>\n",
       "      <td>Platform</td>\n",
       "      <td>14.44</td>\n",
       "      <td>6.94</td>\n",
       "      <td>4.70</td>\n",
       "      <td>2.24</td>\n",
       "      <td>87.0</td>\n",
       "      <td>8.4</td>\n",
       "      <td>E</td>\n",
       "    </tr>\n",
       "    <tr>\n",
       "      <th>9</th>\n",
       "      <td>Duck Hunt</td>\n",
       "      <td>NES</td>\n",
       "      <td>1984.0</td>\n",
       "      <td>Shooter</td>\n",
       "      <td>26.93</td>\n",
       "      <td>0.63</td>\n",
       "      <td>0.28</td>\n",
       "      <td>0.47</td>\n",
       "      <td>NaN</td>\n",
       "      <td>NaN</td>\n",
       "      <td>NaN</td>\n",
       "    </tr>\n",
       "  </tbody>\n",
       "</table>\n",
       "</div>"
      ],
      "text/plain": [
       "                        Name Platform  Year_of_Release         Genre  \\\n",
       "0                 Wii Sports      Wii           2006.0        Sports   \n",
       "1          Super Mario Bros.      NES           1985.0      Platform   \n",
       "2             Mario Kart Wii      Wii           2008.0        Racing   \n",
       "3          Wii Sports Resort      Wii           2009.0        Sports   \n",
       "4   Pokemon Red/Pokemon Blue       GB           1996.0  Role-Playing   \n",
       "5                     Tetris       GB           1989.0        Puzzle   \n",
       "6      New Super Mario Bros.       DS           2006.0      Platform   \n",
       "7                   Wii Play      Wii           2006.0          Misc   \n",
       "8  New Super Mario Bros. Wii      Wii           2009.0      Platform   \n",
       "9                  Duck Hunt      NES           1984.0       Shooter   \n",
       "\n",
       "   NA_sales  EU_sales  JP_sales  Other_sales  Critic_Score User_Score Rating  \n",
       "0     41.36     28.96      3.77         8.45          76.0          8      E  \n",
       "1     29.08      3.58      6.81         0.77           NaN        NaN    NaN  \n",
       "2     15.68     12.76      3.79         3.29          82.0        8.3      E  \n",
       "3     15.61     10.93      3.28         2.95          80.0          8      E  \n",
       "4     11.27      8.89     10.22         1.00           NaN        NaN    NaN  \n",
       "5     23.20      2.26      4.22         0.58           NaN        NaN    NaN  \n",
       "6     11.28      9.14      6.50         2.88          89.0        8.5      E  \n",
       "7     13.96      9.18      2.93         2.84          58.0        6.6      E  \n",
       "8     14.44      6.94      4.70         2.24          87.0        8.4      E  \n",
       "9     26.93      0.63      0.28         0.47           NaN        NaN    NaN  "
      ]
     },
     "execution_count": 16,
     "metadata": {},
     "output_type": "execute_result"
    }
   ],
   "source": [
    "data.head(10)"
   ]
  },
  {
   "cell_type": "code",
   "execution_count": 17,
   "metadata": {},
   "outputs": [
    {
     "name": "stdout",
     "output_type": "stream",
     "text": [
      "<class 'pandas.core.frame.DataFrame'>\n",
      "RangeIndex: 16715 entries, 0 to 16714\n",
      "Data columns (total 11 columns):\n",
      " #   Column           Non-Null Count  Dtype  \n",
      "---  ------           --------------  -----  \n",
      " 0   Name             16713 non-null  object \n",
      " 1   Platform         16715 non-null  object \n",
      " 2   Year_of_Release  16446 non-null  float64\n",
      " 3   Genre            16713 non-null  object \n",
      " 4   NA_sales         16715 non-null  float64\n",
      " 5   EU_sales         16715 non-null  float64\n",
      " 6   JP_sales         16715 non-null  float64\n",
      " 7   Other_sales      16715 non-null  float64\n",
      " 8   Critic_Score     8137 non-null   float64\n",
      " 9   User_Score       10014 non-null  object \n",
      " 10  Rating           9949 non-null   object \n",
      "dtypes: float64(6), object(5)\n",
      "memory usage: 1.4+ MB\n"
     ]
    }
   ],
   "source": [
    "data.info()"
   ]
  },
  {
   "cell_type": "markdown",
   "metadata": {},
   "source": [
    "## Подготовка данных\n",
    "* Замена названий столбцов (приведение к нижнему регистру);\n",
    "* Обработка пропусков при необходимости;\n",
    "* Преобразование данных в нужные типы;\n",
    "* подсчет суммарных продаж во всех регионах и запись их в отдельный столбец."
   ]
  },
  {
   "cell_type": "markdown",
   "metadata": {},
   "source": [
    "### Замена названий столбцов"
   ]
  },
  {
   "cell_type": "code",
   "execution_count": 18,
   "metadata": {},
   "outputs": [],
   "source": [
    "data.columns = data.columns.str.lower()"
   ]
  },
  {
   "cell_type": "markdown",
   "metadata": {},
   "source": [
    "### Обработка пропусков"
   ]
  },
  {
   "cell_type": "code",
   "execution_count": 19,
   "metadata": {},
   "outputs": [
    {
     "data": {
      "text/plain": [
       "0"
      ]
     },
     "execution_count": 19,
     "metadata": {},
     "output_type": "execute_result"
    }
   ],
   "source": [
    "data.duplicated().sum() #поиск реальных дубликатов"
   ]
  },
  {
   "cell_type": "code",
   "execution_count": 20,
   "metadata": {},
   "outputs": [
    {
     "data": {
      "text/html": [
       "<div>\n",
       "<style scoped>\n",
       "    .dataframe tbody tr th:only-of-type {\n",
       "        vertical-align: middle;\n",
       "    }\n",
       "\n",
       "    .dataframe tbody tr th {\n",
       "        vertical-align: top;\n",
       "    }\n",
       "\n",
       "    .dataframe thead th {\n",
       "        text-align: right;\n",
       "    }\n",
       "</style>\n",
       "<table border=\"1\" class=\"dataframe\">\n",
       "  <thead>\n",
       "    <tr style=\"text-align: right;\">\n",
       "      <th></th>\n",
       "      <th>name</th>\n",
       "      <th>platform</th>\n",
       "      <th>year_of_release</th>\n",
       "      <th>genre</th>\n",
       "      <th>na_sales</th>\n",
       "      <th>eu_sales</th>\n",
       "      <th>jp_sales</th>\n",
       "      <th>other_sales</th>\n",
       "      <th>critic_score</th>\n",
       "      <th>user_score</th>\n",
       "      <th>rating</th>\n",
       "    </tr>\n",
       "  </thead>\n",
       "  <tbody>\n",
       "    <tr>\n",
       "      <th>659</th>\n",
       "      <td>NaN</td>\n",
       "      <td>GEN</td>\n",
       "      <td>1993.0</td>\n",
       "      <td>NaN</td>\n",
       "      <td>1.78</td>\n",
       "      <td>0.53</td>\n",
       "      <td>0.00</td>\n",
       "      <td>0.08</td>\n",
       "      <td>NaN</td>\n",
       "      <td>NaN</td>\n",
       "      <td>NaN</td>\n",
       "    </tr>\n",
       "    <tr>\n",
       "      <th>14244</th>\n",
       "      <td>NaN</td>\n",
       "      <td>GEN</td>\n",
       "      <td>1993.0</td>\n",
       "      <td>NaN</td>\n",
       "      <td>0.00</td>\n",
       "      <td>0.00</td>\n",
       "      <td>0.03</td>\n",
       "      <td>0.00</td>\n",
       "      <td>NaN</td>\n",
       "      <td>NaN</td>\n",
       "      <td>NaN</td>\n",
       "    </tr>\n",
       "  </tbody>\n",
       "</table>\n",
       "</div>"
      ],
      "text/plain": [
       "      name platform  year_of_release genre  na_sales  eu_sales  jp_sales  \\\n",
       "659    NaN      GEN           1993.0   NaN      1.78      0.53      0.00   \n",
       "14244  NaN      GEN           1993.0   NaN      0.00      0.00      0.03   \n",
       "\n",
       "       other_sales  critic_score user_score rating  \n",
       "659           0.08           NaN        NaN    NaN  \n",
       "14244         0.00           NaN        NaN    NaN  "
      ]
     },
     "execution_count": 20,
     "metadata": {},
     "output_type": "execute_result"
    }
   ],
   "source": [
    "data[pd.isna(data['genre'])] #вывод пропусков в столбе genre"
   ]
  },
  {
   "cell_type": "code",
   "execution_count": 21,
   "metadata": {},
   "outputs": [],
   "source": [
    "data = data.dropna(subset = ['genre']) # удаление строк с пропуском в столбце genre и name\n",
    "data = data.dropna(subset = ['year_of_release']) # удаление строк с пропуском в столбце year_of_release"
   ]
  },
  {
   "cell_type": "code",
   "execution_count": 22,
   "metadata": {},
   "outputs": [],
   "source": [
    "#data['year_of_release'] = data['year_of_release'].fillna(0) # замена пропусков в столбце year_of_release на 0"
   ]
  },
  {
   "cell_type": "code",
   "execution_count": 23,
   "metadata": {},
   "outputs": [],
   "source": [
    "#data[data['year_of_release'] == 0]['year_of_release'].count()"
   ]
  },
  {
   "cell_type": "code",
   "execution_count": 24,
   "metadata": {},
   "outputs": [],
   "source": [
    "data = data.dropna(subset = ['year_of_release'])\n"
   ]
  },
  {
   "cell_type": "code",
   "execution_count": 25,
   "metadata": {},
   "outputs": [
    {
     "data": {
      "text/plain": [
       "array([76., nan, 82., 80., 89., 58., 87., 91., 61., 97., 95., 77., 88.,\n",
       "       83., 94., 93., 85., 86., 98., 96., 90., 84., 73., 74., 78., 92.,\n",
       "       71., 72., 68., 62., 49., 67., 81., 66., 56., 79., 70., 59., 64.,\n",
       "       75., 60., 63., 69., 50., 25., 42., 44., 55., 48., 57., 29., 47.,\n",
       "       65., 54., 20., 53., 37., 38., 33., 52., 30., 32., 43., 45., 51.,\n",
       "       40., 46., 39., 34., 41., 36., 31., 27., 35., 26., 19., 28., 23.,\n",
       "       24., 21., 17., 13.])"
      ]
     },
     "execution_count": 25,
     "metadata": {},
     "output_type": "execute_result"
    }
   ],
   "source": [
    "data['critic_score'].unique() # вывод уникальных значений в столбце critic_score"
   ]
  },
  {
   "cell_type": "code",
   "execution_count": 26,
   "metadata": {},
   "outputs": [],
   "source": [
    "data['critic_score'] = data['critic_score'].fillna(0) # замена пропусков в столбце critic_score на 0"
   ]
  },
  {
   "cell_type": "code",
   "execution_count": 27,
   "metadata": {},
   "outputs": [
    {
     "data": {
      "text/plain": [
       "array(['8', nan, '8.3', '8.5', '6.6', '8.4', '8.6', '7.7', '6.3', '7.4',\n",
       "       '8.2', '9', '7.9', '8.1', '8.7', '7.1', '3.4', '5.3', '4.8', '3.2',\n",
       "       '8.9', '6.4', '7.8', '7.5', '2.6', '7.2', '9.2', '7', '7.3', '4.3',\n",
       "       '7.6', '5.7', '5', '9.1', '6.5', 'tbd', '8.8', '6.9', '9.4', '6.8',\n",
       "       '6.1', '6.7', '5.4', '4', '4.9', '4.5', '9.3', '6.2', '4.2', '6',\n",
       "       '3.7', '4.1', '5.8', '5.6', '5.5', '4.4', '4.6', '5.9', '3.9',\n",
       "       '3.1', '2.9', '5.2', '3.3', '4.7', '5.1', '3.5', '2.5', '1.9', '3',\n",
       "       '2.7', '2.2', '2', '9.5', '2.1', '3.6', '2.8', '1.8', '3.8', '0',\n",
       "       '1.6', '9.6', '2.4', '1.7', '1.1', '0.3', '1.5', '0.7', '1.2',\n",
       "       '2.3', '0.5', '1.3', '0.2', '0.6', '1.4', '0.9', '1', '9.7'],\n",
       "      dtype=object)"
      ]
     },
     "execution_count": 27,
     "metadata": {},
     "output_type": "execute_result"
    }
   ],
   "source": [
    "data['user_score'].unique() # вывод уникальных значений в столбце user_score"
   ]
  },
  {
   "cell_type": "code",
   "execution_count": 28,
   "metadata": {},
   "outputs": [
    {
     "data": {
      "text/plain": [
       "2376"
      ]
     },
     "execution_count": 28,
     "metadata": {},
     "output_type": "execute_result"
    }
   ],
   "source": [
    "data[data['user_score'] == 'tbd']['user_score'].count() # подсчет количества значений tbd в столбце user_score. \n",
    "#Вероятно они носят технический характер для дальнейшего анализа приравняем их к пропускам"
   ]
  },
  {
   "cell_type": "code",
   "execution_count": 29,
   "metadata": {},
   "outputs": [],
   "source": [
    "data.loc[data['user_score'] == 'tbd','user_score'] = np.nan\n",
    "data['user_score'] = data['user_score'].fillna(-1) # замена tbd на -1"
   ]
  },
  {
   "cell_type": "code",
   "execution_count": 30,
   "metadata": {},
   "outputs": [
    {
     "data": {
      "text/plain": [
       "array(['E', nan, 'M', 'T', 'E10+', 'K-A', 'AO', 'EC', 'RP'], dtype=object)"
      ]
     },
     "execution_count": 30,
     "metadata": {},
     "output_type": "execute_result"
    }
   ],
   "source": [
    "data['rating'].unique() # вывод уникальных значений в столбце rating"
   ]
  },
  {
   "cell_type": "code",
   "execution_count": 31,
   "metadata": {},
   "outputs": [],
   "source": [
    "data['rating'] = data['rating'].fillna('With_out_rating') # замена пропусков в столбце critic_score на фразу 'With_out_rating'"
   ]
  },
  {
   "cell_type": "code",
   "execution_count": 32,
   "metadata": {},
   "outputs": [
    {
     "data": {
      "text/plain": [
       "array(['E', 'With_out_rating', 'M', 'T', 'E10+', 'K-A', 'AO', 'EC', 'RP'],\n",
       "      dtype=object)"
      ]
     },
     "execution_count": 32,
     "metadata": {},
     "output_type": "execute_result"
    }
   ],
   "source": [
    "data['rating'].unique() # вывод уникальных значений в столбце rating"
   ]
  },
  {
   "cell_type": "code",
   "execution_count": 33,
   "metadata": {},
   "outputs": [
    {
     "name": "stdout",
     "output_type": "stream",
     "text": [
      "<class 'pandas.core.frame.DataFrame'>\n",
      "Int64Index: 16444 entries, 0 to 16714\n",
      "Data columns (total 11 columns):\n",
      " #   Column           Non-Null Count  Dtype  \n",
      "---  ------           --------------  -----  \n",
      " 0   name             16444 non-null  object \n",
      " 1   platform         16444 non-null  object \n",
      " 2   year_of_release  16444 non-null  float64\n",
      " 3   genre            16444 non-null  object \n",
      " 4   na_sales         16444 non-null  float64\n",
      " 5   eu_sales         16444 non-null  float64\n",
      " 6   jp_sales         16444 non-null  float64\n",
      " 7   other_sales      16444 non-null  float64\n",
      " 8   critic_score     16444 non-null  float64\n",
      " 9   user_score       16444 non-null  object \n",
      " 10  rating           16444 non-null  object \n",
      "dtypes: float64(6), object(5)\n",
      "memory usage: 1.5+ MB\n"
     ]
    }
   ],
   "source": [
    "data.info()"
   ]
  },
  {
   "cell_type": "markdown",
   "metadata": {},
   "source": [
    "**Вывод:** \n",
    "* Явные пропуски не выялены. \n",
    "* Выявлены пропуски в столбцах name и genre для двух игр, так как для этих игр присутствуют пропуски и в других столбцах, а уровни продаж минимальны их можно удалить без вреда для дальнейшего исследования.\n",
    "* Удалены строки с пропусками в year_of_release.\n",
    "* Пропуски в столбце critic_score заменены на 0, так как при стобальной системе оценивания оценка 0 крайнемаловероятна, а на дальнейшее исследование не повлияет (или позволит учесть при анализе)\n",
    "* Пропуски в столбце user_score заменена на -1, чтобы отличить от реальных оценок 0. Так же произведена замена оценки 'tbd', которая вероятно иммет технический характер и фактически является пропуском. Так же заменена на -1.\n",
    "\n",
    "В целом пропуски в данных вероятно связаны с тем, что игра еще не вышла на рынок на момент сбора данных."
   ]
  },
  {
   "cell_type": "markdown",
   "metadata": {},
   "source": [
    "###  Преобразование данных"
   ]
  },
  {
   "cell_type": "code",
   "execution_count": 34,
   "metadata": {},
   "outputs": [],
   "source": [
    "data['year_of_release'] = data['year_of_release'].astype('int')"
   ]
  },
  {
   "cell_type": "code",
   "execution_count": 35,
   "metadata": {},
   "outputs": [],
   "source": [
    "data['critic_score'] = data['critic_score'].astype('int')"
   ]
  },
  {
   "cell_type": "code",
   "execution_count": 36,
   "metadata": {},
   "outputs": [],
   "source": [
    "data['user_score'] = data['user_score'].astype('float')"
   ]
  },
  {
   "cell_type": "code",
   "execution_count": 37,
   "metadata": {},
   "outputs": [
    {
     "name": "stdout",
     "output_type": "stream",
     "text": [
      "<class 'pandas.core.frame.DataFrame'>\n",
      "Int64Index: 16444 entries, 0 to 16714\n",
      "Data columns (total 11 columns):\n",
      " #   Column           Non-Null Count  Dtype  \n",
      "---  ------           --------------  -----  \n",
      " 0   name             16444 non-null  object \n",
      " 1   platform         16444 non-null  object \n",
      " 2   year_of_release  16444 non-null  int64  \n",
      " 3   genre            16444 non-null  object \n",
      " 4   na_sales         16444 non-null  float64\n",
      " 5   eu_sales         16444 non-null  float64\n",
      " 6   jp_sales         16444 non-null  float64\n",
      " 7   other_sales      16444 non-null  float64\n",
      " 8   critic_score     16444 non-null  int64  \n",
      " 9   user_score       16444 non-null  float64\n",
      " 10  rating           16444 non-null  object \n",
      "dtypes: float64(5), int64(2), object(4)\n",
      "memory usage: 1.5+ MB\n"
     ]
    }
   ],
   "source": [
    "data.info() "
   ]
  },
  {
   "cell_type": "markdown",
   "metadata": {},
   "source": [
    "**Вывод:** \n",
    "* Столбец year_of_release преобразован в int, для дальнейшего анализа данного типа достаточно, так как анализ будет производиться только по годам без привязки к месяцам и дням\n",
    "* Столбец critic_score преобразован в int так как стобальная система оценивания не подрозумевает дробные оценки и данного типа достоточно\n",
    "* Столбец user_score преобразован в float, так как система оценивания десятибальная с дроббными оценками и мы заменяли пропуски значением -1."
   ]
  },
  {
   "cell_type": "markdown",
   "metadata": {},
   "source": [
    "### Подсчет суммарных продаж во всех регионах и запись их в отдельный столбец."
   ]
  },
  {
   "cell_type": "code",
   "execution_count": 39,
   "metadata": {},
   "outputs": [
    {
     "data": {
      "text/html": [
       "<div>\n",
       "<style scoped>\n",
       "    .dataframe tbody tr th:only-of-type {\n",
       "        vertical-align: middle;\n",
       "    }\n",
       "\n",
       "    .dataframe tbody tr th {\n",
       "        vertical-align: top;\n",
       "    }\n",
       "\n",
       "    .dataframe thead th {\n",
       "        text-align: right;\n",
       "    }\n",
       "</style>\n",
       "<table border=\"1\" class=\"dataframe\">\n",
       "  <thead>\n",
       "    <tr style=\"text-align: right;\">\n",
       "      <th></th>\n",
       "      <th>name</th>\n",
       "      <th>platform</th>\n",
       "      <th>year_of_release</th>\n",
       "      <th>genre</th>\n",
       "      <th>na_sales</th>\n",
       "      <th>eu_sales</th>\n",
       "      <th>jp_sales</th>\n",
       "      <th>other_sales</th>\n",
       "      <th>critic_score</th>\n",
       "      <th>user_score</th>\n",
       "      <th>rating</th>\n",
       "      <th>sum_sales</th>\n",
       "    </tr>\n",
       "  </thead>\n",
       "  <tbody>\n",
       "    <tr>\n",
       "      <th>0</th>\n",
       "      <td>Wii Sports</td>\n",
       "      <td>Wii</td>\n",
       "      <td>2006</td>\n",
       "      <td>Sports</td>\n",
       "      <td>41.36</td>\n",
       "      <td>28.96</td>\n",
       "      <td>3.77</td>\n",
       "      <td>8.45</td>\n",
       "      <td>76</td>\n",
       "      <td>8.0</td>\n",
       "      <td>E</td>\n",
       "      <td>82.54</td>\n",
       "    </tr>\n",
       "    <tr>\n",
       "      <th>1</th>\n",
       "      <td>Super Mario Bros.</td>\n",
       "      <td>NES</td>\n",
       "      <td>1985</td>\n",
       "      <td>Platform</td>\n",
       "      <td>29.08</td>\n",
       "      <td>3.58</td>\n",
       "      <td>6.81</td>\n",
       "      <td>0.77</td>\n",
       "      <td>0</td>\n",
       "      <td>-1.0</td>\n",
       "      <td>With_out_rating</td>\n",
       "      <td>40.24</td>\n",
       "    </tr>\n",
       "    <tr>\n",
       "      <th>2</th>\n",
       "      <td>Mario Kart Wii</td>\n",
       "      <td>Wii</td>\n",
       "      <td>2008</td>\n",
       "      <td>Racing</td>\n",
       "      <td>15.68</td>\n",
       "      <td>12.76</td>\n",
       "      <td>3.79</td>\n",
       "      <td>3.29</td>\n",
       "      <td>82</td>\n",
       "      <td>8.3</td>\n",
       "      <td>E</td>\n",
       "      <td>35.52</td>\n",
       "    </tr>\n",
       "    <tr>\n",
       "      <th>3</th>\n",
       "      <td>Wii Sports Resort</td>\n",
       "      <td>Wii</td>\n",
       "      <td>2009</td>\n",
       "      <td>Sports</td>\n",
       "      <td>15.61</td>\n",
       "      <td>10.93</td>\n",
       "      <td>3.28</td>\n",
       "      <td>2.95</td>\n",
       "      <td>80</td>\n",
       "      <td>8.0</td>\n",
       "      <td>E</td>\n",
       "      <td>32.77</td>\n",
       "    </tr>\n",
       "    <tr>\n",
       "      <th>4</th>\n",
       "      <td>Pokemon Red/Pokemon Blue</td>\n",
       "      <td>GB</td>\n",
       "      <td>1996</td>\n",
       "      <td>Role-Playing</td>\n",
       "      <td>11.27</td>\n",
       "      <td>8.89</td>\n",
       "      <td>10.22</td>\n",
       "      <td>1.00</td>\n",
       "      <td>0</td>\n",
       "      <td>-1.0</td>\n",
       "      <td>With_out_rating</td>\n",
       "      <td>31.38</td>\n",
       "    </tr>\n",
       "  </tbody>\n",
       "</table>\n",
       "</div>"
      ],
      "text/plain": [
       "                       name platform  year_of_release         genre  na_sales  \\\n",
       "0                Wii Sports      Wii             2006        Sports     41.36   \n",
       "1         Super Mario Bros.      NES             1985      Platform     29.08   \n",
       "2            Mario Kart Wii      Wii             2008        Racing     15.68   \n",
       "3         Wii Sports Resort      Wii             2009        Sports     15.61   \n",
       "4  Pokemon Red/Pokemon Blue       GB             1996  Role-Playing     11.27   \n",
       "\n",
       "   eu_sales  jp_sales  other_sales  critic_score  user_score           rating  \\\n",
       "0     28.96      3.77         8.45            76         8.0                E   \n",
       "1      3.58      6.81         0.77             0        -1.0  With_out_rating   \n",
       "2     12.76      3.79         3.29            82         8.3                E   \n",
       "3     10.93      3.28         2.95            80         8.0                E   \n",
       "4      8.89     10.22         1.00             0        -1.0  With_out_rating   \n",
       "\n",
       "   sum_sales  \n",
       "0      82.54  \n",
       "1      40.24  \n",
       "2      35.52  \n",
       "3      32.77  \n",
       "4      31.38  "
      ]
     },
     "execution_count": 39,
     "metadata": {},
     "output_type": "execute_result"
    }
   ],
   "source": [
    "data['sum_sales'] = data[['na_sales','eu_sales','jp_sales', 'other_sales']].sum(axis = 1)\n",
    "# = data['na_sales'] + data['eu_sales'] + data['jp_sales'] + data['other_sales']\n",
    "data.head()"
   ]
  },
  {
   "cell_type": "markdown",
   "metadata": {},
   "source": [
    "## Исследовательский анализ данных"
   ]
  },
  {
   "cell_type": "markdown",
   "metadata": {},
   "source": [
    "### Анализ распределения количества игр по годам"
   ]
  },
  {
   "cell_type": "code",
   "execution_count": 73,
   "metadata": {},
   "outputs": [
    {
     "data": {
      "text/plain": [
       "Text(0.5, 1.0, 'Расределение кол-ва игр по годам')"
      ]
     },
     "execution_count": 73,
     "metadata": {},
     "output_type": "execute_result"
    },
    {
     "data": {
      "image/png": "[encoded data removed]",
      "text/plain": [
       "<Figure size 432x288 with 1 Axes>"
      ]
     },
     "metadata": {
      "needs_background": "light"
     },
     "output_type": "display_data"
    }
   ],
   "source": [
    "ax = data[data['year_of_release'] > 0]['year_of_release'].plot(kind='hist', bins=73, grid=True)\n",
    "ax.set_xlabel('Год')\n",
    "ax.set_ylabel('Кол-во игр')\n",
    "ax.set_title('Расределение кол-ва игр по годам')"
   ]
  },
  {
   "cell_type": "markdown",
   "metadata": {},
   "source": [
    "**Вывод:**\n",
    "Бурный рост количества игр наблюдается в 2000-х, до этого периода игровая индустрия находилась в зачаточном состоянии.\n",
    "Пик по количеству игр наблюдается в 2008 и 2009 годах и далее следует спад, вероятно связанный с перенасыщением рынка и появлением новой платформы в лице смартфонов. Мобильный гейминг начал отнимать ощутимую часть геймеров у традиционных платформ."
   ]
  },
  {
   "cell_type": "markdown",
   "metadata": {},
   "source": [
    "### Анализ распределения продаж по платформам "
   ]
  },
  {
   "cell_type": "code",
   "execution_count": 45,
   "metadata": {},
   "outputs": [],
   "source": [
    "data_with_year = data[data['year_of_release'] > 0]\n"
   ]
  },
  {
   "cell_type": "code",
   "execution_count": 46,
   "metadata": {},
   "outputs": [
    {
     "data": {
      "text/plain": [
       "Text(-3.825000000000003, 0.5, 'Платформа')"
      ]
     },
     "execution_count": 46,
     "metadata": {},
     "output_type": "execute_result"
    },
    {
     "data": {
      "image/png": "[encoded data removed]",
      "text/plain": [
       "<Figure size 360x360 with 1 Axes>"
      ]
     },
     "metadata": {
      "needs_background": "light"
     },
     "output_type": "display_data"
    }
   ],
   "source": [
    "from matplotlib import pyplot as plt\n",
    "sns.relplot(data = data_with_year\n",
    "            ,y = 'platform'\n",
    "            ,x = 'year_of_release'        \n",
    "            )\n",
    "plt.title('Распределение платформ по годам')\n",
    "plt.xlabel('Год')\n",
    "plt.ylabel('Платформа')\n"
   ]
  },
  {
   "cell_type": "markdown",
   "metadata": {},
   "source": [
    "**Вывод:**\n",
    "По графику видно, что в среднем платформы поддерживаются 5-10 лет, за исключением платформы PC которая даже при переходе на качественно новый уровень производительности считается единой платформой"
   ]
  },
  {
   "cell_type": "markdown",
   "metadata": {},
   "source": [
    "### Проведения анализа за актуальный период"
   ]
  },
  {
   "cell_type": "markdown",
   "metadata": {},
   "source": [
    "На основании пунктов 3.1. и 3.2 актальным периодом примим период с 2012 года"
   ]
  },
  {
   "cell_type": "markdown",
   "metadata": {},
   "source": [
    "####  Определение платформ лидирующих по количеству продаж,  определение динамики продаж за актуальный период"
   ]
  },
  {
   "cell_type": "code",
   "execution_count": 48,
   "metadata": {},
   "outputs": [
    {
     "data": {
      "image/png": "[encoded data removed]",
      "text/plain": [
       "<Figure size 1250.5x792 with 1 Axes>"
      ]
     },
     "metadata": {
      "needs_background": "light"
     },
     "output_type": "display_data"
    }
   ],
   "source": [
    "top=10\n",
    "act_per = data[data['year_of_release'] >= 2012]\n",
    "game_top_sale_act_per = act_per.pivot_table(\n",
    "    index=['year_of_release','platform'],\n",
    "    values='sum_sales', \n",
    "    aggfunc='sum', \n",
    "    fill_value=0\n",
    ")\n",
    "game_top_sale_act_per.reset_index(inplace=True)\n",
    "\n",
    "platform_top_sale_act_per = game_top_sale_act_per.groupby(['platform']) \\\n",
    ".agg(sales=('sum_sales', 'sum')) \\\n",
    ".sort_values(by='sales', ascending=False) \\\n",
    ".head(top).index.tolist()\n",
    "\n",
    "\n",
    "sns.relplot(\n",
    "    x='year_of_release', \n",
    "    y='sum_sales', \n",
    "    hue='platform', \n",
    "    kind=\"line\", \n",
    "    marker='o', \n",
    "    hue_order= platform_top_sale_act_per,\n",
    "    palette='Paired', \n",
    "    data=game_top_sale_act_per.query('platform in @platform_top_sale_act_per'), \n",
    "    height=11, \n",
    "    aspect=1.5  \n",
    ")\n",
    "plt.title('Суммарное количество продаж по платформам за актуальный период')\n",
    "plt.xlabel('Год')\n",
    "plt.ylabel('Глобальные продажи')\n",
    "plt.show()"
   ]
  },
  {
   "cell_type": "code",
   "execution_count": 49,
   "metadata": {
    "scrolled": false
   },
   "outputs": [
    {
     "data": {
      "image/png": "[encoded data removed]",
      "text/plain": [
       "<Figure size 864x432 with 1 Axes>"
      ]
     },
     "metadata": {
      "needs_background": "light"
     },
     "output_type": "display_data"
    }
   ],
   "source": [
    "fig,ax = plt.subplots(figsize=(12,6))\n",
    "act_per.query('platform == @platform_top_sale_act_per').pivot_table(values='sum_sales', index=['name'],\n",
    "                                                 columns='platform').boxplot(ax=ax, grid=True)\n",
    "\n",
    "\n",
    "ax.set_ylim(0,2)\n",
    "plt.show()"
   ]
  },
  {
   "cell_type": "markdown",
   "metadata": {},
   "source": [
    "**Вывод:** Так как в данных отражен не полный 2016 год (не учтены рожденственские продажи, которые могут оказать значительное влияние), то 2016 год можно не учитывать. На графике отмечены 10 лидирующих платформ за актуальный период с 2012 года, из них рост показали только PS4 и XOne, что не удевительно так как они обе вышли в 2013 году.  "
   ]
  },
  {
   "cell_type": "markdown",
   "metadata": {},
   "source": [
    "####  Определение влияния на продажи внутри одной популярной платформы отзывов пользователей и критиков"
   ]
  },
  {
   "cell_type": "markdown",
   "metadata": {},
   "source": [
    "Для примера возьмем платформу с наибольшим количеством продаж в конце актуального периода PS3."
   ]
  },
  {
   "cell_type": "code",
   "execution_count": 53,
   "metadata": {},
   "outputs": [
    {
     "data": {
      "image/png": "[encoded data removed]",
      "text/plain": [
       "<Figure size 432x288 with 1 Axes>"
      ]
     },
     "metadata": {
      "needs_background": "light"
     },
     "output_type": "display_data"
    }
   ],
   "source": [
    "fnl_act_per = act_per.query('platform == @platform_top_sale_act_per & critic_score !=0 & user_score !=-1')\n",
    "ax = fnl_act_per.query('platform == \"PS3\"')\\\n",
    ".pivot_table(index=['name'], \n",
    "             values=['critic_score', 'user_score', 'sum_sales'],\n",
    "             aggfunc='sum') \\\n",
    ".plot(x='sum_sales',\n",
    "      y='critic_score',\n",
    "      kind='scatter')\n",
    "ax.set_xlim(0.1)\n",
    "ax.set_ylim(0,100)\n",
    "ax.set_title('Влияние отзывов критиков на продажи')\n",
    "plt.xlabel('Уровень продаж')\n",
    "plt.ylabel('Оценка критиков')\n",
    "plt.show()"
   ]
  },
  {
   "cell_type": "code",
   "execution_count": 54,
   "metadata": {},
   "outputs": [
    {
     "data": {
      "image/png": "[encoded data removed]",
      "text/plain": [
       "<Figure size 432x288 with 1 Axes>"
      ]
     },
     "metadata": {
      "needs_background": "light"
     },
     "output_type": "display_data"
    }
   ],
   "source": [
    "ax = fnl_act_per.query('platform == \"PS3\" & critic_score !=0 & user_score !=-1')\\\n",
    ".pivot_table(index=['name'], \n",
    "             values=['critic_score', 'user_score', 'sum_sales'],\n",
    "             aggfunc='sum') \\\n",
    ".plot(x='sum_sales',\n",
    "      y='user_score',\n",
    "      kind='scatter')\n",
    "\n",
    "ax.set_title('Влияние отзывов игроков на продажи')\n",
    "ax.set_xlim(0.1)\n",
    "ax.set_ylim(0,10)\n",
    "plt.xlabel('Уровень продаж')\n",
    "plt.ylabel('Оценка игроков')\n",
    "plt.show()"
   ]
  },
  {
   "cell_type": "code",
   "execution_count": 55,
   "metadata": {},
   "outputs": [
    {
     "data": {
      "text/html": [
       "<div>\n",
       "<style scoped>\n",
       "    .dataframe tbody tr th:only-of-type {\n",
       "        vertical-align: middle;\n",
       "    }\n",
       "\n",
       "    .dataframe tbody tr th {\n",
       "        vertical-align: top;\n",
       "    }\n",
       "\n",
       "    .dataframe thead th {\n",
       "        text-align: right;\n",
       "    }\n",
       "</style>\n",
       "<table border=\"1\" class=\"dataframe\">\n",
       "  <thead>\n",
       "    <tr style=\"text-align: right;\">\n",
       "      <th>platform</th>\n",
       "      <th>3DS</th>\n",
       "      <th>DS</th>\n",
       "      <th>PC</th>\n",
       "      <th>PS3</th>\n",
       "      <th>PS4</th>\n",
       "      <th>PSV</th>\n",
       "      <th>Wii</th>\n",
       "      <th>WiiU</th>\n",
       "      <th>X360</th>\n",
       "      <th>XOne</th>\n",
       "    </tr>\n",
       "  </thead>\n",
       "  <tbody>\n",
       "    <tr>\n",
       "      <th>count</th>\n",
       "      <td>100.000</td>\n",
       "      <td>1.00</td>\n",
       "      <td>197.000</td>\n",
       "      <td>212.000</td>\n",
       "      <td>249.000</td>\n",
       "      <td>106.000</td>\n",
       "      <td>5.000</td>\n",
       "      <td>89.000</td>\n",
       "      <td>171.000</td>\n",
       "      <td>165.000</td>\n",
       "    </tr>\n",
       "    <tr>\n",
       "      <th>mean</th>\n",
       "      <td>0.795</td>\n",
       "      <td>1.02</td>\n",
       "      <td>0.288</td>\n",
       "      <td>0.977</td>\n",
       "      <td>0.981</td>\n",
       "      <td>0.254</td>\n",
       "      <td>2.646</td>\n",
       "      <td>0.742</td>\n",
       "      <td>1.058</td>\n",
       "      <td>0.789</td>\n",
       "    </tr>\n",
       "    <tr>\n",
       "      <th>std</th>\n",
       "      <td>1.496</td>\n",
       "      <td>NaN</td>\n",
       "      <td>0.540</td>\n",
       "      <td>2.052</td>\n",
       "      <td>1.646</td>\n",
       "      <td>0.272</td>\n",
       "      <td>2.613</td>\n",
       "      <td>1.215</td>\n",
       "      <td>2.038</td>\n",
       "      <td>1.041</td>\n",
       "    </tr>\n",
       "    <tr>\n",
       "      <th>min</th>\n",
       "      <td>0.010</td>\n",
       "      <td>1.02</td>\n",
       "      <td>0.010</td>\n",
       "      <td>0.010</td>\n",
       "      <td>0.010</td>\n",
       "      <td>0.010</td>\n",
       "      <td>0.140</td>\n",
       "      <td>0.010</td>\n",
       "      <td>0.010</td>\n",
       "      <td>0.010</td>\n",
       "    </tr>\n",
       "    <tr>\n",
       "      <th>25%</th>\n",
       "      <td>0.150</td>\n",
       "      <td>1.02</td>\n",
       "      <td>0.040</td>\n",
       "      <td>0.200</td>\n",
       "      <td>0.080</td>\n",
       "      <td>0.090</td>\n",
       "      <td>0.680</td>\n",
       "      <td>0.120</td>\n",
       "      <td>0.180</td>\n",
       "      <td>0.120</td>\n",
       "    </tr>\n",
       "    <tr>\n",
       "      <th>50%</th>\n",
       "      <td>0.325</td>\n",
       "      <td>1.02</td>\n",
       "      <td>0.120</td>\n",
       "      <td>0.440</td>\n",
       "      <td>0.300</td>\n",
       "      <td>0.170</td>\n",
       "      <td>2.520</td>\n",
       "      <td>0.370</td>\n",
       "      <td>0.480</td>\n",
       "      <td>0.340</td>\n",
       "    </tr>\n",
       "    <tr>\n",
       "      <th>75%</th>\n",
       "      <td>0.770</td>\n",
       "      <td>1.02</td>\n",
       "      <td>0.290</td>\n",
       "      <td>0.960</td>\n",
       "      <td>1.100</td>\n",
       "      <td>0.328</td>\n",
       "      <td>3.130</td>\n",
       "      <td>0.730</td>\n",
       "      <td>1.090</td>\n",
       "      <td>1.160</td>\n",
       "    </tr>\n",
       "    <tr>\n",
       "      <th>max</th>\n",
       "      <td>9.900</td>\n",
       "      <td>1.02</td>\n",
       "      <td>5.140</td>\n",
       "      <td>21.050</td>\n",
       "      <td>12.620</td>\n",
       "      <td>1.470</td>\n",
       "      <td>6.760</td>\n",
       "      <td>7.090</td>\n",
       "      <td>16.270</td>\n",
       "      <td>5.470</td>\n",
       "    </tr>\n",
       "  </tbody>\n",
       "</table>\n",
       "</div>"
      ],
      "text/plain": [
       "platform      3DS    DS       PC      PS3      PS4      PSV    Wii    WiiU  \\\n",
       "count     100.000  1.00  197.000  212.000  249.000  106.000  5.000  89.000   \n",
       "mean        0.795  1.02    0.288    0.977    0.981    0.254  2.646   0.742   \n",
       "std         1.496   NaN    0.540    2.052    1.646    0.272  2.613   1.215   \n",
       "min         0.010  1.02    0.010    0.010    0.010    0.010  0.140   0.010   \n",
       "25%         0.150  1.02    0.040    0.200    0.080    0.090  0.680   0.120   \n",
       "50%         0.325  1.02    0.120    0.440    0.300    0.170  2.520   0.370   \n",
       "75%         0.770  1.02    0.290    0.960    1.100    0.328  3.130   0.730   \n",
       "max         9.900  1.02    5.140   21.050   12.620    1.470  6.760   7.090   \n",
       "\n",
       "platform     X360     XOne  \n",
       "count     171.000  165.000  \n",
       "mean        1.058    0.789  \n",
       "std         2.038    1.041  \n",
       "min         0.010    0.010  \n",
       "25%         0.180    0.120  \n",
       "50%         0.480    0.340  \n",
       "75%         1.090    1.160  \n",
       "max        16.270    5.470  "
      ]
     },
     "execution_count": 55,
     "metadata": {},
     "output_type": "execute_result"
    }
   ],
   "source": [
    "fnl_act_per.pivot_table(values='sum_sales', \n",
    "                        index=['name'],\n",
    "                        columns='platform')\\\n",
    ".describe()\\\n",
    ".round(3)"
   ]
  },
  {
   "cell_type": "markdown",
   "metadata": {},
   "source": [
    "**Вывод:** На примере лидера по количеству продаж PS3 видно, что отзывы критиков оказывают значительно большее влияние на количество продаж чем отзывы игроков."
   ]
  },
  {
   "cell_type": "code",
   "execution_count": 56,
   "metadata": {},
   "outputs": [
    {
     "name": "stdout",
     "output_type": "stream",
     "text": [
      "platform                PS4\n",
      "             platform      \n",
      "critic_score PS4       0.41\n",
      "sum_sales    PS4       1.00\n",
      "user_score   PS4      -0.03\n",
      "platform                PSV\n",
      "             platform      \n",
      "critic_score PSV       0.09\n",
      "sum_sales    PSV       1.00\n",
      "user_score   PSV       0.01\n",
      "platform                3DS\n",
      "             platform      \n",
      "critic_score 3DS       0.31\n",
      "sum_sales    3DS       1.00\n",
      "user_score   3DS       0.20\n"
     ]
    }
   ],
   "source": [
    "top_3_platform_sale_act_per = ['PS4', 'PSV', '3DS']\n",
    "for i in top_3_platform_sale_act_per:\n",
    "    stat=fnl_act_per.query('platform == @i')\\\n",
    "    .pivot_table(index='name',\n",
    "                 values=['user_score','critic_score', 'sum_sales'], \n",
    "                 columns='platform')\\\n",
    "    .corr()\\\n",
    "    .round(2)\n",
    "    stat = stat.loc[:, 'sum_sales']\n",
    "    print(stat)"
   ]
  },
  {
   "cell_type": "markdown",
   "metadata": {},
   "source": [
    "**Вывод:** Результаты у трех следующих по количеству платформ аналогичные, оценки критиков оказывают большее влияние на продажи чем оченки игроков."
   ]
  },
  {
   "cell_type": "code",
   "execution_count": 57,
   "metadata": {},
   "outputs": [
    {
     "data": {
      "text/html": [
       "<div>\n",
       "<style scoped>\n",
       "    .dataframe tbody tr th:only-of-type {\n",
       "        vertical-align: middle;\n",
       "    }\n",
       "\n",
       "    .dataframe tbody tr th {\n",
       "        vertical-align: top;\n",
       "    }\n",
       "\n",
       "    .dataframe thead tr th {\n",
       "        text-align: left;\n",
       "    }\n",
       "\n",
       "    .dataframe thead tr:last-of-type th {\n",
       "        text-align: right;\n",
       "    }\n",
       "</style>\n",
       "<table border=\"1\" class=\"dataframe\">\n",
       "  <thead>\n",
       "    <tr>\n",
       "      <th></th>\n",
       "      <th>count</th>\n",
       "      <th>sum</th>\n",
       "      <th>mean</th>\n",
       "    </tr>\n",
       "    <tr>\n",
       "      <th></th>\n",
       "      <th>sum_sales</th>\n",
       "      <th>sum_sales</th>\n",
       "      <th>sum_sales</th>\n",
       "    </tr>\n",
       "    <tr>\n",
       "      <th>genre</th>\n",
       "      <th></th>\n",
       "      <th></th>\n",
       "      <th></th>\n",
       "    </tr>\n",
       "  </thead>\n",
       "  <tbody>\n",
       "    <tr>\n",
       "      <th>Action</th>\n",
       "      <td>432</td>\n",
       "      <td>329.84</td>\n",
       "      <td>0.763519</td>\n",
       "    </tr>\n",
       "    <tr>\n",
       "      <th>Adventure</th>\n",
       "      <td>58</td>\n",
       "      <td>11.70</td>\n",
       "      <td>0.201724</td>\n",
       "    </tr>\n",
       "    <tr>\n",
       "      <th>Fighting</th>\n",
       "      <td>64</td>\n",
       "      <td>26.28</td>\n",
       "      <td>0.410625</td>\n",
       "    </tr>\n",
       "    <tr>\n",
       "      <th>Misc</th>\n",
       "      <td>56</td>\n",
       "      <td>37.91</td>\n",
       "      <td>0.676964</td>\n",
       "    </tr>\n",
       "    <tr>\n",
       "      <th>Platform</th>\n",
       "      <td>58</td>\n",
       "      <td>49.39</td>\n",
       "      <td>0.851552</td>\n",
       "    </tr>\n",
       "    <tr>\n",
       "      <th>Puzzle</th>\n",
       "      <td>9</td>\n",
       "      <td>3.14</td>\n",
       "      <td>0.348889</td>\n",
       "    </tr>\n",
       "    <tr>\n",
       "      <th>Racing</th>\n",
       "      <td>79</td>\n",
       "      <td>41.56</td>\n",
       "      <td>0.526076</td>\n",
       "    </tr>\n",
       "    <tr>\n",
       "      <th>Role-Playing</th>\n",
       "      <td>160</td>\n",
       "      <td>91.65</td>\n",
       "      <td>0.572812</td>\n",
       "    </tr>\n",
       "    <tr>\n",
       "      <th>Shooter</th>\n",
       "      <td>171</td>\n",
       "      <td>241.64</td>\n",
       "      <td>1.413099</td>\n",
       "    </tr>\n",
       "    <tr>\n",
       "      <th>Simulation</th>\n",
       "      <td>37</td>\n",
       "      <td>24.75</td>\n",
       "      <td>0.668919</td>\n",
       "    </tr>\n",
       "    <tr>\n",
       "      <th>Sports</th>\n",
       "      <td>141</td>\n",
       "      <td>140.07</td>\n",
       "      <td>0.993404</td>\n",
       "    </tr>\n",
       "    <tr>\n",
       "      <th>Strategy</th>\n",
       "      <td>31</td>\n",
       "      <td>9.43</td>\n",
       "      <td>0.304194</td>\n",
       "    </tr>\n",
       "  </tbody>\n",
       "</table>\n",
       "</div>"
      ],
      "text/plain": [
       "                 count       sum      mean\n",
       "             sum_sales sum_sales sum_sales\n",
       "genre                                     \n",
       "Action             432    329.84  0.763519\n",
       "Adventure           58     11.70  0.201724\n",
       "Fighting            64     26.28  0.410625\n",
       "Misc                56     37.91  0.676964\n",
       "Platform            58     49.39  0.851552\n",
       "Puzzle               9      3.14  0.348889\n",
       "Racing              79     41.56  0.526076\n",
       "Role-Playing       160     91.65  0.572812\n",
       "Shooter            171    241.64  1.413099\n",
       "Simulation          37     24.75  0.668919\n",
       "Sports             141    140.07  0.993404\n",
       "Strategy            31      9.43  0.304194"
      ]
     },
     "execution_count": 57,
     "metadata": {},
     "output_type": "execute_result"
    }
   ],
   "source": [
    "genre_act_per = fnl_act_per.pivot_table(index='genre', \n",
    "                                        values='sum_sales',\n",
    "                            aggfunc=['count', 'sum','mean'])\n",
    "genre_act_per"
   ]
  },
  {
   "cell_type": "markdown",
   "metadata": {},
   "source": [
    "**Вывод:** Самый популярный жанр по количеству игр и как следствие итоговым продажам предсказуемо Action, но максимальная средняя прибыль от одной игры у жанра Shooter"
   ]
  },
  {
   "cell_type": "markdown",
   "metadata": {},
   "source": [
    "## Портрет пользователя отдельно для каждого региона"
   ]
  },
  {
   "cell_type": "markdown",
   "metadata": {},
   "source": [
    "###  Определение жанровых предпочтений в разных регионах"
   ]
  },
  {
   "cell_type": "code",
   "execution_count": 58,
   "metadata": {},
   "outputs": [
    {
     "data": {
      "text/plain": [
       "<AxesSubplot:title={'center':'Распределение продаж по жанрам в Северной Америке'}, xlabel='genre'>"
      ]
     },
     "execution_count": 58,
     "metadata": {},
     "output_type": "execute_result"
    },
    {
     "data": {
      "image/png": "[encoded data removed]",
      "text/plain": [
       "<Figure size 432x288 with 1 Axes>"
      ]
     },
     "metadata": {
      "needs_background": "light"
     },
     "output_type": "display_data"
    }
   ],
   "source": [
    "act_per.groupby(by='genre')\\\n",
    ".agg({'na_sales':'sum'})\\\n",
    ".sort_values(by='na_sales', ascending=False)\\\n",
    ".head(5)\\\n",
    ".plot(kind='bar', title = 'Распределение продаж по жанрам в Северной Америке')"
   ]
  },
  {
   "cell_type": "code",
   "execution_count": 61,
   "metadata": {},
   "outputs": [
    {
     "data": {
      "text/plain": [
       "<AxesSubplot:title={'center':'Распределение продаж по жанрам в Европе'}, xlabel='genre'>"
      ]
     },
     "execution_count": 61,
     "metadata": {},
     "output_type": "execute_result"
    },
    {
     "data": {
      "image/png": "[encoded data removed]",
      "text/plain": [
       "<Figure size 432x288 with 1 Axes>"
      ]
     },
     "metadata": {
      "needs_background": "light"
     },
     "output_type": "display_data"
    }
   ],
   "source": [
    "act_per.groupby(by='genre')\\\n",
    ".agg({'eu_sales':'sum'})\\\n",
    ".sort_values(by='eu_sales', ascending=False)\\\n",
    ".head(5)\\\n",
    ".plot(kind='bar',title = 'Распределение продаж по жанрам в Европе')"
   ]
  },
  {
   "cell_type": "code",
   "execution_count": 62,
   "metadata": {},
   "outputs": [
    {
     "data": {
      "text/plain": [
       "<AxesSubplot:title={'center':'Распределение продаж по жанрам в Японии'}, xlabel='genre'>"
      ]
     },
     "execution_count": 62,
     "metadata": {},
     "output_type": "execute_result"
    },
    {
     "data": {
      "image/png": "[encoded data removed]",
      "text/plain": [
       "<Figure size 432x288 with 1 Axes>"
      ]
     },
     "metadata": {
      "needs_background": "light"
     },
     "output_type": "display_data"
    }
   ],
   "source": [
    "act_per.groupby(by='genre')\\\n",
    ".agg({'jp_sales':'sum'})\\\n",
    ".sort_values(by='jp_sales', ascending=False)\\\n",
    ".head(5)\\\n",
    ".plot(kind='bar',title = 'Распределение продаж по жанрам в Японии')"
   ]
  },
  {
   "cell_type": "markdown",
   "metadata": {},
   "source": [
    "**Вывод:** Для Европы и Северной Америке распределение по жанрам совпадает на 1 месте Action, далее по убыванию Sports, Shooter, Racing, Misc. Но для Япониии сор значительным перевесом лидирует Role-playing и Action, остальные жанры имеют значительно меньшие продажи."
   ]
  },
  {
   "cell_type": "markdown",
   "metadata": {},
   "source": [
    "###  Определение наиболее популярных платформ для разных регионов"
   ]
  },
  {
   "cell_type": "code",
   "execution_count": 63,
   "metadata": {
    "scrolled": true
   },
   "outputs": [
    {
     "data": {
      "text/plain": [
       "<AxesSubplot:title={'center':'Распределение продаж по платформам в Северной Америке'}, xlabel='platform'>"
      ]
     },
     "execution_count": 63,
     "metadata": {},
     "output_type": "execute_result"
    },
    {
     "data": {
      "image/png": "[encoded data removed]",
      "text/plain": [
       "<Figure size 432x288 with 1 Axes>"
      ]
     },
     "metadata": {
      "needs_background": "light"
     },
     "output_type": "display_data"
    }
   ],
   "source": [
    "act_per.groupby(by='platform')\\\n",
    ".agg({'na_sales':'sum'})\\\n",
    ".sort_values(by='na_sales', ascending=False)\\\n",
    ".head(5)\\\n",
    ".plot(kind='bar',title = 'Распределение продаж по платформам в Северной Америке')"
   ]
  },
  {
   "cell_type": "code",
   "execution_count": 64,
   "metadata": {},
   "outputs": [
    {
     "data": {
      "text/plain": [
       "<AxesSubplot:title={'center':'Распределение продаж по платформам в Европе'}, xlabel='platform'>"
      ]
     },
     "execution_count": 64,
     "metadata": {},
     "output_type": "execute_result"
    },
    {
     "data": {
      "image/png": "[encoded data removed]",
      "text/plain": [
       "<Figure size 432x288 with 1 Axes>"
      ]
     },
     "metadata": {
      "needs_background": "light"
     },
     "output_type": "display_data"
    }
   ],
   "source": [
    "act_per.groupby(by='platform')\\\n",
    ".agg({'eu_sales':'sum'})\\\n",
    ".sort_values(by='eu_sales', ascending=False)\\\n",
    ".head(5)\\\n",
    ".plot(kind='bar',title = 'Распределение продаж по платформам в Европе')"
   ]
  },
  {
   "cell_type": "code",
   "execution_count": 65,
   "metadata": {},
   "outputs": [
    {
     "data": {
      "text/plain": [
       "<AxesSubplot:title={'center':'Распределение продаж по платформам в Японии'}, xlabel='platform'>"
      ]
     },
     "execution_count": 65,
     "metadata": {},
     "output_type": "execute_result"
    },
    {
     "data": {
      "image/png": "[encoded data removed]",
      "text/plain": [
       "<Figure size 432x288 with 1 Axes>"
      ]
     },
     "metadata": {
      "needs_background": "light"
     },
     "output_type": "display_data"
    }
   ],
   "source": [
    "act_per.groupby(by='platform')\\\n",
    ".agg({'jp_sales':'sum'})\\\n",
    ".sort_values(by='jp_sales', ascending=False)\\\n",
    ".head(5)\\\n",
    ".plot(kind='bar',title = 'Распределение продаж по платформам в Японии')"
   ]
  },
  {
   "cell_type": "markdown",
   "metadata": {},
   "source": [
    "**Вывод:** Северной Америке наиболее популярные платформы PS2 и Х360, а для Европы PS2 и PS3.  В то же время для Японии значительно лидируют портативная консоль DS. "
   ]
  },
  {
   "cell_type": "markdown",
   "metadata": {},
   "source": [
    "###  Определения влияния рейтинга ESRB на продажи в отдельном регионе"
   ]
  },
  {
   "cell_type": "code",
   "execution_count": 66,
   "metadata": {},
   "outputs": [
    {
     "data": {
      "text/plain": [
       "<AxesSubplot:title={'center':'Распределение продаж игр по рейтингам в Северной Америке'}, xlabel='rating'>"
      ]
     },
     "execution_count": 66,
     "metadata": {},
     "output_type": "execute_result"
    },
    {
     "data": {
      "image/png": "[encoded data removed]",
      "text/plain": [
       "<Figure size 432x288 with 1 Axes>"
      ]
     },
     "metadata": {
      "needs_background": "light"
     },
     "output_type": "display_data"
    }
   ],
   "source": [
    "act_per.groupby(by='rating')\\\n",
    ".agg({'na_sales':'sum'})\\\n",
    ".sort_values(by='na_sales', ascending=False)\\\n",
    ".head(5)\\\n",
    ".plot(kind='bar',title = 'Распределение продаж игр по рейтингам в Северной Америке')"
   ]
  },
  {
   "cell_type": "code",
   "execution_count": 67,
   "metadata": {},
   "outputs": [
    {
     "data": {
      "text/plain": [
       "<AxesSubplot:title={'center':'Распределение продаж игр по рейтингам в Европе'}, xlabel='rating'>"
      ]
     },
     "execution_count": 67,
     "metadata": {},
     "output_type": "execute_result"
    },
    {
     "data": {
      "image/png": "[encoded data removed]",
      "text/plain": [
       "<Figure size 432x288 with 1 Axes>"
      ]
     },
     "metadata": {
      "needs_background": "light"
     },
     "output_type": "display_data"
    }
   ],
   "source": [
    "act_per.groupby(by='rating')\\\n",
    ".agg({'eu_sales':'sum'})\\\n",
    ".sort_values(by='eu_sales', ascending=False)\\\n",
    ".head(5)\\\n",
    ".plot(kind='bar',title = 'Распределение продаж игр по рейтингам в Европе')"
   ]
  },
  {
   "cell_type": "code",
   "execution_count": 68,
   "metadata": {},
   "outputs": [
    {
     "data": {
      "text/plain": [
       "<AxesSubplot:title={'center':'Распределение продаж игр по рейтингам в Японии'}, xlabel='rating'>"
      ]
     },
     "execution_count": 68,
     "metadata": {},
     "output_type": "execute_result"
    },
    {
     "data": {
      "image/png": "[encoded data removed]",
      "text/plain": [
       "<Figure size 432x288 with 1 Axes>"
      ]
     },
     "metadata": {
      "needs_background": "light"
     },
     "output_type": "display_data"
    }
   ],
   "source": [
    "act_per.groupby(by='rating')\\\n",
    ".agg({'jp_sales':'sum'})\\\n",
    ".sort_values(by='jp_sales', ascending=False)\\\n",
    ".head(5)\\\n",
    ".plot(kind='bar',title = 'Распределение продаж игр по рейтингам в Японии')"
   ]
  },
  {
   "cell_type": "markdown",
   "metadata": {},
   "source": [
    "**Вывод:** В Северной Америке и Европе рейтинг оказывает значителльное влияние на продажи. Игры с рейтингом М имеют в 1,5 раза большие продажи чем игры с остальными рейтинграми. По Японии сложно сделать вывод, так как большая часть игр не имеют рейтинга (или данных не достаточно).\n",
    "\n",
    "В итоге можно сделать вывод, что рынок Япониии значительно отличается от рынков Северной Америке и Европы. В Япониии предпочитают портативные консоли (2 из 5 наибольее популярных платформ, являются портативными консолями) с Role-Playing и Action играми, тогда как в Северной Америки и Европе предпочитают стационарные платформы с Action и Shooter играми."
   ]
  },
  {
   "cell_type": "markdown",
   "metadata": {},
   "source": [
    "## Проверка гипотез"
   ]
  },
  {
   "cell_type": "markdown",
   "metadata": {},
   "source": [
    "###  Проверьте гипотезы: Средние пользовательские рейтинги платформ Xbox One и PC одинаковые"
   ]
  },
  {
   "cell_type": "markdown",
   "metadata": {},
   "source": [
    "Определяем гипотезы:\n",
    "* H0: средний пользовательский рейтинг платформ Xbox One и PC одинаковый\n",
    "* H1: средний пользовательский рейтинг платформ Xbox One и PC различается\n",
    "\n",
    "Так как задача стоит в сравниии средних значений двух выборок данных, то определения истинности гипотезы будем производить по t-критерию Стьюдента c помощью функции st.ttest_ind пакета scipy.stats. st.ttest_ind - вычисляет T-тест для средних двух независимых выборок."
   ]
  },
  {
   "cell_type": "code",
   "execution_count": null,
   "metadata": {},
   "outputs": [],
   "source": [
    "alpha = 0.05\n",
    "xone = data[(data['platform'] == 'XOne') & (data['user_score'] > 0)]['user_score']\n",
    "pc = data[(data['platform'] == 'PC') & (data['user_score'] > 0)]['user_score']\n",
    "\n",
    "results = st.ttest_ind(xone, pc)\n",
    "\n",
    "print('p-значение:', results.pvalue)\n",
    "\n",
    "if (results.pvalue < alpha):\n",
    "    print(\"Отвергаем нулевую гипотезу\")\n",
    "else:\n",
    "    print(\"Не получилось отвергнуть нулевую гипотезу\")"
   ]
  },
  {
   "cell_type": "markdown",
   "metadata": {},
   "source": [
    "**Вывод:** Нулевая гипотеза предпологает, что средний пользовательский рейтинг платформ одинаковый, следовательно альтернативная гипотеза предполагает обратную ситуацию, что средний пользовательский рейтинг платформ на платформах различаются. Так как p-значения значительно меньше 5%, то отвергаем нулевую гипотезу и делаем вывод, что средний пользовательский рейтинг платформ Xbox One и PC различается."
   ]
  },
  {
   "cell_type": "markdown",
   "metadata": {},
   "source": [
    "###  Проверьте гипотезы: Средние пользовательские рейтинги жанров Action и Sports разные"
   ]
  },
  {
   "cell_type": "markdown",
   "metadata": {},
   "source": [
    "Определяем гипотезы:\n",
    "* H0: Средние пользовательские рейтинги жанров Action и Sports разные\n",
    "* H1: Средние пользовательские рейтинги жанров Action и Sports одинаковый"
   ]
  },
  {
   "cell_type": "code",
   "execution_count": null,
   "metadata": {},
   "outputs": [],
   "source": [
    "action_genre = data[(data['genre'] == 'Action') & (data['user_score'] > 0)]['user_score']\n",
    "sports_genre = data[(data['genre'] == 'Sports') & (data['user_score'] > 0)]['user_score']\n",
    "\n",
    "results = st.ttest_ind(action_genre, sports_genre)\n",
    "\n",
    "print('p-значение:', results.pvalue)\n",
    "\n",
    "if (results.pvalue < alpha):\n",
    "    print(\"Отвергаем нулевую гипотезу\")\n",
    "else:\n",
    "    print(\"Не получилось отвергнуть нулевую гипотезу\")\n"
   ]
  },
  {
   "cell_type": "markdown",
   "metadata": {},
   "source": [
    "**Вывод:** Нулевая гипотеза предпологает, что средний пользовательский рейтинг жанров одинаковый, следовательно альтернативная гипотеза предполагает обратную ситуацию, что средний пользовательский рейтинг жанров различаются. Так как p-значения значительно больше 5%, то нулевую гипотезу не получилось отвергнуть и можно сделать вывод, что средний пользовательский рейтинг жанров различается."
   ]
  },
  {
   "cell_type": "markdown",
   "metadata": {},
   "source": [
    "## Общий вывод"
   ]
  },
  {
   "cell_type": "markdown",
   "metadata": {},
   "source": [
    "Жизненный цикл платформы (за исключением PC) составляет 4-5 лет, так как именно с такой периодичностью ведущие производители выпускают новые поколения консолей. За этот период происходит резкий взлет продаж с плавным падением с выходом каждого нового поколения.\n",
    "В этой связи делаем вывод, что производителям необходимо отслеживать количество продаж и выпускать новое поколение при где-то через год после пика продаж предыдущего поколения.\n",
    "\n",
    "Так же необходимо учитывать специфику рынков продаж, если Европа и Северная Америка во много схожи, то Япония значительно отличается, как и выборе жанров, так и предпочитаемых платформах. В Япониии предпочитают портативные консоли (2 из 5 наибольее популярных платформ, являются портативными консолями) с Role-Playing и Action играми, тогда как в Северной Америки и Европе предпочитают стационарные платформы с Action и Shooter играми.\n",
    "\n",
    "В свою очередь издателям игр надо учитывать рейтинг ESRB, так как он оказывает значительное влияние на продажи в Европе и Северной Америке. При этом рейтинг игроков оказывает куда меньшее влияние на продажи, чем рейтинги критиков.\n",
    "\n",
    "В целом на рынке наблюдается устойчивый спад продаж игр на всех платформах, если ситуация не исправится за счет рождественских продаж декабря 2016 - января 2017 года, то наступает оптимальное время для анонса новых поколений консолей или улучшеных версии текущего поколения.\n",
    "\n",
    "Так же на рынке наблюдается спад количества игр, вероятно это связано с появлением новой платформы в лице смартфона. Производителем и издателям игр следует обратить внимание на новое перспиктовное направление на рынке.\n"
   ]
  }
 ],
 "metadata": {
  "ExecuteTimeLog": [
   {
    "duration": 88,
    "start_time": "2022-11-07T07:22:05.785Z"
   },
   {
    "duration": 635,
    "start_time": "2022-11-07T07:22:21.471Z"
   },
   {
    "duration": 56,
    "start_time": "2022-11-07T07:22:32.552Z"
   },
   {
    "duration": 34,
    "start_time": "2022-11-07T07:37:52.148Z"
   },
   {
    "duration": 15,
    "start_time": "2022-11-07T07:37:53.932Z"
   },
   {
    "duration": 15,
    "start_time": "2022-11-07T07:39:05.416Z"
   },
   {
    "duration": 82,
    "start_time": "2022-11-07T07:43:02.816Z"
   },
   {
    "duration": 4,
    "start_time": "2022-11-07T07:43:05.293Z"
   },
   {
    "duration": 4,
    "start_time": "2022-11-07T07:43:16.598Z"
   },
   {
    "duration": 3,
    "start_time": "2022-11-07T07:43:19.199Z"
   },
   {
    "duration": 13,
    "start_time": "2022-11-07T07:43:23.808Z"
   },
   {
    "duration": 17,
    "start_time": "2022-11-07T07:44:38.230Z"
   },
   {
    "duration": 8,
    "start_time": "2022-11-07T07:45:26.632Z"
   },
   {
    "duration": 16,
    "start_time": "2022-11-07T07:47:32.176Z"
   },
   {
    "duration": 17,
    "start_time": "2022-11-07T07:47:53.024Z"
   },
   {
    "duration": 8,
    "start_time": "2022-11-07T07:50:24.830Z"
   },
   {
    "duration": 8,
    "start_time": "2022-11-07T07:51:00.074Z"
   },
   {
    "duration": 5,
    "start_time": "2022-11-07T07:51:16.465Z"
   },
   {
    "duration": 12,
    "start_time": "2022-11-07T07:53:12.801Z"
   },
   {
    "duration": 12,
    "start_time": "2022-11-07T08:47:32.300Z"
   },
   {
    "duration": 4,
    "start_time": "2022-11-07T08:48:48.504Z"
   },
   {
    "duration": 16,
    "start_time": "2022-11-07T08:48:52.479Z"
   },
   {
    "duration": 10,
    "start_time": "2022-11-07T08:49:17.033Z"
   },
   {
    "duration": 77,
    "start_time": "2022-11-07T08:57:01.176Z"
   },
   {
    "duration": 71,
    "start_time": "2022-11-07T08:57:15.768Z"
   },
   {
    "duration": 7,
    "start_time": "2022-11-07T09:00:20.726Z"
   },
   {
    "duration": 14,
    "start_time": "2022-11-07T09:00:44.691Z"
   },
   {
    "duration": 17,
    "start_time": "2022-11-07T09:02:24.530Z"
   },
   {
    "duration": 30,
    "start_time": "2022-11-07T09:04:20.667Z"
   },
   {
    "duration": 18,
    "start_time": "2022-11-07T09:04:44.460Z"
   },
   {
    "duration": 12,
    "start_time": "2022-11-07T09:05:03.460Z"
   },
   {
    "duration": 15,
    "start_time": "2022-11-07T09:05:05.554Z"
   },
   {
    "duration": 60,
    "start_time": "2022-11-07T09:05:11.235Z"
   },
   {
    "duration": 21,
    "start_time": "2022-11-07T09:05:11.940Z"
   },
   {
    "duration": 16,
    "start_time": "2022-11-07T09:05:12.635Z"
   },
   {
    "duration": 1118,
    "start_time": "2022-11-07T09:05:34.522Z"
   },
   {
    "duration": 0,
    "start_time": "2022-11-07T09:05:35.642Z"
   },
   {
    "duration": 4,
    "start_time": "2022-11-07T09:06:02.379Z"
   },
   {
    "duration": 4,
    "start_time": "2022-11-07T09:06:03.875Z"
   },
   {
    "duration": 16,
    "start_time": "2022-11-07T09:06:04.451Z"
   },
   {
    "duration": 14,
    "start_time": "2022-11-07T09:06:05.267Z"
   },
   {
    "duration": 11,
    "start_time": "2022-11-07T09:06:24.395Z"
   },
   {
    "duration": 14,
    "start_time": "2022-11-07T09:06:27.155Z"
   },
   {
    "duration": 15,
    "start_time": "2022-11-07T09:06:48.331Z"
   },
   {
    "duration": 11,
    "start_time": "2022-11-07T09:09:53.108Z"
   },
   {
    "duration": 56,
    "start_time": "2022-11-07T09:11:26.225Z"
   },
   {
    "duration": 1170,
    "start_time": "2022-11-07T09:12:30.452Z"
   },
   {
    "duration": 1148,
    "start_time": "2022-11-07T09:12:55.726Z"
   },
   {
    "duration": 8,
    "start_time": "2022-11-07T09:22:01.639Z"
   },
   {
    "duration": 1162,
    "start_time": "2022-11-07T09:22:07.258Z"
   },
   {
    "duration": 1202,
    "start_time": "2022-11-07T09:22:15.592Z"
   },
   {
    "duration": 1194,
    "start_time": "2022-11-07T09:23:50.874Z"
   },
   {
    "duration": 15,
    "start_time": "2022-11-07T09:24:09.840Z"
   },
   {
    "duration": 7,
    "start_time": "2022-11-07T09:24:11.913Z"
   },
   {
    "duration": 14,
    "start_time": "2022-11-07T09:24:22.361Z"
   },
   {
    "duration": 11,
    "start_time": "2022-11-07T09:24:31.753Z"
   },
   {
    "duration": 24,
    "start_time": "2022-11-07T09:27:35.106Z"
   },
   {
    "duration": 9,
    "start_time": "2022-11-07T09:27:48.425Z"
   },
   {
    "duration": 16,
    "start_time": "2022-11-07T09:27:50.546Z"
   },
   {
    "duration": 3,
    "start_time": "2022-11-07T09:28:03.395Z"
   },
   {
    "duration": 16,
    "start_time": "2022-11-07T09:28:16.953Z"
   },
   {
    "duration": 14,
    "start_time": "2022-11-07T09:28:46.012Z"
   },
   {
    "duration": 5,
    "start_time": "2022-11-07T09:35:11.629Z"
   },
   {
    "duration": 4,
    "start_time": "2022-11-07T09:35:21.501Z"
   },
   {
    "duration": 56,
    "start_time": "2022-11-07T09:37:11.122Z"
   },
   {
    "duration": 21,
    "start_time": "2022-11-07T09:37:11.651Z"
   },
   {
    "duration": 14,
    "start_time": "2022-11-07T09:37:12.381Z"
   },
   {
    "duration": 3,
    "start_time": "2022-11-07T09:37:13.731Z"
   },
   {
    "duration": 14,
    "start_time": "2022-11-07T09:37:14.675Z"
   },
   {
    "duration": 7,
    "start_time": "2022-11-07T09:37:15.261Z"
   },
   {
    "duration": 4,
    "start_time": "2022-11-07T09:37:15.873Z"
   },
   {
    "duration": 7,
    "start_time": "2022-11-07T09:41:37.205Z"
   },
   {
    "duration": 4,
    "start_time": "2022-11-07T09:41:37.867Z"
   },
   {
    "duration": 15,
    "start_time": "2022-11-07T09:41:40.130Z"
   },
   {
    "duration": 15,
    "start_time": "2022-11-07T09:42:18.923Z"
   },
   {
    "duration": 4,
    "start_time": "2022-11-07T09:43:09.565Z"
   },
   {
    "duration": 6,
    "start_time": "2022-11-07T09:44:02.876Z"
   },
   {
    "duration": 9,
    "start_time": "2022-11-07T09:44:48.388Z"
   },
   {
    "duration": 9,
    "start_time": "2022-11-07T09:44:55.851Z"
   },
   {
    "duration": 45,
    "start_time": "2022-11-07T09:49:57.164Z"
   },
   {
    "duration": 10,
    "start_time": "2022-11-07T09:52:19.584Z"
   },
   {
    "duration": 10,
    "start_time": "2022-11-07T09:52:26.975Z"
   },
   {
    "duration": 59,
    "start_time": "2022-11-07T09:52:32.590Z"
   },
   {
    "duration": 17,
    "start_time": "2022-11-07T09:52:33.023Z"
   },
   {
    "duration": 21,
    "start_time": "2022-11-07T09:52:33.422Z"
   },
   {
    "duration": 4,
    "start_time": "2022-11-07T09:52:34.791Z"
   },
   {
    "duration": 18,
    "start_time": "2022-11-07T09:52:37.287Z"
   },
   {
    "duration": 10,
    "start_time": "2022-11-07T09:52:37.982Z"
   },
   {
    "duration": 479,
    "start_time": "2022-11-07T09:52:49.539Z"
   },
   {
    "duration": 26,
    "start_time": "2022-11-07T09:52:50.021Z"
   },
   {
    "duration": 23,
    "start_time": "2022-11-07T09:52:50.899Z"
   },
   {
    "duration": 3,
    "start_time": "2022-11-07T09:52:54.899Z"
   },
   {
    "duration": 17,
    "start_time": "2022-11-07T09:52:56.188Z"
   },
   {
    "duration": 12,
    "start_time": "2022-11-07T09:52:56.867Z"
   },
   {
    "duration": 14,
    "start_time": "2022-11-07T09:53:04.675Z"
   },
   {
    "duration": 14,
    "start_time": "2022-11-07T09:55:33.236Z"
   },
   {
    "duration": 7,
    "start_time": "2022-11-07T09:55:33.780Z"
   },
   {
    "duration": 4,
    "start_time": "2022-11-07T09:55:34.220Z"
   },
   {
    "duration": 15,
    "start_time": "2022-11-07T09:55:34.660Z"
   },
   {
    "duration": 4,
    "start_time": "2022-11-07T09:55:38.437Z"
   },
   {
    "duration": 74,
    "start_time": "2022-11-07T09:55:40.101Z"
   },
   {
    "duration": 5,
    "start_time": "2022-11-07T09:56:46.525Z"
   },
   {
    "duration": 8,
    "start_time": "2022-11-07T09:58:28.613Z"
   },
   {
    "duration": 8,
    "start_time": "2022-11-07T10:01:13.006Z"
   },
   {
    "duration": 8,
    "start_time": "2022-11-07T10:01:35.413Z"
   },
   {
    "duration": 518,
    "start_time": "2022-11-07T10:01:50.597Z"
   },
   {
    "duration": 27,
    "start_time": "2022-11-07T10:01:51.118Z"
   },
   {
    "duration": 15,
    "start_time": "2022-11-07T10:01:51.147Z"
   },
   {
    "duration": 4,
    "start_time": "2022-11-07T10:01:51.164Z"
   },
   {
    "duration": 30,
    "start_time": "2022-11-07T10:01:51.170Z"
   },
   {
    "duration": 25,
    "start_time": "2022-11-07T10:01:51.202Z"
   },
   {
    "duration": 15,
    "start_time": "2022-11-07T10:01:51.228Z"
   },
   {
    "duration": 13,
    "start_time": "2022-11-07T10:01:51.245Z"
   },
   {
    "duration": 23,
    "start_time": "2022-11-07T10:01:51.260Z"
   },
   {
    "duration": 16,
    "start_time": "2022-11-07T10:01:51.286Z"
   },
   {
    "duration": 17,
    "start_time": "2022-11-07T10:01:51.304Z"
   },
   {
    "duration": 32,
    "start_time": "2022-11-07T10:01:51.323Z"
   },
   {
    "duration": 19,
    "start_time": "2022-11-07T10:01:51.356Z"
   },
   {
    "duration": 11,
    "start_time": "2022-11-07T10:03:11.963Z"
   },
   {
    "duration": 6,
    "start_time": "2022-11-07T10:03:18.465Z"
   },
   {
    "duration": 10,
    "start_time": "2022-11-07T10:05:22.923Z"
   },
   {
    "duration": 6,
    "start_time": "2022-11-07T10:05:54.122Z"
   },
   {
    "duration": 16,
    "start_time": "2022-11-07T10:06:02.459Z"
   },
   {
    "duration": 10,
    "start_time": "2022-11-07T10:06:46.525Z"
   },
   {
    "duration": 4,
    "start_time": "2022-11-07T10:06:47.443Z"
   },
   {
    "duration": 15,
    "start_time": "2022-11-07T10:06:47.924Z"
   },
   {
    "duration": 71,
    "start_time": "2022-11-07T10:07:15.683Z"
   },
   {
    "duration": 5,
    "start_time": "2022-11-07T10:07:31.628Z"
   },
   {
    "duration": 4,
    "start_time": "2022-11-07T10:08:12.588Z"
   },
   {
    "duration": 14,
    "start_time": "2022-11-07T10:08:19.125Z"
   },
   {
    "duration": 14,
    "start_time": "2022-11-07T10:08:38.348Z"
   },
   {
    "duration": 6,
    "start_time": "2022-11-07T10:09:04.093Z"
   },
   {
    "duration": 14,
    "start_time": "2022-11-07T10:09:04.940Z"
   },
   {
    "duration": 5,
    "start_time": "2022-11-07T10:09:36.550Z"
   },
   {
    "duration": 4,
    "start_time": "2022-11-07T10:11:21.525Z"
   },
   {
    "duration": 5,
    "start_time": "2022-11-07T10:11:23.653Z"
   },
   {
    "duration": 461,
    "start_time": "2022-11-07T10:11:38.145Z"
   },
   {
    "duration": 23,
    "start_time": "2022-11-07T10:11:38.608Z"
   },
   {
    "duration": 16,
    "start_time": "2022-11-07T10:11:39.793Z"
   },
   {
    "duration": 3,
    "start_time": "2022-11-07T10:11:41.715Z"
   },
   {
    "duration": 18,
    "start_time": "2022-11-07T10:11:43.039Z"
   },
   {
    "duration": 14,
    "start_time": "2022-11-07T10:11:43.914Z"
   },
   {
    "duration": 8,
    "start_time": "2022-11-07T10:11:45.058Z"
   },
   {
    "duration": 4,
    "start_time": "2022-11-07T10:11:45.914Z"
   },
   {
    "duration": 16,
    "start_time": "2022-11-07T10:11:47.217Z"
   },
   {
    "duration": 4,
    "start_time": "2022-11-07T10:12:49.226Z"
   },
   {
    "duration": 7,
    "start_time": "2022-11-07T10:12:52.370Z"
   },
   {
    "duration": 7,
    "start_time": "2022-11-07T10:12:59.714Z"
   },
   {
    "duration": 11,
    "start_time": "2022-11-07T10:13:00.426Z"
   },
   {
    "duration": 5,
    "start_time": "2022-11-07T10:13:03.787Z"
   },
   {
    "duration": 14,
    "start_time": "2022-11-07T10:13:09.755Z"
   },
   {
    "duration": 5,
    "start_time": "2022-11-07T10:13:28.675Z"
   },
   {
    "duration": 5,
    "start_time": "2022-11-07T10:13:31.923Z"
   },
   {
    "duration": 5,
    "start_time": "2022-11-07T10:13:43.283Z"
   },
   {
    "duration": 4,
    "start_time": "2022-11-07T10:14:04.843Z"
   },
   {
    "duration": 14,
    "start_time": "2022-11-07T10:14:06.075Z"
   },
   {
    "duration": 80,
    "start_time": "2022-11-07T10:15:21.869Z"
   },
   {
    "duration": 24,
    "start_time": "2022-11-07T10:15:33.675Z"
   },
   {
    "duration": 484,
    "start_time": "2022-11-07T10:16:10.387Z"
   },
   {
    "duration": 25,
    "start_time": "2022-11-07T10:16:10.873Z"
   },
   {
    "duration": 1239,
    "start_time": "2022-11-07T10:16:17.551Z"
   },
   {
    "duration": 18,
    "start_time": "2022-11-07T10:16:27.971Z"
   },
   {
    "duration": 10,
    "start_time": "2022-11-07T10:16:35.144Z"
   },
   {
    "duration": 14,
    "start_time": "2022-11-07T10:16:53.595Z"
   },
   {
    "duration": 3,
    "start_time": "2022-11-07T10:16:54.012Z"
   },
   {
    "duration": 18,
    "start_time": "2022-11-07T10:16:54.475Z"
   },
   {
    "duration": 14,
    "start_time": "2022-11-07T10:16:54.737Z"
   },
   {
    "duration": 9,
    "start_time": "2022-11-07T10:16:55.127Z"
   },
   {
    "duration": 4,
    "start_time": "2022-11-07T10:16:55.572Z"
   },
   {
    "duration": 5,
    "start_time": "2022-11-07T10:17:02.067Z"
   },
   {
    "duration": 14,
    "start_time": "2022-11-07T10:17:03.003Z"
   },
   {
    "duration": 5,
    "start_time": "2022-11-07T10:17:06.979Z"
   },
   {
    "duration": 58,
    "start_time": "2022-11-07T10:18:02.311Z"
   },
   {
    "duration": 19,
    "start_time": "2022-11-07T10:18:02.759Z"
   },
   {
    "duration": 18,
    "start_time": "2022-11-07T10:18:03.255Z"
   },
   {
    "duration": 3,
    "start_time": "2022-11-07T10:18:04.495Z"
   },
   {
    "duration": 17,
    "start_time": "2022-11-07T10:18:05.503Z"
   },
   {
    "duration": 15,
    "start_time": "2022-11-07T10:18:06.078Z"
   },
   {
    "duration": 6,
    "start_time": "2022-11-07T10:18:06.687Z"
   },
   {
    "duration": 4,
    "start_time": "2022-11-07T10:18:07.335Z"
   },
   {
    "duration": 14,
    "start_time": "2022-11-07T10:18:08.939Z"
   },
   {
    "duration": 5,
    "start_time": "2022-11-07T10:18:11.254Z"
   },
   {
    "duration": 7,
    "start_time": "2022-11-07T10:18:11.839Z"
   },
   {
    "duration": 8,
    "start_time": "2022-11-07T10:18:13.255Z"
   },
   {
    "duration": 9,
    "start_time": "2022-11-07T10:18:24.959Z"
   },
   {
    "duration": 7,
    "start_time": "2022-11-07T10:18:26.854Z"
   },
   {
    "duration": 15,
    "start_time": "2022-11-07T10:18:27.726Z"
   },
   {
    "duration": 4,
    "start_time": "2022-11-07T10:18:28.880Z"
   },
   {
    "duration": 5,
    "start_time": "2022-11-07T10:18:32.335Z"
   },
   {
    "duration": 6,
    "start_time": "2022-11-07T10:18:32.983Z"
   },
   {
    "duration": 23,
    "start_time": "2022-11-07T10:18:34.902Z"
   },
   {
    "duration": 58,
    "start_time": "2022-11-07T10:19:20.920Z"
   },
   {
    "duration": 16,
    "start_time": "2022-11-07T10:19:21.344Z"
   },
   {
    "duration": 15,
    "start_time": "2022-11-07T10:19:21.614Z"
   },
   {
    "duration": 3,
    "start_time": "2022-11-07T10:19:22.103Z"
   },
   {
    "duration": 17,
    "start_time": "2022-11-07T10:19:22.595Z"
   },
   {
    "duration": 19,
    "start_time": "2022-11-07T10:19:22.839Z"
   },
   {
    "duration": 7,
    "start_time": "2022-11-07T10:19:23.087Z"
   },
   {
    "duration": 4,
    "start_time": "2022-11-07T10:19:23.375Z"
   },
   {
    "duration": 15,
    "start_time": "2022-11-07T10:19:23.703Z"
   },
   {
    "duration": 5,
    "start_time": "2022-11-07T10:19:25.511Z"
   },
   {
    "duration": 7,
    "start_time": "2022-11-07T10:19:26.159Z"
   },
   {
    "duration": 7,
    "start_time": "2022-11-07T10:19:27.968Z"
   },
   {
    "duration": 7,
    "start_time": "2022-11-07T10:19:28.671Z"
   },
   {
    "duration": 17,
    "start_time": "2022-11-07T10:19:48.439Z"
   },
   {
    "duration": 16,
    "start_time": "2022-11-07T10:19:56.505Z"
   },
   {
    "duration": 5,
    "start_time": "2022-11-07T10:19:57.184Z"
   },
   {
    "duration": 5,
    "start_time": "2022-11-07T10:19:57.920Z"
   },
   {
    "duration": 5,
    "start_time": "2022-11-07T10:19:58.576Z"
   },
   {
    "duration": 11,
    "start_time": "2022-11-07T10:19:59.535Z"
   },
   {
    "duration": 3,
    "start_time": "2022-11-07T10:22:25.072Z"
   },
   {
    "duration": 5,
    "start_time": "2022-11-07T10:22:27.129Z"
   },
   {
    "duration": 9,
    "start_time": "2022-11-07T10:22:28.704Z"
   },
   {
    "duration": 51,
    "start_time": "2022-11-07T10:22:53.450Z"
   },
   {
    "duration": 542,
    "start_time": "2022-11-07T10:22:58.558Z"
   },
   {
    "duration": 33,
    "start_time": "2022-11-07T10:22:59.103Z"
   },
   {
    "duration": 20,
    "start_time": "2022-11-07T10:22:59.138Z"
   },
   {
    "duration": 3,
    "start_time": "2022-11-07T10:22:59.160Z"
   },
   {
    "duration": 18,
    "start_time": "2022-11-07T10:22:59.166Z"
   },
   {
    "duration": 40,
    "start_time": "2022-11-07T10:22:59.186Z"
   },
   {
    "duration": 10,
    "start_time": "2022-11-07T10:22:59.229Z"
   },
   {
    "duration": 4,
    "start_time": "2022-11-07T10:22:59.241Z"
   },
   {
    "duration": 16,
    "start_time": "2022-11-07T10:22:59.247Z"
   },
   {
    "duration": 5,
    "start_time": "2022-11-07T10:22:59.265Z"
   },
   {
    "duration": 8,
    "start_time": "2022-11-07T10:22:59.271Z"
   },
   {
    "duration": 49,
    "start_time": "2022-11-07T10:22:59.281Z"
   },
   {
    "duration": 20,
    "start_time": "2022-11-07T10:22:59.332Z"
   },
   {
    "duration": 8,
    "start_time": "2022-11-07T10:22:59.356Z"
   },
   {
    "duration": 19,
    "start_time": "2022-11-07T10:22:59.366Z"
   },
   {
    "duration": 6,
    "start_time": "2022-11-07T10:22:59.387Z"
   },
   {
    "duration": 6,
    "start_time": "2022-11-07T10:22:59.425Z"
   },
   {
    "duration": 7,
    "start_time": "2022-11-07T10:22:59.433Z"
   },
   {
    "duration": 28,
    "start_time": "2022-11-07T10:22:59.442Z"
   },
   {
    "duration": 14,
    "start_time": "2022-11-07T10:22:59.472Z"
   },
   {
    "duration": 663,
    "start_time": "2022-11-07T10:23:25.923Z"
   },
   {
    "duration": 25,
    "start_time": "2022-11-07T10:23:26.589Z"
   },
   {
    "duration": 16,
    "start_time": "2022-11-07T10:23:26.616Z"
   },
   {
    "duration": 15,
    "start_time": "2022-11-07T10:23:26.635Z"
   },
   {
    "duration": 25,
    "start_time": "2022-11-07T10:23:26.652Z"
   },
   {
    "duration": 17,
    "start_time": "2022-11-07T10:23:26.679Z"
   },
   {
    "duration": 17,
    "start_time": "2022-11-07T10:23:26.699Z"
   },
   {
    "duration": 7,
    "start_time": "2022-11-07T10:23:26.718Z"
   },
   {
    "duration": 34,
    "start_time": "2022-11-07T10:23:26.726Z"
   },
   {
    "duration": 7,
    "start_time": "2022-11-07T10:23:26.764Z"
   },
   {
    "duration": 17,
    "start_time": "2022-11-07T10:23:26.773Z"
   },
   {
    "duration": 17,
    "start_time": "2022-11-07T10:23:26.792Z"
   },
   {
    "duration": 16,
    "start_time": "2022-11-07T10:23:26.811Z"
   },
   {
    "duration": 95,
    "start_time": "2022-11-07T10:23:26.829Z"
   },
   {
    "duration": 0,
    "start_time": "2022-11-07T10:23:26.926Z"
   },
   {
    "duration": 0,
    "start_time": "2022-11-07T10:23:26.927Z"
   },
   {
    "duration": 0,
    "start_time": "2022-11-07T10:23:26.928Z"
   },
   {
    "duration": 0,
    "start_time": "2022-11-07T10:23:26.929Z"
   },
   {
    "duration": 0,
    "start_time": "2022-11-07T10:23:26.930Z"
   },
   {
    "duration": 0,
    "start_time": "2022-11-07T10:23:26.931Z"
   },
   {
    "duration": 16,
    "start_time": "2022-11-07T10:23:33.337Z"
   },
   {
    "duration": 6,
    "start_time": "2022-11-07T10:23:34.021Z"
   },
   {
    "duration": 5,
    "start_time": "2022-11-07T10:23:34.765Z"
   },
   {
    "duration": 5,
    "start_time": "2022-11-07T10:23:35.710Z"
   },
   {
    "duration": 10,
    "start_time": "2022-11-07T10:23:36.838Z"
   },
   {
    "duration": 16,
    "start_time": "2022-11-07T10:23:37.669Z"
   },
   {
    "duration": 436,
    "start_time": "2022-11-08T06:01:28.533Z"
   },
   {
    "duration": 22,
    "start_time": "2022-11-08T06:01:28.989Z"
   },
   {
    "duration": 15,
    "start_time": "2022-11-08T06:01:29.444Z"
   },
   {
    "duration": 3,
    "start_time": "2022-11-08T06:01:30.309Z"
   },
   {
    "duration": 17,
    "start_time": "2022-11-08T06:01:30.949Z"
   },
   {
    "duration": 13,
    "start_time": "2022-11-08T06:01:31.245Z"
   },
   {
    "duration": 8,
    "start_time": "2022-11-08T06:01:31.516Z"
   },
   {
    "duration": 3,
    "start_time": "2022-11-08T06:01:31.790Z"
   },
   {
    "duration": 13,
    "start_time": "2022-11-08T06:01:32.060Z"
   },
   {
    "duration": 4,
    "start_time": "2022-11-08T06:01:33.772Z"
   },
   {
    "duration": 4,
    "start_time": "2022-11-08T06:01:34.399Z"
   },
   {
    "duration": 8,
    "start_time": "2022-11-08T06:01:35.117Z"
   },
   {
    "duration": 61,
    "start_time": "2022-11-08T06:01:35.724Z"
   },
   {
    "duration": 8,
    "start_time": "2022-11-08T06:01:49.844Z"
   },
   {
    "duration": 6,
    "start_time": "2022-11-08T06:02:00.342Z"
   },
   {
    "duration": 5,
    "start_time": "2022-11-08T06:02:01.317Z"
   },
   {
    "duration": 12,
    "start_time": "2022-11-08T06:02:02.916Z"
   },
   {
    "duration": 5,
    "start_time": "2022-11-08T06:02:03.972Z"
   },
   {
    "duration": 4,
    "start_time": "2022-11-08T06:02:04.756Z"
   },
   {
    "duration": 6,
    "start_time": "2022-11-08T06:02:05.317Z"
   },
   {
    "duration": 10,
    "start_time": "2022-11-08T06:02:06.252Z"
   },
   {
    "duration": 20,
    "start_time": "2022-11-08T07:45:04.582Z"
   },
   {
    "duration": 4,
    "start_time": "2022-11-08T07:48:24.638Z"
   },
   {
    "duration": 7,
    "start_time": "2022-11-08T07:48:45.093Z"
   },
   {
    "duration": 5,
    "start_time": "2022-11-08T07:50:43.497Z"
   },
   {
    "duration": 431,
    "start_time": "2022-11-08T07:51:02.008Z"
   },
   {
    "duration": 22,
    "start_time": "2022-11-08T07:51:02.441Z"
   },
   {
    "duration": 14,
    "start_time": "2022-11-08T07:51:02.464Z"
   },
   {
    "duration": 2,
    "start_time": "2022-11-08T07:51:02.480Z"
   },
   {
    "duration": 20,
    "start_time": "2022-11-08T07:51:02.485Z"
   },
   {
    "duration": 18,
    "start_time": "2022-11-08T07:51:02.507Z"
   },
   {
    "duration": 12,
    "start_time": "2022-11-08T07:51:02.527Z"
   },
   {
    "duration": 6,
    "start_time": "2022-11-08T07:51:02.541Z"
   },
   {
    "duration": 17,
    "start_time": "2022-11-08T07:51:02.548Z"
   },
   {
    "duration": 4,
    "start_time": "2022-11-08T07:51:06.465Z"
   },
   {
    "duration": 4,
    "start_time": "2022-11-08T07:51:08.256Z"
   },
   {
    "duration": 7,
    "start_time": "2022-11-08T07:51:16.144Z"
   },
   {
    "duration": 9,
    "start_time": "2022-11-08T07:51:35.536Z"
   },
   {
    "duration": 6,
    "start_time": "2022-11-08T07:51:56.848Z"
   },
   {
    "duration": 7,
    "start_time": "2022-11-08T07:52:01.431Z"
   },
   {
    "duration": 5,
    "start_time": "2022-11-08T07:52:02.480Z"
   },
   {
    "duration": 12,
    "start_time": "2022-11-08T07:52:03.871Z"
   },
   {
    "duration": 6,
    "start_time": "2022-11-08T07:52:24.632Z"
   },
   {
    "duration": 3,
    "start_time": "2022-11-08T07:52:50.009Z"
   },
   {
    "duration": 5,
    "start_time": "2022-11-08T07:52:59.455Z"
   },
   {
    "duration": 4,
    "start_time": "2022-11-08T07:53:03.056Z"
   },
   {
    "duration": 5,
    "start_time": "2022-11-08T07:53:03.512Z"
   },
   {
    "duration": 5,
    "start_time": "2022-11-08T07:53:24.458Z"
   },
   {
    "duration": 5,
    "start_time": "2022-11-08T07:54:02.352Z"
   },
   {
    "duration": 4,
    "start_time": "2022-11-08T07:54:52.057Z"
   },
   {
    "duration": 5,
    "start_time": "2022-11-08T07:55:31.057Z"
   },
   {
    "duration": 5,
    "start_time": "2022-11-08T07:55:38.825Z"
   },
   {
    "duration": 12,
    "start_time": "2022-11-08T07:55:46.746Z"
   },
   {
    "duration": 4,
    "start_time": "2022-11-08T07:56:01.921Z"
   },
   {
    "duration": 62,
    "start_time": "2022-11-08T08:11:34.914Z"
   },
   {
    "duration": 5,
    "start_time": "2022-11-08T08:11:39.303Z"
   },
   {
    "duration": 489,
    "start_time": "2022-11-08T08:12:19.496Z"
   },
   {
    "duration": 24,
    "start_time": "2022-11-08T08:12:19.987Z"
   },
   {
    "duration": 20,
    "start_time": "2022-11-08T08:12:20.265Z"
   },
   {
    "duration": 3,
    "start_time": "2022-11-08T08:12:21.593Z"
   },
   {
    "duration": 18,
    "start_time": "2022-11-08T08:12:22.585Z"
   },
   {
    "duration": 18,
    "start_time": "2022-11-08T08:12:23.281Z"
   },
   {
    "duration": 7,
    "start_time": "2022-11-08T08:12:25.258Z"
   },
   {
    "duration": 4,
    "start_time": "2022-11-08T08:12:25.713Z"
   },
   {
    "duration": 13,
    "start_time": "2022-11-08T08:12:26.705Z"
   },
   {
    "duration": 5,
    "start_time": "2022-11-08T08:12:32.081Z"
   },
   {
    "duration": 5,
    "start_time": "2022-11-08T08:12:54.826Z"
   },
   {
    "duration": 5,
    "start_time": "2022-11-08T08:12:59.595Z"
   },
   {
    "duration": 3,
    "start_time": "2022-11-08T08:13:23.506Z"
   },
   {
    "duration": 4,
    "start_time": "2022-11-08T08:13:24.515Z"
   },
   {
    "duration": 445,
    "start_time": "2022-11-08T08:13:34.585Z"
   },
   {
    "duration": 24,
    "start_time": "2022-11-08T08:13:35.032Z"
   },
   {
    "duration": 28,
    "start_time": "2022-11-08T08:13:35.058Z"
   },
   {
    "duration": 10,
    "start_time": "2022-11-08T08:13:35.088Z"
   },
   {
    "duration": 34,
    "start_time": "2022-11-08T08:13:35.100Z"
   },
   {
    "duration": 45,
    "start_time": "2022-11-08T08:13:35.136Z"
   },
   {
    "duration": 41,
    "start_time": "2022-11-08T08:13:35.183Z"
   },
   {
    "duration": 73,
    "start_time": "2022-11-08T08:13:35.226Z"
   },
   {
    "duration": 0,
    "start_time": "2022-11-08T08:13:35.302Z"
   },
   {
    "duration": 0,
    "start_time": "2022-11-08T08:13:35.303Z"
   },
   {
    "duration": 0,
    "start_time": "2022-11-08T08:13:35.304Z"
   },
   {
    "duration": 0,
    "start_time": "2022-11-08T08:13:35.306Z"
   },
   {
    "duration": 0,
    "start_time": "2022-11-08T08:13:35.307Z"
   },
   {
    "duration": 3,
    "start_time": "2022-11-08T08:13:45.601Z"
   },
   {
    "duration": 13,
    "start_time": "2022-11-08T08:13:46.784Z"
   },
   {
    "duration": 5,
    "start_time": "2022-11-08T08:13:50.489Z"
   },
   {
    "duration": 3,
    "start_time": "2022-11-08T08:13:51.689Z"
   },
   {
    "duration": 5,
    "start_time": "2022-11-08T08:13:52.121Z"
   },
   {
    "duration": 5,
    "start_time": "2022-11-08T08:14:11.129Z"
   },
   {
    "duration": 4,
    "start_time": "2022-11-08T08:14:24.250Z"
   },
   {
    "duration": 7,
    "start_time": "2022-11-08T08:14:29.001Z"
   },
   {
    "duration": 5,
    "start_time": "2022-11-08T08:15:11.059Z"
   },
   {
    "duration": 4,
    "start_time": "2022-11-08T08:15:43.490Z"
   },
   {
    "duration": 4,
    "start_time": "2022-11-08T08:15:48.730Z"
   },
   {
    "duration": 13,
    "start_time": "2022-11-08T08:16:04.497Z"
   },
   {
    "duration": 4,
    "start_time": "2022-11-08T08:24:33.580Z"
   },
   {
    "duration": 10,
    "start_time": "2022-11-08T08:26:50.653Z"
   },
   {
    "duration": 10,
    "start_time": "2022-11-08T08:27:03.797Z"
   },
   {
    "duration": 8,
    "start_time": "2022-11-08T08:27:38.670Z"
   },
   {
    "duration": 26,
    "start_time": "2022-11-08T08:27:59.879Z"
   },
   {
    "duration": 23,
    "start_time": "2022-11-08T08:28:22.117Z"
   },
   {
    "duration": 69,
    "start_time": "2022-11-08T08:29:09.304Z"
   },
   {
    "duration": 23,
    "start_time": "2022-11-08T08:29:37.575Z"
   },
   {
    "duration": 4,
    "start_time": "2022-11-08T08:29:59.022Z"
   },
   {
    "duration": 10,
    "start_time": "2022-11-08T08:30:17.143Z"
   },
   {
    "duration": 6,
    "start_time": "2022-11-08T08:30:29.441Z"
   },
   {
    "duration": 13,
    "start_time": "2022-11-08T08:30:32.526Z"
   },
   {
    "duration": 23,
    "start_time": "2022-11-08T08:33:10.048Z"
   },
   {
    "duration": 22,
    "start_time": "2022-11-08T08:33:48.128Z"
   },
   {
    "duration": 432,
    "start_time": "2022-11-08T08:34:14.753Z"
   },
   {
    "duration": 20,
    "start_time": "2022-11-08T08:34:15.187Z"
   },
   {
    "duration": 13,
    "start_time": "2022-11-08T08:34:15.209Z"
   },
   {
    "duration": 3,
    "start_time": "2022-11-08T08:34:15.223Z"
   },
   {
    "duration": 3,
    "start_time": "2022-11-08T08:34:20.239Z"
   },
   {
    "duration": 17,
    "start_time": "2022-11-08T08:34:21.031Z"
   },
   {
    "duration": 12,
    "start_time": "2022-11-08T08:34:21.641Z"
   },
   {
    "duration": 7,
    "start_time": "2022-11-08T08:34:22.715Z"
   },
   {
    "duration": 4,
    "start_time": "2022-11-08T08:34:23.470Z"
   },
   {
    "duration": 12,
    "start_time": "2022-11-08T08:34:24.759Z"
   },
   {
    "duration": 5,
    "start_time": "2022-11-08T08:34:26.006Z"
   },
   {
    "duration": 3,
    "start_time": "2022-11-08T08:34:28.800Z"
   },
   {
    "duration": 7,
    "start_time": "2022-11-08T08:34:29.318Z"
   },
   {
    "duration": 7,
    "start_time": "2022-11-08T08:34:31.670Z"
   },
   {
    "duration": 7,
    "start_time": "2022-11-08T08:34:33.927Z"
   },
   {
    "duration": 8,
    "start_time": "2022-11-08T08:34:49.294Z"
   },
   {
    "duration": 6,
    "start_time": "2022-11-08T08:34:59.414Z"
   },
   {
    "duration": 6,
    "start_time": "2022-11-08T08:34:59.910Z"
   },
   {
    "duration": 5,
    "start_time": "2022-11-08T08:35:00.430Z"
   },
   {
    "duration": 454,
    "start_time": "2022-11-08T08:35:10.714Z"
   },
   {
    "duration": 31,
    "start_time": "2022-11-08T08:35:11.171Z"
   },
   {
    "duration": 18,
    "start_time": "2022-11-08T08:35:11.204Z"
   },
   {
    "duration": 5,
    "start_time": "2022-11-08T08:35:11.223Z"
   },
   {
    "duration": 18,
    "start_time": "2022-11-08T08:35:11.229Z"
   },
   {
    "duration": 15,
    "start_time": "2022-11-08T08:35:11.249Z"
   },
   {
    "duration": 7,
    "start_time": "2022-11-08T08:35:11.285Z"
   },
   {
    "duration": 6,
    "start_time": "2022-11-08T08:35:11.294Z"
   },
   {
    "duration": 16,
    "start_time": "2022-11-08T08:35:11.302Z"
   },
   {
    "duration": 6,
    "start_time": "2022-11-08T08:35:11.320Z"
   },
   {
    "duration": 11,
    "start_time": "2022-11-08T08:35:11.328Z"
   },
   {
    "duration": 17,
    "start_time": "2022-11-08T08:35:11.340Z"
   },
   {
    "duration": 15,
    "start_time": "2022-11-08T08:35:11.359Z"
   },
   {
    "duration": 7,
    "start_time": "2022-11-08T08:35:11.385Z"
   },
   {
    "duration": 13,
    "start_time": "2022-11-08T08:35:11.394Z"
   },
   {
    "duration": 16,
    "start_time": "2022-11-08T08:35:11.408Z"
   },
   {
    "duration": 14,
    "start_time": "2022-11-08T08:35:11.425Z"
   },
   {
    "duration": 16,
    "start_time": "2022-11-08T08:35:11.440Z"
   },
   {
    "duration": 16,
    "start_time": "2022-11-08T08:35:11.458Z"
   },
   {
    "duration": 5,
    "start_time": "2022-11-08T08:41:48.778Z"
   },
   {
    "duration": 4,
    "start_time": "2022-11-08T08:41:58.802Z"
   },
   {
    "duration": 3,
    "start_time": "2022-11-08T08:42:12.035Z"
   },
   {
    "duration": 14,
    "start_time": "2022-11-08T08:42:13.306Z"
   },
   {
    "duration": 4,
    "start_time": "2022-11-08T08:42:33.666Z"
   },
   {
    "duration": 15,
    "start_time": "2022-11-08T08:42:34.161Z"
   },
   {
    "duration": 5,
    "start_time": "2022-11-08T08:43:01.787Z"
   },
   {
    "duration": 13,
    "start_time": "2022-11-08T08:43:02.490Z"
   },
   {
    "duration": 47,
    "start_time": "2022-11-08T08:45:57.660Z"
   },
   {
    "duration": 15,
    "start_time": "2022-11-08T08:45:57.709Z"
   },
   {
    "duration": 15,
    "start_time": "2022-11-08T08:45:57.725Z"
   },
   {
    "duration": 10,
    "start_time": "2022-11-08T08:45:57.742Z"
   },
   {
    "duration": 34,
    "start_time": "2022-11-08T08:45:57.753Z"
   },
   {
    "duration": 14,
    "start_time": "2022-11-08T08:45:57.788Z"
   },
   {
    "duration": 12,
    "start_time": "2022-11-08T08:45:57.804Z"
   },
   {
    "duration": 6,
    "start_time": "2022-11-08T08:45:57.818Z"
   },
   {
    "duration": 12,
    "start_time": "2022-11-08T08:45:57.826Z"
   },
   {
    "duration": 19,
    "start_time": "2022-11-08T08:45:57.840Z"
   },
   {
    "duration": 12,
    "start_time": "2022-11-08T08:45:57.861Z"
   },
   {
    "duration": 8,
    "start_time": "2022-11-08T08:45:57.874Z"
   },
   {
    "duration": 6,
    "start_time": "2022-11-08T08:45:57.884Z"
   },
   {
    "duration": 11,
    "start_time": "2022-11-08T08:45:57.891Z"
   },
   {
    "duration": 5,
    "start_time": "2022-11-08T08:45:57.903Z"
   },
   {
    "duration": 7,
    "start_time": "2022-11-08T08:45:57.909Z"
   },
   {
    "duration": 15,
    "start_time": "2022-11-08T08:45:57.917Z"
   },
   {
    "duration": 3,
    "start_time": "2022-11-08T08:45:57.934Z"
   },
   {
    "duration": 5,
    "start_time": "2022-11-08T08:45:57.939Z"
   },
   {
    "duration": 8,
    "start_time": "2022-11-08T08:45:57.946Z"
   },
   {
    "duration": 32,
    "start_time": "2022-11-08T08:45:57.955Z"
   },
   {
    "duration": 1166,
    "start_time": "2022-11-08T08:46:37.196Z"
   },
   {
    "duration": 7,
    "start_time": "2022-11-08T08:47:09.315Z"
   },
   {
    "duration": 13,
    "start_time": "2022-11-08T08:47:14.843Z"
   },
   {
    "duration": 4,
    "start_time": "2022-11-08T08:47:31.973Z"
   },
   {
    "duration": 19,
    "start_time": "2022-11-08T08:47:37.366Z"
   },
   {
    "duration": 16,
    "start_time": "2022-11-08T08:48:00.260Z"
   },
   {
    "duration": 7,
    "start_time": "2022-11-08T09:02:11.400Z"
   },
   {
    "duration": 617,
    "start_time": "2022-11-08T09:02:20.113Z"
   },
   {
    "duration": 558,
    "start_time": "2022-11-08T09:03:09.858Z"
   },
   {
    "duration": 75,
    "start_time": "2022-11-08T09:03:27.426Z"
   },
   {
    "duration": 1308,
    "start_time": "2022-11-08T09:03:39.101Z"
   },
   {
    "duration": 1255,
    "start_time": "2022-11-08T09:04:23.692Z"
   },
   {
    "duration": 18,
    "start_time": "2022-11-08T09:04:53.018Z"
   },
   {
    "duration": 218,
    "start_time": "2022-11-08T09:05:18.867Z"
   },
   {
    "duration": 249,
    "start_time": "2022-11-08T09:05:26.738Z"
   },
   {
    "duration": 5,
    "start_time": "2022-11-08T09:10:18.533Z"
   },
   {
    "duration": 5,
    "start_time": "2022-11-08T09:10:31.549Z"
   },
   {
    "duration": 3,
    "start_time": "2022-11-08T09:14:34.749Z"
   },
   {
    "duration": 9,
    "start_time": "2022-11-08T09:14:41.245Z"
   },
   {
    "duration": 18,
    "start_time": "2022-11-08T09:14:48.052Z"
   },
   {
    "duration": 76,
    "start_time": "2022-11-08T09:15:39.285Z"
   },
   {
    "duration": 10,
    "start_time": "2022-11-08T09:15:52.702Z"
   },
   {
    "duration": 23,
    "start_time": "2022-11-08T09:16:17.541Z"
   },
   {
    "duration": 113,
    "start_time": "2022-11-08T09:18:54.103Z"
   },
   {
    "duration": 17,
    "start_time": "2022-11-08T09:19:12.047Z"
   },
   {
    "duration": 5,
    "start_time": "2022-11-08T09:20:45.622Z"
   },
   {
    "duration": 5,
    "start_time": "2022-11-08T09:23:13.720Z"
   },
   {
    "duration": 6,
    "start_time": "2022-11-08T09:23:14.567Z"
   },
   {
    "duration": 19,
    "start_time": "2022-11-08T09:23:20.936Z"
   },
   {
    "duration": 4,
    "start_time": "2022-11-08T09:24:05.433Z"
   },
   {
    "duration": 17,
    "start_time": "2022-11-08T09:24:13.785Z"
   },
   {
    "duration": 17,
    "start_time": "2022-11-08T09:25:44.227Z"
   },
   {
    "duration": 502,
    "start_time": "2022-11-08T09:31:41.082Z"
   },
   {
    "duration": 38,
    "start_time": "2022-11-08T09:31:57.723Z"
   },
   {
    "duration": 48,
    "start_time": "2022-11-08T09:32:06.882Z"
   },
   {
    "duration": 14,
    "start_time": "2022-11-08T09:32:22.941Z"
   },
   {
    "duration": 1117,
    "start_time": "2022-11-08T09:33:18.276Z"
   },
   {
    "duration": 377,
    "start_time": "2022-11-08T09:33:54.250Z"
   },
   {
    "duration": 2372,
    "start_time": "2022-11-08T09:35:12.445Z"
   },
   {
    "duration": 0,
    "start_time": "2022-11-08T09:35:14.819Z"
   },
   {
    "duration": 0,
    "start_time": "2022-11-08T09:35:14.820Z"
   },
   {
    "duration": 0,
    "start_time": "2022-11-08T09:35:14.822Z"
   },
   {
    "duration": 1470,
    "start_time": "2022-11-08T09:35:23.724Z"
   },
   {
    "duration": 1124,
    "start_time": "2022-11-08T09:35:50.326Z"
   },
   {
    "duration": 1205,
    "start_time": "2022-11-08T09:35:54.091Z"
   },
   {
    "duration": 1163,
    "start_time": "2022-11-08T09:36:15.102Z"
   },
   {
    "duration": 18,
    "start_time": "2022-11-08T09:36:16.268Z"
   },
   {
    "duration": 14,
    "start_time": "2022-11-08T09:36:16.288Z"
   },
   {
    "duration": 3,
    "start_time": "2022-11-08T09:36:16.303Z"
   },
   {
    "duration": 20,
    "start_time": "2022-11-08T09:36:16.308Z"
   },
   {
    "duration": 13,
    "start_time": "2022-11-08T09:36:16.329Z"
   },
   {
    "duration": 10,
    "start_time": "2022-11-08T09:36:16.343Z"
   },
   {
    "duration": 13,
    "start_time": "2022-11-08T09:36:16.354Z"
   },
   {
    "duration": 17,
    "start_time": "2022-11-08T09:36:16.369Z"
   },
   {
    "duration": 3,
    "start_time": "2022-11-08T09:36:16.388Z"
   },
   {
    "duration": 15,
    "start_time": "2022-11-08T09:36:16.392Z"
   },
   {
    "duration": 10,
    "start_time": "2022-11-08T09:36:16.409Z"
   },
   {
    "duration": 8,
    "start_time": "2022-11-08T09:36:16.421Z"
   },
   {
    "duration": 5,
    "start_time": "2022-11-08T09:36:16.431Z"
   },
   {
    "duration": 5,
    "start_time": "2022-11-08T09:36:16.438Z"
   },
   {
    "duration": 6,
    "start_time": "2022-11-08T09:36:16.445Z"
   },
   {
    "duration": 36,
    "start_time": "2022-11-08T09:36:16.452Z"
   },
   {
    "duration": 5,
    "start_time": "2022-11-08T09:36:16.489Z"
   },
   {
    "duration": 8,
    "start_time": "2022-11-08T09:36:16.496Z"
   },
   {
    "duration": 7,
    "start_time": "2022-11-08T09:36:16.505Z"
   },
   {
    "duration": 15,
    "start_time": "2022-11-08T09:36:16.514Z"
   },
   {
    "duration": 22,
    "start_time": "2022-11-08T09:36:16.530Z"
   },
   {
    "duration": 247,
    "start_time": "2022-11-08T09:36:16.553Z"
   },
   {
    "duration": 5,
    "start_time": "2022-11-08T09:36:16.802Z"
   },
   {
    "duration": 8,
    "start_time": "2022-11-08T09:36:16.809Z"
   },
   {
    "duration": 23,
    "start_time": "2022-11-08T09:36:16.819Z"
   },
   {
    "duration": 505,
    "start_time": "2022-11-08T09:36:16.843Z"
   },
   {
    "duration": 5,
    "start_time": "2022-11-08T09:50:09.273Z"
   },
   {
    "duration": 102,
    "start_time": "2022-11-08T11:44:46.277Z"
   },
   {
    "duration": 13,
    "start_time": "2022-11-08T11:44:54.725Z"
   },
   {
    "duration": 71,
    "start_time": "2022-11-08T11:48:17.537Z"
   },
   {
    "duration": 85,
    "start_time": "2022-11-08T11:49:28.583Z"
   },
   {
    "duration": 81,
    "start_time": "2022-11-08T11:49:41.104Z"
   },
   {
    "duration": 26,
    "start_time": "2022-11-08T11:50:09.072Z"
   },
   {
    "duration": 25,
    "start_time": "2022-11-08T11:50:19.544Z"
   },
   {
    "duration": 383,
    "start_time": "2022-11-08T11:50:29.600Z"
   },
   {
    "duration": 26,
    "start_time": "2022-11-08T11:52:04.066Z"
   },
   {
    "duration": 674,
    "start_time": "2022-11-08T11:52:41.320Z"
   },
   {
    "duration": 70,
    "start_time": "2022-11-08T11:54:13.281Z"
   },
   {
    "duration": 706,
    "start_time": "2022-11-08T11:54:23.034Z"
   },
   {
    "duration": 696,
    "start_time": "2022-11-08T11:54:33.433Z"
   },
   {
    "duration": 687,
    "start_time": "2022-11-08T11:54:40.921Z"
   },
   {
    "duration": 482,
    "start_time": "2022-11-08T11:54:53.050Z"
   },
   {
    "duration": 588,
    "start_time": "2022-11-08T11:55:02.587Z"
   },
   {
    "duration": 5,
    "start_time": "2022-11-08T11:55:09.752Z"
   },
   {
    "duration": 503,
    "start_time": "2022-11-08T11:55:10.441Z"
   },
   {
    "duration": 1205,
    "start_time": "2022-11-08T11:55:24.650Z"
   },
   {
    "duration": 20,
    "start_time": "2022-11-08T11:55:25.857Z"
   },
   {
    "duration": 19,
    "start_time": "2022-11-08T11:55:25.878Z"
   },
   {
    "duration": 23,
    "start_time": "2022-11-08T11:55:25.899Z"
   },
   {
    "duration": 52,
    "start_time": "2022-11-08T11:55:25.924Z"
   },
   {
    "duration": 22,
    "start_time": "2022-11-08T11:55:25.977Z"
   },
   {
    "duration": 39,
    "start_time": "2022-11-08T11:55:26.001Z"
   },
   {
    "duration": 15,
    "start_time": "2022-11-08T11:55:26.042Z"
   },
   {
    "duration": 31,
    "start_time": "2022-11-08T11:55:26.058Z"
   },
   {
    "duration": 20,
    "start_time": "2022-11-08T11:55:26.092Z"
   },
   {
    "duration": 38,
    "start_time": "2022-11-08T11:55:26.114Z"
   },
   {
    "duration": 14,
    "start_time": "2022-11-08T11:55:26.154Z"
   },
   {
    "duration": 9,
    "start_time": "2022-11-08T11:55:26.169Z"
   },
   {
    "duration": 6,
    "start_time": "2022-11-08T11:55:26.179Z"
   },
   {
    "duration": 13,
    "start_time": "2022-11-08T11:55:26.186Z"
   },
   {
    "duration": 11,
    "start_time": "2022-11-08T11:55:26.200Z"
   },
   {
    "duration": 13,
    "start_time": "2022-11-08T11:55:26.212Z"
   },
   {
    "duration": 4,
    "start_time": "2022-11-08T11:55:26.227Z"
   },
   {
    "duration": 14,
    "start_time": "2022-11-08T11:55:26.232Z"
   },
   {
    "duration": 23,
    "start_time": "2022-11-08T11:55:26.248Z"
   },
   {
    "duration": 32,
    "start_time": "2022-11-08T11:55:26.273Z"
   },
   {
    "duration": 35,
    "start_time": "2022-11-08T11:55:26.306Z"
   },
   {
    "duration": 228,
    "start_time": "2022-11-08T11:55:26.343Z"
   },
   {
    "duration": 12,
    "start_time": "2022-11-08T11:55:26.573Z"
   },
   {
    "duration": 102,
    "start_time": "2022-11-08T11:55:26.586Z"
   },
   {
    "duration": 0,
    "start_time": "2022-11-08T11:55:26.689Z"
   },
   {
    "duration": 444,
    "start_time": "2022-11-08T11:55:46.626Z"
   },
   {
    "duration": 671,
    "start_time": "2022-11-08T11:55:50.945Z"
   },
   {
    "duration": 818,
    "start_time": "2022-11-08T11:56:37.273Z"
   },
   {
    "duration": 804,
    "start_time": "2022-11-08T11:58:21.521Z"
   },
   {
    "duration": 756,
    "start_time": "2022-11-08T11:58:34.249Z"
   },
   {
    "duration": 786,
    "start_time": "2022-11-08T11:59:29.032Z"
   },
   {
    "duration": 832,
    "start_time": "2022-11-08T11:59:54.666Z"
   },
   {
    "duration": 610,
    "start_time": "2022-11-08T12:09:28.038Z"
   },
   {
    "duration": 703,
    "start_time": "2022-11-08T12:09:48.646Z"
   },
   {
    "duration": 713,
    "start_time": "2022-11-08T12:10:07.326Z"
   },
   {
    "duration": 772,
    "start_time": "2022-11-08T12:10:15.989Z"
   },
   {
    "duration": 771,
    "start_time": "2022-11-08T12:10:34.487Z"
   },
   {
    "duration": 4,
    "start_time": "2022-11-08T12:11:28.525Z"
   },
   {
    "duration": 215,
    "start_time": "2022-11-08T12:13:35.038Z"
   },
   {
    "duration": 300,
    "start_time": "2022-11-08T12:17:52.019Z"
   },
   {
    "duration": 72,
    "start_time": "2022-11-08T12:22:58.209Z"
   },
   {
    "duration": 13,
    "start_time": "2022-11-08T12:23:15.225Z"
   },
   {
    "duration": 17,
    "start_time": "2022-11-08T12:23:24.768Z"
   },
   {
    "duration": 17,
    "start_time": "2022-11-08T12:23:51.369Z"
   },
   {
    "duration": 17,
    "start_time": "2022-11-08T12:24:12.513Z"
   },
   {
    "duration": 1261,
    "start_time": "2022-11-08T12:24:17.952Z"
   },
   {
    "duration": 156,
    "start_time": "2022-11-08T12:24:29.130Z"
   },
   {
    "duration": 154,
    "start_time": "2022-11-08T12:25:16.050Z"
   },
   {
    "duration": 153,
    "start_time": "2022-11-08T12:25:22.529Z"
   },
   {
    "duration": 151,
    "start_time": "2022-11-08T12:25:46.587Z"
   },
   {
    "duration": 153,
    "start_time": "2022-11-08T12:26:40.722Z"
   },
   {
    "duration": 148,
    "start_time": "2022-11-08T12:28:39.539Z"
   },
   {
    "duration": 146,
    "start_time": "2022-11-08T12:28:49.899Z"
   },
   {
    "duration": 161,
    "start_time": "2022-11-08T12:29:55.682Z"
   },
   {
    "duration": 135,
    "start_time": "2022-11-08T12:31:10.907Z"
   },
   {
    "duration": 144,
    "start_time": "2022-11-08T12:31:39.300Z"
   },
   {
    "duration": 85,
    "start_time": "2022-11-08T12:32:36.187Z"
   },
   {
    "duration": 45,
    "start_time": "2022-11-08T12:32:41.115Z"
   },
   {
    "duration": 46,
    "start_time": "2022-11-08T12:33:11.972Z"
   },
   {
    "duration": 44,
    "start_time": "2022-11-08T12:33:16.676Z"
   },
   {
    "duration": 52,
    "start_time": "2022-11-08T12:33:26.884Z"
   },
   {
    "duration": 48,
    "start_time": "2022-11-08T12:33:50.453Z"
   },
   {
    "duration": 49,
    "start_time": "2022-11-08T12:33:58.396Z"
   },
   {
    "duration": 51,
    "start_time": "2022-11-08T12:34:04.846Z"
   },
   {
    "duration": 158,
    "start_time": "2022-11-08T12:35:15.302Z"
   },
   {
    "duration": 146,
    "start_time": "2022-11-08T12:35:16.022Z"
   },
   {
    "duration": 718,
    "start_time": "2022-11-08T12:37:21.078Z"
   },
   {
    "duration": 48,
    "start_time": "2022-11-08T12:37:24.372Z"
   },
   {
    "duration": 733,
    "start_time": "2022-11-08T12:37:38.919Z"
   },
   {
    "duration": 173,
    "start_time": "2022-11-08T12:37:39.654Z"
   },
   {
    "duration": 162,
    "start_time": "2022-11-08T12:37:40.974Z"
   },
   {
    "duration": 174,
    "start_time": "2022-11-08T12:37:41.422Z"
   },
   {
    "duration": 32,
    "start_time": "2022-11-08T12:37:41.918Z"
   },
   {
    "duration": 81,
    "start_time": "2022-11-08T12:37:42.974Z"
   },
   {
    "duration": 801,
    "start_time": "2022-11-08T12:38:32.142Z"
   },
   {
    "duration": 236,
    "start_time": "2022-11-08T12:38:32.945Z"
   },
   {
    "duration": 146,
    "start_time": "2022-11-08T12:38:34.990Z"
   },
   {
    "duration": 141,
    "start_time": "2022-11-08T12:38:35.814Z"
   },
   {
    "duration": 49,
    "start_time": "2022-11-08T12:38:41.630Z"
   },
   {
    "duration": 156,
    "start_time": "2022-11-08T12:41:29.431Z"
   },
   {
    "duration": 148,
    "start_time": "2022-11-08T12:41:30.415Z"
   },
   {
    "duration": 45,
    "start_time": "2022-11-08T12:41:33.225Z"
   },
   {
    "duration": 9,
    "start_time": "2022-11-08T12:44:43.648Z"
   },
   {
    "duration": 162,
    "start_time": "2022-11-08T12:45:21.353Z"
   },
   {
    "duration": 280,
    "start_time": "2022-11-08T12:45:54.634Z"
   },
   {
    "duration": 156,
    "start_time": "2022-11-08T12:46:01.425Z"
   },
   {
    "duration": 160,
    "start_time": "2022-11-08T12:46:30.162Z"
   },
   {
    "duration": 156,
    "start_time": "2022-11-08T12:46:40.706Z"
   },
   {
    "duration": 167,
    "start_time": "2022-11-08T12:46:50.529Z"
   },
   {
    "duration": 160,
    "start_time": "2022-11-08T12:46:57.098Z"
   },
   {
    "duration": 158,
    "start_time": "2022-11-08T12:47:13.459Z"
   },
   {
    "duration": 162,
    "start_time": "2022-11-08T12:47:20.922Z"
   },
   {
    "duration": 143,
    "start_time": "2022-11-08T12:47:27.762Z"
   },
   {
    "duration": 161,
    "start_time": "2022-11-08T12:47:39.877Z"
   },
   {
    "duration": 147,
    "start_time": "2022-11-08T12:47:52.161Z"
   },
   {
    "duration": 156,
    "start_time": "2022-11-08T12:47:58.731Z"
   },
   {
    "duration": 148,
    "start_time": "2022-11-08T12:48:14.913Z"
   },
   {
    "duration": 148,
    "start_time": "2022-11-08T12:48:39.339Z"
   },
   {
    "duration": 203,
    "start_time": "2022-11-08T12:49:07.491Z"
   },
   {
    "duration": 147,
    "start_time": "2022-11-08T12:49:25.218Z"
   },
   {
    "duration": 243,
    "start_time": "2022-11-08T12:49:33.724Z"
   },
   {
    "duration": 157,
    "start_time": "2022-11-08T12:49:40.507Z"
   },
   {
    "duration": 179,
    "start_time": "2022-11-08T12:49:48.300Z"
   },
   {
    "duration": 9,
    "start_time": "2022-11-08T13:07:22.792Z"
   },
   {
    "duration": 23,
    "start_time": "2022-11-08T13:09:09.240Z"
   },
   {
    "duration": 48,
    "start_time": "2022-11-08T13:09:15.097Z"
   },
   {
    "duration": 77,
    "start_time": "2022-11-08T13:09:53.546Z"
   },
   {
    "duration": 66,
    "start_time": "2022-11-08T13:10:01.281Z"
   },
   {
    "duration": 64,
    "start_time": "2022-11-08T13:12:01.106Z"
   },
   {
    "duration": 64,
    "start_time": "2022-11-08T13:12:25.450Z"
   },
   {
    "duration": 1188,
    "start_time": "2022-11-08T13:13:08.347Z"
   },
   {
    "duration": 55,
    "start_time": "2022-11-08T13:13:17.355Z"
   },
   {
    "duration": 91,
    "start_time": "2022-11-08T13:18:59.092Z"
   },
   {
    "duration": 19,
    "start_time": "2022-11-08T13:19:05.141Z"
   },
   {
    "duration": 19,
    "start_time": "2022-11-08T13:19:41.679Z"
   },
   {
    "duration": 28,
    "start_time": "2022-11-08T13:19:59.930Z"
   },
   {
    "duration": 22,
    "start_time": "2022-11-08T13:20:25.989Z"
   },
   {
    "duration": 68,
    "start_time": "2022-11-08T13:21:22.301Z"
   },
   {
    "duration": 20,
    "start_time": "2022-11-08T13:21:33.285Z"
   },
   {
    "duration": 80,
    "start_time": "2022-11-08T13:21:47.701Z"
   },
   {
    "duration": 25,
    "start_time": "2022-11-08T13:21:52.085Z"
   },
   {
    "duration": 72,
    "start_time": "2022-11-08T13:24:29.110Z"
   },
   {
    "duration": 46,
    "start_time": "2022-11-09T07:07:12.299Z"
   },
   {
    "duration": 18,
    "start_time": "2022-11-09T07:07:12.346Z"
   },
   {
    "duration": 42,
    "start_time": "2022-11-09T07:07:12.366Z"
   },
   {
    "duration": 14,
    "start_time": "2022-11-09T07:07:12.410Z"
   },
   {
    "duration": 23,
    "start_time": "2022-11-09T07:07:12.426Z"
   },
   {
    "duration": 24,
    "start_time": "2022-11-09T07:07:12.451Z"
   },
   {
    "duration": 24,
    "start_time": "2022-11-09T07:07:12.476Z"
   },
   {
    "duration": 24,
    "start_time": "2022-11-09T07:07:12.502Z"
   },
   {
    "duration": 17,
    "start_time": "2022-11-09T07:07:12.527Z"
   },
   {
    "duration": 11,
    "start_time": "2022-11-09T07:07:12.546Z"
   },
   {
    "duration": 11,
    "start_time": "2022-11-09T07:07:12.559Z"
   },
   {
    "duration": 11,
    "start_time": "2022-11-09T07:07:12.571Z"
   },
   {
    "duration": 6,
    "start_time": "2022-11-09T07:07:12.583Z"
   },
   {
    "duration": 7,
    "start_time": "2022-11-09T07:07:12.591Z"
   },
   {
    "duration": 6,
    "start_time": "2022-11-09T07:07:12.600Z"
   },
   {
    "duration": 7,
    "start_time": "2022-11-09T07:07:12.608Z"
   },
   {
    "duration": 22,
    "start_time": "2022-11-09T07:07:12.616Z"
   },
   {
    "duration": 3,
    "start_time": "2022-11-09T07:07:12.640Z"
   },
   {
    "duration": 6,
    "start_time": "2022-11-09T07:07:12.645Z"
   },
   {
    "duration": 11,
    "start_time": "2022-11-09T07:07:12.652Z"
   },
   {
    "duration": 20,
    "start_time": "2022-11-09T07:07:12.665Z"
   },
   {
    "duration": 14,
    "start_time": "2022-11-09T07:07:12.686Z"
   },
   {
    "duration": 258,
    "start_time": "2022-11-09T07:07:12.702Z"
   },
   {
    "duration": 5,
    "start_time": "2022-11-09T07:07:12.962Z"
   },
   {
    "duration": 483,
    "start_time": "2022-11-09T07:07:12.969Z"
   },
   {
    "duration": 866,
    "start_time": "2022-11-09T07:07:13.453Z"
   },
   {
    "duration": 237,
    "start_time": "2022-11-09T07:07:14.321Z"
   },
   {
    "duration": 157,
    "start_time": "2022-11-09T07:07:14.560Z"
   },
   {
    "duration": 162,
    "start_time": "2022-11-09T07:07:14.719Z"
   },
   {
    "duration": 45,
    "start_time": "2022-11-09T07:07:14.885Z"
   },
   {
    "duration": 79,
    "start_time": "2022-11-09T07:07:14.931Z"
   },
   {
    "duration": 24,
    "start_time": "2022-11-09T07:07:15.011Z"
   },
   {
    "duration": 15,
    "start_time": "2022-11-09T07:10:46.931Z"
   },
   {
    "duration": 142,
    "start_time": "2022-11-09T07:11:42.964Z"
   },
   {
    "duration": 467,
    "start_time": "2022-11-09T07:11:53.839Z"
   },
   {
    "duration": 141,
    "start_time": "2022-11-09T07:14:07.605Z"
   },
   {
    "duration": 1170,
    "start_time": "2022-11-09T07:15:48.742Z"
   },
   {
    "duration": 140,
    "start_time": "2022-11-09T07:16:03.886Z"
   },
   {
    "duration": 132,
    "start_time": "2022-11-09T07:19:13.943Z"
   },
   {
    "duration": 163,
    "start_time": "2022-11-09T07:20:21.719Z"
   },
   {
    "duration": 158,
    "start_time": "2022-11-09T07:21:42.055Z"
   },
   {
    "duration": 171,
    "start_time": "2022-11-09T07:22:37.192Z"
   },
   {
    "duration": 180,
    "start_time": "2022-11-09T07:23:17.407Z"
   },
   {
    "duration": 139,
    "start_time": "2022-11-09T07:24:09.790Z"
   },
   {
    "duration": 162,
    "start_time": "2022-11-09T07:24:51.383Z"
   },
   {
    "duration": 136,
    "start_time": "2022-11-09T07:26:40.152Z"
   },
   {
    "duration": 178,
    "start_time": "2022-11-09T07:27:58.226Z"
   },
   {
    "duration": 147,
    "start_time": "2022-11-09T07:27:58.818Z"
   },
   {
    "duration": 164,
    "start_time": "2022-11-09T07:28:03.480Z"
   },
   {
    "duration": 281,
    "start_time": "2022-11-09T07:34:56.612Z"
   },
   {
    "duration": 161,
    "start_time": "2022-11-09T07:35:00.540Z"
   },
   {
    "duration": 159,
    "start_time": "2022-11-09T07:35:03.763Z"
   },
   {
    "duration": 145,
    "start_time": "2022-11-09T07:48:48.151Z"
   },
   {
    "duration": 161,
    "start_time": "2022-11-09T07:49:53.239Z"
   },
   {
    "duration": 148,
    "start_time": "2022-11-09T07:50:21.449Z"
   },
   {
    "duration": 12,
    "start_time": "2022-11-09T08:11:17.617Z"
   },
   {
    "duration": 14,
    "start_time": "2022-11-09T08:11:30.639Z"
   },
   {
    "duration": 59,
    "start_time": "2022-11-09T08:12:07.407Z"
   },
   {
    "duration": 1159,
    "start_time": "2022-11-09T08:12:11.671Z"
   },
   {
    "duration": 1137,
    "start_time": "2022-11-09T08:12:39.782Z"
   },
   {
    "duration": 1158,
    "start_time": "2022-11-09T08:13:13.872Z"
   },
   {
    "duration": 14,
    "start_time": "2022-11-09T08:13:25.943Z"
   },
   {
    "duration": 1147,
    "start_time": "2022-11-09T08:14:03.642Z"
   },
   {
    "duration": 13,
    "start_time": "2022-11-09T08:14:32.625Z"
   },
   {
    "duration": 45,
    "start_time": "2022-11-09T08:14:38.525Z"
   },
   {
    "duration": 15,
    "start_time": "2022-11-09T08:14:38.572Z"
   },
   {
    "duration": 25,
    "start_time": "2022-11-09T08:14:38.589Z"
   },
   {
    "duration": 11,
    "start_time": "2022-11-09T08:14:38.617Z"
   },
   {
    "duration": 39,
    "start_time": "2022-11-09T08:14:38.630Z"
   },
   {
    "duration": 13,
    "start_time": "2022-11-09T08:14:38.671Z"
   },
   {
    "duration": 18,
    "start_time": "2022-11-09T08:14:38.686Z"
   },
   {
    "duration": 23,
    "start_time": "2022-11-09T08:14:38.706Z"
   },
   {
    "duration": 20,
    "start_time": "2022-11-09T08:14:38.731Z"
   },
   {
    "duration": 23,
    "start_time": "2022-11-09T08:14:38.754Z"
   },
   {
    "duration": 19,
    "start_time": "2022-11-09T08:14:38.779Z"
   },
   {
    "duration": 27,
    "start_time": "2022-11-09T08:14:38.799Z"
   },
   {
    "duration": 26,
    "start_time": "2022-11-09T08:14:38.827Z"
   },
   {
    "duration": 10,
    "start_time": "2022-11-09T08:14:38.854Z"
   },
   {
    "duration": 26,
    "start_time": "2022-11-09T08:14:38.865Z"
   },
   {
    "duration": 14,
    "start_time": "2022-11-09T08:14:38.892Z"
   },
   {
    "duration": 27,
    "start_time": "2022-11-09T08:14:38.907Z"
   },
   {
    "duration": 4,
    "start_time": "2022-11-09T08:14:38.935Z"
   },
   {
    "duration": 38,
    "start_time": "2022-11-09T08:14:38.940Z"
   },
   {
    "duration": 27,
    "start_time": "2022-11-09T08:14:38.979Z"
   },
   {
    "duration": 31,
    "start_time": "2022-11-09T08:14:39.008Z"
   },
   {
    "duration": 18,
    "start_time": "2022-11-09T08:14:39.040Z"
   },
   {
    "duration": 210,
    "start_time": "2022-11-09T08:14:39.059Z"
   },
   {
    "duration": 4,
    "start_time": "2022-11-09T08:14:39.271Z"
   },
   {
    "duration": 438,
    "start_time": "2022-11-09T08:14:39.277Z"
   },
   {
    "duration": 758,
    "start_time": "2022-11-09T08:14:39.717Z"
   },
   {
    "duration": 231,
    "start_time": "2022-11-09T08:14:40.477Z"
   },
   {
    "duration": 163,
    "start_time": "2022-11-09T08:14:40.712Z"
   },
   {
    "duration": 154,
    "start_time": "2022-11-09T08:14:40.876Z"
   },
   {
    "duration": 55,
    "start_time": "2022-11-09T08:14:41.031Z"
   },
   {
    "duration": 51,
    "start_time": "2022-11-09T08:14:41.088Z"
   },
   {
    "duration": 23,
    "start_time": "2022-11-09T08:14:41.140Z"
   },
   {
    "duration": 165,
    "start_time": "2022-11-09T08:14:41.164Z"
   },
   {
    "duration": 286,
    "start_time": "2022-11-09T08:14:41.331Z"
   },
   {
    "duration": 168,
    "start_time": "2022-11-09T08:14:41.619Z"
   },
   {
    "duration": 145,
    "start_time": "2022-11-09T08:14:41.789Z"
   },
   {
    "duration": 153,
    "start_time": "2022-11-09T08:14:41.936Z"
   },
   {
    "duration": 154,
    "start_time": "2022-11-09T08:14:42.091Z"
   },
   {
    "duration": 173,
    "start_time": "2022-11-09T08:14:42.250Z"
   },
   {
    "duration": 160,
    "start_time": "2022-11-09T08:14:42.425Z"
   },
   {
    "duration": 155,
    "start_time": "2022-11-09T08:14:42.587Z"
   },
   {
    "duration": 12,
    "start_time": "2022-11-09T08:14:42.744Z"
   },
   {
    "duration": 11,
    "start_time": "2022-11-09T08:14:42.757Z"
   },
   {
    "duration": 14,
    "start_time": "2022-11-09T08:14:56.970Z"
   },
   {
    "duration": 71,
    "start_time": "2022-11-09T08:24:07.491Z"
   },
   {
    "duration": 12,
    "start_time": "2022-11-09T08:24:19.107Z"
   },
   {
    "duration": 9,
    "start_time": "2022-11-09T08:24:31.604Z"
   },
   {
    "duration": 10,
    "start_time": "2022-11-09T08:25:01.348Z"
   },
   {
    "duration": 12,
    "start_time": "2022-11-09T08:25:57.600Z"
   },
   {
    "duration": 11,
    "start_time": "2022-11-09T08:26:08.340Z"
   },
   {
    "duration": 9,
    "start_time": "2022-11-09T08:26:30.446Z"
   },
   {
    "duration": 10,
    "start_time": "2022-11-09T08:27:38.469Z"
   },
   {
    "duration": 10,
    "start_time": "2022-11-09T08:31:46.818Z"
   },
   {
    "duration": 45,
    "start_time": "2022-11-09T09:02:16.218Z"
   },
   {
    "duration": 15,
    "start_time": "2022-11-09T09:02:16.265Z"
   },
   {
    "duration": 23,
    "start_time": "2022-11-09T09:02:16.282Z"
   },
   {
    "duration": 4,
    "start_time": "2022-11-09T09:02:16.308Z"
   },
   {
    "duration": 28,
    "start_time": "2022-11-09T09:02:16.313Z"
   },
   {
    "duration": 12,
    "start_time": "2022-11-09T09:02:16.343Z"
   },
   {
    "duration": 32,
    "start_time": "2022-11-09T09:02:16.357Z"
   },
   {
    "duration": 9,
    "start_time": "2022-11-09T09:02:16.391Z"
   },
   {
    "duration": 8,
    "start_time": "2022-11-09T09:02:16.403Z"
   },
   {
    "duration": 3,
    "start_time": "2022-11-09T09:02:16.413Z"
   },
   {
    "duration": 7,
    "start_time": "2022-11-09T09:02:16.418Z"
   },
   {
    "duration": 27,
    "start_time": "2022-11-09T09:02:16.426Z"
   },
   {
    "duration": 7,
    "start_time": "2022-11-09T09:02:16.455Z"
   },
   {
    "duration": 13,
    "start_time": "2022-11-09T09:02:16.463Z"
   },
   {
    "duration": 8,
    "start_time": "2022-11-09T09:02:16.478Z"
   },
   {
    "duration": 10,
    "start_time": "2022-11-09T09:02:16.487Z"
   },
   {
    "duration": 16,
    "start_time": "2022-11-09T09:02:16.498Z"
   },
   {
    "duration": 8,
    "start_time": "2022-11-09T09:02:16.516Z"
   },
   {
    "duration": 8,
    "start_time": "2022-11-09T09:02:16.525Z"
   },
   {
    "duration": 19,
    "start_time": "2022-11-09T09:02:16.535Z"
   },
   {
    "duration": 17,
    "start_time": "2022-11-09T09:02:16.555Z"
   },
   {
    "duration": 18,
    "start_time": "2022-11-09T09:02:16.574Z"
   },
   {
    "duration": 1072,
    "start_time": "2022-11-09T09:02:16.594Z"
   },
   {
    "duration": 7,
    "start_time": "2022-11-09T09:02:17.668Z"
   },
   {
    "duration": 510,
    "start_time": "2022-11-09T09:02:17.677Z"
   },
   {
    "duration": 752,
    "start_time": "2022-11-09T09:02:18.189Z"
   },
   {
    "duration": 258,
    "start_time": "2022-11-09T09:02:18.943Z"
   },
   {
    "duration": 925,
    "start_time": "2022-11-09T09:02:19.206Z"
   },
   {
    "duration": 955,
    "start_time": "2022-11-09T09:02:20.133Z"
   },
   {
    "duration": 51,
    "start_time": "2022-11-09T09:02:21.090Z"
   },
   {
    "duration": 73,
    "start_time": "2022-11-09T09:02:21.143Z"
   },
   {
    "duration": 25,
    "start_time": "2022-11-09T09:02:21.218Z"
   },
   {
    "duration": 840,
    "start_time": "2022-11-09T09:02:21.245Z"
   },
   {
    "duration": 849,
    "start_time": "2022-11-09T09:02:22.087Z"
   },
   {
    "duration": 824,
    "start_time": "2022-11-09T09:02:22.937Z"
   },
   {
    "duration": 844,
    "start_time": "2022-11-09T09:02:23.762Z"
   },
   {
    "duration": 889,
    "start_time": "2022-11-09T09:02:24.608Z"
   },
   {
    "duration": 786,
    "start_time": "2022-11-09T09:02:25.499Z"
   },
   {
    "duration": 811,
    "start_time": "2022-11-09T09:02:26.287Z"
   },
   {
    "duration": 915,
    "start_time": "2022-11-09T09:02:27.099Z"
   },
   {
    "duration": 877,
    "start_time": "2022-11-09T09:02:28.016Z"
   },
   {
    "duration": 10,
    "start_time": "2022-11-09T09:02:28.894Z"
   },
   {
    "duration": 9,
    "start_time": "2022-11-09T09:02:28.906Z"
   },
   {
    "duration": 1208,
    "start_time": "2022-11-09T09:04:22.956Z"
   },
   {
    "duration": 20,
    "start_time": "2022-11-09T09:04:24.166Z"
   },
   {
    "duration": 14,
    "start_time": "2022-11-09T09:04:24.188Z"
   },
   {
    "duration": 5,
    "start_time": "2022-11-09T09:04:24.204Z"
   },
   {
    "duration": 25,
    "start_time": "2022-11-09T09:04:24.210Z"
   },
   {
    "duration": 13,
    "start_time": "2022-11-09T09:04:24.237Z"
   },
   {
    "duration": 9,
    "start_time": "2022-11-09T09:04:24.252Z"
   },
   {
    "duration": 26,
    "start_time": "2022-11-09T09:04:24.263Z"
   },
   {
    "duration": 8,
    "start_time": "2022-11-09T09:04:24.291Z"
   },
   {
    "duration": 4,
    "start_time": "2022-11-09T09:04:24.302Z"
   },
   {
    "duration": 9,
    "start_time": "2022-11-09T09:04:24.307Z"
   },
   {
    "duration": 19,
    "start_time": "2022-11-09T09:04:24.318Z"
   },
   {
    "duration": 6,
    "start_time": "2022-11-09T09:04:24.340Z"
   },
   {
    "duration": 10,
    "start_time": "2022-11-09T09:04:24.348Z"
   },
   {
    "duration": 27,
    "start_time": "2022-11-09T09:04:24.359Z"
   },
   {
    "duration": 5,
    "start_time": "2022-11-09T09:04:24.388Z"
   },
   {
    "duration": 18,
    "start_time": "2022-11-09T09:04:24.394Z"
   },
   {
    "duration": 4,
    "start_time": "2022-11-09T09:04:24.414Z"
   },
   {
    "duration": 7,
    "start_time": "2022-11-09T09:04:24.419Z"
   },
   {
    "duration": 6,
    "start_time": "2022-11-09T09:04:24.428Z"
   },
   {
    "duration": 22,
    "start_time": "2022-11-09T09:04:24.436Z"
   },
   {
    "duration": 19,
    "start_time": "2022-11-09T09:04:24.486Z"
   },
   {
    "duration": 259,
    "start_time": "2022-11-09T09:04:24.506Z"
   },
   {
    "duration": 6,
    "start_time": "2022-11-09T09:04:24.766Z"
   },
   {
    "duration": 489,
    "start_time": "2022-11-09T09:04:24.773Z"
   },
   {
    "duration": 706,
    "start_time": "2022-11-09T09:04:25.263Z"
   },
   {
    "duration": 304,
    "start_time": "2022-11-09T09:04:25.971Z"
   },
   {
    "duration": 214,
    "start_time": "2022-11-09T09:04:26.285Z"
   },
   {
    "duration": 162,
    "start_time": "2022-11-09T09:04:26.501Z"
   },
   {
    "duration": 62,
    "start_time": "2022-11-09T09:04:26.665Z"
   },
   {
    "duration": 185,
    "start_time": "2022-11-09T09:04:26.729Z"
   },
   {
    "duration": 34,
    "start_time": "2022-11-09T09:04:26.916Z"
   },
   {
    "duration": 196,
    "start_time": "2022-11-09T09:04:26.952Z"
   },
   {
    "duration": 192,
    "start_time": "2022-11-09T09:04:27.152Z"
   },
   {
    "duration": 182,
    "start_time": "2022-11-09T09:04:27.346Z"
   },
   {
    "duration": 179,
    "start_time": "2022-11-09T09:04:27.530Z"
   },
   {
    "duration": 155,
    "start_time": "2022-11-09T09:04:27.710Z"
   },
   {
    "duration": 148,
    "start_time": "2022-11-09T09:04:27.867Z"
   },
   {
    "duration": 175,
    "start_time": "2022-11-09T09:04:28.017Z"
   },
   {
    "duration": 172,
    "start_time": "2022-11-09T09:04:28.195Z"
   },
   {
    "duration": 146,
    "start_time": "2022-11-09T09:04:28.369Z"
   },
   {
    "duration": 12,
    "start_time": "2022-11-09T09:04:28.517Z"
   },
   {
    "duration": 14,
    "start_time": "2022-11-09T09:04:28.531Z"
   },
   {
    "duration": 54,
    "start_time": "2022-11-09T09:25:41.277Z"
   },
   {
    "duration": 65,
    "start_time": "2022-11-09T09:36:08.445Z"
   },
   {
    "duration": 1154,
    "start_time": "2022-11-09T09:36:18.631Z"
   },
   {
    "duration": 20,
    "start_time": "2022-11-09T09:36:19.787Z"
   },
   {
    "duration": 15,
    "start_time": "2022-11-09T09:36:19.809Z"
   },
   {
    "duration": 4,
    "start_time": "2022-11-09T09:36:19.825Z"
   },
   {
    "duration": 15,
    "start_time": "2022-11-09T09:36:19.831Z"
   },
   {
    "duration": 12,
    "start_time": "2022-11-09T09:36:19.848Z"
   },
   {
    "duration": 9,
    "start_time": "2022-11-09T09:36:19.861Z"
   },
   {
    "duration": 6,
    "start_time": "2022-11-09T09:36:19.872Z"
   },
   {
    "duration": 9,
    "start_time": "2022-11-09T09:36:19.879Z"
   },
   {
    "duration": 12,
    "start_time": "2022-11-09T09:36:19.891Z"
   },
   {
    "duration": 12,
    "start_time": "2022-11-09T09:36:19.904Z"
   },
   {
    "duration": 17,
    "start_time": "2022-11-09T09:36:19.917Z"
   },
   {
    "duration": 6,
    "start_time": "2022-11-09T09:36:19.936Z"
   },
   {
    "duration": 12,
    "start_time": "2022-11-09T09:36:19.943Z"
   },
   {
    "duration": 7,
    "start_time": "2022-11-09T09:36:19.957Z"
   },
   {
    "duration": 7,
    "start_time": "2022-11-09T09:36:19.965Z"
   },
   {
    "duration": 13,
    "start_time": "2022-11-09T09:36:19.973Z"
   },
   {
    "duration": 4,
    "start_time": "2022-11-09T09:36:19.987Z"
   },
   {
    "duration": 6,
    "start_time": "2022-11-09T09:36:19.992Z"
   },
   {
    "duration": 6,
    "start_time": "2022-11-09T09:36:20.000Z"
   },
   {
    "duration": 35,
    "start_time": "2022-11-09T09:36:20.007Z"
   },
   {
    "duration": 15,
    "start_time": "2022-11-09T09:36:20.044Z"
   },
   {
    "duration": 271,
    "start_time": "2022-11-09T09:36:20.061Z"
   },
   {
    "duration": 5,
    "start_time": "2022-11-09T09:36:20.334Z"
   },
   {
    "duration": 435,
    "start_time": "2022-11-09T09:36:20.340Z"
   },
   {
    "duration": 740,
    "start_time": "2022-11-09T09:36:20.777Z"
   },
   {
    "duration": 235,
    "start_time": "2022-11-09T09:36:21.518Z"
   },
   {
    "duration": 144,
    "start_time": "2022-11-09T09:36:21.757Z"
   },
   {
    "duration": 154,
    "start_time": "2022-11-09T09:36:21.902Z"
   },
   {
    "duration": 47,
    "start_time": "2022-11-09T09:36:22.058Z"
   },
   {
    "duration": 136,
    "start_time": "2022-11-09T09:36:22.107Z"
   },
   {
    "duration": 23,
    "start_time": "2022-11-09T09:36:22.244Z"
   },
   {
    "duration": 157,
    "start_time": "2022-11-09T09:36:22.268Z"
   },
   {
    "duration": 158,
    "start_time": "2022-11-09T09:36:22.427Z"
   },
   {
    "duration": 159,
    "start_time": "2022-11-09T09:36:22.587Z"
   },
   {
    "duration": 159,
    "start_time": "2022-11-09T09:36:22.747Z"
   },
   {
    "duration": 141,
    "start_time": "2022-11-09T09:36:22.908Z"
   },
   {
    "duration": 134,
    "start_time": "2022-11-09T09:36:23.051Z"
   },
   {
    "duration": 138,
    "start_time": "2022-11-09T09:36:23.187Z"
   },
   {
    "duration": 155,
    "start_time": "2022-11-09T09:36:23.326Z"
   },
   {
    "duration": 135,
    "start_time": "2022-11-09T09:36:23.482Z"
   },
   {
    "duration": 20,
    "start_time": "2022-11-09T09:36:23.619Z"
   },
   {
    "duration": 11,
    "start_time": "2022-11-09T09:36:23.640Z"
   },
   {
    "duration": 150,
    "start_time": "2022-11-09T09:39:17.352Z"
   },
   {
    "duration": 145,
    "start_time": "2022-11-09T09:39:49.680Z"
   },
   {
    "duration": 138,
    "start_time": "2022-11-09T09:39:57.640Z"
   },
   {
    "duration": 148,
    "start_time": "2022-11-09T09:40:04.047Z"
   },
   {
    "duration": 217,
    "start_time": "2022-11-09T09:40:08.022Z"
   },
   {
    "duration": 81,
    "start_time": "2022-11-09T12:12:04.045Z"
   },
   {
    "duration": 1723,
    "start_time": "2022-11-09T12:12:12.291Z"
   },
   {
    "duration": 30,
    "start_time": "2022-11-09T12:12:14.017Z"
   },
   {
    "duration": 22,
    "start_time": "2022-11-09T12:12:14.049Z"
   },
   {
    "duration": 8,
    "start_time": "2022-11-09T12:12:14.073Z"
   },
   {
    "duration": 35,
    "start_time": "2022-11-09T12:12:14.085Z"
   },
   {
    "duration": 20,
    "start_time": "2022-11-09T12:12:14.126Z"
   },
   {
    "duration": 33,
    "start_time": "2022-11-09T12:12:14.148Z"
   },
   {
    "duration": 22,
    "start_time": "2022-11-09T12:12:14.185Z"
   },
   {
    "duration": 10,
    "start_time": "2022-11-09T12:12:14.209Z"
   },
   {
    "duration": 18,
    "start_time": "2022-11-09T12:12:14.221Z"
   },
   {
    "duration": 8,
    "start_time": "2022-11-09T12:12:14.244Z"
   },
   {
    "duration": 19,
    "start_time": "2022-11-09T12:12:14.254Z"
   },
   {
    "duration": 15,
    "start_time": "2022-11-09T12:12:14.275Z"
   },
   {
    "duration": 12,
    "start_time": "2022-11-09T12:12:14.295Z"
   },
   {
    "duration": 9,
    "start_time": "2022-11-09T12:12:14.309Z"
   },
   {
    "duration": 17,
    "start_time": "2022-11-09T12:12:14.320Z"
   },
   {
    "duration": 11,
    "start_time": "2022-11-09T12:12:14.342Z"
   },
   {
    "duration": 26,
    "start_time": "2022-11-09T12:12:14.355Z"
   },
   {
    "duration": 31,
    "start_time": "2022-11-09T12:12:14.384Z"
   },
   {
    "duration": 31,
    "start_time": "2022-11-09T12:12:14.418Z"
   },
   {
    "duration": 47,
    "start_time": "2022-11-09T12:12:14.451Z"
   },
   {
    "duration": 21,
    "start_time": "2022-11-09T12:12:14.500Z"
   },
   {
    "duration": 23,
    "start_time": "2022-11-09T12:12:14.523Z"
   },
   {
    "duration": 393,
    "start_time": "2022-11-09T12:12:14.548Z"
   },
   {
    "duration": 7,
    "start_time": "2022-11-09T12:12:14.944Z"
   },
   {
    "duration": 618,
    "start_time": "2022-11-09T12:12:14.952Z"
   },
   {
    "duration": 918,
    "start_time": "2022-11-09T12:12:15.573Z"
   },
   {
    "duration": 303,
    "start_time": "2022-11-09T12:12:16.494Z"
   },
   {
    "duration": 189,
    "start_time": "2022-11-09T12:12:16.799Z"
   },
   {
    "duration": 186,
    "start_time": "2022-11-09T12:12:16.991Z"
   },
   {
    "duration": 187,
    "start_time": "2022-11-09T12:12:17.179Z"
   },
   {
    "duration": 84,
    "start_time": "2022-11-09T12:12:17.368Z"
   },
   {
    "duration": 40,
    "start_time": "2022-11-09T12:12:17.454Z"
   },
   {
    "duration": 255,
    "start_time": "2022-11-09T12:12:17.496Z"
   },
   {
    "duration": 245,
    "start_time": "2022-11-09T12:12:17.754Z"
   },
   {
    "duration": 185,
    "start_time": "2022-11-09T12:12:18.001Z"
   },
   {
    "duration": 193,
    "start_time": "2022-11-09T12:12:18.188Z"
   },
   {
    "duration": 234,
    "start_time": "2022-11-09T12:12:18.386Z"
   },
   {
    "duration": 221,
    "start_time": "2022-11-09T12:12:18.622Z"
   },
   {
    "duration": 220,
    "start_time": "2022-11-09T12:12:18.847Z"
   },
   {
    "duration": 259,
    "start_time": "2022-11-09T12:12:19.072Z"
   },
   {
    "duration": 232,
    "start_time": "2022-11-09T12:12:19.333Z"
   },
   {
    "duration": 18,
    "start_time": "2022-11-09T12:12:19.569Z"
   },
   {
    "duration": 87,
    "start_time": "2022-11-09T12:12:19.590Z"
   },
   {
    "duration": 13,
    "start_time": "2022-11-09T12:13:20.492Z"
   },
   {
    "duration": 1473,
    "start_time": "2022-11-09T12:13:37.914Z"
   },
   {
    "duration": 25,
    "start_time": "2022-11-09T12:13:39.392Z"
   },
   {
    "duration": 21,
    "start_time": "2022-11-09T12:13:39.420Z"
   },
   {
    "duration": 7,
    "start_time": "2022-11-09T12:13:39.443Z"
   },
   {
    "duration": 28,
    "start_time": "2022-11-09T12:13:46.108Z"
   },
   {
    "duration": 20,
    "start_time": "2022-11-09T12:13:47.468Z"
   },
   {
    "duration": 38,
    "start_time": "2022-11-09T12:13:48.598Z"
   },
   {
    "duration": 11,
    "start_time": "2022-11-09T12:16:32.839Z"
   },
   {
    "duration": 5,
    "start_time": "2022-11-09T12:16:33.941Z"
   },
   {
    "duration": 6,
    "start_time": "2022-11-09T12:16:34.493Z"
   },
   {
    "duration": 8,
    "start_time": "2022-11-09T12:17:33.638Z"
   },
   {
    "duration": 4,
    "start_time": "2022-11-09T12:17:38.167Z"
   },
   {
    "duration": 6,
    "start_time": "2022-11-09T12:17:38.782Z"
   },
   {
    "duration": 8,
    "start_time": "2022-11-09T12:19:06.030Z"
   },
   {
    "duration": 9,
    "start_time": "2022-11-09T12:19:08.829Z"
   },
   {
    "duration": 4,
    "start_time": "2022-11-09T12:19:10.422Z"
   },
   {
    "duration": 6,
    "start_time": "2022-11-09T12:19:11.462Z"
   },
   {
    "duration": 19,
    "start_time": "2022-11-09T12:21:00.991Z"
   },
   {
    "duration": 1257,
    "start_time": "2022-11-09T12:22:59.084Z"
   },
   {
    "duration": 21,
    "start_time": "2022-11-09T12:23:00.343Z"
   },
   {
    "duration": 146,
    "start_time": "2022-11-09T12:23:00.365Z"
   },
   {
    "duration": 86,
    "start_time": "2022-11-09T12:23:00.513Z"
   },
   {
    "duration": 4,
    "start_time": "2022-11-09T12:23:05.568Z"
   },
   {
    "duration": 19,
    "start_time": "2022-11-09T12:23:06.744Z"
   },
   {
    "duration": 15,
    "start_time": "2022-11-09T12:23:07.943Z"
   },
   {
    "duration": 23,
    "start_time": "2022-11-09T12:23:09.416Z"
   },
   {
    "duration": 9,
    "start_time": "2022-11-09T12:23:14.616Z"
   },
   {
    "duration": 2,
    "start_time": "2022-11-09T12:23:17.106Z"
   },
   {
    "duration": 6,
    "start_time": "2022-11-09T12:23:18.432Z"
   },
   {
    "duration": 21,
    "start_time": "2022-11-09T12:24:37.683Z"
   },
   {
    "duration": 11,
    "start_time": "2022-11-09T12:25:13.425Z"
   },
   {
    "duration": 6,
    "start_time": "2022-11-09T12:31:56.529Z"
   },
   {
    "duration": 49,
    "start_time": "2022-11-09T12:39:04.921Z"
   },
   {
    "duration": 16,
    "start_time": "2022-11-09T12:39:04.972Z"
   },
   {
    "duration": 40,
    "start_time": "2022-11-09T12:39:04.990Z"
   },
   {
    "duration": 14,
    "start_time": "2022-11-09T12:39:05.032Z"
   },
   {
    "duration": 47,
    "start_time": "2022-11-09T12:39:05.048Z"
   },
   {
    "duration": 24,
    "start_time": "2022-11-09T12:39:05.097Z"
   },
   {
    "duration": 31,
    "start_time": "2022-11-09T12:39:05.122Z"
   },
   {
    "duration": 11,
    "start_time": "2022-11-09T12:39:05.155Z"
   },
   {
    "duration": 11,
    "start_time": "2022-11-09T12:39:05.168Z"
   },
   {
    "duration": 15,
    "start_time": "2022-11-09T12:39:05.181Z"
   },
   {
    "duration": 10,
    "start_time": "2022-11-09T12:39:05.197Z"
   },
   {
    "duration": 15,
    "start_time": "2022-11-09T12:39:05.209Z"
   },
   {
    "duration": 15,
    "start_time": "2022-11-09T12:39:05.226Z"
   },
   {
    "duration": 14,
    "start_time": "2022-11-09T12:39:05.243Z"
   },
   {
    "duration": 15,
    "start_time": "2022-11-09T12:39:05.259Z"
   },
   {
    "duration": 31,
    "start_time": "2022-11-09T12:39:05.275Z"
   },
   {
    "duration": 7,
    "start_time": "2022-11-09T12:39:05.308Z"
   },
   {
    "duration": 37,
    "start_time": "2022-11-09T12:39:05.317Z"
   },
   {
    "duration": 24,
    "start_time": "2022-11-09T12:39:05.355Z"
   },
   {
    "duration": 21,
    "start_time": "2022-11-09T12:39:05.381Z"
   },
   {
    "duration": 24,
    "start_time": "2022-11-09T12:39:05.403Z"
   },
   {
    "duration": 18,
    "start_time": "2022-11-09T12:39:05.429Z"
   },
   {
    "duration": 19,
    "start_time": "2022-11-09T12:39:05.449Z"
   },
   {
    "duration": 16,
    "start_time": "2022-11-09T12:39:08.989Z"
   },
   {
    "duration": 24,
    "start_time": "2022-11-09T12:39:39.392Z"
   },
   {
    "duration": 270,
    "start_time": "2022-11-09T12:40:46.852Z"
   },
   {
    "duration": 245,
    "start_time": "2022-11-09T12:41:01.640Z"
   },
   {
    "duration": 279,
    "start_time": "2022-11-09T12:41:14.351Z"
   },
   {
    "duration": 279,
    "start_time": "2022-11-09T12:41:38.758Z"
   },
   {
    "duration": 280,
    "start_time": "2022-11-09T12:43:08.710Z"
   },
   {
    "duration": 6,
    "start_time": "2022-11-09T12:43:11.192Z"
   },
   {
    "duration": 549,
    "start_time": "2022-11-09T12:43:11.882Z"
   },
   {
    "duration": 1036,
    "start_time": "2022-11-09T12:43:16.894Z"
   },
   {
    "duration": 798,
    "start_time": "2022-11-09T12:43:26.232Z"
   },
   {
    "duration": 285,
    "start_time": "2022-11-09T12:43:27.211Z"
   },
   {
    "duration": 165,
    "start_time": "2022-11-09T12:43:31.621Z"
   },
   {
    "duration": 164,
    "start_time": "2022-11-09T12:43:32.790Z"
   },
   {
    "duration": 198,
    "start_time": "2022-11-09T12:44:49.543Z"
   },
   {
    "duration": 209,
    "start_time": "2022-11-09T12:45:44.884Z"
   },
   {
    "duration": 186,
    "start_time": "2022-11-09T12:46:15.096Z"
   },
   {
    "duration": 84,
    "start_time": "2022-11-09T12:46:35.071Z"
   },
   {
    "duration": 77,
    "start_time": "2022-11-09T12:46:36.488Z"
   },
   {
    "duration": 29,
    "start_time": "2022-11-09T12:46:38.686Z"
   },
   {
    "duration": 183,
    "start_time": "2022-11-09T12:46:41.587Z"
   },
   {
    "duration": 190,
    "start_time": "2022-11-09T12:46:44.862Z"
   },
   {
    "duration": 286,
    "start_time": "2022-11-09T12:46:45.676Z"
   },
   {
    "duration": 185,
    "start_time": "2022-11-09T12:47:20.103Z"
   },
   {
    "duration": 187,
    "start_time": "2022-11-09T12:47:20.719Z"
   },
   {
    "duration": 179,
    "start_time": "2022-11-09T12:47:22.989Z"
   },
   {
    "duration": 202,
    "start_time": "2022-11-09T12:47:23.511Z"
   },
   {
    "duration": 188,
    "start_time": "2022-11-09T12:47:24.103Z"
   },
   {
    "duration": 178,
    "start_time": "2022-11-09T12:47:26.290Z"
   },
   {
    "duration": 182,
    "start_time": "2022-11-09T12:47:26.927Z"
   },
   {
    "duration": 165,
    "start_time": "2022-11-09T12:47:27.944Z"
   },
   {
    "duration": 311,
    "start_time": "2022-11-09T12:48:59.895Z"
   },
   {
    "duration": 274,
    "start_time": "2022-11-09T12:49:05.146Z"
   },
   {
    "duration": 255,
    "start_time": "2022-11-09T12:58:12.630Z"
   },
   {
    "duration": 264,
    "start_time": "2022-11-09T12:58:28.909Z"
   },
   {
    "duration": 368,
    "start_time": "2022-11-09T12:58:51.997Z"
   }
  ],
  "kernelspec": {
   "display_name": "Python 3 (ipykernel)",
   "language": "python",
   "name": "python3"
  },
  "language_info": {
   "codemirror_mode": {
    "name": "ipython",
    "version": 3
   },
   "file_extension": ".py",
   "mimetype": "text/x-python",
   "name": "python",
   "nbconvert_exporter": "python",
   "pygments_lexer": "ipython3",
   "version": "3.9.5"
  },
  "toc": {
   "base_numbering": 1,
   "nav_menu": {},
   "number_sections": true,
   "sideBar": true,
   "skip_h1_title": true,
   "title_cell": "Table of Contents",
   "title_sidebar": "Contents",
   "toc_cell": false,
   "toc_position": {},
   "toc_section_display": true,
   "toc_window_display": false
  }
 },
 "nbformat": 4,
 "nbformat_minor": 2
}
