{
 "cells": [
  {
   "cell_type": "markdown",
   "metadata": {
    "deletable": false,
    "editable": false,
    "id": "E0vqbgi9ay0H"
   },
   "source": [
    "# Яндекс Музыка"
   ]
  },
  {
   "cell_type": "markdown",
   "metadata": {
    "deletable": false,
    "editable": false,
    "id": "VUC88oWjTJw2"
   },
   "source": [
    "Сравнение Москвы и Петербурга окружено мифами. Например:\n",
    " * Москва — мегаполис, подчинённый жёсткому ритму рабочей недели;\n",
    " * Петербург — культурная столица, со своими вкусами.\n",
    "\n",
    "На данных Яндекс Музыки вы сравните поведение пользователей двух столиц.\n",
    "\n",
    "**Цель исследования** — проверьте три гипотезы:\n",
    "1. Активность пользователей зависит от дня недели. Причём в Москве и Петербурге это проявляется по-разному.\n",
    "2. В понедельник утром в Москве преобладают одни жанры, а в Петербурге — другие. Так же и вечером пятницы преобладают разные жанры — в зависимости от города. \n",
    "3. Москва и Петербург предпочитают разные жанры музыки. В Москве чаще слушают поп-музыку, в Петербурге — русский рэп.\n",
    "\n",
    "**Ход исследования**\n",
    "\n",
    "Данные о поведении пользователей вы получите из файла `yandex_music_project.csv`. О качестве данных ничего не известно. Поэтому перед проверкой гипотез понадобится обзор данных. \n",
    "\n",
    "Вы проверите данные на ошибки и оцените их влияние на исследование. Затем, на этапе предобработки вы поищете возможность исправить самые критичные ошибки данных.\n",
    " \n",
    "Таким образом, исследование пройдёт в три этапа:\n",
    " 1. Обзор данных.\n",
    " 2. Предобработка данных.\n",
    " 3. Проверка гипотез.\n",
    "\n"
   ]
  },
  {
   "cell_type": "markdown",
   "metadata": {
    "deletable": false,
    "editable": false,
    "id": "Ml1hmfXC_Zcs"
   },
   "source": [
    "## Обзор данных\n",
    "\n",
    "Составьте первое представление о данных Яндекс Музыки.\n",
    "\n",
    "\n"
   ]
  },
  {
   "cell_type": "markdown",
   "metadata": {
    "deletable": false,
    "editable": false,
    "id": "57eAOGIz_Zcs",
    "tags": [
     "start_task"
    ]
   },
   "source": [
    "**Задание 1**\n",
    "\n",
    "Основной инструмент аналитика — `pandas`. Импортируйте эту библиотеку."
   ]
  },
  {
   "cell_type": "code",
   "execution_count": 457,
   "metadata": {
    "deletable": false,
    "id": "AXN7PHPN_Zcs"
   },
   "outputs": [],
   "source": [
    "import pandas as pd # импорт библиотеки pandas"
   ]
  },
  {
   "cell_type": "markdown",
   "metadata": {
    "deletable": false,
    "editable": false,
    "id": "SG23P8tt_Zcs",
    "tags": [
     "start_task"
    ]
   },
   "source": [
    "**Задание 2**\n",
    "\n",
    "Прочитайте файл `yandex_music_project.csv` из папки `/datasets` и сохраните его в переменной `df`:"
   ]
  },
  {
   "cell_type": "code",
   "execution_count": 458,
   "metadata": {
    "deletable": false,
    "id": "fFVu7vqh_Zct"
   },
   "outputs": [],
   "source": [
    "df = pd.read_csv('/datasets/yandex_music_project.csv') # чтение файла с данными и сохранение в df"
   ]
  },
  {
   "cell_type": "markdown",
   "metadata": {
    "deletable": false,
    "editable": false,
    "id": "rDoOMd3uTqnZ",
    "tags": [
     "start_task"
    ]
   },
   "source": [
    "**Задание 3**\n",
    "\n",
    "\n",
    "Выведите на экран первые десять строк таблицы:"
   ]
  },
  {
   "cell_type": "code",
   "execution_count": 459,
   "metadata": {
    "deletable": false,
    "id": "oWTVX3gW_Zct",
    "scrolled": true
   },
   "outputs": [
    {
     "data": {
      "text/html": [
       "<div>\n",
       "<style scoped>\n",
       "    .dataframe tbody tr th:only-of-type {\n",
       "        vertical-align: middle;\n",
       "    }\n",
       "\n",
       "    .dataframe tbody tr th {\n",
       "        vertical-align: top;\n",
       "    }\n",
       "\n",
       "    .dataframe thead th {\n",
       "        text-align: right;\n",
       "    }\n",
       "</style>\n",
       "<table border=\"1\" class=\"dataframe\">\n",
       "  <thead>\n",
       "    <tr style=\"text-align: right;\">\n",
       "      <th></th>\n",
       "      <th>userID</th>\n",
       "      <th>Track</th>\n",
       "      <th>artist</th>\n",
       "      <th>genre</th>\n",
       "      <th>City</th>\n",
       "      <th>time</th>\n",
       "      <th>Day</th>\n",
       "    </tr>\n",
       "  </thead>\n",
       "  <tbody>\n",
       "    <tr>\n",
       "      <th>0</th>\n",
       "      <td>FFB692EC</td>\n",
       "      <td>Kamigata To Boots</td>\n",
       "      <td>The Mass Missile</td>\n",
       "      <td>rock</td>\n",
       "      <td>Saint-Petersburg</td>\n",
       "      <td>20:28:33</td>\n",
       "      <td>Wednesday</td>\n",
       "    </tr>\n",
       "    <tr>\n",
       "      <th>1</th>\n",
       "      <td>55204538</td>\n",
       "      <td>Delayed Because of Accident</td>\n",
       "      <td>Andreas Rönnberg</td>\n",
       "      <td>rock</td>\n",
       "      <td>Moscow</td>\n",
       "      <td>14:07:09</td>\n",
       "      <td>Friday</td>\n",
       "    </tr>\n",
       "    <tr>\n",
       "      <th>2</th>\n",
       "      <td>20EC38</td>\n",
       "      <td>Funiculì funiculà</td>\n",
       "      <td>Mario Lanza</td>\n",
       "      <td>pop</td>\n",
       "      <td>Saint-Petersburg</td>\n",
       "      <td>20:58:07</td>\n",
       "      <td>Wednesday</td>\n",
       "    </tr>\n",
       "    <tr>\n",
       "      <th>3</th>\n",
       "      <td>A3DD03C9</td>\n",
       "      <td>Dragons in the Sunset</td>\n",
       "      <td>Fire + Ice</td>\n",
       "      <td>folk</td>\n",
       "      <td>Saint-Petersburg</td>\n",
       "      <td>08:37:09</td>\n",
       "      <td>Monday</td>\n",
       "    </tr>\n",
       "    <tr>\n",
       "      <th>4</th>\n",
       "      <td>E2DC1FAE</td>\n",
       "      <td>Soul People</td>\n",
       "      <td>Space Echo</td>\n",
       "      <td>dance</td>\n",
       "      <td>Moscow</td>\n",
       "      <td>08:34:34</td>\n",
       "      <td>Monday</td>\n",
       "    </tr>\n",
       "    <tr>\n",
       "      <th>5</th>\n",
       "      <td>842029A1</td>\n",
       "      <td>Преданная</td>\n",
       "      <td>IMPERVTOR</td>\n",
       "      <td>rusrap</td>\n",
       "      <td>Saint-Petersburg</td>\n",
       "      <td>13:09:41</td>\n",
       "      <td>Friday</td>\n",
       "    </tr>\n",
       "    <tr>\n",
       "      <th>6</th>\n",
       "      <td>4CB90AA5</td>\n",
       "      <td>True</td>\n",
       "      <td>Roman Messer</td>\n",
       "      <td>dance</td>\n",
       "      <td>Moscow</td>\n",
       "      <td>13:00:07</td>\n",
       "      <td>Wednesday</td>\n",
       "    </tr>\n",
       "    <tr>\n",
       "      <th>7</th>\n",
       "      <td>F03E1C1F</td>\n",
       "      <td>Feeling This Way</td>\n",
       "      <td>Polina Griffith</td>\n",
       "      <td>dance</td>\n",
       "      <td>Moscow</td>\n",
       "      <td>20:47:49</td>\n",
       "      <td>Wednesday</td>\n",
       "    </tr>\n",
       "    <tr>\n",
       "      <th>8</th>\n",
       "      <td>8FA1D3BE</td>\n",
       "      <td>И вновь продолжается бой</td>\n",
       "      <td>NaN</td>\n",
       "      <td>ruspop</td>\n",
       "      <td>Moscow</td>\n",
       "      <td>09:17:40</td>\n",
       "      <td>Friday</td>\n",
       "    </tr>\n",
       "    <tr>\n",
       "      <th>9</th>\n",
       "      <td>E772D5C0</td>\n",
       "      <td>Pessimist</td>\n",
       "      <td>NaN</td>\n",
       "      <td>dance</td>\n",
       "      <td>Saint-Petersburg</td>\n",
       "      <td>21:20:49</td>\n",
       "      <td>Wednesday</td>\n",
       "    </tr>\n",
       "  </tbody>\n",
       "</table>\n",
       "</div>"
      ],
      "text/plain": [
       "     userID                        Track            artist   genre  \\\n",
       "0  FFB692EC            Kamigata To Boots  The Mass Missile    rock   \n",
       "1  55204538  Delayed Because of Accident  Andreas Rönnberg    rock   \n",
       "2    20EC38            Funiculì funiculà       Mario Lanza     pop   \n",
       "3  A3DD03C9        Dragons in the Sunset        Fire + Ice    folk   \n",
       "4  E2DC1FAE                  Soul People        Space Echo   dance   \n",
       "5  842029A1                    Преданная         IMPERVTOR  rusrap   \n",
       "6  4CB90AA5                         True      Roman Messer   dance   \n",
       "7  F03E1C1F             Feeling This Way   Polina Griffith   dance   \n",
       "8  8FA1D3BE     И вновь продолжается бой               NaN  ruspop   \n",
       "9  E772D5C0                    Pessimist               NaN   dance   \n",
       "\n",
       "             City        time        Day  \n",
       "0  Saint-Petersburg  20:28:33  Wednesday  \n",
       "1            Moscow  14:07:09     Friday  \n",
       "2  Saint-Petersburg  20:58:07  Wednesday  \n",
       "3  Saint-Petersburg  08:37:09     Monday  \n",
       "4            Moscow  08:34:34     Monday  \n",
       "5  Saint-Petersburg  13:09:41     Friday  \n",
       "6            Moscow  13:00:07  Wednesday  \n",
       "7            Moscow  20:47:49  Wednesday  \n",
       "8            Moscow  09:17:40     Friday  \n",
       "9  Saint-Petersburg  21:20:49  Wednesday  "
      ]
     },
     "execution_count": 459,
     "metadata": {},
     "output_type": "execute_result"
    }
   ],
   "source": [
    "df.head(10) # получение первых 10 строк таблицы df"
   ]
  },
  {
   "cell_type": "markdown",
   "metadata": {
    "deletable": false,
    "editable": false,
    "id": "EO73Kwic_Zct",
    "tags": [
     "start_task"
    ]
   },
   "source": [
    "**Задание 4**\n",
    "\n",
    "\n",
    "Одной командой получить общую информацию о таблице c помощью метода `info()`:"
   ]
  },
  {
   "cell_type": "code",
   "execution_count": 460,
   "metadata": {
    "deletable": false,
    "id": "DSf2kIb-_Zct"
   },
   "outputs": [
    {
     "name": "stdout",
     "output_type": "stream",
     "text": [
      "<class 'pandas.core.frame.DataFrame'>\n",
      "RangeIndex: 65079 entries, 0 to 65078\n",
      "Data columns (total 7 columns):\n",
      " #   Column    Non-Null Count  Dtype \n",
      "---  ------    --------------  ----- \n",
      " 0     userID  65079 non-null  object\n",
      " 1   Track     63848 non-null  object\n",
      " 2   artist    57876 non-null  object\n",
      " 3   genre     63881 non-null  object\n",
      " 4     City    65079 non-null  object\n",
      " 5   time      65079 non-null  object\n",
      " 6   Day       65079 non-null  object\n",
      "dtypes: object(7)\n",
      "memory usage: 3.5+ MB\n"
     ]
    }
   ],
   "source": [
    "df.info()# получение общей информации о данных в таблице df"
   ]
  },
  {
   "cell_type": "markdown",
   "metadata": {
    "deletable": false,
    "editable": false,
    "id": "TaQ2Iwbr_Zct"
   },
   "source": [
    "Итак, в таблице семь столбцов. Тип данных во всех столбцах — `object`.\n",
    "\n",
    "Согласно документации к данным:\n",
    "* `userID` — идентификатор пользователя;\n",
    "* `Track` — название трека;  \n",
    "* `artist` — имя исполнителя;\n",
    "* `genre` — название жанра;\n",
    "* `City` — город пользователя;\n",
    "* `time` — время начала прослушивания;\n",
    "* `Day` — день недели.\n",
    "\n",
    "Количество значений в столбцах различается. Значит, в данных есть пропущенные значения."
   ]
  },
  {
   "cell_type": "markdown",
   "metadata": {
    "deletable": false,
    "editable": false,
    "id": "rAfziTBDmf2h",
    "tags": [
     "start_task"
    ]
   },
   "source": [
    "**Задание 5**\n",
    "\n",
    "**Вопрос со свободной формой ответа**\n",
    "\n",
    "В названиях колонок видны нарушения стиля:\n",
    "* Строчные буквы сочетаются с прописными.\n",
    "* Встречаются пробелы.\n",
    "\n",
    "Какое третье нарушение?"
   ]
  },
  {
   "cell_type": "code",
   "execution_count": 461,
   "metadata": {
    "id": "jD8EXEIvmf2h"
   },
   "outputs": [],
   "source": [
    "# Пробел перед названием столбцов 0 и 4"
   ]
  },
  {
   "cell_type": "markdown",
   "metadata": {
    "deletable": false,
    "editable": false,
    "id": "MCB6-dXG_Zct"
   },
   "source": [
    "**Выводы**\n",
    "\n",
    "В каждой строке таблицы — данные о прослушанном треке. Часть колонок описывает саму композицию: название, исполнителя и жанр. Остальные данные рассказывают о пользователе: из какого он города, когда он слушал музыку. \n",
    "\n",
    "Предварительно можно утверждать, что данных достаточно для проверки гипотез. Но встречаются пропуски в данных, а в названиях колонок — расхождения с хорошим стилем.\n",
    "\n",
    "Чтобы двигаться дальше, нужно устранить проблемы в данных."
   ]
  },
  {
   "cell_type": "markdown",
   "metadata": {
    "deletable": false,
    "editable": false,
    "id": "SjYF6Ub9_Zct"
   },
   "source": [
    "## Предобработка данных\n",
    "Исправьте стиль в заголовках столбцов, исключите пропуски. Затем проверьте данные на дубликаты."
   ]
  },
  {
   "cell_type": "markdown",
   "metadata": {
    "deletable": false,
    "editable": false,
    "id": "dIaKXr29_Zct",
    "tags": [
     "start_task"
    ]
   },
   "source": [
    "### Стиль заголовков\n",
    "\n",
    "**Задание 6**\n",
    "\n",
    "Выведите на экран названия столбцов:"
   ]
  },
  {
   "cell_type": "code",
   "execution_count": 462,
   "metadata": {
    "deletable": false,
    "id": "oKOTdF_Q_Zct"
   },
   "outputs": [
    {
     "data": {
      "text/plain": [
       "Index(['  userID', 'Track', 'artist', 'genre', '  City  ', 'time', 'Day'], dtype='object')"
      ]
     },
     "execution_count": 462,
     "metadata": {},
     "output_type": "execute_result"
    }
   ],
   "source": [
    "df.columns# перечень названий столбцов таблицы df"
   ]
  },
  {
   "cell_type": "markdown",
   "metadata": {
    "deletable": false,
    "editable": false,
    "id": "zj5534cv_Zct",
    "tags": [
     "start_task"
    ]
   },
   "source": [
    "**Задание 7**\n",
    "\n",
    "\n",
    "Приведите названия в соответствие с хорошим стилем:\n",
    "* несколько слов в названии запишите в «змеином_регистре»,\n",
    "* все символы сделайте строчными,\n",
    "* устраните пробелы.\n",
    "\n",
    "Для этого переименуйте колонки так:\n",
    "* `'  userID'` → `'user_id'`;\n",
    "* `'Track'` → `'track'`;\n",
    "* `'  City  '` → `'city'`;\n",
    "* `'Day'` → `'day'`."
   ]
  },
  {
   "cell_type": "code",
   "execution_count": 463,
   "metadata": {
    "deletable": false,
    "id": "ISlFqs5y_Zct"
   },
   "outputs": [],
   "source": [
    "df = df.rename(columns={'  userID': 'user_id', 'Track': 'track', '  City  ': 'city', 'Day': 'day'})# переименование столбцов"
   ]
  },
  {
   "cell_type": "markdown",
   "metadata": {
    "deletable": false,
    "editable": false,
    "id": "1dqbh00J_Zct",
    "tags": [
     "start_task"
    ]
   },
   "source": [
    "**Задание 8**\n",
    "\n",
    "\n",
    "Проверьте результат. Для этого ещё раз выведите на экран названия столбцов:"
   ]
  },
  {
   "cell_type": "code",
   "execution_count": 464,
   "metadata": {
    "deletable": false,
    "id": "d4NOAmTW_Zct"
   },
   "outputs": [
    {
     "data": {
      "text/plain": [
       "Index(['user_id', 'track', 'artist', 'genre', 'city', 'time', 'day'], dtype='object')"
      ]
     },
     "execution_count": 464,
     "metadata": {},
     "output_type": "execute_result"
    }
   ],
   "source": [
    "df.columns# проверка результатов - перечень названий столбцов"
   ]
  },
  {
   "cell_type": "markdown",
   "metadata": {
    "deletable": false,
    "editable": false,
    "id": "5ISfbcfY_Zct",
    "tags": [
     "start_task"
    ]
   },
   "source": [
    "### Пропуски значений\n",
    "\n",
    "**Задание 9**\n",
    "\n",
    "Сначала посчитайте, сколько в таблице пропущенных значений. Для этого достаточно двух методов `pandas`:"
   ]
  },
  {
   "cell_type": "code",
   "execution_count": 465,
   "metadata": {
    "deletable": false,
    "id": "RskX29qr_Zct"
   },
   "outputs": [
    {
     "data": {
      "text/plain": [
       "user_id       0\n",
       "track      1231\n",
       "artist     7203\n",
       "genre      1198\n",
       "city          0\n",
       "time          0\n",
       "day           0\n",
       "dtype: int64"
      ]
     },
     "execution_count": 465,
     "metadata": {},
     "output_type": "execute_result"
    }
   ],
   "source": [
    "df.isna().sum()# подсчёт пропусков"
   ]
  },
  {
   "cell_type": "markdown",
   "metadata": {
    "deletable": false,
    "editable": false,
    "id": "qubhgnlO_Zct"
   },
   "source": [
    "Не все пропущенные значения влияют на исследование. Так в `track` и `artist` пропуски не важны для вашей работы. Достаточно заменить их явными обозначениями.\n",
    "\n",
    "Но пропуски в `genre` могут помешать сравнению музыкальных вкусов в Москве и Санкт-Петербурге. На практике было бы правильно установить причину пропусков и восстановить данные. Такой возможности нет в учебном проекте. Придётся:\n",
    "* заполнить и эти пропуски явными обозначениями;\n",
    "* оценить, насколько они повредят расчётам. "
   ]
  },
  {
   "cell_type": "markdown",
   "metadata": {
    "deletable": false,
    "editable": false,
    "id": "fSv2laPA_Zct",
    "tags": [
     "start_task"
    ]
   },
   "source": [
    "**Задание 10**\n",
    "\n",
    "Замените пропущенные значения в столбцах `track`, `artist` и `genre` на строку `'unknown'`. Для этого создайте список `columns_to_replace`, переберите его элементы циклом `for` и для каждого столбца выполните замену пропущенных значений:"
   ]
  },
  {
   "cell_type": "code",
   "execution_count": 466,
   "metadata": {
    "deletable": false,
    "id": "KplB5qWs_Zct"
   },
   "outputs": [],
   "source": [
    "columns_for_replace = ['track', 'artist', 'genre']\n",
    "for column in columns_for_replace:\n",
    "    df[column] = df[column].fillna('unknown') # перебор названий столбцов в цикле и замена пропущенных значений на 'unknown'"
   ]
  },
  {
   "cell_type": "markdown",
   "metadata": {
    "deletable": false,
    "editable": false,
    "id": "Ilsm-MZo_Zct",
    "tags": [
     "start_task"
    ]
   },
   "source": [
    "**Задание 11**\n",
    "\n",
    "Убедитесь, что в таблице не осталось пропусков. Для этого ещё раз посчитайте пропущенные значения."
   ]
  },
  {
   "cell_type": "code",
   "execution_count": 467,
   "metadata": {
    "deletable": false,
    "id": "Tq4nYRX4_Zct"
   },
   "outputs": [
    {
     "data": {
      "text/plain": [
       "user_id    0\n",
       "track      0\n",
       "artist     0\n",
       "genre      0\n",
       "city       0\n",
       "time       0\n",
       "day        0\n",
       "dtype: int64"
      ]
     },
     "execution_count": 467,
     "metadata": {},
     "output_type": "execute_result"
    }
   ],
   "source": [
    "df.isna().sum()# подсчёт пропусков"
   ]
  },
  {
   "cell_type": "markdown",
   "metadata": {
    "deletable": false,
    "editable": false,
    "id": "BWKRtBJ3_Zct",
    "tags": [
     "start_task"
    ]
   },
   "source": [
    "### Дубликаты\n",
    "\n",
    "**Задание 12**\n",
    "\n",
    "Посчитайте явные дубликаты в таблице одной командой:"
   ]
  },
  {
   "cell_type": "code",
   "execution_count": 468,
   "metadata": {
    "deletable": false,
    "id": "36eES_S0_Zct"
   },
   "outputs": [
    {
     "data": {
      "text/plain": [
       "3826"
      ]
     },
     "execution_count": 468,
     "metadata": {},
     "output_type": "execute_result"
    }
   ],
   "source": [
    "df.duplicated().sum()# подсчёт явных дубликатов"
   ]
  },
  {
   "cell_type": "markdown",
   "metadata": {
    "deletable": false,
    "editable": false,
    "id": "Ot25h6XR_Zct",
    "tags": [
     "start_task"
    ]
   },
   "source": [
    "**Задание 13**\n",
    "\n",
    "Вызовите специальный метод `pandas`, чтобы удалить явные дубликаты:"
   ]
  },
  {
   "cell_type": "code",
   "execution_count": 469,
   "metadata": {
    "deletable": false,
    "id": "exFHq6tt_Zct"
   },
   "outputs": [],
   "source": [
    "df = df.drop_duplicates()# удаление явных дубликатов"
   ]
  },
  {
   "cell_type": "markdown",
   "metadata": {
    "deletable": false,
    "editable": false,
    "id": "Im2YwBEG_Zct",
    "tags": [
     "start_task"
    ]
   },
   "source": [
    "**Задание 14**\n",
    "\n",
    "Ещё раз посчитайте явные дубликаты в таблице — убедитесь, что полностью от них избавились:"
   ]
  },
  {
   "cell_type": "code",
   "execution_count": 470,
   "metadata": {
    "deletable": false,
    "id": "-8PuNWQ0_Zct"
   },
   "outputs": [
    {
     "data": {
      "text/plain": [
       "0"
      ]
     },
     "execution_count": 470,
     "metadata": {},
     "output_type": "execute_result"
    }
   ],
   "source": [
    "df.duplicated().sum()# проверка на отсутствие дубликатов"
   ]
  },
  {
   "cell_type": "markdown",
   "metadata": {
    "deletable": false,
    "editable": false,
    "id": "QlFBsxAr_Zct"
   },
   "source": [
    "Теперь избавьтесь от неявных дубликатов в колонке `genre`. Например, название одного и того же жанра может быть записано немного по-разному. Такие ошибки тоже повлияют на результат исследования."
   ]
  },
  {
   "cell_type": "markdown",
   "metadata": {
    "deletable": false,
    "editable": false,
    "id": "eSjWwsOh_Zct",
    "tags": [
     "start_task"
    ]
   },
   "source": [
    "**Задание 15**\n",
    "\n",
    "Выведите на экран список уникальных названий жанров, отсортированный в алфавитном порядке. Для этого:\n",
    "1. извлеките нужный столбец датафрейма; \n",
    "2. примените к нему метод сортировки;\n",
    "3. для отсортированного столбца вызовите метод, который вернёт уникальные значения из столбца."
   ]
  },
  {
   "cell_type": "code",
   "execution_count": 471,
   "metadata": {
    "deletable": false,
    "id": "JIUcqzZN_Zct"
   },
   "outputs": [
    {
     "data": {
      "text/plain": [
       "array(['acid', 'acoustic', 'action', 'adult', 'africa', 'afrikaans',\n",
       "       'alternative', 'alternativepunk', 'ambient', 'americana',\n",
       "       'animated', 'anime', 'arabesk', 'arabic', 'arena',\n",
       "       'argentinetango', 'art', 'audiobook', 'author', 'avantgarde',\n",
       "       'axé', 'baile', 'balkan', 'beats', 'bigroom', 'black', 'bluegrass',\n",
       "       'blues', 'bollywood', 'bossa', 'brazilian', 'breakbeat', 'breaks',\n",
       "       'broadway', 'cantautori', 'cantopop', 'canzone', 'caribbean',\n",
       "       'caucasian', 'celtic', 'chamber', 'chanson', 'children', 'chill',\n",
       "       'chinese', 'choral', 'christian', 'christmas', 'classical',\n",
       "       'classicmetal', 'club', 'colombian', 'comedy', 'conjazz',\n",
       "       'contemporary', 'country', 'cuban', 'dance', 'dancehall',\n",
       "       'dancepop', 'dark', 'death', 'deep', 'deutschrock', 'deutschspr',\n",
       "       'dirty', 'disco', 'dnb', 'documentary', 'downbeat', 'downtempo',\n",
       "       'drum', 'dub', 'dubstep', 'eastern', 'easy', 'electronic',\n",
       "       'electropop', 'emo', 'entehno', 'epicmetal', 'estrada', 'ethnic',\n",
       "       'eurofolk', 'european', 'experimental', 'extrememetal', 'fado',\n",
       "       'fairytail', 'film', 'fitness', 'flamenco', 'folk', 'folklore',\n",
       "       'folkmetal', 'folkrock', 'folktronica', 'forró', 'frankreich',\n",
       "       'französisch', 'french', 'funk', 'future', 'gangsta', 'garage',\n",
       "       'german', 'ghazal', 'gitarre', 'glitch', 'gospel', 'gothic',\n",
       "       'grime', 'grunge', 'gypsy', 'handsup', \"hard'n'heavy\", 'hardcore',\n",
       "       'hardstyle', 'hardtechno', 'hip', 'hip-hop', 'hiphop',\n",
       "       'historisch', 'holiday', 'hop', 'horror', 'house', 'hymn', 'idm',\n",
       "       'independent', 'indian', 'indie', 'indipop', 'industrial',\n",
       "       'inspirational', 'instrumental', 'international', 'irish', 'jam',\n",
       "       'japanese', 'jazz', 'jewish', 'jpop', 'jungle', 'k-pop',\n",
       "       'karadeniz', 'karaoke', 'kayokyoku', 'korean', 'laiko', 'latin',\n",
       "       'latino', 'leftfield', 'local', 'lounge', 'loungeelectronic',\n",
       "       'lovers', 'malaysian', 'mandopop', 'marschmusik', 'meditative',\n",
       "       'mediterranean', 'melodic', 'metal', 'metalcore', 'mexican',\n",
       "       'middle', 'minimal', 'miscellaneous', 'modern', 'mood', 'mpb',\n",
       "       'muslim', 'native', 'neoklassik', 'neue', 'new', 'newage',\n",
       "       'newwave', 'nu', 'nujazz', 'numetal', 'oceania', 'old', 'opera',\n",
       "       'orchestral', 'other', 'piano', 'podcasts', 'pop', 'popdance',\n",
       "       'popelectronic', 'popeurodance', 'poprussian', 'post',\n",
       "       'posthardcore', 'postrock', 'power', 'progmetal', 'progressive',\n",
       "       'psychedelic', 'punjabi', 'punk', 'quebecois', 'ragga', 'ram',\n",
       "       'rancheras', 'rap', 'rave', 'reggae', 'reggaeton', 'regional',\n",
       "       'relax', 'religious', 'retro', 'rhythm', 'rnb', 'rnr', 'rock',\n",
       "       'rockabilly', 'rockalternative', 'rockindie', 'rockother',\n",
       "       'romance', 'roots', 'ruspop', 'rusrap', 'rusrock', 'russian',\n",
       "       'salsa', 'samba', 'scenic', 'schlager', 'self', 'sertanejo',\n",
       "       'shanson', 'shoegazing', 'showtunes', 'singer', 'ska', 'skarock',\n",
       "       'slow', 'smooth', 'soft', 'soul', 'soulful', 'sound', 'soundtrack',\n",
       "       'southern', 'specialty', 'speech', 'spiritual', 'sport',\n",
       "       'stonerrock', 'surf', 'swing', 'synthpop', 'synthrock',\n",
       "       'sängerportrait', 'tango', 'tanzorchester', 'taraftar', 'tatar',\n",
       "       'tech', 'techno', 'teen', 'thrash', 'top', 'traditional',\n",
       "       'tradjazz', 'trance', 'tribal', 'trip', 'triphop', 'tropical',\n",
       "       'türk', 'türkçe', 'ukrrock', 'unknown', 'urban', 'uzbek',\n",
       "       'variété', 'vi', 'videogame', 'vocal', 'western', 'world',\n",
       "       'worldbeat', 'ïîï', 'электроника'], dtype=object)"
      ]
     },
     "execution_count": 471,
     "metadata": {},
     "output_type": "execute_result"
    }
   ],
   "source": [
    "df['genre'].sort_values().unique()# Просмотр уникальных названий жанров"
   ]
  },
  {
   "cell_type": "markdown",
   "metadata": {
    "deletable": false,
    "editable": false,
    "id": "qej-Qmuo_Zct",
    "tags": [
     "start_task"
    ]
   },
   "source": [
    "**Задание 16**\n",
    "\n",
    "Просмотрите список и найдите неявные дубликаты названия `hiphop`. Это могут быть названия с ошибками или альтернативные названия того же жанра.\n",
    "\n",
    "Вы увидите следующие неявные дубликаты:\n",
    "* *hip*,\n",
    "* *hop*,\n",
    "* *hip-hop*.\n",
    "\n",
    "Чтобы очистить от них таблицу используйте метод `replace()` с двумя аргументами: списком строк-дубликатов (включащий *hip*, *hop* и *hip-hop*) и строкой с правильным значением. Вам нужно исправить колонку `genre` в таблице `df`: заменить каждое значение из списка дубликатов на верное. Вместо `hip`, `hop` и `hip-hop` в таблице должно быть значение `hiphop`:"
   ]
  },
  {
   "cell_type": "code",
   "execution_count": 472,
   "metadata": {
    "deletable": false,
    "id": "ErNDkmns_Zct"
   },
   "outputs": [],
   "source": [
    "df['genre'] = df['genre'].replace(['hip', 'hop', 'hip-hop'], 'hiphop')# Устранение неявных дубликатов"
   ]
  },
  {
   "cell_type": "markdown",
   "metadata": {
    "deletable": false,
    "editable": false,
    "id": "zQKF16_RG15m",
    "tags": [
     "start_task"
    ]
   },
   "source": [
    "**Задание 17**\n",
    "\n",
    "Проверьте, что заменили неправильные названия:\n",
    "\n",
    "*   hip,\n",
    "*   hop,\n",
    "*   hip-hop.\n",
    "\n",
    "Выведите отсортированный список уникальных значений столбца `genre`:"
   ]
  },
  {
   "cell_type": "code",
   "execution_count": 473,
   "metadata": {
    "deletable": false,
    "id": "wvixALnFG15m"
   },
   "outputs": [
    {
     "data": {
      "text/plain": [
       "array(['acid', 'acoustic', 'action', 'adult', 'africa', 'afrikaans',\n",
       "       'alternative', 'alternativepunk', 'ambient', 'americana',\n",
       "       'animated', 'anime', 'arabesk', 'arabic', 'arena',\n",
       "       'argentinetango', 'art', 'audiobook', 'author', 'avantgarde',\n",
       "       'axé', 'baile', 'balkan', 'beats', 'bigroom', 'black', 'bluegrass',\n",
       "       'blues', 'bollywood', 'bossa', 'brazilian', 'breakbeat', 'breaks',\n",
       "       'broadway', 'cantautori', 'cantopop', 'canzone', 'caribbean',\n",
       "       'caucasian', 'celtic', 'chamber', 'chanson', 'children', 'chill',\n",
       "       'chinese', 'choral', 'christian', 'christmas', 'classical',\n",
       "       'classicmetal', 'club', 'colombian', 'comedy', 'conjazz',\n",
       "       'contemporary', 'country', 'cuban', 'dance', 'dancehall',\n",
       "       'dancepop', 'dark', 'death', 'deep', 'deutschrock', 'deutschspr',\n",
       "       'dirty', 'disco', 'dnb', 'documentary', 'downbeat', 'downtempo',\n",
       "       'drum', 'dub', 'dubstep', 'eastern', 'easy', 'electronic',\n",
       "       'electropop', 'emo', 'entehno', 'epicmetal', 'estrada', 'ethnic',\n",
       "       'eurofolk', 'european', 'experimental', 'extrememetal', 'fado',\n",
       "       'fairytail', 'film', 'fitness', 'flamenco', 'folk', 'folklore',\n",
       "       'folkmetal', 'folkrock', 'folktronica', 'forró', 'frankreich',\n",
       "       'französisch', 'french', 'funk', 'future', 'gangsta', 'garage',\n",
       "       'german', 'ghazal', 'gitarre', 'glitch', 'gospel', 'gothic',\n",
       "       'grime', 'grunge', 'gypsy', 'handsup', \"hard'n'heavy\", 'hardcore',\n",
       "       'hardstyle', 'hardtechno', 'hiphop', 'historisch', 'holiday',\n",
       "       'horror', 'house', 'hymn', 'idm', 'independent', 'indian', 'indie',\n",
       "       'indipop', 'industrial', 'inspirational', 'instrumental',\n",
       "       'international', 'irish', 'jam', 'japanese', 'jazz', 'jewish',\n",
       "       'jpop', 'jungle', 'k-pop', 'karadeniz', 'karaoke', 'kayokyoku',\n",
       "       'korean', 'laiko', 'latin', 'latino', 'leftfield', 'local',\n",
       "       'lounge', 'loungeelectronic', 'lovers', 'malaysian', 'mandopop',\n",
       "       'marschmusik', 'meditative', 'mediterranean', 'melodic', 'metal',\n",
       "       'metalcore', 'mexican', 'middle', 'minimal', 'miscellaneous',\n",
       "       'modern', 'mood', 'mpb', 'muslim', 'native', 'neoklassik', 'neue',\n",
       "       'new', 'newage', 'newwave', 'nu', 'nujazz', 'numetal', 'oceania',\n",
       "       'old', 'opera', 'orchestral', 'other', 'piano', 'podcasts', 'pop',\n",
       "       'popdance', 'popelectronic', 'popeurodance', 'poprussian', 'post',\n",
       "       'posthardcore', 'postrock', 'power', 'progmetal', 'progressive',\n",
       "       'psychedelic', 'punjabi', 'punk', 'quebecois', 'ragga', 'ram',\n",
       "       'rancheras', 'rap', 'rave', 'reggae', 'reggaeton', 'regional',\n",
       "       'relax', 'religious', 'retro', 'rhythm', 'rnb', 'rnr', 'rock',\n",
       "       'rockabilly', 'rockalternative', 'rockindie', 'rockother',\n",
       "       'romance', 'roots', 'ruspop', 'rusrap', 'rusrock', 'russian',\n",
       "       'salsa', 'samba', 'scenic', 'schlager', 'self', 'sertanejo',\n",
       "       'shanson', 'shoegazing', 'showtunes', 'singer', 'ska', 'skarock',\n",
       "       'slow', 'smooth', 'soft', 'soul', 'soulful', 'sound', 'soundtrack',\n",
       "       'southern', 'specialty', 'speech', 'spiritual', 'sport',\n",
       "       'stonerrock', 'surf', 'swing', 'synthpop', 'synthrock',\n",
       "       'sängerportrait', 'tango', 'tanzorchester', 'taraftar', 'tatar',\n",
       "       'tech', 'techno', 'teen', 'thrash', 'top', 'traditional',\n",
       "       'tradjazz', 'trance', 'tribal', 'trip', 'triphop', 'tropical',\n",
       "       'türk', 'türkçe', 'ukrrock', 'unknown', 'urban', 'uzbek',\n",
       "       'variété', 'vi', 'videogame', 'vocal', 'western', 'world',\n",
       "       'worldbeat', 'ïîï', 'электроника'], dtype=object)"
      ]
     },
     "execution_count": 473,
     "metadata": {},
     "output_type": "execute_result"
    }
   ],
   "source": [
    "df['genre'].sort_values().unique()# Проверка на неявные дубликаты"
   ]
  },
  {
   "cell_type": "markdown",
   "metadata": {
    "deletable": false,
    "editable": false,
    "id": "jz6a9-7HQUDd"
   },
   "source": [
    "**Выводы**\n",
    "\n",
    "Предобработка обнаружила три проблемы в данных:\n",
    "\n",
    "- нарушения в стиле заголовков,\n",
    "- пропущенные значения,\n",
    "- дубликаты — явные и неявные.\n",
    "\n",
    "Вы исправили заголовки, чтобы упростить работу с таблицей. Без дубликатов исследование станет более точным.\n",
    "\n",
    "Пропущенные значения вы заменили на `'unknown'`. Ещё предстоит увидеть, не повредят ли исследованию пропуски в колонке `genre`.\n",
    "\n",
    "Теперь можно перейти к проверке гипотез. "
   ]
  },
  {
   "cell_type": "markdown",
   "metadata": {
    "deletable": false,
    "editable": false,
    "id": "WttZHXH0SqKk"
   },
   "source": [
    "## Проверка гипотез"
   ]
  },
  {
   "cell_type": "markdown",
   "metadata": {
    "deletable": false,
    "editable": false,
    "id": "Im936VVi_Zcu"
   },
   "source": [
    "### Сравнение поведения пользователей двух столиц"
   ]
  },
  {
   "cell_type": "markdown",
   "metadata": {
    "deletable": false,
    "editable": false,
    "id": "nwt_MuaL_Zcu"
   },
   "source": [
    "Первая гипотеза утверждает, что пользователи по-разному слушают музыку в Москве и Санкт-Петербурге. Проверьте это предположение по данным о трёх днях недели — понедельнике, среде и пятнице. Для этого:\n",
    "\n",
    "* Разделите пользователей Москвы и Санкт-Петербурга.\n",
    "* Сравните, сколько треков послушала каждая группа пользователей в понедельник, среду и пятницу.\n"
   ]
  },
  {
   "cell_type": "markdown",
   "metadata": {
    "deletable": false,
    "editable": false,
    "id": "8Dw_YMmT_Zcu",
    "tags": [
     "start_task"
    ]
   },
   "source": [
    "**Задание 18**\n",
    "\n",
    "Для тренировки сначала выполните каждый из расчётов по отдельности. \n",
    "\n",
    "Оцените активность пользователей в каждом городе. Сгруппируйте данные по городу и посчитайте прослушивания в каждой группе.\n",
    "\n"
   ]
  },
  {
   "cell_type": "code",
   "execution_count": 474,
   "metadata": {
    "deletable": false,
    "id": "0_Qs96oh_Zcu"
   },
   "outputs": [
    {
     "data": {
      "text/plain": [
       "city\n",
       "Moscow              42741\n",
       "Saint-Petersburg    18512\n",
       "Name: time, dtype: int64"
      ]
     },
     "execution_count": 474,
     "metadata": {},
     "output_type": "execute_result"
    }
   ],
   "source": [
    "df.groupby('city')['time'].count()# Подсчёт прослушиваний в каждом городе"
   ]
  },
  {
   "cell_type": "markdown",
   "metadata": {
    "deletable": false,
    "editable": false,
    "id": "dzli3w8o_Zcu",
    "tags": [
     "start_task"
    ]
   },
   "source": [
    "В Москве прослушиваний больше, чем в Петербурге. Из этого не следует, что московские пользователи чаще слушают музыку. Просто самих пользователей в Москве больше.\n",
    "\n",
    "**Задание 19**\n",
    "\n",
    "Теперь сгруппируйте данные по дню недели и посчитайте прослушивания в понедельник, среду и пятницу. Учтите, что в данных есть информация о прослушиваниях только за эти дни.\n"
   ]
  },
  {
   "cell_type": "code",
   "execution_count": 475,
   "metadata": {
    "deletable": false,
    "id": "uZMKjiJz_Zcu"
   },
   "outputs": [
    {
     "data": {
      "text/plain": [
       "day\n",
       "Friday       21840\n",
       "Monday       21354\n",
       "Wednesday    18059\n",
       "Name: time, dtype: int64"
      ]
     },
     "execution_count": 475,
     "metadata": {},
     "output_type": "execute_result"
    }
   ],
   "source": [
    "df.groupby('day')['time'].count()# Подсчёт прослушиваний в каждый из трёх дней"
   ]
  },
  {
   "cell_type": "markdown",
   "metadata": {
    "deletable": false,
    "editable": false,
    "id": "cC2tNrlL_Zcu"
   },
   "source": [
    "В среднем пользователи из двух городов менее активны по средам. Но картина может измениться, если рассмотреть каждый город в отдельности."
   ]
  },
  {
   "cell_type": "markdown",
   "metadata": {
    "deletable": false,
    "editable": false,
    "id": "POzs8bGa_Zcu",
    "tags": [
     "start_task"
    ]
   },
   "source": [
    "**Задание 20**\n",
    "\n",
    "\n",
    "Вы видели, как работает группировка по городу и по дням недели. Теперь напишите функцию, которая объединит два эти расчёта.\n",
    "\n",
    "Создайте функцию `number_tracks()`, которая посчитает прослушивания для заданного дня и города. Ей понадобятся два параметра:\n",
    "* день недели,\n",
    "* название города.\n",
    "\n",
    "В функции сохраните в переменную строки исходной таблицы, у которых значение:\n",
    "  * в колонке `day` равно параметру `day`,\n",
    "  * в колонке `city` равно параметру `city`.\n",
    "\n",
    "Для этого примените последовательную фильтрацию с логической индексацией (или сложные логические выражения в одну строку, если вы уже знакомы с ними).\n",
    "\n",
    "Затем посчитайте значения в столбце `user_id` получившейся таблицы. Результат сохраните в новую переменную. Верните эту переменную из функции."
   ]
  },
  {
   "cell_type": "code",
   "execution_count": 476,
   "metadata": {
    "deletable": false,
    "id": "Nz3GdQB1_Zcu"
   },
   "outputs": [],
   "source": [
    "def number_tracks(day,city):\n",
    "    tracklist = df[(df['day'] == day) & (df['city'] == city)]\n",
    "    tracklist_count = tracklist['user_id'].count()\n",
    "    return (tracklist_count) # <создание функции number_tracks()>\n",
    "# Объявляется функция с двумя параметрами: day, city.\n",
    "# В переменной track_list сохраняются те строки таблицы df, для которых \n",
    "# значение в столбце 'day' равно параметру day и одновременно значение\n",
    "# в столбце 'city' равно параметру city (используйте последовательную фильтрацию\n",
    "# с помощью логической индексации или сложные логические выражения в одну строку, если вы уже знакомы с ними).\n",
    "# В переменной track_list_count сохраняется число значений столбца 'user_id',\n",
    "# рассчитанное методом count() для таблицы track_list.\n",
    "# Функция возвращает число - значение track_list_count.\n",
    "\n",
    "# Функция для подсчёта прослушиваний для конкретного города и дня.\n",
    "# С помощью последовательной фильтрации с логической индексацией она \n",
    "# сначала получит из исходной таблицы строки с нужным днём,\n",
    "# затем из результата отфильтрует строки с нужным городом,\n",
    "# методом count() посчитает количество значений в колонке user_id. \n",
    "# Это количество функция вернёт в качестве результата"
   ]
  },
  {
   "cell_type": "markdown",
   "metadata": {
    "deletable": false,
    "editable": false,
    "id": "ytf7xFrFJQ2r",
    "tags": [
     "start_task"
    ]
   },
   "source": [
    "**Задание 21**\n",
    "\n",
    "Вызовите `number_tracks()` шесть раз, меняя значение параметров — так, чтобы получить данные для каждого города в каждый из трёх дней."
   ]
  },
  {
   "cell_type": "code",
   "execution_count": 477,
   "metadata": {
    "deletable": false,
    "id": "rJcRATNQ_Zcu"
   },
   "outputs": [
    {
     "data": {
      "text/plain": [
       "15740"
      ]
     },
     "execution_count": 477,
     "metadata": {},
     "output_type": "execute_result"
    }
   ],
   "source": [
    "number_tracks('Monday','Moscow')# количество прослушиваний в Москве по понедельникам"
   ]
  },
  {
   "cell_type": "code",
   "execution_count": 478,
   "metadata": {
    "deletable": false,
    "id": "hq_ncZ5T_Zcu"
   },
   "outputs": [
    {
     "data": {
      "text/plain": [
       "5614"
      ]
     },
     "execution_count": 478,
     "metadata": {},
     "output_type": "execute_result"
    }
   ],
   "source": [
    "number_tracks('Monday','Saint-Petersburg')# количество прослушиваний в Санкт-Петербурге по понедельникам"
   ]
  },
  {
   "cell_type": "code",
   "execution_count": 479,
   "metadata": {
    "deletable": false,
    "id": "_NTy2VPU_Zcu"
   },
   "outputs": [
    {
     "data": {
      "text/plain": [
       "11056"
      ]
     },
     "execution_count": 479,
     "metadata": {},
     "output_type": "execute_result"
    }
   ],
   "source": [
    "number_tracks('Wednesday','Moscow')# количество прослушиваний в Москве по средам"
   ]
  },
  {
   "cell_type": "code",
   "execution_count": 480,
   "metadata": {
    "deletable": false,
    "id": "j2y3TAwo_Zcu"
   },
   "outputs": [
    {
     "data": {
      "text/plain": [
       "7003"
      ]
     },
     "execution_count": 480,
     "metadata": {},
     "output_type": "execute_result"
    }
   ],
   "source": [
    "number_tracks('Wednesday', 'Saint-Petersburg')# количество прослушиваний в Санкт-Петербурге по средам"
   ]
  },
  {
   "cell_type": "code",
   "execution_count": 481,
   "metadata": {
    "deletable": false,
    "id": "vYDw5u_K_Zcu"
   },
   "outputs": [
    {
     "data": {
      "text/plain": [
       "15945"
      ]
     },
     "execution_count": 481,
     "metadata": {},
     "output_type": "execute_result"
    }
   ],
   "source": [
    "number_tracks('Friday','Moscow')# количество прослушиваний в Москве по пятницам"
   ]
  },
  {
   "cell_type": "code",
   "execution_count": 482,
   "metadata": {
    "deletable": false,
    "id": "8_yzFtW3_Zcu"
   },
   "outputs": [
    {
     "data": {
      "text/plain": [
       "5895"
      ]
     },
     "execution_count": 482,
     "metadata": {},
     "output_type": "execute_result"
    }
   ],
   "source": [
    "number_tracks('Friday','Saint-Petersburg')# количество прослушиваний в Санкт-Петербурге по пятницам"
   ]
  },
  {
   "cell_type": "markdown",
   "metadata": {
    "deletable": false,
    "editable": false,
    "id": "7QXffbO-_Zcu",
    "tags": [
     "start_task"
    ]
   },
   "source": [
    "**Задание 22**\n",
    "\n",
    "Создайте c помощью конструктора `pd.DataFrame` таблицу, где\n",
    "* названия колонок — `['city', 'monday', 'wednesday', 'friday']`;\n",
    "* данные — результаты, которые вы получили с помощью `number_tracks`."
   ]
  },
  {
   "cell_type": "code",
   "execution_count": 483,
   "metadata": {
    "deletable": false,
    "id": "APAcLpOr_Zcu"
   },
   "outputs": [
    {
     "name": "stdout",
     "output_type": "stream",
     "text": [
      "               city  monday  wednesday  friday\n",
      "0            Moscow   15740      11056   15945\n",
      "1  Saint-Petersburg    5614       7003    5895\n"
     ]
    }
   ],
   "source": [
    "data = [['Moscow', 15740, 11056, 15945],\n",
    "       ['Saint-Petersburg', 5614, 7003, 5895]]\n",
    "columns = ['city', 'monday', 'wednesday', 'friday']\n",
    "city_by_day = pd.DataFrame(data = data, columns = columns)\n",
    "print(city_by_day)# Таблица с результатами"
   ]
  },
  {
   "cell_type": "markdown",
   "metadata": {
    "deletable": false,
    "editable": false,
    "id": "-EgPIHYu_Zcu"
   },
   "source": [
    "**Выводы**\n",
    "\n",
    "Данные показывают разницу поведения пользователей:\n",
    "\n",
    "- В Москве пик прослушиваний приходится на понедельник и пятницу, а в среду заметен спад.\n",
    "- В Петербурге, наоборот, больше слушают музыку по средам. Активность в понедельник и пятницу здесь почти в равной мере уступает среде.\n",
    "\n",
    "Значит, данные говорят в пользу первой гипотезы."
   ]
  },
  {
   "cell_type": "markdown",
   "metadata": {
    "deletable": false,
    "editable": false,
    "id": "atZAxtq4_Zcu"
   },
   "source": [
    "### Музыка в начале и в конце недели"
   ]
  },
  {
   "cell_type": "markdown",
   "metadata": {
    "deletable": false,
    "editable": false,
    "id": "eXrQqXFH_Zcu"
   },
   "source": [
    "Согласно второй гипотезе, утром в понедельник в Москве преобладают одни жанры, а в Петербурге — другие. Так же и вечером пятницы преобладают разные жанры — в зависимости от города."
   ]
  },
  {
   "cell_type": "markdown",
   "metadata": {
    "deletable": false,
    "editable": false,
    "id": "S8UcW6Hw_Zcu",
    "tags": [
     "start_task"
    ]
   },
   "source": [
    "**Задание 23**\n",
    "\n",
    "Сохраните таблицы с данными в две переменные:\n",
    "* по Москве — в `moscow_general`;\n",
    "* по Санкт-Петербургу — в `spb_general`."
   ]
  },
  {
   "cell_type": "code",
   "execution_count": 484,
   "metadata": {
    "deletable": false,
    "id": "qeaFfM_P_Zcu"
   },
   "outputs": [],
   "source": [
    "moscow_general = df[df['city'] == 'Moscow']# получение таблицы moscow_general из тех строк таблицы df, \n",
    "# для которых значение в столбце 'city' равно 'Moscow'\n"
   ]
  },
  {
   "cell_type": "code",
   "execution_count": 485,
   "metadata": {
    "deletable": false,
    "id": "ORaVRKto_Zcu"
   },
   "outputs": [],
   "source": [
    "spb_general = df[df['city'] == 'Saint-Petersburg']# получение таблицы spb_general из тех строк таблицы df,\n",
    "# для которых значение в столбце 'city' равно 'Saint-Petersburg'\n"
   ]
  },
  {
   "cell_type": "markdown",
   "metadata": {
    "deletable": false,
    "editable": false,
    "id": "MEJV-CX2_Zcu",
    "tags": [
     "start_task"
    ]
   },
   "source": [
    "**Задание 24**\n",
    "\n",
    "Создайте функцию `genre_weekday()` с четырьмя параметрами:\n",
    "* таблица (датафрейм) с данными,\n",
    "* день недели,\n",
    "* начальная временная метка в формате 'hh:mm', \n",
    "* последняя временная метка в формате 'hh:mm'.\n",
    "\n",
    "Функция должна вернуть информацию о топ-10 жанров тех треков, которые прослушивали в указанный день, в промежутке между двумя отметками времени."
   ]
  },
  {
   "cell_type": "code",
   "execution_count": 486,
   "metadata": {
    "deletable": false,
    "id": "laJT9BYl_Zcu"
   },
   "outputs": [],
   "source": [
    "# Объявление функции genre_weekday() с параметрами table, day, time1, time2,\n",
    "# которая возвращает информацию о самых популярных жанрах в указанный день в\n",
    "# заданное время:\n",
    "# 1) в переменную genre_df сохраняются те строки переданного датафрейма table, для\n",
    "#    которых одновременно:\n",
    "#    - значение в столбце day равно значению аргумента day\n",
    "#    - значение в столбце time больше значения аргумента time1\n",
    "#    - значение в столбце time меньше значения аргумента time2\n",
    "#    Используйте последовательную фильтрацию с помощью логической индексации.\n",
    "# 2) сгруппировать датафрейм genre_df по столбцу genre, взять один из его\n",
    "#    столбцов и посчитать методом count() количество записей для каждого из\n",
    "#    присутствующих жанров, получившийся Series записать в переменную\n",
    "#    genre_df_count\n",
    "# 3) отсортировать genre_df_count по убыванию встречаемости и сохранить\n",
    "#    в переменную genre_df_sorted\n",
    "# 4) вернуть Series из 10 первых значений genre_df_sorted, это будут топ-10\n",
    "#    популярных жанров (в указанный день, в заданное время)\n",
    "\n",
    "def genre_weekday(df, day, time1, time2):\n",
    "    # последовательная фильтрация\n",
    "    # оставляем в genre_df только те строки df, у которых день равен day\n",
    "    genre_df = df[(df['day'] == day)] # ваш код здесь\n",
    "    # оставляем в genre_df только те строки genre_df, у которых время меньше time2\n",
    "    genre_df = genre_df[(genre_df['time'] < time2)] # ваш код здесь\n",
    "    # оставляем в genre_df только те строки genre_df, у которых время больше time1\n",
    "    genre_df = genre_df[(genre_df['time'] > time1)] # ваш код здесь\n",
    "    # сгруппируем отфильтрованный датафрейм по столбцу с названиями жанров, возьмём столбец genre и посчитаем кол-во строк для каждого жанра методом count()\n",
    "    genre_df_grouped = genre_df.groupby('genre')['genre'].count() # ваш код здесь\n",
    "    # отсортируем результат по убыванию (чтобы в начале Series оказались самые популярные жанры)\n",
    "    genre_df_sorted = genre_df_grouped.sort_values(ascending = False)# ваш код здесь\n",
    "    # вернём Series с 10 самыми популярными жанрами в указанный отрезок времени заданного дня\n",
    "    return genre_df_sorted[:10]"
   ]
  },
  {
   "cell_type": "markdown",
   "metadata": {
    "deletable": false,
    "editable": false,
    "id": "la2s2_PF_Zcu",
    "tags": [
     "start_task"
    ]
   },
   "source": [
    "**Задание 25**\n",
    "\n",
    "\n",
    "Cравните результаты функции `genre_weekday()` для Москвы и Санкт-Петербурга в понедельник утром (с 7:00 до 11:00) и в пятницу вечером (с 17:00 до 23:00):"
   ]
  },
  {
   "cell_type": "code",
   "execution_count": 487,
   "metadata": {
    "deletable": false,
    "id": "yz7itPUQ_Zcu"
   },
   "outputs": [
    {
     "data": {
      "text/plain": [
       "genre\n",
       "pop            781\n",
       "dance          549\n",
       "electronic     480\n",
       "rock           474\n",
       "hiphop         286\n",
       "ruspop         186\n",
       "world          181\n",
       "rusrap         175\n",
       "alternative    164\n",
       "unknown        161\n",
       "Name: genre, dtype: int64"
      ]
     },
     "execution_count": 487,
     "metadata": {},
     "output_type": "execute_result"
    }
   ],
   "source": [
    "genre_weekday(moscow_general, 'Monday', '07:00', '11:00')# вызов функции для утра понедельника в Москве (вместо df — таблица moscow_general)\n",
    "# объекты, хранящие время, являются строками и сравниваются как строки\n",
    "# пример вызова: genre_weekday(moscow_general, 'Monday', '07:00', '11:00')"
   ]
  },
  {
   "cell_type": "code",
   "execution_count": 488,
   "metadata": {
    "deletable": false,
    "id": "kwUcHPdy_Zcu"
   },
   "outputs": [
    {
     "data": {
      "text/plain": [
       "genre\n",
       "pop            218\n",
       "dance          182\n",
       "rock           162\n",
       "electronic     147\n",
       "hiphop          80\n",
       "ruspop          64\n",
       "alternative     58\n",
       "rusrap          55\n",
       "jazz            44\n",
       "classical       40\n",
       "Name: genre, dtype: int64"
      ]
     },
     "execution_count": 488,
     "metadata": {},
     "output_type": "execute_result"
    }
   ],
   "source": [
    "genre_weekday(spb_general, 'Monday', '07:00', '11:00')# вызов функции для утра понедельника в Петербурге (вместо df — таблица spb_general)"
   ]
  },
  {
   "cell_type": "code",
   "execution_count": 489,
   "metadata": {
    "deletable": false,
    "id": "EzXVRE1o_Zcu"
   },
   "outputs": [
    {
     "data": {
      "text/plain": [
       "genre\n",
       "pop            713\n",
       "rock           517\n",
       "dance          495\n",
       "electronic     482\n",
       "hiphop         273\n",
       "world          208\n",
       "ruspop         170\n",
       "alternative    163\n",
       "classical      163\n",
       "rusrap         142\n",
       "Name: genre, dtype: int64"
      ]
     },
     "execution_count": 489,
     "metadata": {},
     "output_type": "execute_result"
    }
   ],
   "source": [
    "genre_weekday(moscow_general, 'Friday', '17:00', '23:00')# вызов функции для вечера пятницы в Москве"
   ]
  },
  {
   "cell_type": "code",
   "execution_count": 490,
   "metadata": {
    "deletable": false,
    "id": "JZaEKu5v_Zcu"
   },
   "outputs": [
    {
     "data": {
      "text/plain": [
       "genre\n",
       "pop            256\n",
       "electronic     216\n",
       "rock           216\n",
       "dance          210\n",
       "hiphop          97\n",
       "alternative     63\n",
       "jazz            61\n",
       "classical       60\n",
       "rusrap          59\n",
       "world           54\n",
       "Name: genre, dtype: int64"
      ]
     },
     "execution_count": 490,
     "metadata": {},
     "output_type": "execute_result"
    }
   ],
   "source": [
    "genre_weekday(spb_general, 'Friday', '17:00', '23:00')# вызов функции для вечера пятницы в Петербурге"
   ]
  },
  {
   "cell_type": "markdown",
   "metadata": {
    "deletable": false,
    "editable": false,
    "id": "wrCe4MNX_Zcu"
   },
   "source": [
    "**Выводы**\n",
    "\n",
    "Если сравнить топ-10 жанров в понедельник утром, можно сделать такие выводы:\n",
    "\n",
    "1. В Москве и Петербурге слушают похожую музыку. Единственное отличие — в московский рейтинг вошёл жанр “world”, а в петербургский — джаз и классика.\n",
    "\n",
    "2. В Москве пропущенных значений оказалось так много, что значение `'unknown'` заняло десятое место среди самых популярных жанров. Значит, пропущенные значения занимают существенную долю в данных и угрожают достоверности исследования.\n",
    "\n",
    "Вечер пятницы не меняет эту картину. Некоторые жанры поднимаются немного выше, другие спускаются, но в целом топ-10 остаётся тем же самым.\n",
    "\n",
    "Таким образом, вторая гипотеза подтвердилась лишь частично:\n",
    "* Пользователи слушают похожую музыку в начале недели и в конце.\n",
    "* Разница между Москвой и Петербургом не слишком выражена. В Москве чаще слушают русскую популярную музыку, в Петербурге — джаз.\n",
    "\n",
    "Однако пропуски в данных ставят под сомнение этот результат. В Москве их так много, что рейтинг топ-10 мог бы выглядеть иначе, если бы не утерянные  данные о жанрах."
   ]
  },
  {
   "cell_type": "markdown",
   "metadata": {
    "deletable": false,
    "editable": false,
    "id": "JolODAqr_Zcu"
   },
   "source": [
    "### Жанровые предпочтения в Москве и Петербурге\n",
    "\n",
    "Гипотеза: Петербург — столица рэпа, музыку этого жанра там слушают чаще, чем в Москве.  А Москва — город контрастов, в котором, тем не менее, преобладает поп-музыка."
   ]
  },
  {
   "cell_type": "markdown",
   "metadata": {
    "deletable": false,
    "editable": false,
    "id": "DlegSvaT_Zcu",
    "tags": [
     "start_task"
    ]
   },
   "source": [
    "**Задание 26**\n",
    "\n",
    "Сгруппируйте таблицу `moscow_general` по жанру и посчитайте прослушивания треков каждого жанра методом `count()`. Затем отсортируйте результат в порядке убывания и сохраните его в таблице `moscow_genres`."
   ]
  },
  {
   "cell_type": "code",
   "execution_count": 491,
   "metadata": {
    "deletable": false,
    "id": "r19lIPke_Zcu"
   },
   "outputs": [],
   "source": [
    "moscow_genres = moscow_general.groupby('genre')['genre'].count().sort_values(ascending = False)# одной строкой: группировка таблицы moscow_general по столбцу 'genre', \n",
    "# подсчёт числа значений 'genre' в этой группировке методом count(), \n",
    "# сортировка получившегося Series в порядке убывания и сохранение в moscow_genres"
   ]
  },
  {
   "cell_type": "markdown",
   "metadata": {
    "deletable": false,
    "editable": false,
    "id": "6kMuomxTiIr8",
    "tags": [
     "start_task"
    ]
   },
   "source": [
    "**Задание 27**\n",
    "\n",
    "Выведите на экран первые десять строк `moscow_genres`:"
   ]
  },
  {
   "cell_type": "code",
   "execution_count": 492,
   "metadata": {
    "deletable": false,
    "id": "WhCSooF8_Zcv"
   },
   "outputs": [
    {
     "name": "stdout",
     "output_type": "stream",
     "text": [
      "genre\n",
      "pop            5892\n",
      "dance          4435\n",
      "rock           3965\n",
      "electronic     3786\n",
      "hiphop         2096\n",
      "classical      1616\n",
      "world          1432\n",
      "alternative    1379\n",
      "ruspop         1372\n",
      "rusrap         1161\n",
      "Name: genre, dtype: int64\n"
     ]
    }
   ],
   "source": [
    "print(moscow_genres.head(10))# просмотр первых 10 строк moscow_genres"
   ]
  },
  {
   "cell_type": "markdown",
   "metadata": {
    "deletable": false,
    "editable": false,
    "id": "cnPG2vnN_Zcv",
    "tags": [
     "start_task"
    ]
   },
   "source": [
    "**Задание 28**\n",
    "\n",
    "\n",
    "Теперь повторите то же и для Петербурга.\n",
    "\n",
    "Сгруппируйте таблицу `spb_general` по жанру. Посчитайте прослушивания треков каждого жанра. Результат отсортируйте в порядке убывания и сохраните в таблице `spb_genres`:\n"
   ]
  },
  {
   "cell_type": "code",
   "execution_count": 493,
   "metadata": {
    "deletable": false,
    "id": "gluLIpE7_Zcv"
   },
   "outputs": [],
   "source": [
    "spb_genres = spb_general.groupby('genre')['genre'].count().sort_values(ascending = False)# одной строкой: группировка таблицы spb_general по столбцу 'genre', \n",
    "# подсчёт числа значений 'genre' в этой группировке методом count(), \n",
    "# сортировка получившегося Series в порядке убывания и сохранение в spb_genres"
   ]
  },
  {
   "cell_type": "markdown",
   "metadata": {
    "deletable": false,
    "editable": false,
    "id": "5Doha_ODgyQ8",
    "tags": [
     "start_task"
    ]
   },
   "source": [
    "**Задание 29**\n",
    "\n",
    "Выведите на экран первые десять строк `spb_genres`:"
   ]
  },
  {
   "cell_type": "code",
   "execution_count": 494,
   "metadata": {
    "deletable": false,
    "id": "uaGJHjVU_Zcv"
   },
   "outputs": [
    {
     "name": "stdout",
     "output_type": "stream",
     "text": [
      "genre\n",
      "pop            2431\n",
      "dance          1932\n",
      "rock           1879\n",
      "electronic     1736\n",
      "hiphop          960\n",
      "alternative     649\n",
      "classical       646\n",
      "rusrap          564\n",
      "ruspop          538\n",
      "world           515\n",
      "Name: genre, dtype: int64\n"
     ]
    }
   ],
   "source": [
    "print(spb_genres.head(10))# просмотр первых 10 строк spb_genres"
   ]
  },
  {
   "cell_type": "markdown",
   "metadata": {
    "deletable": false,
    "editable": false,
    "id": "RY51YJYu_Zcv"
   },
   "source": [
    "**Выводы**"
   ]
  },
  {
   "cell_type": "markdown",
   "metadata": {
    "deletable": false,
    "editable": false,
    "id": "nVhnJEm__Zcv"
   },
   "source": [
    "Гипотеза частично подтвердилась:\n",
    "* Поп-музыка — самый популярный жанр в Москве, как и предполагала гипотеза. Более того, в топ-10 жанров встречается близкий жанр — русская популярная музыка.\n",
    "* Вопреки ожиданиям, рэп одинаково популярен в Москве и Петербурге. \n"
   ]
  },
  {
   "cell_type": "markdown",
   "metadata": {
    "deletable": false,
    "editable": false,
    "id": "ykKQ0N65_Zcv"
   },
   "source": [
    "## Итоги исследования"
   ]
  },
  {
   "cell_type": "markdown",
   "metadata": {
    "deletable": false,
    "editable": false,
    "id": "tjUwbHb3_Zcv"
   },
   "source": [
    "Вы проверили три гипотезы и установили:\n",
    "\n",
    "1. День недели по-разному влияет на активность пользователей в Москве и Петербурге. \n",
    "\n",
    "Первая гипотеза полностью подтвердилась.\n",
    "\n",
    "2. Музыкальные предпочтения не сильно меняются в течение недели — будь то Москва или Петербург. Небольшие различия заметны в начале недели, по понедельникам:\n",
    "* в Москве слушают музыку жанра “world”,\n",
    "* в Петербурге — джаз и классику.\n",
    "\n",
    "Таким образом, вторая гипотеза подтвердилась лишь отчасти. Этот результат мог оказаться иным, если бы не пропуски в данных.\n",
    "\n",
    "3. Во вкусах пользователей Москвы и Петербурга больше общего чем различий. Вопреки ожиданиям, предпочтения жанров в Петербурге напоминают московские.\n",
    "\n",
    "Третья гипотеза не подтвердилась. Если различия в предпочтениях и существуют, на основной массе пользователей они незаметны.\n",
    "\n",
    "**На практике исследования содержат проверки статистических гипотез.**\n",
    "Из данных одного сервиса не всегда можно сделать вывод о всех жителях города.\n",
    "Проверки статистических гипотез покажут, насколько они достоверны, исходя из имеющихся данных. \n",
    "С методами проверок гипотез вы ещё познакомитесь в следующих темах."
   ]
  }
 ],
 "metadata": {
  "ExecuteTimeLog": [
   {
    "duration": 372,
    "start_time": "2022-09-08T12:50:29.403Z"
   },
   {
    "duration": 3,
    "start_time": "2022-09-08T12:50:32.530Z"
   },
   {
    "duration": 63,
    "start_time": "2022-09-08T12:50:35.146Z"
   },
   {
    "duration": 785,
    "start_time": "2022-09-08T12:50:52.396Z"
   },
   {
    "duration": 87,
    "start_time": "2022-09-08T12:50:55.898Z"
   },
   {
    "duration": 16,
    "start_time": "2022-09-08T12:51:03.402Z"
   },
   {
    "duration": 12,
    "start_time": "2022-09-08T12:51:13.530Z"
   },
   {
    "duration": 31,
    "start_time": "2022-09-08T12:52:33.431Z"
   },
   {
    "duration": 7,
    "start_time": "2022-09-08T12:54:50.804Z"
   },
   {
    "duration": 5,
    "start_time": "2022-09-08T12:55:04.132Z"
   },
   {
    "duration": 98,
    "start_time": "2022-09-08T12:58:08.074Z"
   },
   {
    "duration": 30,
    "start_time": "2022-09-08T12:58:42.464Z"
   },
   {
    "duration": 4,
    "start_time": "2022-09-08T12:58:59.061Z"
   },
   {
    "duration": 13,
    "start_time": "2022-09-08T12:59:29.634Z"
   },
   {
    "duration": 12,
    "start_time": "2022-09-08T12:59:31.734Z"
   },
   {
    "duration": 4,
    "start_time": "2022-09-08T12:59:35.240Z"
   },
   {
    "duration": 2,
    "start_time": "2022-09-08T13:00:50.788Z"
   },
   {
    "duration": 3,
    "start_time": "2022-09-08T13:00:51.764Z"
   },
   {
    "duration": 4,
    "start_time": "2022-09-08T13:00:54.460Z"
   },
   {
    "duration": 38,
    "start_time": "2022-09-08T13:02:18.664Z"
   },
   {
    "duration": 91,
    "start_time": "2022-09-08T13:21:54.981Z"
   },
   {
    "duration": 7,
    "start_time": "2022-09-08T13:22:00.448Z"
   },
   {
    "duration": 18,
    "start_time": "2022-09-08T13:22:23.225Z"
   },
   {
    "duration": 23,
    "start_time": "2022-09-08T13:22:41.040Z"
   },
   {
    "duration": 62,
    "start_time": "2022-09-08T13:23:08.142Z"
   },
   {
    "duration": 12,
    "start_time": "2022-09-08T13:23:36.160Z"
   },
   {
    "duration": 9,
    "start_time": "2022-09-08T13:23:45.102Z"
   },
   {
    "duration": 77,
    "start_time": "2022-09-08T13:23:53.503Z"
   },
   {
    "duration": 65,
    "start_time": "2022-09-08T13:24:08.912Z"
   },
   {
    "duration": 67,
    "start_time": "2022-09-08T13:24:27.783Z"
   },
   {
    "duration": 60,
    "start_time": "2022-09-08T13:24:31.616Z"
   },
   {
    "duration": 7,
    "start_time": "2022-09-08T13:25:05.188Z"
   },
   {
    "duration": 38,
    "start_time": "2022-09-08T13:25:53.153Z"
   },
   {
    "duration": 14,
    "start_time": "2022-09-08T13:26:59.277Z"
   },
   {
    "duration": 34,
    "start_time": "2022-09-08T13:27:33.808Z"
   },
   {
    "duration": 37,
    "start_time": "2022-09-08T13:28:22.289Z"
   },
   {
    "duration": 36,
    "start_time": "2022-09-08T13:28:31.889Z"
   },
   {
    "duration": 9,
    "start_time": "2022-09-08T13:30:25.812Z"
   },
   {
    "duration": 12,
    "start_time": "2022-09-08T13:30:32.633Z"
   },
   {
    "duration": 7,
    "start_time": "2022-09-08T13:31:09.013Z"
   },
   {
    "duration": 111,
    "start_time": "2022-09-08T13:31:34.358Z"
   },
   {
    "duration": 83,
    "start_time": "2022-09-08T13:31:38.146Z"
   },
   {
    "duration": 11,
    "start_time": "2022-09-08T13:31:41.315Z"
   },
   {
    "duration": 4,
    "start_time": "2022-09-08T13:41:35.980Z"
   },
   {
    "duration": 4,
    "start_time": "2022-09-08T13:41:52.548Z"
   },
   {
    "duration": 6,
    "start_time": "2022-09-08T13:42:47.877Z"
   },
   {
    "duration": 4,
    "start_time": "2022-09-08T13:43:16.147Z"
   },
   {
    "duration": 4,
    "start_time": "2022-09-08T13:43:52.117Z"
   },
   {
    "duration": 12,
    "start_time": "2022-09-08T13:44:49.556Z"
   },
   {
    "duration": 16,
    "start_time": "2022-09-08T13:45:12.580Z"
   },
   {
    "duration": 16,
    "start_time": "2022-09-08T13:46:20.900Z"
   },
   {
    "duration": 12,
    "start_time": "2022-09-08T13:46:23.141Z"
   },
   {
    "duration": 15,
    "start_time": "2022-09-08T13:46:25.043Z"
   },
   {
    "duration": 17,
    "start_time": "2022-09-08T13:46:26.133Z"
   },
   {
    "duration": 15,
    "start_time": "2022-09-08T13:46:27.860Z"
   },
   {
    "duration": 6,
    "start_time": "2022-09-08T13:47:57.893Z"
   },
   {
    "duration": 1685,
    "start_time": "2022-09-08T13:50:11.285Z"
   },
   {
    "duration": 12,
    "start_time": "2022-09-08T13:50:29.686Z"
   },
   {
    "duration": 13,
    "start_time": "2022-09-08T13:50:32.922Z"
   },
   {
    "duration": 8,
    "start_time": "2022-09-08T13:50:55.111Z"
   },
   {
    "duration": 77,
    "start_time": "2022-09-08T13:56:53.794Z"
   },
   {
    "duration": 72,
    "start_time": "2022-09-08T13:57:16.121Z"
   },
   {
    "duration": 74,
    "start_time": "2022-09-08T13:58:09.970Z"
   },
   {
    "duration": 5,
    "start_time": "2022-09-08T13:58:47.610Z"
   },
   {
    "duration": 11,
    "start_time": "2022-09-08T14:00:42.152Z"
   },
   {
    "duration": 10,
    "start_time": "2022-09-08T14:01:31.975Z"
   },
   {
    "duration": 10,
    "start_time": "2022-09-08T14:01:33.087Z"
   },
   {
    "duration": 6,
    "start_time": "2022-09-08T14:01:36.818Z"
   },
   {
    "duration": 4,
    "start_time": "2022-09-08T14:01:38.193Z"
   },
   {
    "duration": 10,
    "start_time": "2022-09-08T14:01:38.778Z"
   },
   {
    "duration": 10,
    "start_time": "2022-09-08T14:02:02.896Z"
   },
   {
    "duration": 9,
    "start_time": "2022-09-08T14:02:07.200Z"
   },
   {
    "duration": 10,
    "start_time": "2022-09-08T14:02:15.351Z"
   },
   {
    "duration": 9,
    "start_time": "2022-09-08T14:02:52.856Z"
   },
   {
    "duration": 9,
    "start_time": "2022-09-08T14:02:54.048Z"
   },
   {
    "duration": 11,
    "start_time": "2022-09-08T14:02:56.610Z"
   },
   {
    "duration": 10,
    "start_time": "2022-09-08T14:03:00.674Z"
   },
   {
    "duration": 10,
    "start_time": "2022-09-08T14:03:04.678Z"
   },
   {
    "duration": 5,
    "start_time": "2022-09-08T14:03:45.803Z"
   },
   {
    "duration": 74,
    "start_time": "2022-09-08T14:04:05.627Z"
   },
   {
    "duration": 10,
    "start_time": "2022-09-08T14:04:26.736Z"
   },
   {
    "duration": 4,
    "start_time": "2022-09-08T14:05:15.581Z"
   },
   {
    "duration": 20,
    "start_time": "2022-09-08T14:05:17.952Z"
   },
   {
    "duration": 13,
    "start_time": "2022-09-08T14:05:20.321Z"
   },
   {
    "duration": 19,
    "start_time": "2022-09-08T14:05:21.617Z"
   },
   {
    "duration": 13,
    "start_time": "2022-09-08T14:05:22.965Z"
   },
   {
    "duration": 8,
    "start_time": "2022-09-08T14:09:27.836Z"
   },
   {
    "duration": 74,
    "start_time": "2022-09-08T14:09:57.775Z"
   },
   {
    "duration": 6,
    "start_time": "2022-09-08T14:10:13.372Z"
   },
   {
    "duration": 8,
    "start_time": "2022-09-08T14:12:16.637Z"
   },
   {
    "duration": 5,
    "start_time": "2022-09-08T14:12:37.474Z"
   },
   {
    "duration": 6,
    "start_time": "2022-09-08T14:13:26.584Z"
   },
   {
    "duration": 9,
    "start_time": "2022-09-08T14:13:50.813Z"
   },
   {
    "duration": 4,
    "start_time": "2022-09-08T14:13:53.597Z"
   },
   {
    "duration": 6,
    "start_time": "2022-09-08T14:14:01.757Z"
   },
   {
    "duration": 4,
    "start_time": "2022-09-08T14:14:07.357Z"
   },
   {
    "duration": 417,
    "start_time": "2022-09-08T14:15:38.447Z"
   },
   {
    "duration": 184,
    "start_time": "2022-09-08T14:15:38.872Z"
   },
   {
    "duration": 24,
    "start_time": "2022-09-08T14:15:39.058Z"
   },
   {
    "duration": 32,
    "start_time": "2022-09-08T14:15:39.090Z"
   },
   {
    "duration": 2,
    "start_time": "2022-09-08T14:15:39.124Z"
   },
   {
    "duration": 6,
    "start_time": "2022-09-08T14:15:39.128Z"
   },
   {
    "duration": 14,
    "start_time": "2022-09-08T14:15:39.135Z"
   },
   {
    "duration": 24,
    "start_time": "2022-09-08T14:15:39.151Z"
   },
   {
    "duration": 29,
    "start_time": "2022-09-08T14:15:39.176Z"
   },
   {
    "duration": 18,
    "start_time": "2022-09-08T14:15:39.208Z"
   },
   {
    "duration": 60,
    "start_time": "2022-09-08T14:15:39.228Z"
   },
   {
    "duration": 65,
    "start_time": "2022-09-08T14:15:39.293Z"
   },
   {
    "duration": 82,
    "start_time": "2022-09-08T14:15:39.360Z"
   },
   {
    "duration": 92,
    "start_time": "2022-09-08T14:15:39.444Z"
   },
   {
    "duration": 45,
    "start_time": "2022-09-08T14:15:39.538Z"
   },
   {
    "duration": 13,
    "start_time": "2022-09-08T14:15:39.585Z"
   },
   {
    "duration": 35,
    "start_time": "2022-09-08T14:15:39.600Z"
   },
   {
    "duration": 12,
    "start_time": "2022-09-08T14:15:39.637Z"
   },
   {
    "duration": 30,
    "start_time": "2022-09-08T14:15:39.650Z"
   },
   {
    "duration": 5,
    "start_time": "2022-09-08T14:15:39.684Z"
   },
   {
    "duration": 19,
    "start_time": "2022-09-08T14:15:39.691Z"
   },
   {
    "duration": 14,
    "start_time": "2022-09-08T14:15:39.712Z"
   },
   {
    "duration": 18,
    "start_time": "2022-09-08T14:15:39.727Z"
   },
   {
    "duration": 36,
    "start_time": "2022-09-08T14:15:39.747Z"
   },
   {
    "duration": 16,
    "start_time": "2022-09-08T14:15:39.785Z"
   },
   {
    "duration": 14,
    "start_time": "2022-09-08T14:15:39.803Z"
   },
   {
    "duration": 8,
    "start_time": "2022-09-08T14:15:39.819Z"
   },
   {
    "duration": 41,
    "start_time": "2022-09-08T14:15:39.830Z"
   },
   {
    "duration": 12,
    "start_time": "2022-09-08T14:15:39.873Z"
   },
   {
    "duration": 5,
    "start_time": "2022-09-08T14:15:39.887Z"
   },
   {
    "duration": 22,
    "start_time": "2022-09-08T14:15:39.893Z"
   },
   {
    "duration": 11,
    "start_time": "2022-09-08T14:15:39.917Z"
   },
   {
    "duration": 53,
    "start_time": "2022-09-08T14:15:39.930Z"
   },
   {
    "duration": 13,
    "start_time": "2022-09-08T14:15:39.985Z"
   },
   {
    "duration": 22,
    "start_time": "2022-09-08T14:15:40.000Z"
   },
   {
    "duration": 8,
    "start_time": "2022-09-08T14:15:40.024Z"
   },
   {
    "duration": 13,
    "start_time": "2022-09-08T14:15:40.034Z"
   },
   {
    "duration": 6,
    "start_time": "2022-09-08T14:15:40.048Z"
   },
   {
    "duration": 458,
    "start_time": "2022-09-08T14:17:56.433Z"
   },
   {
    "duration": 168,
    "start_time": "2022-09-08T14:17:56.893Z"
   },
   {
    "duration": 21,
    "start_time": "2022-09-08T14:17:57.063Z"
   },
   {
    "duration": 31,
    "start_time": "2022-09-08T14:17:57.086Z"
   },
   {
    "duration": 2,
    "start_time": "2022-09-08T14:17:57.119Z"
   },
   {
    "duration": 8,
    "start_time": "2022-09-08T14:17:57.123Z"
   },
   {
    "duration": 44,
    "start_time": "2022-09-08T14:17:57.132Z"
   },
   {
    "duration": 8,
    "start_time": "2022-09-08T14:17:57.180Z"
   },
   {
    "duration": 30,
    "start_time": "2022-09-08T14:17:57.190Z"
   },
   {
    "duration": 19,
    "start_time": "2022-09-08T14:17:57.222Z"
   },
   {
    "duration": 42,
    "start_time": "2022-09-08T14:17:57.243Z"
   },
   {
    "duration": 81,
    "start_time": "2022-09-08T14:17:57.287Z"
   },
   {
    "duration": 87,
    "start_time": "2022-09-08T14:17:57.370Z"
   },
   {
    "duration": 64,
    "start_time": "2022-09-08T14:17:57.460Z"
   },
   {
    "duration": 50,
    "start_time": "2022-09-08T14:17:57.526Z"
   },
   {
    "duration": 10,
    "start_time": "2022-09-08T14:17:57.578Z"
   },
   {
    "duration": 35,
    "start_time": "2022-09-08T14:17:57.589Z"
   },
   {
    "duration": 12,
    "start_time": "2022-09-08T14:17:57.626Z"
   },
   {
    "duration": 35,
    "start_time": "2022-09-08T14:17:57.640Z"
   },
   {
    "duration": 5,
    "start_time": "2022-09-08T14:17:57.677Z"
   },
   {
    "duration": 27,
    "start_time": "2022-09-08T14:17:57.684Z"
   },
   {
    "duration": 16,
    "start_time": "2022-09-08T14:17:57.713Z"
   },
   {
    "duration": 19,
    "start_time": "2022-09-08T14:17:57.731Z"
   },
   {
    "duration": 16,
    "start_time": "2022-09-08T14:17:57.767Z"
   },
   {
    "duration": 17,
    "start_time": "2022-09-08T14:17:57.785Z"
   },
   {
    "duration": 15,
    "start_time": "2022-09-08T14:17:57.804Z"
   },
   {
    "duration": 7,
    "start_time": "2022-09-08T14:17:57.820Z"
   },
   {
    "duration": 12,
    "start_time": "2022-09-08T14:17:57.828Z"
   },
   {
    "duration": 10,
    "start_time": "2022-09-08T14:17:57.868Z"
   },
   {
    "duration": 4,
    "start_time": "2022-09-08T14:17:57.880Z"
   },
   {
    "duration": 22,
    "start_time": "2022-09-08T14:17:57.885Z"
   },
   {
    "duration": 12,
    "start_time": "2022-09-08T14:17:57.909Z"
   },
   {
    "duration": 18,
    "start_time": "2022-09-08T14:17:57.923Z"
   },
   {
    "duration": 13,
    "start_time": "2022-09-08T14:17:57.968Z"
   },
   {
    "duration": 7,
    "start_time": "2022-09-08T14:17:57.983Z"
   },
   {
    "duration": 4,
    "start_time": "2022-09-08T14:17:57.992Z"
   },
   {
    "duration": 11,
    "start_time": "2022-09-08T14:17:57.998Z"
   },
   {
    "duration": 8,
    "start_time": "2022-09-08T14:17:58.010Z"
   },
   {
    "duration": 366,
    "start_time": "2022-09-08T14:19:24.408Z"
   },
   {
    "duration": 265,
    "start_time": "2022-09-08T14:19:26.957Z"
   },
   {
    "duration": 11,
    "start_time": "2022-09-08T14:20:12.777Z"
   },
   {
    "duration": 49,
    "start_time": "2022-09-08T14:20:32.353Z"
   },
   {
    "duration": 7,
    "start_time": "2022-09-08T14:20:33.729Z"
   },
   {
    "duration": 382,
    "start_time": "2022-09-08T14:20:34.591Z"
   },
   {
    "duration": 161,
    "start_time": "2022-09-08T14:20:36.082Z"
   },
   {
    "duration": 16,
    "start_time": "2022-09-08T14:20:37.816Z"
   },
   {
    "duration": 16,
    "start_time": "2022-09-08T14:20:51.378Z"
   },
   {
    "duration": 11,
    "start_time": "2022-09-08T14:20:52.193Z"
   },
   {
    "duration": 427,
    "start_time": "2022-09-08T14:21:18.475Z"
   },
   {
    "duration": 173,
    "start_time": "2022-09-08T14:21:18.904Z"
   },
   {
    "duration": 20,
    "start_time": "2022-09-08T14:21:19.079Z"
   },
   {
    "duration": 12,
    "start_time": "2022-09-08T14:21:44.917Z"
   },
   {
    "duration": 3,
    "start_time": "2022-09-08T14:21:52.291Z"
   },
   {
    "duration": 176,
    "start_time": "2022-09-08T14:21:52.296Z"
   },
   {
    "duration": 12,
    "start_time": "2022-09-08T14:21:52.474Z"
   },
   {
    "duration": 363,
    "start_time": "2022-09-08T14:22:13.306Z"
   },
   {
    "duration": 177,
    "start_time": "2022-09-08T14:22:14.450Z"
   },
   {
    "duration": 19,
    "start_time": "2022-09-08T14:22:15.930Z"
   },
   {
    "duration": 12,
    "start_time": "2022-09-08T14:22:35.011Z"
   },
   {
    "duration": 424,
    "start_time": "2022-09-08T14:22:49.935Z"
   },
   {
    "duration": 191,
    "start_time": "2022-09-08T14:22:50.361Z"
   },
   {
    "duration": 26,
    "start_time": "2022-09-08T14:22:50.554Z"
   },
   {
    "duration": 33,
    "start_time": "2022-09-08T14:22:50.584Z"
   },
   {
    "duration": 6,
    "start_time": "2022-09-08T14:22:50.619Z"
   },
   {
    "duration": 7,
    "start_time": "2022-09-08T14:22:50.627Z"
   },
   {
    "duration": 34,
    "start_time": "2022-09-08T14:22:50.635Z"
   },
   {
    "duration": 15,
    "start_time": "2022-09-08T14:22:50.671Z"
   },
   {
    "duration": 28,
    "start_time": "2022-09-08T14:22:50.688Z"
   },
   {
    "duration": 21,
    "start_time": "2022-09-08T14:22:50.720Z"
   },
   {
    "duration": 41,
    "start_time": "2022-09-08T14:22:50.743Z"
   },
   {
    "duration": 91,
    "start_time": "2022-09-08T14:22:50.786Z"
   },
   {
    "duration": 76,
    "start_time": "2022-09-08T14:22:50.879Z"
   },
   {
    "duration": 81,
    "start_time": "2022-09-08T14:22:50.956Z"
   },
   {
    "duration": 60,
    "start_time": "2022-09-08T14:22:51.038Z"
   },
   {
    "duration": 11,
    "start_time": "2022-09-08T14:22:51.100Z"
   },
   {
    "duration": 37,
    "start_time": "2022-09-08T14:22:51.112Z"
   },
   {
    "duration": 34,
    "start_time": "2022-09-08T14:22:51.151Z"
   },
   {
    "duration": 13,
    "start_time": "2022-09-08T14:22:51.187Z"
   },
   {
    "duration": 4,
    "start_time": "2022-09-08T14:22:51.202Z"
   },
   {
    "duration": 24,
    "start_time": "2022-09-08T14:22:51.207Z"
   },
   {
    "duration": 41,
    "start_time": "2022-09-08T14:22:51.233Z"
   },
   {
    "duration": 17,
    "start_time": "2022-09-08T14:22:51.277Z"
   },
   {
    "duration": 14,
    "start_time": "2022-09-08T14:22:51.296Z"
   },
   {
    "duration": 15,
    "start_time": "2022-09-08T14:22:51.312Z"
   },
   {
    "duration": 43,
    "start_time": "2022-09-08T14:22:51.329Z"
   },
   {
    "duration": 8,
    "start_time": "2022-09-08T14:22:51.374Z"
   },
   {
    "duration": 15,
    "start_time": "2022-09-08T14:22:51.386Z"
   },
   {
    "duration": 10,
    "start_time": "2022-09-08T14:22:51.402Z"
   },
   {
    "duration": 5,
    "start_time": "2022-09-08T14:22:51.413Z"
   },
   {
    "duration": 50,
    "start_time": "2022-09-08T14:22:51.419Z"
   },
   {
    "duration": 22,
    "start_time": "2022-09-08T14:22:51.471Z"
   },
   {
    "duration": 25,
    "start_time": "2022-09-08T14:22:51.495Z"
   },
   {
    "duration": 16,
    "start_time": "2022-09-08T14:22:51.521Z"
   },
   {
    "duration": 34,
    "start_time": "2022-09-08T14:22:51.539Z"
   },
   {
    "duration": 5,
    "start_time": "2022-09-08T14:22:51.576Z"
   },
   {
    "duration": 26,
    "start_time": "2022-09-08T14:22:51.583Z"
   },
   {
    "duration": 9,
    "start_time": "2022-09-08T14:22:51.611Z"
   },
   {
    "duration": 457,
    "start_time": "2022-09-08T14:23:37.238Z"
   },
   {
    "duration": 171,
    "start_time": "2022-09-08T14:23:37.697Z"
   },
   {
    "duration": 27,
    "start_time": "2022-09-08T14:23:37.871Z"
   },
   {
    "duration": 48,
    "start_time": "2022-09-08T14:23:37.900Z"
   },
   {
    "duration": 25,
    "start_time": "2022-09-08T14:23:37.950Z"
   },
   {
    "duration": 7,
    "start_time": "2022-09-08T14:23:37.977Z"
   },
   {
    "duration": 23,
    "start_time": "2022-09-08T14:23:37.985Z"
   },
   {
    "duration": 10,
    "start_time": "2022-09-08T14:23:38.010Z"
   },
   {
    "duration": 29,
    "start_time": "2022-09-08T14:23:38.023Z"
   },
   {
    "duration": 37,
    "start_time": "2022-09-08T14:23:38.055Z"
   },
   {
    "duration": 24,
    "start_time": "2022-09-08T14:23:38.094Z"
   },
   {
    "duration": 81,
    "start_time": "2022-09-08T14:23:38.120Z"
   },
   {
    "duration": 89,
    "start_time": "2022-09-08T14:23:38.203Z"
   },
   {
    "duration": 76,
    "start_time": "2022-09-08T14:23:38.294Z"
   },
   {
    "duration": 45,
    "start_time": "2022-09-08T14:23:38.372Z"
   },
   {
    "duration": 11,
    "start_time": "2022-09-08T14:23:38.418Z"
   },
   {
    "duration": 68,
    "start_time": "2022-09-08T14:23:38.430Z"
   },
   {
    "duration": 13,
    "start_time": "2022-09-08T14:23:38.499Z"
   },
   {
    "duration": 18,
    "start_time": "2022-09-08T14:23:38.515Z"
   },
   {
    "duration": 4,
    "start_time": "2022-09-08T14:23:38.535Z"
   },
   {
    "duration": 26,
    "start_time": "2022-09-08T14:23:38.568Z"
   },
   {
    "duration": 14,
    "start_time": "2022-09-08T14:23:38.597Z"
   },
   {
    "duration": 27,
    "start_time": "2022-09-08T14:23:38.613Z"
   },
   {
    "duration": 29,
    "start_time": "2022-09-08T14:23:38.642Z"
   },
   {
    "duration": 29,
    "start_time": "2022-09-08T14:23:38.675Z"
   },
   {
    "duration": 14,
    "start_time": "2022-09-08T14:23:38.706Z"
   },
   {
    "duration": 8,
    "start_time": "2022-09-08T14:23:38.722Z"
   },
   {
    "duration": 12,
    "start_time": "2022-09-08T14:23:38.733Z"
   },
   {
    "duration": 32,
    "start_time": "2022-09-08T14:23:38.747Z"
   },
   {
    "duration": 20,
    "start_time": "2022-09-08T14:23:38.781Z"
   },
   {
    "duration": 23,
    "start_time": "2022-09-08T14:23:38.802Z"
   },
   {
    "duration": 14,
    "start_time": "2022-09-08T14:23:38.827Z"
   },
   {
    "duration": 42,
    "start_time": "2022-09-08T14:23:38.843Z"
   },
   {
    "duration": 16,
    "start_time": "2022-09-08T14:23:38.887Z"
   },
   {
    "duration": 8,
    "start_time": "2022-09-08T14:23:38.905Z"
   },
   {
    "duration": 5,
    "start_time": "2022-09-08T14:23:38.915Z"
   },
   {
    "duration": 11,
    "start_time": "2022-09-08T14:23:38.922Z"
   },
   {
    "duration": 7,
    "start_time": "2022-09-08T14:23:38.935Z"
   },
   {
    "duration": 40,
    "start_time": "2022-09-08T14:24:05.642Z"
   },
   {
    "duration": 405,
    "start_time": "2022-09-08T14:24:13.623Z"
   },
   {
    "duration": 187,
    "start_time": "2022-09-08T14:24:14.030Z"
   },
   {
    "duration": 18,
    "start_time": "2022-09-08T14:24:14.219Z"
   },
   {
    "duration": 52,
    "start_time": "2022-09-08T14:24:14.239Z"
   },
   {
    "duration": 2,
    "start_time": "2022-09-08T14:24:14.294Z"
   },
   {
    "duration": 7,
    "start_time": "2022-09-08T14:24:14.298Z"
   },
   {
    "duration": 13,
    "start_time": "2022-09-08T14:24:14.307Z"
   },
   {
    "duration": 8,
    "start_time": "2022-09-08T14:24:14.322Z"
   },
   {
    "duration": 51,
    "start_time": "2022-09-08T14:24:14.331Z"
   },
   {
    "duration": 25,
    "start_time": "2022-09-08T14:24:14.385Z"
   },
   {
    "duration": 24,
    "start_time": "2022-09-08T14:24:14.411Z"
   },
   {
    "duration": 101,
    "start_time": "2022-09-08T14:24:14.437Z"
   },
   {
    "duration": 81,
    "start_time": "2022-09-08T14:24:14.540Z"
   },
   {
    "duration": 76,
    "start_time": "2022-09-08T14:24:14.622Z"
   },
   {
    "duration": 37,
    "start_time": "2022-09-08T14:24:14.699Z"
   },
   {
    "duration": 11,
    "start_time": "2022-09-08T14:24:14.737Z"
   },
   {
    "duration": 46,
    "start_time": "2022-09-08T14:24:14.768Z"
   },
   {
    "duration": 13,
    "start_time": "2022-09-08T14:24:14.816Z"
   },
   {
    "duration": 40,
    "start_time": "2022-09-08T14:24:14.830Z"
   },
   {
    "duration": 6,
    "start_time": "2022-09-08T14:24:14.871Z"
   },
   {
    "duration": 30,
    "start_time": "2022-09-08T14:24:14.879Z"
   },
   {
    "duration": 15,
    "start_time": "2022-09-08T14:24:14.911Z"
   },
   {
    "duration": 22,
    "start_time": "2022-09-08T14:24:14.928Z"
   },
   {
    "duration": 37,
    "start_time": "2022-09-08T14:24:14.951Z"
   },
   {
    "duration": 18,
    "start_time": "2022-09-08T14:24:14.991Z"
   },
   {
    "duration": 25,
    "start_time": "2022-09-08T14:24:15.010Z"
   },
   {
    "duration": 12,
    "start_time": "2022-09-08T14:24:15.037Z"
   },
   {
    "duration": 24,
    "start_time": "2022-09-08T14:24:15.052Z"
   },
   {
    "duration": 14,
    "start_time": "2022-09-08T14:24:15.078Z"
   },
   {
    "duration": 9,
    "start_time": "2022-09-08T14:24:15.094Z"
   },
   {
    "duration": 25,
    "start_time": "2022-09-08T14:24:15.105Z"
   },
   {
    "duration": 37,
    "start_time": "2022-09-08T14:24:15.132Z"
   },
   {
    "duration": 27,
    "start_time": "2022-09-08T14:24:15.171Z"
   },
   {
    "duration": 13,
    "start_time": "2022-09-08T14:24:15.200Z"
   },
   {
    "duration": 9,
    "start_time": "2022-09-08T14:24:15.215Z"
   },
   {
    "duration": 6,
    "start_time": "2022-09-08T14:24:15.225Z"
   },
   {
    "duration": 36,
    "start_time": "2022-09-08T14:24:15.232Z"
   },
   {
    "duration": 7,
    "start_time": "2022-09-08T14:24:15.270Z"
   },
   {
    "duration": 403,
    "start_time": "2022-09-08T14:25:53.461Z"
   },
   {
    "duration": 160,
    "start_time": "2022-09-08T14:25:53.869Z"
   },
   {
    "duration": 17,
    "start_time": "2022-09-08T14:25:54.030Z"
   },
   {
    "duration": 35,
    "start_time": "2022-09-08T14:25:54.049Z"
   },
   {
    "duration": 2,
    "start_time": "2022-09-08T14:25:54.086Z"
   },
   {
    "duration": 9,
    "start_time": "2022-09-08T14:25:54.089Z"
   },
   {
    "duration": 13,
    "start_time": "2022-09-08T14:25:54.100Z"
   },
   {
    "duration": 6,
    "start_time": "2022-09-08T14:25:54.115Z"
   },
   {
    "duration": 47,
    "start_time": "2022-09-08T14:25:54.122Z"
   },
   {
    "duration": 19,
    "start_time": "2022-09-08T14:25:54.172Z"
   },
   {
    "duration": 23,
    "start_time": "2022-09-08T14:25:54.193Z"
   },
   {
    "duration": 91,
    "start_time": "2022-09-08T14:25:54.218Z"
   },
   {
    "duration": 78,
    "start_time": "2022-09-08T14:25:54.311Z"
   },
   {
    "duration": 78,
    "start_time": "2022-09-08T14:25:54.391Z"
   },
   {
    "duration": 38,
    "start_time": "2022-09-08T14:25:54.471Z"
   },
   {
    "duration": 11,
    "start_time": "2022-09-08T14:25:54.511Z"
   },
   {
    "duration": 56,
    "start_time": "2022-09-08T14:25:54.523Z"
   },
   {
    "duration": 13,
    "start_time": "2022-09-08T14:25:54.581Z"
   },
   {
    "duration": 13,
    "start_time": "2022-09-08T14:25:54.596Z"
   },
   {
    "duration": 4,
    "start_time": "2022-09-08T14:25:54.611Z"
   },
   {
    "duration": 21,
    "start_time": "2022-09-08T14:25:54.617Z"
   },
   {
    "duration": 16,
    "start_time": "2022-09-08T14:25:54.668Z"
   },
   {
    "duration": 16,
    "start_time": "2022-09-08T14:25:54.686Z"
   },
   {
    "duration": 15,
    "start_time": "2022-09-08T14:25:54.705Z"
   },
   {
    "duration": 46,
    "start_time": "2022-09-08T14:25:54.722Z"
   },
   {
    "duration": 15,
    "start_time": "2022-09-08T14:25:54.769Z"
   },
   {
    "duration": 6,
    "start_time": "2022-09-08T14:25:54.785Z"
   },
   {
    "duration": 15,
    "start_time": "2022-09-08T14:25:54.794Z"
   },
   {
    "duration": 10,
    "start_time": "2022-09-08T14:25:54.810Z"
   },
   {
    "duration": 4,
    "start_time": "2022-09-08T14:25:54.822Z"
   },
   {
    "duration": 51,
    "start_time": "2022-09-08T14:25:54.828Z"
   },
   {
    "duration": 11,
    "start_time": "2022-09-08T14:25:54.881Z"
   },
   {
    "duration": 18,
    "start_time": "2022-09-08T14:25:54.893Z"
   },
   {
    "duration": 12,
    "start_time": "2022-09-08T14:25:54.913Z"
   },
   {
    "duration": 7,
    "start_time": "2022-09-08T14:25:54.927Z"
   },
   {
    "duration": 33,
    "start_time": "2022-09-08T14:25:54.936Z"
   },
   {
    "duration": 8,
    "start_time": "2022-09-08T14:25:54.970Z"
   },
   {
    "duration": 4,
    "start_time": "2022-09-08T14:25:54.980Z"
   },
   {
    "duration": 377,
    "start_time": "2022-09-08T14:26:26.916Z"
   },
   {
    "duration": 168,
    "start_time": "2022-09-08T14:26:27.295Z"
   },
   {
    "duration": 17,
    "start_time": "2022-09-08T14:26:27.465Z"
   },
   {
    "duration": 33,
    "start_time": "2022-09-08T14:26:27.484Z"
   },
   {
    "duration": 2,
    "start_time": "2022-09-08T14:26:27.519Z"
   },
   {
    "duration": 7,
    "start_time": "2022-09-08T14:26:27.523Z"
   },
   {
    "duration": 36,
    "start_time": "2022-09-08T14:26:27.531Z"
   },
   {
    "duration": 4,
    "start_time": "2022-09-08T14:26:27.569Z"
   },
   {
    "duration": 31,
    "start_time": "2022-09-08T14:26:27.575Z"
   },
   {
    "duration": 21,
    "start_time": "2022-09-08T14:26:27.608Z"
   },
   {
    "duration": 40,
    "start_time": "2022-09-08T14:26:27.631Z"
   },
   {
    "duration": 68,
    "start_time": "2022-09-08T14:26:27.672Z"
   },
   {
    "duration": 86,
    "start_time": "2022-09-08T14:26:27.742Z"
   },
   {
    "duration": 82,
    "start_time": "2022-09-08T14:26:27.830Z"
   },
   {
    "duration": 36,
    "start_time": "2022-09-08T14:26:27.914Z"
   },
   {
    "duration": 22,
    "start_time": "2022-09-08T14:26:27.952Z"
   },
   {
    "duration": 38,
    "start_time": "2022-09-08T14:26:27.975Z"
   },
   {
    "duration": 16,
    "start_time": "2022-09-08T14:26:28.015Z"
   },
   {
    "duration": 12,
    "start_time": "2022-09-08T14:26:28.033Z"
   },
   {
    "duration": 24,
    "start_time": "2022-09-08T14:26:28.047Z"
   },
   {
    "duration": 28,
    "start_time": "2022-09-08T14:26:28.072Z"
   },
   {
    "duration": 14,
    "start_time": "2022-09-08T14:26:28.102Z"
   },
   {
    "duration": 16,
    "start_time": "2022-09-08T14:26:28.118Z"
   },
   {
    "duration": 37,
    "start_time": "2022-09-08T14:26:28.136Z"
   },
   {
    "duration": 16,
    "start_time": "2022-09-08T14:26:28.175Z"
   },
   {
    "duration": 14,
    "start_time": "2022-09-08T14:26:28.193Z"
   },
   {
    "duration": 9,
    "start_time": "2022-09-08T14:26:28.208Z"
   },
   {
    "duration": 12,
    "start_time": "2022-09-08T14:26:28.220Z"
   },
   {
    "duration": 34,
    "start_time": "2022-09-08T14:26:28.234Z"
   },
   {
    "duration": 5,
    "start_time": "2022-09-08T14:26:28.269Z"
   },
   {
    "duration": 23,
    "start_time": "2022-09-08T14:26:28.276Z"
   },
   {
    "duration": 12,
    "start_time": "2022-09-08T14:26:28.301Z"
   },
   {
    "duration": 19,
    "start_time": "2022-09-08T14:26:28.314Z"
   },
   {
    "duration": 42,
    "start_time": "2022-09-08T14:26:28.334Z"
   },
   {
    "duration": 9,
    "start_time": "2022-09-08T14:26:28.377Z"
   },
   {
    "duration": 4,
    "start_time": "2022-09-08T14:26:28.387Z"
   },
   {
    "duration": 8,
    "start_time": "2022-09-08T14:26:28.393Z"
   },
   {
    "duration": 4,
    "start_time": "2022-09-08T14:26:28.403Z"
   },
   {
    "duration": 431,
    "start_time": "2022-09-08T14:27:05.860Z"
   },
   {
    "duration": 178,
    "start_time": "2022-09-08T14:27:06.294Z"
   },
   {
    "duration": 23,
    "start_time": "2022-09-08T14:27:06.474Z"
   },
   {
    "duration": 28,
    "start_time": "2022-09-08T14:27:06.499Z"
   },
   {
    "duration": 3,
    "start_time": "2022-09-08T14:27:06.528Z"
   },
   {
    "duration": 7,
    "start_time": "2022-09-08T14:27:06.532Z"
   },
   {
    "duration": 15,
    "start_time": "2022-09-08T14:27:06.569Z"
   },
   {
    "duration": 9,
    "start_time": "2022-09-08T14:27:06.587Z"
   },
   {
    "duration": 37,
    "start_time": "2022-09-08T14:27:06.598Z"
   },
   {
    "duration": 48,
    "start_time": "2022-09-08T14:27:06.639Z"
   },
   {
    "duration": 47,
    "start_time": "2022-09-08T14:27:06.690Z"
   },
   {
    "duration": 94,
    "start_time": "2022-09-08T14:27:06.739Z"
   },
   {
    "duration": 104,
    "start_time": "2022-09-08T14:27:06.835Z"
   },
   {
    "duration": 75,
    "start_time": "2022-09-08T14:27:06.940Z"
   },
   {
    "duration": 36,
    "start_time": "2022-09-08T14:27:07.017Z"
   },
   {
    "duration": 26,
    "start_time": "2022-09-08T14:27:07.055Z"
   },
   {
    "duration": 43,
    "start_time": "2022-09-08T14:27:07.083Z"
   },
   {
    "duration": 12,
    "start_time": "2022-09-08T14:27:07.127Z"
   },
   {
    "duration": 34,
    "start_time": "2022-09-08T14:27:07.140Z"
   },
   {
    "duration": 6,
    "start_time": "2022-09-08T14:27:07.176Z"
   },
   {
    "duration": 22,
    "start_time": "2022-09-08T14:27:07.185Z"
   },
   {
    "duration": 17,
    "start_time": "2022-09-08T14:27:07.209Z"
   },
   {
    "duration": 45,
    "start_time": "2022-09-08T14:27:07.228Z"
   },
   {
    "duration": 23,
    "start_time": "2022-09-08T14:27:07.275Z"
   },
   {
    "duration": 19,
    "start_time": "2022-09-08T14:27:07.299Z"
   },
   {
    "duration": 14,
    "start_time": "2022-09-08T14:27:07.320Z"
   },
   {
    "duration": 36,
    "start_time": "2022-09-08T14:27:07.336Z"
   },
   {
    "duration": 21,
    "start_time": "2022-09-08T14:27:07.377Z"
   },
   {
    "duration": 10,
    "start_time": "2022-09-08T14:27:07.399Z"
   },
   {
    "duration": 4,
    "start_time": "2022-09-08T14:27:07.411Z"
   },
   {
    "duration": 27,
    "start_time": "2022-09-08T14:27:07.417Z"
   },
   {
    "duration": 32,
    "start_time": "2022-09-08T14:27:07.445Z"
   },
   {
    "duration": 25,
    "start_time": "2022-09-08T14:27:07.479Z"
   },
   {
    "duration": 14,
    "start_time": "2022-09-08T14:27:07.505Z"
   },
   {
    "duration": 8,
    "start_time": "2022-09-08T14:27:07.520Z"
   },
   {
    "duration": 3,
    "start_time": "2022-09-08T14:27:07.530Z"
   },
   {
    "duration": 39,
    "start_time": "2022-09-08T14:27:07.535Z"
   },
   {
    "duration": 11,
    "start_time": "2022-09-08T14:27:07.576Z"
   },
   {
    "duration": 398,
    "start_time": "2022-09-08T14:28:10.534Z"
   },
   {
    "duration": 178,
    "start_time": "2022-09-08T14:28:10.934Z"
   },
   {
    "duration": 18,
    "start_time": "2022-09-08T14:28:11.114Z"
   },
   {
    "duration": 41,
    "start_time": "2022-09-08T14:28:11.134Z"
   },
   {
    "duration": 4,
    "start_time": "2022-09-08T14:28:11.177Z"
   },
   {
    "duration": 7,
    "start_time": "2022-09-08T14:28:11.182Z"
   },
   {
    "duration": 14,
    "start_time": "2022-09-08T14:28:11.190Z"
   },
   {
    "duration": 7,
    "start_time": "2022-09-08T14:28:11.205Z"
   },
   {
    "duration": 30,
    "start_time": "2022-09-08T14:28:11.214Z"
   },
   {
    "duration": 41,
    "start_time": "2022-09-08T14:28:11.246Z"
   },
   {
    "duration": 25,
    "start_time": "2022-09-08T14:28:11.289Z"
   },
   {
    "duration": 89,
    "start_time": "2022-09-08T14:28:11.316Z"
   },
   {
    "duration": 88,
    "start_time": "2022-09-08T14:28:11.406Z"
   },
   {
    "duration": 82,
    "start_time": "2022-09-08T14:28:11.496Z"
   },
   {
    "duration": 40,
    "start_time": "2022-09-08T14:28:11.580Z"
   },
   {
    "duration": 10,
    "start_time": "2022-09-08T14:28:11.622Z"
   },
   {
    "duration": 52,
    "start_time": "2022-09-08T14:28:11.634Z"
   },
   {
    "duration": 12,
    "start_time": "2022-09-08T14:28:11.688Z"
   },
   {
    "duration": 12,
    "start_time": "2022-09-08T14:28:11.701Z"
   },
   {
    "duration": 4,
    "start_time": "2022-09-08T14:28:11.714Z"
   },
   {
    "duration": 20,
    "start_time": "2022-09-08T14:28:11.719Z"
   },
   {
    "duration": 14,
    "start_time": "2022-09-08T14:28:11.768Z"
   },
   {
    "duration": 16,
    "start_time": "2022-09-08T14:28:11.784Z"
   },
   {
    "duration": 14,
    "start_time": "2022-09-08T14:28:11.802Z"
   },
   {
    "duration": 17,
    "start_time": "2022-09-08T14:28:11.817Z"
   },
   {
    "duration": 37,
    "start_time": "2022-09-08T14:28:11.836Z"
   },
   {
    "duration": 6,
    "start_time": "2022-09-08T14:28:11.875Z"
   },
   {
    "duration": 13,
    "start_time": "2022-09-08T14:28:11.884Z"
   },
   {
    "duration": 10,
    "start_time": "2022-09-08T14:28:11.898Z"
   },
   {
    "duration": 4,
    "start_time": "2022-09-08T14:28:11.910Z"
   },
   {
    "duration": 20,
    "start_time": "2022-09-08T14:28:11.916Z"
   },
   {
    "duration": 41,
    "start_time": "2022-09-08T14:28:11.937Z"
   },
   {
    "duration": 19,
    "start_time": "2022-09-08T14:28:11.979Z"
   },
   {
    "duration": 12,
    "start_time": "2022-09-08T14:28:11.999Z"
   },
   {
    "duration": 8,
    "start_time": "2022-09-08T14:28:12.013Z"
   },
   {
    "duration": 4,
    "start_time": "2022-09-08T14:28:12.023Z"
   },
   {
    "duration": 42,
    "start_time": "2022-09-08T14:28:12.028Z"
   },
   {
    "duration": 7,
    "start_time": "2022-09-08T14:28:12.072Z"
   },
   {
    "duration": 403,
    "start_time": "2022-09-08T14:28:40.185Z"
   },
   {
    "duration": 173,
    "start_time": "2022-09-08T14:28:40.590Z"
   },
   {
    "duration": 18,
    "start_time": "2022-09-08T14:28:40.765Z"
   },
   {
    "duration": 28,
    "start_time": "2022-09-08T14:28:40.784Z"
   },
   {
    "duration": 2,
    "start_time": "2022-09-08T14:28:40.814Z"
   },
   {
    "duration": 6,
    "start_time": "2022-09-08T14:28:40.818Z"
   },
   {
    "duration": 14,
    "start_time": "2022-09-08T14:28:40.826Z"
   },
   {
    "duration": 4,
    "start_time": "2022-09-08T14:28:40.868Z"
   },
   {
    "duration": 27,
    "start_time": "2022-09-08T14:28:40.873Z"
   },
   {
    "duration": 19,
    "start_time": "2022-09-08T14:28:40.902Z"
   },
   {
    "duration": 23,
    "start_time": "2022-09-08T14:28:40.922Z"
   },
   {
    "duration": 87,
    "start_time": "2022-09-08T14:28:40.946Z"
   },
   {
    "duration": 88,
    "start_time": "2022-09-08T14:28:41.034Z"
   },
   {
    "duration": 73,
    "start_time": "2022-09-08T14:28:41.124Z"
   },
   {
    "duration": 36,
    "start_time": "2022-09-08T14:28:41.199Z"
   },
   {
    "duration": 9,
    "start_time": "2022-09-08T14:28:41.237Z"
   },
   {
    "duration": 53,
    "start_time": "2022-09-08T14:28:41.247Z"
   },
   {
    "duration": 13,
    "start_time": "2022-09-08T14:28:41.301Z"
   },
   {
    "duration": 12,
    "start_time": "2022-09-08T14:28:41.315Z"
   },
   {
    "duration": 3,
    "start_time": "2022-09-08T14:28:41.329Z"
   },
   {
    "duration": 44,
    "start_time": "2022-09-08T14:28:41.334Z"
   },
   {
    "duration": 12,
    "start_time": "2022-09-08T14:28:41.379Z"
   },
   {
    "duration": 18,
    "start_time": "2022-09-08T14:28:41.393Z"
   },
   {
    "duration": 13,
    "start_time": "2022-09-08T14:28:41.413Z"
   },
   {
    "duration": 15,
    "start_time": "2022-09-08T14:28:41.428Z"
   },
   {
    "duration": 14,
    "start_time": "2022-09-08T14:28:41.468Z"
   },
   {
    "duration": 10,
    "start_time": "2022-09-08T14:28:41.483Z"
   },
   {
    "duration": 18,
    "start_time": "2022-09-08T14:28:41.496Z"
   },
   {
    "duration": 11,
    "start_time": "2022-09-08T14:28:41.517Z"
   },
   {
    "duration": 9,
    "start_time": "2022-09-08T14:28:41.530Z"
   },
   {
    "duration": 39,
    "start_time": "2022-09-08T14:28:41.541Z"
   },
   {
    "duration": 12,
    "start_time": "2022-09-08T14:28:41.582Z"
   },
   {
    "duration": 18,
    "start_time": "2022-09-08T14:28:41.596Z"
   },
   {
    "duration": 12,
    "start_time": "2022-09-08T14:28:41.615Z"
   },
   {
    "duration": 39,
    "start_time": "2022-09-08T14:28:41.629Z"
   },
   {
    "duration": 5,
    "start_time": "2022-09-08T14:28:41.669Z"
   },
   {
    "duration": 7,
    "start_time": "2022-09-08T14:28:41.676Z"
   },
   {
    "duration": 4,
    "start_time": "2022-09-08T14:28:41.685Z"
   },
   {
    "duration": 410,
    "start_time": "2022-09-08T14:28:54.054Z"
   },
   {
    "duration": 166,
    "start_time": "2022-09-08T14:28:54.468Z"
   },
   {
    "duration": 17,
    "start_time": "2022-09-08T14:28:54.638Z"
   },
   {
    "duration": 29,
    "start_time": "2022-09-08T14:28:54.667Z"
   },
   {
    "duration": 2,
    "start_time": "2022-09-08T14:28:54.697Z"
   },
   {
    "duration": 8,
    "start_time": "2022-09-08T14:28:54.701Z"
   },
   {
    "duration": 13,
    "start_time": "2022-09-08T14:28:54.710Z"
   },
   {
    "duration": 7,
    "start_time": "2022-09-08T14:28:54.725Z"
   },
   {
    "duration": 48,
    "start_time": "2022-09-08T14:28:54.733Z"
   },
   {
    "duration": 19,
    "start_time": "2022-09-08T14:28:54.783Z"
   },
   {
    "duration": 25,
    "start_time": "2022-09-08T14:28:54.805Z"
   },
   {
    "duration": 96,
    "start_time": "2022-09-08T14:28:54.832Z"
   },
   {
    "duration": 80,
    "start_time": "2022-09-08T14:28:54.934Z"
   },
   {
    "duration": 72,
    "start_time": "2022-09-08T14:28:55.015Z"
   },
   {
    "duration": 41,
    "start_time": "2022-09-08T14:28:55.088Z"
   },
   {
    "duration": 27,
    "start_time": "2022-09-08T14:28:55.131Z"
   },
   {
    "duration": 37,
    "start_time": "2022-09-08T14:28:55.160Z"
   },
   {
    "duration": 12,
    "start_time": "2022-09-08T14:28:55.199Z"
   },
   {
    "duration": 13,
    "start_time": "2022-09-08T14:28:55.213Z"
   },
   {
    "duration": 4,
    "start_time": "2022-09-08T14:28:55.227Z"
   },
   {
    "duration": 45,
    "start_time": "2022-09-08T14:28:55.233Z"
   },
   {
    "duration": 13,
    "start_time": "2022-09-08T14:28:55.279Z"
   },
   {
    "duration": 15,
    "start_time": "2022-09-08T14:28:55.294Z"
   },
   {
    "duration": 14,
    "start_time": "2022-09-08T14:28:55.311Z"
   },
   {
    "duration": 43,
    "start_time": "2022-09-08T14:28:55.327Z"
   },
   {
    "duration": 15,
    "start_time": "2022-09-08T14:28:55.371Z"
   },
   {
    "duration": 9,
    "start_time": "2022-09-08T14:28:55.387Z"
   },
   {
    "duration": 15,
    "start_time": "2022-09-08T14:28:55.397Z"
   },
   {
    "duration": 10,
    "start_time": "2022-09-08T14:28:55.413Z"
   },
   {
    "duration": 5,
    "start_time": "2022-09-08T14:28:55.425Z"
   },
   {
    "duration": 46,
    "start_time": "2022-09-08T14:28:55.432Z"
   },
   {
    "duration": 13,
    "start_time": "2022-09-08T14:28:55.479Z"
   },
   {
    "duration": 20,
    "start_time": "2022-09-08T14:28:55.493Z"
   },
   {
    "duration": 14,
    "start_time": "2022-09-08T14:28:55.515Z"
   },
   {
    "duration": 37,
    "start_time": "2022-09-08T14:28:55.531Z"
   },
   {
    "duration": 3,
    "start_time": "2022-09-08T14:28:55.570Z"
   },
   {
    "duration": 9,
    "start_time": "2022-09-08T14:28:55.575Z"
   },
   {
    "duration": 5,
    "start_time": "2022-09-08T14:28:55.585Z"
   },
   {
    "duration": 426,
    "start_time": "2022-09-08T14:29:07.468Z"
   },
   {
    "duration": 187,
    "start_time": "2022-09-08T14:29:07.896Z"
   },
   {
    "duration": 19,
    "start_time": "2022-09-08T14:29:08.085Z"
   },
   {
    "duration": 29,
    "start_time": "2022-09-08T14:29:08.106Z"
   },
   {
    "duration": 2,
    "start_time": "2022-09-08T14:29:08.137Z"
   },
   {
    "duration": 28,
    "start_time": "2022-09-08T14:29:08.141Z"
   },
   {
    "duration": 12,
    "start_time": "2022-09-08T14:29:08.171Z"
   },
   {
    "duration": 6,
    "start_time": "2022-09-08T14:29:08.185Z"
   },
   {
    "duration": 29,
    "start_time": "2022-09-08T14:29:08.193Z"
   },
   {
    "duration": 22,
    "start_time": "2022-09-08T14:29:08.225Z"
   },
   {
    "duration": 24,
    "start_time": "2022-09-08T14:29:08.268Z"
   },
   {
    "duration": 80,
    "start_time": "2022-09-08T14:29:08.294Z"
   },
   {
    "duration": 92,
    "start_time": "2022-09-08T14:29:08.376Z"
   },
   {
    "duration": 66,
    "start_time": "2022-09-08T14:29:08.469Z"
   },
   {
    "duration": 52,
    "start_time": "2022-09-08T14:29:08.537Z"
   },
   {
    "duration": 10,
    "start_time": "2022-09-08T14:29:08.591Z"
   },
   {
    "duration": 45,
    "start_time": "2022-09-08T14:29:08.603Z"
   },
   {
    "duration": 21,
    "start_time": "2022-09-08T14:29:08.650Z"
   },
   {
    "duration": 13,
    "start_time": "2022-09-08T14:29:08.672Z"
   },
   {
    "duration": 4,
    "start_time": "2022-09-08T14:29:08.687Z"
   },
   {
    "duration": 27,
    "start_time": "2022-09-08T14:29:08.692Z"
   },
   {
    "duration": 14,
    "start_time": "2022-09-08T14:29:08.721Z"
   },
   {
    "duration": 35,
    "start_time": "2022-09-08T14:29:08.737Z"
   },
   {
    "duration": 19,
    "start_time": "2022-09-08T14:29:08.774Z"
   },
   {
    "duration": 16,
    "start_time": "2022-09-08T14:29:08.795Z"
   },
   {
    "duration": 15,
    "start_time": "2022-09-08T14:29:08.813Z"
   },
   {
    "duration": 7,
    "start_time": "2022-09-08T14:29:08.830Z"
   },
   {
    "duration": 11,
    "start_time": "2022-09-08T14:29:08.868Z"
   },
   {
    "duration": 9,
    "start_time": "2022-09-08T14:29:08.881Z"
   },
   {
    "duration": 5,
    "start_time": "2022-09-08T14:29:08.892Z"
   },
   {
    "duration": 23,
    "start_time": "2022-09-08T14:29:08.899Z"
   },
   {
    "duration": 12,
    "start_time": "2022-09-08T14:29:08.924Z"
   },
   {
    "duration": 54,
    "start_time": "2022-09-08T14:29:08.937Z"
   },
   {
    "duration": 14,
    "start_time": "2022-09-08T14:29:08.993Z"
   },
   {
    "duration": 12,
    "start_time": "2022-09-08T14:29:09.009Z"
   },
   {
    "duration": 4,
    "start_time": "2022-09-08T14:29:09.023Z"
   },
   {
    "duration": 9,
    "start_time": "2022-09-08T14:29:09.028Z"
   },
   {
    "duration": 32,
    "start_time": "2022-09-08T14:29:09.038Z"
   },
   {
    "duration": 452,
    "start_time": "2022-09-08T14:30:17.080Z"
   },
   {
    "duration": 183,
    "start_time": "2022-09-08T14:30:17.534Z"
   },
   {
    "duration": 18,
    "start_time": "2022-09-08T14:30:17.719Z"
   },
   {
    "duration": 44,
    "start_time": "2022-09-08T14:30:17.738Z"
   },
   {
    "duration": 6,
    "start_time": "2022-09-08T14:30:17.786Z"
   },
   {
    "duration": 8,
    "start_time": "2022-09-08T14:30:17.794Z"
   },
   {
    "duration": 13,
    "start_time": "2022-09-08T14:30:17.804Z"
   },
   {
    "duration": 7,
    "start_time": "2022-09-08T14:30:17.819Z"
   },
   {
    "duration": 57,
    "start_time": "2022-09-08T14:30:17.828Z"
   },
   {
    "duration": 21,
    "start_time": "2022-09-08T14:30:17.888Z"
   },
   {
    "duration": 24,
    "start_time": "2022-09-08T14:30:17.911Z"
   },
   {
    "duration": 97,
    "start_time": "2022-09-08T14:30:17.936Z"
   },
   {
    "duration": 94,
    "start_time": "2022-09-08T14:30:18.034Z"
   },
   {
    "duration": 86,
    "start_time": "2022-09-08T14:30:18.131Z"
   },
   {
    "duration": 52,
    "start_time": "2022-09-08T14:30:18.218Z"
   },
   {
    "duration": 13,
    "start_time": "2022-09-08T14:30:18.273Z"
   },
   {
    "duration": 40,
    "start_time": "2022-09-08T14:30:18.288Z"
   },
   {
    "duration": 11,
    "start_time": "2022-09-08T14:30:18.330Z"
   },
   {
    "duration": 41,
    "start_time": "2022-09-08T14:30:18.343Z"
   },
   {
    "duration": 6,
    "start_time": "2022-09-08T14:30:18.386Z"
   },
   {
    "duration": 22,
    "start_time": "2022-09-08T14:30:18.394Z"
   },
   {
    "duration": 14,
    "start_time": "2022-09-08T14:30:18.417Z"
   },
   {
    "duration": 35,
    "start_time": "2022-09-08T14:30:18.433Z"
   },
   {
    "duration": 20,
    "start_time": "2022-09-08T14:30:18.471Z"
   },
   {
    "duration": 26,
    "start_time": "2022-09-08T14:30:18.492Z"
   },
   {
    "duration": 24,
    "start_time": "2022-09-08T14:30:18.519Z"
   },
   {
    "duration": 10,
    "start_time": "2022-09-08T14:30:18.545Z"
   },
   {
    "duration": 32,
    "start_time": "2022-09-08T14:30:18.568Z"
   },
   {
    "duration": 23,
    "start_time": "2022-09-08T14:30:18.601Z"
   },
   {
    "duration": 15,
    "start_time": "2022-09-08T14:30:18.626Z"
   },
   {
    "duration": 50,
    "start_time": "2022-09-08T14:30:18.642Z"
   },
   {
    "duration": 14,
    "start_time": "2022-09-08T14:30:18.694Z"
   },
   {
    "duration": 26,
    "start_time": "2022-09-08T14:30:18.710Z"
   },
   {
    "duration": 19,
    "start_time": "2022-09-08T14:30:18.738Z"
   },
   {
    "duration": 30,
    "start_time": "2022-09-08T14:30:18.759Z"
   },
   {
    "duration": 7,
    "start_time": "2022-09-08T14:30:18.791Z"
   },
   {
    "duration": 13,
    "start_time": "2022-09-08T14:30:18.800Z"
   },
   {
    "duration": 17,
    "start_time": "2022-09-08T14:30:18.814Z"
   },
   {
    "duration": 4,
    "start_time": "2022-09-08T14:30:45.857Z"
   },
   {
    "duration": 191,
    "start_time": "2022-09-08T14:30:45.863Z"
   },
   {
    "duration": 17,
    "start_time": "2022-09-08T14:30:46.056Z"
   },
   {
    "duration": 39,
    "start_time": "2022-09-08T14:30:46.074Z"
   },
   {
    "duration": 2,
    "start_time": "2022-09-08T14:30:46.115Z"
   },
   {
    "duration": 7,
    "start_time": "2022-09-08T14:30:46.119Z"
   },
   {
    "duration": 13,
    "start_time": "2022-09-08T14:30:46.127Z"
   },
   {
    "duration": 29,
    "start_time": "2022-09-08T14:30:46.142Z"
   },
   {
    "duration": 30,
    "start_time": "2022-09-08T14:30:46.174Z"
   },
   {
    "duration": 17,
    "start_time": "2022-09-08T14:30:46.206Z"
   },
   {
    "duration": 46,
    "start_time": "2022-09-08T14:30:46.225Z"
   },
   {
    "duration": 3,
    "start_time": "2022-09-08T14:31:30.838Z"
   },
   {
    "duration": 189,
    "start_time": "2022-09-08T14:31:30.844Z"
   },
   {
    "duration": 12,
    "start_time": "2022-09-08T14:31:31.034Z"
   },
   {
    "duration": 39,
    "start_time": "2022-09-08T14:31:31.049Z"
   },
   {
    "duration": 27,
    "start_time": "2022-09-08T14:31:31.090Z"
   },
   {
    "duration": 40,
    "start_time": "2022-09-08T14:31:31.119Z"
   },
   {
    "duration": 24,
    "start_time": "2022-09-08T14:31:31.161Z"
   },
   {
    "duration": 11,
    "start_time": "2022-09-08T14:31:31.187Z"
   },
   {
    "duration": 34,
    "start_time": "2022-09-08T14:31:31.200Z"
   },
   {
    "duration": 26,
    "start_time": "2022-09-08T14:31:31.236Z"
   },
   {
    "duration": 32,
    "start_time": "2022-09-08T14:31:31.264Z"
   },
   {
    "duration": 68,
    "start_time": "2022-09-08T14:31:31.297Z"
   },
   {
    "duration": 5,
    "start_time": "2022-09-08T14:31:53.478Z"
   },
   {
    "duration": 174,
    "start_time": "2022-09-08T14:31:53.486Z"
   },
   {
    "duration": 21,
    "start_time": "2022-09-08T14:31:53.662Z"
   },
   {
    "duration": 35,
    "start_time": "2022-09-08T14:31:53.687Z"
   },
   {
    "duration": 2,
    "start_time": "2022-09-08T14:31:53.724Z"
   },
   {
    "duration": 6,
    "start_time": "2022-09-08T14:31:53.728Z"
   },
   {
    "duration": 8,
    "start_time": "2022-09-08T14:31:53.736Z"
   },
   {
    "duration": 24,
    "start_time": "2022-09-08T14:31:53.746Z"
   },
   {
    "duration": 32,
    "start_time": "2022-09-08T14:31:53.774Z"
   },
   {
    "duration": 19,
    "start_time": "2022-09-08T14:31:53.807Z"
   },
   {
    "duration": 46,
    "start_time": "2022-09-08T14:31:53.828Z"
   },
   {
    "duration": 65,
    "start_time": "2022-09-08T14:31:53.877Z"
   },
   {
    "duration": 92,
    "start_time": "2022-09-08T14:31:53.944Z"
   },
   {
    "duration": 4,
    "start_time": "2022-09-08T14:32:25.125Z"
   },
   {
    "duration": 190,
    "start_time": "2022-09-08T14:32:25.130Z"
   },
   {
    "duration": 11,
    "start_time": "2022-09-08T14:32:25.322Z"
   },
   {
    "duration": 47,
    "start_time": "2022-09-08T14:32:25.335Z"
   },
   {
    "duration": 3,
    "start_time": "2022-09-08T14:32:25.385Z"
   },
   {
    "duration": 12,
    "start_time": "2022-09-08T14:32:25.390Z"
   },
   {
    "duration": 14,
    "start_time": "2022-09-08T14:32:25.404Z"
   },
   {
    "duration": 6,
    "start_time": "2022-09-08T14:32:25.420Z"
   },
   {
    "duration": 41,
    "start_time": "2022-09-08T14:32:25.428Z"
   },
   {
    "duration": 24,
    "start_time": "2022-09-08T14:32:25.472Z"
   },
   {
    "duration": 25,
    "start_time": "2022-09-08T14:32:25.498Z"
   },
   {
    "duration": 90,
    "start_time": "2022-09-08T14:32:25.524Z"
   },
   {
    "duration": 94,
    "start_time": "2022-09-08T14:32:25.616Z"
   },
   {
    "duration": 71,
    "start_time": "2022-09-08T14:32:25.712Z"
   },
   {
    "duration": 3,
    "start_time": "2022-09-08T14:33:05.569Z"
   },
   {
    "duration": 179,
    "start_time": "2022-09-08T14:33:05.573Z"
   },
   {
    "duration": 15,
    "start_time": "2022-09-08T14:33:05.754Z"
   },
   {
    "duration": 34,
    "start_time": "2022-09-08T14:33:05.772Z"
   },
   {
    "duration": 3,
    "start_time": "2022-09-08T14:33:05.807Z"
   },
   {
    "duration": 8,
    "start_time": "2022-09-08T14:33:05.811Z"
   },
   {
    "duration": 14,
    "start_time": "2022-09-08T14:33:05.820Z"
   },
   {
    "duration": 7,
    "start_time": "2022-09-08T14:33:05.836Z"
   },
   {
    "duration": 53,
    "start_time": "2022-09-08T14:33:05.845Z"
   },
   {
    "duration": 18,
    "start_time": "2022-09-08T14:33:05.900Z"
   },
   {
    "duration": 25,
    "start_time": "2022-09-08T14:33:05.920Z"
   },
   {
    "duration": 81,
    "start_time": "2022-09-08T14:33:05.947Z"
   },
   {
    "duration": 82,
    "start_time": "2022-09-08T14:33:06.030Z"
   },
   {
    "duration": 68,
    "start_time": "2022-09-08T14:33:06.114Z"
   },
   {
    "duration": 37,
    "start_time": "2022-09-08T14:33:06.183Z"
   },
   {
    "duration": 3,
    "start_time": "2022-09-08T14:33:54.299Z"
   },
   {
    "duration": 187,
    "start_time": "2022-09-08T14:33:54.304Z"
   },
   {
    "duration": 11,
    "start_time": "2022-09-08T14:33:54.493Z"
   },
   {
    "duration": 31,
    "start_time": "2022-09-08T14:33:54.506Z"
   },
   {
    "duration": 2,
    "start_time": "2022-09-08T14:33:54.540Z"
   },
   {
    "duration": 27,
    "start_time": "2022-09-08T14:33:54.543Z"
   },
   {
    "duration": 17,
    "start_time": "2022-09-08T14:33:54.573Z"
   },
   {
    "duration": 7,
    "start_time": "2022-09-08T14:33:54.593Z"
   },
   {
    "duration": 26,
    "start_time": "2022-09-08T14:33:54.602Z"
   },
   {
    "duration": 47,
    "start_time": "2022-09-08T14:33:54.629Z"
   },
   {
    "duration": 26,
    "start_time": "2022-09-08T14:33:54.679Z"
   },
   {
    "duration": 84,
    "start_time": "2022-09-08T14:33:54.707Z"
   },
   {
    "duration": 78,
    "start_time": "2022-09-08T14:33:54.793Z"
   },
   {
    "duration": 68,
    "start_time": "2022-09-08T14:33:54.873Z"
   },
   {
    "duration": 57,
    "start_time": "2022-09-08T14:33:54.943Z"
   },
   {
    "duration": 12,
    "start_time": "2022-09-08T14:33:55.002Z"
   },
   {
    "duration": 3,
    "start_time": "2022-09-08T14:34:05.231Z"
   },
   {
    "duration": 198,
    "start_time": "2022-09-08T14:34:05.236Z"
   },
   {
    "duration": 13,
    "start_time": "2022-09-08T14:34:05.437Z"
   },
   {
    "duration": 54,
    "start_time": "2022-09-08T14:34:05.451Z"
   },
   {
    "duration": 5,
    "start_time": "2022-09-08T14:34:05.508Z"
   },
   {
    "duration": 8,
    "start_time": "2022-09-08T14:34:05.515Z"
   },
   {
    "duration": 17,
    "start_time": "2022-09-08T14:34:05.525Z"
   },
   {
    "duration": 7,
    "start_time": "2022-09-08T14:34:05.545Z"
   },
   {
    "duration": 49,
    "start_time": "2022-09-08T14:34:05.553Z"
   },
   {
    "duration": 17,
    "start_time": "2022-09-08T14:34:05.604Z"
   },
   {
    "duration": 23,
    "start_time": "2022-09-08T14:34:05.623Z"
   },
   {
    "duration": 85,
    "start_time": "2022-09-08T14:34:05.648Z"
   },
   {
    "duration": 88,
    "start_time": "2022-09-08T14:34:05.735Z"
   },
   {
    "duration": 79,
    "start_time": "2022-09-08T14:34:05.826Z"
   },
   {
    "duration": 36,
    "start_time": "2022-09-08T14:34:05.907Z"
   },
   {
    "duration": 29,
    "start_time": "2022-09-08T14:34:05.945Z"
   },
   {
    "duration": 3,
    "start_time": "2022-09-08T14:34:33.824Z"
   },
   {
    "duration": 167,
    "start_time": "2022-09-08T14:34:33.829Z"
   },
   {
    "duration": 13,
    "start_time": "2022-09-08T14:34:33.998Z"
   },
   {
    "duration": 34,
    "start_time": "2022-09-08T14:34:34.013Z"
   },
   {
    "duration": 18,
    "start_time": "2022-09-08T14:34:34.049Z"
   },
   {
    "duration": 5,
    "start_time": "2022-09-08T14:34:34.069Z"
   },
   {
    "duration": 21,
    "start_time": "2022-09-08T14:34:34.077Z"
   },
   {
    "duration": 7,
    "start_time": "2022-09-08T14:34:34.100Z"
   },
   {
    "duration": 60,
    "start_time": "2022-09-08T14:34:34.111Z"
   },
   {
    "duration": 19,
    "start_time": "2022-09-08T14:34:34.172Z"
   },
   {
    "duration": 46,
    "start_time": "2022-09-08T14:34:34.192Z"
   },
   {
    "duration": 87,
    "start_time": "2022-09-08T14:34:34.240Z"
   },
   {
    "duration": 89,
    "start_time": "2022-09-08T14:34:34.329Z"
   },
   {
    "duration": 69,
    "start_time": "2022-09-08T14:34:34.420Z"
   },
   {
    "duration": 36,
    "start_time": "2022-09-08T14:34:34.491Z"
   },
   {
    "duration": 10,
    "start_time": "2022-09-08T14:34:34.529Z"
   },
   {
    "duration": 52,
    "start_time": "2022-09-08T14:34:34.541Z"
   },
   {
    "duration": 3,
    "start_time": "2022-09-08T14:35:02.232Z"
   },
   {
    "duration": 190,
    "start_time": "2022-09-08T14:35:02.238Z"
   },
   {
    "duration": 12,
    "start_time": "2022-09-08T14:35:02.430Z"
   },
   {
    "duration": 43,
    "start_time": "2022-09-08T14:35:02.444Z"
   },
   {
    "duration": 8,
    "start_time": "2022-09-08T14:35:02.489Z"
   },
   {
    "duration": 13,
    "start_time": "2022-09-08T14:35:02.499Z"
   },
   {
    "duration": 30,
    "start_time": "2022-09-08T14:35:02.514Z"
   },
   {
    "duration": 10,
    "start_time": "2022-09-08T14:35:02.546Z"
   },
   {
    "duration": 30,
    "start_time": "2022-09-08T14:35:02.558Z"
   },
   {
    "duration": 22,
    "start_time": "2022-09-08T14:35:02.590Z"
   },
   {
    "duration": 31,
    "start_time": "2022-09-08T14:35:02.614Z"
   },
   {
    "duration": 82,
    "start_time": "2022-09-08T14:35:02.647Z"
   },
   {
    "duration": 80,
    "start_time": "2022-09-08T14:35:02.730Z"
   },
   {
    "duration": 74,
    "start_time": "2022-09-08T14:35:02.812Z"
   },
   {
    "duration": 38,
    "start_time": "2022-09-08T14:35:02.887Z"
   },
   {
    "duration": 10,
    "start_time": "2022-09-08T14:35:02.927Z"
   },
   {
    "duration": 57,
    "start_time": "2022-09-08T14:35:02.939Z"
   },
   {
    "duration": 12,
    "start_time": "2022-09-08T14:35:02.998Z"
   },
   {
    "duration": 2,
    "start_time": "2022-09-08T14:35:23.592Z"
   },
   {
    "duration": 175,
    "start_time": "2022-09-08T14:35:23.597Z"
   },
   {
    "duration": 15,
    "start_time": "2022-09-08T14:35:23.775Z"
   },
   {
    "duration": 32,
    "start_time": "2022-09-08T14:35:23.792Z"
   },
   {
    "duration": 3,
    "start_time": "2022-09-08T14:35:23.826Z"
   },
   {
    "duration": 6,
    "start_time": "2022-09-08T14:35:23.831Z"
   },
   {
    "duration": 37,
    "start_time": "2022-09-08T14:35:23.839Z"
   },
   {
    "duration": 19,
    "start_time": "2022-09-08T14:35:23.878Z"
   },
   {
    "duration": 32,
    "start_time": "2022-09-08T14:35:23.900Z"
   },
   {
    "duration": 18,
    "start_time": "2022-09-08T14:35:23.934Z"
   },
   {
    "duration": 44,
    "start_time": "2022-09-08T14:35:23.954Z"
   },
   {
    "duration": 76,
    "start_time": "2022-09-08T14:35:24.000Z"
   },
   {
    "duration": 70,
    "start_time": "2022-09-08T14:35:24.078Z"
   },
   {
    "duration": 75,
    "start_time": "2022-09-08T14:35:24.149Z"
   },
   {
    "duration": 46,
    "start_time": "2022-09-08T14:35:24.226Z"
   },
   {
    "duration": 15,
    "start_time": "2022-09-08T14:35:24.275Z"
   },
   {
    "duration": 46,
    "start_time": "2022-09-08T14:35:24.292Z"
   },
   {
    "duration": 13,
    "start_time": "2022-09-08T14:35:24.341Z"
   },
   {
    "duration": 17,
    "start_time": "2022-09-08T14:35:24.373Z"
   },
   {
    "duration": 4,
    "start_time": "2022-09-08T14:36:47.459Z"
   },
   {
    "duration": 171,
    "start_time": "2022-09-08T14:36:47.465Z"
   },
   {
    "duration": 12,
    "start_time": "2022-09-08T14:36:47.638Z"
   },
   {
    "duration": 57,
    "start_time": "2022-09-08T14:36:47.653Z"
   },
   {
    "duration": 3,
    "start_time": "2022-09-08T14:36:47.712Z"
   },
   {
    "duration": 8,
    "start_time": "2022-09-08T14:36:47.716Z"
   },
   {
    "duration": 15,
    "start_time": "2022-09-08T14:36:47.726Z"
   },
   {
    "duration": 7,
    "start_time": "2022-09-08T14:36:47.742Z"
   },
   {
    "duration": 30,
    "start_time": "2022-09-08T14:36:47.751Z"
   },
   {
    "duration": 19,
    "start_time": "2022-09-08T14:36:47.783Z"
   },
   {
    "duration": 24,
    "start_time": "2022-09-08T14:36:47.804Z"
   },
   {
    "duration": 84,
    "start_time": "2022-09-08T14:36:47.829Z"
   },
   {
    "duration": 73,
    "start_time": "2022-09-08T14:36:47.915Z"
   },
   {
    "duration": 59,
    "start_time": "2022-09-08T14:36:47.990Z"
   },
   {
    "duration": 50,
    "start_time": "2022-09-08T14:36:48.051Z"
   },
   {
    "duration": 11,
    "start_time": "2022-09-08T14:36:48.102Z"
   },
   {
    "duration": 53,
    "start_time": "2022-09-08T14:36:48.115Z"
   },
   {
    "duration": 13,
    "start_time": "2022-09-08T14:36:48.170Z"
   },
   {
    "duration": 14,
    "start_time": "2022-09-08T14:36:48.184Z"
   },
   {
    "duration": 4,
    "start_time": "2022-09-08T14:36:48.200Z"
   },
   {
    "duration": 2,
    "start_time": "2022-09-08T14:37:31.039Z"
   },
   {
    "duration": 178,
    "start_time": "2022-09-08T14:37:31.044Z"
   },
   {
    "duration": 11,
    "start_time": "2022-09-08T14:37:31.224Z"
   },
   {
    "duration": 41,
    "start_time": "2022-09-08T14:37:31.237Z"
   },
   {
    "duration": 3,
    "start_time": "2022-09-08T14:37:31.280Z"
   },
   {
    "duration": 12,
    "start_time": "2022-09-08T14:37:31.284Z"
   },
   {
    "duration": 22,
    "start_time": "2022-09-08T14:37:31.297Z"
   },
   {
    "duration": 8,
    "start_time": "2022-09-08T14:37:31.321Z"
   },
   {
    "duration": 40,
    "start_time": "2022-09-08T14:37:31.331Z"
   },
   {
    "duration": 27,
    "start_time": "2022-09-08T14:37:31.373Z"
   },
   {
    "duration": 23,
    "start_time": "2022-09-08T14:37:31.402Z"
   },
   {
    "duration": 89,
    "start_time": "2022-09-08T14:37:31.427Z"
   },
   {
    "duration": 95,
    "start_time": "2022-09-08T14:37:31.518Z"
   },
   {
    "duration": 67,
    "start_time": "2022-09-08T14:37:31.614Z"
   },
   {
    "duration": 37,
    "start_time": "2022-09-08T14:37:31.682Z"
   },
   {
    "duration": 12,
    "start_time": "2022-09-08T14:37:31.721Z"
   },
   {
    "duration": 54,
    "start_time": "2022-09-08T14:37:31.734Z"
   },
   {
    "duration": 13,
    "start_time": "2022-09-08T14:37:31.790Z"
   },
   {
    "duration": 13,
    "start_time": "2022-09-08T14:37:31.805Z"
   },
   {
    "duration": 4,
    "start_time": "2022-09-08T14:37:31.819Z"
   },
   {
    "duration": 44,
    "start_time": "2022-09-08T14:37:31.825Z"
   },
   {
    "duration": 3,
    "start_time": "2022-09-08T14:37:57.832Z"
   },
   {
    "duration": 163,
    "start_time": "2022-09-08T14:37:57.838Z"
   },
   {
    "duration": 11,
    "start_time": "2022-09-08T14:37:58.002Z"
   },
   {
    "duration": 38,
    "start_time": "2022-09-08T14:37:58.015Z"
   },
   {
    "duration": 13,
    "start_time": "2022-09-08T14:37:58.055Z"
   },
   {
    "duration": 4,
    "start_time": "2022-09-08T14:37:58.070Z"
   },
   {
    "duration": 12,
    "start_time": "2022-09-08T14:37:58.076Z"
   },
   {
    "duration": 6,
    "start_time": "2022-09-08T14:37:58.089Z"
   },
   {
    "duration": 22,
    "start_time": "2022-09-08T14:37:58.097Z"
   },
   {
    "duration": 16,
    "start_time": "2022-09-08T14:37:58.121Z"
   },
   {
    "duration": 22,
    "start_time": "2022-09-08T14:37:58.168Z"
   },
   {
    "duration": 57,
    "start_time": "2022-09-08T14:37:58.192Z"
   },
   {
    "duration": 79,
    "start_time": "2022-09-08T14:37:58.250Z"
   },
   {
    "duration": 69,
    "start_time": "2022-09-08T14:37:58.331Z"
   },
   {
    "duration": 34,
    "start_time": "2022-09-08T14:37:58.402Z"
   },
   {
    "duration": 29,
    "start_time": "2022-09-08T14:37:58.438Z"
   },
   {
    "duration": 36,
    "start_time": "2022-09-08T14:37:58.469Z"
   },
   {
    "duration": 13,
    "start_time": "2022-09-08T14:37:58.506Z"
   },
   {
    "duration": 13,
    "start_time": "2022-09-08T14:37:58.520Z"
   },
   {
    "duration": 34,
    "start_time": "2022-09-08T14:37:58.535Z"
   },
   {
    "duration": 18,
    "start_time": "2022-09-08T14:37:58.570Z"
   },
   {
    "duration": 13,
    "start_time": "2022-09-08T14:37:58.590Z"
   },
   {
    "duration": 3,
    "start_time": "2022-09-08T14:38:13.233Z"
   },
   {
    "duration": 181,
    "start_time": "2022-09-08T14:38:13.238Z"
   },
   {
    "duration": 11,
    "start_time": "2022-09-08T14:38:13.421Z"
   },
   {
    "duration": 47,
    "start_time": "2022-09-08T14:38:13.434Z"
   },
   {
    "duration": 4,
    "start_time": "2022-09-08T14:38:13.483Z"
   },
   {
    "duration": 13,
    "start_time": "2022-09-08T14:38:13.489Z"
   },
   {
    "duration": 13,
    "start_time": "2022-09-08T14:38:13.504Z"
   },
   {
    "duration": 12,
    "start_time": "2022-09-08T14:38:13.518Z"
   },
   {
    "duration": 37,
    "start_time": "2022-09-08T14:38:13.532Z"
   },
   {
    "duration": 24,
    "start_time": "2022-09-08T14:38:13.571Z"
   },
   {
    "duration": 23,
    "start_time": "2022-09-08T14:38:13.597Z"
   },
   {
    "duration": 94,
    "start_time": "2022-09-08T14:38:13.622Z"
   },
   {
    "duration": 81,
    "start_time": "2022-09-08T14:38:13.718Z"
   },
   {
    "duration": 56,
    "start_time": "2022-09-08T14:38:13.801Z"
   },
   {
    "duration": 61,
    "start_time": "2022-09-08T14:38:13.868Z"
   },
   {
    "duration": 16,
    "start_time": "2022-09-08T14:38:13.931Z"
   },
   {
    "duration": 70,
    "start_time": "2022-09-08T14:38:13.949Z"
   },
   {
    "duration": 13,
    "start_time": "2022-09-08T14:38:14.020Z"
   },
   {
    "duration": 38,
    "start_time": "2022-09-08T14:38:14.035Z"
   },
   {
    "duration": 5,
    "start_time": "2022-09-08T14:38:14.076Z"
   },
   {
    "duration": 29,
    "start_time": "2022-09-08T14:38:14.084Z"
   },
   {
    "duration": 16,
    "start_time": "2022-09-08T14:38:14.115Z"
   },
   {
    "duration": 16,
    "start_time": "2022-09-08T14:38:14.133Z"
   },
   {
    "duration": 37,
    "start_time": "2022-09-08T14:38:14.152Z"
   },
   {
    "duration": 18,
    "start_time": "2022-09-08T14:38:14.191Z"
   },
   {
    "duration": 15,
    "start_time": "2022-09-08T14:38:14.211Z"
   },
   {
    "duration": 7,
    "start_time": "2022-09-08T14:38:14.228Z"
   },
   {
    "duration": 3,
    "start_time": "2022-09-08T14:39:01.139Z"
   },
   {
    "duration": 192,
    "start_time": "2022-09-08T14:39:01.144Z"
   },
   {
    "duration": 12,
    "start_time": "2022-09-08T14:39:01.338Z"
   },
   {
    "duration": 70,
    "start_time": "2022-09-08T14:39:01.352Z"
   },
   {
    "duration": 3,
    "start_time": "2022-09-08T14:39:01.424Z"
   },
   {
    "duration": 9,
    "start_time": "2022-09-08T14:39:01.429Z"
   },
   {
    "duration": 17,
    "start_time": "2022-09-08T14:39:01.439Z"
   },
   {
    "duration": 8,
    "start_time": "2022-09-08T14:39:01.457Z"
   },
   {
    "duration": 33,
    "start_time": "2022-09-08T14:39:01.468Z"
   },
   {
    "duration": 56,
    "start_time": "2022-09-08T14:39:01.503Z"
   },
   {
    "duration": 27,
    "start_time": "2022-09-08T14:39:01.562Z"
   },
   {
    "duration": 83,
    "start_time": "2022-09-08T14:39:01.590Z"
   },
   {
    "duration": 68,
    "start_time": "2022-09-08T14:39:01.675Z"
   },
   {
    "duration": 72,
    "start_time": "2022-09-08T14:39:01.745Z"
   },
   {
    "duration": 52,
    "start_time": "2022-09-08T14:39:01.819Z"
   },
   {
    "duration": 12,
    "start_time": "2022-09-08T14:39:01.873Z"
   },
   {
    "duration": 55,
    "start_time": "2022-09-08T14:39:01.887Z"
   },
   {
    "duration": 24,
    "start_time": "2022-09-08T14:39:01.944Z"
   },
   {
    "duration": 18,
    "start_time": "2022-09-08T14:39:01.970Z"
   },
   {
    "duration": 4,
    "start_time": "2022-09-08T14:39:01.990Z"
   },
   {
    "duration": 23,
    "start_time": "2022-09-08T14:39:01.995Z"
   },
   {
    "duration": 16,
    "start_time": "2022-09-08T14:39:02.020Z"
   },
   {
    "duration": 39,
    "start_time": "2022-09-08T14:39:02.038Z"
   },
   {
    "duration": 13,
    "start_time": "2022-09-08T14:39:02.079Z"
   },
   {
    "duration": 28,
    "start_time": "2022-09-08T14:39:02.094Z"
   },
   {
    "duration": 17,
    "start_time": "2022-09-08T14:39:02.124Z"
   },
   {
    "duration": 27,
    "start_time": "2022-09-08T14:39:02.142Z"
   },
   {
    "duration": 18,
    "start_time": "2022-09-08T14:39:02.171Z"
   },
   {
    "duration": 13,
    "start_time": "2022-09-08T14:39:02.192Z"
   },
   {
    "duration": 3,
    "start_time": "2022-09-08T14:39:47.170Z"
   },
   {
    "duration": 159,
    "start_time": "2022-09-08T14:39:47.175Z"
   },
   {
    "duration": 11,
    "start_time": "2022-09-08T14:39:47.335Z"
   },
   {
    "duration": 42,
    "start_time": "2022-09-08T14:39:47.348Z"
   },
   {
    "duration": 2,
    "start_time": "2022-09-08T14:39:47.392Z"
   },
   {
    "duration": 7,
    "start_time": "2022-09-08T14:39:47.396Z"
   },
   {
    "duration": 16,
    "start_time": "2022-09-08T14:39:47.404Z"
   },
   {
    "duration": 12,
    "start_time": "2022-09-08T14:39:47.421Z"
   },
   {
    "duration": 36,
    "start_time": "2022-09-08T14:39:47.436Z"
   },
   {
    "duration": 18,
    "start_time": "2022-09-08T14:39:47.474Z"
   },
   {
    "duration": 25,
    "start_time": "2022-09-08T14:39:47.494Z"
   },
   {
    "duration": 82,
    "start_time": "2022-09-08T14:39:47.520Z"
   },
   {
    "duration": 74,
    "start_time": "2022-09-08T14:39:47.604Z"
   },
   {
    "duration": 93,
    "start_time": "2022-09-08T14:39:47.679Z"
   },
   {
    "duration": 34,
    "start_time": "2022-09-08T14:39:47.774Z"
   },
   {
    "duration": 10,
    "start_time": "2022-09-08T14:39:47.810Z"
   },
   {
    "duration": 56,
    "start_time": "2022-09-08T14:39:47.822Z"
   },
   {
    "duration": 11,
    "start_time": "2022-09-08T14:39:47.880Z"
   },
   {
    "duration": 11,
    "start_time": "2022-09-08T14:39:47.893Z"
   },
   {
    "duration": 3,
    "start_time": "2022-09-08T14:39:47.906Z"
   },
   {
    "duration": 20,
    "start_time": "2022-09-08T14:39:47.911Z"
   },
   {
    "duration": 38,
    "start_time": "2022-09-08T14:39:47.932Z"
   },
   {
    "duration": 15,
    "start_time": "2022-09-08T14:39:47.972Z"
   },
   {
    "duration": 13,
    "start_time": "2022-09-08T14:39:47.990Z"
   },
   {
    "duration": 16,
    "start_time": "2022-09-08T14:39:48.005Z"
   },
   {
    "duration": 14,
    "start_time": "2022-09-08T14:39:48.022Z"
   },
   {
    "duration": 7,
    "start_time": "2022-09-08T14:39:48.068Z"
   },
   {
    "duration": 13,
    "start_time": "2022-09-08T14:39:48.077Z"
   },
   {
    "duration": 10,
    "start_time": "2022-09-08T14:39:48.091Z"
   },
   {
    "duration": 5,
    "start_time": "2022-09-08T14:39:48.103Z"
   },
   {
    "duration": 2,
    "start_time": "2022-09-08T14:40:22.143Z"
   },
   {
    "duration": 177,
    "start_time": "2022-09-08T14:40:22.147Z"
   },
   {
    "duration": 12,
    "start_time": "2022-09-08T14:40:22.325Z"
   },
   {
    "duration": 44,
    "start_time": "2022-09-08T14:40:22.339Z"
   },
   {
    "duration": 2,
    "start_time": "2022-09-08T14:40:22.385Z"
   },
   {
    "duration": 6,
    "start_time": "2022-09-08T14:40:22.389Z"
   },
   {
    "duration": 9,
    "start_time": "2022-09-08T14:40:22.397Z"
   },
   {
    "duration": 5,
    "start_time": "2022-09-08T14:40:22.407Z"
   },
   {
    "duration": 28,
    "start_time": "2022-09-08T14:40:22.414Z"
   },
   {
    "duration": 40,
    "start_time": "2022-09-08T14:40:22.443Z"
   },
   {
    "duration": 28,
    "start_time": "2022-09-08T14:40:22.485Z"
   },
   {
    "duration": 79,
    "start_time": "2022-09-08T14:40:22.515Z"
   },
   {
    "duration": 75,
    "start_time": "2022-09-08T14:40:22.596Z"
   },
   {
    "duration": 59,
    "start_time": "2022-09-08T14:40:22.673Z"
   },
   {
    "duration": 52,
    "start_time": "2022-09-08T14:40:22.734Z"
   },
   {
    "duration": 10,
    "start_time": "2022-09-08T14:40:22.788Z"
   },
   {
    "duration": 37,
    "start_time": "2022-09-08T14:40:22.800Z"
   },
   {
    "duration": 30,
    "start_time": "2022-09-08T14:40:22.839Z"
   },
   {
    "duration": 13,
    "start_time": "2022-09-08T14:40:22.870Z"
   },
   {
    "duration": 4,
    "start_time": "2022-09-08T14:40:22.885Z"
   },
   {
    "duration": 21,
    "start_time": "2022-09-08T14:40:22.890Z"
   },
   {
    "duration": 14,
    "start_time": "2022-09-08T14:40:22.913Z"
   },
   {
    "duration": 40,
    "start_time": "2022-09-08T14:40:22.929Z"
   },
   {
    "duration": 14,
    "start_time": "2022-09-08T14:40:22.972Z"
   },
   {
    "duration": 15,
    "start_time": "2022-09-08T14:40:22.988Z"
   },
   {
    "duration": 14,
    "start_time": "2022-09-08T14:40:23.005Z"
   },
   {
    "duration": 6,
    "start_time": "2022-09-08T14:40:23.021Z"
   },
   {
    "duration": 46,
    "start_time": "2022-09-08T14:40:23.029Z"
   },
   {
    "duration": 10,
    "start_time": "2022-09-08T14:40:23.077Z"
   },
   {
    "duration": 4,
    "start_time": "2022-09-08T14:40:23.089Z"
   },
   {
    "duration": 23,
    "start_time": "2022-09-08T14:40:23.095Z"
   },
   {
    "duration": 13,
    "start_time": "2022-09-08T14:40:23.119Z"
   },
   {
    "duration": 47,
    "start_time": "2022-09-08T14:40:23.133Z"
   },
   {
    "duration": 14,
    "start_time": "2022-09-08T14:40:23.182Z"
   },
   {
    "duration": 3,
    "start_time": "2022-09-08T14:41:32.855Z"
   },
   {
    "duration": 246,
    "start_time": "2022-09-08T14:41:32.860Z"
   },
   {
    "duration": 13,
    "start_time": "2022-09-08T14:41:33.108Z"
   },
   {
    "duration": 40,
    "start_time": "2022-09-08T14:41:33.123Z"
   },
   {
    "duration": 29,
    "start_time": "2022-09-08T14:41:33.168Z"
   },
   {
    "duration": 17,
    "start_time": "2022-09-08T14:41:33.201Z"
   },
   {
    "duration": 26,
    "start_time": "2022-09-08T14:41:33.220Z"
   },
   {
    "duration": 4,
    "start_time": "2022-09-08T14:41:33.248Z"
   },
   {
    "duration": 65,
    "start_time": "2022-09-08T14:41:33.253Z"
   },
   {
    "duration": 23,
    "start_time": "2022-09-08T14:41:33.320Z"
   },
   {
    "duration": 30,
    "start_time": "2022-09-08T14:41:33.347Z"
   },
   {
    "duration": 91,
    "start_time": "2022-09-08T14:41:33.379Z"
   },
   {
    "duration": 89,
    "start_time": "2022-09-08T14:41:33.472Z"
   },
   {
    "duration": 70,
    "start_time": "2022-09-08T14:41:33.563Z"
   },
   {
    "duration": 69,
    "start_time": "2022-09-08T14:41:33.635Z"
   },
   {
    "duration": 10,
    "start_time": "2022-09-08T14:41:33.707Z"
   },
   {
    "duration": 38,
    "start_time": "2022-09-08T14:41:33.719Z"
   },
   {
    "duration": 16,
    "start_time": "2022-09-08T14:41:33.767Z"
   },
   {
    "duration": 44,
    "start_time": "2022-09-08T14:41:33.785Z"
   },
   {
    "duration": 4,
    "start_time": "2022-09-08T14:41:33.831Z"
   },
   {
    "duration": 24,
    "start_time": "2022-09-08T14:41:33.837Z"
   },
   {
    "duration": 22,
    "start_time": "2022-09-08T14:41:33.863Z"
   },
   {
    "duration": 32,
    "start_time": "2022-09-08T14:41:33.888Z"
   },
   {
    "duration": 14,
    "start_time": "2022-09-08T14:41:33.922Z"
   },
   {
    "duration": 17,
    "start_time": "2022-09-08T14:41:33.938Z"
   },
   {
    "duration": 22,
    "start_time": "2022-09-08T14:41:33.968Z"
   },
   {
    "duration": 19,
    "start_time": "2022-09-08T14:41:33.992Z"
   },
   {
    "duration": 16,
    "start_time": "2022-09-08T14:41:34.013Z"
   },
   {
    "duration": 11,
    "start_time": "2022-09-08T14:41:34.032Z"
   },
   {
    "duration": 10,
    "start_time": "2022-09-08T14:41:34.045Z"
   },
   {
    "duration": 42,
    "start_time": "2022-09-08T14:41:34.068Z"
   },
   {
    "duration": 13,
    "start_time": "2022-09-08T14:41:34.112Z"
   },
   {
    "duration": 26,
    "start_time": "2022-09-08T14:41:34.127Z"
   },
   {
    "duration": 18,
    "start_time": "2022-09-08T14:41:34.155Z"
   },
   {
    "duration": 29,
    "start_time": "2022-09-08T14:41:34.174Z"
   },
   {
    "duration": 14,
    "start_time": "2022-09-08T14:41:34.205Z"
   },
   {
    "duration": 4,
    "start_time": "2022-09-08T14:41:52.007Z"
   },
   {
    "duration": 188,
    "start_time": "2022-09-08T14:41:52.013Z"
   },
   {
    "duration": 12,
    "start_time": "2022-09-08T14:41:52.203Z"
   },
   {
    "duration": 35,
    "start_time": "2022-09-08T14:41:52.216Z"
   },
   {
    "duration": 3,
    "start_time": "2022-09-08T14:41:52.253Z"
   },
   {
    "duration": 5,
    "start_time": "2022-09-08T14:41:52.269Z"
   },
   {
    "duration": 22,
    "start_time": "2022-09-08T14:41:52.276Z"
   },
   {
    "duration": 11,
    "start_time": "2022-09-08T14:41:52.300Z"
   },
   {
    "duration": 34,
    "start_time": "2022-09-08T14:41:52.313Z"
   },
   {
    "duration": 28,
    "start_time": "2022-09-08T14:41:52.349Z"
   },
   {
    "duration": 34,
    "start_time": "2022-09-08T14:41:52.380Z"
   },
   {
    "duration": 82,
    "start_time": "2022-09-08T14:41:52.416Z"
   },
   {
    "duration": 79,
    "start_time": "2022-09-08T14:41:52.500Z"
   },
   {
    "duration": 57,
    "start_time": "2022-09-08T14:41:52.582Z"
   },
   {
    "duration": 56,
    "start_time": "2022-09-08T14:41:52.641Z"
   },
   {
    "duration": 10,
    "start_time": "2022-09-08T14:41:52.699Z"
   },
   {
    "duration": 51,
    "start_time": "2022-09-08T14:41:52.710Z"
   },
   {
    "duration": 19,
    "start_time": "2022-09-08T14:41:52.774Z"
   },
   {
    "duration": 11,
    "start_time": "2022-09-08T14:41:52.794Z"
   },
   {
    "duration": 4,
    "start_time": "2022-09-08T14:41:52.807Z"
   },
   {
    "duration": 20,
    "start_time": "2022-09-08T14:41:52.812Z"
   },
   {
    "duration": 13,
    "start_time": "2022-09-08T14:41:52.834Z"
   },
   {
    "duration": 33,
    "start_time": "2022-09-08T14:41:52.849Z"
   },
   {
    "duration": 15,
    "start_time": "2022-09-08T14:41:52.885Z"
   },
   {
    "duration": 16,
    "start_time": "2022-09-08T14:41:52.902Z"
   },
   {
    "duration": 14,
    "start_time": "2022-09-08T14:41:52.920Z"
   },
   {
    "duration": 14,
    "start_time": "2022-09-08T14:41:52.974Z"
   },
   {
    "duration": 16,
    "start_time": "2022-09-08T14:41:52.990Z"
   },
   {
    "duration": 10,
    "start_time": "2022-09-08T14:41:53.009Z"
   },
   {
    "duration": 5,
    "start_time": "2022-09-08T14:41:53.021Z"
   },
   {
    "duration": 24,
    "start_time": "2022-09-08T14:41:53.028Z"
   },
   {
    "duration": 21,
    "start_time": "2022-09-08T14:41:53.071Z"
   },
   {
    "duration": 18,
    "start_time": "2022-09-08T14:41:53.093Z"
   },
   {
    "duration": 12,
    "start_time": "2022-09-08T14:41:53.113Z"
   },
   {
    "duration": 9,
    "start_time": "2022-09-08T14:41:53.127Z"
   },
   {
    "duration": 39,
    "start_time": "2022-09-08T14:41:53.138Z"
   },
   {
    "duration": 10,
    "start_time": "2022-09-08T14:41:53.180Z"
   },
   {
    "duration": 3,
    "start_time": "2022-09-08T14:42:18.786Z"
   },
   {
    "duration": 180,
    "start_time": "2022-09-08T14:42:18.791Z"
   },
   {
    "duration": 13,
    "start_time": "2022-09-08T14:42:18.986Z"
   },
   {
    "duration": 30,
    "start_time": "2022-09-08T14:42:19.001Z"
   },
   {
    "duration": 2,
    "start_time": "2022-09-08T14:42:19.033Z"
   },
   {
    "duration": 8,
    "start_time": "2022-09-08T14:42:19.036Z"
   },
   {
    "duration": 16,
    "start_time": "2022-09-08T14:42:19.046Z"
   },
   {
    "duration": 27,
    "start_time": "2022-09-08T14:42:19.069Z"
   },
   {
    "duration": 26,
    "start_time": "2022-09-08T14:42:19.098Z"
   },
   {
    "duration": 18,
    "start_time": "2022-09-08T14:42:19.126Z"
   },
   {
    "duration": 24,
    "start_time": "2022-09-08T14:42:19.145Z"
   },
   {
    "duration": 90,
    "start_time": "2022-09-08T14:42:19.171Z"
   },
   {
    "duration": 84,
    "start_time": "2022-09-08T14:42:19.263Z"
   },
   {
    "duration": 68,
    "start_time": "2022-09-08T14:42:19.349Z"
   },
   {
    "duration": 37,
    "start_time": "2022-09-08T14:42:19.419Z"
   },
   {
    "duration": 38,
    "start_time": "2022-09-08T14:42:19.458Z"
   },
   {
    "duration": 50,
    "start_time": "2022-09-08T14:42:19.501Z"
   },
   {
    "duration": 13,
    "start_time": "2022-09-08T14:42:19.552Z"
   },
   {
    "duration": 26,
    "start_time": "2022-09-08T14:42:19.567Z"
   },
   {
    "duration": 6,
    "start_time": "2022-09-08T14:42:19.595Z"
   },
   {
    "duration": 26,
    "start_time": "2022-09-08T14:42:19.603Z"
   },
   {
    "duration": 13,
    "start_time": "2022-09-08T14:42:19.631Z"
   },
   {
    "duration": 27,
    "start_time": "2022-09-08T14:42:19.646Z"
   },
   {
    "duration": 22,
    "start_time": "2022-09-08T14:42:19.675Z"
   },
   {
    "duration": 19,
    "start_time": "2022-09-08T14:42:19.699Z"
   },
   {
    "duration": 15,
    "start_time": "2022-09-08T14:42:19.720Z"
   },
   {
    "duration": 30,
    "start_time": "2022-09-08T14:42:19.737Z"
   },
   {
    "duration": 32,
    "start_time": "2022-09-08T14:42:19.777Z"
   },
   {
    "duration": 10,
    "start_time": "2022-09-08T14:42:19.811Z"
   },
   {
    "duration": 7,
    "start_time": "2022-09-08T14:42:19.823Z"
   },
   {
    "duration": 21,
    "start_time": "2022-09-08T14:42:19.832Z"
   },
   {
    "duration": 30,
    "start_time": "2022-09-08T14:42:19.855Z"
   },
   {
    "duration": 27,
    "start_time": "2022-09-08T14:42:19.887Z"
   },
   {
    "duration": 12,
    "start_time": "2022-09-08T14:42:19.916Z"
   },
   {
    "duration": 11,
    "start_time": "2022-09-08T14:42:19.930Z"
   },
   {
    "duration": 4,
    "start_time": "2022-09-08T14:42:19.943Z"
   },
   {
    "duration": 8,
    "start_time": "2022-09-08T14:42:19.970Z"
   },
   {
    "duration": 22,
    "start_time": "2022-09-08T14:42:19.980Z"
   }
  ],
  "colab": {
   "collapsed_sections": [
    "E0vqbgi9ay0H",
    "VUC88oWjTJw2"
   ],
   "name": "automatization_template_upd4.ipynb",
   "provenance": []
  },
  "kernelspec": {
   "display_name": "Python 3 (ipykernel)",
   "language": "python",
   "name": "python3"
  },
  "language_info": {
   "codemirror_mode": {
    "name": "ipython",
    "version": 3
   },
   "file_extension": ".py",
   "mimetype": "text/x-python",
   "name": "python",
   "nbconvert_exporter": "python",
   "pygments_lexer": "ipython3",
   "version": "3.9.5"
  },
  "toc": {
   "base_numbering": 1,
   "nav_menu": {
    "height": "215px",
    "width": "403px"
   },
   "number_sections": true,
   "sideBar": true,
   "skip_h1_title": true,
   "title_cell": "Table of Contents",
   "title_sidebar": "Contents",
   "toc_cell": false,
   "toc_position": {
    "height": "calc(100% - 180px)",
    "left": "10px",
    "top": "150px",
    "width": "285.825px"
   },
   "toc_section_display": true,
   "toc_window_display": false
  }
 },
 "nbformat": 4,
 "nbformat_minor": 1
}
