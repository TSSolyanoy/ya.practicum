{
 "cells": [
  {
   "cell_type": "markdown",
   "metadata": {},
   "source": [
    "# Описание проекта"
   ]
  },
  {
   "cell_type": "markdown",
   "metadata": {},
   "source": [
    "Выполнение приоритизаций гипотез для увеличения выручки, подготовленных совместно с отделом маркетинга.\n",
    "Выполнение A/B-тестетов и анализ результов. "
   ]
  },
  {
   "cell_type": "markdown",
   "metadata": {},
   "source": [
    "## Приоритизация гипотез"
   ]
  },
  {
   "cell_type": "markdown",
   "metadata": {},
   "source": [
    "Подгрузка необходимых библиотек и данных о гипотезах."
   ]
  },
  {
   "cell_type": "code",
   "execution_count": 1,
   "metadata": {},
   "outputs": [],
   "source": [
    "import pandas as pd\n",
    "import numpy as np\n",
    "import scipy.stats as st\n",
    "import seaborn as sns\n",
    "sns.set(rc={'figure.figsize':(10, 8)})\n",
    "import matplotlib.pyplot as plt\n",
    "from collections import defaultdict\n",
    "import math\n",
    "import datetime as dt\n",
    "from plotly.offline import download_plotlyjs, init_notebook_mode, plot, iplot\n",
    "import plotly.graph_objs as go"
   ]
  },
  {
   "cell_type": "code",
   "execution_count": 2,
   "metadata": {},
   "outputs": [
    {
     "data": {
      "text/html": [
       "<div>\n",
       "<style scoped>\n",
       "    .dataframe tbody tr th:only-of-type {\n",
       "        vertical-align: middle;\n",
       "    }\n",
       "\n",
       "    .dataframe tbody tr th {\n",
       "        vertical-align: top;\n",
       "    }\n",
       "\n",
       "    .dataframe thead th {\n",
       "        text-align: right;\n",
       "    }\n",
       "</style>\n",
       "<table border=\"1\" class=\"dataframe\">\n",
       "  <thead>\n",
       "    <tr style=\"text-align: right;\">\n",
       "      <th></th>\n",
       "      <th>hypothesis</th>\n",
       "      <th>reach</th>\n",
       "      <th>impact</th>\n",
       "      <th>confidence</th>\n",
       "      <th>efforts</th>\n",
       "    </tr>\n",
       "  </thead>\n",
       "  <tbody>\n",
       "    <tr>\n",
       "      <th>0</th>\n",
       "      <td>Добавить два новых канала привлечения трафика, что позволит привлекать на 30% больше пользователей</td>\n",
       "      <td>3</td>\n",
       "      <td>10</td>\n",
       "      <td>8</td>\n",
       "      <td>6</td>\n",
       "    </tr>\n",
       "    <tr>\n",
       "      <th>1</th>\n",
       "      <td>Запустить собственную службу доставки, что сократит срок доставки заказов</td>\n",
       "      <td>2</td>\n",
       "      <td>5</td>\n",
       "      <td>4</td>\n",
       "      <td>10</td>\n",
       "    </tr>\n",
       "    <tr>\n",
       "      <th>2</th>\n",
       "      <td>Добавить блоки рекомендаций товаров на сайт интернет магазина, чтобы повысить конверсию и средний чек заказа</td>\n",
       "      <td>8</td>\n",
       "      <td>3</td>\n",
       "      <td>7</td>\n",
       "      <td>3</td>\n",
       "    </tr>\n",
       "    <tr>\n",
       "      <th>3</th>\n",
       "      <td>Изменить структура категорий, что увеличит конверсию, т.к. пользователи быстрее найдут нужный товар</td>\n",
       "      <td>8</td>\n",
       "      <td>3</td>\n",
       "      <td>3</td>\n",
       "      <td>8</td>\n",
       "    </tr>\n",
       "    <tr>\n",
       "      <th>4</th>\n",
       "      <td>Изменить цвет фона главной страницы, чтобы увеличить вовлеченность пользователей</td>\n",
       "      <td>3</td>\n",
       "      <td>1</td>\n",
       "      <td>1</td>\n",
       "      <td>1</td>\n",
       "    </tr>\n",
       "    <tr>\n",
       "      <th>5</th>\n",
       "      <td>Добавить страницу отзывов клиентов о магазине, что позволит увеличить количество заказов</td>\n",
       "      <td>3</td>\n",
       "      <td>2</td>\n",
       "      <td>2</td>\n",
       "      <td>3</td>\n",
       "    </tr>\n",
       "    <tr>\n",
       "      <th>6</th>\n",
       "      <td>Показать на главной странице баннеры с актуальными акциями и распродажами, чтобы увеличить конверсию</td>\n",
       "      <td>5</td>\n",
       "      <td>3</td>\n",
       "      <td>8</td>\n",
       "      <td>3</td>\n",
       "    </tr>\n",
       "    <tr>\n",
       "      <th>7</th>\n",
       "      <td>Добавить форму подписки на все основные страницы, чтобы собрать базу клиентов для email-рассылок</td>\n",
       "      <td>10</td>\n",
       "      <td>7</td>\n",
       "      <td>8</td>\n",
       "      <td>5</td>\n",
       "    </tr>\n",
       "    <tr>\n",
       "      <th>8</th>\n",
       "      <td>Запустить акцию, дающую скидку на товар в день рождения</td>\n",
       "      <td>1</td>\n",
       "      <td>9</td>\n",
       "      <td>9</td>\n",
       "      <td>5</td>\n",
       "    </tr>\n",
       "  </tbody>\n",
       "</table>\n",
       "</div>"
      ],
      "text/plain": [
       "                                                                                                     hypothesis  \\\n",
       "0            Добавить два новых канала привлечения трафика, что позволит привлекать на 30% больше пользователей   \n",
       "1                                     Запустить собственную службу доставки, что сократит срок доставки заказов   \n",
       "2  Добавить блоки рекомендаций товаров на сайт интернет магазина, чтобы повысить конверсию и средний чек заказа   \n",
       "3           Изменить структура категорий, что увеличит конверсию, т.к. пользователи быстрее найдут нужный товар   \n",
       "4                              Изменить цвет фона главной страницы, чтобы увеличить вовлеченность пользователей   \n",
       "5                      Добавить страницу отзывов клиентов о магазине, что позволит увеличить количество заказов   \n",
       "6          Показать на главной странице баннеры с актуальными акциями и распродажами, чтобы увеличить конверсию   \n",
       "7              Добавить форму подписки на все основные страницы, чтобы собрать базу клиентов для email-рассылок   \n",
       "8                                                       Запустить акцию, дающую скидку на товар в день рождения   \n",
       "\n",
       "   reach  impact  confidence  efforts  \n",
       "0      3      10           8        6  \n",
       "1      2       5           4       10  \n",
       "2      8       3           7        3  \n",
       "3      8       3           3        8  \n",
       "4      3       1           1        1  \n",
       "5      3       2           2        3  \n",
       "6      5       3           8        3  \n",
       "7     10       7           8        5  \n",
       "8      1       9           9        5  "
      ]
     },
     "execution_count": 2,
     "metadata": {},
     "output_type": "execute_result"
    }
   ],
   "source": [
    "pd.options.display.max_colwidth = 130\n",
    "hypothesis = pd.read_csv('/datasets/hypothesis.csv')\n",
    "hypothesis.columns = ['hypothesis', 'reach', 'impact', 'confidence', 'efforts']\n",
    "hypothesis"
   ]
  },
  {
   "cell_type": "markdown",
   "metadata": {},
   "source": [
    "### Примените фреймворк ICE для приоритизации гипотез. Отсортируйте их по убыванию приоритета."
   ]
  },
  {
   "cell_type": "code",
   "execution_count": 3,
   "metadata": {},
   "outputs": [
    {
     "data": {
      "text/html": [
       "<div>\n",
       "<style scoped>\n",
       "    .dataframe tbody tr th:only-of-type {\n",
       "        vertical-align: middle;\n",
       "    }\n",
       "\n",
       "    .dataframe tbody tr th {\n",
       "        vertical-align: top;\n",
       "    }\n",
       "\n",
       "    .dataframe thead th {\n",
       "        text-align: right;\n",
       "    }\n",
       "</style>\n",
       "<table border=\"1\" class=\"dataframe\">\n",
       "  <thead>\n",
       "    <tr style=\"text-align: right;\">\n",
       "      <th></th>\n",
       "      <th>hypothesis</th>\n",
       "      <th>ICE</th>\n",
       "    </tr>\n",
       "  </thead>\n",
       "  <tbody>\n",
       "    <tr>\n",
       "      <th>8</th>\n",
       "      <td>Запустить акцию, дающую скидку на товар в день рождения</td>\n",
       "      <td>16.20</td>\n",
       "    </tr>\n",
       "    <tr>\n",
       "      <th>0</th>\n",
       "      <td>Добавить два новых канала привлечения трафика, что позволит привлекать на 30% больше пользователей</td>\n",
       "      <td>13.33</td>\n",
       "    </tr>\n",
       "    <tr>\n",
       "      <th>7</th>\n",
       "      <td>Добавить форму подписки на все основные страницы, чтобы собрать базу клиентов для email-рассылок</td>\n",
       "      <td>11.20</td>\n",
       "    </tr>\n",
       "    <tr>\n",
       "      <th>6</th>\n",
       "      <td>Показать на главной странице баннеры с актуальными акциями и распродажами, чтобы увеличить конверсию</td>\n",
       "      <td>8.00</td>\n",
       "    </tr>\n",
       "    <tr>\n",
       "      <th>2</th>\n",
       "      <td>Добавить блоки рекомендаций товаров на сайт интернет магазина, чтобы повысить конверсию и средний чек заказа</td>\n",
       "      <td>7.00</td>\n",
       "    </tr>\n",
       "    <tr>\n",
       "      <th>1</th>\n",
       "      <td>Запустить собственную службу доставки, что сократит срок доставки заказов</td>\n",
       "      <td>2.00</td>\n",
       "    </tr>\n",
       "    <tr>\n",
       "      <th>5</th>\n",
       "      <td>Добавить страницу отзывов клиентов о магазине, что позволит увеличить количество заказов</td>\n",
       "      <td>1.33</td>\n",
       "    </tr>\n",
       "    <tr>\n",
       "      <th>3</th>\n",
       "      <td>Изменить структура категорий, что увеличит конверсию, т.к. пользователи быстрее найдут нужный товар</td>\n",
       "      <td>1.12</td>\n",
       "    </tr>\n",
       "    <tr>\n",
       "      <th>4</th>\n",
       "      <td>Изменить цвет фона главной страницы, чтобы увеличить вовлеченность пользователей</td>\n",
       "      <td>1.00</td>\n",
       "    </tr>\n",
       "  </tbody>\n",
       "</table>\n",
       "</div>"
      ],
      "text/plain": [
       "                                                                                                     hypothesis  \\\n",
       "8                                                       Запустить акцию, дающую скидку на товар в день рождения   \n",
       "0            Добавить два новых канала привлечения трафика, что позволит привлекать на 30% больше пользователей   \n",
       "7              Добавить форму подписки на все основные страницы, чтобы собрать базу клиентов для email-рассылок   \n",
       "6          Показать на главной странице баннеры с актуальными акциями и распродажами, чтобы увеличить конверсию   \n",
       "2  Добавить блоки рекомендаций товаров на сайт интернет магазина, чтобы повысить конверсию и средний чек заказа   \n",
       "1                                     Запустить собственную службу доставки, что сократит срок доставки заказов   \n",
       "5                      Добавить страницу отзывов клиентов о магазине, что позволит увеличить количество заказов   \n",
       "3           Изменить структура категорий, что увеличит конверсию, т.к. пользователи быстрее найдут нужный товар   \n",
       "4                              Изменить цвет фона главной страницы, чтобы увеличить вовлеченность пользователей   \n",
       "\n",
       "     ICE  \n",
       "8  16.20  \n",
       "0  13.33  \n",
       "7  11.20  \n",
       "6   8.00  \n",
       "2   7.00  \n",
       "1   2.00  \n",
       "5   1.33  \n",
       "3   1.12  \n",
       "4   1.00  "
      ]
     },
     "execution_count": 3,
     "metadata": {},
     "output_type": "execute_result"
    }
   ],
   "source": [
    "hypothesis['ICE'] = hypothesis['impact'] * hypothesis['confidence'] / hypothesis['efforts']\n",
    "hypothesis_ICE = hypothesis[['hypothesis', 'ICE']].sort_values(by='ICE', ascending=False).round(2)\n",
    "hypothesis_ICE"
   ]
  },
  {
   "cell_type": "markdown",
   "metadata": {},
   "source": [
    "### Примените фреймворк RICE для приоритизации гипотез. Отсортируйте их по убыванию приоритета."
   ]
  },
  {
   "cell_type": "code",
   "execution_count": 4,
   "metadata": {},
   "outputs": [
    {
     "data": {
      "text/html": [
       "<div>\n",
       "<style scoped>\n",
       "    .dataframe tbody tr th:only-of-type {\n",
       "        vertical-align: middle;\n",
       "    }\n",
       "\n",
       "    .dataframe tbody tr th {\n",
       "        vertical-align: top;\n",
       "    }\n",
       "\n",
       "    .dataframe thead th {\n",
       "        text-align: right;\n",
       "    }\n",
       "</style>\n",
       "<table border=\"1\" class=\"dataframe\">\n",
       "  <thead>\n",
       "    <tr style=\"text-align: right;\">\n",
       "      <th></th>\n",
       "      <th>hypothesis</th>\n",
       "      <th>RICE</th>\n",
       "    </tr>\n",
       "  </thead>\n",
       "  <tbody>\n",
       "    <tr>\n",
       "      <th>7</th>\n",
       "      <td>Добавить форму подписки на все основные страницы, чтобы собрать базу клиентов для email-рассылок</td>\n",
       "      <td>112.0</td>\n",
       "    </tr>\n",
       "    <tr>\n",
       "      <th>2</th>\n",
       "      <td>Добавить блоки рекомендаций товаров на сайт интернет магазина, чтобы повысить конверсию и средний чек заказа</td>\n",
       "      <td>56.0</td>\n",
       "    </tr>\n",
       "    <tr>\n",
       "      <th>0</th>\n",
       "      <td>Добавить два новых канала привлечения трафика, что позволит привлекать на 30% больше пользователей</td>\n",
       "      <td>40.0</td>\n",
       "    </tr>\n",
       "    <tr>\n",
       "      <th>6</th>\n",
       "      <td>Показать на главной странице баннеры с актуальными акциями и распродажами, чтобы увеличить конверсию</td>\n",
       "      <td>40.0</td>\n",
       "    </tr>\n",
       "    <tr>\n",
       "      <th>8</th>\n",
       "      <td>Запустить акцию, дающую скидку на товар в день рождения</td>\n",
       "      <td>16.2</td>\n",
       "    </tr>\n",
       "    <tr>\n",
       "      <th>3</th>\n",
       "      <td>Изменить структура категорий, что увеличит конверсию, т.к. пользователи быстрее найдут нужный товар</td>\n",
       "      <td>9.0</td>\n",
       "    </tr>\n",
       "    <tr>\n",
       "      <th>1</th>\n",
       "      <td>Запустить собственную службу доставки, что сократит срок доставки заказов</td>\n",
       "      <td>4.0</td>\n",
       "    </tr>\n",
       "    <tr>\n",
       "      <th>5</th>\n",
       "      <td>Добавить страницу отзывов клиентов о магазине, что позволит увеличить количество заказов</td>\n",
       "      <td>4.0</td>\n",
       "    </tr>\n",
       "    <tr>\n",
       "      <th>4</th>\n",
       "      <td>Изменить цвет фона главной страницы, чтобы увеличить вовлеченность пользователей</td>\n",
       "      <td>3.0</td>\n",
       "    </tr>\n",
       "  </tbody>\n",
       "</table>\n",
       "</div>"
      ],
      "text/plain": [
       "                                                                                                     hypothesis  \\\n",
       "7              Добавить форму подписки на все основные страницы, чтобы собрать базу клиентов для email-рассылок   \n",
       "2  Добавить блоки рекомендаций товаров на сайт интернет магазина, чтобы повысить конверсию и средний чек заказа   \n",
       "0            Добавить два новых канала привлечения трафика, что позволит привлекать на 30% больше пользователей   \n",
       "6          Показать на главной странице баннеры с актуальными акциями и распродажами, чтобы увеличить конверсию   \n",
       "8                                                       Запустить акцию, дающую скидку на товар в день рождения   \n",
       "3           Изменить структура категорий, что увеличит конверсию, т.к. пользователи быстрее найдут нужный товар   \n",
       "1                                     Запустить собственную службу доставки, что сократит срок доставки заказов   \n",
       "5                      Добавить страницу отзывов клиентов о магазине, что позволит увеличить количество заказов   \n",
       "4                              Изменить цвет фона главной страницы, чтобы увеличить вовлеченность пользователей   \n",
       "\n",
       "    RICE  \n",
       "7  112.0  \n",
       "2   56.0  \n",
       "0   40.0  \n",
       "6   40.0  \n",
       "8   16.2  \n",
       "3    9.0  \n",
       "1    4.0  \n",
       "5    4.0  \n",
       "4    3.0  "
      ]
     },
     "execution_count": 4,
     "metadata": {},
     "output_type": "execute_result"
    }
   ],
   "source": [
    "hypothesis['RICE'] = hypothesis['reach'] * hypothesis['impact'] * hypothesis['confidence'] / hypothesis['efforts']\n",
    "hypothesis_RICE = hypothesis[['hypothesis', 'RICE']].sort_values(by='RICE', ascending=False)\n",
    "hypothesis_RICE"
   ]
  },
  {
   "cell_type": "markdown",
   "metadata": {},
   "source": [
    "### Укажите, как изменилась приоритизация гипотез при применении RICE вместо ICE. Объясните, почему так произошло."
   ]
  },
  {
   "cell_type": "code",
   "execution_count": 5,
   "metadata": {},
   "outputs": [
    {
     "data": {
      "text/html": [
       "<div>\n",
       "<style scoped>\n",
       "    .dataframe tbody tr th:only-of-type {\n",
       "        vertical-align: middle;\n",
       "    }\n",
       "\n",
       "    .dataframe tbody tr th {\n",
       "        vertical-align: top;\n",
       "    }\n",
       "\n",
       "    .dataframe thead th {\n",
       "        text-align: right;\n",
       "    }\n",
       "</style>\n",
       "<table border=\"1\" class=\"dataframe\">\n",
       "  <thead>\n",
       "    <tr style=\"text-align: right;\">\n",
       "      <th></th>\n",
       "      <th>hypothesis</th>\n",
       "      <th>ICE</th>\n",
       "      <th>RICE</th>\n",
       "    </tr>\n",
       "  </thead>\n",
       "  <tbody>\n",
       "    <tr>\n",
       "      <th>0</th>\n",
       "      <td>Запустить акцию, дающую скидку на товар в день рождения</td>\n",
       "      <td>16.20</td>\n",
       "      <td>16.2</td>\n",
       "    </tr>\n",
       "    <tr>\n",
       "      <th>1</th>\n",
       "      <td>Добавить два новых канала привлечения трафика, что позволит привлекать на 30% больше пользователей</td>\n",
       "      <td>13.33</td>\n",
       "      <td>40.0</td>\n",
       "    </tr>\n",
       "    <tr>\n",
       "      <th>2</th>\n",
       "      <td>Добавить форму подписки на все основные страницы, чтобы собрать базу клиентов для email-рассылок</td>\n",
       "      <td>11.20</td>\n",
       "      <td>112.0</td>\n",
       "    </tr>\n",
       "    <tr>\n",
       "      <th>3</th>\n",
       "      <td>Показать на главной странице баннеры с актуальными акциями и распродажами, чтобы увеличить конверсию</td>\n",
       "      <td>8.00</td>\n",
       "      <td>40.0</td>\n",
       "    </tr>\n",
       "    <tr>\n",
       "      <th>4</th>\n",
       "      <td>Добавить блоки рекомендаций товаров на сайт интернет магазина, чтобы повысить конверсию и средний чек заказа</td>\n",
       "      <td>7.00</td>\n",
       "      <td>56.0</td>\n",
       "    </tr>\n",
       "    <tr>\n",
       "      <th>5</th>\n",
       "      <td>Запустить собственную службу доставки, что сократит срок доставки заказов</td>\n",
       "      <td>2.00</td>\n",
       "      <td>4.0</td>\n",
       "    </tr>\n",
       "    <tr>\n",
       "      <th>6</th>\n",
       "      <td>Добавить страницу отзывов клиентов о магазине, что позволит увеличить количество заказов</td>\n",
       "      <td>1.33</td>\n",
       "      <td>4.0</td>\n",
       "    </tr>\n",
       "    <tr>\n",
       "      <th>7</th>\n",
       "      <td>Изменить структура категорий, что увеличит конверсию, т.к. пользователи быстрее найдут нужный товар</td>\n",
       "      <td>1.12</td>\n",
       "      <td>9.0</td>\n",
       "    </tr>\n",
       "    <tr>\n",
       "      <th>8</th>\n",
       "      <td>Изменить цвет фона главной страницы, чтобы увеличить вовлеченность пользователей</td>\n",
       "      <td>1.00</td>\n",
       "      <td>3.0</td>\n",
       "    </tr>\n",
       "  </tbody>\n",
       "</table>\n",
       "</div>"
      ],
      "text/plain": [
       "                                                                                                     hypothesis  \\\n",
       "0                                                       Запустить акцию, дающую скидку на товар в день рождения   \n",
       "1            Добавить два новых канала привлечения трафика, что позволит привлекать на 30% больше пользователей   \n",
       "2              Добавить форму подписки на все основные страницы, чтобы собрать базу клиентов для email-рассылок   \n",
       "3          Показать на главной странице баннеры с актуальными акциями и распродажами, чтобы увеличить конверсию   \n",
       "4  Добавить блоки рекомендаций товаров на сайт интернет магазина, чтобы повысить конверсию и средний чек заказа   \n",
       "5                                     Запустить собственную службу доставки, что сократит срок доставки заказов   \n",
       "6                      Добавить страницу отзывов клиентов о магазине, что позволит увеличить количество заказов   \n",
       "7           Изменить структура категорий, что увеличит конверсию, т.к. пользователи быстрее найдут нужный товар   \n",
       "8                              Изменить цвет фона главной страницы, чтобы увеличить вовлеченность пользователей   \n",
       "\n",
       "     ICE   RICE  \n",
       "0  16.20   16.2  \n",
       "1  13.33   40.0  \n",
       "2  11.20  112.0  \n",
       "3   8.00   40.0  \n",
       "4   7.00   56.0  \n",
       "5   2.00    4.0  \n",
       "6   1.33    4.0  \n",
       "7   1.12    9.0  \n",
       "8   1.00    3.0  "
      ]
     },
     "execution_count": 5,
     "metadata": {},
     "output_type": "execute_result"
    }
   ],
   "source": [
    "priority_of_hypothesis = hypothesis_ICE.merge(hypothesis_RICE, on='hypothesis')\n",
    "priority_of_hypothesis"
   ]
  },
  {
   "cell_type": "markdown",
   "metadata": {},
   "source": [
    "В методе RICE учитывается параметр охвата (Reach). Что оказывает существенное влияние на результат. Гипотеза с самым большим охватом оказалась на 1 месте. На прежних местах остались толкьо гипотезы 6 и 4."
   ]
  },
  {
   "cell_type": "markdown",
   "metadata": {},
   "source": [
    "## Анализ A/B-теста"
   ]
  },
  {
   "cell_type": "markdown",
   "metadata": {},
   "source": [
    "Предобработка данных. Создание таблицы с разбивкой по дням и группам"
   ]
  },
  {
   "cell_type": "code",
   "execution_count": 6,
   "metadata": {},
   "outputs": [],
   "source": [
    "orders = pd.read_csv('/datasets/orders.csv')\n",
    "visitors = pd.read_csv('/datasets/visitors.csv')"
   ]
  },
  {
   "cell_type": "code",
   "execution_count": 7,
   "metadata": {},
   "outputs": [
    {
     "name": "stdout",
     "output_type": "stream",
     "text": [
      "<class 'pandas.core.frame.DataFrame'>\n",
      "RangeIndex: 1197 entries, 0 to 1196\n",
      "Data columns (total 5 columns):\n",
      " #   Column         Non-Null Count  Dtype \n",
      "---  ------         --------------  ----- \n",
      " 0   transactionId  1197 non-null   int64 \n",
      " 1   visitorId      1197 non-null   int64 \n",
      " 2   date           1197 non-null   object\n",
      " 3   revenue        1197 non-null   int64 \n",
      " 4   group          1197 non-null   object\n",
      "dtypes: int64(3), object(2)\n",
      "memory usage: 46.9+ KB\n"
     ]
    }
   ],
   "source": [
    "orders.info()"
   ]
  },
  {
   "cell_type": "code",
   "execution_count": 8,
   "metadata": {},
   "outputs": [
    {
     "name": "stdout",
     "output_type": "stream",
     "text": [
      "<class 'pandas.core.frame.DataFrame'>\n",
      "RangeIndex: 62 entries, 0 to 61\n",
      "Data columns (total 3 columns):\n",
      " #   Column    Non-Null Count  Dtype \n",
      "---  ------    --------------  ----- \n",
      " 0   date      62 non-null     object\n",
      " 1   group     62 non-null     object\n",
      " 2   visitors  62 non-null     int64 \n",
      "dtypes: int64(1), object(2)\n",
      "memory usage: 1.6+ KB\n"
     ]
    }
   ],
   "source": [
    "visitors.info()"
   ]
  },
  {
   "cell_type": "code",
   "execution_count": 9,
   "metadata": {},
   "outputs": [
    {
     "data": {
      "text/html": [
       "<div>\n",
       "<style scoped>\n",
       "    .dataframe tbody tr th:only-of-type {\n",
       "        vertical-align: middle;\n",
       "    }\n",
       "\n",
       "    .dataframe tbody tr th {\n",
       "        vertical-align: top;\n",
       "    }\n",
       "\n",
       "    .dataframe thead th {\n",
       "        text-align: right;\n",
       "    }\n",
       "</style>\n",
       "<table border=\"1\" class=\"dataframe\">\n",
       "  <thead>\n",
       "    <tr style=\"text-align: right;\">\n",
       "      <th></th>\n",
       "      <th>transactionId</th>\n",
       "      <th>visitorId</th>\n",
       "      <th>date</th>\n",
       "      <th>revenue</th>\n",
       "      <th>group</th>\n",
       "    </tr>\n",
       "  </thead>\n",
       "  <tbody>\n",
       "    <tr>\n",
       "      <th>0</th>\n",
       "      <td>3667963787</td>\n",
       "      <td>3312258926</td>\n",
       "      <td>2019-08-15</td>\n",
       "      <td>1650</td>\n",
       "      <td>B</td>\n",
       "    </tr>\n",
       "    <tr>\n",
       "      <th>1</th>\n",
       "      <td>2804400009</td>\n",
       "      <td>3642806036</td>\n",
       "      <td>2019-08-15</td>\n",
       "      <td>730</td>\n",
       "      <td>B</td>\n",
       "    </tr>\n",
       "    <tr>\n",
       "      <th>2</th>\n",
       "      <td>2961555356</td>\n",
       "      <td>4069496402</td>\n",
       "      <td>2019-08-15</td>\n",
       "      <td>400</td>\n",
       "      <td>A</td>\n",
       "    </tr>\n",
       "    <tr>\n",
       "      <th>3</th>\n",
       "      <td>3797467345</td>\n",
       "      <td>1196621759</td>\n",
       "      <td>2019-08-15</td>\n",
       "      <td>9759</td>\n",
       "      <td>B</td>\n",
       "    </tr>\n",
       "    <tr>\n",
       "      <th>4</th>\n",
       "      <td>2282983706</td>\n",
       "      <td>2322279887</td>\n",
       "      <td>2019-08-15</td>\n",
       "      <td>2308</td>\n",
       "      <td>B</td>\n",
       "    </tr>\n",
       "  </tbody>\n",
       "</table>\n",
       "</div>"
      ],
      "text/plain": [
       "   transactionId   visitorId        date  revenue group\n",
       "0     3667963787  3312258926  2019-08-15     1650     B\n",
       "1     2804400009  3642806036  2019-08-15      730     B\n",
       "2     2961555356  4069496402  2019-08-15      400     A\n",
       "3     3797467345  1196621759  2019-08-15     9759     B\n",
       "4     2282983706  2322279887  2019-08-15     2308     B"
      ]
     },
     "execution_count": 9,
     "metadata": {},
     "output_type": "execute_result"
    }
   ],
   "source": [
    "orders.head()"
   ]
  },
  {
   "cell_type": "code",
   "execution_count": 10,
   "metadata": {},
   "outputs": [
    {
     "data": {
      "text/html": [
       "<div>\n",
       "<style scoped>\n",
       "    .dataframe tbody tr th:only-of-type {\n",
       "        vertical-align: middle;\n",
       "    }\n",
       "\n",
       "    .dataframe tbody tr th {\n",
       "        vertical-align: top;\n",
       "    }\n",
       "\n",
       "    .dataframe thead th {\n",
       "        text-align: right;\n",
       "    }\n",
       "</style>\n",
       "<table border=\"1\" class=\"dataframe\">\n",
       "  <thead>\n",
       "    <tr style=\"text-align: right;\">\n",
       "      <th></th>\n",
       "      <th>date</th>\n",
       "      <th>group</th>\n",
       "      <th>visitors</th>\n",
       "    </tr>\n",
       "  </thead>\n",
       "  <tbody>\n",
       "    <tr>\n",
       "      <th>0</th>\n",
       "      <td>2019-08-01</td>\n",
       "      <td>A</td>\n",
       "      <td>719</td>\n",
       "    </tr>\n",
       "    <tr>\n",
       "      <th>1</th>\n",
       "      <td>2019-08-02</td>\n",
       "      <td>A</td>\n",
       "      <td>619</td>\n",
       "    </tr>\n",
       "    <tr>\n",
       "      <th>2</th>\n",
       "      <td>2019-08-03</td>\n",
       "      <td>A</td>\n",
       "      <td>507</td>\n",
       "    </tr>\n",
       "    <tr>\n",
       "      <th>3</th>\n",
       "      <td>2019-08-04</td>\n",
       "      <td>A</td>\n",
       "      <td>717</td>\n",
       "    </tr>\n",
       "    <tr>\n",
       "      <th>4</th>\n",
       "      <td>2019-08-05</td>\n",
       "      <td>A</td>\n",
       "      <td>756</td>\n",
       "    </tr>\n",
       "  </tbody>\n",
       "</table>\n",
       "</div>"
      ],
      "text/plain": [
       "         date group  visitors\n",
       "0  2019-08-01     A       719\n",
       "1  2019-08-02     A       619\n",
       "2  2019-08-03     A       507\n",
       "3  2019-08-04     A       717\n",
       "4  2019-08-05     A       756"
      ]
     },
     "execution_count": 10,
     "metadata": {},
     "output_type": "execute_result"
    }
   ],
   "source": [
    "visitors.head()"
   ]
  },
  {
   "cell_type": "code",
   "execution_count": 11,
   "metadata": {},
   "outputs": [],
   "source": [
    "orders['date'] = pd.to_datetime(orders['date'], format=\"%Y-%m-%d %H:%M:%S\")"
   ]
  },
  {
   "cell_type": "code",
   "execution_count": 12,
   "metadata": {},
   "outputs": [],
   "source": [
    "visitors['date'] = pd.to_datetime(visitors['date'], format=\"%Y-%m-%d %H:%M:%S\")"
   ]
  },
  {
   "cell_type": "code",
   "execution_count": 13,
   "metadata": {},
   "outputs": [],
   "source": [
    "orders.rename(columns={'transactionId':'transactionid', 'visitorId':'visitorid'}, inplace=True)"
   ]
  },
  {
   "cell_type": "code",
   "execution_count": 14,
   "metadata": {},
   "outputs": [
    {
     "data": {
      "text/plain": [
       "transactionid    0\n",
       "visitorid        0\n",
       "date             0\n",
       "revenue          0\n",
       "group            0\n",
       "dtype: int64"
      ]
     },
     "execution_count": 14,
     "metadata": {},
     "output_type": "execute_result"
    }
   ],
   "source": [
    "orders.isna().sum()"
   ]
  },
  {
   "cell_type": "code",
   "execution_count": 15,
   "metadata": {},
   "outputs": [
    {
     "data": {
      "text/plain": [
       "date        0\n",
       "group       0\n",
       "visitors    0\n",
       "dtype: int64"
      ]
     },
     "execution_count": 15,
     "metadata": {},
     "output_type": "execute_result"
    }
   ],
   "source": [
    "visitors.isna().sum()"
   ]
  },
  {
   "cell_type": "code",
   "execution_count": 16,
   "metadata": {},
   "outputs": [
    {
     "data": {
      "text/plain": [
       "0"
      ]
     },
     "execution_count": 16,
     "metadata": {},
     "output_type": "execute_result"
    }
   ],
   "source": [
    "orders.duplicated().sum()"
   ]
  },
  {
   "cell_type": "code",
   "execution_count": 17,
   "metadata": {},
   "outputs": [
    {
     "data": {
      "text/plain": [
       "0"
      ]
     },
     "execution_count": 17,
     "metadata": {},
     "output_type": "execute_result"
    }
   ],
   "source": [
    "visitors.duplicated().sum()"
   ]
  },
  {
   "cell_type": "markdown",
   "metadata": {},
   "source": [
    "Произведена предобработка данных. Пропуски и дубликаты не выявлены. Переименованы столбцы в таблице с заказами и преобрахованы формат данных в обеих таблицах."
   ]
  },
  {
   "cell_type": "code",
   "execution_count": 18,
   "metadata": {},
   "outputs": [],
   "source": [
    "orders_grouped = (orders.groupby(['date','group'], as_index=False)\n",
    "                        .agg({'transactionid':'nunique','visitorid':'nunique','revenue':'sum'}))\\\n",
    "                        .rename(columns={'transactionid':'orders','visitorid':'buyers'})\n",
    "orders_grouped['group_copy'] = orders_grouped['group']\n",
    "orders_grouped = orders_grouped.set_index(['date','group'])\n",
    "orders_cumsum = orders_grouped.sort_values(['date','group']).groupby('group_copy').cumsum().reset_index()\n"
   ]
  },
  {
   "cell_type": "code",
   "execution_count": 19,
   "metadata": {},
   "outputs": [],
   "source": [
    "# сумма визитов по дням в каждой группе\n",
    "visitors_cumsum = visitors.groupby(['date','group'], as_index=False).agg({'visitors':'sum'}).sort_values(['date','group'])\n",
    "# для подсчета суммы с накоплением копирование group\n",
    "visitors_cumsum['group_copy'] = visitors_cumsum['group']\n",
    "visitors_cumsum = visitors_cumsum.set_index(['date','group']).groupby('group_copy').cumsum().reset_index()    "
   ]
  },
  {
   "cell_type": "code",
   "execution_count": 20,
   "metadata": {},
   "outputs": [],
   "source": [
    "cummulative = orders_cumsum.join(visitors_cumsum[['visitors']])"
   ]
  },
  {
   "cell_type": "code",
   "execution_count": 21,
   "metadata": {},
   "outputs": [],
   "source": [
    "cummulative['average_check'] = cummulative['revenue'] / cummulative['orders']\n",
    "cummulative['conversion'] = cummulative['orders'] / cummulative['visitors']"
   ]
  },
  {
   "cell_type": "code",
   "execution_count": 22,
   "metadata": {},
   "outputs": [
    {
     "data": {
      "text/html": [
       "<div>\n",
       "<style scoped>\n",
       "    .dataframe tbody tr th:only-of-type {\n",
       "        vertical-align: middle;\n",
       "    }\n",
       "\n",
       "    .dataframe tbody tr th {\n",
       "        vertical-align: top;\n",
       "    }\n",
       "\n",
       "    .dataframe thead th {\n",
       "        text-align: right;\n",
       "    }\n",
       "</style>\n",
       "<table border=\"1\" class=\"dataframe\">\n",
       "  <thead>\n",
       "    <tr style=\"text-align: right;\">\n",
       "      <th></th>\n",
       "      <th>date</th>\n",
       "      <th>group</th>\n",
       "      <th>orders</th>\n",
       "      <th>buyers</th>\n",
       "      <th>revenue</th>\n",
       "      <th>visitors</th>\n",
       "      <th>average_check</th>\n",
       "      <th>conversion</th>\n",
       "    </tr>\n",
       "  </thead>\n",
       "  <tbody>\n",
       "    <tr>\n",
       "      <th>0</th>\n",
       "      <td>2019-08-01</td>\n",
       "      <td>A</td>\n",
       "      <td>24</td>\n",
       "      <td>20</td>\n",
       "      <td>148579</td>\n",
       "      <td>719</td>\n",
       "      <td>6190.791667</td>\n",
       "      <td>0.033380</td>\n",
       "    </tr>\n",
       "    <tr>\n",
       "      <th>1</th>\n",
       "      <td>2019-08-01</td>\n",
       "      <td>B</td>\n",
       "      <td>21</td>\n",
       "      <td>20</td>\n",
       "      <td>101217</td>\n",
       "      <td>713</td>\n",
       "      <td>4819.857143</td>\n",
       "      <td>0.029453</td>\n",
       "    </tr>\n",
       "    <tr>\n",
       "      <th>2</th>\n",
       "      <td>2019-08-02</td>\n",
       "      <td>A</td>\n",
       "      <td>44</td>\n",
       "      <td>39</td>\n",
       "      <td>242401</td>\n",
       "      <td>1338</td>\n",
       "      <td>5509.113636</td>\n",
       "      <td>0.032885</td>\n",
       "    </tr>\n",
       "    <tr>\n",
       "      <th>3</th>\n",
       "      <td>2019-08-02</td>\n",
       "      <td>B</td>\n",
       "      <td>45</td>\n",
       "      <td>43</td>\n",
       "      <td>266748</td>\n",
       "      <td>1294</td>\n",
       "      <td>5927.733333</td>\n",
       "      <td>0.034776</td>\n",
       "    </tr>\n",
       "    <tr>\n",
       "      <th>4</th>\n",
       "      <td>2019-08-03</td>\n",
       "      <td>A</td>\n",
       "      <td>68</td>\n",
       "      <td>63</td>\n",
       "      <td>354874</td>\n",
       "      <td>1845</td>\n",
       "      <td>5218.735294</td>\n",
       "      <td>0.036856</td>\n",
       "    </tr>\n",
       "  </tbody>\n",
       "</table>\n",
       "</div>"
      ],
      "text/plain": [
       "        date group  orders  buyers  revenue  visitors  average_check  \\\n",
       "0 2019-08-01     A      24      20   148579       719    6190.791667   \n",
       "1 2019-08-01     B      21      20   101217       713    4819.857143   \n",
       "2 2019-08-02     A      44      39   242401      1338    5509.113636   \n",
       "3 2019-08-02     B      45      43   266748      1294    5927.733333   \n",
       "4 2019-08-03     A      68      63   354874      1845    5218.735294   \n",
       "\n",
       "   conversion  \n",
       "0    0.033380  \n",
       "1    0.029453  \n",
       "2    0.032885  \n",
       "3    0.034776  \n",
       "4    0.036856  "
      ]
     },
     "execution_count": 22,
     "metadata": {},
     "output_type": "execute_result"
    }
   ],
   "source": [
    "cummulative.head()"
   ]
  },
  {
   "cell_type": "markdown",
   "metadata": {},
   "source": [
    "### Построение и анализ графика кумулятивной выручки по группам."
   ]
  },
  {
   "cell_type": "code",
   "execution_count": 23,
   "metadata": {},
   "outputs": [
    {
     "data": {
      "image/png": "[encoded data removed]",
      "text/plain": [
       "<Figure size 720x576 with 1 Axes>"
      ]
     },
     "metadata": {},
     "output_type": "display_data"
    }
   ],
   "source": [
    "cummulativeA = cummulative[cummulative['group']=='A'][['date', 'revenue']]\n",
    "cummulativeB = cummulative[cummulative['group']=='B'][['date', 'revenue']]\n",
    "plt.plot(cummulativeA['date'], cummulativeA['revenue'], label='A')\n",
    "plt.plot(cummulativeB['date'], cummulativeB['revenue'], label='B')\n",
    "plt.title('График кумулятивной выручки по группам')\n",
    "plt.ylabel(\"Выручка\")\n",
    "plt.xticks(rotation=90)\n",
    "\n",
    "plt.legend()\n",
    "plt.show()"
   ]
  },
  {
   "cell_type": "markdown",
   "metadata": {},
   "source": [
    "Группа А показывает плавный рост, тогда как у группы B 18-19 августа заметен резкий скачек, похожий на выброс. Вероятно такой выброс связан с некоторомым количеством заказов, которое значительно больше среднего чека."
   ]
  },
  {
   "cell_type": "markdown",
   "metadata": {},
   "source": [
    "### Построение и анализ графикf кумулятивного среднего чека по группам. "
   ]
  },
  {
   "cell_type": "code",
   "execution_count": 24,
   "metadata": {},
   "outputs": [
    {
     "data": {
      "image/png": "[encoded data removed]",
      "text/plain": [
       "<Figure size 720x576 with 1 Axes>"
      ]
     },
     "metadata": {},
     "output_type": "display_data"
    }
   ],
   "source": [
    "cummulativeA = cummulative[cummulative['group']=='A'][['date', 'average_check']]\n",
    "cummulativeB = cummulative[cummulative['group']=='B'][['date', 'average_check']]\n",
    "plt.plot(cummulativeA['date'], cummulativeA['average_check'], label='A')\n",
    "plt.plot(cummulativeB['date'], cummulativeB['average_check'], label='B')\n",
    "plt.title('График кумулятивного среднего чека по группам')\n",
    "plt.ylabel(\"Выручка\")\n",
    "plt.xticks(rotation=90)\n",
    "plt.legend()\n",
    "plt.show()"
   ]
  },
  {
   "cell_type": "markdown",
   "metadata": {},
   "source": [
    "Средний чек группы В, аналогично делает резкий скачек 18-19 августа, затем плавно понижается."
   ]
  },
  {
   "cell_type": "markdown",
   "metadata": {},
   "source": [
    "### Построение и анализ графикa относительного изменения кумулятивного среднего чека группы B к группе A."
   ]
  },
  {
   "cell_type": "code",
   "execution_count": 25,
   "metadata": {},
   "outputs": [
    {
     "data": {
      "image/png": "[encoded data removed]",
      "text/plain": [
       "<Figure size 720x576 with 1 Axes>"
      ]
     },
     "metadata": {},
     "output_type": "display_data"
    }
   ],
   "source": [
    "temp = (cummulativeA[['date', 'average_check']].merge(cummulativeB[['date', 'average_check']], \n",
    "                                            left_on='date', right_on='date', how='left', suffixes=['_A', '_B']))\n",
    "plt.plot(temp['date'], temp['average_check_B'] / temp['average_check_A']-1)\n",
    "plt.title('График относительного изменения кумулятивного среднего чека группы B к группе A')\n",
    "plt.axhline(y=0, color='red', linestyle='-')\n",
    "plt.xticks(rotation=90)\n",
    "plt.show()"
   ]
  },
  {
   "cell_type": "markdown",
   "metadata": {},
   "source": [
    "На данном графике так же заметен резкий рост 18-19 августа."
   ]
  },
  {
   "cell_type": "markdown",
   "metadata": {},
   "source": [
    "### Построение и анализ графикa кумулятивного среднего количества заказов на посетителя по группам."
   ]
  },
  {
   "cell_type": "code",
   "execution_count": 26,
   "metadata": {},
   "outputs": [
    {
     "data": {
      "image/png": "[encoded data removed]",
      "text/plain": [
       "<Figure size 720x576 with 1 Axes>"
      ]
     },
     "metadata": {},
     "output_type": "display_data"
    }
   ],
   "source": [
    "cummulativeA = cummulative[cummulative['group']=='A'][['date', 'conversion']]\n",
    "cummulativeB = cummulative[cummulative['group']=='B'][['date', 'conversion']]\n",
    "plt.plot(cummulativeA['date'], cummulativeA['conversion'], label='A')\n",
    "plt.plot(cummulativeB['date'], cummulativeB['conversion'], label='B')\n",
    "plt.title('среднего количества заказов на посетителя по группам')\n",
    "plt.ylabel(\"Выручка\")\n",
    "plt.xticks(rotation=90)\n",
    "plt.legend()\n",
    "plt.show()"
   ]
  },
  {
   "cell_type": "markdown",
   "metadata": {},
   "source": [
    "Среднее количество заказов группы В выгледет немного лучше, в районе 0,033-0,036 против 0,029 - 0,031 у группы А."
   ]
  },
  {
   "cell_type": "markdown",
   "metadata": {},
   "source": [
    "### Построение и анализ графикa относительного изменения кумулятивного среднего количества заказов на посетителя группы B к группе A"
   ]
  },
  {
   "cell_type": "code",
   "execution_count": 27,
   "metadata": {},
   "outputs": [
    {
     "data": {
      "image/png": "[encoded data removed]",
      "text/plain": [
       "<Figure size 720x576 with 1 Axes>"
      ]
     },
     "metadata": {},
     "output_type": "display_data"
    }
   ],
   "source": [
    "temp = (cummulativeA[['date', 'conversion']].merge(cummulativeB[['date', 'conversion']], \n",
    "                                            left_on='date', right_on='date', how='left', suffixes=['_A', '_B']))\n",
    "plt.plot(temp['date'], temp['conversion_B'] / temp['conversion_A']-1)\n",
    "plt.title('График относительного изменения кумулятивного среднего количества заказов на посетителя группы B к группе A')\n",
    "plt.axhline(y=0, color='red', linestyle='-')\n",
    "plt.xticks(rotation=90)\n",
    "plt.show()"
   ]
  },
  {
   "cell_type": "markdown",
   "metadata": {},
   "source": [
    "Среднее количество заказов на посетителя группы В значительно больше."
   ]
  },
  {
   "cell_type": "markdown",
   "metadata": {},
   "source": [
    "### Построение и анализ графикa точечного графика количества заказов по пользователям."
   ]
  },
  {
   "cell_type": "code",
   "execution_count": 28,
   "metadata": {},
   "outputs": [
    {
     "data": {
      "image/png": "[encoded data removed]",
      "text/plain": [
       "<Figure size 720x576 with 1 Axes>"
      ]
     },
     "metadata": {},
     "output_type": "display_data"
    }
   ],
   "source": [
    "orders_per_user = orders.groupby(['visitorid', 'group'], as_index=False).agg({'transactionid':'nunique'})\\\n",
    "                         .rename(columns={'transactionid':'orders'})\n",
    "x_values = pd.Series(range(0,len(orders_per_user['orders'])))\n",
    "plt.scatter(x_values, orders_per_user['orders'], color='red')\n",
    "plt.show()\n"
   ]
  },
  {
   "cell_type": "markdown",
   "metadata": {},
   "source": [
    "Ожидаемо большая часть покупателей совершает 1 покупку, но есть и шопоголики."
   ]
  },
  {
   "cell_type": "markdown",
   "metadata": {},
   "source": [
    "### Расчет 95-й и 99-й перцентили количества заказов на пользователя и определение границ для  аномальных пользователей."
   ]
  },
  {
   "cell_type": "code",
   "execution_count": 29,
   "metadata": {},
   "outputs": [
    {
     "name": "stdout",
     "output_type": "stream",
     "text": [
      "90 перцентиль: 1.00\n",
      "95 перцентиль: 2.00\n",
      "99 перцентиль: 4.00\n"
     ]
    }
   ],
   "source": [
    "print('90 перцентиль: %.2f' % (np.percentile(orders_per_user['orders'], [90])))\n",
    "print('95 перцентиль: %.2f' % (np.percentile(orders_per_user['orders'], [95])))\n",
    "print('99 перцентиль: %.2f' % (np.percentile(orders_per_user['orders'], [99])))"
   ]
  },
  {
   "cell_type": "markdown",
   "metadata": {},
   "source": [
    "Полезователей совершающих больше 4-х покупок можно считать аномальными."
   ]
  },
  {
   "cell_type": "markdown",
   "metadata": {},
   "source": [
    "### Построение и анализ графикa стоимостей заказов. "
   ]
  },
  {
   "cell_type": "code",
   "execution_count": 30,
   "metadata": {},
   "outputs": [
    {
     "data": {
      "image/png": "[encoded data removed]",
      "text/plain": [
       "<Figure size 720x576 with 1 Axes>"
      ]
     },
     "metadata": {},
     "output_type": "display_data"
    }
   ],
   "source": [
    "x_values = pd.Series(range(0,len(orders['revenue'])))\n",
    "plt.scatter(x_values, orders['revenue'], color='red')\n",
    "plt.show()"
   ]
  },
  {
   "cell_type": "markdown",
   "metadata": {},
   "source": [
    "По графику заметны 2 больших выброса, вероятно они и вызвали скачки на графиках."
   ]
  },
  {
   "cell_type": "markdown",
   "metadata": {},
   "source": [
    "### Расчет 95-й и 99-й перцентили стоимости заказови и определение границ для аномальныхзаказов."
   ]
  },
  {
   "cell_type": "code",
   "execution_count": 31,
   "metadata": {},
   "outputs": [
    {
     "name": "stdout",
     "output_type": "stream",
     "text": [
      "90 перцентиль: 18168.00\n",
      "95 перцентиль: 28000.00\n",
      "99 перцентиль: 58233.20\n"
     ]
    }
   ],
   "source": [
    "print('90 перцентиль: %.2f' % (np.percentile(orders['revenue'], [90])))\n",
    "print('95 перцентиль: %.2f' % (np.percentile(orders['revenue'], [95])))\n",
    "print('99 перцентиль: %.2f' % (np.percentile(orders['revenue'], [99])))"
   ]
  },
  {
   "cell_type": "markdown",
   "metadata": {},
   "source": [
    "Заказы дороже 58233.20 можно считать аномальными"
   ]
  },
  {
   "cell_type": "markdown",
   "metadata": {},
   "source": [
    "### Расчет статистической значимости различий в среднем количестве заказов на посетителя между группами по «сырым» данным."
   ]
  },
  {
   "cell_type": "code",
   "execution_count": 32,
   "metadata": {},
   "outputs": [],
   "source": [
    "ordersA = orders.query('group == \"A\"').reset_index(drop=True)\n",
    "ordersB = orders.query('group == \"B\"').reset_index(drop=True)\n",
    "ordersByUsersA = orders_per_user.query('group == \"A\"').reset_index(drop=True)\n",
    "ordersByUsersB = orders_per_user.query('group == \"B\"').reset_index(drop=True)\n",
    "cumulativeDataA = cummulative.query('group == \"A\"').reset_index(drop=True)\n",
    "cumulativeDataB = cummulative.query('group == \"B\"').reset_index(drop=True)"
   ]
  },
  {
   "cell_type": "code",
   "execution_count": 33,
   "metadata": {},
   "outputs": [
    {
     "name": "stdout",
     "output_type": "stream",
     "text": [
      "p-значение: 0.017\n",
      "Отвергаем нулевую гипотезу: \"Cтатистически значимых различий в конверсии между группами нет\".\n",
      "Относительный прирост конверсии группы B: 0.138\n"
     ]
    }
   ],
   "source": [
    "# По критерию Манна-Уитни\n",
    "# H0:Cтатистически значимых различий в среднем количестве заказов между группами нет \n",
    "# H1:Cтатистически значимые различия в среднем количестве заказов между группами есть\n",
    "sampleA = pd.concat([ordersByUsersA['orders'],pd.Series(0, index=np.arange(visitors[visitors['group']=='A']['visitors'].sum() - len(ordersByUsersA['orders'])), name='orders')],axis=0)\n",
    "sampleB = pd.concat([ordersByUsersB['orders'],pd.Series(0, index=np.arange(visitors[visitors['group']=='B']['visitors'].sum() - len(ordersByUsersB['orders'])), name='orders')],axis=0)\n",
    "\n",
    "alpha = 0.05\n",
    "results = st.mannwhitneyu(sampleA, sampleB)\n",
    "print('p-значение: {:.3f}'.format(results.pvalue))\n",
    "if (results.pvalue < alpha):\n",
    "    print('Отвергаем нулевую гипотезу: \"Cтатистически значимых различий в конверсии между группами нет\".')\n",
    "else:\n",
    "    print('Не получилось отвергнуть нулевую гипотезу: \"Cтатистически значимых различий в конверсии между группами нет\".')\n",
    "\n",
    "print(\"Относительный прирост конверсии группы B: {0:.3f}\".format(sampleB.mean()/sampleA.mean()-1))"
   ]
  },
  {
   "cell_type": "markdown",
   "metadata": {},
   "source": [
    "В ходе анализа «сырых данных» выявлено, что в конверсии между группами есть статистически значимые различия. Относительный прирост количества заказов группы B к группе A равен 13.8%."
   ]
  },
  {
   "cell_type": "markdown",
   "metadata": {},
   "source": [
    "### Расчет  статистической значимости различий в среднем чеке заказа между группами по «сырым» данным. "
   ]
  },
  {
   "cell_type": "code",
   "execution_count": 34,
   "metadata": {},
   "outputs": [
    {
     "name": "stdout",
     "output_type": "stream",
     "text": [
      "p-значение: 0.365\n",
      "Не получилось отвергнуть нулевую гипотезу: \"Cтатистически значимых различий в среднем чеке между группами нет\".\n"
     ]
    }
   ],
   "source": [
    "# По критерию Манна-Уитни\n",
    "# H0: Cтатистически значимых различий в среднем чеке между группами нет\n",
    "# H1: Cтатистически значимst различиz в среднем чеке между группами есть\n",
    "results = st.mannwhitneyu(orders[orders['group']=='A']['revenue'], orders[orders['group']=='B']['revenue'], True, 'less')\n",
    "pvalue = results.pvalue\n",
    "print('p-значение: {:.3f}'.format(results.pvalue))\n",
    "if (results.pvalue < alpha):\n",
    "    print('Отвергаем нулевую гипотезу: \"Cтатистически значимых различий в среднем чеке между группами нет\".')\n",
    "else:\n",
    "    print('Не получилось отвергнуть нулевую гипотезу: \"Cтатистически значимых различий в среднем чеке между группами нет\".')"
   ]
  },
  {
   "cell_type": "code",
   "execution_count": 35,
   "metadata": {},
   "outputs": [
    {
     "name": "stdout",
     "output_type": "stream",
     "text": [
      "Средний чек группы А =  7333.578096947936\n",
      "Средний чек группы В =  9230.875\n",
      "Относительный прирост в среднем чеке группы B = 0.259\n"
     ]
    }
   ],
   "source": [
    "print('Средний чек группы А = ', orders[orders['group']=='A']['revenue'].mean())\n",
    "print('Средний чек группы В = ', orders[orders['group']=='B']['revenue'].mean())\n",
    "print('Относительный прирост в среднем чеке группы B = {0:.3f}' .format(orders[orders['group']=='B']['revenue'].mean()/orders[orders['group']=='A']['revenue'].mean()-1))"
   ]
  },
  {
   "cell_type": "markdown",
   "metadata": {},
   "source": [
    "Cтатистически значимых отличий в среднем чеке между группами не выявленны. Однако, относительное различие среднего чека между группами по «сырым» данным целых 26%. Вероятно сказываются аномально дорогие заказы."
   ]
  },
  {
   "cell_type": "markdown",
   "metadata": {},
   "source": [
    "### Расчет статистической значимости различий в среднем количестве заказов на посетителя между группами по «очищенным» данным."
   ]
  },
  {
   "cell_type": "code",
   "execution_count": 36,
   "metadata": {},
   "outputs": [
    {
     "name": "stdout",
     "output_type": "stream",
     "text": [
      "p-значение: 0.013\n",
      "Отвергаем нулевую гипотезу: \"Cтатистически значимых различий в конверсии между группами нет\".\n",
      "Относительный прирост конверсии группы B: 0.159\n"
     ]
    }
   ],
   "source": [
    "# По критерию Манна-Уитни\n",
    "# H0: Конверсия в группе A и В равны \n",
    "# H1: Конверсия в группе A и В НЕ равны\n",
    "\n",
    "usersWithManyOrders = orders_per_user[orders_per_user['orders'] > 4]['visitorid']\n",
    "usersWithExpensiveOrders = orders[orders['revenue'] > 58234]['visitorid']\n",
    "abnormalUsers = (pd.concat([usersWithManyOrders, usersWithExpensiveOrders], axis = 0)\n",
    "                 .drop_duplicates()\n",
    "                 .reset_index(drop=True))\n",
    "sampleAFiltered = pd.concat(\n",
    "    [ordersByUsersA[np.logical_not(ordersByUsersA['visitorid'].isin(abnormalUsers))]['orders'],\n",
    "     pd.Series(0, index=np.arange(cumulativeDataA['visitors'].sum() - len(ordersByUsersA['orders'])),\n",
    "               name='orders')],axis=0)\n",
    "\n",
    "sampleBFiltered = pd.concat(\n",
    "    [ordersByUsersB[np.logical_not(ordersByUsersB['visitorid'].isin(abnormalUsers))]['orders'],\n",
    "     pd.Series(0, index=np.arange(cumulativeDataB['visitors'].sum() - len(ordersByUsersB['orders'])),\n",
    "               name='orders')],axis=0)\n",
    "\n",
    "alpha = 0.05\n",
    "results = st.mannwhitneyu(sampleAFiltered, sampleBFiltered)\n",
    "print('p-значение: {:.3f}'.format(results.pvalue))\n",
    "if (results.pvalue < alpha):\n",
    "    print('Отвергаем нулевую гипотезу: \"Cтатистически значимых различий в конверсии между группами нет\".')\n",
    "else:\n",
    "    print('Не получилось отвергнуть нулевую гипотезу: \"Cтатистически значимых различий в конверсии между группами нет\".')\n",
    "\n",
    "print(\"Относительный прирост конверсии группы B: {0:.3f}\"\n",
    "      .format(sampleBFiltered.mean()/sampleAFiltered.mean() - 1))\n",
    "\n"
   ]
  },
  {
   "cell_type": "markdown",
   "metadata": {},
   "source": [
    "Как и в случае с сырыми данными, статистическая значимость достигнута. Относительный прирост количества заказовов на поситителя  группы B к группе A по «очищенным» данным равен 15.9%."
   ]
  },
  {
   "cell_type": "markdown",
   "metadata": {},
   "source": [
    "### Расчет статистической значимости различий  среднем чеке заказа между группами по «очищенным» данным. "
   ]
  },
  {
   "cell_type": "code",
   "execution_count": 37,
   "metadata": {},
   "outputs": [
    {
     "name": "stdout",
     "output_type": "stream",
     "text": [
      "p-значение: 0.310\n",
      "Не получилось отвергнуть нулевую гипотезу: \"Cтатистически значимых различий в конверсии между группами нет\".\n",
      "Средний чек группы А =  6470.587272727273\n",
      "Средний чек группы В =  6592.692913385827\n",
      "Относительный прирост в среднем чеке группы B = 0.019\n"
     ]
    }
   ],
   "source": [
    "orders_clear = orders.query('revenue <= 58233')\n",
    "# По критерию Манна-Уитни\n",
    "# H0: Cтатистически значимых различий в среднем чеке между группами нет\n",
    "# H1: Cтатистически значимst различиz в среднем чеке между группами есть\n",
    "alpha = 0.05\n",
    "results = st.mannwhitneyu(orders_clear[orders_clear['group']=='A']['revenue'], orders_clear[orders_clear['group']=='B']['revenue'], True, 'less')\n",
    "print('p-значение: {:.3f}'.format(results.pvalue))\n",
    "if (pvalue < alpha):\n",
    "    print('Отвергаем нулевую гипотезу: \"Cтатистически значимых различий в конверсии между группами нет\".')\n",
    "else:\n",
    "    print('Не получилось отвергнуть нулевую гипотезу: \"Cтатистически значимых различий в конверсии между группами нет\".')\n",
    "    \n",
    "print('Средний чек группы А = ', orders_clear[orders_clear['group']=='A']['revenue'].mean())\n",
    "print('Средний чек группы В = ', orders_clear[orders_clear['group']=='B']['revenue'].mean())\n",
    "print('Относительный прирост в среднем чеке группы B = {0:.3f}' .format(orders_clear[orders_clear['group']=='B']['revenue'].mean()/orders_clear[orders_clear['group']=='A']['revenue'].mean()-1))"
   ]
  },
  {
   "cell_type": "markdown",
   "metadata": {},
   "source": [
    "Статистическая значимость достигнута не была. Но разница между группами сократилась с 26% до менее чем 2%."
   ]
  },
  {
   "cell_type": "markdown",
   "metadata": {},
   "source": [
    "### Общий вывод."
   ]
  },
  {
   "cell_type": "markdown",
   "metadata": {},
   "source": [
    "Тест можно остановить и считать успешно пройденным.\n",
    "\n",
    "Проведен анализ данных о посетителях и заказах интернет-магазина. Произведена предобработка: преоразование типов и переименование столбцов. Пропуски и дубликаты не обнаружены. \n",
    "\n",
    "Произведен A/B тест. В ходе анализа результатов теста, определены аномальнные пользователи, которые совершили или слишком много или слишком дорогие покупки (но таких пользователей менее 1%).\n",
    "\n",
    "\n",
    "Далее произведено сравнение количества заказов на пользователя и средний чек в двух группах. \n",
    "\n",
    "Непараметрический тест Уилкоксона-Манна-Уитни показал:\n",
    "\n",
    "* есть статистически значимое различие по количеству заказов между группами как по сырым данным, так и после фильтрации аномалий; \n",
    "* по сырым данным и по очищенным нет статистически значимого различия по среднему чеку между группами.\n",
    "\n",
    "В свою очередь графики кумулятивного среднего чека и кумулятивного среднего количества заказов показывают устойчивую тенденцию, что позволяет сделать вывод, что результаты не изменятся в будущем. \n",
    "\n",
    "В этой связи тест можно завершить и зафиксировать победу группы B. Количество среднее количество заказов у группы B на 15,9%, а средний чек на 2%."
   ]
  }
 ],
 "metadata": {
  "ExecuteTimeLog": [
   {
    "duration": 1327,
    "start_time": "2022-12-28T10:07:47.561Z"
   },
   {
    "duration": 68,
    "start_time": "2022-12-28T10:08:10.005Z"
   },
   {
    "duration": 32,
    "start_time": "2022-12-28T10:08:19.309Z"
   },
   {
    "duration": 16,
    "start_time": "2022-12-28T10:09:09.302Z"
   },
   {
    "duration": 13,
    "start_time": "2022-12-28T10:09:45.054Z"
   },
   {
    "duration": 87,
    "start_time": "2022-12-28T10:10:09.196Z"
   },
   {
    "duration": 12,
    "start_time": "2022-12-28T10:10:27.014Z"
   },
   {
    "duration": 188,
    "start_time": "2022-12-28T10:20:06.407Z"
   },
   {
    "duration": 18,
    "start_time": "2022-12-28T10:20:18.757Z"
   },
   {
    "duration": 8,
    "start_time": "2022-12-28T10:22:11.693Z"
   },
   {
    "duration": 59,
    "start_time": "2022-12-28T10:22:21.567Z"
   },
   {
    "duration": 1179,
    "start_time": "2022-12-28T10:22:33.967Z"
   },
   {
    "duration": 38,
    "start_time": "2022-12-28T10:22:35.148Z"
   },
   {
    "duration": 14,
    "start_time": "2022-12-28T10:22:36.616Z"
   },
   {
    "duration": 14,
    "start_time": "2022-12-28T10:22:37.767Z"
   },
   {
    "duration": 12,
    "start_time": "2022-12-28T10:22:38.767Z"
   },
   {
    "duration": 58,
    "start_time": "2022-12-28T10:22:40.995Z"
   },
   {
    "duration": 8,
    "start_time": "2022-12-28T10:22:41.798Z"
   },
   {
    "duration": 7,
    "start_time": "2022-12-28T10:22:54.628Z"
   },
   {
    "duration": 4,
    "start_time": "2022-12-28T10:23:26.312Z"
   },
   {
    "duration": 23,
    "start_time": "2022-12-28T10:23:55.159Z"
   },
   {
    "duration": 20,
    "start_time": "2022-12-28T10:24:23.894Z"
   },
   {
    "duration": 4,
    "start_time": "2022-12-28T10:24:49.616Z"
   },
   {
    "duration": 5,
    "start_time": "2022-12-28T10:24:56.632Z"
   },
   {
    "duration": 11,
    "start_time": "2022-12-28T10:25:03.623Z"
   },
   {
    "duration": 128,
    "start_time": "2022-12-28T10:28:35.920Z"
   },
   {
    "duration": 137,
    "start_time": "2022-12-28T10:29:14.009Z"
   },
   {
    "duration": 122,
    "start_time": "2022-12-28T10:29:39.634Z"
   },
   {
    "duration": 1163,
    "start_time": "2022-12-28T10:29:52.077Z"
   },
   {
    "duration": 36,
    "start_time": "2022-12-28T10:29:53.242Z"
   },
   {
    "duration": 14,
    "start_time": "2022-12-28T10:29:53.280Z"
   },
   {
    "duration": 16,
    "start_time": "2022-12-28T10:29:53.296Z"
   },
   {
    "duration": 19,
    "start_time": "2022-12-28T10:29:53.315Z"
   },
   {
    "duration": 57,
    "start_time": "2022-12-28T10:29:53.336Z"
   },
   {
    "duration": 7,
    "start_time": "2022-12-28T10:29:53.395Z"
   },
   {
    "duration": 19,
    "start_time": "2022-12-28T10:29:53.404Z"
   },
   {
    "duration": 16,
    "start_time": "2022-12-28T10:29:53.425Z"
   },
   {
    "duration": 29,
    "start_time": "2022-12-28T10:29:53.443Z"
   },
   {
    "duration": 47,
    "start_time": "2022-12-28T10:29:53.474Z"
   },
   {
    "duration": 13,
    "start_time": "2022-12-28T10:29:53.525Z"
   },
   {
    "duration": 32,
    "start_time": "2022-12-28T10:29:53.540Z"
   },
   {
    "duration": 25,
    "start_time": "2022-12-28T10:29:53.577Z"
   },
   {
    "duration": 262,
    "start_time": "2022-12-28T10:29:53.604Z"
   },
   {
    "duration": 124,
    "start_time": "2022-12-28T10:30:49.133Z"
   },
   {
    "duration": 119,
    "start_time": "2022-12-28T10:30:58.460Z"
   },
   {
    "duration": 1115,
    "start_time": "2022-12-28T10:31:32.032Z"
   },
   {
    "duration": 36,
    "start_time": "2022-12-28T10:31:33.149Z"
   },
   {
    "duration": 13,
    "start_time": "2022-12-28T10:31:33.187Z"
   },
   {
    "duration": 11,
    "start_time": "2022-12-28T10:31:33.202Z"
   },
   {
    "duration": 14,
    "start_time": "2022-12-28T10:31:33.216Z"
   },
   {
    "duration": 52,
    "start_time": "2022-12-28T10:31:33.232Z"
   },
   {
    "duration": 9,
    "start_time": "2022-12-28T10:31:33.286Z"
   },
   {
    "duration": 10,
    "start_time": "2022-12-28T10:31:33.297Z"
   },
   {
    "duration": 5,
    "start_time": "2022-12-28T10:31:33.308Z"
   },
   {
    "duration": 21,
    "start_time": "2022-12-28T10:31:33.315Z"
   },
   {
    "duration": 14,
    "start_time": "2022-12-28T10:31:33.338Z"
   },
   {
    "duration": 4,
    "start_time": "2022-12-28T10:31:33.354Z"
   },
   {
    "duration": 36,
    "start_time": "2022-12-28T10:31:33.360Z"
   },
   {
    "duration": 11,
    "start_time": "2022-12-28T10:31:33.399Z"
   },
   {
    "duration": 244,
    "start_time": "2022-12-28T10:31:33.411Z"
   },
   {
    "duration": 130,
    "start_time": "2022-12-28T10:31:59.002Z"
   },
   {
    "duration": 123,
    "start_time": "2022-12-28T10:36:04.506Z"
   },
   {
    "duration": 134,
    "start_time": "2022-12-28T10:36:17.378Z"
   },
   {
    "duration": 127,
    "start_time": "2022-12-28T10:36:39.443Z"
   },
   {
    "duration": 19,
    "start_time": "2022-12-28T10:37:14.875Z"
   },
   {
    "duration": 250,
    "start_time": "2022-12-28T10:41:45.661Z"
   },
   {
    "duration": 300,
    "start_time": "2022-12-28T10:42:11.739Z"
   },
   {
    "duration": 289,
    "start_time": "2022-12-28T10:42:24.444Z"
   },
   {
    "duration": 310,
    "start_time": "2022-12-28T10:44:38.816Z"
   },
   {
    "duration": 424,
    "start_time": "2022-12-28T10:44:45.165Z"
   },
   {
    "duration": 860,
    "start_time": "2022-12-28T10:44:57.605Z"
   },
   {
    "duration": 1362,
    "start_time": "2022-12-28T10:45:31.020Z"
   },
   {
    "duration": 1313,
    "start_time": "2022-12-28T10:45:44.909Z"
   },
   {
    "duration": 1240,
    "start_time": "2022-12-28T10:45:53.613Z"
   },
   {
    "duration": 1199,
    "start_time": "2022-12-28T10:46:04.704Z"
   },
   {
    "duration": 1208,
    "start_time": "2022-12-28T10:46:16.438Z"
   },
   {
    "duration": 37,
    "start_time": "2022-12-28T10:46:17.648Z"
   },
   {
    "duration": 13,
    "start_time": "2022-12-28T10:46:17.687Z"
   },
   {
    "duration": 15,
    "start_time": "2022-12-28T10:46:17.702Z"
   },
   {
    "duration": 22,
    "start_time": "2022-12-28T10:46:17.719Z"
   },
   {
    "duration": 57,
    "start_time": "2022-12-28T10:46:17.742Z"
   },
   {
    "duration": 8,
    "start_time": "2022-12-28T10:46:17.801Z"
   },
   {
    "duration": 14,
    "start_time": "2022-12-28T10:46:17.810Z"
   },
   {
    "duration": 5,
    "start_time": "2022-12-28T10:46:17.826Z"
   },
   {
    "duration": 22,
    "start_time": "2022-12-28T10:46:17.833Z"
   },
   {
    "duration": 18,
    "start_time": "2022-12-28T10:46:17.857Z"
   },
   {
    "duration": 23,
    "start_time": "2022-12-28T10:46:17.876Z"
   },
   {
    "duration": 12,
    "start_time": "2022-12-28T10:46:17.901Z"
   },
   {
    "duration": 17,
    "start_time": "2022-12-28T10:46:17.916Z"
   },
   {
    "duration": 305,
    "start_time": "2022-12-28T10:46:17.935Z"
   },
   {
    "duration": 296,
    "start_time": "2022-12-28T10:46:35.037Z"
   },
   {
    "duration": 302,
    "start_time": "2022-12-28T10:49:39.849Z"
   },
   {
    "duration": 263,
    "start_time": "2022-12-28T10:49:48.152Z"
   },
   {
    "duration": 297,
    "start_time": "2022-12-28T10:50:22.712Z"
   },
   {
    "duration": 313,
    "start_time": "2022-12-28T10:50:30.609Z"
   },
   {
    "duration": 310,
    "start_time": "2022-12-28T10:50:41.064Z"
   },
   {
    "duration": 309,
    "start_time": "2022-12-28T10:50:47.961Z"
   },
   {
    "duration": 289,
    "start_time": "2022-12-28T10:50:52.610Z"
   },
   {
    "duration": 137,
    "start_time": "2022-12-28T10:53:18.359Z"
   },
   {
    "duration": 387,
    "start_time": "2022-12-28T10:53:32.659Z"
   },
   {
    "duration": 453,
    "start_time": "2022-12-28T10:53:35.761Z"
   },
   {
    "duration": 337,
    "start_time": "2022-12-28T10:53:53.234Z"
   },
   {
    "duration": 151,
    "start_time": "2022-12-28T10:55:54.707Z"
   },
   {
    "duration": 1830,
    "start_time": "2022-12-28T10:56:07.337Z"
   },
   {
    "duration": 54,
    "start_time": "2022-12-28T10:56:09.169Z"
   },
   {
    "duration": 17,
    "start_time": "2022-12-28T10:56:09.225Z"
   },
   {
    "duration": 13,
    "start_time": "2022-12-28T10:56:09.250Z"
   },
   {
    "duration": 19,
    "start_time": "2022-12-28T10:56:09.265Z"
   },
   {
    "duration": 58,
    "start_time": "2022-12-28T10:56:09.286Z"
   },
   {
    "duration": 9,
    "start_time": "2022-12-28T10:56:09.346Z"
   },
   {
    "duration": 11,
    "start_time": "2022-12-28T10:56:09.357Z"
   },
   {
    "duration": 20,
    "start_time": "2022-12-28T10:56:09.371Z"
   },
   {
    "duration": 21,
    "start_time": "2022-12-28T10:56:09.394Z"
   },
   {
    "duration": 39,
    "start_time": "2022-12-28T10:56:09.418Z"
   },
   {
    "duration": 7,
    "start_time": "2022-12-28T10:56:09.460Z"
   },
   {
    "duration": 7,
    "start_time": "2022-12-28T10:56:09.469Z"
   },
   {
    "duration": 22,
    "start_time": "2022-12-28T10:56:09.478Z"
   },
   {
    "duration": 336,
    "start_time": "2022-12-28T10:56:09.503Z"
   },
   {
    "duration": 299,
    "start_time": "2022-12-28T10:56:09.841Z"
   },
   {
    "duration": 442,
    "start_time": "2022-12-28T10:56:10.141Z"
   },
   {
    "duration": 259,
    "start_time": "2022-12-28T10:56:10.586Z"
   },
   {
    "duration": 324,
    "start_time": "2022-12-28T10:56:53.217Z"
   },
   {
    "duration": 299,
    "start_time": "2022-12-28T10:57:22.606Z"
   },
   {
    "duration": 408,
    "start_time": "2022-12-28T10:59:50.111Z"
   },
   {
    "duration": 400,
    "start_time": "2022-12-28T11:00:05.020Z"
   },
   {
    "duration": 47,
    "start_time": "2022-12-28T11:01:26.516Z"
   },
   {
    "duration": 430,
    "start_time": "2022-12-28T11:01:59.676Z"
   },
   {
    "duration": 499,
    "start_time": "2022-12-28T11:02:20.704Z"
   },
   {
    "duration": 132,
    "start_time": "2022-12-28T11:05:02.046Z"
   },
   {
    "duration": 5,
    "start_time": "2022-12-28T11:06:49.061Z"
   },
   {
    "duration": 134,
    "start_time": "2022-12-28T11:09:05.814Z"
   },
   {
    "duration": 46,
    "start_time": "2022-12-28T11:09:53.727Z"
   },
   {
    "duration": 6,
    "start_time": "2022-12-28T11:11:12.808Z"
   },
   {
    "duration": 10,
    "start_time": "2022-12-28T11:13:50.996Z"
   },
   {
    "duration": 17,
    "start_time": "2022-12-28T11:13:59.895Z"
   },
   {
    "duration": 75,
    "start_time": "2022-12-28T11:18:06.545Z"
   },
   {
    "duration": 12,
    "start_time": "2022-12-28T11:18:19.744Z"
   },
   {
    "duration": 5,
    "start_time": "2022-12-28T11:19:06.109Z"
   },
   {
    "duration": 12,
    "start_time": "2022-12-28T11:19:11.329Z"
   },
   {
    "duration": 5,
    "start_time": "2022-12-28T11:19:56.815Z"
   },
   {
    "duration": 1149,
    "start_time": "2022-12-28T11:20:10.619Z"
   },
   {
    "duration": 35,
    "start_time": "2022-12-28T11:20:11.771Z"
   },
   {
    "duration": 14,
    "start_time": "2022-12-28T11:20:11.808Z"
   },
   {
    "duration": 12,
    "start_time": "2022-12-28T11:20:11.824Z"
   },
   {
    "duration": 13,
    "start_time": "2022-12-28T11:20:11.839Z"
   },
   {
    "duration": 52,
    "start_time": "2022-12-28T11:20:11.854Z"
   },
   {
    "duration": 11,
    "start_time": "2022-12-28T11:20:11.908Z"
   },
   {
    "duration": 16,
    "start_time": "2022-12-28T11:20:11.921Z"
   },
   {
    "duration": 16,
    "start_time": "2022-12-28T11:20:11.939Z"
   },
   {
    "duration": 19,
    "start_time": "2022-12-28T11:20:11.957Z"
   },
   {
    "duration": 20,
    "start_time": "2022-12-28T11:20:11.977Z"
   },
   {
    "duration": 11,
    "start_time": "2022-12-28T11:20:11.999Z"
   },
   {
    "duration": 9,
    "start_time": "2022-12-28T11:20:12.012Z"
   },
   {
    "duration": 325,
    "start_time": "2022-12-28T11:20:12.024Z"
   },
   {
    "duration": 403,
    "start_time": "2022-12-28T11:20:12.351Z"
   },
   {
    "duration": 414,
    "start_time": "2022-12-28T11:20:12.756Z"
   },
   {
    "duration": 498,
    "start_time": "2022-12-28T11:20:13.172Z"
   },
   {
    "duration": 433,
    "start_time": "2022-12-28T11:20:13.672Z"
   },
   {
    "duration": 463,
    "start_time": "2022-12-28T11:20:14.107Z"
   },
   {
    "duration": 158,
    "start_time": "2022-12-28T11:20:14.571Z"
   },
   {
    "duration": 122,
    "start_time": "2022-12-28T11:20:14.730Z"
   },
   {
    "duration": 198,
    "start_time": "2022-12-28T11:20:14.854Z"
   },
   {
    "duration": 6,
    "start_time": "2022-12-28T11:20:15.053Z"
   },
   {
    "duration": 17,
    "start_time": "2022-12-28T11:20:15.061Z"
   },
   {
    "duration": 23,
    "start_time": "2022-12-28T11:20:15.080Z"
   },
   {
    "duration": 8,
    "start_time": "2022-12-28T11:21:20.122Z"
   },
   {
    "duration": 9,
    "start_time": "2022-12-28T11:24:04.094Z"
   },
   {
    "duration": 101,
    "start_time": "2022-12-28T11:25:13.302Z"
   },
   {
    "duration": 13,
    "start_time": "2022-12-28T11:25:38.326Z"
   },
   {
    "duration": 14,
    "start_time": "2022-12-28T11:25:51.959Z"
   },
   {
    "duration": 8,
    "start_time": "2022-12-28T11:25:54.455Z"
   },
   {
    "duration": 12,
    "start_time": "2022-12-28T11:28:26.721Z"
   },
   {
    "duration": 1293,
    "start_time": "2022-12-28T13:04:42.135Z"
   },
   {
    "duration": 74,
    "start_time": "2022-12-28T13:04:43.431Z"
   },
   {
    "duration": 16,
    "start_time": "2022-12-28T13:04:43.507Z"
   },
   {
    "duration": 14,
    "start_time": "2022-12-28T13:04:43.525Z"
   },
   {
    "duration": 19,
    "start_time": "2022-12-28T13:04:43.540Z"
   },
   {
    "duration": 168,
    "start_time": "2022-12-28T13:04:43.560Z"
   },
   {
    "duration": 8,
    "start_time": "2022-12-28T13:04:43.730Z"
   },
   {
    "duration": 12,
    "start_time": "2022-12-28T13:04:43.739Z"
   },
   {
    "duration": 20,
    "start_time": "2022-12-28T13:04:43.752Z"
   },
   {
    "duration": 24,
    "start_time": "2022-12-28T13:04:43.774Z"
   },
   {
    "duration": 15,
    "start_time": "2022-12-28T13:04:43.799Z"
   },
   {
    "duration": 15,
    "start_time": "2022-12-28T13:04:43.815Z"
   },
   {
    "duration": 8,
    "start_time": "2022-12-28T13:04:43.832Z"
   },
   {
    "duration": 15,
    "start_time": "2022-12-28T13:04:43.842Z"
   },
   {
    "duration": 346,
    "start_time": "2022-12-28T13:04:43.859Z"
   },
   {
    "duration": 338,
    "start_time": "2022-12-28T13:04:44.207Z"
   },
   {
    "duration": 582,
    "start_time": "2022-12-28T13:04:44.546Z"
   },
   {
    "duration": 379,
    "start_time": "2022-12-28T13:04:45.130Z"
   },
   {
    "duration": 424,
    "start_time": "2022-12-28T13:04:45.511Z"
   },
   {
    "duration": 153,
    "start_time": "2022-12-28T13:04:45.937Z"
   },
   {
    "duration": 7,
    "start_time": "2022-12-28T13:04:46.091Z"
   },
   {
    "duration": 166,
    "start_time": "2022-12-28T13:04:46.100Z"
   },
   {
    "duration": 7,
    "start_time": "2022-12-28T13:04:46.267Z"
   },
   {
    "duration": 36,
    "start_time": "2022-12-28T13:04:46.276Z"
   },
   {
    "duration": 10,
    "start_time": "2022-12-28T13:04:46.314Z"
   },
   {
    "duration": 14,
    "start_time": "2022-12-28T13:04:46.325Z"
   },
   {
    "duration": 13,
    "start_time": "2022-12-28T13:04:46.341Z"
   },
   {
    "duration": 6,
    "start_time": "2022-12-28T13:04:46.357Z"
   },
   {
    "duration": 33,
    "start_time": "2022-12-28T13:04:46.365Z"
   },
   {
    "duration": 48,
    "start_time": "2022-12-29T07:51:41.689Z"
   },
   {
    "duration": 6,
    "start_time": "2022-12-29T07:51:50.497Z"
   },
   {
    "duration": 1385,
    "start_time": "2022-12-29T07:52:06.511Z"
   },
   {
    "duration": 68,
    "start_time": "2022-12-29T07:52:07.899Z"
   },
   {
    "duration": 14,
    "start_time": "2022-12-29T07:52:09.655Z"
   },
   {
    "duration": 12,
    "start_time": "2022-12-29T07:52:10.751Z"
   },
   {
    "duration": 13,
    "start_time": "2022-12-29T07:52:11.967Z"
   },
   {
    "duration": 140,
    "start_time": "2022-12-29T07:52:15.736Z"
   },
   {
    "duration": 8,
    "start_time": "2022-12-29T07:52:16.400Z"
   },
   {
    "duration": 8,
    "start_time": "2022-12-29T07:52:17.040Z"
   },
   {
    "duration": 3,
    "start_time": "2022-12-29T07:52:17.937Z"
   },
   {
    "duration": 105,
    "start_time": "2022-12-29T07:52:18.414Z"
   },
   {
    "duration": 11,
    "start_time": "2022-12-29T07:52:27.327Z"
   },
   {
    "duration": 11,
    "start_time": "2022-12-29T07:53:09.400Z"
   },
   {
    "duration": 7,
    "start_time": "2022-12-29T07:53:15.552Z"
   },
   {
    "duration": 6,
    "start_time": "2022-12-29T07:53:31.647Z"
   },
   {
    "duration": 7,
    "start_time": "2022-12-29T07:54:54.895Z"
   },
   {
    "duration": 6,
    "start_time": "2022-12-29T07:55:07.593Z"
   },
   {
    "duration": 12,
    "start_time": "2022-12-29T07:55:31.770Z"
   },
   {
    "duration": 7,
    "start_time": "2022-12-29T07:56:22.889Z"
   },
   {
    "duration": 11,
    "start_time": "2022-12-29T07:56:36.442Z"
   },
   {
    "duration": 49,
    "start_time": "2022-12-29T07:56:45.362Z"
   },
   {
    "duration": 11,
    "start_time": "2022-12-29T07:56:48.786Z"
   },
   {
    "duration": 8,
    "start_time": "2022-12-29T07:57:01.003Z"
   },
   {
    "duration": 9,
    "start_time": "2022-12-29T08:03:03.052Z"
   },
   {
    "duration": 9,
    "start_time": "2022-12-29T08:03:25.348Z"
   },
   {
    "duration": 773,
    "start_time": "2022-12-29T08:07:31.214Z"
   },
   {
    "duration": 16,
    "start_time": "2022-12-29T08:07:51.727Z"
   },
   {
    "duration": 6,
    "start_time": "2022-12-29T08:08:10.206Z"
   },
   {
    "duration": 4,
    "start_time": "2022-12-29T08:08:29.645Z"
   },
   {
    "duration": 11,
    "start_time": "2022-12-29T08:08:37.918Z"
   },
   {
    "duration": 13,
    "start_time": "2022-12-29T08:08:52.304Z"
   },
   {
    "duration": 10,
    "start_time": "2022-12-29T08:09:07.015Z"
   },
   {
    "duration": 10,
    "start_time": "2022-12-29T08:09:15.649Z"
   },
   {
    "duration": 1109,
    "start_time": "2022-12-29T08:09:25.393Z"
   },
   {
    "duration": 35,
    "start_time": "2022-12-29T08:09:26.504Z"
   },
   {
    "duration": 13,
    "start_time": "2022-12-29T08:09:26.541Z"
   },
   {
    "duration": 18,
    "start_time": "2022-12-29T08:09:26.556Z"
   },
   {
    "duration": 41,
    "start_time": "2022-12-29T08:09:26.575Z"
   },
   {
    "duration": 68,
    "start_time": "2022-12-29T08:09:26.617Z"
   },
   {
    "duration": 12,
    "start_time": "2022-12-29T08:09:26.686Z"
   },
   {
    "duration": 36,
    "start_time": "2022-12-29T08:09:26.700Z"
   },
   {
    "duration": 18,
    "start_time": "2022-12-29T08:09:26.737Z"
   },
   {
    "duration": 12,
    "start_time": "2022-12-29T08:09:26.758Z"
   },
   {
    "duration": 21,
    "start_time": "2022-12-29T08:09:26.772Z"
   },
   {
    "duration": 18,
    "start_time": "2022-12-29T08:09:26.795Z"
   },
   {
    "duration": 12,
    "start_time": "2022-12-29T08:09:26.815Z"
   },
   {
    "duration": 22,
    "start_time": "2022-12-29T08:09:26.829Z"
   },
   {
    "duration": 17,
    "start_time": "2022-12-29T08:09:26.853Z"
   },
   {
    "duration": 12,
    "start_time": "2022-12-29T08:09:26.872Z"
   },
   {
    "duration": 12,
    "start_time": "2022-12-29T08:09:26.886Z"
   },
   {
    "duration": 40,
    "start_time": "2022-12-29T08:09:26.899Z"
   },
   {
    "duration": 18,
    "start_time": "2022-12-29T08:09:26.941Z"
   },
   {
    "duration": 10,
    "start_time": "2022-12-29T08:09:26.960Z"
   },
   {
    "duration": 11,
    "start_time": "2022-12-29T08:09:26.972Z"
   },
   {
    "duration": 19,
    "start_time": "2022-12-29T08:09:26.985Z"
   },
   {
    "duration": 392,
    "start_time": "2022-12-29T08:09:27.006Z"
   },
   {
    "duration": 302,
    "start_time": "2022-12-29T08:09:27.400Z"
   },
   {
    "duration": 413,
    "start_time": "2022-12-29T08:09:27.704Z"
   },
   {
    "duration": 306,
    "start_time": "2022-12-29T08:09:28.119Z"
   },
   {
    "duration": 411,
    "start_time": "2022-12-29T08:09:28.426Z"
   },
   {
    "duration": 157,
    "start_time": "2022-12-29T08:09:28.841Z"
   },
   {
    "duration": 5,
    "start_time": "2022-12-29T08:09:29.000Z"
   },
   {
    "duration": 177,
    "start_time": "2022-12-29T08:09:29.007Z"
   },
   {
    "duration": 5,
    "start_time": "2022-12-29T08:09:29.186Z"
   },
   {
    "duration": 28,
    "start_time": "2022-12-29T08:09:29.192Z"
   },
   {
    "duration": 15,
    "start_time": "2022-12-29T08:09:29.222Z"
   },
   {
    "duration": 27,
    "start_time": "2022-12-29T08:09:29.239Z"
   },
   {
    "duration": 27,
    "start_time": "2022-12-29T08:09:29.267Z"
   },
   {
    "duration": 21,
    "start_time": "2022-12-29T08:09:29.295Z"
   },
   {
    "duration": 30,
    "start_time": "2022-12-29T08:09:29.318Z"
   },
   {
    "duration": 67,
    "start_time": "2022-12-29T08:14:32.378Z"
   },
   {
    "duration": 22,
    "start_time": "2022-12-30T08:10:52.579Z"
   },
   {
    "duration": 15,
    "start_time": "2022-12-30T08:11:24.022Z"
   },
   {
    "duration": 14,
    "start_time": "2022-12-30T08:11:34.470Z"
   },
   {
    "duration": 73,
    "start_time": "2022-12-30T08:11:41.454Z"
   },
   {
    "duration": 97,
    "start_time": "2022-12-30T08:11:52.700Z"
   },
   {
    "duration": 14,
    "start_time": "2022-12-30T08:12:34.910Z"
   },
   {
    "duration": 16,
    "start_time": "2022-12-30T08:13:07.111Z"
   },
   {
    "duration": 18,
    "start_time": "2022-12-30T08:15:13.623Z"
   },
   {
    "duration": 4,
    "start_time": "2022-12-30T08:20:43.711Z"
   },
   {
    "duration": 5,
    "start_time": "2022-12-30T08:20:49.351Z"
   },
   {
    "duration": 890,
    "start_time": "2022-12-30T08:21:00.671Z"
   },
   {
    "duration": 18,
    "start_time": "2022-12-30T08:21:55.232Z"
   },
   {
    "duration": 21,
    "start_time": "2022-12-30T08:22:01.944Z"
   },
   {
    "duration": 33,
    "start_time": "2022-12-30T08:22:06.112Z"
   },
   {
    "duration": 18,
    "start_time": "2022-12-30T08:22:27.072Z"
   },
   {
    "duration": 984,
    "start_time": "2022-12-30T08:22:29.273Z"
   },
   {
    "duration": 19,
    "start_time": "2022-12-30T08:23:17.992Z"
   },
   {
    "duration": 17,
    "start_time": "2022-12-30T08:23:27.280Z"
   },
   {
    "duration": 18,
    "start_time": "2022-12-30T08:23:57.488Z"
   },
   {
    "duration": 19,
    "start_time": "2022-12-30T08:24:05.744Z"
   },
   {
    "duration": 14,
    "start_time": "2022-12-30T08:24:31.256Z"
   },
   {
    "duration": 18,
    "start_time": "2022-12-30T08:24:39.309Z"
   },
   {
    "duration": 13,
    "start_time": "2022-12-30T08:26:50.169Z"
   },
   {
    "duration": 23,
    "start_time": "2022-12-30T08:26:53.993Z"
   },
   {
    "duration": 14,
    "start_time": "2022-12-30T08:30:32.202Z"
   },
   {
    "duration": 17,
    "start_time": "2022-12-30T08:30:41.403Z"
   },
   {
    "duration": 20,
    "start_time": "2022-12-30T08:31:01.402Z"
   },
   {
    "duration": 22,
    "start_time": "2022-12-30T08:31:19.338Z"
   },
   {
    "duration": 27,
    "start_time": "2022-12-30T08:31:26.114Z"
   },
   {
    "duration": 18,
    "start_time": "2022-12-30T08:31:39.939Z"
   },
   {
    "duration": 20,
    "start_time": "2022-12-30T08:32:04.219Z"
   },
   {
    "duration": 18,
    "start_time": "2022-12-30T08:32:09.011Z"
   },
   {
    "duration": 1184,
    "start_time": "2022-12-30T08:32:44.233Z"
   },
   {
    "duration": 37,
    "start_time": "2022-12-30T08:32:45.419Z"
   },
   {
    "duration": 14,
    "start_time": "2022-12-30T08:32:45.458Z"
   },
   {
    "duration": 13,
    "start_time": "2022-12-30T08:32:45.474Z"
   },
   {
    "duration": 27,
    "start_time": "2022-12-30T08:32:45.489Z"
   },
   {
    "duration": 68,
    "start_time": "2022-12-30T08:32:45.518Z"
   },
   {
    "duration": 11,
    "start_time": "2022-12-30T08:32:45.588Z"
   },
   {
    "duration": 33,
    "start_time": "2022-12-30T08:32:45.601Z"
   },
   {
    "duration": 15,
    "start_time": "2022-12-30T08:32:45.636Z"
   },
   {
    "duration": 27,
    "start_time": "2022-12-30T08:32:45.654Z"
   },
   {
    "duration": 17,
    "start_time": "2022-12-30T08:32:45.683Z"
   },
   {
    "duration": 23,
    "start_time": "2022-12-30T08:32:45.702Z"
   },
   {
    "duration": 12,
    "start_time": "2022-12-30T08:32:45.726Z"
   },
   {
    "duration": 27,
    "start_time": "2022-12-30T08:32:45.739Z"
   },
   {
    "duration": 16,
    "start_time": "2022-12-30T08:32:45.767Z"
   },
   {
    "duration": 24,
    "start_time": "2022-12-30T08:32:45.784Z"
   },
   {
    "duration": 20,
    "start_time": "2022-12-30T08:32:45.809Z"
   },
   {
    "duration": 31,
    "start_time": "2022-12-30T08:32:45.831Z"
   },
   {
    "duration": 34,
    "start_time": "2022-12-30T08:32:45.864Z"
   },
   {
    "duration": 9,
    "start_time": "2022-12-30T08:32:45.900Z"
   },
   {
    "duration": 27,
    "start_time": "2022-12-30T08:32:45.911Z"
   },
   {
    "duration": 25,
    "start_time": "2022-12-30T08:32:45.940Z"
   },
   {
    "duration": 423,
    "start_time": "2022-12-30T08:32:45.967Z"
   },
   {
    "duration": 321,
    "start_time": "2022-12-30T08:32:46.393Z"
   },
   {
    "duration": 438,
    "start_time": "2022-12-30T08:32:46.717Z"
   },
   {
    "duration": 334,
    "start_time": "2022-12-30T08:32:47.156Z"
   },
   {
    "duration": 408,
    "start_time": "2022-12-30T08:32:47.492Z"
   },
   {
    "duration": 179,
    "start_time": "2022-12-30T08:32:47.904Z"
   },
   {
    "duration": 6,
    "start_time": "2022-12-30T08:32:48.084Z"
   },
   {
    "duration": 201,
    "start_time": "2022-12-30T08:32:48.092Z"
   },
   {
    "duration": 7,
    "start_time": "2022-12-30T08:32:48.295Z"
   },
   {
    "duration": 35,
    "start_time": "2022-12-30T08:32:48.304Z"
   },
   {
    "duration": 16,
    "start_time": "2022-12-30T08:32:48.341Z"
   },
   {
    "duration": 19,
    "start_time": "2022-12-30T08:32:48.359Z"
   },
   {
    "duration": 22,
    "start_time": "2022-12-30T08:32:48.380Z"
   },
   {
    "duration": 136,
    "start_time": "2022-12-30T08:32:48.404Z"
   },
   {
    "duration": 0,
    "start_time": "2022-12-30T08:32:48.542Z"
   },
   {
    "duration": 0,
    "start_time": "2022-12-30T08:32:48.543Z"
   },
   {
    "duration": 0,
    "start_time": "2022-12-30T08:32:48.544Z"
   },
   {
    "duration": 0,
    "start_time": "2022-12-30T08:32:48.546Z"
   },
   {
    "duration": 22,
    "start_time": "2022-12-30T08:34:48.796Z"
   },
   {
    "duration": 20,
    "start_time": "2022-12-30T08:34:49.820Z"
   },
   {
    "duration": 14,
    "start_time": "2022-12-30T08:35:30.483Z"
   },
   {
    "duration": 18,
    "start_time": "2022-12-30T08:35:47.716Z"
   },
   {
    "duration": 16,
    "start_time": "2022-12-30T08:35:57.508Z"
   },
   {
    "duration": 19,
    "start_time": "2022-12-30T08:36:08.908Z"
   },
   {
    "duration": 7,
    "start_time": "2022-12-30T08:56:10.035Z"
   },
   {
    "duration": 14,
    "start_time": "2022-12-30T08:56:49.052Z"
   },
   {
    "duration": 12,
    "start_time": "2022-12-30T08:57:08.451Z"
   },
   {
    "duration": 8,
    "start_time": "2022-12-30T08:58:17.459Z"
   },
   {
    "duration": 4,
    "start_time": "2022-12-30T08:58:34.596Z"
   },
   {
    "duration": 15,
    "start_time": "2022-12-30T08:58:39.155Z"
   },
   {
    "duration": 10,
    "start_time": "2022-12-30T08:59:37.469Z"
   },
   {
    "duration": 10,
    "start_time": "2022-12-30T09:12:03.303Z"
   },
   {
    "duration": 10,
    "start_time": "2022-12-30T09:12:50.911Z"
   },
   {
    "duration": 6,
    "start_time": "2022-12-30T09:14:37.247Z"
   },
   {
    "duration": 6,
    "start_time": "2022-12-30T09:15:17.343Z"
   },
   {
    "duration": 8,
    "start_time": "2022-12-30T09:15:34.019Z"
   },
   {
    "duration": 1110,
    "start_time": "2022-12-30T09:33:54.986Z"
   },
   {
    "duration": 36,
    "start_time": "2022-12-30T09:33:56.098Z"
   },
   {
    "duration": 14,
    "start_time": "2022-12-30T09:33:56.136Z"
   },
   {
    "duration": 36,
    "start_time": "2022-12-30T09:33:56.152Z"
   },
   {
    "duration": 69,
    "start_time": "2022-12-30T09:33:56.189Z"
   },
   {
    "duration": 88,
    "start_time": "2022-12-30T09:33:56.259Z"
   },
   {
    "duration": 11,
    "start_time": "2022-12-30T09:33:56.348Z"
   },
   {
    "duration": 28,
    "start_time": "2022-12-30T09:33:56.361Z"
   },
   {
    "duration": 39,
    "start_time": "2022-12-30T09:33:56.391Z"
   },
   {
    "duration": 48,
    "start_time": "2022-12-30T09:33:56.433Z"
   },
   {
    "duration": 55,
    "start_time": "2022-12-30T09:33:56.483Z"
   },
   {
    "duration": 63,
    "start_time": "2022-12-30T09:33:56.540Z"
   },
   {
    "duration": 26,
    "start_time": "2022-12-30T09:33:56.605Z"
   },
   {
    "duration": 45,
    "start_time": "2022-12-30T09:33:56.633Z"
   },
   {
    "duration": 53,
    "start_time": "2022-12-30T09:33:56.680Z"
   },
   {
    "duration": 43,
    "start_time": "2022-12-30T09:33:56.736Z"
   },
   {
    "duration": 74,
    "start_time": "2022-12-30T09:33:56.780Z"
   },
   {
    "duration": 65,
    "start_time": "2022-12-30T09:33:56.856Z"
   },
   {
    "duration": 31,
    "start_time": "2022-12-30T09:33:56.923Z"
   },
   {
    "duration": 47,
    "start_time": "2022-12-30T09:33:56.956Z"
   },
   {
    "duration": 59,
    "start_time": "2022-12-30T09:33:57.005Z"
   },
   {
    "duration": 30,
    "start_time": "2022-12-30T09:33:57.065Z"
   },
   {
    "duration": 434,
    "start_time": "2022-12-30T09:33:57.097Z"
   },
   {
    "duration": 314,
    "start_time": "2022-12-30T09:33:57.535Z"
   },
   {
    "duration": 392,
    "start_time": "2022-12-30T09:33:57.851Z"
   },
   {
    "duration": 318,
    "start_time": "2022-12-30T09:33:58.245Z"
   },
   {
    "duration": 405,
    "start_time": "2022-12-30T09:33:58.565Z"
   },
   {
    "duration": 188,
    "start_time": "2022-12-30T09:33:58.973Z"
   },
   {
    "duration": 5,
    "start_time": "2022-12-30T09:33:59.163Z"
   },
   {
    "duration": 238,
    "start_time": "2022-12-30T09:33:59.170Z"
   },
   {
    "duration": 5,
    "start_time": "2022-12-30T09:33:59.436Z"
   },
   {
    "duration": 38,
    "start_time": "2022-12-30T09:33:59.443Z"
   },
   {
    "duration": 45,
    "start_time": "2022-12-30T09:33:59.482Z"
   },
   {
    "duration": 26,
    "start_time": "2022-12-30T09:33:59.528Z"
   },
   {
    "duration": 33,
    "start_time": "2022-12-30T09:33:59.556Z"
   },
   {
    "duration": 45,
    "start_time": "2022-12-30T09:33:59.591Z"
   },
   {
    "duration": 23,
    "start_time": "2022-12-30T09:33:59.638Z"
   },
   {
    "duration": 16,
    "start_time": "2022-12-30T09:33:59.663Z"
   },
   {
    "duration": 65,
    "start_time": "2022-12-30T09:33:59.681Z"
   },
   {
    "duration": 8,
    "start_time": "2022-12-30T09:37:12.241Z"
   },
   {
    "duration": 162,
    "start_time": "2022-12-30T09:39:27.370Z"
   },
   {
    "duration": 10,
    "start_time": "2022-12-30T09:39:30.016Z"
   },
   {
    "duration": 6,
    "start_time": "2022-12-30T09:39:31.240Z"
   },
   {
    "duration": 262,
    "start_time": "2022-12-30T09:39:33.375Z"
   },
   {
    "duration": 6,
    "start_time": "2022-12-30T09:39:36.511Z"
   },
   {
    "duration": 15,
    "start_time": "2022-12-30T09:39:39.600Z"
   },
   {
    "duration": 3,
    "start_time": "2022-12-30T09:39:41.232Z"
   },
   {
    "duration": 9,
    "start_time": "2022-12-30T09:39:43.592Z"
   },
   {
    "duration": 15,
    "start_time": "2022-12-30T09:40:17.104Z"
   },
   {
    "duration": 176,
    "start_time": "2022-12-30T09:43:13.449Z"
   },
   {
    "duration": 12,
    "start_time": "2022-12-30T09:43:18.645Z"
   },
   {
    "duration": 915,
    "start_time": "2022-12-30T09:43:42.340Z"
   },
   {
    "duration": 10,
    "start_time": "2022-12-30T09:44:19.188Z"
   },
   {
    "duration": 10,
    "start_time": "2022-12-30T09:46:17.315Z"
   },
   {
    "duration": 12,
    "start_time": "2022-12-30T09:46:48.563Z"
   },
   {
    "duration": 12,
    "start_time": "2022-12-30T09:47:26.666Z"
   },
   {
    "duration": 1169,
    "start_time": "2022-12-30T09:47:34.224Z"
   },
   {
    "duration": 35,
    "start_time": "2022-12-30T09:47:35.395Z"
   },
   {
    "duration": 12,
    "start_time": "2022-12-30T09:47:35.432Z"
   },
   {
    "duration": 11,
    "start_time": "2022-12-30T09:47:35.446Z"
   },
   {
    "duration": 14,
    "start_time": "2022-12-30T09:47:35.459Z"
   },
   {
    "duration": 56,
    "start_time": "2022-12-30T09:47:35.475Z"
   },
   {
    "duration": 11,
    "start_time": "2022-12-30T09:47:35.533Z"
   },
   {
    "duration": 23,
    "start_time": "2022-12-30T09:47:35.546Z"
   },
   {
    "duration": 14,
    "start_time": "2022-12-30T09:47:35.570Z"
   },
   {
    "duration": 15,
    "start_time": "2022-12-30T09:47:35.587Z"
   },
   {
    "duration": 11,
    "start_time": "2022-12-30T09:47:35.603Z"
   },
   {
    "duration": 22,
    "start_time": "2022-12-30T09:47:35.616Z"
   },
   {
    "duration": 12,
    "start_time": "2022-12-30T09:47:35.640Z"
   },
   {
    "duration": 14,
    "start_time": "2022-12-30T09:47:35.654Z"
   },
   {
    "duration": 18,
    "start_time": "2022-12-30T09:47:35.669Z"
   },
   {
    "duration": 11,
    "start_time": "2022-12-30T09:47:35.689Z"
   },
   {
    "duration": 10,
    "start_time": "2022-12-30T09:47:35.701Z"
   },
   {
    "duration": 21,
    "start_time": "2022-12-30T09:47:35.712Z"
   },
   {
    "duration": 15,
    "start_time": "2022-12-30T09:47:35.735Z"
   },
   {
    "duration": 12,
    "start_time": "2022-12-30T09:47:35.751Z"
   },
   {
    "duration": 15,
    "start_time": "2022-12-30T09:47:35.765Z"
   },
   {
    "duration": 29,
    "start_time": "2022-12-30T09:47:35.782Z"
   },
   {
    "duration": 422,
    "start_time": "2022-12-30T09:47:35.813Z"
   },
   {
    "duration": 365,
    "start_time": "2022-12-30T09:47:36.237Z"
   },
   {
    "duration": 453,
    "start_time": "2022-12-30T09:47:36.604Z"
   },
   {
    "duration": 340,
    "start_time": "2022-12-30T09:47:37.059Z"
   },
   {
    "duration": 439,
    "start_time": "2022-12-30T09:47:37.401Z"
   },
   {
    "duration": 184,
    "start_time": "2022-12-30T09:47:37.843Z"
   },
   {
    "duration": 6,
    "start_time": "2022-12-30T09:47:38.034Z"
   },
   {
    "duration": 195,
    "start_time": "2022-12-30T09:47:38.042Z"
   },
   {
    "duration": 6,
    "start_time": "2022-12-30T09:47:38.239Z"
   },
   {
    "duration": 25,
    "start_time": "2022-12-30T09:47:38.247Z"
   },
   {
    "duration": 30,
    "start_time": "2022-12-30T09:47:38.274Z"
   },
   {
    "duration": 21,
    "start_time": "2022-12-30T09:47:38.306Z"
   },
   {
    "duration": 10,
    "start_time": "2022-12-30T09:47:38.329Z"
   },
   {
    "duration": 13,
    "start_time": "2022-12-30T09:47:38.341Z"
   },
   {
    "duration": 12,
    "start_time": "2022-12-30T09:47:38.355Z"
   },
   {
    "duration": 11,
    "start_time": "2022-12-30T09:47:59.989Z"
   },
   {
    "duration": 7,
    "start_time": "2022-12-30T09:54:10.518Z"
   },
   {
    "duration": 11,
    "start_time": "2022-12-30T09:55:47.198Z"
   },
   {
    "duration": 6,
    "start_time": "2022-12-30T09:56:39.744Z"
   },
   {
    "duration": 11,
    "start_time": "2022-12-30T09:56:53.935Z"
   },
   {
    "duration": 7,
    "start_time": "2022-12-30T09:56:57.671Z"
   },
   {
    "duration": 8,
    "start_time": "2022-12-30T09:59:07.086Z"
   },
   {
    "duration": 1123,
    "start_time": "2022-12-30T10:09:29.885Z"
   },
   {
    "duration": 36,
    "start_time": "2022-12-30T10:09:31.010Z"
   },
   {
    "duration": 14,
    "start_time": "2022-12-30T10:09:31.047Z"
   },
   {
    "duration": 19,
    "start_time": "2022-12-30T10:09:31.063Z"
   },
   {
    "duration": 19,
    "start_time": "2022-12-30T10:09:31.084Z"
   },
   {
    "duration": 76,
    "start_time": "2022-12-30T10:09:31.105Z"
   },
   {
    "duration": 11,
    "start_time": "2022-12-30T10:09:31.183Z"
   },
   {
    "duration": 25,
    "start_time": "2022-12-30T10:09:31.195Z"
   },
   {
    "duration": 42,
    "start_time": "2022-12-30T10:09:31.222Z"
   },
   {
    "duration": 36,
    "start_time": "2022-12-30T10:09:31.267Z"
   },
   {
    "duration": 28,
    "start_time": "2022-12-30T10:09:31.304Z"
   },
   {
    "duration": 32,
    "start_time": "2022-12-30T10:09:31.334Z"
   },
   {
    "duration": 22,
    "start_time": "2022-12-30T10:09:31.368Z"
   },
   {
    "duration": 25,
    "start_time": "2022-12-30T10:09:31.392Z"
   },
   {
    "duration": 22,
    "start_time": "2022-12-30T10:09:31.418Z"
   },
   {
    "duration": 14,
    "start_time": "2022-12-30T10:09:31.441Z"
   },
   {
    "duration": 38,
    "start_time": "2022-12-30T10:09:31.457Z"
   },
   {
    "duration": 47,
    "start_time": "2022-12-30T10:09:31.497Z"
   },
   {
    "duration": 14,
    "start_time": "2022-12-30T10:09:31.545Z"
   },
   {
    "duration": 35,
    "start_time": "2022-12-30T10:09:31.561Z"
   },
   {
    "duration": 50,
    "start_time": "2022-12-30T10:09:31.597Z"
   },
   {
    "duration": 41,
    "start_time": "2022-12-30T10:09:31.649Z"
   },
   {
    "duration": 446,
    "start_time": "2022-12-30T10:09:31.692Z"
   },
   {
    "duration": 321,
    "start_time": "2022-12-30T10:09:32.140Z"
   },
   {
    "duration": 413,
    "start_time": "2022-12-30T10:09:32.463Z"
   },
   {
    "duration": 329,
    "start_time": "2022-12-30T10:09:32.878Z"
   },
   {
    "duration": 442,
    "start_time": "2022-12-30T10:09:33.209Z"
   },
   {
    "duration": 195,
    "start_time": "2022-12-30T10:09:33.655Z"
   },
   {
    "duration": 6,
    "start_time": "2022-12-30T10:09:33.852Z"
   },
   {
    "duration": 222,
    "start_time": "2022-12-30T10:09:33.860Z"
   },
   {
    "duration": 7,
    "start_time": "2022-12-30T10:09:34.084Z"
   },
   {
    "duration": 31,
    "start_time": "2022-12-30T10:09:34.092Z"
   },
   {
    "duration": 26,
    "start_time": "2022-12-30T10:09:34.125Z"
   },
   {
    "duration": 22,
    "start_time": "2022-12-30T10:09:34.153Z"
   },
   {
    "duration": 21,
    "start_time": "2022-12-30T10:09:34.177Z"
   },
   {
    "duration": 45,
    "start_time": "2022-12-30T10:09:34.200Z"
   },
   {
    "duration": 26,
    "start_time": "2022-12-30T10:09:34.248Z"
   },
   {
    "duration": 28,
    "start_time": "2022-12-30T10:09:34.276Z"
   },
   {
    "duration": 39,
    "start_time": "2022-12-30T10:09:34.306Z"
   },
   {
    "duration": 1233,
    "start_time": "2022-12-30T10:40:51.692Z"
   },
   {
    "duration": 71,
    "start_time": "2022-12-30T10:40:52.927Z"
   },
   {
    "duration": 15,
    "start_time": "2022-12-30T10:40:53.000Z"
   },
   {
    "duration": 11,
    "start_time": "2022-12-30T10:40:53.017Z"
   },
   {
    "duration": 12,
    "start_time": "2022-12-30T10:40:53.030Z"
   },
   {
    "duration": 185,
    "start_time": "2022-12-30T10:40:53.043Z"
   },
   {
    "duration": 12,
    "start_time": "2022-12-30T10:40:53.230Z"
   },
   {
    "duration": 19,
    "start_time": "2022-12-30T10:40:53.244Z"
   },
   {
    "duration": 11,
    "start_time": "2022-12-30T10:40:53.265Z"
   },
   {
    "duration": 22,
    "start_time": "2022-12-30T10:40:53.279Z"
   },
   {
    "duration": 6,
    "start_time": "2022-12-30T10:40:53.304Z"
   },
   {
    "duration": 7,
    "start_time": "2022-12-30T10:40:53.311Z"
   },
   {
    "duration": 6,
    "start_time": "2022-12-30T10:40:53.319Z"
   },
   {
    "duration": 9,
    "start_time": "2022-12-30T10:40:53.327Z"
   },
   {
    "duration": 7,
    "start_time": "2022-12-30T10:40:53.337Z"
   },
   {
    "duration": 7,
    "start_time": "2022-12-30T10:40:53.346Z"
   },
   {
    "duration": 33,
    "start_time": "2022-12-30T10:40:53.355Z"
   },
   {
    "duration": 21,
    "start_time": "2022-12-30T10:40:53.390Z"
   },
   {
    "duration": 18,
    "start_time": "2022-12-30T10:40:53.413Z"
   },
   {
    "duration": 7,
    "start_time": "2022-12-30T10:40:53.433Z"
   },
   {
    "duration": 8,
    "start_time": "2022-12-30T10:40:53.441Z"
   },
   {
    "duration": 13,
    "start_time": "2022-12-30T10:40:53.450Z"
   },
   {
    "duration": 396,
    "start_time": "2022-12-30T10:40:53.465Z"
   },
   {
    "duration": 322,
    "start_time": "2022-12-30T10:40:53.863Z"
   },
   {
    "duration": 400,
    "start_time": "2022-12-30T10:40:54.191Z"
   },
   {
    "duration": 343,
    "start_time": "2022-12-30T10:40:54.593Z"
   },
   {
    "duration": 416,
    "start_time": "2022-12-30T10:40:54.938Z"
   },
   {
    "duration": 181,
    "start_time": "2022-12-30T10:40:55.357Z"
   },
   {
    "duration": 6,
    "start_time": "2022-12-30T10:40:55.540Z"
   },
   {
    "duration": 215,
    "start_time": "2022-12-30T10:40:55.547Z"
   },
   {
    "duration": 6,
    "start_time": "2022-12-30T10:40:55.764Z"
   },
   {
    "duration": 33,
    "start_time": "2022-12-30T10:40:55.771Z"
   },
   {
    "duration": 40,
    "start_time": "2022-12-30T10:40:55.806Z"
   },
   {
    "duration": 70,
    "start_time": "2022-12-30T10:40:55.847Z"
   },
   {
    "duration": 0,
    "start_time": "2022-12-30T10:40:55.920Z"
   },
   {
    "duration": 0,
    "start_time": "2022-12-30T10:40:55.921Z"
   },
   {
    "duration": 0,
    "start_time": "2022-12-30T10:40:55.923Z"
   },
   {
    "duration": 0,
    "start_time": "2022-12-30T10:40:55.924Z"
   },
   {
    "duration": 0,
    "start_time": "2022-12-30T10:40:55.925Z"
   },
   {
    "duration": 0,
    "start_time": "2022-12-30T10:40:55.926Z"
   },
   {
    "duration": 7,
    "start_time": "2022-12-30T10:42:25.026Z"
   },
   {
    "duration": 130,
    "start_time": "2022-12-30T10:43:18.985Z"
   },
   {
    "duration": 11,
    "start_time": "2022-12-30T11:48:57.926Z"
   },
   {
    "duration": 6,
    "start_time": "2022-12-30T11:48:58.628Z"
   },
   {
    "duration": 11,
    "start_time": "2022-12-30T11:50:05.760Z"
   },
   {
    "duration": 7,
    "start_time": "2022-12-30T11:50:06.409Z"
   },
   {
    "duration": 12,
    "start_time": "2022-12-30T11:50:09.192Z"
   },
   {
    "duration": 7,
    "start_time": "2022-12-30T11:50:09.739Z"
   },
   {
    "duration": 64,
    "start_time": "2023-01-05T06:22:09.154Z"
   },
   {
    "duration": 1346,
    "start_time": "2023-01-05T06:22:15.356Z"
   },
   {
    "duration": 73,
    "start_time": "2023-01-05T06:22:16.832Z"
   },
   {
    "duration": 70,
    "start_time": "2023-01-05T06:42:47.613Z"
   },
   {
    "duration": 1184,
    "start_time": "2023-01-05T06:43:44.245Z"
   },
   {
    "duration": 39,
    "start_time": "2023-01-05T06:43:45.432Z"
   },
   {
    "duration": 15,
    "start_time": "2023-01-05T06:43:45.472Z"
   },
   {
    "duration": 12,
    "start_time": "2023-01-05T06:43:45.489Z"
   },
   {
    "duration": 23,
    "start_time": "2023-01-05T06:43:45.502Z"
   },
   {
    "duration": 138,
    "start_time": "2023-01-05T06:43:45.527Z"
   },
   {
    "duration": 12,
    "start_time": "2023-01-05T06:43:45.667Z"
   },
   {
    "duration": 16,
    "start_time": "2023-01-05T06:43:45.681Z"
   },
   {
    "duration": 11,
    "start_time": "2023-01-05T06:43:45.700Z"
   },
   {
    "duration": 9,
    "start_time": "2023-01-05T06:43:45.715Z"
   },
   {
    "duration": 12,
    "start_time": "2023-01-05T06:43:45.726Z"
   },
   {
    "duration": 8,
    "start_time": "2023-01-05T06:43:45.740Z"
   },
   {
    "duration": 8,
    "start_time": "2023-01-05T06:43:45.749Z"
   },
   {
    "duration": 24,
    "start_time": "2023-01-05T06:43:45.758Z"
   },
   {
    "duration": 11,
    "start_time": "2023-01-05T06:43:45.784Z"
   },
   {
    "duration": 11,
    "start_time": "2023-01-05T06:43:45.797Z"
   },
   {
    "duration": 8,
    "start_time": "2023-01-05T06:43:45.809Z"
   },
   {
    "duration": 21,
    "start_time": "2023-01-05T06:43:45.818Z"
   },
   {
    "duration": 39,
    "start_time": "2023-01-05T06:43:45.841Z"
   },
   {
    "duration": 5,
    "start_time": "2023-01-05T06:43:45.884Z"
   },
   {
    "duration": 36,
    "start_time": "2023-01-05T06:43:45.891Z"
   },
   {
    "duration": 26,
    "start_time": "2023-01-05T06:43:45.929Z"
   },
   {
    "duration": 373,
    "start_time": "2023-01-05T06:43:45.957Z"
   },
   {
    "duration": 322,
    "start_time": "2023-01-05T06:43:46.332Z"
   },
   {
    "duration": 433,
    "start_time": "2023-01-05T06:43:46.656Z"
   },
   {
    "duration": 370,
    "start_time": "2023-01-05T06:43:47.090Z"
   },
   {
    "duration": 427,
    "start_time": "2023-01-05T06:43:47.462Z"
   },
   {
    "duration": 189,
    "start_time": "2023-01-05T06:43:47.893Z"
   },
   {
    "duration": 8,
    "start_time": "2023-01-05T06:43:48.084Z"
   },
   {
    "duration": 241,
    "start_time": "2023-01-05T06:43:48.094Z"
   },
   {
    "duration": 8,
    "start_time": "2023-01-05T06:43:48.337Z"
   },
   {
    "duration": 37,
    "start_time": "2023-01-05T06:43:48.347Z"
   },
   {
    "duration": 22,
    "start_time": "2023-01-05T06:43:48.386Z"
   },
   {
    "duration": 26,
    "start_time": "2023-01-05T06:43:48.410Z"
   },
   {
    "duration": 30,
    "start_time": "2023-01-05T06:43:48.439Z"
   },
   {
    "duration": 52,
    "start_time": "2023-01-05T06:43:48.471Z"
   },
   {
    "duration": 30,
    "start_time": "2023-01-05T06:43:48.526Z"
   },
   {
    "duration": 25,
    "start_time": "2023-01-05T06:43:48.559Z"
   },
   {
    "duration": 42,
    "start_time": "2023-01-05T06:43:48.586Z"
   },
   {
    "duration": 15,
    "start_time": "2023-01-05T06:47:26.586Z"
   },
   {
    "duration": 52,
    "start_time": "2023-01-05T06:47:55.360Z"
   },
   {
    "duration": 9,
    "start_time": "2023-01-05T06:48:05.140Z"
   },
   {
    "duration": 13,
    "start_time": "2023-01-05T06:48:22.609Z"
   },
   {
    "duration": 1319,
    "start_time": "2023-01-09T10:09:52.324Z"
   },
   {
    "duration": 89,
    "start_time": "2023-01-09T10:09:53.645Z"
   },
   {
    "duration": 12,
    "start_time": "2023-01-09T10:09:53.736Z"
   },
   {
    "duration": 10,
    "start_time": "2023-01-09T10:09:53.750Z"
   },
   {
    "duration": 13,
    "start_time": "2023-01-09T10:09:53.762Z"
   },
   {
    "duration": 160,
    "start_time": "2023-01-09T10:09:53.777Z"
   },
   {
    "duration": 13,
    "start_time": "2023-01-09T10:09:53.939Z"
   },
   {
    "duration": 15,
    "start_time": "2023-01-09T10:09:53.954Z"
   },
   {
    "duration": 14,
    "start_time": "2023-01-09T10:09:53.971Z"
   },
   {
    "duration": 9,
    "start_time": "2023-01-09T10:09:53.987Z"
   },
   {
    "duration": 8,
    "start_time": "2023-01-09T10:09:53.997Z"
   },
   {
    "duration": 11,
    "start_time": "2023-01-09T10:09:54.007Z"
   },
   {
    "duration": 12,
    "start_time": "2023-01-09T10:09:54.019Z"
   },
   {
    "duration": 12,
    "start_time": "2023-01-09T10:09:54.034Z"
   },
   {
    "duration": 11,
    "start_time": "2023-01-09T10:09:54.047Z"
   },
   {
    "duration": 21,
    "start_time": "2023-01-09T10:09:54.060Z"
   },
   {
    "duration": 10,
    "start_time": "2023-01-09T10:09:54.083Z"
   },
   {
    "duration": 27,
    "start_time": "2023-01-09T10:09:54.095Z"
   },
   {
    "duration": 16,
    "start_time": "2023-01-09T10:09:54.125Z"
   },
   {
    "duration": 7,
    "start_time": "2023-01-09T10:09:54.142Z"
   },
   {
    "duration": 12,
    "start_time": "2023-01-09T10:09:54.151Z"
   },
   {
    "duration": 13,
    "start_time": "2023-01-09T10:09:54.164Z"
   },
   {
    "duration": 384,
    "start_time": "2023-01-09T10:09:54.179Z"
   },
   {
    "duration": 326,
    "start_time": "2023-01-09T10:09:54.565Z"
   },
   {
    "duration": 462,
    "start_time": "2023-01-09T10:09:54.893Z"
   },
   {
    "duration": 348,
    "start_time": "2023-01-09T10:09:55.357Z"
   },
   {
    "duration": 398,
    "start_time": "2023-01-09T10:09:55.707Z"
   },
   {
    "duration": 174,
    "start_time": "2023-01-09T10:09:56.108Z"
   },
   {
    "duration": 6,
    "start_time": "2023-01-09T10:09:56.283Z"
   },
   {
    "duration": 185,
    "start_time": "2023-01-09T10:09:56.290Z"
   },
   {
    "duration": 6,
    "start_time": "2023-01-09T10:09:56.476Z"
   },
   {
    "duration": 14,
    "start_time": "2023-01-09T10:09:56.484Z"
   },
   {
    "duration": 10,
    "start_time": "2023-01-09T10:09:56.512Z"
   },
   {
    "duration": 12,
    "start_time": "2023-01-09T10:09:56.523Z"
   },
   {
    "duration": 9,
    "start_time": "2023-01-09T10:09:56.537Z"
   },
   {
    "duration": 6,
    "start_time": "2023-01-09T10:09:56.548Z"
   },
   {
    "duration": 13,
    "start_time": "2023-01-09T10:09:56.556Z"
   },
   {
    "duration": 7,
    "start_time": "2023-01-09T10:09:56.571Z"
   },
   {
    "duration": 41,
    "start_time": "2023-01-09T10:09:56.580Z"
   },
   {
    "duration": 7,
    "start_time": "2023-01-09T10:09:56.623Z"
   },
   {
    "duration": 100,
    "start_time": "2023-01-09T10:11:09.161Z"
   },
   {
    "duration": 18,
    "start_time": "2023-01-09T10:11:10.916Z"
   },
   {
    "duration": 11,
    "start_time": "2023-01-09T10:13:39.312Z"
   },
   {
    "duration": 11,
    "start_time": "2023-01-09T10:13:41.154Z"
   },
   {
    "duration": 16,
    "start_time": "2023-01-09T10:17:06.078Z"
   },
   {
    "duration": 18,
    "start_time": "2023-01-09T10:17:40.508Z"
   },
   {
    "duration": 24,
    "start_time": "2023-01-09T10:17:42.232Z"
   },
   {
    "duration": 328,
    "start_time": "2023-01-09T10:17:53.846Z"
   },
   {
    "duration": 77,
    "start_time": "2023-01-09T10:20:12.320Z"
   },
   {
    "duration": 308,
    "start_time": "2023-01-09T10:20:17.022Z"
   },
   {
    "duration": 8,
    "start_time": "2023-01-09T10:31:05.625Z"
   },
   {
    "duration": 8,
    "start_time": "2023-01-09T10:32:26.426Z"
   },
   {
    "duration": 9,
    "start_time": "2023-01-09T10:33:02.945Z"
   },
   {
    "duration": 11,
    "start_time": "2023-01-09T10:33:44.353Z"
   },
   {
    "duration": 12,
    "start_time": "2023-01-09T10:39:08.612Z"
   },
   {
    "duration": 1143,
    "start_time": "2023-01-09T10:40:30.660Z"
   },
   {
    "duration": 175,
    "start_time": "2023-01-09T10:42:32.504Z"
   },
   {
    "duration": 13,
    "start_time": "2023-01-09T10:42:48.608Z"
   },
   {
    "duration": 229,
    "start_time": "2023-01-09T10:42:57.340Z"
   },
   {
    "duration": 1174,
    "start_time": "2023-01-09T10:43:12.949Z"
   },
   {
    "duration": 26,
    "start_time": "2023-01-09T10:43:25.364Z"
   },
   {
    "duration": 331,
    "start_time": "2023-01-09T10:43:31.780Z"
   },
   {
    "duration": 12,
    "start_time": "2023-01-09T10:46:37.676Z"
   },
   {
    "duration": 1173,
    "start_time": "2023-01-09T10:46:43.606Z"
   },
   {
    "duration": 1344,
    "start_time": "2023-01-09T10:46:52.966Z"
   },
   {
    "duration": 1156,
    "start_time": "2023-01-09T10:47:00.939Z"
   },
   {
    "duration": 11,
    "start_time": "2023-01-09T10:47:08.748Z"
   },
   {
    "duration": 12,
    "start_time": "2023-01-09T10:49:30.666Z"
   },
   {
    "duration": 17,
    "start_time": "2023-01-09T10:50:51.411Z"
   },
   {
    "duration": 1101,
    "start_time": "2023-01-09T10:58:26.672Z"
   },
   {
    "duration": 38,
    "start_time": "2023-01-09T10:58:27.775Z"
   },
   {
    "duration": 15,
    "start_time": "2023-01-09T10:58:27.815Z"
   },
   {
    "duration": 20,
    "start_time": "2023-01-09T10:58:27.832Z"
   },
   {
    "duration": 37,
    "start_time": "2023-01-09T10:58:27.853Z"
   },
   {
    "duration": 58,
    "start_time": "2023-01-09T10:58:27.892Z"
   },
   {
    "duration": 13,
    "start_time": "2023-01-09T10:58:27.952Z"
   },
   {
    "duration": 21,
    "start_time": "2023-01-09T10:58:27.967Z"
   },
   {
    "duration": 10,
    "start_time": "2023-01-09T10:58:27.990Z"
   },
   {
    "duration": 9,
    "start_time": "2023-01-09T10:58:28.003Z"
   },
   {
    "duration": 25,
    "start_time": "2023-01-09T10:58:28.013Z"
   },
   {
    "duration": 21,
    "start_time": "2023-01-09T10:58:28.039Z"
   },
   {
    "duration": 17,
    "start_time": "2023-01-09T10:58:28.062Z"
   },
   {
    "duration": 20,
    "start_time": "2023-01-09T10:58:28.080Z"
   },
   {
    "duration": 14,
    "start_time": "2023-01-09T10:58:28.102Z"
   },
   {
    "duration": 22,
    "start_time": "2023-01-09T10:58:28.118Z"
   },
   {
    "duration": 6,
    "start_time": "2023-01-09T10:58:28.141Z"
   },
   {
    "duration": 31,
    "start_time": "2023-01-09T10:58:28.148Z"
   },
   {
    "duration": 15,
    "start_time": "2023-01-09T10:58:28.180Z"
   },
   {
    "duration": 8,
    "start_time": "2023-01-09T10:58:28.196Z"
   },
   {
    "duration": 54,
    "start_time": "2023-01-09T10:58:28.206Z"
   },
   {
    "duration": 44,
    "start_time": "2023-01-09T10:58:28.262Z"
   },
   {
    "duration": 396,
    "start_time": "2023-01-09T10:58:28.307Z"
   },
   {
    "duration": 311,
    "start_time": "2023-01-09T10:58:28.705Z"
   },
   {
    "duration": 406,
    "start_time": "2023-01-09T10:58:29.017Z"
   },
   {
    "duration": 328,
    "start_time": "2023-01-09T10:58:29.425Z"
   },
   {
    "duration": 355,
    "start_time": "2023-01-09T10:58:29.755Z"
   },
   {
    "duration": 171,
    "start_time": "2023-01-09T10:58:30.113Z"
   },
   {
    "duration": 5,
    "start_time": "2023-01-09T10:58:30.286Z"
   },
   {
    "duration": 233,
    "start_time": "2023-01-09T10:58:30.292Z"
   },
   {
    "duration": 8,
    "start_time": "2023-01-09T10:58:30.527Z"
   },
   {
    "duration": 57,
    "start_time": "2023-01-09T10:58:30.537Z"
   },
   {
    "duration": 358,
    "start_time": "2023-01-09T10:58:30.596Z"
   },
   {
    "duration": 10,
    "start_time": "2023-01-09T10:58:30.955Z"
   },
   {
    "duration": 40,
    "start_time": "2023-01-09T10:58:30.966Z"
   },
   {
    "duration": 353,
    "start_time": "2023-01-09T10:58:31.008Z"
   },
   {
    "duration": 18,
    "start_time": "2023-01-09T10:58:31.362Z"
   },
   {
    "duration": 1128,
    "start_time": "2023-01-09T11:59:23.919Z"
   },
   {
    "duration": 24,
    "start_time": "2023-01-09T11:59:25.049Z"
   },
   {
    "duration": 25,
    "start_time": "2023-01-09T11:59:25.075Z"
   },
   {
    "duration": 26,
    "start_time": "2023-01-09T11:59:25.102Z"
   },
   {
    "duration": 23,
    "start_time": "2023-01-09T11:59:25.129Z"
   },
   {
    "duration": 35,
    "start_time": "2023-01-09T11:59:25.153Z"
   },
   {
    "duration": 13,
    "start_time": "2023-01-09T11:59:25.190Z"
   },
   {
    "duration": 12,
    "start_time": "2023-01-09T11:59:25.205Z"
   },
   {
    "duration": 15,
    "start_time": "2023-01-09T11:59:25.219Z"
   },
   {
    "duration": 18,
    "start_time": "2023-01-09T11:59:25.237Z"
   },
   {
    "duration": 11,
    "start_time": "2023-01-09T11:59:25.256Z"
   },
   {
    "duration": 18,
    "start_time": "2023-01-09T11:59:25.269Z"
   },
   {
    "duration": 7,
    "start_time": "2023-01-09T11:59:25.289Z"
   },
   {
    "duration": 15,
    "start_time": "2023-01-09T11:59:25.298Z"
   },
   {
    "duration": 17,
    "start_time": "2023-01-09T11:59:25.314Z"
   },
   {
    "duration": 11,
    "start_time": "2023-01-09T11:59:25.333Z"
   },
   {
    "duration": 11,
    "start_time": "2023-01-09T11:59:25.346Z"
   },
   {
    "duration": 22,
    "start_time": "2023-01-09T11:59:25.359Z"
   },
   {
    "duration": 17,
    "start_time": "2023-01-09T11:59:25.383Z"
   },
   {
    "duration": 21,
    "start_time": "2023-01-09T11:59:25.401Z"
   },
   {
    "duration": 10,
    "start_time": "2023-01-09T11:59:25.423Z"
   },
   {
    "duration": 15,
    "start_time": "2023-01-09T11:59:25.434Z"
   },
   {
    "duration": 379,
    "start_time": "2023-01-09T11:59:25.451Z"
   },
   {
    "duration": 330,
    "start_time": "2023-01-09T11:59:25.832Z"
   },
   {
    "duration": 434,
    "start_time": "2023-01-09T11:59:26.165Z"
   },
   {
    "duration": 310,
    "start_time": "2023-01-09T11:59:26.600Z"
   },
   {
    "duration": 395,
    "start_time": "2023-01-09T11:59:26.912Z"
   },
   {
    "duration": 176,
    "start_time": "2023-01-09T11:59:27.310Z"
   },
   {
    "duration": 12,
    "start_time": "2023-01-09T11:59:27.487Z"
   },
   {
    "duration": 177,
    "start_time": "2023-01-09T11:59:27.500Z"
   },
   {
    "duration": 4,
    "start_time": "2023-01-09T11:59:27.679Z"
   },
   {
    "duration": 25,
    "start_time": "2023-01-09T11:59:27.684Z"
   },
   {
    "duration": 333,
    "start_time": "2023-01-09T11:59:27.710Z"
   },
   {
    "duration": 8,
    "start_time": "2023-01-09T11:59:28.045Z"
   },
   {
    "duration": 12,
    "start_time": "2023-01-09T11:59:28.055Z"
   },
   {
    "duration": 349,
    "start_time": "2023-01-09T11:59:28.069Z"
   },
   {
    "duration": 17,
    "start_time": "2023-01-09T11:59:28.420Z"
   },
   {
    "duration": 118,
    "start_time": "2023-01-09T12:01:36.243Z"
   },
   {
    "duration": 158,
    "start_time": "2023-01-09T12:02:46.546Z"
   },
   {
    "duration": 158,
    "start_time": "2023-01-09T12:02:53.465Z"
   },
   {
    "duration": 50,
    "start_time": "2023-01-11T07:39:40.739Z"
   },
   {
    "duration": 11,
    "start_time": "2023-01-11T07:40:24.344Z"
   },
   {
    "duration": 1305,
    "start_time": "2023-01-11T07:40:36.694Z"
   },
   {
    "duration": 99,
    "start_time": "2023-01-11T07:40:38.001Z"
   },
   {
    "duration": 13,
    "start_time": "2023-01-11T07:40:38.101Z"
   },
   {
    "duration": 27,
    "start_time": "2023-01-11T07:40:38.115Z"
   },
   {
    "duration": 27,
    "start_time": "2023-01-11T07:40:38.144Z"
   },
   {
    "duration": 176,
    "start_time": "2023-01-11T07:40:38.172Z"
   },
   {
    "duration": 11,
    "start_time": "2023-01-11T07:40:38.350Z"
   },
   {
    "duration": 35,
    "start_time": "2023-01-11T07:40:38.363Z"
   },
   {
    "duration": 13,
    "start_time": "2023-01-11T07:40:38.399Z"
   },
   {
    "duration": 28,
    "start_time": "2023-01-11T07:40:38.413Z"
   },
   {
    "duration": 6,
    "start_time": "2023-01-11T07:40:38.443Z"
   },
   {
    "duration": 18,
    "start_time": "2023-01-11T07:40:38.451Z"
   },
   {
    "duration": 13,
    "start_time": "2023-01-11T07:40:38.471Z"
   },
   {
    "duration": 13,
    "start_time": "2023-01-11T07:40:38.486Z"
   },
   {
    "duration": 37,
    "start_time": "2023-01-11T07:40:38.501Z"
   },
   {
    "duration": 9,
    "start_time": "2023-01-11T07:40:38.540Z"
   },
   {
    "duration": 16,
    "start_time": "2023-01-11T07:40:38.551Z"
   },
   {
    "duration": 22,
    "start_time": "2023-01-11T07:40:38.568Z"
   },
   {
    "duration": 14,
    "start_time": "2023-01-11T07:40:38.592Z"
   },
   {
    "duration": 33,
    "start_time": "2023-01-11T07:40:38.607Z"
   },
   {
    "duration": 19,
    "start_time": "2023-01-11T07:40:38.641Z"
   },
   {
    "duration": 28,
    "start_time": "2023-01-11T07:40:38.661Z"
   },
   {
    "duration": 378,
    "start_time": "2023-01-11T07:40:38.691Z"
   },
   {
    "duration": 284,
    "start_time": "2023-01-11T07:40:39.071Z"
   },
   {
    "duration": 406,
    "start_time": "2023-01-11T07:40:39.357Z"
   },
   {
    "duration": 323,
    "start_time": "2023-01-11T07:40:39.764Z"
   },
   {
    "duration": 408,
    "start_time": "2023-01-11T07:40:40.089Z"
   },
   {
    "duration": 175,
    "start_time": "2023-01-11T07:40:40.499Z"
   },
   {
    "duration": 6,
    "start_time": "2023-01-11T07:40:40.675Z"
   },
   {
    "duration": 189,
    "start_time": "2023-01-11T07:40:40.683Z"
   },
   {
    "duration": 6,
    "start_time": "2023-01-11T07:40:40.874Z"
   },
   {
    "duration": 15,
    "start_time": "2023-01-11T07:40:40.881Z"
   },
   {
    "duration": 1277,
    "start_time": "2023-01-11T07:40:40.898Z"
   },
   {
    "duration": 0,
    "start_time": "2023-01-11T07:40:42.177Z"
   },
   {
    "duration": 0,
    "start_time": "2023-01-11T07:40:42.178Z"
   },
   {
    "duration": 0,
    "start_time": "2023-01-11T07:40:42.179Z"
   },
   {
    "duration": 0,
    "start_time": "2023-01-11T07:40:42.180Z"
   },
   {
    "duration": 131,
    "start_time": "2023-01-11T07:42:29.557Z"
   },
   {
    "duration": 85,
    "start_time": "2023-01-11T07:42:54.659Z"
   },
   {
    "duration": 78,
    "start_time": "2023-01-11T07:43:13.963Z"
   },
   {
    "duration": 89,
    "start_time": "2023-01-11T07:45:17.075Z"
   },
   {
    "duration": 80,
    "start_time": "2023-01-11T07:45:27.954Z"
   },
   {
    "duration": 73,
    "start_time": "2023-01-11T07:46:52.738Z"
   },
   {
    "duration": 80,
    "start_time": "2023-01-11T07:48:23.659Z"
   },
   {
    "duration": 71,
    "start_time": "2023-01-11T07:48:59.242Z"
   },
   {
    "duration": 97,
    "start_time": "2023-01-11T07:49:14.542Z"
   },
   {
    "duration": 81,
    "start_time": "2023-01-11T07:50:00.794Z"
   },
   {
    "duration": 7,
    "start_time": "2023-01-11T07:50:49.947Z"
   },
   {
    "duration": 6,
    "start_time": "2023-01-11T07:51:13.840Z"
   },
   {
    "duration": 83,
    "start_time": "2023-01-11T07:51:24.754Z"
   },
   {
    "duration": 29,
    "start_time": "2023-01-11T07:52:39.267Z"
   },
   {
    "duration": 32,
    "start_time": "2023-01-11T07:57:42.722Z"
   },
   {
    "duration": 10,
    "start_time": "2023-01-11T08:00:52.194Z"
   },
   {
    "duration": 10,
    "start_time": "2023-01-11T08:00:53.031Z"
   },
   {
    "duration": 9,
    "start_time": "2023-01-11T08:02:06.851Z"
   },
   {
    "duration": 9,
    "start_time": "2023-01-11T08:02:12.763Z"
   },
   {
    "duration": 8,
    "start_time": "2023-01-11T08:04:52.125Z"
   },
   {
    "duration": 15,
    "start_time": "2023-01-11T08:05:21.716Z"
   },
   {
    "duration": 10,
    "start_time": "2023-01-11T08:05:51.676Z"
   },
   {
    "duration": 14,
    "start_time": "2023-01-11T08:06:10.218Z"
   },
   {
    "duration": 393,
    "start_time": "2023-01-11T08:08:33.491Z"
   },
   {
    "duration": 32,
    "start_time": "2023-01-11T08:09:34.915Z"
   },
   {
    "duration": 18,
    "start_time": "2023-01-11T08:10:16.637Z"
   },
   {
    "duration": 25,
    "start_time": "2023-01-11T08:11:03.109Z"
   },
   {
    "duration": 1189,
    "start_time": "2023-01-11T08:30:52.740Z"
   },
   {
    "duration": 39,
    "start_time": "2023-01-11T08:30:53.932Z"
   },
   {
    "duration": 13,
    "start_time": "2023-01-11T08:30:53.973Z"
   },
   {
    "duration": 11,
    "start_time": "2023-01-11T08:30:53.988Z"
   },
   {
    "duration": 14,
    "start_time": "2023-01-11T08:30:54.001Z"
   },
   {
    "duration": 73,
    "start_time": "2023-01-11T08:30:54.017Z"
   },
   {
    "duration": 16,
    "start_time": "2023-01-11T08:30:54.092Z"
   },
   {
    "duration": 39,
    "start_time": "2023-01-11T08:30:54.110Z"
   },
   {
    "duration": 13,
    "start_time": "2023-01-11T08:30:54.151Z"
   },
   {
    "duration": 13,
    "start_time": "2023-01-11T08:30:54.168Z"
   },
   {
    "duration": 22,
    "start_time": "2023-01-11T08:30:54.183Z"
   },
   {
    "duration": 9,
    "start_time": "2023-01-11T08:30:54.209Z"
   },
   {
    "duration": 27,
    "start_time": "2023-01-11T08:30:54.220Z"
   },
   {
    "duration": 11,
    "start_time": "2023-01-11T08:30:54.250Z"
   },
   {
    "duration": 6,
    "start_time": "2023-01-11T08:30:54.264Z"
   },
   {
    "duration": 14,
    "start_time": "2023-01-11T08:30:54.273Z"
   },
   {
    "duration": 7,
    "start_time": "2023-01-11T08:30:54.289Z"
   },
   {
    "duration": 40,
    "start_time": "2023-01-11T08:30:54.298Z"
   },
   {
    "duration": 22,
    "start_time": "2023-01-11T08:30:54.340Z"
   },
   {
    "duration": 10,
    "start_time": "2023-01-11T08:30:54.364Z"
   },
   {
    "duration": 8,
    "start_time": "2023-01-11T08:30:54.376Z"
   },
   {
    "duration": 16,
    "start_time": "2023-01-11T08:30:54.386Z"
   },
   {
    "duration": 409,
    "start_time": "2023-01-11T08:30:54.404Z"
   },
   {
    "duration": 338,
    "start_time": "2023-01-11T08:30:54.822Z"
   },
   {
    "duration": 390,
    "start_time": "2023-01-11T08:30:55.162Z"
   },
   {
    "duration": 390,
    "start_time": "2023-01-11T08:30:55.554Z"
   },
   {
    "duration": 386,
    "start_time": "2023-01-11T08:30:55.945Z"
   },
   {
    "duration": 183,
    "start_time": "2023-01-11T08:30:56.334Z"
   },
   {
    "duration": 6,
    "start_time": "2023-01-11T08:30:56.519Z"
   },
   {
    "duration": 201,
    "start_time": "2023-01-11T08:30:56.527Z"
   },
   {
    "duration": 7,
    "start_time": "2023-01-11T08:30:56.730Z"
   },
   {
    "duration": 23,
    "start_time": "2023-01-11T08:30:56.738Z"
   },
   {
    "duration": 27,
    "start_time": "2023-01-11T08:30:56.762Z"
   },
   {
    "duration": 32,
    "start_time": "2023-01-11T08:30:56.791Z"
   },
   {
    "duration": 10,
    "start_time": "2023-01-11T08:30:56.825Z"
   },
   {
    "duration": 390,
    "start_time": "2023-01-11T08:30:56.836Z"
   },
   {
    "duration": 23,
    "start_time": "2023-01-11T08:30:57.228Z"
   },
   {
    "duration": 56,
    "start_time": "2023-01-11T09:27:52.484Z"
   }
  ],
  "kernelspec": {
   "display_name": "Python 3 (ipykernel)",
   "language": "python",
   "name": "python3"
  },
  "language_info": {
   "codemirror_mode": {
    "name": "ipython",
    "version": 3
   },
   "file_extension": ".py",
   "mimetype": "text/x-python",
   "name": "python",
   "nbconvert_exporter": "python",
   "pygments_lexer": "ipython3",
   "version": "3.9.5"
  },
  "toc": {
   "base_numbering": 1,
   "nav_menu": {},
   "number_sections": true,
   "sideBar": true,
   "skip_h1_title": true,
   "title_cell": "Table of Contents",
   "title_sidebar": "Contents",
   "toc_cell": false,
   "toc_position": {},
   "toc_section_display": true,
   "toc_window_display": false
  }
 },
 "nbformat": 4,
 "nbformat_minor": 2
}
