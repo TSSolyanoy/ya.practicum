{
 "cells": [
  {
   "cell_type": "markdown",
   "metadata": {},
   "source": [
    "# Исследование объявлений о продаже квартир\n",
    "\n",
    "В вашем распоряжении данные сервиса Яндекс.Недвижимость — архив объявлений о продаже квартир в Санкт-Петербурге и соседних населённых пунктов за несколько лет. Нужно научиться определять рыночную стоимость объектов недвижимости. Ваша задача — установить параметры. Это позволит построить автоматизированную систему: она отследит аномалии и мошенническую деятельность. \n",
    "\n",
    "По каждой квартире на продажу доступны два вида данных. Первые вписаны пользователем, вторые — получены автоматически на основе картографических данных. Например, расстояние до центра, аэропорта, ближайшего парка и водоёма. \n",
    "\n",
    "\n",
    "\n"
   ]
  },
  {
   "cell_type": "markdown",
   "metadata": {},
   "source": [
    "### Откройте файл с данными и изучите общую информацию. "
   ]
  },
  {
   "cell_type": "code",
   "execution_count": 58,
   "metadata": {},
   "outputs": [
    {
     "data": {
      "text/html": [
       "<div>\n",
       "<style scoped>\n",
       "    .dataframe tbody tr th:only-of-type {\n",
       "        vertical-align: middle;\n",
       "    }\n",
       "\n",
       "    .dataframe tbody tr th {\n",
       "        vertical-align: top;\n",
       "    }\n",
       "\n",
       "    .dataframe thead th {\n",
       "        text-align: right;\n",
       "    }\n",
       "</style>\n",
       "<table border=\"1\" class=\"dataframe\">\n",
       "  <thead>\n",
       "    <tr style=\"text-align: right;\">\n",
       "      <th></th>\n",
       "      <th>total_images</th>\n",
       "      <th>last_price</th>\n",
       "      <th>total_area</th>\n",
       "      <th>first_day_exposition</th>\n",
       "      <th>rooms</th>\n",
       "      <th>ceiling_height</th>\n",
       "      <th>floors_total</th>\n",
       "      <th>living_area</th>\n",
       "      <th>floor</th>\n",
       "      <th>is_apartment</th>\n",
       "      <th>...</th>\n",
       "      <th>kitchen_area</th>\n",
       "      <th>balcony</th>\n",
       "      <th>locality_name</th>\n",
       "      <th>airports_nearest</th>\n",
       "      <th>cityCenters_nearest</th>\n",
       "      <th>parks_around3000</th>\n",
       "      <th>parks_nearest</th>\n",
       "      <th>ponds_around3000</th>\n",
       "      <th>ponds_nearest</th>\n",
       "      <th>days_exposition</th>\n",
       "    </tr>\n",
       "  </thead>\n",
       "  <tbody>\n",
       "    <tr>\n",
       "      <th>0</th>\n",
       "      <td>20</td>\n",
       "      <td>13000000.0</td>\n",
       "      <td>108.00</td>\n",
       "      <td>2019-03-07T00:00:00</td>\n",
       "      <td>3</td>\n",
       "      <td>2.70</td>\n",
       "      <td>16.0</td>\n",
       "      <td>51.00</td>\n",
       "      <td>8</td>\n",
       "      <td>NaN</td>\n",
       "      <td>...</td>\n",
       "      <td>25.00</td>\n",
       "      <td>NaN</td>\n",
       "      <td>Санкт-Петербург</td>\n",
       "      <td>18863.0</td>\n",
       "      <td>16028.0</td>\n",
       "      <td>1.0</td>\n",
       "      <td>482.0</td>\n",
       "      <td>2.0</td>\n",
       "      <td>755.0</td>\n",
       "      <td>NaN</td>\n",
       "    </tr>\n",
       "    <tr>\n",
       "      <th>1</th>\n",
       "      <td>7</td>\n",
       "      <td>3350000.0</td>\n",
       "      <td>40.40</td>\n",
       "      <td>2018-12-04T00:00:00</td>\n",
       "      <td>1</td>\n",
       "      <td>NaN</td>\n",
       "      <td>11.0</td>\n",
       "      <td>18.60</td>\n",
       "      <td>1</td>\n",
       "      <td>NaN</td>\n",
       "      <td>...</td>\n",
       "      <td>11.00</td>\n",
       "      <td>2.0</td>\n",
       "      <td>посёлок Шушары</td>\n",
       "      <td>12817.0</td>\n",
       "      <td>18603.0</td>\n",
       "      <td>0.0</td>\n",
       "      <td>NaN</td>\n",
       "      <td>0.0</td>\n",
       "      <td>NaN</td>\n",
       "      <td>81.0</td>\n",
       "    </tr>\n",
       "    <tr>\n",
       "      <th>2</th>\n",
       "      <td>10</td>\n",
       "      <td>5196000.0</td>\n",
       "      <td>56.00</td>\n",
       "      <td>2015-08-20T00:00:00</td>\n",
       "      <td>2</td>\n",
       "      <td>NaN</td>\n",
       "      <td>5.0</td>\n",
       "      <td>34.30</td>\n",
       "      <td>4</td>\n",
       "      <td>NaN</td>\n",
       "      <td>...</td>\n",
       "      <td>8.30</td>\n",
       "      <td>0.0</td>\n",
       "      <td>Санкт-Петербург</td>\n",
       "      <td>21741.0</td>\n",
       "      <td>13933.0</td>\n",
       "      <td>1.0</td>\n",
       "      <td>90.0</td>\n",
       "      <td>2.0</td>\n",
       "      <td>574.0</td>\n",
       "      <td>558.0</td>\n",
       "    </tr>\n",
       "    <tr>\n",
       "      <th>3</th>\n",
       "      <td>0</td>\n",
       "      <td>64900000.0</td>\n",
       "      <td>159.00</td>\n",
       "      <td>2015-07-24T00:00:00</td>\n",
       "      <td>3</td>\n",
       "      <td>NaN</td>\n",
       "      <td>14.0</td>\n",
       "      <td>NaN</td>\n",
       "      <td>9</td>\n",
       "      <td>NaN</td>\n",
       "      <td>...</td>\n",
       "      <td>NaN</td>\n",
       "      <td>0.0</td>\n",
       "      <td>Санкт-Петербург</td>\n",
       "      <td>28098.0</td>\n",
       "      <td>6800.0</td>\n",
       "      <td>2.0</td>\n",
       "      <td>84.0</td>\n",
       "      <td>3.0</td>\n",
       "      <td>234.0</td>\n",
       "      <td>424.0</td>\n",
       "    </tr>\n",
       "    <tr>\n",
       "      <th>4</th>\n",
       "      <td>2</td>\n",
       "      <td>10000000.0</td>\n",
       "      <td>100.00</td>\n",
       "      <td>2018-06-19T00:00:00</td>\n",
       "      <td>2</td>\n",
       "      <td>3.03</td>\n",
       "      <td>14.0</td>\n",
       "      <td>32.00</td>\n",
       "      <td>13</td>\n",
       "      <td>NaN</td>\n",
       "      <td>...</td>\n",
       "      <td>41.00</td>\n",
       "      <td>NaN</td>\n",
       "      <td>Санкт-Петербург</td>\n",
       "      <td>31856.0</td>\n",
       "      <td>8098.0</td>\n",
       "      <td>2.0</td>\n",
       "      <td>112.0</td>\n",
       "      <td>1.0</td>\n",
       "      <td>48.0</td>\n",
       "      <td>121.0</td>\n",
       "    </tr>\n",
       "    <tr>\n",
       "      <th>5</th>\n",
       "      <td>10</td>\n",
       "      <td>2890000.0</td>\n",
       "      <td>30.40</td>\n",
       "      <td>2018-09-10T00:00:00</td>\n",
       "      <td>1</td>\n",
       "      <td>NaN</td>\n",
       "      <td>12.0</td>\n",
       "      <td>14.40</td>\n",
       "      <td>5</td>\n",
       "      <td>NaN</td>\n",
       "      <td>...</td>\n",
       "      <td>9.10</td>\n",
       "      <td>NaN</td>\n",
       "      <td>городской посёлок Янино-1</td>\n",
       "      <td>NaN</td>\n",
       "      <td>NaN</td>\n",
       "      <td>NaN</td>\n",
       "      <td>NaN</td>\n",
       "      <td>NaN</td>\n",
       "      <td>NaN</td>\n",
       "      <td>55.0</td>\n",
       "    </tr>\n",
       "    <tr>\n",
       "      <th>6</th>\n",
       "      <td>6</td>\n",
       "      <td>3700000.0</td>\n",
       "      <td>37.30</td>\n",
       "      <td>2017-11-02T00:00:00</td>\n",
       "      <td>1</td>\n",
       "      <td>NaN</td>\n",
       "      <td>26.0</td>\n",
       "      <td>10.60</td>\n",
       "      <td>6</td>\n",
       "      <td>NaN</td>\n",
       "      <td>...</td>\n",
       "      <td>14.40</td>\n",
       "      <td>1.0</td>\n",
       "      <td>посёлок Парголово</td>\n",
       "      <td>52996.0</td>\n",
       "      <td>19143.0</td>\n",
       "      <td>0.0</td>\n",
       "      <td>NaN</td>\n",
       "      <td>0.0</td>\n",
       "      <td>NaN</td>\n",
       "      <td>155.0</td>\n",
       "    </tr>\n",
       "    <tr>\n",
       "      <th>7</th>\n",
       "      <td>5</td>\n",
       "      <td>7915000.0</td>\n",
       "      <td>71.60</td>\n",
       "      <td>2019-04-18T00:00:00</td>\n",
       "      <td>2</td>\n",
       "      <td>NaN</td>\n",
       "      <td>24.0</td>\n",
       "      <td>NaN</td>\n",
       "      <td>22</td>\n",
       "      <td>NaN</td>\n",
       "      <td>...</td>\n",
       "      <td>18.90</td>\n",
       "      <td>2.0</td>\n",
       "      <td>Санкт-Петербург</td>\n",
       "      <td>23982.0</td>\n",
       "      <td>11634.0</td>\n",
       "      <td>0.0</td>\n",
       "      <td>NaN</td>\n",
       "      <td>0.0</td>\n",
       "      <td>NaN</td>\n",
       "      <td>NaN</td>\n",
       "    </tr>\n",
       "    <tr>\n",
       "      <th>8</th>\n",
       "      <td>20</td>\n",
       "      <td>2900000.0</td>\n",
       "      <td>33.16</td>\n",
       "      <td>2018-05-23T00:00:00</td>\n",
       "      <td>1</td>\n",
       "      <td>NaN</td>\n",
       "      <td>27.0</td>\n",
       "      <td>15.43</td>\n",
       "      <td>26</td>\n",
       "      <td>NaN</td>\n",
       "      <td>...</td>\n",
       "      <td>8.81</td>\n",
       "      <td>NaN</td>\n",
       "      <td>посёлок Мурино</td>\n",
       "      <td>NaN</td>\n",
       "      <td>NaN</td>\n",
       "      <td>NaN</td>\n",
       "      <td>NaN</td>\n",
       "      <td>NaN</td>\n",
       "      <td>NaN</td>\n",
       "      <td>189.0</td>\n",
       "    </tr>\n",
       "    <tr>\n",
       "      <th>9</th>\n",
       "      <td>18</td>\n",
       "      <td>5400000.0</td>\n",
       "      <td>61.00</td>\n",
       "      <td>2017-02-26T00:00:00</td>\n",
       "      <td>3</td>\n",
       "      <td>2.50</td>\n",
       "      <td>9.0</td>\n",
       "      <td>43.60</td>\n",
       "      <td>7</td>\n",
       "      <td>NaN</td>\n",
       "      <td>...</td>\n",
       "      <td>6.50</td>\n",
       "      <td>2.0</td>\n",
       "      <td>Санкт-Петербург</td>\n",
       "      <td>50898.0</td>\n",
       "      <td>15008.0</td>\n",
       "      <td>0.0</td>\n",
       "      <td>NaN</td>\n",
       "      <td>0.0</td>\n",
       "      <td>NaN</td>\n",
       "      <td>289.0</td>\n",
       "    </tr>\n",
       "  </tbody>\n",
       "</table>\n",
       "<p>10 rows × 22 columns</p>\n",
       "</div>"
      ],
      "text/plain": [
       "   total_images  last_price  total_area first_day_exposition  rooms  \\\n",
       "0            20  13000000.0      108.00  2019-03-07T00:00:00      3   \n",
       "1             7   3350000.0       40.40  2018-12-04T00:00:00      1   \n",
       "2            10   5196000.0       56.00  2015-08-20T00:00:00      2   \n",
       "3             0  64900000.0      159.00  2015-07-24T00:00:00      3   \n",
       "4             2  10000000.0      100.00  2018-06-19T00:00:00      2   \n",
       "5            10   2890000.0       30.40  2018-09-10T00:00:00      1   \n",
       "6             6   3700000.0       37.30  2017-11-02T00:00:00      1   \n",
       "7             5   7915000.0       71.60  2019-04-18T00:00:00      2   \n",
       "8            20   2900000.0       33.16  2018-05-23T00:00:00      1   \n",
       "9            18   5400000.0       61.00  2017-02-26T00:00:00      3   \n",
       "\n",
       "   ceiling_height  floors_total  living_area  floor is_apartment  ...  \\\n",
       "0            2.70          16.0        51.00      8          NaN  ...   \n",
       "1             NaN          11.0        18.60      1          NaN  ...   \n",
       "2             NaN           5.0        34.30      4          NaN  ...   \n",
       "3             NaN          14.0          NaN      9          NaN  ...   \n",
       "4            3.03          14.0        32.00     13          NaN  ...   \n",
       "5             NaN          12.0        14.40      5          NaN  ...   \n",
       "6             NaN          26.0        10.60      6          NaN  ...   \n",
       "7             NaN          24.0          NaN     22          NaN  ...   \n",
       "8             NaN          27.0        15.43     26          NaN  ...   \n",
       "9            2.50           9.0        43.60      7          NaN  ...   \n",
       "\n",
       "   kitchen_area  balcony              locality_name  airports_nearest  \\\n",
       "0         25.00      NaN            Санкт-Петербург           18863.0   \n",
       "1         11.00      2.0             посёлок Шушары           12817.0   \n",
       "2          8.30      0.0            Санкт-Петербург           21741.0   \n",
       "3           NaN      0.0            Санкт-Петербург           28098.0   \n",
       "4         41.00      NaN            Санкт-Петербург           31856.0   \n",
       "5          9.10      NaN  городской посёлок Янино-1               NaN   \n",
       "6         14.40      1.0          посёлок Парголово           52996.0   \n",
       "7         18.90      2.0            Санкт-Петербург           23982.0   \n",
       "8          8.81      NaN             посёлок Мурино               NaN   \n",
       "9          6.50      2.0            Санкт-Петербург           50898.0   \n",
       "\n",
       "  cityCenters_nearest  parks_around3000  parks_nearest  ponds_around3000  \\\n",
       "0             16028.0               1.0          482.0               2.0   \n",
       "1             18603.0               0.0            NaN               0.0   \n",
       "2             13933.0               1.0           90.0               2.0   \n",
       "3              6800.0               2.0           84.0               3.0   \n",
       "4              8098.0               2.0          112.0               1.0   \n",
       "5                 NaN               NaN            NaN               NaN   \n",
       "6             19143.0               0.0            NaN               0.0   \n",
       "7             11634.0               0.0            NaN               0.0   \n",
       "8                 NaN               NaN            NaN               NaN   \n",
       "9             15008.0               0.0            NaN               0.0   \n",
       "\n",
       "   ponds_nearest  days_exposition  \n",
       "0          755.0              NaN  \n",
       "1            NaN             81.0  \n",
       "2          574.0            558.0  \n",
       "3          234.0            424.0  \n",
       "4           48.0            121.0  \n",
       "5            NaN             55.0  \n",
       "6            NaN            155.0  \n",
       "7            NaN              NaN  \n",
       "8            NaN            189.0  \n",
       "9            NaN            289.0  \n",
       "\n",
       "[10 rows x 22 columns]"
      ]
     },
     "execution_count": 58,
     "metadata": {},
     "output_type": "execute_result"
    }
   ],
   "source": [
    "# открытие файла с данными\n",
    "import pandas as pd\n",
    "try:\n",
    "    data = pd.read_csv('/datasets/real_estate_data.csv', sep='\\t')\n",
    "except:\n",
    "    data = pd.read_csv('https://code.s3.yandex.net/datasets/real_estate_data.csv', sep='\\t')\n",
    "data.head(10)"
   ]
  },
  {
   "cell_type": "code",
   "execution_count": 59,
   "metadata": {},
   "outputs": [
    {
     "name": "stdout",
     "output_type": "stream",
     "text": [
      "<class 'pandas.core.frame.DataFrame'>\n",
      "RangeIndex: 23699 entries, 0 to 23698\n",
      "Data columns (total 22 columns):\n",
      " #   Column                Non-Null Count  Dtype  \n",
      "---  ------                --------------  -----  \n",
      " 0   total_images          23699 non-null  int64  \n",
      " 1   last_price            23699 non-null  float64\n",
      " 2   total_area            23699 non-null  float64\n",
      " 3   first_day_exposition  23699 non-null  object \n",
      " 4   rooms                 23699 non-null  int64  \n",
      " 5   ceiling_height        14504 non-null  float64\n",
      " 6   floors_total          23613 non-null  float64\n",
      " 7   living_area           21796 non-null  float64\n",
      " 8   floor                 23699 non-null  int64  \n",
      " 9   is_apartment          2775 non-null   object \n",
      " 10  studio                23699 non-null  bool   \n",
      " 11  open_plan             23699 non-null  bool   \n",
      " 12  kitchen_area          21421 non-null  float64\n",
      " 13  balcony               12180 non-null  float64\n",
      " 14  locality_name         23650 non-null  object \n",
      " 15  airports_nearest      18157 non-null  float64\n",
      " 16  cityCenters_nearest   18180 non-null  float64\n",
      " 17  parks_around3000      18181 non-null  float64\n",
      " 18  parks_nearest         8079 non-null   float64\n",
      " 19  ponds_around3000      18181 non-null  float64\n",
      " 20  ponds_nearest         9110 non-null   float64\n",
      " 21  days_exposition       20518 non-null  float64\n",
      "dtypes: bool(2), float64(14), int64(3), object(3)\n",
      "memory usage: 3.7+ MB\n"
     ]
    }
   ],
   "source": [
    "# вывод общей информации о данных\n",
    "data.info()"
   ]
  },
  {
   "cell_type": "code",
   "execution_count": 60,
   "metadata": {},
   "outputs": [
    {
     "data": {
      "text/plain": [
       "0"
      ]
     },
     "execution_count": 60,
     "metadata": {},
     "output_type": "execute_result"
    }
   ],
   "source": [
    "# поиск явных дубликатов\n",
    "data.duplicated().sum()"
   ]
  },
  {
   "cell_type": "code",
   "execution_count": 61,
   "metadata": {},
   "outputs": [
    {
     "data": {
      "text/plain": [
       "Text(0, 0.5, 'Количество')"
      ]
     },
     "execution_count": 61,
     "metadata": {},
     "output_type": "execute_result"
    },
    {
     "data": {
      "image/png": "[encoded data removed]",
      "text/plain": [
       "<Figure size 432x288 with 1 Axes>"
      ]
     },
     "metadata": {
      "needs_background": "light"
     },
     "output_type": "display_data"
    }
   ],
   "source": [
    "# построения графика \"Распределение количества квартир по площади\"\n",
    "ax = data['total_area'].plot(kind='hist',  \n",
    "                             range = (0,400),  \n",
    "                             bins=50, \n",
    "                             title = 'Распределение количества квартир по площади', \n",
    "                             grid=True)\n",
    "ax.set_xlabel('Площадь')\n",
    "ax.set_ylabel('Количество')"
   ]
  },
  {
   "cell_type": "code",
   "execution_count": 62,
   "metadata": {},
   "outputs": [
    {
     "data": {
      "text/plain": [
       "Text(0, 0.5, 'Количество')"
      ]
     },
     "execution_count": 62,
     "metadata": {},
     "output_type": "execute_result"
    },
    {
     "data": {
      "image/png": "[encoded data removed]",
      "text/plain": [
       "<Figure size 432x288 with 1 Axes>"
      ]
     },
     "metadata": {
      "needs_background": "light"
     },
     "output_type": "display_data"
    }
   ],
   "source": [
    "# построения графика 'Распределение количества квартир по стоимости'. Для построение стоимость округлил до миллионов\n",
    "ax = (data['last_price']/1000000).plot(kind='hist',  \n",
    "                             range = (0,50),  \n",
    "                             bins=50, \n",
    "                             title = 'Распределение количества квартир по стоимости', \n",
    "                             grid=True)\n",
    "ax.set_xlabel('Стоимость')\n",
    "ax.set_ylabel('Количество')"
   ]
  },
  {
   "cell_type": "code",
   "execution_count": 63,
   "metadata": {},
   "outputs": [
    {
     "data": {
      "text/plain": [
       "Text(0, 0.5, 'Количество')"
      ]
     },
     "execution_count": 63,
     "metadata": {},
     "output_type": "execute_result"
    },
    {
     "data": {
      "image/png": "[encoded data removed]",
      "text/plain": [
       "<Figure size 432x288 with 1 Axes>"
      ]
     },
     "metadata": {
      "needs_background": "light"
     },
     "output_type": "display_data"
    }
   ],
   "source": [
    "# построения графика 'Распределение количества квартир по количеству комнат'.\n",
    "ax = (data['rooms']).plot(kind='hist',  \n",
    "                             range = (0,10),  \n",
    "                             bins=10, \n",
    "                             title = 'Распределение количества квартир по количеству комнат', \n",
    "                             grid=True)\n",
    "ax.set_xlabel('Количество комнат')\n",
    "ax.set_ylabel('Количество')"
   ]
  },
  {
   "cell_type": "code",
   "execution_count": 64,
   "metadata": {},
   "outputs": [
    {
     "data": {
      "text/plain": [
       "Text(0, 0.5, 'Количество')"
      ]
     },
     "execution_count": 64,
     "metadata": {},
     "output_type": "execute_result"
    },
    {
     "data": {
      "image/png": "[encoded data removed]",
      "text/plain": [
       "<Figure size 432x288 with 1 Axes>"
      ]
     },
     "metadata": {
      "needs_background": "light"
     },
     "output_type": "display_data"
    }
   ],
   "source": [
    "# построения графика 'Распределение количества квартир по высоте потолков'.\n",
    "ax = (data['ceiling_height']).plot(kind='hist',  \n",
    "                             range = (2,4),  \n",
    "                             bins=10, \n",
    "                             title = 'Распределение количества квартир по высоте потолков', \n",
    "                             grid=True)\n",
    "ax.set_xlabel('Высота потолков')\n",
    "ax.set_ylabel('Количество')"
   ]
  },
  {
   "cell_type": "code",
   "execution_count": 65,
   "metadata": {},
   "outputs": [
    {
     "data": {
      "text/plain": [
       "Text(0, 0.5, 'Количество')"
      ]
     },
     "execution_count": 65,
     "metadata": {},
     "output_type": "execute_result"
    },
    {
     "data": {
      "image/png": "[encoded data removed]",
      "text/plain": [
       "<Figure size 432x288 with 1 Axes>"
      ]
     },
     "metadata": {
      "needs_background": "light"
     },
     "output_type": "display_data"
    }
   ],
   "source": [
    "# построения графика 'Распределение количества квартир по расстоянию до центра'.\n",
    "ax = (data['cityCenters_nearest']/1000).plot(kind='hist',  \n",
    "                             range = (0,60),  \n",
    "                             bins=60, \n",
    "                             title = 'Распределение количества квартир по расстоянию до центра', \n",
    "                             grid=True)\n",
    "ax.set_xlabel('Расстояние до центра')\n",
    "ax.set_ylabel('Количество')"
   ]
  },
  {
   "cell_type": "markdown",
   "metadata": {},
   "source": [
    "В файле 23699 строк, из них:\n",
    "* большенство столбцов имеют пропуски; \n",
    "* некоторые столбцы имеют неверный формат; \n",
    "* явные дубликаты отсутствуют.\n",
    "\n",
    "Графики основых столбцов необходимых для дальнейшего исследования показывают корректное распределение. \n",
    "\n",
    "За исключением:\n",
    "* столбца rooms по которому видны квартиру с 0 в количестве комнат, что невозможно. Потребуются дальнейшие исследования;\n",
    "* и столбца cityCenters_nearest котрый показывает несколько заметных пиков, но это можно списать на неравномерность застройки города."
   ]
  },
  {
   "cell_type": "markdown",
   "metadata": {},
   "source": [
    "### Предобработка данных"
   ]
  },
  {
   "cell_type": "markdown",
   "metadata": {},
   "source": [
    "#### Обработка пропусков"
   ]
  },
  {
   "cell_type": "code",
   "execution_count": 66,
   "metadata": {},
   "outputs": [
    {
     "name": "stdout",
     "output_type": "stream",
     "text": [
      "       count    max        mean  median    min\n",
      "rooms                                         \n",
      "0        197  371.0   29.279746   26.05   15.5\n",
      "1       8047  494.1   37.644669   36.56   12.0\n",
      "2       7940  196.0   55.855089   53.00   20.0\n",
      "3       5814  363.1   77.764580   73.00   40.1\n",
      "4       1180  500.0  107.610763   99.30   42.0\n",
      "5        326  507.0  161.474816  146.45   40.0\n",
      "6        105  500.0  201.537619  184.30   87.0\n",
      "7         59  631.2  265.325424  214.00  100.6\n",
      "8         12  373.1  259.233333  235.70  150.0\n",
      "9          8  400.0  305.975000  300.95  235.0\n",
      "10         3  290.0  259.566667  272.60  216.1\n",
      "11         2  194.1  188.900000  188.90  183.7\n",
      "12         1  900.0  900.000000  900.00  900.0\n",
      "14         2  363.0  304.200000  304.20  245.4\n",
      "15         1  590.0  590.000000  590.00  590.0\n",
      "16         1  270.0  270.000000  270.00  270.0\n",
      "19         1  374.6  374.600000  374.60  374.6\n"
     ]
    },
    {
     "data": {
      "text/plain": [
       "Text(0, 0.5, 'Кол-во квартир')"
      ]
     },
     "execution_count": 66,
     "metadata": {},
     "output_type": "execute_result"
    },
    {
     "data": {
      "image/png": "[encoded data removed]",
      "text/plain": [
       "<Figure size 432x288 with 1 Axes>"
      ]
     },
     "metadata": {
      "needs_background": "light"
     },
     "output_type": "display_data"
    }
   ],
   "source": [
    "# заменяем пропущенные значение в количестве комнат 0\n",
    "data['rooms'] = data['rooms'].fillna(0)\n",
    "\n",
    "# строим сводную таблиццу площади по количеству комнат\n",
    "print(data.pivot_table(index = 'rooms', values = 'total_area', aggfunc = ('count', 'median', 'mean', 'max', 'min')))\n",
    "\n",
    "#строим график площади квартир с 0 количеством комнат\n",
    "ax = data.loc[data['rooms'] == 0].plot(kind='hist', y = 'total_area', range = (0,400),  bins=50, title = 'Отношение количества квартир к площади', grid=True)\n",
    "ax.set_xlabel('Площадь')\n",
    "ax.set_ylabel('Кол-во квартир')"
   ]
  },
  {
   "cell_type": "code",
   "execution_count": 67,
   "metadata": {},
   "outputs": [
    {
     "data": {
      "text/plain": [
       "total_images                0\n",
       "last_price                  0\n",
       "total_area                  0\n",
       "first_day_exposition        0\n",
       "rooms                       0\n",
       "ceiling_height              0\n",
       "floors_total                0\n",
       "living_area                 0\n",
       "floor                       0\n",
       "is_apartment                0\n",
       "studio                      0\n",
       "open_plan                   0\n",
       "kitchen_area                0\n",
       "balcony                     0\n",
       "locality_name              49\n",
       "airports_nearest         5542\n",
       "cityCenters_nearest      5519\n",
       "parks_around3000            0\n",
       "parks_nearest           15620\n",
       "ponds_around3000            0\n",
       "ponds_nearest           14589\n",
       "days_exposition          3181\n",
       "dtype: int64"
      ]
     },
     "execution_count": 67,
     "metadata": {},
     "output_type": "execute_result"
    }
   ],
   "source": [
    "# Для квартир с площадью менее 50 кв.м пропущенные значения меняем на 1  \n",
    "data.loc[(data['rooms'] == 0) & (data['total_area'] <50), 'rooms'] = 1 \n",
    "\n",
    "# пропущенные значения наличия балконов ставим 0 (нет балкона)\n",
    "data['balcony'] = data['balcony'].fillna(0) \n",
    "data['balcony'] = data['balcony'].astype(bool)\n",
    "\n",
    "# пропущенные значения апартаментах ставим 0 (не аппартаменты)\n",
    "data['is_apartment'] = data['is_apartment'].fillna(0) \n",
    "data['is_apartment'] = data['is_apartment'].astype(bool) \n",
    "\n",
    "# пропущенные значения в количестве прудов ставим 0\n",
    "data['ponds_around3000'] = data['ponds_around3000'].fillna(0) \n",
    "\n",
    "# пропущенные значения в количестве парков ставим 0\n",
    "data['parks_around3000'] = data['parks_around3000'].fillna(0) \n",
    "\n",
    "# пропущенные значения в этажности здания, заполним этажем квартиры. \n",
    "data['floors_total'] = data['floors_total'].fillna(data['floor'])\n",
    "\n",
    "# пропущенные значения высоты потолков заменяем медианным для каждой группы квартир по количеству комнат\n",
    "data['ceiling_height'] = data['ceiling_height'].fillna(0) \n",
    "for t in data['rooms'].unique():\n",
    "    data.loc[(data['rooms'] == t) & (data['ceiling_height'] == 0), 'ceiling_height'] = \\\n",
    "    data.loc[(data['rooms'] == t), 'ceiling_height'].median()\n",
    "\n",
    "# пропущенные значения в площади кухни заполним медианным значеним для каждой группы по количеству комнат\n",
    "data['kitchen_area'] = data['kitchen_area'].fillna(0) \n",
    "for t in data['rooms'].unique():\n",
    "    data.loc[(data['rooms'] == t) & (data['kitchen_area'] == 0), 'kitchen_area'] = \\\n",
    "    data.loc[(data['rooms'] == t), 'kitchen_area'].median()\n",
    "\n",
    "# пропущенные значения в желой площади заполним медианным значеним для каждой группы по количеству комнат\n",
    "data['living_area'] = data['living_area'].fillna(0) \n",
    "for t in data['rooms'].unique():\n",
    "    data.loc[(data['rooms'] == t) & (data['living_area'] == 0), 'living_area'] = \\\n",
    "    data.loc[(data['rooms'] == t), 'living_area'].median()   \n",
    "    \n",
    "#data['ceiling_height'] = data['ceiling_height'].fillna(data['ceiling_height'].median()) \n",
    "data.isna().sum()\n"
   ]
  },
  {
   "cell_type": "markdown",
   "metadata": {},
   "source": [
    "Выявлены и заполнены следующие пропуски в столбцах:\n",
    "* В столбце \"rooms\" 197 пропусков. По графику и сводной таблице видно, что большая часть квартир с пропущенным количеством комнат площадью менее 50 кв.м. Логично предположить, что с такой площадь 1 комнатные квартиры. Выяснить количество комнат в квартирах с площадью от 50 до 120 кв.м и от 350 до 372 кв.м не представляется возможным.\n",
    "\n",
    "* Пропущенные значения в столбце ceiling_height допустипо заменить медианным значением для каждой группы квартир по количеству комнат, так как можно логично предположить, что дома построены в соответствии со строительными нормативами и не могут значительно отличаться от медианного значения.\n",
    "\n",
    "* Пропущенные значения в столбе balcony логично запонить 0, так как продавец при наличии в квартире балкона обязательно указал бы это в объявлении как одно из преимуществ.\n",
    "\n",
    "* Пропущенные значения в столбе is_apartment логично запонить 0, так как вероятность того, что продавец не заполнил настолько важный параметр объявления крайне мала.\n",
    "\n",
    "* Пропущенные значения в столбцах living_area  и kitchen_area заполнил медианными значениями для квартир соответствующего количества комнат.\n",
    "\n",
    "* Предположим, что продавец не заполнил графу этажности, приняв ее за этаж квартиры и заполним пропуски в столбце floors_total этажем квартиры из столбца floor.\n",
    "\n",
    "\n",
    "Пропуски в остальных столбцах заполнить невозможно, так как от других параметров они не зависят. Да и на дальнейшее исследование не повлияют."
   ]
  },
  {
   "cell_type": "code",
   "execution_count": 68,
   "metadata": {},
   "outputs": [
    {
     "name": "stdout",
     "output_type": "stream",
     "text": [
      "<class 'pandas.core.frame.DataFrame'>\n",
      "RangeIndex: 23699 entries, 0 to 23698\n",
      "Data columns (total 25 columns):\n",
      " #   Column                Non-Null Count  Dtype         \n",
      "---  ------                --------------  -----         \n",
      " 0   total_images          23699 non-null  int64         \n",
      " 1   last_price            23699 non-null  float64       \n",
      " 2   total_area            23699 non-null  int64         \n",
      " 3   first_day_exposition  23699 non-null  datetime64[ns]\n",
      " 4   rooms                 23699 non-null  int64         \n",
      " 5   ceiling_height        23699 non-null  float64       \n",
      " 6   floors_total          23699 non-null  int64         \n",
      " 7   living_area           23699 non-null  int64         \n",
      " 8   floor                 23699 non-null  int64         \n",
      " 9   is_apartment          23699 non-null  bool          \n",
      " 10  studio                23699 non-null  bool          \n",
      " 11  open_plan             23699 non-null  bool          \n",
      " 12  kitchen_area          23699 non-null  int64         \n",
      " 13  balcony               23699 non-null  bool          \n",
      " 14  locality_name         23650 non-null  object        \n",
      " 15  airports_nearest      18157 non-null  float64       \n",
      " 16  cityCenters_nearest   18180 non-null  float64       \n",
      " 17  parks_around3000      23699 non-null  int64         \n",
      " 18  parks_nearest         8079 non-null   float64       \n",
      " 19  ponds_around3000      23699 non-null  int64         \n",
      " 20  ponds_nearest         9110 non-null   float64       \n",
      " 21  days_exposition       20518 non-null  float64       \n",
      " 22  day                   23699 non-null  int64         \n",
      " 23  month                 23699 non-null  int64         \n",
      " 24  year                  23699 non-null  int64         \n",
      "dtypes: bool(4), datetime64[ns](1), float64(7), int64(12), object(1)\n",
      "memory usage: 3.9+ MB\n"
     ]
    }
   ],
   "source": [
    "\n",
    "#преобразование цены на момент снятия с публикации\n",
    "data['last_price'] = data['last_price'].astype(int)\n",
    "data['last_price'] = data['last_price'] / 1000\n",
    "\n",
    "#преобразование общей площади\n",
    "data['total_area'] = data['total_area'].astype(int) \n",
    "\n",
    "#преобразование жилой плащади\n",
    "data['living_area'] = data['living_area'].astype(int) \n",
    "\n",
    "#преобразование плащади кухни\n",
    "data['kitchen_area'] = data['kitchen_area'].astype(int)\n",
    "\n",
    "#преобразование количество прудов\n",
    "data['ponds_around3000'] = data['ponds_around3000'].astype(int)\n",
    "\n",
    "#преобразование количество парков\n",
    "data['floors_total'] = data['floors_total'].astype(int)\n",
    "\n",
    "#преобразование этажности здания\n",
    "data['parks_around3000'] = data['parks_around3000'].astype(int)\n",
    "\n",
    "\n",
    "#преобразование даты публикации и добавление данных: день, месяц, год публикации\n",
    "data['first_day_exposition'] = pd.DatetimeIndex(data['first_day_exposition']) #\n",
    "data['day'] = data['first_day_exposition'].dt.weekday\n",
    "data['month'] = data['first_day_exposition'].dt.month\n",
    "data['year'] = data['first_day_exposition'].dt.year\n",
    "data.info()"
   ]
  },
  {
   "cell_type": "markdown",
   "metadata": {},
   "source": [
    "Преобразованы типы данных в соответствии с содержимым столбцов:\n",
    "* last_price - цена на момент снятия с публикации, так же произведено округление до 1000. Для дальнейших рассчетов такой точности достаточно.\n",
    "* total_area - общая площадь\n",
    "* living_area - жилая площадь\n",
    "* kitchen_area - площадь кухни\n",
    "* ponds_around3000 - количество прудов ближе 3км.\n",
    "* floors_total - этажность здания\n",
    "* parks_around3000 - количество парков ближе 3км.\n",
    "\n",
    "Добавлены столбцы: день, месяц, год публикации."
   ]
  },
  {
   "cell_type": "markdown",
   "metadata": {},
   "source": [
    "#### Обработка дубликатов"
   ]
  },
  {
   "cell_type": "code",
   "execution_count": 69,
   "metadata": {},
   "outputs": [
    {
     "data": {
      "text/plain": [
       "array(['Санкт-Петербург', 'посёлок Шушары', 'городской посёлок Янино-1',\n",
       "       'посёлок Парголово', 'посёлок Мурино', 'Ломоносов', 'Сертолово',\n",
       "       'Петергоф', 'Пушкин', 'деревня Кудрово', 'Коммунар', 'Колпино',\n",
       "       'поселок городского типа Красный Бор', 'Гатчина', 'поселок Мурино',\n",
       "       'деревня Фёдоровское', 'Выборг', 'Кронштадт', 'Кировск',\n",
       "       'деревня Новое Девяткино', 'посёлок Металлострой',\n",
       "       'посёлок городского типа Лебяжье',\n",
       "       'посёлок городского типа Сиверский', 'поселок Молодцово',\n",
       "       'поселок городского типа Кузьмоловский',\n",
       "       'садовое товарищество Новая Ропша', 'Павловск',\n",
       "       'деревня Пикколово', 'Всеволожск', 'Волхов', 'Кингисепп',\n",
       "       'Приозерск', 'Сестрорецк', 'деревня Куттузи', 'посёлок Аннино',\n",
       "       'поселок городского типа Ефимовский', 'посёлок Плодовое',\n",
       "       'деревня Заклинье', 'поселок Торковичи', 'поселок Первомайское',\n",
       "       'Красное Село', 'посёлок Понтонный', 'Сясьстрой', 'деревня Старая',\n",
       "       'деревня Лесколово', 'посёлок Новый Свет', 'Сланцы',\n",
       "       'село Путилово', 'Ивангород', 'Мурино', 'Шлиссельбург',\n",
       "       'Никольское', 'Зеленогорск', 'Сосновый Бор', 'поселок Новый Свет',\n",
       "       'деревня Оржицы', 'деревня Кальтино', 'Кудрово',\n",
       "       'поселок Романовка', 'посёлок Бугры', 'поселок Бугры',\n",
       "       'поселок городского типа Рощино', 'Кириши', 'Луга', 'Волосово',\n",
       "       'Отрадное', 'село Павлово', 'поселок Оредеж', 'село Копорье',\n",
       "       'посёлок городского типа Красный Бор', 'посёлок Молодёжное',\n",
       "       'Тихвин', 'посёлок Победа', 'деревня Нурма',\n",
       "       'поселок городского типа Синявино', 'Тосно',\n",
       "       'посёлок городского типа Кузьмоловский', 'посёлок Стрельна',\n",
       "       'Бокситогорск', 'посёлок Александровская', 'деревня Лопухинка',\n",
       "       'Пикалёво', 'поселок Терволово',\n",
       "       'поселок городского типа Советский', 'Подпорожье',\n",
       "       'посёлок Петровское', 'посёлок городского типа Токсово',\n",
       "       'поселок Сельцо', 'посёлок городского типа Вырица',\n",
       "       'деревня Кипень', 'деревня Келози', 'деревня Вартемяги',\n",
       "       'посёлок Тельмана', 'поселок Севастьяново',\n",
       "       'городской поселок Большая Ижора', 'Неизвестный адрес',\n",
       "       'городской посёлок Павлово', 'деревня Агалатово',\n",
       "       'посёлок Новогорелово', 'городской посёлок Лесогорский',\n",
       "       'деревня Лаголово', 'поселок Цвелодубово',\n",
       "       'поселок городского типа Рахья', 'поселок городского типа Вырица',\n",
       "       'деревня Белогорка', 'поселок Заводской',\n",
       "       'городской посёлок Новоселье', 'деревня Большие Колпаны',\n",
       "       'деревня Горбунки', 'деревня Батово', 'деревня Заневка',\n",
       "       'деревня Иссад', 'Приморск', 'городской посёлок Фёдоровское',\n",
       "       'деревня Мистолово', 'Новая Ладога', 'поселок Зимитицы',\n",
       "       'поселок Барышево', 'деревня Разметелево',\n",
       "       'поселок городского типа имени Свердлова', 'деревня Пеники',\n",
       "       'поселок Рябово', 'деревня Пудомяги', 'поселок станции Корнево',\n",
       "       'деревня Низино', 'деревня Бегуницы', 'посёлок Поляны',\n",
       "       'городской посёлок Мга', 'поселок Елизаветино',\n",
       "       'посёлок городского типа Кузнечное', 'деревня Колтуши',\n",
       "       'поселок Запорожское', 'посёлок городского типа Рощино',\n",
       "       'деревня Гостилицы', 'деревня Малое Карлино',\n",
       "       'посёлок Мичуринское', 'посёлок городского типа имени Морозова',\n",
       "       'посёлок Песочный', 'посёлок Сосново', 'деревня Аро',\n",
       "       'поселок Ильичёво', 'посёлок городского типа Тайцы',\n",
       "       'деревня Малое Верево', 'деревня Извара', 'поселок станции Вещево',\n",
       "       'село Паша', 'деревня Калитино',\n",
       "       'посёлок городского типа Ульяновка', 'деревня Чудской Бор',\n",
       "       'поселок городского типа Дубровка', 'деревня Мины',\n",
       "       'поселок Войсковицы', 'посёлок городского типа имени Свердлова',\n",
       "       'деревня Коркино', 'посёлок Ропша',\n",
       "       'поселок городского типа Приладожский', 'посёлок Щеглово',\n",
       "       'посёлок Гаврилово', 'Лодейное Поле', 'деревня Рабитицы',\n",
       "       'поселок городского типа Никольский', 'деревня Кузьмолово',\n",
       "       'деревня Малые Колпаны', 'поселок Тельмана',\n",
       "       'посёлок Петро-Славянка', 'городской посёлок Назия',\n",
       "       'посёлок Репино', 'посёлок Ильичёво', 'поселок Углово',\n",
       "       'поселок Старая Малукса', 'садовое товарищество Рахья',\n",
       "       'поселок Аннино', 'поселок Победа', 'деревня Меньково',\n",
       "       'деревня Старые Бегуницы', 'посёлок Сапёрный', 'поселок Семрино',\n",
       "       'поселок Гаврилово', 'поселок Глажево', 'поселок Кобринское',\n",
       "       'деревня Гарболово', 'деревня Юкки',\n",
       "       'поселок станции Приветнинское', 'деревня Мануйлово',\n",
       "       'деревня Пчева', 'поселок Поляны', 'поселок Цвылёво',\n",
       "       'поселок Мельниково', 'посёлок Пудость', 'посёлок Усть-Луга',\n",
       "       'Светогорск', 'Любань', 'поселок Селезнёво',\n",
       "       'поселок городского типа Рябово', 'Каменногорск', 'деревня Кривко',\n",
       "       'поселок Глебычево', 'деревня Парицы', 'поселок Жилпосёлок',\n",
       "       'посёлок городского типа Мга', 'городской поселок Янино-1',\n",
       "       'посёлок Войскорово', 'село Никольское', 'посёлок Терволово',\n",
       "       'поселок Стеклянный', 'посёлок городского типа Важины',\n",
       "       'посёлок Мыза-Ивановка', 'село Русско-Высоцкое',\n",
       "       'поселок городского типа Лебяжье',\n",
       "       'поселок городского типа Форносово', 'село Старая Ладога',\n",
       "       'поселок Житково', 'городской посёлок Виллози', 'деревня Лампово',\n",
       "       'деревня Шпаньково', 'деревня Лаврики', 'посёлок Сумино',\n",
       "       'посёлок Возрождение', 'деревня Старосиверская',\n",
       "       'посёлок Кикерино', 'поселок Возрождение',\n",
       "       'деревня Старое Хинколово', 'посёлок Пригородный',\n",
       "       'посёлок Торфяное', 'городской посёлок Будогощь',\n",
       "       'поселок Суходолье', 'поселок Красная Долина', 'деревня Хапо-Ое',\n",
       "       'поселок городского типа Дружная Горка', 'поселок Лисий Нос',\n",
       "       'деревня Яльгелево', 'посёлок Стеклянный', 'село Рождествено',\n",
       "       'деревня Старополье', 'посёлок Левашово', 'деревня Сяськелево',\n",
       "       'деревня Камышовка',\n",
       "       'садоводческое некоммерческое товарищество Лесная Поляна',\n",
       "       'деревня Хязельки', 'поселок Жилгородок',\n",
       "       'посёлок городского типа Павлово', 'деревня Ялгино',\n",
       "       'поселок Новый Учхоз', 'городской посёлок Рощино',\n",
       "       'поселок Гончарово', 'поселок Почап', 'посёлок Сапёрное',\n",
       "       'посёлок Платформа 69-й километр', 'поселок Каложицы',\n",
       "       'деревня Фалилеево', 'деревня Пельгора',\n",
       "       'поселок городского типа Лесогорский', 'деревня Торошковичи',\n",
       "       'посёлок Белоостров', 'посёлок Алексеевка', 'поселок Серебрянский',\n",
       "       'поселок Лукаши', 'поселок Петровское', 'деревня Щеглово',\n",
       "       'поселок Мичуринское', 'деревня Тарасово', 'поселок Кингисеппский',\n",
       "       'посёлок при железнодорожной станции Вещево', 'поселок Ушаки',\n",
       "       'деревня Котлы', 'деревня Сижно', 'деревня Торосово',\n",
       "       'посёлок Форт Красная Горка', 'поселок городского типа Токсово',\n",
       "       'деревня Новолисино', 'посёлок станции Громово', 'деревня Глинка',\n",
       "       'посёлок Мельниково', 'поселок городского типа Назия',\n",
       "       'деревня Старая Пустошь', 'поселок Коммунары', 'поселок Починок',\n",
       "       'посёлок городского типа Вознесенье', 'деревня Разбегаево',\n",
       "       'посёлок городского типа Рябово', 'поселок Гладкое',\n",
       "       'посёлок при железнодорожной станции Приветнинское',\n",
       "       'поселок Тёсово-4', 'посёлок Жилгородок', 'деревня Бор',\n",
       "       'посёлок Коробицыно', 'деревня Большая Вруда', 'деревня Курковицы',\n",
       "       'посёлок Лисий Нос', 'городской посёлок Советский',\n",
       "       'посёлок Кобралово', 'деревня Суоранда', 'поселок Кобралово',\n",
       "       'поселок городского типа Кондратьево',\n",
       "       'коттеджный поселок Счастье', 'поселок Любань', 'деревня Реброво',\n",
       "       'деревня Зимитицы', 'деревня Тойворово', 'поселок Семиозерье',\n",
       "       'поселок Лесное', 'поселок Совхозный', 'поселок Усть-Луга',\n",
       "       'посёлок Ленинское', 'посёлок Суйда',\n",
       "       'посёлок городского типа Форносово', 'деревня Нижние Осельки',\n",
       "       'посёлок станции Свирь', 'поселок Перово', 'Высоцк',\n",
       "       'поселок Гарболово', 'село Шум', 'поселок Котельский',\n",
       "       'поселок станции Лужайка', 'деревня Большая Пустомержа',\n",
       "       'поселок Красносельское', 'деревня Вахнова Кара', 'деревня Пижма',\n",
       "       'коттеджный поселок Кивеннапа Север', 'поселок Коробицыно',\n",
       "       'поселок Ромашки', 'посёлок Перово', 'деревня Каськово',\n",
       "       'деревня Куровицы', 'посёлок Плоское', 'поселок Сумино',\n",
       "       'поселок городского типа Большая Ижора', 'поселок Кирпичное',\n",
       "       'деревня Ям-Тесово', 'деревня Раздолье', 'деревня Терпилицы',\n",
       "       'посёлок Шугозеро', 'деревня Ваганово', 'поселок Пушное',\n",
       "       'садовое товарищество Садко', 'посёлок Усть-Ижора',\n",
       "       'деревня Выскатка', 'городской посёлок Свирьстрой',\n",
       "       'поселок Громово', 'деревня Кисельня', 'посёлок Старая Малукса',\n",
       "       'деревня Трубников Бор', 'поселок Калитино',\n",
       "       'посёлок Высокоключевой', 'садовое товарищество Приладожский',\n",
       "       'посёлок Пансионат Зелёный Бор', 'деревня Ненимяки',\n",
       "       'поселок Пансионат Зелёный Бор', 'деревня Снегирёвка',\n",
       "       'деревня Рапполово', 'деревня Пустынка', 'поселок Рабитицы',\n",
       "       'деревня Большой Сабск', 'деревня Русско', 'деревня Лупполово',\n",
       "       'деревня Большое Рейзино', 'деревня Малая Романовка',\n",
       "       'поселок Дружноселье', 'поселок Пчевжа', 'поселок Володарское',\n",
       "       'деревня Нижняя', 'коттеджный посёлок Лесное', 'деревня Тихковицы',\n",
       "       'деревня Борисова Грива', 'посёлок Дзержинского'], dtype=object)"
      ]
     },
     "execution_count": 69,
     "metadata": {},
     "output_type": "execute_result"
    }
   ],
   "source": [
    "#замена пропущенных значений на \"Неизвестный адрес\"\n",
    "data['locality_name'] = data['locality_name'].fillna(\"Неизвестный адрес\") \n",
    "\n",
    "# вывод уникальных значений в столбце locality_name\n",
    "data['locality_name'].unique()"
   ]
  },
  {
   "cell_type": "code",
   "execution_count": 70,
   "metadata": {},
   "outputs": [
    {
     "data": {
      "text/plain": [
       "locality_name\n",
       "Бокситогорск             16\n",
       "Волосово                 36\n",
       "Волхов                  111\n",
       "Всеволожск              398\n",
       "Выборг                  237\n",
       "                       ... \n",
       "село Путилово             2\n",
       "село Рождествено          3\n",
       "село Русско-Высоцкое      9\n",
       "село Старая Ладога        2\n",
       "село Шум                  1\n",
       "Name: last_price, Length: 365, dtype: int64"
      ]
     },
     "execution_count": 70,
     "metadata": {},
     "output_type": "execute_result"
    }
   ],
   "source": [
    "#подсчет количества объявлений в каждом населенном пункте\n",
    "data.groupby('locality_name')['last_price'].agg('count') "
   ]
  },
  {
   "cell_type": "markdown",
   "metadata": {},
   "source": [
    "Видно, что названия населенных пунктов написаны с заглавной буквы, тогка как тип с строчной"
   ]
  },
  {
   "cell_type": "code",
   "execution_count": 71,
   "metadata": {},
   "outputs": [
    {
     "data": {
      "text/plain": [
       "new_locality_name\n",
       "Агалатово           4\n",
       "Александровская     2\n",
       "Алексеевка          1\n",
       "Аннино             16\n",
       "Аро                 3\n",
       "                   ..\n",
       "Юкки                5\n",
       "Ялгино              1\n",
       "Яльгелево           6\n",
       "Ям-Тесово           2\n",
       "Янино-1            68\n",
       "Name: last_price, Length: 306, dtype: int64"
      ]
     },
     "execution_count": 71,
     "metadata": {},
     "output_type": "execute_result"
    }
   ],
   "source": [
    "#процедура очистки названий населенных пунктов от названий типов \"город\", 'поселок' и т.д.\n",
    "# удаляются все слова начинающиеся с строчной буквы\n",
    "def clear_list(list): \n",
    "    new_list = []\n",
    "    p = 0\n",
    "    for p in range(len(list)):\n",
    "        if list[p].islower() == False:\n",
    "            new_list.append(list[p])\n",
    "            new_str = \" \".join(new_list)\n",
    "    #print(new_str)\n",
    "    return new_str  \n",
    "\n",
    "data['new_locality_name'] = data['locality_name'].str.split()\n",
    "data['new_locality_name'] = data['new_locality_name'].apply(clear_list)\n",
    "\n",
    "# замена буквы 'ё' на 'е'\n",
    "data['new_locality_name'] = data['new_locality_name'].str.replace('ё', 'е',case = None)\n",
    "\n",
    "# вывод количества объявлений в каждом населенном пункте\n",
    "data.groupby('new_locality_name')['last_price'].agg('count')              "
   ]
  },
  {
   "cell_type": "markdown",
   "metadata": {},
   "source": [
    "Удалены названия типов населенных пунктов и произведена замена букв ё на е. Удалось избавиться от 59 неявных дубликатов населенных пунктов. Конечно данный метод не сработает при наличии населенных пунктов разного типа но с одним названием. Но так как данная ситуация маловероятна, ей можно принибречь. И для на дальнейшее исследование не влияет."
   ]
  },
  {
   "cell_type": "markdown",
   "metadata": {},
   "source": [
    "### Посчитайте и добавьте в таблицу новые столбцы"
   ]
  },
  {
   "cell_type": "code",
   "execution_count": 72,
   "metadata": {},
   "outputs": [
    {
     "data": {
      "text/html": [
       "<div>\n",
       "<style scoped>\n",
       "    .dataframe tbody tr th:only-of-type {\n",
       "        vertical-align: middle;\n",
       "    }\n",
       "\n",
       "    .dataframe tbody tr th {\n",
       "        vertical-align: top;\n",
       "    }\n",
       "\n",
       "    .dataframe thead th {\n",
       "        text-align: right;\n",
       "    }\n",
       "</style>\n",
       "<table border=\"1\" class=\"dataframe\">\n",
       "  <thead>\n",
       "    <tr style=\"text-align: right;\">\n",
       "      <th></th>\n",
       "      <th>total_images</th>\n",
       "      <th>last_price</th>\n",
       "      <th>total_area</th>\n",
       "      <th>first_day_exposition</th>\n",
       "      <th>rooms</th>\n",
       "      <th>ceiling_height</th>\n",
       "      <th>floors_total</th>\n",
       "      <th>living_area</th>\n",
       "      <th>floor</th>\n",
       "      <th>is_apartment</th>\n",
       "      <th>...</th>\n",
       "      <th>parks_around3000</th>\n",
       "      <th>parks_nearest</th>\n",
       "      <th>ponds_around3000</th>\n",
       "      <th>ponds_nearest</th>\n",
       "      <th>days_exposition</th>\n",
       "      <th>day</th>\n",
       "      <th>month</th>\n",
       "      <th>year</th>\n",
       "      <th>new_locality_name</th>\n",
       "      <th>m2_price</th>\n",
       "    </tr>\n",
       "  </thead>\n",
       "  <tbody>\n",
       "    <tr>\n",
       "      <th>0</th>\n",
       "      <td>20</td>\n",
       "      <td>13000.0</td>\n",
       "      <td>108</td>\n",
       "      <td>2019-03-07</td>\n",
       "      <td>3</td>\n",
       "      <td>2.70</td>\n",
       "      <td>16</td>\n",
       "      <td>51</td>\n",
       "      <td>8</td>\n",
       "      <td>False</td>\n",
       "      <td>...</td>\n",
       "      <td>1</td>\n",
       "      <td>482.0</td>\n",
       "      <td>2</td>\n",
       "      <td>755.0</td>\n",
       "      <td>NaN</td>\n",
       "      <td>3</td>\n",
       "      <td>3</td>\n",
       "      <td>2019</td>\n",
       "      <td>Санкт-Петербург</td>\n",
       "      <td>120</td>\n",
       "    </tr>\n",
       "    <tr>\n",
       "      <th>1</th>\n",
       "      <td>7</td>\n",
       "      <td>3350.0</td>\n",
       "      <td>40</td>\n",
       "      <td>2018-12-04</td>\n",
       "      <td>1</td>\n",
       "      <td>2.50</td>\n",
       "      <td>11</td>\n",
       "      <td>18</td>\n",
       "      <td>1</td>\n",
       "      <td>False</td>\n",
       "      <td>...</td>\n",
       "      <td>0</td>\n",
       "      <td>NaN</td>\n",
       "      <td>0</td>\n",
       "      <td>NaN</td>\n",
       "      <td>81.0</td>\n",
       "      <td>1</td>\n",
       "      <td>12</td>\n",
       "      <td>2018</td>\n",
       "      <td>Шушары</td>\n",
       "      <td>83</td>\n",
       "    </tr>\n",
       "    <tr>\n",
       "      <th>2</th>\n",
       "      <td>10</td>\n",
       "      <td>5196.0</td>\n",
       "      <td>56</td>\n",
       "      <td>2015-08-20</td>\n",
       "      <td>2</td>\n",
       "      <td>2.50</td>\n",
       "      <td>5</td>\n",
       "      <td>34</td>\n",
       "      <td>4</td>\n",
       "      <td>False</td>\n",
       "      <td>...</td>\n",
       "      <td>1</td>\n",
       "      <td>90.0</td>\n",
       "      <td>2</td>\n",
       "      <td>574.0</td>\n",
       "      <td>558.0</td>\n",
       "      <td>3</td>\n",
       "      <td>8</td>\n",
       "      <td>2015</td>\n",
       "      <td>Санкт-Петербург</td>\n",
       "      <td>92</td>\n",
       "    </tr>\n",
       "    <tr>\n",
       "      <th>3</th>\n",
       "      <td>0</td>\n",
       "      <td>64900.0</td>\n",
       "      <td>159</td>\n",
       "      <td>2015-07-24</td>\n",
       "      <td>3</td>\n",
       "      <td>2.50</td>\n",
       "      <td>14</td>\n",
       "      <td>44</td>\n",
       "      <td>9</td>\n",
       "      <td>False</td>\n",
       "      <td>...</td>\n",
       "      <td>2</td>\n",
       "      <td>84.0</td>\n",
       "      <td>3</td>\n",
       "      <td>234.0</td>\n",
       "      <td>424.0</td>\n",
       "      <td>4</td>\n",
       "      <td>7</td>\n",
       "      <td>2015</td>\n",
       "      <td>Санкт-Петербург</td>\n",
       "      <td>408</td>\n",
       "    </tr>\n",
       "    <tr>\n",
       "      <th>4</th>\n",
       "      <td>2</td>\n",
       "      <td>10000.0</td>\n",
       "      <td>100</td>\n",
       "      <td>2018-06-19</td>\n",
       "      <td>2</td>\n",
       "      <td>3.03</td>\n",
       "      <td>14</td>\n",
       "      <td>32</td>\n",
       "      <td>13</td>\n",
       "      <td>False</td>\n",
       "      <td>...</td>\n",
       "      <td>2</td>\n",
       "      <td>112.0</td>\n",
       "      <td>1</td>\n",
       "      <td>48.0</td>\n",
       "      <td>121.0</td>\n",
       "      <td>1</td>\n",
       "      <td>6</td>\n",
       "      <td>2018</td>\n",
       "      <td>Санкт-Петербург</td>\n",
       "      <td>100</td>\n",
       "    </tr>\n",
       "    <tr>\n",
       "      <th>5</th>\n",
       "      <td>10</td>\n",
       "      <td>2890.0</td>\n",
       "      <td>30</td>\n",
       "      <td>2018-09-10</td>\n",
       "      <td>1</td>\n",
       "      <td>2.50</td>\n",
       "      <td>12</td>\n",
       "      <td>14</td>\n",
       "      <td>5</td>\n",
       "      <td>False</td>\n",
       "      <td>...</td>\n",
       "      <td>0</td>\n",
       "      <td>NaN</td>\n",
       "      <td>0</td>\n",
       "      <td>NaN</td>\n",
       "      <td>55.0</td>\n",
       "      <td>0</td>\n",
       "      <td>9</td>\n",
       "      <td>2018</td>\n",
       "      <td>Янино-1</td>\n",
       "      <td>96</td>\n",
       "    </tr>\n",
       "    <tr>\n",
       "      <th>6</th>\n",
       "      <td>6</td>\n",
       "      <td>3700.0</td>\n",
       "      <td>37</td>\n",
       "      <td>2017-11-02</td>\n",
       "      <td>1</td>\n",
       "      <td>2.50</td>\n",
       "      <td>26</td>\n",
       "      <td>10</td>\n",
       "      <td>6</td>\n",
       "      <td>False</td>\n",
       "      <td>...</td>\n",
       "      <td>0</td>\n",
       "      <td>NaN</td>\n",
       "      <td>0</td>\n",
       "      <td>NaN</td>\n",
       "      <td>155.0</td>\n",
       "      <td>3</td>\n",
       "      <td>11</td>\n",
       "      <td>2017</td>\n",
       "      <td>Парголово</td>\n",
       "      <td>100</td>\n",
       "    </tr>\n",
       "    <tr>\n",
       "      <th>7</th>\n",
       "      <td>5</td>\n",
       "      <td>7915.0</td>\n",
       "      <td>71</td>\n",
       "      <td>2019-04-18</td>\n",
       "      <td>2</td>\n",
       "      <td>2.50</td>\n",
       "      <td>24</td>\n",
       "      <td>30</td>\n",
       "      <td>22</td>\n",
       "      <td>False</td>\n",
       "      <td>...</td>\n",
       "      <td>0</td>\n",
       "      <td>NaN</td>\n",
       "      <td>0</td>\n",
       "      <td>NaN</td>\n",
       "      <td>NaN</td>\n",
       "      <td>3</td>\n",
       "      <td>4</td>\n",
       "      <td>2019</td>\n",
       "      <td>Санкт-Петербург</td>\n",
       "      <td>111</td>\n",
       "    </tr>\n",
       "    <tr>\n",
       "      <th>8</th>\n",
       "      <td>20</td>\n",
       "      <td>2900.0</td>\n",
       "      <td>33</td>\n",
       "      <td>2018-05-23</td>\n",
       "      <td>1</td>\n",
       "      <td>2.50</td>\n",
       "      <td>27</td>\n",
       "      <td>15</td>\n",
       "      <td>26</td>\n",
       "      <td>False</td>\n",
       "      <td>...</td>\n",
       "      <td>0</td>\n",
       "      <td>NaN</td>\n",
       "      <td>0</td>\n",
       "      <td>NaN</td>\n",
       "      <td>189.0</td>\n",
       "      <td>2</td>\n",
       "      <td>5</td>\n",
       "      <td>2018</td>\n",
       "      <td>Мурино</td>\n",
       "      <td>87</td>\n",
       "    </tr>\n",
       "    <tr>\n",
       "      <th>9</th>\n",
       "      <td>18</td>\n",
       "      <td>5400.0</td>\n",
       "      <td>61</td>\n",
       "      <td>2017-02-26</td>\n",
       "      <td>3</td>\n",
       "      <td>2.50</td>\n",
       "      <td>9</td>\n",
       "      <td>43</td>\n",
       "      <td>7</td>\n",
       "      <td>False</td>\n",
       "      <td>...</td>\n",
       "      <td>0</td>\n",
       "      <td>NaN</td>\n",
       "      <td>0</td>\n",
       "      <td>NaN</td>\n",
       "      <td>289.0</td>\n",
       "      <td>6</td>\n",
       "      <td>2</td>\n",
       "      <td>2017</td>\n",
       "      <td>Санкт-Петербург</td>\n",
       "      <td>88</td>\n",
       "    </tr>\n",
       "    <tr>\n",
       "      <th>10</th>\n",
       "      <td>5</td>\n",
       "      <td>5050.0</td>\n",
       "      <td>39</td>\n",
       "      <td>2017-11-16</td>\n",
       "      <td>1</td>\n",
       "      <td>2.67</td>\n",
       "      <td>12</td>\n",
       "      <td>20</td>\n",
       "      <td>3</td>\n",
       "      <td>False</td>\n",
       "      <td>...</td>\n",
       "      <td>1</td>\n",
       "      <td>310.0</td>\n",
       "      <td>2</td>\n",
       "      <td>553.0</td>\n",
       "      <td>137.0</td>\n",
       "      <td>3</td>\n",
       "      <td>11</td>\n",
       "      <td>2017</td>\n",
       "      <td>Санкт-Петербург</td>\n",
       "      <td>129</td>\n",
       "    </tr>\n",
       "    <tr>\n",
       "      <th>11</th>\n",
       "      <td>9</td>\n",
       "      <td>3300.0</td>\n",
       "      <td>44</td>\n",
       "      <td>2018-08-27</td>\n",
       "      <td>2</td>\n",
       "      <td>2.50</td>\n",
       "      <td>5</td>\n",
       "      <td>31</td>\n",
       "      <td>4</td>\n",
       "      <td>False</td>\n",
       "      <td>...</td>\n",
       "      <td>0</td>\n",
       "      <td>NaN</td>\n",
       "      <td>0</td>\n",
       "      <td>NaN</td>\n",
       "      <td>7.0</td>\n",
       "      <td>0</td>\n",
       "      <td>8</td>\n",
       "      <td>2018</td>\n",
       "      <td>Ломоносов</td>\n",
       "      <td>75</td>\n",
       "    </tr>\n",
       "    <tr>\n",
       "      <th>12</th>\n",
       "      <td>10</td>\n",
       "      <td>3890.0</td>\n",
       "      <td>54</td>\n",
       "      <td>2016-06-30</td>\n",
       "      <td>2</td>\n",
       "      <td>2.50</td>\n",
       "      <td>5</td>\n",
       "      <td>30</td>\n",
       "      <td>5</td>\n",
       "      <td>False</td>\n",
       "      <td>...</td>\n",
       "      <td>0</td>\n",
       "      <td>NaN</td>\n",
       "      <td>0</td>\n",
       "      <td>NaN</td>\n",
       "      <td>90.0</td>\n",
       "      <td>3</td>\n",
       "      <td>6</td>\n",
       "      <td>2016</td>\n",
       "      <td>Сертолово</td>\n",
       "      <td>72</td>\n",
       "    </tr>\n",
       "    <tr>\n",
       "      <th>13</th>\n",
       "      <td>20</td>\n",
       "      <td>3550.0</td>\n",
       "      <td>42</td>\n",
       "      <td>2017-07-01</td>\n",
       "      <td>2</td>\n",
       "      <td>2.56</td>\n",
       "      <td>5</td>\n",
       "      <td>27</td>\n",
       "      <td>5</td>\n",
       "      <td>False</td>\n",
       "      <td>...</td>\n",
       "      <td>1</td>\n",
       "      <td>294.0</td>\n",
       "      <td>3</td>\n",
       "      <td>298.0</td>\n",
       "      <td>366.0</td>\n",
       "      <td>5</td>\n",
       "      <td>7</td>\n",
       "      <td>2017</td>\n",
       "      <td>Петергоф</td>\n",
       "      <td>84</td>\n",
       "    </tr>\n",
       "    <tr>\n",
       "      <th>14</th>\n",
       "      <td>1</td>\n",
       "      <td>4400.0</td>\n",
       "      <td>36</td>\n",
       "      <td>2016-06-23</td>\n",
       "      <td>1</td>\n",
       "      <td>2.50</td>\n",
       "      <td>6</td>\n",
       "      <td>17</td>\n",
       "      <td>1</td>\n",
       "      <td>False</td>\n",
       "      <td>...</td>\n",
       "      <td>0</td>\n",
       "      <td>NaN</td>\n",
       "      <td>1</td>\n",
       "      <td>96.0</td>\n",
       "      <td>203.0</td>\n",
       "      <td>3</td>\n",
       "      <td>6</td>\n",
       "      <td>2016</td>\n",
       "      <td>Пушкин</td>\n",
       "      <td>122</td>\n",
       "    </tr>\n",
       "    <tr>\n",
       "      <th>15</th>\n",
       "      <td>16</td>\n",
       "      <td>4650.0</td>\n",
       "      <td>39</td>\n",
       "      <td>2017-11-18</td>\n",
       "      <td>1</td>\n",
       "      <td>2.50</td>\n",
       "      <td>14</td>\n",
       "      <td>20</td>\n",
       "      <td>5</td>\n",
       "      <td>False</td>\n",
       "      <td>...</td>\n",
       "      <td>1</td>\n",
       "      <td>590.0</td>\n",
       "      <td>1</td>\n",
       "      <td>296.0</td>\n",
       "      <td>19.0</td>\n",
       "      <td>5</td>\n",
       "      <td>11</td>\n",
       "      <td>2017</td>\n",
       "      <td>Санкт-Петербург</td>\n",
       "      <td>119</td>\n",
       "    </tr>\n",
       "    <tr>\n",
       "      <th>16</th>\n",
       "      <td>11</td>\n",
       "      <td>6700.0</td>\n",
       "      <td>82</td>\n",
       "      <td>2017-11-23</td>\n",
       "      <td>3</td>\n",
       "      <td>3.05</td>\n",
       "      <td>5</td>\n",
       "      <td>55</td>\n",
       "      <td>1</td>\n",
       "      <td>False</td>\n",
       "      <td>...</td>\n",
       "      <td>3</td>\n",
       "      <td>420.0</td>\n",
       "      <td>0</td>\n",
       "      <td>NaN</td>\n",
       "      <td>397.0</td>\n",
       "      <td>3</td>\n",
       "      <td>11</td>\n",
       "      <td>2017</td>\n",
       "      <td>Санкт-Петербург</td>\n",
       "      <td>81</td>\n",
       "    </tr>\n",
       "    <tr>\n",
       "      <th>17</th>\n",
       "      <td>6</td>\n",
       "      <td>4180.0</td>\n",
       "      <td>36</td>\n",
       "      <td>2016-09-09</td>\n",
       "      <td>1</td>\n",
       "      <td>2.50</td>\n",
       "      <td>17</td>\n",
       "      <td>16</td>\n",
       "      <td>7</td>\n",
       "      <td>False</td>\n",
       "      <td>...</td>\n",
       "      <td>0</td>\n",
       "      <td>NaN</td>\n",
       "      <td>1</td>\n",
       "      <td>859.0</td>\n",
       "      <td>571.0</td>\n",
       "      <td>4</td>\n",
       "      <td>9</td>\n",
       "      <td>2016</td>\n",
       "      <td>Санкт-Петербург</td>\n",
       "      <td>116</td>\n",
       "    </tr>\n",
       "    <tr>\n",
       "      <th>18</th>\n",
       "      <td>8</td>\n",
       "      <td>3250.0</td>\n",
       "      <td>31</td>\n",
       "      <td>2017-01-27</td>\n",
       "      <td>1</td>\n",
       "      <td>2.50</td>\n",
       "      <td>5</td>\n",
       "      <td>19</td>\n",
       "      <td>2</td>\n",
       "      <td>False</td>\n",
       "      <td>...</td>\n",
       "      <td>1</td>\n",
       "      <td>759.0</td>\n",
       "      <td>0</td>\n",
       "      <td>NaN</td>\n",
       "      <td>168.0</td>\n",
       "      <td>4</td>\n",
       "      <td>1</td>\n",
       "      <td>2017</td>\n",
       "      <td>Санкт-Петербург</td>\n",
       "      <td>104</td>\n",
       "    </tr>\n",
       "    <tr>\n",
       "      <th>19</th>\n",
       "      <td>16</td>\n",
       "      <td>14200.0</td>\n",
       "      <td>121</td>\n",
       "      <td>2019-01-09</td>\n",
       "      <td>3</td>\n",
       "      <td>2.75</td>\n",
       "      <td>16</td>\n",
       "      <td>76</td>\n",
       "      <td>8</td>\n",
       "      <td>False</td>\n",
       "      <td>...</td>\n",
       "      <td>0</td>\n",
       "      <td>NaN</td>\n",
       "      <td>0</td>\n",
       "      <td>NaN</td>\n",
       "      <td>97.0</td>\n",
       "      <td>2</td>\n",
       "      <td>1</td>\n",
       "      <td>2019</td>\n",
       "      <td>Санкт-Петербург</td>\n",
       "      <td>117</td>\n",
       "    </tr>\n",
       "  </tbody>\n",
       "</table>\n",
       "<p>20 rows × 27 columns</p>\n",
       "</div>"
      ],
      "text/plain": [
       "    total_images  last_price  total_area first_day_exposition  rooms  \\\n",
       "0             20     13000.0         108           2019-03-07      3   \n",
       "1              7      3350.0          40           2018-12-04      1   \n",
       "2             10      5196.0          56           2015-08-20      2   \n",
       "3              0     64900.0         159           2015-07-24      3   \n",
       "4              2     10000.0         100           2018-06-19      2   \n",
       "5             10      2890.0          30           2018-09-10      1   \n",
       "6              6      3700.0          37           2017-11-02      1   \n",
       "7              5      7915.0          71           2019-04-18      2   \n",
       "8             20      2900.0          33           2018-05-23      1   \n",
       "9             18      5400.0          61           2017-02-26      3   \n",
       "10             5      5050.0          39           2017-11-16      1   \n",
       "11             9      3300.0          44           2018-08-27      2   \n",
       "12            10      3890.0          54           2016-06-30      2   \n",
       "13            20      3550.0          42           2017-07-01      2   \n",
       "14             1      4400.0          36           2016-06-23      1   \n",
       "15            16      4650.0          39           2017-11-18      1   \n",
       "16            11      6700.0          82           2017-11-23      3   \n",
       "17             6      4180.0          36           2016-09-09      1   \n",
       "18             8      3250.0          31           2017-01-27      1   \n",
       "19            16     14200.0         121           2019-01-09      3   \n",
       "\n",
       "    ceiling_height  floors_total  living_area  floor  is_apartment  ...  \\\n",
       "0             2.70            16           51      8         False  ...   \n",
       "1             2.50            11           18      1         False  ...   \n",
       "2             2.50             5           34      4         False  ...   \n",
       "3             2.50            14           44      9         False  ...   \n",
       "4             3.03            14           32     13         False  ...   \n",
       "5             2.50            12           14      5         False  ...   \n",
       "6             2.50            26           10      6         False  ...   \n",
       "7             2.50            24           30     22         False  ...   \n",
       "8             2.50            27           15     26         False  ...   \n",
       "9             2.50             9           43      7         False  ...   \n",
       "10            2.67            12           20      3         False  ...   \n",
       "11            2.50             5           31      4         False  ...   \n",
       "12            2.50             5           30      5         False  ...   \n",
       "13            2.56             5           27      5         False  ...   \n",
       "14            2.50             6           17      1         False  ...   \n",
       "15            2.50            14           20      5         False  ...   \n",
       "16            3.05             5           55      1         False  ...   \n",
       "17            2.50            17           16      7         False  ...   \n",
       "18            2.50             5           19      2         False  ...   \n",
       "19            2.75            16           76      8         False  ...   \n",
       "\n",
       "    parks_around3000  parks_nearest  ponds_around3000  ponds_nearest  \\\n",
       "0                  1          482.0                 2          755.0   \n",
       "1                  0            NaN                 0            NaN   \n",
       "2                  1           90.0                 2          574.0   \n",
       "3                  2           84.0                 3          234.0   \n",
       "4                  2          112.0                 1           48.0   \n",
       "5                  0            NaN                 0            NaN   \n",
       "6                  0            NaN                 0            NaN   \n",
       "7                  0            NaN                 0            NaN   \n",
       "8                  0            NaN                 0            NaN   \n",
       "9                  0            NaN                 0            NaN   \n",
       "10                 1          310.0                 2          553.0   \n",
       "11                 0            NaN                 0            NaN   \n",
       "12                 0            NaN                 0            NaN   \n",
       "13                 1          294.0                 3          298.0   \n",
       "14                 0            NaN                 1           96.0   \n",
       "15                 1          590.0                 1          296.0   \n",
       "16                 3          420.0                 0            NaN   \n",
       "17                 0            NaN                 1          859.0   \n",
       "18                 1          759.0                 0            NaN   \n",
       "19                 0            NaN                 0            NaN   \n",
       "\n",
       "   days_exposition  day  month  year  new_locality_name  m2_price  \n",
       "0              NaN    3      3  2019    Санкт-Петербург       120  \n",
       "1             81.0    1     12  2018             Шушары        83  \n",
       "2            558.0    3      8  2015    Санкт-Петербург        92  \n",
       "3            424.0    4      7  2015    Санкт-Петербург       408  \n",
       "4            121.0    1      6  2018    Санкт-Петербург       100  \n",
       "5             55.0    0      9  2018            Янино-1        96  \n",
       "6            155.0    3     11  2017          Парголово       100  \n",
       "7              NaN    3      4  2019    Санкт-Петербург       111  \n",
       "8            189.0    2      5  2018             Мурино        87  \n",
       "9            289.0    6      2  2017    Санкт-Петербург        88  \n",
       "10           137.0    3     11  2017    Санкт-Петербург       129  \n",
       "11             7.0    0      8  2018          Ломоносов        75  \n",
       "12            90.0    3      6  2016          Сертолово        72  \n",
       "13           366.0    5      7  2017           Петергоф        84  \n",
       "14           203.0    3      6  2016             Пушкин       122  \n",
       "15            19.0    5     11  2017    Санкт-Петербург       119  \n",
       "16           397.0    3     11  2017    Санкт-Петербург        81  \n",
       "17           571.0    4      9  2016    Санкт-Петербург       116  \n",
       "18           168.0    4      1  2017    Санкт-Петербург       104  \n",
       "19            97.0    2      1  2019    Санкт-Петербург       117  \n",
       "\n",
       "[20 rows x 27 columns]"
      ]
     },
     "execution_count": 72,
     "metadata": {},
     "output_type": "execute_result"
    }
   ],
   "source": [
    "# рассчет стоимости квадратного метра\n",
    "try:  \n",
    "    data['m2_price'] = data['last_price'] / data['total_area']\n",
    "except:\n",
    "    print(\"Не заполена площадь квартиры\")  \n",
    "data['m2_price'] = data['m2_price'].astype('int64')\n",
    "data['floors_total'] = data[data['floors_total'].notnull()]['floors_total'].astype('int')\n",
    "data.head(20)"
   ]
  },
  {
   "cell_type": "code",
   "execution_count": 73,
   "metadata": {},
   "outputs": [
    {
     "data": {
      "text/html": [
       "<div>\n",
       "<style scoped>\n",
       "    .dataframe tbody tr th:only-of-type {\n",
       "        vertical-align: middle;\n",
       "    }\n",
       "\n",
       "    .dataframe tbody tr th {\n",
       "        vertical-align: top;\n",
       "    }\n",
       "\n",
       "    .dataframe thead th {\n",
       "        text-align: right;\n",
       "    }\n",
       "</style>\n",
       "<table border=\"1\" class=\"dataframe\">\n",
       "  <thead>\n",
       "    <tr style=\"text-align: right;\">\n",
       "      <th></th>\n",
       "      <th>total_images</th>\n",
       "      <th>last_price</th>\n",
       "      <th>total_area</th>\n",
       "      <th>first_day_exposition</th>\n",
       "      <th>rooms</th>\n",
       "      <th>ceiling_height</th>\n",
       "      <th>floors_total</th>\n",
       "      <th>living_area</th>\n",
       "      <th>floor</th>\n",
       "      <th>is_apartment</th>\n",
       "      <th>...</th>\n",
       "      <th>ponds_nearest</th>\n",
       "      <th>days_exposition</th>\n",
       "      <th>day</th>\n",
       "      <th>month</th>\n",
       "      <th>year</th>\n",
       "      <th>new_locality_name</th>\n",
       "      <th>m2_price</th>\n",
       "      <th>first_floor</th>\n",
       "      <th>last_floor</th>\n",
       "      <th>other_floor</th>\n",
       "    </tr>\n",
       "  </thead>\n",
       "  <tbody>\n",
       "    <tr>\n",
       "      <th>0</th>\n",
       "      <td>20</td>\n",
       "      <td>13000.0</td>\n",
       "      <td>108</td>\n",
       "      <td>2019-03-07</td>\n",
       "      <td>3</td>\n",
       "      <td>2.70</td>\n",
       "      <td>16</td>\n",
       "      <td>51</td>\n",
       "      <td>8</td>\n",
       "      <td>False</td>\n",
       "      <td>...</td>\n",
       "      <td>755.0</td>\n",
       "      <td>NaN</td>\n",
       "      <td>3</td>\n",
       "      <td>3</td>\n",
       "      <td>2019</td>\n",
       "      <td>Санкт-Петербург</td>\n",
       "      <td>120</td>\n",
       "      <td>0</td>\n",
       "      <td>0</td>\n",
       "      <td>1</td>\n",
       "    </tr>\n",
       "    <tr>\n",
       "      <th>1</th>\n",
       "      <td>7</td>\n",
       "      <td>3350.0</td>\n",
       "      <td>40</td>\n",
       "      <td>2018-12-04</td>\n",
       "      <td>1</td>\n",
       "      <td>2.50</td>\n",
       "      <td>11</td>\n",
       "      <td>18</td>\n",
       "      <td>1</td>\n",
       "      <td>False</td>\n",
       "      <td>...</td>\n",
       "      <td>NaN</td>\n",
       "      <td>81.0</td>\n",
       "      <td>1</td>\n",
       "      <td>12</td>\n",
       "      <td>2018</td>\n",
       "      <td>Шушары</td>\n",
       "      <td>83</td>\n",
       "      <td>1</td>\n",
       "      <td>0</td>\n",
       "      <td>0</td>\n",
       "    </tr>\n",
       "    <tr>\n",
       "      <th>2</th>\n",
       "      <td>10</td>\n",
       "      <td>5196.0</td>\n",
       "      <td>56</td>\n",
       "      <td>2015-08-20</td>\n",
       "      <td>2</td>\n",
       "      <td>2.50</td>\n",
       "      <td>5</td>\n",
       "      <td>34</td>\n",
       "      <td>4</td>\n",
       "      <td>False</td>\n",
       "      <td>...</td>\n",
       "      <td>574.0</td>\n",
       "      <td>558.0</td>\n",
       "      <td>3</td>\n",
       "      <td>8</td>\n",
       "      <td>2015</td>\n",
       "      <td>Санкт-Петербург</td>\n",
       "      <td>92</td>\n",
       "      <td>0</td>\n",
       "      <td>0</td>\n",
       "      <td>1</td>\n",
       "    </tr>\n",
       "    <tr>\n",
       "      <th>3</th>\n",
       "      <td>0</td>\n",
       "      <td>64900.0</td>\n",
       "      <td>159</td>\n",
       "      <td>2015-07-24</td>\n",
       "      <td>3</td>\n",
       "      <td>2.50</td>\n",
       "      <td>14</td>\n",
       "      <td>44</td>\n",
       "      <td>9</td>\n",
       "      <td>False</td>\n",
       "      <td>...</td>\n",
       "      <td>234.0</td>\n",
       "      <td>424.0</td>\n",
       "      <td>4</td>\n",
       "      <td>7</td>\n",
       "      <td>2015</td>\n",
       "      <td>Санкт-Петербург</td>\n",
       "      <td>408</td>\n",
       "      <td>0</td>\n",
       "      <td>0</td>\n",
       "      <td>1</td>\n",
       "    </tr>\n",
       "    <tr>\n",
       "      <th>4</th>\n",
       "      <td>2</td>\n",
       "      <td>10000.0</td>\n",
       "      <td>100</td>\n",
       "      <td>2018-06-19</td>\n",
       "      <td>2</td>\n",
       "      <td>3.03</td>\n",
       "      <td>14</td>\n",
       "      <td>32</td>\n",
       "      <td>13</td>\n",
       "      <td>False</td>\n",
       "      <td>...</td>\n",
       "      <td>48.0</td>\n",
       "      <td>121.0</td>\n",
       "      <td>1</td>\n",
       "      <td>6</td>\n",
       "      <td>2018</td>\n",
       "      <td>Санкт-Петербург</td>\n",
       "      <td>100</td>\n",
       "      <td>0</td>\n",
       "      <td>0</td>\n",
       "      <td>1</td>\n",
       "    </tr>\n",
       "  </tbody>\n",
       "</table>\n",
       "<p>5 rows × 30 columns</p>\n",
       "</div>"
      ],
      "text/plain": [
       "   total_images  last_price  total_area first_day_exposition  rooms  \\\n",
       "0            20     13000.0         108           2019-03-07      3   \n",
       "1             7      3350.0          40           2018-12-04      1   \n",
       "2            10      5196.0          56           2015-08-20      2   \n",
       "3             0     64900.0         159           2015-07-24      3   \n",
       "4             2     10000.0         100           2018-06-19      2   \n",
       "\n",
       "   ceiling_height  floors_total  living_area  floor  is_apartment  ...  \\\n",
       "0            2.70            16           51      8         False  ...   \n",
       "1            2.50            11           18      1         False  ...   \n",
       "2            2.50             5           34      4         False  ...   \n",
       "3            2.50            14           44      9         False  ...   \n",
       "4            3.03            14           32     13         False  ...   \n",
       "\n",
       "   ponds_nearest  days_exposition  day  month  year  new_locality_name  \\\n",
       "0          755.0              NaN    3      3  2019    Санкт-Петербург   \n",
       "1            NaN             81.0    1     12  2018             Шушары   \n",
       "2          574.0            558.0    3      8  2015    Санкт-Петербург   \n",
       "3          234.0            424.0    4      7  2015    Санкт-Петербург   \n",
       "4           48.0            121.0    1      6  2018    Санкт-Петербург   \n",
       "\n",
       "   m2_price  first_floor  last_floor  other_floor  \n",
       "0       120            0           0            1  \n",
       "1        83            1           0            0  \n",
       "2        92            0           0            1  \n",
       "3       408            0           0            1  \n",
       "4       100            0           0            1  \n",
       "\n",
       "[5 rows x 30 columns]"
      ]
     },
     "execution_count": 73,
     "metadata": {},
     "output_type": "execute_result"
    }
   ],
   "source": [
    "# классификаия этажей\n",
    "data['first_floor'] = (data['floor'] == 1) *1  \n",
    "data['last_floor'] = (data['floor'] == data['floors_total']) *1\n",
    "data['other_floor'] = ((data['last_floor'] == 0) & (data['first_floor'] == 0)) *1\n",
    "data.head(5)"
   ]
  },
  {
   "cell_type": "code",
   "execution_count": 74,
   "metadata": {},
   "outputs": [],
   "source": [
    "# добавление столбца с расстоянием до центра города в км. с окргдением до целых.\n",
    "data['cityCenters_nearest_km'] = data['cityCenters_nearest'] / 1000\n",
    "data['cityCenters_nearest_km'] = data['cityCenters_nearest_km'].round() "
   ]
  },
  {
   "cell_type": "markdown",
   "metadata": {},
   "source": [
    "Добавлен столбец со стоимостью 1 кв. метра. Данные преобразованы в целочисленные. Точности до целых для дальнейшего исследования бедет достаточно.\n",
    "\n",
    "Выполнена категоризация квартир по высоте этажа (Первый, Последний, Другой).\n",
    "\n",
    "Добавлен и округлен до целых значений столбец с расстонием до центра города в км. "
   ]
  },
  {
   "cell_type": "markdown",
   "metadata": {},
   "source": [
    "### Проведите исследовательский анализ данных"
   ]
  },
  {
   "cell_type": "markdown",
   "metadata": {},
   "source": [
    "#### Изучение данных"
   ]
  },
  {
   "cell_type": "code",
   "execution_count": 75,
   "metadata": {
    "scrolled": true
   },
   "outputs": [
    {
     "data": {
      "text/html": [
       "<div>\n",
       "<style scoped>\n",
       "    .dataframe tbody tr th:only-of-type {\n",
       "        vertical-align: middle;\n",
       "    }\n",
       "\n",
       "    .dataframe tbody tr th {\n",
       "        vertical-align: top;\n",
       "    }\n",
       "\n",
       "    .dataframe thead th {\n",
       "        text-align: right;\n",
       "    }\n",
       "</style>\n",
       "<table border=\"1\" class=\"dataframe\">\n",
       "  <thead>\n",
       "    <tr style=\"text-align: right;\">\n",
       "      <th></th>\n",
       "      <th>total_area</th>\n",
       "      <th>last_price</th>\n",
       "      <th>rooms</th>\n",
       "      <th>ceiling_height</th>\n",
       "      <th>year</th>\n",
       "      <th>month</th>\n",
       "      <th>day</th>\n",
       "    </tr>\n",
       "  </thead>\n",
       "  <tbody>\n",
       "    <tr>\n",
       "      <th>count</th>\n",
       "      <td>23699.00</td>\n",
       "      <td>23699.00</td>\n",
       "      <td>23699.00</td>\n",
       "      <td>23699.00</td>\n",
       "      <td>23699.00</td>\n",
       "      <td>23699.00</td>\n",
       "      <td>23699.00</td>\n",
       "    </tr>\n",
       "    <tr>\n",
       "      <th>mean</th>\n",
       "      <td>60.12</td>\n",
       "      <td>6541.55</td>\n",
       "      <td>2.08</td>\n",
       "      <td>2.67</td>\n",
       "      <td>2017.37</td>\n",
       "      <td>6.40</td>\n",
       "      <td>2.57</td>\n",
       "    </tr>\n",
       "    <tr>\n",
       "      <th>std</th>\n",
       "      <td>35.67</td>\n",
       "      <td>10887.01</td>\n",
       "      <td>1.07</td>\n",
       "      <td>1.00</td>\n",
       "      <td>1.04</td>\n",
       "      <td>3.49</td>\n",
       "      <td>1.79</td>\n",
       "    </tr>\n",
       "    <tr>\n",
       "      <th>min</th>\n",
       "      <td>12.00</td>\n",
       "      <td>12.19</td>\n",
       "      <td>0.00</td>\n",
       "      <td>0.00</td>\n",
       "      <td>2014.00</td>\n",
       "      <td>1.00</td>\n",
       "      <td>0.00</td>\n",
       "    </tr>\n",
       "    <tr>\n",
       "      <th>25%</th>\n",
       "      <td>40.00</td>\n",
       "      <td>3400.00</td>\n",
       "      <td>1.00</td>\n",
       "      <td>2.50</td>\n",
       "      <td>2017.00</td>\n",
       "      <td>3.00</td>\n",
       "      <td>1.00</td>\n",
       "    </tr>\n",
       "    <tr>\n",
       "      <th>50%</th>\n",
       "      <td>52.00</td>\n",
       "      <td>4650.00</td>\n",
       "      <td>2.00</td>\n",
       "      <td>2.50</td>\n",
       "      <td>2017.00</td>\n",
       "      <td>6.00</td>\n",
       "      <td>3.00</td>\n",
       "    </tr>\n",
       "    <tr>\n",
       "      <th>75%</th>\n",
       "      <td>69.00</td>\n",
       "      <td>6800.00</td>\n",
       "      <td>3.00</td>\n",
       "      <td>2.70</td>\n",
       "      <td>2018.00</td>\n",
       "      <td>10.00</td>\n",
       "      <td>4.00</td>\n",
       "    </tr>\n",
       "    <tr>\n",
       "      <th>max</th>\n",
       "      <td>900.00</td>\n",
       "      <td>763000.00</td>\n",
       "      <td>19.00</td>\n",
       "      <td>100.00</td>\n",
       "      <td>2019.00</td>\n",
       "      <td>12.00</td>\n",
       "      <td>6.00</td>\n",
       "    </tr>\n",
       "  </tbody>\n",
       "</table>\n",
       "</div>"
      ],
      "text/plain": [
       "       total_area  last_price     rooms  ceiling_height      year     month  \\\n",
       "count    23699.00    23699.00  23699.00        23699.00  23699.00  23699.00   \n",
       "mean        60.12     6541.55      2.08            2.67   2017.37      6.40   \n",
       "std         35.67    10887.01      1.07            1.00      1.04      3.49   \n",
       "min         12.00       12.19      0.00            0.00   2014.00      1.00   \n",
       "25%         40.00     3400.00      1.00            2.50   2017.00      3.00   \n",
       "50%         52.00     4650.00      2.00            2.50   2017.00      6.00   \n",
       "75%         69.00     6800.00      3.00            2.70   2018.00     10.00   \n",
       "max        900.00   763000.00     19.00          100.00   2019.00     12.00   \n",
       "\n",
       "            day  \n",
       "count  23699.00  \n",
       "mean       2.57  \n",
       "std        1.79  \n",
       "min        0.00  \n",
       "25%        1.00  \n",
       "50%        3.00  \n",
       "75%        4.00  \n",
       "max        6.00  "
      ]
     },
     "execution_count": 75,
     "metadata": {},
     "output_type": "execute_result"
    }
   ],
   "source": [
    "# вывод статистических данных\n",
    "data[['total_area', 'last_price', 'rooms', 'ceiling_height', 'year','month', 'day']].describe().round(2)"
   ]
  },
  {
   "cell_type": "code",
   "execution_count": 76,
   "metadata": {},
   "outputs": [
    {
     "data": {
      "text/plain": [
       "(31.0, 116.0)"
      ]
     },
     "execution_count": 76,
     "metadata": {},
     "output_type": "execute_result"
    }
   ],
   "source": [
    "# рассчет квантилий. Далее аналогично\n",
    "data['total_area'].quantile(0.05), data['total_area'].quantile(0.95)"
   ]
  },
  {
   "cell_type": "code",
   "execution_count": 77,
   "metadata": {},
   "outputs": [
    {
     "data": {
      "text/plain": [
       "Text(0, 0.5, 'Кол-во')"
      ]
     },
     "execution_count": 77,
     "metadata": {},
     "output_type": "execute_result"
    },
    {
     "data": {
      "image/png": "[encoded data removed]",
      "text/plain": [
       "<Figure size 432x288 with 1 Axes>"
      ]
     },
     "metadata": {
      "needs_background": "light"
     },
     "output_type": "display_data"
    }
   ],
   "source": [
    "# построение графика\n",
    "ax = data['total_area'].plot(\n",
    "    kind='hist', \n",
    "    bins=100, \n",
    "    range=(20,120), \n",
    "    title='Отношение кол-ва квартир по площади', \n",
    "    grid=True\n",
    ")\n",
    "ax.set_xlabel('Площадь')\n",
    "ax.set_ylabel('Кол-во')"
   ]
  },
  {
   "cell_type": "markdown",
   "metadata": {},
   "source": [
    "Больше всего квартир площадью 45 кв.м, не многим меньше площадью 30 кв. м. Так же есть небольгие подъемы в количестве квартир площадью 55-65 кв.м. Но их все равно значительно меньше чем квартир площадью 45 кв.м. Вероятно на данных значениях площади проходит переход между квартирами с разным количеством комнат."
   ]
  },
  {
   "cell_type": "code",
   "execution_count": 78,
   "metadata": {},
   "outputs": [
    {
     "data": {
      "text/plain": [
       "(1870.0, 15300.0)"
      ]
     },
     "execution_count": 78,
     "metadata": {},
     "output_type": "execute_result"
    }
   ],
   "source": [
    "data['last_price'].quantile(0.05), data['last_price'].quantile(0.95)"
   ]
  },
  {
   "cell_type": "code",
   "execution_count": 79,
   "metadata": {},
   "outputs": [
    {
     "data": {
      "text/plain": [
       "Text(0, 0.5, 'Кол-во')"
      ]
     },
     "execution_count": 79,
     "metadata": {},
     "output_type": "execute_result"
    },
    {
     "data": {
      "image/png": "[encoded data removed]",
      "text/plain": [
       "<Figure size 432x288 with 1 Axes>"
      ]
     },
     "metadata": {
      "needs_background": "light"
     },
     "output_type": "display_data"
    }
   ],
   "source": [
    "\n",
    "ax = data['last_price'].plot(\n",
    "    kind='hist', \n",
    "    bins=70, \n",
    "    range=(1870,15300), \n",
    "    title='Отношение кол-ва квартир к цене', \n",
    "    grid=True)\n",
    "ax.set_xlabel('Цена')\n",
    "ax.set_ylabel('Кол-во')"
   ]
  },
  {
   "cell_type": "markdown",
   "metadata": {},
   "source": [
    "Наибольшее количество предложений в районе 3,5-4,5 млн. руб. Так же наблюдаются не значительные возвышения в других областях, вероятно связанные с увеличением кол-ва комнат."
   ]
  },
  {
   "cell_type": "code",
   "execution_count": 80,
   "metadata": {},
   "outputs": [
    {
     "data": {
      "text/plain": [
       "(31.0, 116.0)"
      ]
     },
     "execution_count": 80,
     "metadata": {},
     "output_type": "execute_result"
    }
   ],
   "source": [
    "data['total_area'].quantile(0.05), data['total_area'].quantile(0.95)"
   ]
  },
  {
   "cell_type": "code",
   "execution_count": 81,
   "metadata": {},
   "outputs": [
    {
     "data": {
      "text/plain": [
       "Text(0, 0.5, 'Кол-во квартир')"
      ]
     },
     "execution_count": 81,
     "metadata": {},
     "output_type": "execute_result"
    },
    {
     "data": {
      "image/png": "[encoded data removed]",
      "text/plain": [
       "<Figure size 432x288 with 1 Axes>"
      ]
     },
     "metadata": {
      "needs_background": "light"
     },
     "output_type": "display_data"
    }
   ],
   "source": [
    "ax = data['rooms'].plot(\n",
    "    kind='hist',\n",
    "    bins=5,\n",
    "    range=(1,6),\n",
    "    title='Распределение кол-ва квартир по кол-ву комнат',\n",
    "    grid=True\n",
    ")\n",
    "ax.set_xlabel('Кол-ва комнат')\n",
    "ax.set_ylabel('Кол-во квартир')"
   ]
  },
  {
   "cell_type": "markdown",
   "metadata": {},
   "source": [
    "Больше всего однокомнатных квартир, как самых популярных и бюджетных. Предложение падает вместе с увеличиением кол-ва комнат."
   ]
  },
  {
   "cell_type": "code",
   "execution_count": 82,
   "metadata": {},
   "outputs": [
    {
     "data": {
      "text/plain": [
       "Text(0, 0.5, 'Кол-во квартир')"
      ]
     },
     "execution_count": 82,
     "metadata": {},
     "output_type": "execute_result"
    },
    {
     "data": {
      "image/png": "[encoded data removed]",
      "text/plain": [
       "<Figure size 432x288 with 1 Axes>"
      ]
     },
     "metadata": {
      "needs_background": "light"
     },
     "output_type": "display_data"
    }
   ],
   "source": [
    "ax = data['ceiling_height'].plot(\n",
    "    kind='hist', \n",
    "    bins=10, \n",
    "    range=(2.25,4), \n",
    "    title='Отношение кол-ва квартир к высоте потолка', \n",
    "    grid=True\n",
    ")\n",
    "ax.set_xlabel('Высота потолка')\n",
    "ax.set_ylabel('Кол-во квартир')"
   ]
  },
  {
   "cell_type": "markdown",
   "metadata": {},
   "source": [
    "Присутствует значительный пик в районе 2.7 метров. Но вероятно это связанно с заполнением пропущенных значений медианными."
   ]
  },
  {
   "cell_type": "code",
   "execution_count": 83,
   "metadata": {},
   "outputs": [
    {
     "data": {
      "text/plain": [
       "Text(0, 0.5, 'Кол-во квартир')"
      ]
     },
     "execution_count": 83,
     "metadata": {},
     "output_type": "execute_result"
    },
    {
     "data": {
      "image/png": "[encoded data removed]",
      "text/plain": [
       "<Figure size 432x288 with 1 Axes>"
      ]
     },
     "metadata": {
      "needs_background": "light"
     },
     "output_type": "display_data"
    }
   ],
   "source": [
    "ax = data['year'].plot(\n",
    "    kind='hist', \n",
    "    bins=6, \n",
    "    range=(2014,2020), \n",
    "    title='Распределение кол-ва квартир по году публикации объявления', \n",
    "    grid=True\n",
    ")\n",
    "ax.set_xlabel('Год публикации')\n",
    "ax.set_ylabel('Кол-во квартир')"
   ]
  },
  {
   "cell_type": "code",
   "execution_count": 84,
   "metadata": {},
   "outputs": [
    {
     "data": {
      "text/plain": [
       "Text(0, 0.5, 'Кол-во квартир')"
      ]
     },
     "execution_count": 84,
     "metadata": {},
     "output_type": "execute_result"
    },
    {
     "data": {
      "image/png": "[encoded data removed]",
      "text/plain": [
       "<Figure size 432x288 with 1 Axes>"
      ]
     },
     "metadata": {
      "needs_background": "light"
     },
     "output_type": "display_data"
    }
   ],
   "source": [
    "ax = data['month'].plot(\n",
    "    kind='hist', \n",
    "    bins=6, \n",
    "    title='Распределение кол-ва квартир по месяцу публикации объявления', \n",
    "    grid=True\n",
    ")\n",
    "ax.set_xlabel('Месяц публикации')\n",
    "ax.set_ylabel('Кол-во квартир')"
   ]
  },
  {
   "cell_type": "code",
   "execution_count": 85,
   "metadata": {},
   "outputs": [
    {
     "data": {
      "text/plain": [
       "Text(0, 0.5, 'Кол-во квартир')"
      ]
     },
     "execution_count": 85,
     "metadata": {},
     "output_type": "execute_result"
    },
    {
     "data": {
      "image/png": "[encoded data removed]",
      "text/plain": [
       "<Figure size 432x288 with 1 Axes>"
      ]
     },
     "metadata": {
      "needs_background": "light"
     },
     "output_type": "display_data"
    }
   ],
   "source": [
    "ax = data['day'].plot(\n",
    "    kind='hist', \n",
    "    bins=6,\n",
    "    range = (1,7),\n",
    "    title='Распределение кол-ва квартир по дню недели публикации объявления', \n",
    "    grid=True\n",
    ")\n",
    "ax.set_xlabel('День публикации')\n",
    "ax.set_ylabel('Кол-во квартир')"
   ]
  },
  {
   "cell_type": "markdown",
   "metadata": {},
   "source": [
    "Распределение по дате публикации объявлений анамалий не выяляет. \n",
    "Наибольшее количество объявлений зарегистрировано в 2017-2018 годах вероятно это связано с ростом популярности сервиса, тогда как в 2019 году объявлений значительно меньше, вероятно выгрузка была сделана в первой половине 2019 года.\n",
    "\n",
    "По месяцам распределение примерно одинаковое.\n",
    "\n",
    "По дням недели есть небольшой спад в выходные дни, что вполне объяснимо стремлением риэлторов посвятить выходные показам квартир, а не заполнением объявлением."
   ]
  },
  {
   "cell_type": "markdown",
   "metadata": {},
   "source": [
    "#### Изучение сроков продажи квартиры"
   ]
  },
  {
   "cell_type": "code",
   "execution_count": 86,
   "metadata": {},
   "outputs": [
    {
     "data": {
      "text/plain": [
       "count    20518.000000\n",
       "mean       180.888634\n",
       "std        219.727988\n",
       "min          1.000000\n",
       "25%         45.000000\n",
       "50%         95.000000\n",
       "75%        232.000000\n",
       "max       1580.000000\n",
       "Name: days_exposition, dtype: float64"
      ]
     },
     "execution_count": 86,
     "metadata": {},
     "output_type": "execute_result"
    }
   ],
   "source": [
    "data['days_exposition'].describe()"
   ]
  },
  {
   "cell_type": "code",
   "execution_count": 87,
   "metadata": {},
   "outputs": [
    {
     "data": {
      "text/plain": [
       "(180.88863436982163, 95.0)"
      ]
     },
     "execution_count": 87,
     "metadata": {},
     "output_type": "execute_result"
    }
   ],
   "source": [
    "data['days_exposition'].mean(), data['days_exposition'].median()"
   ]
  },
  {
   "cell_type": "code",
   "execution_count": 88,
   "metadata": {},
   "outputs": [
    {
     "data": {
      "text/plain": [
       "(17.0, 45.00000000000001, 232.0)"
      ]
     },
     "execution_count": 88,
     "metadata": {},
     "output_type": "execute_result"
    }
   ],
   "source": [
    "data['days_exposition'].quantile(0.1), data['days_exposition'].quantile(0.25), data['days_exposition'].quantile(0.75)"
   ]
  },
  {
   "cell_type": "code",
   "execution_count": 89,
   "metadata": {},
   "outputs": [
    {
     "data": {
      "text/plain": [
       "Text(0, 0.5, 'Кол-во квартир')"
      ]
     },
     "execution_count": 89,
     "metadata": {},
     "output_type": "execute_result"
    },
    {
     "data": {
      "image/png": "[encoded data removed]",
      "text/plain": [
       "<Figure size 432x288 with 1 Axes>"
      ]
     },
     "metadata": {
      "needs_background": "light"
     },
     "output_type": "display_data"
    }
   ],
   "source": [
    "ax = data['days_exposition'].plot(\n",
    "    kind='hist', \n",
    "    bins=100, \n",
    "    range=(17,460), \n",
    "    title='Отношение кол-ва квартир и кол-ва дней размещения объявления', \n",
    "    grid=True\n",
    ")\n",
    "ax.set_xlabel('Кол-во дней')\n",
    "ax.set_ylabel('Кол-во квартир')"
   ]
  },
  {
   "cell_type": "markdown",
   "metadata": {},
   "source": [
    "На графики видно, что большая часть квартир продаются за 100 дней. Так же присутствует пик продаж в районе 45-65 дней.\n",
    "\n",
    "Сверх быстрой продажей можно считать менее 17 дней. Только 10% квартир продаются быстрее.\n",
    "\n",
    "Быстрой продажей можно считать менее 45 дней. Только 25% квартир продаются быстрее.\n",
    "\n",
    "Тогда как необычно долгой можно считать более 232 дня. Только 75% квартир продаются быстрее этого срока. "
   ]
  },
  {
   "cell_type": "markdown",
   "metadata": {},
   "source": [
    "#### Определение факторов оказывающих влияние на общую (полную) стоимость объекта"
   ]
  },
  {
   "cell_type": "code",
   "execution_count": 90,
   "metadata": {},
   "outputs": [
    {
     "data": {
      "text/html": [
       "<div>\n",
       "<style scoped>\n",
       "    .dataframe tbody tr th:only-of-type {\n",
       "        vertical-align: middle;\n",
       "    }\n",
       "\n",
       "    .dataframe tbody tr th {\n",
       "        vertical-align: top;\n",
       "    }\n",
       "\n",
       "    .dataframe thead th {\n",
       "        text-align: right;\n",
       "    }\n",
       "</style>\n",
       "<table border=\"1\" class=\"dataframe\">\n",
       "  <thead>\n",
       "    <tr style=\"text-align: right;\">\n",
       "      <th></th>\n",
       "      <th>last_price</th>\n",
       "      <th>total_area</th>\n",
       "      <th>living_area</th>\n",
       "      <th>kitchen_area</th>\n",
       "      <th>rooms</th>\n",
       "      <th>ceiling_height</th>\n",
       "      <th>first_floor</th>\n",
       "      <th>last_floor</th>\n",
       "      <th>other_floor</th>\n",
       "      <th>day</th>\n",
       "      <th>month</th>\n",
       "      <th>year</th>\n",
       "      <th>m2_price</th>\n",
       "      <th>cityCenters_nearest_km</th>\n",
       "    </tr>\n",
       "  </thead>\n",
       "  <tbody>\n",
       "    <tr>\n",
       "      <th>last_price</th>\n",
       "      <td>1.000000</td>\n",
       "      <td>0.653654</td>\n",
       "      <td>0.556293</td>\n",
       "      <td>0.451481</td>\n",
       "      <td>0.364817</td>\n",
       "      <td>0.074077</td>\n",
       "      <td>-0.059810</td>\n",
       "      <td>0.029281</td>\n",
       "      <td>0.020151</td>\n",
       "      <td>0.001550</td>\n",
       "      <td>0.002779</td>\n",
       "      <td>-0.043089</td>\n",
       "      <td>0.734444</td>\n",
       "      <td>-0.206995</td>\n",
       "    </tr>\n",
       "    <tr>\n",
       "      <th>total_area</th>\n",
       "      <td>0.653654</td>\n",
       "      <td>1.000000</td>\n",
       "      <td>0.909281</td>\n",
       "      <td>0.584222</td>\n",
       "      <td>0.759612</td>\n",
       "      <td>0.094236</td>\n",
       "      <td>-0.042420</td>\n",
       "      <td>0.054837</td>\n",
       "      <td>-0.012279</td>\n",
       "      <td>-0.004639</td>\n",
       "      <td>0.004925</td>\n",
       "      <td>-0.080544</td>\n",
       "      <td>0.298505</td>\n",
       "      <td>-0.231269</td>\n",
       "    </tr>\n",
       "    <tr>\n",
       "      <th>living_area</th>\n",
       "      <td>0.556293</td>\n",
       "      <td>0.909281</td>\n",
       "      <td>1.000000</td>\n",
       "      <td>0.424321</td>\n",
       "      <td>0.855685</td>\n",
       "      <td>0.094822</td>\n",
       "      <td>-0.012243</td>\n",
       "      <td>0.067545</td>\n",
       "      <td>-0.044744</td>\n",
       "      <td>-0.006368</td>\n",
       "      <td>-0.000603</td>\n",
       "      <td>-0.074354</td>\n",
       "      <td>0.209014</td>\n",
       "      <td>-0.226138</td>\n",
       "    </tr>\n",
       "    <tr>\n",
       "      <th>kitchen_area</th>\n",
       "      <td>0.451481</td>\n",
       "      <td>0.584222</td>\n",
       "      <td>0.424321</td>\n",
       "      <td>1.000000</td>\n",
       "      <td>0.277556</td>\n",
       "      <td>0.072741</td>\n",
       "      <td>-0.085788</td>\n",
       "      <td>-0.011350</td>\n",
       "      <td>0.072321</td>\n",
       "      <td>-0.011368</td>\n",
       "      <td>0.003968</td>\n",
       "      <td>-0.057358</td>\n",
       "      <td>0.361642</td>\n",
       "      <td>-0.184488</td>\n",
       "    </tr>\n",
       "    <tr>\n",
       "      <th>rooms</th>\n",
       "      <td>0.364817</td>\n",
       "      <td>0.759612</td>\n",
       "      <td>0.855685</td>\n",
       "      <td>0.277556</td>\n",
       "      <td>1.000000</td>\n",
       "      <td>0.063460</td>\n",
       "      <td>0.025690</td>\n",
       "      <td>0.061117</td>\n",
       "      <td>-0.067327</td>\n",
       "      <td>-0.003612</td>\n",
       "      <td>-0.002930</td>\n",
       "      <td>-0.055104</td>\n",
       "      <td>0.053898</td>\n",
       "      <td>-0.186200</td>\n",
       "    </tr>\n",
       "    <tr>\n",
       "      <th>ceiling_height</th>\n",
       "      <td>0.074077</td>\n",
       "      <td>0.094236</td>\n",
       "      <td>0.094822</td>\n",
       "      <td>0.072741</td>\n",
       "      <td>0.063460</td>\n",
       "      <td>1.000000</td>\n",
       "      <td>-0.011891</td>\n",
       "      <td>0.018948</td>\n",
       "      <td>-0.006493</td>\n",
       "      <td>-0.012807</td>\n",
       "      <td>-0.004641</td>\n",
       "      <td>0.010853</td>\n",
       "      <td>0.105338</td>\n",
       "      <td>-0.079444</td>\n",
       "    </tr>\n",
       "    <tr>\n",
       "      <th>first_floor</th>\n",
       "      <td>-0.059810</td>\n",
       "      <td>-0.042420</td>\n",
       "      <td>-0.012243</td>\n",
       "      <td>-0.085788</td>\n",
       "      <td>0.025690</td>\n",
       "      <td>-0.011891</td>\n",
       "      <td>1.000000</td>\n",
       "      <td>-0.144365</td>\n",
       "      <td>-0.620197</td>\n",
       "      <td>-0.002345</td>\n",
       "      <td>-0.012658</td>\n",
       "      <td>-0.013090</td>\n",
       "      <td>-0.130113</td>\n",
       "      <td>0.061825</td>\n",
       "    </tr>\n",
       "    <tr>\n",
       "      <th>last_floor</th>\n",
       "      <td>0.029281</td>\n",
       "      <td>0.054837</td>\n",
       "      <td>0.067545</td>\n",
       "      <td>-0.011350</td>\n",
       "      <td>0.061117</td>\n",
       "      <td>0.018948</td>\n",
       "      <td>-0.144365</td>\n",
       "      <td>1.000000</td>\n",
       "      <td>-0.682954</td>\n",
       "      <td>0.008403</td>\n",
       "      <td>-0.000074</td>\n",
       "      <td>-0.006740</td>\n",
       "      <td>-0.049794</td>\n",
       "      <td>0.016390</td>\n",
       "    </tr>\n",
       "    <tr>\n",
       "      <th>other_floor</th>\n",
       "      <td>0.020151</td>\n",
       "      <td>-0.012279</td>\n",
       "      <td>-0.044744</td>\n",
       "      <td>0.072321</td>\n",
       "      <td>-0.067327</td>\n",
       "      <td>-0.006493</td>\n",
       "      <td>-0.620197</td>\n",
       "      <td>-0.682954</td>\n",
       "      <td>1.000000</td>\n",
       "      <td>-0.005109</td>\n",
       "      <td>0.009586</td>\n",
       "      <td>0.015610</td>\n",
       "      <td>0.133540</td>\n",
       "      <td>-0.056154</td>\n",
       "    </tr>\n",
       "    <tr>\n",
       "      <th>day</th>\n",
       "      <td>0.001550</td>\n",
       "      <td>-0.004639</td>\n",
       "      <td>-0.006368</td>\n",
       "      <td>-0.011368</td>\n",
       "      <td>-0.003612</td>\n",
       "      <td>-0.012807</td>\n",
       "      <td>-0.002345</td>\n",
       "      <td>0.008403</td>\n",
       "      <td>-0.005109</td>\n",
       "      <td>1.000000</td>\n",
       "      <td>0.011496</td>\n",
       "      <td>-0.004799</td>\n",
       "      <td>-0.007371</td>\n",
       "      <td>0.008685</td>\n",
       "    </tr>\n",
       "    <tr>\n",
       "      <th>month</th>\n",
       "      <td>0.002779</td>\n",
       "      <td>0.004925</td>\n",
       "      <td>-0.000603</td>\n",
       "      <td>0.003968</td>\n",
       "      <td>-0.002930</td>\n",
       "      <td>-0.004641</td>\n",
       "      <td>-0.012658</td>\n",
       "      <td>-0.000074</td>\n",
       "      <td>0.009586</td>\n",
       "      <td>0.011496</td>\n",
       "      <td>1.000000</td>\n",
       "      <td>-0.269642</td>\n",
       "      <td>-0.001982</td>\n",
       "      <td>-0.009073</td>\n",
       "    </tr>\n",
       "    <tr>\n",
       "      <th>year</th>\n",
       "      <td>-0.043089</td>\n",
       "      <td>-0.080544</td>\n",
       "      <td>-0.074354</td>\n",
       "      <td>-0.057358</td>\n",
       "      <td>-0.055104</td>\n",
       "      <td>0.010853</td>\n",
       "      <td>-0.013090</td>\n",
       "      <td>-0.006740</td>\n",
       "      <td>0.015610</td>\n",
       "      <td>-0.004799</td>\n",
       "      <td>-0.269642</td>\n",
       "      <td>1.000000</td>\n",
       "      <td>0.009810</td>\n",
       "      <td>0.032509</td>\n",
       "    </tr>\n",
       "    <tr>\n",
       "      <th>m2_price</th>\n",
       "      <td>0.734444</td>\n",
       "      <td>0.298505</td>\n",
       "      <td>0.209014</td>\n",
       "      <td>0.361642</td>\n",
       "      <td>0.053898</td>\n",
       "      <td>0.105338</td>\n",
       "      <td>-0.130113</td>\n",
       "      <td>-0.049794</td>\n",
       "      <td>0.133540</td>\n",
       "      <td>-0.007371</td>\n",
       "      <td>-0.001982</td>\n",
       "      <td>0.009810</td>\n",
       "      <td>1.000000</td>\n",
       "      <td>-0.318275</td>\n",
       "    </tr>\n",
       "    <tr>\n",
       "      <th>cityCenters_nearest_km</th>\n",
       "      <td>-0.206995</td>\n",
       "      <td>-0.231269</td>\n",
       "      <td>-0.226138</td>\n",
       "      <td>-0.184488</td>\n",
       "      <td>-0.186200</td>\n",
       "      <td>-0.079444</td>\n",
       "      <td>0.061825</td>\n",
       "      <td>0.016390</td>\n",
       "      <td>-0.056154</td>\n",
       "      <td>0.008685</td>\n",
       "      <td>-0.009073</td>\n",
       "      <td>0.032509</td>\n",
       "      <td>-0.318275</td>\n",
       "      <td>1.000000</td>\n",
       "    </tr>\n",
       "  </tbody>\n",
       "</table>\n",
       "</div>"
      ],
      "text/plain": [
       "                        last_price  total_area  living_area  kitchen_area  \\\n",
       "last_price                1.000000    0.653654     0.556293      0.451481   \n",
       "total_area                0.653654    1.000000     0.909281      0.584222   \n",
       "living_area               0.556293    0.909281     1.000000      0.424321   \n",
       "kitchen_area              0.451481    0.584222     0.424321      1.000000   \n",
       "rooms                     0.364817    0.759612     0.855685      0.277556   \n",
       "ceiling_height            0.074077    0.094236     0.094822      0.072741   \n",
       "first_floor              -0.059810   -0.042420    -0.012243     -0.085788   \n",
       "last_floor                0.029281    0.054837     0.067545     -0.011350   \n",
       "other_floor               0.020151   -0.012279    -0.044744      0.072321   \n",
       "day                       0.001550   -0.004639    -0.006368     -0.011368   \n",
       "month                     0.002779    0.004925    -0.000603      0.003968   \n",
       "year                     -0.043089   -0.080544    -0.074354     -0.057358   \n",
       "m2_price                  0.734444    0.298505     0.209014      0.361642   \n",
       "cityCenters_nearest_km   -0.206995   -0.231269    -0.226138     -0.184488   \n",
       "\n",
       "                           rooms  ceiling_height  first_floor  last_floor  \\\n",
       "last_price              0.364817        0.074077    -0.059810    0.029281   \n",
       "total_area              0.759612        0.094236    -0.042420    0.054837   \n",
       "living_area             0.855685        0.094822    -0.012243    0.067545   \n",
       "kitchen_area            0.277556        0.072741    -0.085788   -0.011350   \n",
       "rooms                   1.000000        0.063460     0.025690    0.061117   \n",
       "ceiling_height          0.063460        1.000000    -0.011891    0.018948   \n",
       "first_floor             0.025690       -0.011891     1.000000   -0.144365   \n",
       "last_floor              0.061117        0.018948    -0.144365    1.000000   \n",
       "other_floor            -0.067327       -0.006493    -0.620197   -0.682954   \n",
       "day                    -0.003612       -0.012807    -0.002345    0.008403   \n",
       "month                  -0.002930       -0.004641    -0.012658   -0.000074   \n",
       "year                   -0.055104        0.010853    -0.013090   -0.006740   \n",
       "m2_price                0.053898        0.105338    -0.130113   -0.049794   \n",
       "cityCenters_nearest_km -0.186200       -0.079444     0.061825    0.016390   \n",
       "\n",
       "                        other_floor       day     month      year  m2_price  \\\n",
       "last_price                 0.020151  0.001550  0.002779 -0.043089  0.734444   \n",
       "total_area                -0.012279 -0.004639  0.004925 -0.080544  0.298505   \n",
       "living_area               -0.044744 -0.006368 -0.000603 -0.074354  0.209014   \n",
       "kitchen_area               0.072321 -0.011368  0.003968 -0.057358  0.361642   \n",
       "rooms                     -0.067327 -0.003612 -0.002930 -0.055104  0.053898   \n",
       "ceiling_height            -0.006493 -0.012807 -0.004641  0.010853  0.105338   \n",
       "first_floor               -0.620197 -0.002345 -0.012658 -0.013090 -0.130113   \n",
       "last_floor                -0.682954  0.008403 -0.000074 -0.006740 -0.049794   \n",
       "other_floor                1.000000 -0.005109  0.009586  0.015610  0.133540   \n",
       "day                       -0.005109  1.000000  0.011496 -0.004799 -0.007371   \n",
       "month                      0.009586  0.011496  1.000000 -0.269642 -0.001982   \n",
       "year                       0.015610 -0.004799 -0.269642  1.000000  0.009810   \n",
       "m2_price                   0.133540 -0.007371 -0.001982  0.009810  1.000000   \n",
       "cityCenters_nearest_km    -0.056154  0.008685 -0.009073  0.032509 -0.318275   \n",
       "\n",
       "                        cityCenters_nearest_km  \n",
       "last_price                           -0.206995  \n",
       "total_area                           -0.231269  \n",
       "living_area                          -0.226138  \n",
       "kitchen_area                         -0.184488  \n",
       "rooms                                -0.186200  \n",
       "ceiling_height                       -0.079444  \n",
       "first_floor                           0.061825  \n",
       "last_floor                            0.016390  \n",
       "other_floor                          -0.056154  \n",
       "day                                   0.008685  \n",
       "month                                -0.009073  \n",
       "year                                  0.032509  \n",
       "m2_price                             -0.318275  \n",
       "cityCenters_nearest_km                1.000000  "
      ]
     },
     "execution_count": 90,
     "metadata": {},
     "output_type": "execute_result"
    }
   ],
   "source": [
    "data[['last_price', \n",
    "      'total_area', \n",
    "      'living_area', \n",
    "      'kitchen_area', \n",
    "      'rooms',\n",
    "      'ceiling_height',\n",
    "      'first_floor',\n",
    "      'last_floor',\n",
    "      'other_floor',\n",
    "      'day', \n",
    "      'month',\n",
    "      'year',\n",
    "      'm2_price',\n",
    "      'cityCenters_nearest_km'\n",
    "     ]].corr()"
   ]
  },
  {
   "cell_type": "code",
   "execution_count": 91,
   "metadata": {},
   "outputs": [
    {
     "data": {
      "image/png": "[encoded data removed]",
      "text/plain": [
       "<Figure size 1440x1440 with 16 Axes>"
      ]
     },
     "metadata": {
      "needs_background": "light"
     },
     "output_type": "display_data"
    }
   ],
   "source": [
    "pd.plotting.scatter_matrix(data[['last_price', \n",
    "                                 'm2_price', \n",
    "                                 'rooms', \n",
    "                                 'cityCenters_nearest_km',\n",
    "                                 ]], figsize=(20,20));"
   ]
  },
  {
   "cell_type": "code",
   "execution_count": 92,
   "metadata": {},
   "outputs": [
    {
     "data": {
      "image/png": "[encoded data removed]",
      "text/plain": [
       "<Figure size 1440x1440 with 16 Axes>"
      ]
     },
     "metadata": {
      "needs_background": "light"
     },
     "output_type": "display_data"
    }
   ],
   "source": [
    "pd.plotting.scatter_matrix(data[['last_price',\n",
    "                                 'first_floor',\n",
    "                                 'last_floor',\n",
    "                                 'other_floor'\n",
    "                                ]], figsize=(20,20));"
   ]
  },
  {
   "cell_type": "code",
   "execution_count": 93,
   "metadata": {},
   "outputs": [
    {
     "data": {
      "image/png": "[encoded data removed]",
      "text/plain": [
       "<Figure size 1440x1440 with 16 Axes>"
      ]
     },
     "metadata": {
      "needs_background": "light"
     },
     "output_type": "display_data"
    }
   ],
   "source": [
    "pd.plotting.scatter_matrix(data[['last_price',\n",
    "                                 'total_area',\n",
    "                                 'living_area',\n",
    "                                 'kitchen_area',\n",
    "                                 ]], figsize=(20,20));"
   ]
  },
  {
   "cell_type": "code",
   "execution_count": 94,
   "metadata": {},
   "outputs": [
    {
     "data": {
      "image/png": "[encoded data removed]",
      "text/plain": [
       "<Figure size 1440x1440 with 16 Axes>"
      ]
     },
     "metadata": {
      "needs_background": "light"
     },
     "output_type": "display_data"
    }
   ],
   "source": [
    "pd.plotting.scatter_matrix(data[['last_price', \n",
    "                                 'day', \n",
    "                                 'month', \n",
    "                                 'year'\n",
    "                                ]], figsize=(20,20));"
   ]
  },
  {
   "cell_type": "markdown",
   "metadata": {},
   "source": [
    "Основное влияние на стоимость квартиры оказывает общая площадь и параметры которые напрямую зависят от нее. А именно, количество комнат, площадь кухни, желлая площадь. Соответсвенно, чем больше квартира тем она дороже.\n",
    "\n",
    "В свою очередь, удаленность от центра отрицательно влияет на стоимость квартиры, чем меньше расстояние тем квартиры дороже.\n",
    "\n",
    "Высота этажа влияет только в случае с первым этажем. Квартиры на первом этаже наименее привлекательны для жилья, поэтому стоят дешевле. \n",
    "\n",
    "Дата публикации объявления никак не влияет на стоимость квартиры. "
   ]
  },
  {
   "cell_type": "markdown",
   "metadata": {},
   "source": [
    "#### Рассчет времени продажи квартиры на первом этаже."
   ]
  },
  {
   "cell_type": "code",
   "execution_count": 104,
   "metadata": {},
   "outputs": [
    {
     "data": {
      "text/html": [
       "<div>\n",
       "<style scoped>\n",
       "    .dataframe tbody tr th:only-of-type {\n",
       "        vertical-align: middle;\n",
       "    }\n",
       "\n",
       "    .dataframe tbody tr th {\n",
       "        vertical-align: top;\n",
       "    }\n",
       "\n",
       "    .dataframe thead th {\n",
       "        text-align: right;\n",
       "    }\n",
       "</style>\n",
       "<table border=\"1\" class=\"dataframe\">\n",
       "  <thead>\n",
       "    <tr style=\"text-align: right;\">\n",
       "      <th></th>\n",
       "      <th>days_exposition</th>\n",
       "    </tr>\n",
       "    <tr>\n",
       "      <th>first_floor</th>\n",
       "      <th></th>\n",
       "    </tr>\n",
       "  </thead>\n",
       "  <tbody>\n",
       "    <tr>\n",
       "      <th>0</th>\n",
       "      <td>93.0</td>\n",
       "    </tr>\n",
       "    <tr>\n",
       "      <th>1</th>\n",
       "      <td>115.0</td>\n",
       "    </tr>\n",
       "  </tbody>\n",
       "</table>\n",
       "</div>"
      ],
      "text/plain": [
       "             days_exposition\n",
       "first_floor                 \n",
       "0                       93.0\n",
       "1                      115.0"
      ]
     },
     "execution_count": 104,
     "metadata": {},
     "output_type": "execute_result"
    }
   ],
   "source": [
    "first_floar = data.groupby(['first_floor'])['days_exposition'].median()\n",
    "first_floar = first_floar.to_frame()\n",
    "first_floar"
   ]
  },
  {
   "cell_type": "markdown",
   "metadata": {},
   "source": [
    "Медианное время продажи квартир на 1 этаже немного меньше чем, на остальных этажах 93 против 115. Вероятно на это влияет меньшая стоимость."
   ]
  },
  {
   "cell_type": "markdown",
   "metadata": {},
   "source": [
    "#### Рассчет средней цены одного квадратного метра в 10 населённых пунктах с наибольшим числом объявлений."
   ]
  },
  {
   "cell_type": "code",
   "execution_count": 103,
   "metadata": {},
   "outputs": [
    {
     "data": {
      "text/html": [
       "<div>\n",
       "<style scoped>\n",
       "    .dataframe tbody tr th:only-of-type {\n",
       "        vertical-align: middle;\n",
       "    }\n",
       "\n",
       "    .dataframe tbody tr th {\n",
       "        vertical-align: top;\n",
       "    }\n",
       "\n",
       "    .dataframe thead th {\n",
       "        text-align: right;\n",
       "    }\n",
       "</style>\n",
       "<table border=\"1\" class=\"dataframe\">\n",
       "  <thead>\n",
       "    <tr style=\"text-align: right;\">\n",
       "      <th></th>\n",
       "      <th>m2_price</th>\n",
       "      <th>locality_name</th>\n",
       "    </tr>\n",
       "  </thead>\n",
       "  <tbody>\n",
       "    <tr>\n",
       "      <th>Санкт-Петербург</th>\n",
       "      <td>115.0</td>\n",
       "      <td>15721</td>\n",
       "    </tr>\n",
       "    <tr>\n",
       "      <th>Пушкин</th>\n",
       "      <td>103.0</td>\n",
       "      <td>369</td>\n",
       "    </tr>\n",
       "    <tr>\n",
       "      <th>деревня Кудрово</th>\n",
       "      <td>93.0</td>\n",
       "      <td>299</td>\n",
       "    </tr>\n",
       "    <tr>\n",
       "      <th>посёлок Парголово</th>\n",
       "      <td>90.0</td>\n",
       "      <td>327</td>\n",
       "    </tr>\n",
       "    <tr>\n",
       "      <th>посёлок Мурино</th>\n",
       "      <td>86.0</td>\n",
       "      <td>522</td>\n",
       "    </tr>\n",
       "    <tr>\n",
       "      <th>посёлок Шушары</th>\n",
       "      <td>79.0</td>\n",
       "      <td>440</td>\n",
       "    </tr>\n",
       "    <tr>\n",
       "      <th>Колпино</th>\n",
       "      <td>75.0</td>\n",
       "      <td>338</td>\n",
       "    </tr>\n",
       "    <tr>\n",
       "      <th>Гатчина</th>\n",
       "      <td>69.0</td>\n",
       "      <td>307</td>\n",
       "    </tr>\n",
       "    <tr>\n",
       "      <th>Всеволожск</th>\n",
       "      <td>68.0</td>\n",
       "      <td>398</td>\n",
       "    </tr>\n",
       "    <tr>\n",
       "      <th>Выборг</th>\n",
       "      <td>58.0</td>\n",
       "      <td>237</td>\n",
       "    </tr>\n",
       "  </tbody>\n",
       "</table>\n",
       "</div>"
      ],
      "text/plain": [
       "                   m2_price  locality_name\n",
       "Санкт-Петербург       115.0          15721\n",
       "Пушкин                103.0            369\n",
       "деревня Кудрово        93.0            299\n",
       "посёлок Парголово      90.0            327\n",
       "посёлок Мурино         86.0            522\n",
       "посёлок Шушары         79.0            440\n",
       "Колпино                75.0            338\n",
       "Гатчина                69.0            307\n",
       "Всеволожск             68.0            398\n",
       "Выборг                 58.0            237"
      ]
     },
     "execution_count": 103,
     "metadata": {},
     "output_type": "execute_result"
    }
   ],
   "source": [
    "#рассчет средней цены км. м в 10 населенных пунктов с наибольшим числом объявлений\n",
    "local_top = data['locality_name'].value_counts().head(10)\n",
    "price = data.pivot_table(index='locality_name', values='m2_price').round()\n",
    "best_ten = price.merge(local_top,  how='right', left_index=True, right_index=True)\n",
    "best_ten.sort_values(by='m2_price', ascending=False)"
   ]
  },
  {
   "cell_type": "markdown",
   "metadata": {},
   "source": [
    "Наибольшее воличество объявлений ожидаемо в самом больщом городе Санкт-Петербург 15721 объявление со средней стоимостью квадратного метра 115 000 руб. \n",
    "\n",
    "Из 10 населенных пунктов с наибольшим количеством объявлений в г. Выборг 237 объявлений со средней стоимостью квадратного метра 58 000 руб. "
   ]
  },
  {
   "cell_type": "markdown",
   "metadata": {},
   "source": [
    "#### Определение средней цены каждого километра удаленности от центра Санкт-Петербурга"
   ]
  },
  {
   "cell_type": "code",
   "execution_count": 99,
   "metadata": {},
   "outputs": [
    {
     "data": {
      "text/html": [
       "<div>\n",
       "<style scoped>\n",
       "    .dataframe tbody tr th:only-of-type {\n",
       "        vertical-align: middle;\n",
       "    }\n",
       "\n",
       "    .dataframe tbody tr th {\n",
       "        vertical-align: top;\n",
       "    }\n",
       "\n",
       "    .dataframe thead th {\n",
       "        text-align: right;\n",
       "    }\n",
       "</style>\n",
       "<table border=\"1\" class=\"dataframe\">\n",
       "  <thead>\n",
       "    <tr style=\"text-align: right;\">\n",
       "      <th></th>\n",
       "      <th>m2_price</th>\n",
       "      <th>cityCenters_nearest_km</th>\n",
       "    </tr>\n",
       "    <tr>\n",
       "      <th>cityCenters_nearest_km</th>\n",
       "      <th></th>\n",
       "      <th></th>\n",
       "    </tr>\n",
       "  </thead>\n",
       "  <tbody>\n",
       "    <tr>\n",
       "      <th>0.0</th>\n",
       "      <td>175.0</td>\n",
       "      <td>0.0</td>\n",
       "    </tr>\n",
       "    <tr>\n",
       "      <th>1.0</th>\n",
       "      <td>128.0</td>\n",
       "      <td>1.0</td>\n",
       "    </tr>\n",
       "    <tr>\n",
       "      <th>2.0</th>\n",
       "      <td>123.0</td>\n",
       "      <td>2.0</td>\n",
       "    </tr>\n",
       "    <tr>\n",
       "      <th>3.0</th>\n",
       "      <td>109.0</td>\n",
       "      <td>3.0</td>\n",
       "    </tr>\n",
       "    <tr>\n",
       "      <th>4.0</th>\n",
       "      <td>117.5</td>\n",
       "      <td>4.0</td>\n",
       "    </tr>\n",
       "    <tr>\n",
       "      <th>5.0</th>\n",
       "      <td>127.0</td>\n",
       "      <td>5.0</td>\n",
       "    </tr>\n",
       "    <tr>\n",
       "      <th>6.0</th>\n",
       "      <td>131.5</td>\n",
       "      <td>6.0</td>\n",
       "    </tr>\n",
       "    <tr>\n",
       "      <th>7.0</th>\n",
       "      <td>127.0</td>\n",
       "      <td>7.0</td>\n",
       "    </tr>\n",
       "    <tr>\n",
       "      <th>8.0</th>\n",
       "      <td>123.0</td>\n",
       "      <td>8.0</td>\n",
       "    </tr>\n",
       "    <tr>\n",
       "      <th>9.0</th>\n",
       "      <td>106.0</td>\n",
       "      <td>9.0</td>\n",
       "    </tr>\n",
       "    <tr>\n",
       "      <th>10.0</th>\n",
       "      <td>107.0</td>\n",
       "      <td>10.0</td>\n",
       "    </tr>\n",
       "    <tr>\n",
       "      <th>11.0</th>\n",
       "      <td>104.0</td>\n",
       "      <td>11.0</td>\n",
       "    </tr>\n",
       "    <tr>\n",
       "      <th>12.0</th>\n",
       "      <td>104.0</td>\n",
       "      <td>12.0</td>\n",
       "    </tr>\n",
       "    <tr>\n",
       "      <th>13.0</th>\n",
       "      <td>104.0</td>\n",
       "      <td>13.0</td>\n",
       "    </tr>\n",
       "    <tr>\n",
       "      <th>14.0</th>\n",
       "      <td>102.0</td>\n",
       "      <td>14.0</td>\n",
       "    </tr>\n",
       "    <tr>\n",
       "      <th>15.0</th>\n",
       "      <td>101.0</td>\n",
       "      <td>15.0</td>\n",
       "    </tr>\n",
       "    <tr>\n",
       "      <th>16.0</th>\n",
       "      <td>97.0</td>\n",
       "      <td>16.0</td>\n",
       "    </tr>\n",
       "    <tr>\n",
       "      <th>17.0</th>\n",
       "      <td>94.0</td>\n",
       "      <td>17.0</td>\n",
       "    </tr>\n",
       "    <tr>\n",
       "      <th>18.0</th>\n",
       "      <td>92.0</td>\n",
       "      <td>18.0</td>\n",
       "    </tr>\n",
       "    <tr>\n",
       "      <th>19.0</th>\n",
       "      <td>97.0</td>\n",
       "      <td>19.0</td>\n",
       "    </tr>\n",
       "    <tr>\n",
       "      <th>20.0</th>\n",
       "      <td>93.0</td>\n",
       "      <td>20.0</td>\n",
       "    </tr>\n",
       "  </tbody>\n",
       "</table>\n",
       "</div>"
      ],
      "text/plain": [
       "                        m2_price  cityCenters_nearest_km\n",
       "cityCenters_nearest_km                                  \n",
       "0.0                        175.0                     0.0\n",
       "1.0                        128.0                     1.0\n",
       "2.0                        123.0                     2.0\n",
       "3.0                        109.0                     3.0\n",
       "4.0                        117.5                     4.0\n",
       "5.0                        127.0                     5.0\n",
       "6.0                        131.5                     6.0\n",
       "7.0                        127.0                     7.0\n",
       "8.0                        123.0                     8.0\n",
       "9.0                        106.0                     9.0\n",
       "10.0                       107.0                    10.0\n",
       "11.0                       104.0                    11.0\n",
       "12.0                       104.0                    12.0\n",
       "13.0                       104.0                    13.0\n",
       "14.0                       102.0                    14.0\n",
       "15.0                       101.0                    15.0\n",
       "16.0                        97.0                    16.0\n",
       "17.0                        94.0                    17.0\n",
       "18.0                        92.0                    18.0\n",
       "19.0                        97.0                    19.0\n",
       "20.0                        93.0                    20.0"
      ]
     },
     "execution_count": 99,
     "metadata": {},
     "output_type": "execute_result"
    }
   ],
   "source": [
    "# рассчет миданной стоимости квартир относительно каждого км удаленности от центра\n",
    "m2_from_center = data.groupby(['cityCenters_nearest_km'])['m2_price'].median()\n",
    "m2_from_center = m2_from_center.to_frame()\n",
    "m2_from_center['cityCenters_nearest_km'] = m2_from_center.index\n",
    "m2_from_center.head(21)"
   ]
  },
  {
   "cell_type": "code",
   "execution_count": 98,
   "metadata": {},
   "outputs": [
    {
     "data": {
      "text/plain": [
       "<AxesSubplot:xlabel='cityCenters_nearest_km', ylabel='m2_price'>"
      ]
     },
     "execution_count": 98,
     "metadata": {},
     "output_type": "execute_result"
    },
    {
     "data": {
      "image/png": "[encoded data removed]",
      "text/plain": [
       "<Figure size 576x576 with 1 Axes>"
      ]
     },
     "metadata": {
      "needs_background": "light"
     },
     "output_type": "display_data"
    }
   ],
   "source": [
    "m2_from_center.plot.scatter(x='cityCenters_nearest_km', y='m2_price', grid=True, figsize=(8,8))"
   ]
  },
  {
   "cell_type": "markdown",
   "metadata": {},
   "source": [
    "Протяженность Санкт-Петербурга с с севера на юг в пределах КАД — 32 км., с северо-запада на юго-восток за пределами КАД, — около 90 км. Но так как большую часть данной площади составляет финский залив, рассматривать примим максимальное расстояние до цента равным 20 км.\n",
    "Данные подтверждаю логичный вывод, что цена недвижимости ростет с уменьшением расстояния до центра города. Медианная стоимость одного квадратного метра в самом центре 173 000 руб., тогда как в 20 км от центра уже 92 000 руб."
   ]
  },
  {
   "cell_type": "markdown",
   "metadata": {},
   "source": [
    "### Общий вывод"
   ]
  },
  {
   "cell_type": "markdown",
   "metadata": {},
   "source": [
    "Больше всего влияет на цену - близость к центру, после по уменьшению влияния: кол-во комнат, этаж, высота потолка.\n",
    "\n",
    "Чем ближе к центру тем дороже квартира.\n",
    "\n",
    "Медианная стоимость одного квадратного метра в самом центре 173 000 руб., тогда как в 20 км от центра уже 92 000 руб.\n",
    "\n",
    "Большим спросом пользуются квартиры которые не расположены на первом и последнем этаже, так же этот факт больше влияет на цену. \n",
    "Но за счет меньшей цены они немного быстрее продаются. Медианное время продажи квартир на 1 этаже немного меньше чем, на остальных этажах 93 против 115.\n",
    "\n",
    "Большая часть квартир продаются за 100 дней. Так же присутствует пик продаж в районе 45-65 дней.\n",
    "\n",
    "* Сверх быстрой продажей можно считать менее 17 дней. Только 10% квартир продаются быстрее.\n",
    "* Быстрой продажей можно считать менее 45 дней. Только 25% квартир продаются быстрее.\n",
    "* Тогда как необычно долгой можно считать более 232 дня. Только 75% квартир продаются быстрее этого срока. \n",
    "\n",
    "Наибольшее воличество объявлений ожидаемо в самом больщом городе Санкт-Петербург 15721 объявление со средней стоимостью квадратного метра 115 000 руб. \n",
    "\n",
    "Из 10 населенных пунктов с наибольшим количеством объявлений в г. Выборг 237 объявлений со средней стоимостью квадратного метра 58 000 руб. "
   ]
  }
 ],
 "metadata": {
  "ExecuteTimeLog": [
   {
    "duration": 59,
    "start_time": "2022-10-10T07:16:34.441Z"
   },
   {
    "duration": 781,
    "start_time": "2022-10-10T07:16:45.964Z"
   },
   {
    "duration": 99,
    "start_time": "2022-10-10T07:16:54.406Z"
   },
   {
    "duration": 79,
    "start_time": "2022-10-10T07:17:05.734Z"
   },
   {
    "duration": 109,
    "start_time": "2022-10-10T07:19:46.618Z"
   },
   {
    "duration": 81,
    "start_time": "2022-10-10T07:19:53.510Z"
   },
   {
    "duration": 24,
    "start_time": "2022-10-10T07:20:09.031Z"
   },
   {
    "duration": 87,
    "start_time": "2022-10-10T07:20:13.297Z"
   },
   {
    "duration": 14,
    "start_time": "2022-10-10T07:24:54.947Z"
   },
   {
    "duration": 6,
    "start_time": "2022-10-10T07:27:06.234Z"
   },
   {
    "duration": 365,
    "start_time": "2022-10-10T07:31:10.456Z"
   },
   {
    "duration": 140,
    "start_time": "2022-10-10T07:31:33.585Z"
   },
   {
    "duration": 14,
    "start_time": "2022-10-10T07:31:43.473Z"
   },
   {
    "duration": 65,
    "start_time": "2022-10-10T07:39:22.486Z"
   },
   {
    "duration": 5,
    "start_time": "2022-10-10T07:39:31.235Z"
   },
   {
    "duration": 10,
    "start_time": "2022-10-10T07:39:40.250Z"
   },
   {
    "duration": 5,
    "start_time": "2022-10-10T07:40:10.482Z"
   },
   {
    "duration": 3,
    "start_time": "2022-10-10T07:40:30.355Z"
   },
   {
    "duration": 8,
    "start_time": "2022-10-10T07:42:59.444Z"
   },
   {
    "duration": 15,
    "start_time": "2022-10-10T07:43:08.986Z"
   },
   {
    "duration": 5,
    "start_time": "2022-10-10T07:55:27.500Z"
   },
   {
    "duration": 5,
    "start_time": "2022-10-10T07:55:30.726Z"
   },
   {
    "duration": 633,
    "start_time": "2022-10-10T07:55:52.308Z"
   },
   {
    "duration": 22,
    "start_time": "2022-10-10T07:55:52.944Z"
   },
   {
    "duration": 7,
    "start_time": "2022-10-10T07:56:30.794Z"
   },
   {
    "duration": 109,
    "start_time": "2022-10-10T07:56:44.854Z"
   },
   {
    "duration": 19,
    "start_time": "2022-10-10T07:57:56.243Z"
   },
   {
    "duration": 16,
    "start_time": "2022-10-10T08:01:06.613Z"
   },
   {
    "duration": 162,
    "start_time": "2022-10-10T08:05:43.088Z"
   },
   {
    "duration": 25,
    "start_time": "2022-10-10T08:05:43.576Z"
   },
   {
    "duration": 4,
    "start_time": "2022-10-10T08:07:08.416Z"
   },
   {
    "duration": 37,
    "start_time": "2022-10-10T08:08:06.040Z"
   },
   {
    "duration": 26,
    "start_time": "2022-10-10T08:08:12.312Z"
   },
   {
    "duration": 22,
    "start_time": "2022-10-10T08:08:25.087Z"
   },
   {
    "duration": 31,
    "start_time": "2022-10-10T08:08:43.401Z"
   },
   {
    "duration": 33,
    "start_time": "2022-10-10T08:09:36.960Z"
   },
   {
    "duration": 22,
    "start_time": "2022-10-10T08:11:51.585Z"
   },
   {
    "duration": 59,
    "start_time": "2022-10-10T08:13:00.137Z"
   },
   {
    "duration": 114,
    "start_time": "2022-10-10T08:13:18.131Z"
   },
   {
    "duration": 64,
    "start_time": "2022-10-10T08:13:29.418Z"
   },
   {
    "duration": 52,
    "start_time": "2022-10-10T08:13:44.122Z"
   },
   {
    "duration": 46,
    "start_time": "2022-10-10T08:13:56.314Z"
   },
   {
    "duration": 27,
    "start_time": "2022-10-10T08:14:09.249Z"
   },
   {
    "duration": 33,
    "start_time": "2022-10-10T08:14:18.121Z"
   },
   {
    "duration": 69,
    "start_time": "2022-10-10T08:18:03.418Z"
   },
   {
    "duration": 61,
    "start_time": "2022-10-10T08:18:12.050Z"
   },
   {
    "duration": 654,
    "start_time": "2022-10-10T08:18:19.378Z"
   },
   {
    "duration": 186,
    "start_time": "2022-10-10T08:18:48.323Z"
   },
   {
    "duration": 183,
    "start_time": "2022-10-10T08:19:12.627Z"
   },
   {
    "duration": 256,
    "start_time": "2022-10-10T08:19:25.412Z"
   },
   {
    "duration": 170,
    "start_time": "2022-10-10T08:20:02.876Z"
   },
   {
    "duration": 208,
    "start_time": "2022-10-10T08:20:20.084Z"
   },
   {
    "duration": 32,
    "start_time": "2022-10-10T08:20:57.836Z"
   },
   {
    "duration": 25,
    "start_time": "2022-10-10T08:21:14.771Z"
   },
   {
    "duration": 29,
    "start_time": "2022-10-10T08:24:13.356Z"
   },
   {
    "duration": 28,
    "start_time": "2022-10-10T08:24:18.864Z"
   },
   {
    "duration": 34,
    "start_time": "2022-10-10T08:24:35.429Z"
   },
   {
    "duration": 25,
    "start_time": "2022-10-10T08:24:50.695Z"
   },
   {
    "duration": 30,
    "start_time": "2022-10-10T08:25:23.183Z"
   },
   {
    "duration": 27,
    "start_time": "2022-10-10T08:25:39.460Z"
   },
   {
    "duration": 41,
    "start_time": "2022-10-10T08:25:52.540Z"
   },
   {
    "duration": 33,
    "start_time": "2022-10-10T08:26:06.861Z"
   },
   {
    "duration": 30,
    "start_time": "2022-10-10T08:27:06.280Z"
   },
   {
    "duration": 37,
    "start_time": "2022-10-10T08:27:25.493Z"
   },
   {
    "duration": 60,
    "start_time": "2022-10-10T08:28:18.543Z"
   },
   {
    "duration": 27,
    "start_time": "2022-10-10T08:28:28.270Z"
   },
   {
    "duration": 28,
    "start_time": "2022-10-10T08:28:46.718Z"
   },
   {
    "duration": 272,
    "start_time": "2022-10-10T08:32:37.544Z"
   },
   {
    "duration": 277,
    "start_time": "2022-10-10T08:33:37.551Z"
   },
   {
    "duration": 253,
    "start_time": "2022-10-10T08:34:08.383Z"
   },
   {
    "duration": 52,
    "start_time": "2022-10-10T08:34:38.304Z"
   },
   {
    "duration": 234,
    "start_time": "2022-10-10T08:34:45.047Z"
   },
   {
    "duration": 317,
    "start_time": "2022-10-10T08:35:14.296Z"
   },
   {
    "duration": 1931,
    "start_time": "2022-10-10T08:35:26.664Z"
   },
   {
    "duration": 309,
    "start_time": "2022-10-10T08:35:45.521Z"
   },
   {
    "duration": 248,
    "start_time": "2022-10-10T08:36:51.201Z"
   },
   {
    "duration": 287,
    "start_time": "2022-10-10T08:38:08.057Z"
   },
   {
    "duration": 254,
    "start_time": "2022-10-10T08:38:16.717Z"
   },
   {
    "duration": 297,
    "start_time": "2022-10-10T08:38:29.472Z"
   },
   {
    "duration": 55,
    "start_time": "2022-10-10T08:48:43.251Z"
   },
   {
    "duration": 376,
    "start_time": "2022-10-10T08:48:49.597Z"
   },
   {
    "duration": 333,
    "start_time": "2022-10-10T08:54:43.408Z"
   },
   {
    "duration": 290,
    "start_time": "2022-10-10T08:55:16.944Z"
   },
   {
    "duration": 236,
    "start_time": "2022-10-10T08:55:23.824Z"
   },
   {
    "duration": 252,
    "start_time": "2022-10-10T08:55:38.144Z"
   },
   {
    "duration": 264,
    "start_time": "2022-10-10T08:55:47.440Z"
   },
   {
    "duration": 256,
    "start_time": "2022-10-10T08:55:57.704Z"
   },
   {
    "duration": 241,
    "start_time": "2022-10-10T08:56:12.297Z"
   },
   {
    "duration": 435,
    "start_time": "2022-10-10T08:56:49.128Z"
   },
   {
    "duration": 317,
    "start_time": "2022-10-10T08:57:06.817Z"
   },
   {
    "duration": 326,
    "start_time": "2022-10-10T08:57:26.777Z"
   },
   {
    "duration": 253,
    "start_time": "2022-10-10T08:57:37.817Z"
   },
   {
    "duration": 256,
    "start_time": "2022-10-10T08:57:50.489Z"
   },
   {
    "duration": 267,
    "start_time": "2022-10-10T08:58:28.425Z"
   },
   {
    "duration": 259,
    "start_time": "2022-10-10T08:59:16.745Z"
   },
   {
    "duration": 248,
    "start_time": "2022-10-10T09:02:10.746Z"
   },
   {
    "duration": 275,
    "start_time": "2022-10-10T09:17:06.439Z"
   },
   {
    "duration": 482,
    "start_time": "2022-10-10T09:17:17.535Z"
   },
   {
    "duration": 267,
    "start_time": "2022-10-10T09:17:23.752Z"
   },
   {
    "duration": 564,
    "start_time": "2022-10-10T09:17:32.912Z"
   },
   {
    "duration": 264,
    "start_time": "2022-10-10T09:18:04.520Z"
   },
   {
    "duration": 126,
    "start_time": "2022-10-10T09:18:11.094Z"
   },
   {
    "duration": 19,
    "start_time": "2022-10-10T09:18:11.655Z"
   },
   {
    "duration": 278,
    "start_time": "2022-10-10T09:18:14.560Z"
   },
   {
    "duration": 15,
    "start_time": "2022-10-10T09:20:18.393Z"
   },
   {
    "duration": 12,
    "start_time": "2022-10-10T09:20:37.567Z"
   },
   {
    "duration": 11,
    "start_time": "2022-10-10T09:20:59.449Z"
   },
   {
    "duration": 9,
    "start_time": "2022-10-10T09:21:16.817Z"
   },
   {
    "duration": 9,
    "start_time": "2022-10-10T09:21:40.929Z"
   },
   {
    "duration": 12,
    "start_time": "2022-10-10T09:23:42.709Z"
   },
   {
    "duration": 16,
    "start_time": "2022-10-10T09:23:54.753Z"
   },
   {
    "duration": 70,
    "start_time": "2022-10-10T09:24:14.954Z"
   },
   {
    "duration": 11,
    "start_time": "2022-10-10T09:27:29.692Z"
   },
   {
    "duration": 12,
    "start_time": "2022-10-10T09:27:48.579Z"
   },
   {
    "duration": 10,
    "start_time": "2022-10-10T09:27:57.787Z"
   },
   {
    "duration": 10,
    "start_time": "2022-10-10T09:37:28.023Z"
   },
   {
    "duration": 4,
    "start_time": "2022-10-10T09:37:57.206Z"
   },
   {
    "duration": 12,
    "start_time": "2022-10-10T09:38:12.439Z"
   },
   {
    "duration": 12,
    "start_time": "2022-10-10T09:38:23.577Z"
   },
   {
    "duration": 5,
    "start_time": "2022-10-10T09:52:38.388Z"
   },
   {
    "duration": 256,
    "start_time": "2022-10-10T09:52:47.395Z"
   },
   {
    "duration": 5,
    "start_time": "2022-10-10T09:54:10.852Z"
   },
   {
    "duration": 8,
    "start_time": "2022-10-10T09:58:10.695Z"
   },
   {
    "duration": 35,
    "start_time": "2022-10-10T09:59:57.232Z"
   },
   {
    "duration": 35,
    "start_time": "2022-10-10T10:03:58.852Z"
   },
   {
    "duration": 11,
    "start_time": "2022-10-10T11:35:35.032Z"
   },
   {
    "duration": 12,
    "start_time": "2022-10-10T11:35:54.145Z"
   },
   {
    "duration": 26,
    "start_time": "2022-10-10T11:38:08.889Z"
   },
   {
    "duration": 11,
    "start_time": "2022-10-10T11:40:29.618Z"
   },
   {
    "duration": 11,
    "start_time": "2022-10-10T11:40:37.418Z"
   },
   {
    "duration": 9,
    "start_time": "2022-10-10T11:42:30.331Z"
   },
   {
    "duration": 11,
    "start_time": "2022-10-10T11:43:31.038Z"
   },
   {
    "duration": 9,
    "start_time": "2022-10-10T11:43:55.387Z"
   },
   {
    "duration": 49,
    "start_time": "2022-10-10T11:48:26.901Z"
   },
   {
    "duration": 34,
    "start_time": "2022-10-10T11:48:38.837Z"
   },
   {
    "duration": 113,
    "start_time": "2022-10-10T11:52:42.406Z"
   },
   {
    "duration": 14,
    "start_time": "2022-10-10T11:52:42.606Z"
   },
   {
    "duration": 235,
    "start_time": "2022-10-10T11:52:43.655Z"
   },
   {
    "duration": 41,
    "start_time": "2022-10-10T11:52:44.790Z"
   },
   {
    "duration": 281,
    "start_time": "2022-10-10T11:55:41.999Z"
   },
   {
    "duration": 276,
    "start_time": "2022-10-10T11:56:59.082Z"
   },
   {
    "duration": 108,
    "start_time": "2022-10-10T11:57:59.184Z"
   },
   {
    "duration": 14,
    "start_time": "2022-10-10T11:57:59.944Z"
   },
   {
    "duration": 252,
    "start_time": "2022-10-10T11:58:03.248Z"
   },
   {
    "duration": 42,
    "start_time": "2022-10-10T11:59:38.497Z"
   },
   {
    "duration": 13,
    "start_time": "2022-10-10T12:06:11.044Z"
   },
   {
    "duration": 13,
    "start_time": "2022-10-10T12:06:17.940Z"
   },
   {
    "duration": 7,
    "start_time": "2022-10-10T12:06:18.957Z"
   },
   {
    "duration": 22,
    "start_time": "2022-10-10T12:08:39.426Z"
   },
   {
    "duration": 12,
    "start_time": "2022-10-10T12:08:58.381Z"
   },
   {
    "duration": 16,
    "start_time": "2022-10-10T12:09:11.286Z"
   },
   {
    "duration": 14,
    "start_time": "2022-10-10T12:12:06.581Z"
   },
   {
    "duration": 25,
    "start_time": "2022-10-10T12:12:08.814Z"
   },
   {
    "duration": 712,
    "start_time": "2022-10-11T08:15:41.917Z"
   },
   {
    "duration": 165,
    "start_time": "2022-10-11T08:15:53.172Z"
   },
   {
    "duration": 17,
    "start_time": "2022-10-11T08:15:56.821Z"
   },
   {
    "duration": 11,
    "start_time": "2022-10-11T08:17:52.575Z"
   },
   {
    "duration": 41,
    "start_time": "2022-10-11T08:17:53.079Z"
   },
   {
    "duration": 108,
    "start_time": "2022-10-11T08:20:37.255Z"
   },
   {
    "duration": 20,
    "start_time": "2022-10-11T08:21:20.331Z"
   },
   {
    "duration": 10,
    "start_time": "2022-10-11T08:21:38.745Z"
   },
   {
    "duration": 7,
    "start_time": "2022-10-11T08:22:55.063Z"
   },
   {
    "duration": 14,
    "start_time": "2022-10-11T08:28:41.530Z"
   },
   {
    "duration": 7,
    "start_time": "2022-10-11T08:28:58.841Z"
   },
   {
    "duration": 36,
    "start_time": "2022-10-11T08:30:23.027Z"
   },
   {
    "duration": 13,
    "start_time": "2022-10-11T08:30:29.123Z"
   },
   {
    "duration": 16,
    "start_time": "2022-10-11T08:48:11.424Z"
   },
   {
    "duration": 17,
    "start_time": "2022-10-11T08:52:52.653Z"
   },
   {
    "duration": 13,
    "start_time": "2022-10-11T08:54:56.021Z"
   },
   {
    "duration": 19,
    "start_time": "2022-10-11T08:55:16.325Z"
   },
   {
    "duration": 29,
    "start_time": "2022-10-11T08:59:15.928Z"
   },
   {
    "duration": 12,
    "start_time": "2022-10-11T08:59:35.526Z"
   },
   {
    "duration": 17,
    "start_time": "2022-10-11T08:59:55.283Z"
   },
   {
    "duration": 1834,
    "start_time": "2022-10-11T09:07:27.181Z"
   },
   {
    "duration": 1803,
    "start_time": "2022-10-11T09:07:56.790Z"
   },
   {
    "duration": 1801,
    "start_time": "2022-10-11T09:08:10.141Z"
   },
   {
    "duration": 1848,
    "start_time": "2022-10-11T09:08:14.318Z"
   },
   {
    "duration": 1781,
    "start_time": "2022-10-11T09:09:07.381Z"
   },
   {
    "duration": 1795,
    "start_time": "2022-10-11T09:09:28.239Z"
   },
   {
    "duration": 1868,
    "start_time": "2022-10-11T09:09:44.141Z"
   },
   {
    "duration": 17,
    "start_time": "2022-10-11T09:09:58.613Z"
   },
   {
    "duration": 7,
    "start_time": "2022-10-11T09:10:06.846Z"
   },
   {
    "duration": 20,
    "start_time": "2022-10-11T09:10:20.420Z"
   },
   {
    "duration": 1874,
    "start_time": "2022-10-11T09:10:36.425Z"
   },
   {
    "duration": 5,
    "start_time": "2022-10-11T09:12:07.878Z"
   },
   {
    "duration": 7050,
    "start_time": "2022-10-11T09:12:17.249Z"
   },
   {
    "duration": 952,
    "start_time": "2022-10-11T09:13:10.406Z"
   },
   {
    "duration": 13,
    "start_time": "2022-10-11T09:14:37.654Z"
   },
   {
    "duration": 12,
    "start_time": "2022-10-11T09:15:05.943Z"
   },
   {
    "duration": 9,
    "start_time": "2022-10-11T09:16:31.117Z"
   },
   {
    "duration": 111,
    "start_time": "2022-10-11T09:16:38.479Z"
   },
   {
    "duration": 14,
    "start_time": "2022-10-11T09:17:05.513Z"
   },
   {
    "duration": 57,
    "start_time": "2022-10-11T09:17:13.312Z"
   },
   {
    "duration": 65,
    "start_time": "2022-10-11T09:17:29.835Z"
   },
   {
    "duration": 34,
    "start_time": "2022-10-11T09:22:17.857Z"
   },
   {
    "duration": 33,
    "start_time": "2022-10-11T09:22:33.841Z"
   },
   {
    "duration": 27,
    "start_time": "2022-10-11T09:24:01.459Z"
   },
   {
    "duration": 16,
    "start_time": "2022-10-11T09:25:21.327Z"
   },
   {
    "duration": 17,
    "start_time": "2022-10-11T09:25:30.104Z"
   },
   {
    "duration": 57,
    "start_time": "2022-10-11T09:26:39.437Z"
   },
   {
    "duration": 101,
    "start_time": "2022-10-11T09:26:48.933Z"
   },
   {
    "duration": 62,
    "start_time": "2022-10-11T09:28:00.392Z"
   },
   {
    "duration": 47,
    "start_time": "2022-10-11T09:28:10.886Z"
   },
   {
    "duration": 135,
    "start_time": "2022-10-11T09:36:48.163Z"
   },
   {
    "duration": 101,
    "start_time": "2022-10-11T09:36:57.059Z"
   },
   {
    "duration": 48,
    "start_time": "2022-10-11T09:37:14.020Z"
   },
   {
    "duration": 76,
    "start_time": "2022-10-11T09:37:30.660Z"
   },
   {
    "duration": 10,
    "start_time": "2022-10-11T09:37:53.831Z"
   },
   {
    "duration": 10,
    "start_time": "2022-10-11T09:38:13.540Z"
   },
   {
    "duration": 66,
    "start_time": "2022-10-11T09:38:34.955Z"
   },
   {
    "duration": 112,
    "start_time": "2022-10-11T09:38:41.230Z"
   },
   {
    "duration": 66,
    "start_time": "2022-10-11T09:39:10.084Z"
   },
   {
    "duration": 90,
    "start_time": "2022-10-11T09:39:17.380Z"
   },
   {
    "duration": 76,
    "start_time": "2022-10-11T09:40:18.261Z"
   },
   {
    "duration": 2658,
    "start_time": "2022-10-11T09:40:32.421Z"
   },
   {
    "duration": 2105,
    "start_time": "2022-10-11T09:40:42.268Z"
   },
   {
    "duration": 9,
    "start_time": "2022-10-11T09:41:01.637Z"
   },
   {
    "duration": 154,
    "start_time": "2022-10-11T09:42:28.581Z"
   },
   {
    "duration": 16,
    "start_time": "2022-10-11T09:42:29.037Z"
   },
   {
    "duration": 923,
    "start_time": "2022-10-11T09:42:31.230Z"
   },
   {
    "duration": 10,
    "start_time": "2022-10-11T09:42:32.156Z"
   },
   {
    "duration": 75,
    "start_time": "2022-10-11T09:42:33.592Z"
   },
   {
    "duration": 19,
    "start_time": "2022-10-11T09:42:35.621Z"
   },
   {
    "duration": 14,
    "start_time": "2022-10-11T09:43:11.481Z"
   },
   {
    "duration": 8,
    "start_time": "2022-10-11T09:48:33.321Z"
   },
   {
    "duration": 10,
    "start_time": "2022-10-11T09:49:04.014Z"
   },
   {
    "duration": 12,
    "start_time": "2022-10-11T09:49:12.616Z"
   },
   {
    "duration": 7,
    "start_time": "2022-10-11T09:50:21.625Z"
   },
   {
    "duration": 9,
    "start_time": "2022-10-11T09:50:37.316Z"
   },
   {
    "duration": 5,
    "start_time": "2022-10-11T09:51:03.273Z"
   },
   {
    "duration": 10,
    "start_time": "2022-10-11T09:51:23.225Z"
   },
   {
    "duration": 5,
    "start_time": "2022-10-11T09:51:40.928Z"
   },
   {
    "duration": 6,
    "start_time": "2022-10-11T09:51:58.449Z"
   },
   {
    "duration": 9,
    "start_time": "2022-10-11T09:52:23.658Z"
   },
   {
    "duration": 23,
    "start_time": "2022-10-11T09:52:35.458Z"
   },
   {
    "duration": 108,
    "start_time": "2022-10-11T09:55:52.932Z"
   },
   {
    "duration": 47,
    "start_time": "2022-10-11T09:56:13.495Z"
   },
   {
    "duration": 63,
    "start_time": "2022-10-11T09:56:26.756Z"
   },
   {
    "duration": 98,
    "start_time": "2022-10-11T10:11:41.147Z"
   },
   {
    "duration": 113,
    "start_time": "2022-10-11T10:12:17.548Z"
   },
   {
    "duration": 121,
    "start_time": "2022-10-11T10:13:02.647Z"
   },
   {
    "duration": 19,
    "start_time": "2022-10-11T10:13:05.221Z"
   },
   {
    "duration": 90,
    "start_time": "2022-10-11T10:15:14.663Z"
   },
   {
    "duration": 87,
    "start_time": "2022-10-11T10:15:25.312Z"
   },
   {
    "duration": 194,
    "start_time": "2022-10-11T10:15:47.686Z"
   },
   {
    "duration": 127,
    "start_time": "2022-10-11T10:16:02.335Z"
   },
   {
    "duration": 414,
    "start_time": "2022-10-11T10:16:31.158Z"
   },
   {
    "duration": 620,
    "start_time": "2022-10-11T10:20:35.340Z"
   },
   {
    "duration": 119,
    "start_time": "2022-10-11T10:23:11.129Z"
   },
   {
    "duration": 6,
    "start_time": "2022-10-11T10:23:21.674Z"
   },
   {
    "duration": 467,
    "start_time": "2022-10-11T10:23:27.186Z"
   },
   {
    "duration": 740,
    "start_time": "2022-10-11T10:24:14.947Z"
   },
   {
    "duration": 761,
    "start_time": "2022-10-11T10:24:40.475Z"
   },
   {
    "duration": 61,
    "start_time": "2022-10-11T10:27:25.951Z"
   },
   {
    "duration": 0,
    "start_time": "2022-10-11T10:27:26.014Z"
   },
   {
    "duration": 636,
    "start_time": "2022-10-11T10:27:35.327Z"
   },
   {
    "duration": 16,
    "start_time": "2022-10-11T10:27:35.965Z"
   },
   {
    "duration": 636,
    "start_time": "2022-10-11T10:27:35.983Z"
   },
   {
    "duration": 8,
    "start_time": "2022-10-11T10:27:36.622Z"
   },
   {
    "duration": 69,
    "start_time": "2022-10-11T10:27:36.632Z"
   },
   {
    "duration": 8,
    "start_time": "2022-10-11T10:27:36.703Z"
   },
   {
    "duration": 570,
    "start_time": "2022-10-11T10:27:55.148Z"
   },
   {
    "duration": 19,
    "start_time": "2022-10-11T10:27:55.748Z"
   },
   {
    "duration": 598,
    "start_time": "2022-10-11T10:27:58.549Z"
   },
   {
    "duration": 9,
    "start_time": "2022-10-11T10:27:59.149Z"
   },
   {
    "duration": 55,
    "start_time": "2022-10-11T10:28:00.860Z"
   },
   {
    "duration": 10,
    "start_time": "2022-10-11T10:28:06.013Z"
   },
   {
    "duration": 105,
    "start_time": "2022-10-11T10:29:44.214Z"
   },
   {
    "duration": 132,
    "start_time": "2022-10-11T10:30:10.077Z"
   },
   {
    "duration": 153,
    "start_time": "2022-10-11T10:30:34.173Z"
   },
   {
    "duration": 98,
    "start_time": "2022-10-11T10:31:11.550Z"
   },
   {
    "duration": 80,
    "start_time": "2022-10-11T10:31:30.462Z"
   },
   {
    "duration": 57,
    "start_time": "2022-10-11T10:31:48.917Z"
   },
   {
    "duration": 11,
    "start_time": "2022-10-11T10:32:05.582Z"
   },
   {
    "duration": 8,
    "start_time": "2022-10-11T10:32:58.349Z"
   },
   {
    "duration": 11,
    "start_time": "2022-10-11T10:35:39.379Z"
   },
   {
    "duration": 364,
    "start_time": "2022-10-11T10:35:59.059Z"
   },
   {
    "duration": 47,
    "start_time": "2022-10-11T10:36:45.444Z"
   },
   {
    "duration": 105,
    "start_time": "2022-10-11T10:36:54.995Z"
   },
   {
    "duration": 11,
    "start_time": "2022-10-11T10:37:30.987Z"
   },
   {
    "duration": 578,
    "start_time": "2022-10-11T10:37:46.842Z"
   },
   {
    "duration": 16,
    "start_time": "2022-10-11T10:37:47.422Z"
   },
   {
    "duration": 585,
    "start_time": "2022-10-11T10:37:49.602Z"
   },
   {
    "duration": 8,
    "start_time": "2022-10-11T10:37:50.190Z"
   },
   {
    "duration": 43,
    "start_time": "2022-10-11T10:37:50.939Z"
   },
   {
    "duration": 10,
    "start_time": "2022-10-11T10:37:52.368Z"
   },
   {
    "duration": 385,
    "start_time": "2022-10-11T10:37:52.963Z"
   },
   {
    "duration": 26,
    "start_time": "2022-10-11T10:37:54.066Z"
   },
   {
    "duration": 19,
    "start_time": "2022-10-11T10:37:54.674Z"
   },
   {
    "duration": 27,
    "start_time": "2022-10-11T10:37:55.234Z"
   },
   {
    "duration": 773,
    "start_time": "2022-10-11T10:38:35.715Z"
   },
   {
    "duration": 345,
    "start_time": "2022-10-11T10:38:47.994Z"
   },
   {
    "duration": 22,
    "start_time": "2022-10-11T10:39:30.556Z"
   },
   {
    "duration": 27,
    "start_time": "2022-10-11T10:39:33.362Z"
   },
   {
    "duration": 1205,
    "start_time": "2022-10-11T10:40:48.739Z"
   },
   {
    "duration": 18,
    "start_time": "2022-10-11T10:40:58.891Z"
   },
   {
    "duration": 15,
    "start_time": "2022-10-11T10:41:14.187Z"
   },
   {
    "duration": 100,
    "start_time": "2022-10-11T10:43:28.952Z"
   },
   {
    "duration": 24,
    "start_time": "2022-10-11T10:43:32.307Z"
   },
   {
    "duration": 6,
    "start_time": "2022-10-11T10:43:58.148Z"
   },
   {
    "duration": 1578,
    "start_time": "2022-10-11T10:44:30.484Z"
   },
   {
    "duration": 95,
    "start_time": "2022-10-11T10:49:11.685Z"
   },
   {
    "duration": 461,
    "start_time": "2022-10-11T10:49:29.308Z"
   },
   {
    "duration": 25,
    "start_time": "2022-10-11T10:52:57.948Z"
   },
   {
    "duration": 11,
    "start_time": "2022-10-11T10:53:27.453Z"
   },
   {
    "duration": 5,
    "start_time": "2022-10-11T10:53:40.278Z"
   },
   {
    "duration": 4,
    "start_time": "2022-10-11T10:55:33.943Z"
   },
   {
    "duration": 4,
    "start_time": "2022-10-11T10:55:38.520Z"
   },
   {
    "duration": 771,
    "start_time": "2022-10-11T10:55:54.839Z"
   },
   {
    "duration": 5,
    "start_time": "2022-10-11T10:56:38.847Z"
   },
   {
    "duration": 77,
    "start_time": "2022-10-11T11:01:51.379Z"
   },
   {
    "duration": 4,
    "start_time": "2022-10-11T11:02:01.569Z"
   },
   {
    "duration": 1308,
    "start_time": "2022-10-11T11:02:24.064Z"
   },
   {
    "duration": 16,
    "start_time": "2022-10-11T11:02:42.378Z"
   },
   {
    "duration": 15,
    "start_time": "2022-10-11T11:02:56.706Z"
   },
   {
    "duration": 6,
    "start_time": "2022-10-11T11:03:47.425Z"
   },
   {
    "duration": 494,
    "start_time": "2022-10-11T11:05:22.256Z"
   },
   {
    "duration": 426,
    "start_time": "2022-10-11T11:05:29.386Z"
   },
   {
    "duration": 500,
    "start_time": "2022-10-11T11:10:45.245Z"
   },
   {
    "duration": 26,
    "start_time": "2022-10-11T11:23:42.329Z"
   },
   {
    "duration": 612,
    "start_time": "2022-10-11T11:27:05.738Z"
   },
   {
    "duration": 442,
    "start_time": "2022-10-11T12:07:04.209Z"
   },
   {
    "duration": 402,
    "start_time": "2022-10-11T12:07:39.026Z"
   },
   {
    "duration": 432,
    "start_time": "2022-10-11T12:08:26.689Z"
   },
   {
    "duration": 594,
    "start_time": "2022-10-11T12:08:59.958Z"
   },
   {
    "duration": 18,
    "start_time": "2022-10-11T12:09:00.554Z"
   },
   {
    "duration": 624,
    "start_time": "2022-10-11T12:09:00.574Z"
   },
   {
    "duration": 10,
    "start_time": "2022-10-11T12:09:01.201Z"
   },
   {
    "duration": 47,
    "start_time": "2022-10-11T12:09:01.212Z"
   },
   {
    "duration": 7,
    "start_time": "2022-10-11T12:09:01.261Z"
   },
   {
    "duration": 113,
    "start_time": "2022-10-11T12:09:01.290Z"
   },
   {
    "duration": 0,
    "start_time": "2022-10-11T12:09:01.405Z"
   },
   {
    "duration": 0,
    "start_time": "2022-10-11T12:09:01.407Z"
   },
   {
    "duration": 0,
    "start_time": "2022-10-11T12:09:01.409Z"
   },
   {
    "duration": 0,
    "start_time": "2022-10-11T12:09:01.419Z"
   },
   {
    "duration": 0,
    "start_time": "2022-10-11T12:09:01.422Z"
   },
   {
    "duration": 3344,
    "start_time": "2022-10-11T12:09:48.071Z"
   },
   {
    "duration": 3315,
    "start_time": "2022-10-11T12:11:30.991Z"
   },
   {
    "duration": 421,
    "start_time": "2022-10-11T12:11:59.080Z"
   },
   {
    "duration": 24,
    "start_time": "2022-10-11T12:12:30.626Z"
   },
   {
    "duration": 96,
    "start_time": "2022-10-11T12:12:45.521Z"
   },
   {
    "duration": 33,
    "start_time": "2022-10-11T12:14:16.475Z"
   },
   {
    "duration": 551,
    "start_time": "2022-10-11T12:14:34.192Z"
   },
   {
    "duration": 16,
    "start_time": "2022-10-11T12:14:34.746Z"
   },
   {
    "duration": 559,
    "start_time": "2022-10-11T12:14:34.764Z"
   },
   {
    "duration": 9,
    "start_time": "2022-10-11T12:14:35.325Z"
   },
   {
    "duration": 62,
    "start_time": "2022-10-11T12:14:35.336Z"
   },
   {
    "duration": 9,
    "start_time": "2022-10-11T12:14:35.400Z"
   },
   {
    "duration": 48,
    "start_time": "2022-10-11T12:14:35.410Z"
   },
   {
    "duration": 5,
    "start_time": "2022-10-11T12:14:35.460Z"
   },
   {
    "duration": 28,
    "start_time": "2022-10-11T12:14:35.488Z"
   },
   {
    "duration": 5,
    "start_time": "2022-10-11T12:14:35.518Z"
   },
   {
    "duration": 21,
    "start_time": "2022-10-11T12:14:35.525Z"
   },
   {
    "duration": 55,
    "start_time": "2022-10-11T12:14:35.548Z"
   },
   {
    "duration": 823,
    "start_time": "2022-10-11T12:15:03.953Z"
   },
   {
    "duration": 484,
    "start_time": "2022-10-11T12:15:46.234Z"
   },
   {
    "duration": 485,
    "start_time": "2022-10-11T12:18:11.634Z"
   },
   {
    "duration": 1641,
    "start_time": "2022-10-11T12:19:39.087Z"
   },
   {
    "duration": 1637,
    "start_time": "2022-10-11T12:19:54.412Z"
   },
   {
    "duration": 5783,
    "start_time": "2022-10-11T12:20:04.715Z"
   },
   {
    "duration": 34,
    "start_time": "2022-10-11T12:20:19.521Z"
   },
   {
    "duration": 94,
    "start_time": "2022-10-11T12:20:57.625Z"
   },
   {
    "duration": 33,
    "start_time": "2022-10-11T12:21:21.594Z"
   },
   {
    "duration": 43,
    "start_time": "2022-10-11T12:21:31.834Z"
   },
   {
    "duration": 27,
    "start_time": "2022-10-11T12:21:57.186Z"
   },
   {
    "duration": 86,
    "start_time": "2022-10-11T12:22:16.194Z"
   },
   {
    "duration": 35,
    "start_time": "2022-10-11T12:22:32.931Z"
   },
   {
    "duration": 650,
    "start_time": "2022-10-11T12:23:23.307Z"
   },
   {
    "duration": 486,
    "start_time": "2022-10-11T12:23:30.634Z"
   },
   {
    "duration": 659,
    "start_time": "2022-10-11T12:28:29.340Z"
   },
   {
    "duration": 365,
    "start_time": "2022-10-11T12:29:28.253Z"
   },
   {
    "duration": 342,
    "start_time": "2022-10-11T12:29:45.645Z"
   },
   {
    "duration": 340,
    "start_time": "2022-10-11T12:29:52.748Z"
   },
   {
    "duration": 369,
    "start_time": "2022-10-11T12:30:50.069Z"
   },
   {
    "duration": 931,
    "start_time": "2022-10-11T12:35:47.423Z"
   },
   {
    "duration": 111,
    "start_time": "2022-10-11T12:38:35.328Z"
   },
   {
    "duration": 412,
    "start_time": "2022-10-11T12:38:53.264Z"
   },
   {
    "duration": 1640,
    "start_time": "2022-10-11T12:40:06.280Z"
   },
   {
    "duration": 576,
    "start_time": "2022-10-11T12:40:52.401Z"
   },
   {
    "duration": 637,
    "start_time": "2022-10-11T12:41:21.817Z"
   },
   {
    "duration": 77,
    "start_time": "2022-10-11T12:41:44.904Z"
   },
   {
    "duration": 543,
    "start_time": "2022-10-11T12:41:52.240Z"
   },
   {
    "duration": 24,
    "start_time": "2022-10-11T12:42:39.752Z"
   },
   {
    "duration": 3,
    "start_time": "2022-10-11T12:44:52.530Z"
   },
   {
    "duration": 13,
    "start_time": "2022-10-11T12:44:57.248Z"
   },
   {
    "duration": 25,
    "start_time": "2022-10-11T12:45:13.786Z"
   },
   {
    "duration": 123,
    "start_time": "2022-10-11T12:45:39.610Z"
   },
   {
    "duration": 544,
    "start_time": "2022-10-11T12:49:50.946Z"
   },
   {
    "duration": 86,
    "start_time": "2022-10-11T12:50:04.390Z"
   },
   {
    "duration": 27,
    "start_time": "2022-10-11T12:52:16.091Z"
   },
   {
    "duration": 847,
    "start_time": "2022-10-11T12:52:20.444Z"
   },
   {
    "duration": 544,
    "start_time": "2022-10-11T12:52:57.236Z"
   },
   {
    "duration": 22,
    "start_time": "2022-10-11T12:53:59.413Z"
   },
   {
    "duration": 22,
    "start_time": "2022-10-11T13:19:35.196Z"
   },
   {
    "duration": 1425,
    "start_time": "2022-10-11T13:20:09.645Z"
   },
   {
    "duration": 497,
    "start_time": "2022-10-11T13:21:04.829Z"
   },
   {
    "duration": 608,
    "start_time": "2022-10-11T13:21:16.964Z"
   },
   {
    "duration": 7,
    "start_time": "2022-10-11T13:23:46.973Z"
   },
   {
    "duration": 28,
    "start_time": "2022-10-11T13:23:48.443Z"
   },
   {
    "duration": 18,
    "start_time": "2022-10-11T13:23:49.245Z"
   },
   {
    "duration": 21,
    "start_time": "2022-10-11T13:23:54.413Z"
   },
   {
    "duration": 3389,
    "start_time": "2022-10-11T13:24:02.149Z"
   },
   {
    "duration": 88,
    "start_time": "2022-10-11T13:24:17.182Z"
   },
   {
    "duration": 78,
    "start_time": "2022-10-11T13:24:24.503Z"
   },
   {
    "duration": 162,
    "start_time": "2022-10-11T13:24:41.582Z"
   },
   {
    "duration": 3113,
    "start_time": "2022-10-11T13:24:50.630Z"
   },
   {
    "duration": 89,
    "start_time": "2022-10-11T13:25:09.637Z"
   },
   {
    "duration": 42,
    "start_time": "2022-10-11T13:26:36.582Z"
   },
   {
    "duration": 109,
    "start_time": "2022-10-11T13:27:07.471Z"
   },
   {
    "duration": 11,
    "start_time": "2022-10-11T13:30:20.928Z"
   },
   {
    "duration": 41,
    "start_time": "2022-10-11T13:33:54.145Z"
   },
   {
    "duration": 9,
    "start_time": "2022-10-11T13:33:55.984Z"
   },
   {
    "duration": 39,
    "start_time": "2022-10-11T13:34:22.817Z"
   },
   {
    "duration": 40,
    "start_time": "2022-10-11T13:34:46.643Z"
   },
   {
    "duration": 19,
    "start_time": "2022-10-11T13:42:48.676Z"
   },
   {
    "duration": 11,
    "start_time": "2022-10-11T13:42:56.756Z"
   },
   {
    "duration": 91,
    "start_time": "2022-10-11T13:45:19.132Z"
   },
   {
    "duration": 10,
    "start_time": "2022-10-11T13:45:38.133Z"
   },
   {
    "duration": 104,
    "start_time": "2022-10-11T13:45:56.156Z"
   },
   {
    "duration": 15,
    "start_time": "2022-10-11T13:46:37.748Z"
   },
   {
    "duration": 127,
    "start_time": "2022-10-11T13:50:31.590Z"
   },
   {
    "duration": 8,
    "start_time": "2022-10-12T06:57:32.192Z"
   },
   {
    "duration": 8,
    "start_time": "2022-10-12T06:58:14.404Z"
   },
   {
    "duration": 5,
    "start_time": "2022-10-12T06:59:05.016Z"
   },
   {
    "duration": 40,
    "start_time": "2022-10-12T07:02:34.169Z"
   },
   {
    "duration": 11,
    "start_time": "2022-10-12T07:03:09.820Z"
   },
   {
    "duration": 9,
    "start_time": "2022-10-12T07:03:24.761Z"
   },
   {
    "duration": 274,
    "start_time": "2022-10-12T07:03:51.058Z"
   },
   {
    "duration": 167,
    "start_time": "2022-10-12T07:04:53.450Z"
   },
   {
    "duration": 327,
    "start_time": "2022-10-12T07:05:03.820Z"
   },
   {
    "duration": 368,
    "start_time": "2022-10-12T07:05:22.860Z"
   },
   {
    "duration": 33,
    "start_time": "2022-10-12T07:09:53.700Z"
   },
   {
    "duration": 211,
    "start_time": "2022-10-12T07:12:48.028Z"
   },
   {
    "duration": 28,
    "start_time": "2022-10-12T07:12:48.525Z"
   },
   {
    "duration": 456,
    "start_time": "2022-10-12T07:12:50.383Z"
   },
   {
    "duration": 13,
    "start_time": "2022-10-12T07:12:50.845Z"
   },
   {
    "duration": 72,
    "start_time": "2022-10-12T07:12:51.862Z"
   },
   {
    "duration": 17,
    "start_time": "2022-10-12T07:12:53.270Z"
   },
   {
    "duration": 178,
    "start_time": "2022-10-12T07:12:54.357Z"
   },
   {
    "duration": 23,
    "start_time": "2022-10-12T07:12:55.885Z"
   },
   {
    "duration": 39,
    "start_time": "2022-10-12T07:12:56.405Z"
   },
   {
    "duration": 8,
    "start_time": "2022-10-12T07:12:57.037Z"
   },
   {
    "duration": 48,
    "start_time": "2022-10-12T07:12:58.637Z"
   },
   {
    "duration": 11,
    "start_time": "2022-10-12T07:12:59.526Z"
   },
   {
    "duration": 473,
    "start_time": "2022-10-12T07:13:00.190Z"
   },
   {
    "duration": 282,
    "start_time": "2022-10-12T07:14:43.629Z"
   },
   {
    "duration": 391,
    "start_time": "2022-10-12T07:15:34.270Z"
   },
   {
    "duration": 343,
    "start_time": "2022-10-12T07:15:40.213Z"
   },
   {
    "duration": 6,
    "start_time": "2022-10-12T07:16:38.191Z"
   },
   {
    "duration": 34,
    "start_time": "2022-10-12T07:16:46.430Z"
   },
   {
    "duration": 14,
    "start_time": "2022-10-12T07:16:58.551Z"
   },
   {
    "duration": 286,
    "start_time": "2022-10-12T07:17:26.662Z"
   },
   {
    "duration": 411,
    "start_time": "2022-10-12T07:17:34.983Z"
   },
   {
    "duration": 9,
    "start_time": "2022-10-12T07:18:42.798Z"
   },
   {
    "duration": 314,
    "start_time": "2022-10-12T07:19:23.023Z"
   },
   {
    "duration": 253,
    "start_time": "2022-10-12T07:19:50.168Z"
   },
   {
    "duration": 10,
    "start_time": "2022-10-12T07:22:02.856Z"
   },
   {
    "duration": 189,
    "start_time": "2022-10-12T07:22:19.248Z"
   },
   {
    "duration": 203,
    "start_time": "2022-10-12T07:22:30.713Z"
   },
   {
    "duration": 188,
    "start_time": "2022-10-12T07:22:38.384Z"
   },
   {
    "duration": 186,
    "start_time": "2022-10-12T07:22:45.065Z"
   },
   {
    "duration": 229,
    "start_time": "2022-10-12T07:22:52.189Z"
   },
   {
    "duration": 183,
    "start_time": "2022-10-12T07:23:06.816Z"
   },
   {
    "duration": 211,
    "start_time": "2022-10-12T07:23:13.265Z"
   },
   {
    "duration": 175,
    "start_time": "2022-10-12T07:23:24.161Z"
   },
   {
    "duration": 323,
    "start_time": "2022-10-12T07:23:40.328Z"
   },
   {
    "duration": 186,
    "start_time": "2022-10-12T07:23:48.545Z"
   },
   {
    "duration": 169,
    "start_time": "2022-10-12T07:25:29.178Z"
   },
   {
    "duration": 191,
    "start_time": "2022-10-12T07:25:43.153Z"
   },
   {
    "duration": 206,
    "start_time": "2022-10-12T07:26:13.914Z"
   },
   {
    "duration": 11,
    "start_time": "2022-10-12T07:27:35.834Z"
   },
   {
    "duration": 10,
    "start_time": "2022-10-12T07:28:29.314Z"
   },
   {
    "duration": 300,
    "start_time": "2022-10-12T07:29:31.644Z"
   },
   {
    "duration": 313,
    "start_time": "2022-10-12T07:29:42.883Z"
   },
   {
    "duration": 10,
    "start_time": "2022-10-12T07:54:02.108Z"
   },
   {
    "duration": 362,
    "start_time": "2022-10-12T07:55:17.747Z"
   },
   {
    "duration": 342,
    "start_time": "2022-10-12T07:55:26.379Z"
   },
   {
    "duration": 11,
    "start_time": "2022-10-12T07:56:18.276Z"
   },
   {
    "duration": 394,
    "start_time": "2022-10-12T07:56:31.683Z"
   },
   {
    "duration": 375,
    "start_time": "2022-10-12T08:03:52.863Z"
   },
   {
    "duration": 191,
    "start_time": "2022-10-12T08:04:47.286Z"
   },
   {
    "duration": 302,
    "start_time": "2022-10-12T08:05:19.362Z"
   },
   {
    "duration": 497,
    "start_time": "2022-10-12T08:17:04.656Z"
   },
   {
    "duration": 245,
    "start_time": "2022-10-12T08:17:28.524Z"
   },
   {
    "duration": 9,
    "start_time": "2022-10-12T08:36:36.973Z"
   },
   {
    "duration": 12,
    "start_time": "2022-10-12T08:36:44.400Z"
   },
   {
    "duration": 13,
    "start_time": "2022-10-12T08:37:20.017Z"
   },
   {
    "duration": 14,
    "start_time": "2022-10-12T08:38:37.926Z"
   },
   {
    "duration": 30,
    "start_time": "2022-10-12T08:38:56.077Z"
   },
   {
    "duration": 14656,
    "start_time": "2022-10-12T08:39:59.885Z"
   },
   {
    "duration": 29,
    "start_time": "2022-10-12T08:40:14.544Z"
   },
   {
    "duration": 13672,
    "start_time": "2022-10-12T08:40:17.509Z"
   },
   {
    "duration": 15276,
    "start_time": "2022-10-12T08:41:09.814Z"
   },
   {
    "duration": 14966,
    "start_time": "2022-10-12T08:41:36.086Z"
   },
   {
    "duration": 12,
    "start_time": "2022-10-12T08:49:21.361Z"
   },
   {
    "duration": 10,
    "start_time": "2022-10-12T08:50:12.705Z"
   },
   {
    "duration": 29,
    "start_time": "2022-10-12T08:50:20.601Z"
   },
   {
    "duration": 28,
    "start_time": "2022-10-12T08:52:19.090Z"
   },
   {
    "duration": 31,
    "start_time": "2022-10-12T08:52:37.522Z"
   },
   {
    "duration": 39,
    "start_time": "2022-10-12T08:53:37.842Z"
   },
   {
    "duration": 47,
    "start_time": "2022-10-12T08:54:08.307Z"
   },
   {
    "duration": 35,
    "start_time": "2022-10-12T08:56:58.204Z"
   },
   {
    "duration": 41,
    "start_time": "2022-10-12T08:57:08.060Z"
   },
   {
    "duration": 36,
    "start_time": "2022-10-12T08:57:16.316Z"
   },
   {
    "duration": 99,
    "start_time": "2022-10-12T09:01:20.508Z"
   },
   {
    "duration": 26,
    "start_time": "2022-10-12T09:01:35.909Z"
   },
   {
    "duration": 145,
    "start_time": "2022-10-12T09:01:42.398Z"
   },
   {
    "duration": 18,
    "start_time": "2022-10-12T09:01:42.546Z"
   },
   {
    "duration": 332,
    "start_time": "2022-10-12T09:01:42.566Z"
   },
   {
    "duration": 11,
    "start_time": "2022-10-12T09:01:42.900Z"
   },
   {
    "duration": 84,
    "start_time": "2022-10-12T09:01:42.915Z"
   },
   {
    "duration": 14,
    "start_time": "2022-10-12T09:01:43.002Z"
   },
   {
    "duration": 1172,
    "start_time": "2022-10-12T09:01:43.019Z"
   },
   {
    "duration": 1458,
    "start_time": "2022-10-12T09:01:44.194Z"
   },
   {
    "duration": 0,
    "start_time": "2022-10-12T09:01:45.654Z"
   },
   {
    "duration": 0,
    "start_time": "2022-10-12T09:01:45.656Z"
   },
   {
    "duration": 0,
    "start_time": "2022-10-12T09:01:45.659Z"
   },
   {
    "duration": 0,
    "start_time": "2022-10-12T09:01:45.660Z"
   },
   {
    "duration": 0,
    "start_time": "2022-10-12T09:01:45.662Z"
   },
   {
    "duration": 0,
    "start_time": "2022-10-12T09:01:45.663Z"
   },
   {
    "duration": 0,
    "start_time": "2022-10-12T09:01:45.664Z"
   },
   {
    "duration": 0,
    "start_time": "2022-10-12T09:01:45.666Z"
   },
   {
    "duration": 0,
    "start_time": "2022-10-12T09:01:45.668Z"
   },
   {
    "duration": 0,
    "start_time": "2022-10-12T09:01:45.669Z"
   },
   {
    "duration": 0,
    "start_time": "2022-10-12T09:01:45.671Z"
   },
   {
    "duration": 0,
    "start_time": "2022-10-12T09:01:45.673Z"
   },
   {
    "duration": 0,
    "start_time": "2022-10-12T09:01:45.675Z"
   },
   {
    "duration": 0,
    "start_time": "2022-10-12T09:01:45.676Z"
   },
   {
    "duration": 0,
    "start_time": "2022-10-12T09:01:45.677Z"
   },
   {
    "duration": 0,
    "start_time": "2022-10-12T09:01:45.679Z"
   },
   {
    "duration": 0,
    "start_time": "2022-10-12T09:01:45.682Z"
   },
   {
    "duration": 180,
    "start_time": "2022-10-12T09:01:59.373Z"
   },
   {
    "duration": 26,
    "start_time": "2022-10-12T09:01:59.580Z"
   },
   {
    "duration": 351,
    "start_time": "2022-10-12T09:02:00.341Z"
   },
   {
    "duration": 12,
    "start_time": "2022-10-12T09:02:00.696Z"
   },
   {
    "duration": 64,
    "start_time": "2022-10-12T09:02:00.925Z"
   },
   {
    "duration": 17,
    "start_time": "2022-10-12T09:02:01.525Z"
   },
   {
    "duration": 78,
    "start_time": "2022-10-12T09:02:01.938Z"
   },
   {
    "duration": 1366,
    "start_time": "2022-10-12T09:02:02.557Z"
   },
   {
    "duration": 0,
    "start_time": "2022-10-12T09:02:03.925Z"
   },
   {
    "duration": 0,
    "start_time": "2022-10-12T09:02:03.926Z"
   },
   {
    "duration": 0,
    "start_time": "2022-10-12T09:02:03.927Z"
   },
   {
    "duration": 9,
    "start_time": "2022-10-12T09:02:04.028Z"
   },
   {
    "duration": 381,
    "start_time": "2022-10-12T09:02:04.229Z"
   },
   {
    "duration": 11,
    "start_time": "2022-10-12T09:02:04.654Z"
   },
   {
    "duration": 308,
    "start_time": "2022-10-12T09:02:04.876Z"
   },
   {
    "duration": 196,
    "start_time": "2022-10-12T09:02:05.300Z"
   },
   {
    "duration": 222,
    "start_time": "2022-10-12T09:02:05.732Z"
   },
   {
    "duration": 17,
    "start_time": "2022-10-12T09:02:06.396Z"
   },
   {
    "duration": 9,
    "start_time": "2022-10-12T09:02:06.622Z"
   },
   {
    "duration": 11,
    "start_time": "2022-10-12T09:02:06.836Z"
   },
   {
    "duration": 290,
    "start_time": "2022-10-12T09:02:07.052Z"
   },
   {
    "duration": 15,
    "start_time": "2022-10-12T09:02:07.692Z"
   },
   {
    "duration": 14,
    "start_time": "2022-10-12T09:02:07.924Z"
   },
   {
    "duration": 23,
    "start_time": "2022-10-12T09:02:09.348Z"
   },
   {
    "duration": 11,
    "start_time": "2022-10-12T09:02:12.803Z"
   },
   {
    "duration": 23,
    "start_time": "2022-10-12T09:02:38.175Z"
   },
   {
    "duration": 45,
    "start_time": "2022-10-12T09:02:39.389Z"
   },
   {
    "duration": 17,
    "start_time": "2022-10-12T09:03:06.861Z"
   },
   {
    "duration": 29,
    "start_time": "2022-10-12T09:03:07.964Z"
   },
   {
    "duration": 633,
    "start_time": "2022-10-12T09:03:27.260Z"
   },
   {
    "duration": 19,
    "start_time": "2022-10-12T09:03:27.896Z"
   },
   {
    "duration": 632,
    "start_time": "2022-10-12T09:03:27.917Z"
   },
   {
    "duration": 11,
    "start_time": "2022-10-12T09:03:28.552Z"
   },
   {
    "duration": 73,
    "start_time": "2022-10-12T09:03:28.565Z"
   },
   {
    "duration": 11,
    "start_time": "2022-10-12T09:03:28.640Z"
   },
   {
    "duration": 63,
    "start_time": "2022-10-12T09:03:28.653Z"
   },
   {
    "duration": 19,
    "start_time": "2022-10-12T09:03:28.718Z"
   },
   {
    "duration": 63,
    "start_time": "2022-10-12T09:03:28.740Z"
   },
   {
    "duration": 7,
    "start_time": "2022-10-12T09:03:28.807Z"
   },
   {
    "duration": 48,
    "start_time": "2022-10-12T09:03:28.817Z"
   },
   {
    "duration": 27,
    "start_time": "2022-10-12T09:03:28.868Z"
   },
   {
    "duration": 372,
    "start_time": "2022-10-12T09:03:28.898Z"
   },
   {
    "duration": 18,
    "start_time": "2022-10-12T09:03:29.273Z"
   },
   {
    "duration": 287,
    "start_time": "2022-10-12T09:03:29.293Z"
   },
   {
    "duration": 179,
    "start_time": "2022-10-12T09:03:29.588Z"
   },
   {
    "duration": 196,
    "start_time": "2022-10-12T09:03:29.769Z"
   },
   {
    "duration": 23,
    "start_time": "2022-10-12T09:03:29.968Z"
   },
   {
    "duration": 8,
    "start_time": "2022-10-12T09:03:29.993Z"
   },
   {
    "duration": 10,
    "start_time": "2022-10-12T09:03:30.003Z"
   },
   {
    "duration": 341,
    "start_time": "2022-10-12T09:03:30.015Z"
   },
   {
    "duration": 41,
    "start_time": "2022-10-12T09:03:30.358Z"
   },
   {
    "duration": 14537,
    "start_time": "2022-10-12T09:03:30.401Z"
   },
   {
    "duration": 32,
    "start_time": "2022-10-12T09:03:44.940Z"
   },
   {
    "duration": 106,
    "start_time": "2022-10-12T09:03:44.974Z"
   },
   {
    "duration": 15,
    "start_time": "2022-10-12T09:04:48.389Z"
   },
   {
    "duration": 23,
    "start_time": "2022-10-12T09:05:15.680Z"
   },
   {
    "duration": 16,
    "start_time": "2022-10-12T09:10:00.549Z"
   },
   {
    "duration": 9,
    "start_time": "2022-10-12T09:10:14.342Z"
   },
   {
    "duration": 11,
    "start_time": "2022-10-12T09:10:22.406Z"
   },
   {
    "duration": 45,
    "start_time": "2022-10-12T09:18:16.758Z"
   },
   {
    "duration": 30,
    "start_time": "2022-10-12T09:18:21.017Z"
   },
   {
    "duration": 101,
    "start_time": "2022-10-12T09:18:45.082Z"
   },
   {
    "duration": 18316,
    "start_time": "2022-10-12T09:19:07.681Z"
   },
   {
    "duration": 1784,
    "start_time": "2022-10-12T09:24:50.418Z"
   },
   {
    "duration": 7,
    "start_time": "2022-10-12T09:25:06.103Z"
   },
   {
    "duration": 272,
    "start_time": "2022-10-12T09:27:42.412Z"
   },
   {
    "duration": 85,
    "start_time": "2022-10-12T09:28:05.164Z"
   },
   {
    "duration": 16,
    "start_time": "2022-10-12T09:29:12.164Z"
   },
   {
    "duration": 9,
    "start_time": "2022-10-12T09:30:37.509Z"
   },
   {
    "duration": 5,
    "start_time": "2022-10-12T09:30:43.654Z"
   },
   {
    "duration": 11,
    "start_time": "2022-10-12T09:31:08.917Z"
   },
   {
    "duration": 11,
    "start_time": "2022-10-12T09:32:24.958Z"
   },
   {
    "duration": 161,
    "start_time": "2022-10-12T10:35:21.948Z"
   },
   {
    "duration": 19,
    "start_time": "2022-10-12T10:35:22.112Z"
   },
   {
    "duration": 313,
    "start_time": "2022-10-12T10:35:22.135Z"
   },
   {
    "duration": 9,
    "start_time": "2022-10-12T10:35:22.450Z"
   },
   {
    "duration": 57,
    "start_time": "2022-10-12T10:35:22.462Z"
   },
   {
    "duration": 10,
    "start_time": "2022-10-12T10:35:22.521Z"
   },
   {
    "duration": 66,
    "start_time": "2022-10-12T10:35:22.533Z"
   },
   {
    "duration": 16,
    "start_time": "2022-10-12T10:35:22.600Z"
   },
   {
    "duration": 28,
    "start_time": "2022-10-12T10:35:22.618Z"
   },
   {
    "duration": 6,
    "start_time": "2022-10-12T10:35:22.649Z"
   },
   {
    "duration": 61,
    "start_time": "2022-10-12T10:35:22.656Z"
   },
   {
    "duration": 8,
    "start_time": "2022-10-12T10:35:22.718Z"
   },
   {
    "duration": 307,
    "start_time": "2022-10-12T10:35:22.728Z"
   },
   {
    "duration": 7,
    "start_time": "2022-10-12T10:35:23.040Z"
   },
   {
    "duration": 267,
    "start_time": "2022-10-12T10:35:23.049Z"
   },
   {
    "duration": 509,
    "start_time": "2022-10-12T10:35:23.318Z"
   },
   {
    "duration": 186,
    "start_time": "2022-10-12T10:35:23.829Z"
   },
   {
    "duration": 13,
    "start_time": "2022-10-12T10:35:24.017Z"
   },
   {
    "duration": 7,
    "start_time": "2022-10-12T10:35:24.032Z"
   },
   {
    "duration": 11,
    "start_time": "2022-10-12T10:35:24.041Z"
   },
   {
    "duration": 311,
    "start_time": "2022-10-12T10:35:24.054Z"
   },
   {
    "duration": 41,
    "start_time": "2022-10-12T10:35:24.367Z"
   },
   {
    "duration": 17107,
    "start_time": "2022-10-12T10:35:24.410Z"
   },
   {
    "duration": 10,
    "start_time": "2022-10-12T10:35:41.520Z"
   },
   {
    "duration": 46,
    "start_time": "2022-10-12T10:35:41.532Z"
   },
   {
    "duration": 15,
    "start_time": "2022-10-12T10:35:41.591Z"
   },
   {
    "duration": 15,
    "start_time": "2022-10-13T13:38:25.532Z"
   },
   {
    "duration": 66,
    "start_time": "2022-10-13T13:45:39.796Z"
   },
   {
    "duration": 13,
    "start_time": "2022-10-13T13:46:22.795Z"
   },
   {
    "duration": 10,
    "start_time": "2022-10-13T13:47:03.028Z"
   },
   {
    "duration": 415,
    "start_time": "2022-10-13T13:47:58.189Z"
   },
   {
    "duration": 63,
    "start_time": "2022-10-13T13:49:19.748Z"
   },
   {
    "duration": 12,
    "start_time": "2022-10-13T13:50:01.573Z"
   },
   {
    "duration": 58,
    "start_time": "2022-10-13T13:50:06.476Z"
   },
   {
    "duration": 58,
    "start_time": "2022-10-13T13:50:08.860Z"
   },
   {
    "duration": 166,
    "start_time": "2022-10-13T13:50:13.379Z"
   },
   {
    "duration": 83,
    "start_time": "2022-10-13T13:51:30.151Z"
   },
   {
    "duration": 71,
    "start_time": "2022-10-13T13:51:36.395Z"
   },
   {
    "duration": 127,
    "start_time": "2022-10-13T13:51:47.331Z"
   },
   {
    "duration": 85,
    "start_time": "2022-10-13T13:52:01.731Z"
   },
   {
    "duration": 162,
    "start_time": "2022-10-13T13:52:23.500Z"
   },
   {
    "duration": 65,
    "start_time": "2022-10-13T13:52:34.188Z"
   },
   {
    "duration": 67,
    "start_time": "2022-10-13T13:52:44.765Z"
   },
   {
    "duration": 10,
    "start_time": "2022-10-13T13:53:00.772Z"
   },
   {
    "duration": 69,
    "start_time": "2022-10-13T14:02:47.935Z"
   },
   {
    "duration": 59,
    "start_time": "2022-10-13T14:02:58.847Z"
   },
   {
    "duration": 189,
    "start_time": "2022-10-13T14:03:06.542Z"
   },
   {
    "duration": 81,
    "start_time": "2022-10-13T14:05:31.078Z"
   },
   {
    "duration": 164,
    "start_time": "2022-10-13T14:13:15.226Z"
   },
   {
    "duration": 23,
    "start_time": "2022-10-13T14:13:16.096Z"
   },
   {
    "duration": 373,
    "start_time": "2022-10-13T14:13:19.722Z"
   },
   {
    "duration": 197,
    "start_time": "2022-10-13T14:13:21.050Z"
   },
   {
    "duration": 125,
    "start_time": "2022-10-13T14:13:31.804Z"
   },
   {
    "duration": 97,
    "start_time": "2022-10-13T14:14:09.946Z"
   },
   {
    "duration": 653,
    "start_time": "2022-10-13T14:14:29.354Z"
   },
   {
    "duration": 25,
    "start_time": "2022-10-13T14:14:30.106Z"
   },
   {
    "duration": 592,
    "start_time": "2022-10-13T14:14:33.410Z"
   },
   {
    "duration": 110,
    "start_time": "2022-10-13T14:14:34.379Z"
   },
   {
    "duration": 137,
    "start_time": "2022-10-13T14:14:51.275Z"
   },
   {
    "duration": 36,
    "start_time": "2022-10-13T14:15:14.787Z"
   },
   {
    "duration": 170,
    "start_time": "2022-10-13T14:15:30.587Z"
   },
   {
    "duration": 22,
    "start_time": "2022-10-13T14:15:31.635Z"
   },
   {
    "duration": 313,
    "start_time": "2022-10-13T14:15:36.170Z"
   },
   {
    "duration": 39,
    "start_time": "2022-10-13T14:15:37.300Z"
   },
   {
    "duration": 44,
    "start_time": "2022-10-13T14:16:45.108Z"
   },
   {
    "duration": 38,
    "start_time": "2022-10-13T14:16:49.804Z"
   },
   {
    "duration": 37,
    "start_time": "2022-10-13T14:16:55.307Z"
   },
   {
    "duration": 43,
    "start_time": "2022-10-13T14:17:36.100Z"
   },
   {
    "duration": 48,
    "start_time": "2022-10-13T14:17:44.661Z"
   },
   {
    "duration": 48,
    "start_time": "2022-10-13T14:18:51.763Z"
   },
   {
    "duration": 85,
    "start_time": "2022-10-13T14:19:05.573Z"
   },
   {
    "duration": 48,
    "start_time": "2022-10-13T14:20:27.421Z"
   },
   {
    "duration": 117,
    "start_time": "2022-10-13T14:21:49.398Z"
   },
   {
    "duration": 122,
    "start_time": "2022-10-13T14:22:03.997Z"
   },
   {
    "duration": 105,
    "start_time": "2022-10-13T14:22:40.246Z"
   },
   {
    "duration": 1303,
    "start_time": "2022-10-13T14:23:07.709Z"
   },
   {
    "duration": 116,
    "start_time": "2022-10-13T14:23:13.743Z"
   },
   {
    "duration": 118,
    "start_time": "2022-10-13T14:26:30.815Z"
   },
   {
    "duration": 113,
    "start_time": "2022-10-13T14:26:55.005Z"
   },
   {
    "duration": 128,
    "start_time": "2022-10-13T14:27:25.839Z"
   },
   {
    "duration": 118,
    "start_time": "2022-10-13T14:27:33.583Z"
   },
   {
    "duration": 44,
    "start_time": "2022-10-13T14:27:34.614Z"
   },
   {
    "duration": 12,
    "start_time": "2022-10-13T14:27:35.437Z"
   },
   {
    "duration": 107,
    "start_time": "2022-10-13T14:27:35.854Z"
   },
   {
    "duration": 21,
    "start_time": "2022-10-13T14:27:36.925Z"
   },
   {
    "duration": 30,
    "start_time": "2022-10-13T14:27:37.150Z"
   },
   {
    "duration": 8,
    "start_time": "2022-10-13T14:27:37.357Z"
   },
   {
    "duration": 37,
    "start_time": "2022-10-13T14:27:38.869Z"
   },
   {
    "duration": 11,
    "start_time": "2022-10-13T14:27:39.181Z"
   },
   {
    "duration": 277,
    "start_time": "2022-10-13T14:27:39.429Z"
   },
   {
    "duration": 8,
    "start_time": "2022-10-13T14:27:39.887Z"
   },
   {
    "duration": 242,
    "start_time": "2022-10-13T14:27:40.101Z"
   },
   {
    "duration": 169,
    "start_time": "2022-10-13T14:27:40.533Z"
   },
   {
    "duration": 188,
    "start_time": "2022-10-13T14:27:40.974Z"
   },
   {
    "duration": 14,
    "start_time": "2022-10-13T14:27:41.917Z"
   },
   {
    "duration": 7,
    "start_time": "2022-10-13T14:27:42.157Z"
   },
   {
    "duration": 10,
    "start_time": "2022-10-13T14:27:42.381Z"
   },
   {
    "duration": 292,
    "start_time": "2022-10-13T14:27:42.606Z"
   },
   {
    "duration": 34,
    "start_time": "2022-10-13T14:27:43.534Z"
   },
   {
    "duration": 17899,
    "start_time": "2022-10-13T14:27:43.766Z"
   },
   {
    "duration": 13,
    "start_time": "2022-10-13T14:28:01.668Z"
   },
   {
    "duration": 50,
    "start_time": "2022-10-13T14:28:01.683Z"
   },
   {
    "duration": 19,
    "start_time": "2022-10-13T14:28:01.735Z"
   },
   {
    "duration": 15,
    "start_time": "2022-10-13T14:32:56.448Z"
   },
   {
    "duration": 411,
    "start_time": "2022-10-13T14:42:11.851Z"
   },
   {
    "duration": 352,
    "start_time": "2022-10-13T14:42:53.708Z"
   },
   {
    "duration": 349,
    "start_time": "2022-10-13T14:43:26.091Z"
   },
   {
    "duration": 354,
    "start_time": "2022-10-13T14:43:51.171Z"
   },
   {
    "duration": 87,
    "start_time": "2022-10-13T14:44:00.556Z"
   },
   {
    "duration": 14,
    "start_time": "2022-10-13T14:44:07.700Z"
   },
   {
    "duration": 637,
    "start_time": "2022-10-13T14:44:27.242Z"
   },
   {
    "duration": 278,
    "start_time": "2022-10-13T14:44:39.579Z"
   },
   {
    "duration": 287,
    "start_time": "2022-10-13T14:44:56.884Z"
   },
   {
    "duration": 1190,
    "start_time": "2022-10-13T14:45:05.734Z"
   },
   {
    "duration": 1384,
    "start_time": "2022-10-13T14:45:14.172Z"
   },
   {
    "duration": 11,
    "start_time": "2022-10-13T14:46:13.421Z"
   },
   {
    "duration": 292,
    "start_time": "2022-10-13T14:46:29.868Z"
   },
   {
    "duration": 341,
    "start_time": "2022-10-13T14:47:37.294Z"
   },
   {
    "duration": 391,
    "start_time": "2022-10-13T14:47:49.549Z"
   },
   {
    "duration": 1486,
    "start_time": "2022-10-13T14:48:17.485Z"
   },
   {
    "duration": 271,
    "start_time": "2022-10-13T14:48:35.798Z"
   },
   {
    "duration": 275,
    "start_time": "2022-10-13T14:49:54.224Z"
   },
   {
    "duration": 15,
    "start_time": "2022-10-13T14:49:57.092Z"
   },
   {
    "duration": 292,
    "start_time": "2022-10-13T14:50:05.157Z"
   },
   {
    "duration": 284,
    "start_time": "2022-10-13T14:51:06.614Z"
   },
   {
    "duration": 286,
    "start_time": "2022-10-13T14:51:26.991Z"
   },
   {
    "duration": 1403,
    "start_time": "2022-10-13T14:53:35.398Z"
   },
   {
    "duration": 178,
    "start_time": "2022-10-13T14:53:57.415Z"
   },
   {
    "duration": 170,
    "start_time": "2022-10-13T14:56:42.830Z"
   },
   {
    "duration": 16,
    "start_time": "2022-10-13T14:56:45.552Z"
   },
   {
    "duration": 19,
    "start_time": "2022-10-13T14:57:08.303Z"
   },
   {
    "duration": 12,
    "start_time": "2022-10-14T05:43:10.068Z"
   },
   {
    "duration": 10,
    "start_time": "2022-10-14T05:43:24.156Z"
   },
   {
    "duration": 32,
    "start_time": "2022-10-14T05:44:14.027Z"
   },
   {
    "duration": 22,
    "start_time": "2022-10-14T05:47:46.204Z"
   },
   {
    "duration": 18,
    "start_time": "2022-10-14T05:48:21.819Z"
   },
   {
    "duration": 281,
    "start_time": "2022-10-14T05:48:52.265Z"
   },
   {
    "duration": 19,
    "start_time": "2022-10-14T05:49:05.640Z"
   },
   {
    "duration": 246,
    "start_time": "2022-10-14T05:49:17.648Z"
   },
   {
    "duration": 273,
    "start_time": "2022-10-14T05:49:30.968Z"
   },
   {
    "duration": 277,
    "start_time": "2022-10-14T05:49:58.344Z"
   },
   {
    "duration": 229,
    "start_time": "2022-10-14T05:50:22.353Z"
   },
   {
    "duration": 239,
    "start_time": "2022-10-14T05:50:52.352Z"
   },
   {
    "duration": 230,
    "start_time": "2022-10-14T05:51:29.729Z"
   },
   {
    "duration": 259,
    "start_time": "2022-10-14T05:52:05.162Z"
   },
   {
    "duration": 260,
    "start_time": "2022-10-14T05:52:43.491Z"
   },
   {
    "duration": 527,
    "start_time": "2022-10-14T05:53:17.050Z"
   },
   {
    "duration": 340,
    "start_time": "2022-10-14T05:54:11.980Z"
   },
   {
    "duration": 244,
    "start_time": "2022-10-14T05:54:25.416Z"
   },
   {
    "duration": 269,
    "start_time": "2022-10-14T05:54:33.252Z"
   },
   {
    "duration": 239,
    "start_time": "2022-10-14T05:54:45.532Z"
   },
   {
    "duration": 280,
    "start_time": "2022-10-14T05:55:44.236Z"
   },
   {
    "duration": 233,
    "start_time": "2022-10-14T05:55:49.668Z"
   },
   {
    "duration": 326,
    "start_time": "2022-10-14T05:59:15.894Z"
   },
   {
    "duration": 370,
    "start_time": "2022-10-14T05:59:21.593Z"
   },
   {
    "duration": 273,
    "start_time": "2022-10-14T05:59:31.950Z"
   },
   {
    "duration": 171,
    "start_time": "2022-10-14T05:59:48.910Z"
   },
   {
    "duration": 190,
    "start_time": "2022-10-14T05:59:56.135Z"
   },
   {
    "duration": 31,
    "start_time": "2022-10-14T06:00:07.084Z"
   },
   {
    "duration": 609,
    "start_time": "2022-10-14T06:00:28.294Z"
   },
   {
    "duration": 19,
    "start_time": "2022-10-14T06:00:28.906Z"
   },
   {
    "duration": 28,
    "start_time": "2022-10-14T06:00:29.698Z"
   },
   {
    "duration": 549,
    "start_time": "2022-10-14T06:00:39.594Z"
   },
   {
    "duration": 261,
    "start_time": "2022-10-14T06:00:40.857Z"
   },
   {
    "duration": 270,
    "start_time": "2022-10-14T06:00:45.082Z"
   },
   {
    "duration": 428,
    "start_time": "2022-10-14T06:01:07.657Z"
   },
   {
    "duration": 144,
    "start_time": "2022-10-14T06:01:12.899Z"
   },
   {
    "duration": 211,
    "start_time": "2022-10-14T06:03:18.472Z"
   },
   {
    "duration": 248,
    "start_time": "2022-10-14T06:03:29.970Z"
   },
   {
    "duration": 249,
    "start_time": "2022-10-14T06:03:44.091Z"
   },
   {
    "duration": 240,
    "start_time": "2022-10-14T06:03:50.076Z"
   },
   {
    "duration": 237,
    "start_time": "2022-10-14T06:03:56.924Z"
   },
   {
    "duration": 273,
    "start_time": "2022-10-14T06:04:07.556Z"
   },
   {
    "duration": 222,
    "start_time": "2022-10-14T06:04:34.333Z"
   },
   {
    "duration": 207,
    "start_time": "2022-10-14T06:08:26.623Z"
   },
   {
    "duration": 254,
    "start_time": "2022-10-14T06:08:54.903Z"
   },
   {
    "duration": 257,
    "start_time": "2022-10-14T07:02:00.611Z"
   },
   {
    "duration": 206,
    "start_time": "2022-10-14T07:02:05.840Z"
   },
   {
    "duration": 133,
    "start_time": "2022-10-14T07:05:18.445Z"
   },
   {
    "duration": 18,
    "start_time": "2022-10-14T07:05:19.092Z"
   },
   {
    "duration": 23,
    "start_time": "2022-10-14T07:05:19.746Z"
   },
   {
    "duration": 238,
    "start_time": "2022-10-14T07:05:20.325Z"
   },
   {
    "duration": 220,
    "start_time": "2022-10-14T07:05:20.942Z"
   },
   {
    "duration": 186,
    "start_time": "2022-10-14T07:05:21.651Z"
   },
   {
    "duration": 176,
    "start_time": "2022-10-14T07:05:22.460Z"
   },
   {
    "duration": 264,
    "start_time": "2022-10-14T07:05:23.349Z"
   },
   {
    "duration": 33,
    "start_time": "2022-10-14T07:06:07.749Z"
   },
   {
    "duration": 129,
    "start_time": "2022-10-14T07:32:25.560Z"
   },
   {
    "duration": 102,
    "start_time": "2022-10-14T07:32:41.052Z"
   },
   {
    "duration": 41,
    "start_time": "2022-10-14T07:35:25.453Z"
   },
   {
    "duration": 123,
    "start_time": "2022-10-14T07:35:47.522Z"
   },
   {
    "duration": 31,
    "start_time": "2022-10-14T07:35:51.393Z"
   },
   {
    "duration": 30,
    "start_time": "2022-10-14T07:36:17.057Z"
   },
   {
    "duration": 109,
    "start_time": "2022-10-14T07:37:43.750Z"
   },
   {
    "duration": 39,
    "start_time": "2022-10-14T07:38:07.275Z"
   },
   {
    "duration": 17,
    "start_time": "2022-10-14T07:38:58.725Z"
   },
   {
    "duration": 111,
    "start_time": "2022-10-14T07:39:03.099Z"
   },
   {
    "duration": 41,
    "start_time": "2022-10-14T07:39:06.397Z"
   },
   {
    "duration": 36,
    "start_time": "2022-10-14T07:41:09.950Z"
   },
   {
    "duration": 31,
    "start_time": "2022-10-14T07:45:31.654Z"
   },
   {
    "duration": 116,
    "start_time": "2022-10-14T07:48:50.456Z"
   },
   {
    "duration": 30,
    "start_time": "2022-10-14T07:49:51.257Z"
   },
   {
    "duration": 34,
    "start_time": "2022-10-14T07:53:42.408Z"
   },
   {
    "duration": 11,
    "start_time": "2022-10-14T07:53:45.256Z"
   },
   {
    "duration": 50,
    "start_time": "2022-10-14T07:53:47.832Z"
   },
   {
    "duration": 20,
    "start_time": "2022-10-14T07:53:53.376Z"
   },
   {
    "duration": 25,
    "start_time": "2022-10-14T07:53:56.665Z"
   },
   {
    "duration": 6,
    "start_time": "2022-10-14T07:54:00.451Z"
   },
   {
    "duration": 32,
    "start_time": "2022-10-14T07:54:10.633Z"
   },
   {
    "duration": 9,
    "start_time": "2022-10-14T07:54:11.288Z"
   },
   {
    "duration": 428,
    "start_time": "2022-10-14T07:54:13.081Z"
   },
   {
    "duration": 8,
    "start_time": "2022-10-14T07:54:15.031Z"
   },
   {
    "duration": 284,
    "start_time": "2022-10-14T07:54:17.313Z"
   },
   {
    "duration": 167,
    "start_time": "2022-10-14T07:54:18.999Z"
   },
   {
    "duration": 202,
    "start_time": "2022-10-14T07:54:21.556Z"
   },
   {
    "duration": 208,
    "start_time": "2022-10-14T07:54:46.177Z"
   },
   {
    "duration": 100,
    "start_time": "2022-10-14T07:54:58.576Z"
   },
   {
    "duration": 217,
    "start_time": "2022-10-14T07:55:10.633Z"
   },
   {
    "duration": 10,
    "start_time": "2022-10-14T07:56:13.650Z"
   },
   {
    "duration": 7,
    "start_time": "2022-10-14T07:56:15.121Z"
   },
   {
    "duration": 9,
    "start_time": "2022-10-14T07:56:15.577Z"
   },
   {
    "duration": 313,
    "start_time": "2022-10-14T07:56:16.348Z"
   },
   {
    "duration": 9,
    "start_time": "2022-10-14T07:57:04.266Z"
   },
   {
    "duration": 33,
    "start_time": "2022-10-14T07:59:06.212Z"
   },
   {
    "duration": 18211,
    "start_time": "2022-10-14T07:59:25.475Z"
   },
   {
    "duration": 39,
    "start_time": "2022-10-14T08:00:49.197Z"
   },
   {
    "duration": 2429,
    "start_time": "2022-10-14T08:01:01.053Z"
   },
   {
    "duration": 1984,
    "start_time": "2022-10-14T08:01:09.372Z"
   },
   {
    "duration": 3,
    "start_time": "2022-10-14T08:01:24.527Z"
   },
   {
    "duration": 2330,
    "start_time": "2022-10-14T08:01:59.589Z"
   },
   {
    "duration": 2121,
    "start_time": "2022-10-14T08:02:04.450Z"
   },
   {
    "duration": 1853,
    "start_time": "2022-10-14T08:03:58.148Z"
   },
   {
    "duration": 44,
    "start_time": "2022-10-14T08:04:48.498Z"
   },
   {
    "duration": 33,
    "start_time": "2022-10-14T08:07:16.246Z"
   },
   {
    "duration": 10,
    "start_time": "2022-10-14T08:08:17.164Z"
   },
   {
    "duration": 51,
    "start_time": "2022-10-14T08:08:17.923Z"
   },
   {
    "duration": 13,
    "start_time": "2022-10-14T08:08:19.003Z"
   },
   {
    "duration": 35,
    "start_time": "2022-10-14T08:08:19.229Z"
   },
   {
    "duration": 5,
    "start_time": "2022-10-14T08:08:19.804Z"
   },
   {
    "duration": 37,
    "start_time": "2022-10-14T08:08:22.372Z"
   },
   {
    "duration": 7,
    "start_time": "2022-10-14T08:08:23.147Z"
   },
   {
    "duration": 303,
    "start_time": "2022-10-14T08:08:27.846Z"
   },
   {
    "duration": 9,
    "start_time": "2022-10-14T08:08:29.260Z"
   },
   {
    "duration": 251,
    "start_time": "2022-10-14T08:08:30.108Z"
   },
   {
    "duration": 173,
    "start_time": "2022-10-14T08:08:33.948Z"
   },
   {
    "duration": 224,
    "start_time": "2022-10-14T08:08:35.317Z"
   },
   {
    "duration": 11,
    "start_time": "2022-10-14T08:08:42.876Z"
   },
   {
    "duration": 7,
    "start_time": "2022-10-14T08:08:45.068Z"
   },
   {
    "duration": 10,
    "start_time": "2022-10-14T08:08:45.588Z"
   },
   {
    "duration": 475,
    "start_time": "2022-10-14T08:08:46.293Z"
   },
   {
    "duration": 40,
    "start_time": "2022-10-14T08:08:49.908Z"
   },
   {
    "duration": 2129,
    "start_time": "2022-10-14T08:08:52.484Z"
   },
   {
    "duration": 2319,
    "start_time": "2022-10-14T08:08:54.616Z"
   },
   {
    "duration": 1957,
    "start_time": "2022-10-14T08:09:01.461Z"
   },
   {
    "duration": 1952,
    "start_time": "2022-10-14T08:09:13.582Z"
   },
   {
    "duration": 3,
    "start_time": "2022-10-14T08:09:16.509Z"
   },
   {
    "duration": 11,
    "start_time": "2022-10-14T08:09:19.188Z"
   },
   {
    "duration": 30,
    "start_time": "2022-10-14T08:09:21.101Z"
   },
   {
    "duration": 25,
    "start_time": "2022-10-14T08:09:28.757Z"
   },
   {
    "duration": 15,
    "start_time": "2022-10-14T08:09:48.893Z"
   },
   {
    "duration": 36,
    "start_time": "2022-10-14T08:11:13.390Z"
   },
   {
    "duration": 15,
    "start_time": "2022-10-14T08:11:15.526Z"
   },
   {
    "duration": 313,
    "start_time": "2022-10-14T08:11:16.013Z"
   },
   {
    "duration": 13,
    "start_time": "2022-10-14T08:11:17.205Z"
   },
   {
    "duration": 26,
    "start_time": "2022-10-14T08:11:17.421Z"
   },
   {
    "duration": 6,
    "start_time": "2022-10-14T08:11:17.653Z"
   },
   {
    "duration": 30,
    "start_time": "2022-10-14T08:11:21.077Z"
   },
   {
    "duration": 8,
    "start_time": "2022-10-14T08:11:21.780Z"
   },
   {
    "duration": 277,
    "start_time": "2022-10-14T08:11:22.581Z"
   },
   {
    "duration": 8,
    "start_time": "2022-10-14T08:11:24.516Z"
   },
   {
    "duration": 250,
    "start_time": "2022-10-14T08:11:25.405Z"
   },
   {
    "duration": 175,
    "start_time": "2022-10-14T08:11:26.012Z"
   },
   {
    "duration": 175,
    "start_time": "2022-10-14T08:11:26.965Z"
   },
   {
    "duration": 13,
    "start_time": "2022-10-14T08:11:32.861Z"
   },
   {
    "duration": 9,
    "start_time": "2022-10-14T08:11:33.649Z"
   },
   {
    "duration": 12,
    "start_time": "2022-10-14T08:11:34.325Z"
   },
   {
    "duration": 346,
    "start_time": "2022-10-14T08:11:35.550Z"
   },
   {
    "duration": 54,
    "start_time": "2022-10-14T08:11:39.581Z"
   },
   {
    "duration": 2532,
    "start_time": "2022-10-14T08:11:40.525Z"
   },
   {
    "duration": 2522,
    "start_time": "2022-10-14T08:11:43.060Z"
   },
   {
    "duration": 4,
    "start_time": "2022-10-14T08:11:58.566Z"
   },
   {
    "duration": 2027,
    "start_time": "2022-10-14T08:14:10.230Z"
   },
   {
    "duration": 1845,
    "start_time": "2022-10-14T08:14:44.549Z"
   },
   {
    "duration": 2368,
    "start_time": "2022-10-14T08:14:56.990Z"
   },
   {
    "duration": 1902,
    "start_time": "2022-10-14T08:15:08.719Z"
   },
   {
    "duration": 3505,
    "start_time": "2022-10-14T08:16:51.145Z"
   },
   {
    "duration": 2520,
    "start_time": "2022-10-14T08:17:01.272Z"
   },
   {
    "duration": 2617,
    "start_time": "2022-10-14T08:21:43.993Z"
   },
   {
    "duration": 2295,
    "start_time": "2022-10-14T08:21:46.612Z"
   },
   {
    "duration": 1366,
    "start_time": "2022-10-14T08:22:17.657Z"
   },
   {
    "duration": 2540,
    "start_time": "2022-10-14T08:22:47.274Z"
   },
   {
    "duration": 2169,
    "start_time": "2022-10-14T08:22:49.816Z"
   },
   {
    "duration": 15,
    "start_time": "2022-10-14T08:22:57.082Z"
   },
   {
    "duration": 2507,
    "start_time": "2022-10-14T08:23:05.650Z"
   },
   {
    "duration": 88,
    "start_time": "2022-10-14T08:29:08.924Z"
   },
   {
    "duration": 258,
    "start_time": "2022-10-14T08:29:21.588Z"
   },
   {
    "duration": 34,
    "start_time": "2022-10-14T08:32:11.917Z"
   },
   {
    "duration": 29,
    "start_time": "2022-10-14T08:32:17.332Z"
   },
   {
    "duration": 205,
    "start_time": "2022-10-14T08:33:02.109Z"
   },
   {
    "duration": 174,
    "start_time": "2022-10-14T08:33:09.157Z"
   },
   {
    "duration": 170,
    "start_time": "2022-10-14T08:33:27.406Z"
   },
   {
    "duration": 162,
    "start_time": "2022-10-14T08:33:39.901Z"
   },
   {
    "duration": 159,
    "start_time": "2022-10-14T08:33:54.593Z"
   },
   {
    "duration": 117,
    "start_time": "2022-10-14T08:34:01.887Z"
   },
   {
    "duration": 169,
    "start_time": "2022-10-14T08:34:08.958Z"
   },
   {
    "duration": 159,
    "start_time": "2022-10-14T08:34:19.965Z"
   },
   {
    "duration": 150,
    "start_time": "2022-10-14T08:34:32.117Z"
   },
   {
    "duration": 152,
    "start_time": "2022-10-14T08:34:39.944Z"
   },
   {
    "duration": 155,
    "start_time": "2022-10-14T08:35:06.518Z"
   },
   {
    "duration": 156,
    "start_time": "2022-10-14T08:35:20.639Z"
   },
   {
    "duration": 8,
    "start_time": "2022-10-14T08:41:00.126Z"
   },
   {
    "duration": 226,
    "start_time": "2022-10-14T08:41:22.566Z"
   },
   {
    "duration": 604,
    "start_time": "2022-10-14T08:44:07.830Z"
   },
   {
    "duration": 343,
    "start_time": "2022-10-14T08:44:23.493Z"
   },
   {
    "duration": 370,
    "start_time": "2022-10-14T08:45:51.584Z"
   },
   {
    "duration": 281,
    "start_time": "2022-10-14T08:49:24.502Z"
   },
   {
    "duration": 309,
    "start_time": "2022-10-14T08:50:09.591Z"
   },
   {
    "duration": 46,
    "start_time": "2022-10-14T08:51:44.245Z"
   },
   {
    "duration": 113,
    "start_time": "2022-10-14T08:54:20.378Z"
   },
   {
    "duration": 300,
    "start_time": "2022-10-14T08:54:25.216Z"
   },
   {
    "duration": 316,
    "start_time": "2022-10-14T08:54:46.753Z"
   },
   {
    "duration": 320,
    "start_time": "2022-10-14T08:56:17.361Z"
   },
   {
    "duration": 546,
    "start_time": "2022-10-14T08:56:32.604Z"
   },
   {
    "duration": 15,
    "start_time": "2022-10-14T08:56:33.152Z"
   },
   {
    "duration": 33,
    "start_time": "2022-10-14T08:56:33.169Z"
   },
   {
    "duration": 483,
    "start_time": "2022-10-14T08:56:33.941Z"
   },
   {
    "duration": 212,
    "start_time": "2022-10-14T08:56:34.453Z"
   },
   {
    "duration": 179,
    "start_time": "2022-10-14T08:56:35.085Z"
   },
   {
    "duration": 168,
    "start_time": "2022-10-14T08:56:35.694Z"
   },
   {
    "duration": 304,
    "start_time": "2022-10-14T08:56:37.214Z"
   },
   {
    "duration": 305,
    "start_time": "2022-10-14T08:56:41.117Z"
   },
   {
    "duration": 121,
    "start_time": "2022-10-14T08:57:52.238Z"
   },
   {
    "duration": 120,
    "start_time": "2022-10-14T08:58:41.686Z"
   },
   {
    "duration": 121,
    "start_time": "2022-10-14T08:58:52.495Z"
   },
   {
    "duration": 44,
    "start_time": "2022-10-14T08:58:55.997Z"
   },
   {
    "duration": 10,
    "start_time": "2022-10-14T08:59:04.214Z"
   },
   {
    "duration": 13,
    "start_time": "2022-10-14T09:00:12.103Z"
   },
   {
    "duration": 12,
    "start_time": "2022-10-14T09:00:21.687Z"
   },
   {
    "duration": 57,
    "start_time": "2022-10-14T09:01:29.334Z"
   },
   {
    "duration": 16,
    "start_time": "2022-10-14T09:03:22.639Z"
   },
   {
    "duration": 28,
    "start_time": "2022-10-14T09:03:23.065Z"
   },
   {
    "duration": 7,
    "start_time": "2022-10-14T09:03:23.439Z"
   },
   {
    "duration": 43,
    "start_time": "2022-10-14T09:03:28.438Z"
   },
   {
    "duration": 7,
    "start_time": "2022-10-14T09:03:32.479Z"
   },
   {
    "duration": 300,
    "start_time": "2022-10-14T09:03:33.279Z"
   },
   {
    "duration": 8,
    "start_time": "2022-10-14T09:03:34.582Z"
   },
   {
    "duration": 246,
    "start_time": "2022-10-14T09:03:35.487Z"
   },
   {
    "duration": 7,
    "start_time": "2022-10-14T09:03:36.734Z"
   },
   {
    "duration": 236,
    "start_time": "2022-10-14T09:03:36.993Z"
   },
   {
    "duration": 174,
    "start_time": "2022-10-14T09:03:37.456Z"
   },
   {
    "duration": 166,
    "start_time": "2022-10-14T09:03:37.903Z"
   },
   {
    "duration": 166,
    "start_time": "2022-10-14T09:03:38.131Z"
   },
   {
    "duration": 151,
    "start_time": "2022-10-14T09:03:38.356Z"
   },
   {
    "duration": 163,
    "start_time": "2022-10-14T09:05:29.369Z"
   },
   {
    "duration": 180,
    "start_time": "2022-10-14T09:06:27.977Z"
   },
   {
    "duration": 162,
    "start_time": "2022-10-14T09:07:12.352Z"
   },
   {
    "duration": 162,
    "start_time": "2022-10-14T09:07:15.936Z"
   },
   {
    "duration": 13,
    "start_time": "2022-10-14T09:07:18.215Z"
   },
   {
    "duration": 7,
    "start_time": "2022-10-14T09:07:18.904Z"
   },
   {
    "duration": 10,
    "start_time": "2022-10-14T09:07:19.689Z"
   },
   {
    "duration": 267,
    "start_time": "2022-10-14T09:07:24.328Z"
   },
   {
    "duration": 38,
    "start_time": "2022-10-14T09:07:27.280Z"
   },
   {
    "duration": 2468,
    "start_time": "2022-10-14T09:07:27.881Z"
   },
   {
    "duration": 2353,
    "start_time": "2022-10-14T09:07:30.351Z"
   },
   {
    "duration": 2361,
    "start_time": "2022-10-14T09:07:32.706Z"
   },
   {
    "duration": 2435,
    "start_time": "2022-10-14T09:07:35.070Z"
   },
   {
    "duration": 39,
    "start_time": "2022-10-14T09:07:41.015Z"
   },
   {
    "duration": 2432,
    "start_time": "2022-10-14T09:07:41.871Z"
   },
   {
    "duration": 2127,
    "start_time": "2022-10-14T09:07:44.306Z"
   },
   {
    "duration": 2490,
    "start_time": "2022-10-14T09:07:46.436Z"
   },
   {
    "duration": 2461,
    "start_time": "2022-10-14T09:07:48.928Z"
   },
   {
    "duration": 11,
    "start_time": "2022-10-14T09:07:51.391Z"
   },
   {
    "duration": 26,
    "start_time": "2022-10-14T09:07:51.440Z"
   },
   {
    "duration": 16,
    "start_time": "2022-10-14T09:07:54.103Z"
   },
   {
    "duration": 158,
    "start_time": "2022-10-14T09:07:54.752Z"
   },
   {
    "duration": 47,
    "start_time": "2022-10-14T09:09:21.522Z"
   },
   {
    "duration": 22,
    "start_time": "2022-10-14T09:09:43.524Z"
   },
   {
    "duration": 16,
    "start_time": "2022-10-14T09:09:47.617Z"
   },
   {
    "duration": 165,
    "start_time": "2022-10-14T09:09:48.434Z"
   },
   {
    "duration": 172,
    "start_time": "2022-10-14T09:16:47.832Z"
   },
   {
    "duration": 16,
    "start_time": "2022-10-14T09:16:48.007Z"
   },
   {
    "duration": 28,
    "start_time": "2022-10-14T09:16:48.025Z"
   },
   {
    "duration": 272,
    "start_time": "2022-10-14T09:16:48.056Z"
   },
   {
    "duration": 252,
    "start_time": "2022-10-14T09:16:48.331Z"
   },
   {
    "duration": 179,
    "start_time": "2022-10-14T09:16:48.588Z"
   },
   {
    "duration": 191,
    "start_time": "2022-10-14T09:16:48.769Z"
   },
   {
    "duration": 282,
    "start_time": "2022-10-14T09:16:48.962Z"
   },
   {
    "duration": 364,
    "start_time": "2022-10-14T09:16:49.246Z"
   },
   {
    "duration": 127,
    "start_time": "2022-10-14T09:16:49.613Z"
   },
   {
    "duration": 49,
    "start_time": "2022-10-14T09:16:49.742Z"
   },
   {
    "duration": 10,
    "start_time": "2022-10-14T09:16:49.794Z"
   },
   {
    "duration": 23,
    "start_time": "2022-10-14T09:16:49.806Z"
   },
   {
    "duration": 207,
    "start_time": "2022-10-14T09:16:49.831Z"
   },
   {
    "duration": 56,
    "start_time": "2022-10-14T09:16:50.040Z"
   },
   {
    "duration": 28,
    "start_time": "2022-10-14T09:16:50.099Z"
   },
   {
    "duration": 12,
    "start_time": "2022-10-14T09:16:50.129Z"
   },
   {
    "duration": 79,
    "start_time": "2022-10-14T09:16:50.143Z"
   },
   {
    "duration": 6,
    "start_time": "2022-10-14T09:16:50.225Z"
   },
   {
    "duration": 367,
    "start_time": "2022-10-14T09:16:50.233Z"
   },
   {
    "duration": 8,
    "start_time": "2022-10-14T09:16:50.602Z"
   },
   {
    "duration": 323,
    "start_time": "2022-10-14T09:16:50.612Z"
   },
   {
    "duration": 8,
    "start_time": "2022-10-14T09:16:50.938Z"
   },
   {
    "duration": 208,
    "start_time": "2022-10-14T09:16:50.948Z"
   },
   {
    "duration": 196,
    "start_time": "2022-10-14T09:16:51.159Z"
   },
   {
    "duration": 200,
    "start_time": "2022-10-14T09:16:51.357Z"
   },
   {
    "duration": 163,
    "start_time": "2022-10-14T09:16:51.559Z"
   },
   {
    "duration": 199,
    "start_time": "2022-10-14T09:16:51.725Z"
   },
   {
    "duration": 16,
    "start_time": "2022-10-14T09:16:51.927Z"
   },
   {
    "duration": 28,
    "start_time": "2022-10-14T09:16:51.945Z"
   },
   {
    "duration": 37,
    "start_time": "2022-10-14T09:16:51.976Z"
   },
   {
    "duration": 393,
    "start_time": "2022-10-14T09:16:52.015Z"
   },
   {
    "duration": 48,
    "start_time": "2022-10-14T09:16:52.411Z"
   },
   {
    "duration": 2440,
    "start_time": "2022-10-14T09:16:52.462Z"
   },
   {
    "duration": 2270,
    "start_time": "2022-10-14T09:16:54.904Z"
   },
   {
    "duration": 2367,
    "start_time": "2022-10-14T09:16:57.175Z"
   },
   {
    "duration": 2635,
    "start_time": "2022-10-14T09:16:59.544Z"
   },
   {
    "duration": 16,
    "start_time": "2022-10-14T09:17:02.181Z"
   },
   {
    "duration": 27,
    "start_time": "2022-10-14T09:17:02.198Z"
   },
   {
    "duration": 18,
    "start_time": "2022-10-14T09:17:02.227Z"
   },
   {
    "duration": 206,
    "start_time": "2022-10-14T09:17:02.247Z"
   },
   {
    "duration": 17,
    "start_time": "2022-10-14T09:18:14.420Z"
   },
   {
    "duration": 36,
    "start_time": "2022-10-14T09:18:36.611Z"
   },
   {
    "duration": 24,
    "start_time": "2022-10-14T09:19:17.835Z"
   },
   {
    "duration": 38,
    "start_time": "2022-10-14T09:19:36.739Z"
   },
   {
    "duration": 26,
    "start_time": "2022-10-14T09:20:30.940Z"
   },
   {
    "duration": 15,
    "start_time": "2022-10-14T09:21:16.308Z"
   }
  ],
  "kernelspec": {
   "display_name": "Python 3 (ipykernel)",
   "language": "python",
   "name": "python3"
  },
  "language_info": {
   "codemirror_mode": {
    "name": "ipython",
    "version": 3
   },
   "file_extension": ".py",
   "mimetype": "text/x-python",
   "name": "python",
   "nbconvert_exporter": "python",
   "pygments_lexer": "ipython3",
   "version": "3.9.5"
  },
  "toc": {
   "base_numbering": 1,
   "nav_menu": {},
   "number_sections": true,
   "sideBar": true,
   "skip_h1_title": true,
   "title_cell": "Table of Contents",
   "title_sidebar": "Contents",
   "toc_cell": false,
   "toc_position": {},
   "toc_section_display": true,
   "toc_window_display": false
  }
 },
 "nbformat": 4,
 "nbformat_minor": 2
}
